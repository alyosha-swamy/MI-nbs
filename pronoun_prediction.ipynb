{
  "nbformat": 4,
  "nbformat_minor": 0,
  "metadata": {
    "colab": {
      "provenance": [],
      "authorship_tag": "ABX9TyM6xbIH42Dp6wJzf9pGDOH+"
    },
    "kernelspec": {
      "name": "python3",
      "display_name": "Python 3"
    },
    "language_info": {
      "name": "python"
    },
    "accelerator": "GPU",
    "gpuClass": "standard",
    "widgets": {
      "application/vnd.jupyter.widget-state+json": {
        "2918ec5812fd414cb0bed7f14f72225f": {
          "model_module": "@jupyter-widgets/controls",
          "model_name": "HBoxModel",
          "model_module_version": "1.5.0",
          "state": {
            "_dom_classes": [],
            "_model_module": "@jupyter-widgets/controls",
            "_model_module_version": "1.5.0",
            "_model_name": "HBoxModel",
            "_view_count": null,
            "_view_module": "@jupyter-widgets/controls",
            "_view_module_version": "1.5.0",
            "_view_name": "HBoxView",
            "box_style": "",
            "children": [
              "IPY_MODEL_118d2a610e524b0590b643300d9211d1",
              "IPY_MODEL_95099792d8c84797905e703e946d1c3e",
              "IPY_MODEL_f3c248f242f64f71aa0eaa7a25c1cef2"
            ],
            "layout": "IPY_MODEL_2a31eecd98c14b039a815a402c3a68cc"
          }
        },
        "118d2a610e524b0590b643300d9211d1": {
          "model_module": "@jupyter-widgets/controls",
          "model_name": "HTMLModel",
          "model_module_version": "1.5.0",
          "state": {
            "_dom_classes": [],
            "_model_module": "@jupyter-widgets/controls",
            "_model_module_version": "1.5.0",
            "_model_name": "HTMLModel",
            "_view_count": null,
            "_view_module": "@jupyter-widgets/controls",
            "_view_module_version": "1.5.0",
            "_view_name": "HTMLView",
            "description": "",
            "description_tooltip": null,
            "layout": "IPY_MODEL_120d979221ac412eb8a472105f077cfe",
            "placeholder": "​",
            "style": "IPY_MODEL_5c547dbc0190444a9ef723909a1238f2",
            "value": "100%"
          }
        },
        "95099792d8c84797905e703e946d1c3e": {
          "model_module": "@jupyter-widgets/controls",
          "model_name": "FloatProgressModel",
          "model_module_version": "1.5.0",
          "state": {
            "_dom_classes": [],
            "_model_module": "@jupyter-widgets/controls",
            "_model_module_version": "1.5.0",
            "_model_name": "FloatProgressModel",
            "_view_count": null,
            "_view_module": "@jupyter-widgets/controls",
            "_view_module_version": "1.5.0",
            "_view_name": "ProgressView",
            "bar_style": "success",
            "description": "",
            "description_tooltip": null,
            "layout": "IPY_MODEL_bad2bc5842fa4c82ada4d475749db694",
            "max": 12,
            "min": 0,
            "orientation": "horizontal",
            "style": "IPY_MODEL_93d67880ad3d48f9b01c1b0eb4e297fe",
            "value": 12
          }
        },
        "f3c248f242f64f71aa0eaa7a25c1cef2": {
          "model_module": "@jupyter-widgets/controls",
          "model_name": "HTMLModel",
          "model_module_version": "1.5.0",
          "state": {
            "_dom_classes": [],
            "_model_module": "@jupyter-widgets/controls",
            "_model_module_version": "1.5.0",
            "_model_name": "HTMLModel",
            "_view_count": null,
            "_view_module": "@jupyter-widgets/controls",
            "_view_module_version": "1.5.0",
            "_view_name": "HTMLView",
            "description": "",
            "description_tooltip": null,
            "layout": "IPY_MODEL_04777bd744fb4eedaf8caa6f20329566",
            "placeholder": "​",
            "style": "IPY_MODEL_4d7b67713a374ee5a877006c2e81f216",
            "value": " 12/12 [00:11&lt;00:00,  1.37it/s]"
          }
        },
        "2a31eecd98c14b039a815a402c3a68cc": {
          "model_module": "@jupyter-widgets/base",
          "model_name": "LayoutModel",
          "model_module_version": "1.2.0",
          "state": {
            "_model_module": "@jupyter-widgets/base",
            "_model_module_version": "1.2.0",
            "_model_name": "LayoutModel",
            "_view_count": null,
            "_view_module": "@jupyter-widgets/base",
            "_view_module_version": "1.2.0",
            "_view_name": "LayoutView",
            "align_content": null,
            "align_items": null,
            "align_self": null,
            "border": null,
            "bottom": null,
            "display": null,
            "flex": null,
            "flex_flow": null,
            "grid_area": null,
            "grid_auto_columns": null,
            "grid_auto_flow": null,
            "grid_auto_rows": null,
            "grid_column": null,
            "grid_gap": null,
            "grid_row": null,
            "grid_template_areas": null,
            "grid_template_columns": null,
            "grid_template_rows": null,
            "height": null,
            "justify_content": null,
            "justify_items": null,
            "left": null,
            "margin": null,
            "max_height": null,
            "max_width": null,
            "min_height": null,
            "min_width": null,
            "object_fit": null,
            "object_position": null,
            "order": null,
            "overflow": null,
            "overflow_x": null,
            "overflow_y": null,
            "padding": null,
            "right": null,
            "top": null,
            "visibility": null,
            "width": null
          }
        },
        "120d979221ac412eb8a472105f077cfe": {
          "model_module": "@jupyter-widgets/base",
          "model_name": "LayoutModel",
          "model_module_version": "1.2.0",
          "state": {
            "_model_module": "@jupyter-widgets/base",
            "_model_module_version": "1.2.0",
            "_model_name": "LayoutModel",
            "_view_count": null,
            "_view_module": "@jupyter-widgets/base",
            "_view_module_version": "1.2.0",
            "_view_name": "LayoutView",
            "align_content": null,
            "align_items": null,
            "align_self": null,
            "border": null,
            "bottom": null,
            "display": null,
            "flex": null,
            "flex_flow": null,
            "grid_area": null,
            "grid_auto_columns": null,
            "grid_auto_flow": null,
            "grid_auto_rows": null,
            "grid_column": null,
            "grid_gap": null,
            "grid_row": null,
            "grid_template_areas": null,
            "grid_template_columns": null,
            "grid_template_rows": null,
            "height": null,
            "justify_content": null,
            "justify_items": null,
            "left": null,
            "margin": null,
            "max_height": null,
            "max_width": null,
            "min_height": null,
            "min_width": null,
            "object_fit": null,
            "object_position": null,
            "order": null,
            "overflow": null,
            "overflow_x": null,
            "overflow_y": null,
            "padding": null,
            "right": null,
            "top": null,
            "visibility": null,
            "width": null
          }
        },
        "5c547dbc0190444a9ef723909a1238f2": {
          "model_module": "@jupyter-widgets/controls",
          "model_name": "DescriptionStyleModel",
          "model_module_version": "1.5.0",
          "state": {
            "_model_module": "@jupyter-widgets/controls",
            "_model_module_version": "1.5.0",
            "_model_name": "DescriptionStyleModel",
            "_view_count": null,
            "_view_module": "@jupyter-widgets/base",
            "_view_module_version": "1.2.0",
            "_view_name": "StyleView",
            "description_width": ""
          }
        },
        "bad2bc5842fa4c82ada4d475749db694": {
          "model_module": "@jupyter-widgets/base",
          "model_name": "LayoutModel",
          "model_module_version": "1.2.0",
          "state": {
            "_model_module": "@jupyter-widgets/base",
            "_model_module_version": "1.2.0",
            "_model_name": "LayoutModel",
            "_view_count": null,
            "_view_module": "@jupyter-widgets/base",
            "_view_module_version": "1.2.0",
            "_view_name": "LayoutView",
            "align_content": null,
            "align_items": null,
            "align_self": null,
            "border": null,
            "bottom": null,
            "display": null,
            "flex": null,
            "flex_flow": null,
            "grid_area": null,
            "grid_auto_columns": null,
            "grid_auto_flow": null,
            "grid_auto_rows": null,
            "grid_column": null,
            "grid_gap": null,
            "grid_row": null,
            "grid_template_areas": null,
            "grid_template_columns": null,
            "grid_template_rows": null,
            "height": null,
            "justify_content": null,
            "justify_items": null,
            "left": null,
            "margin": null,
            "max_height": null,
            "max_width": null,
            "min_height": null,
            "min_width": null,
            "object_fit": null,
            "object_position": null,
            "order": null,
            "overflow": null,
            "overflow_x": null,
            "overflow_y": null,
            "padding": null,
            "right": null,
            "top": null,
            "visibility": null,
            "width": null
          }
        },
        "93d67880ad3d48f9b01c1b0eb4e297fe": {
          "model_module": "@jupyter-widgets/controls",
          "model_name": "ProgressStyleModel",
          "model_module_version": "1.5.0",
          "state": {
            "_model_module": "@jupyter-widgets/controls",
            "_model_module_version": "1.5.0",
            "_model_name": "ProgressStyleModel",
            "_view_count": null,
            "_view_module": "@jupyter-widgets/base",
            "_view_module_version": "1.2.0",
            "_view_name": "StyleView",
            "bar_color": null,
            "description_width": ""
          }
        },
        "04777bd744fb4eedaf8caa6f20329566": {
          "model_module": "@jupyter-widgets/base",
          "model_name": "LayoutModel",
          "model_module_version": "1.2.0",
          "state": {
            "_model_module": "@jupyter-widgets/base",
            "_model_module_version": "1.2.0",
            "_model_name": "LayoutModel",
            "_view_count": null,
            "_view_module": "@jupyter-widgets/base",
            "_view_module_version": "1.2.0",
            "_view_name": "LayoutView",
            "align_content": null,
            "align_items": null,
            "align_self": null,
            "border": null,
            "bottom": null,
            "display": null,
            "flex": null,
            "flex_flow": null,
            "grid_area": null,
            "grid_auto_columns": null,
            "grid_auto_flow": null,
            "grid_auto_rows": null,
            "grid_column": null,
            "grid_gap": null,
            "grid_row": null,
            "grid_template_areas": null,
            "grid_template_columns": null,
            "grid_template_rows": null,
            "height": null,
            "justify_content": null,
            "justify_items": null,
            "left": null,
            "margin": null,
            "max_height": null,
            "max_width": null,
            "min_height": null,
            "min_width": null,
            "object_fit": null,
            "object_position": null,
            "order": null,
            "overflow": null,
            "overflow_x": null,
            "overflow_y": null,
            "padding": null,
            "right": null,
            "top": null,
            "visibility": null,
            "width": null
          }
        },
        "4d7b67713a374ee5a877006c2e81f216": {
          "model_module": "@jupyter-widgets/controls",
          "model_name": "DescriptionStyleModel",
          "model_module_version": "1.5.0",
          "state": {
            "_model_module": "@jupyter-widgets/controls",
            "_model_module_version": "1.5.0",
            "_model_name": "DescriptionStyleModel",
            "_view_count": null,
            "_view_module": "@jupyter-widgets/base",
            "_view_module_version": "1.2.0",
            "_view_name": "StyleView",
            "description_width": ""
          }
        },
        "84c87f2e8035494e885d1a6d7077eacf": {
          "model_module": "@jupyter-widgets/controls",
          "model_name": "HBoxModel",
          "model_module_version": "1.5.0",
          "state": {
            "_dom_classes": [],
            "_model_module": "@jupyter-widgets/controls",
            "_model_module_version": "1.5.0",
            "_model_name": "HBoxModel",
            "_view_count": null,
            "_view_module": "@jupyter-widgets/controls",
            "_view_module_version": "1.5.0",
            "_view_name": "HBoxView",
            "box_style": "",
            "children": [
              "IPY_MODEL_626b37f9492a4c529861f876f833ef80",
              "IPY_MODEL_de6f4541f23b4a4fa30de69b17fdede5",
              "IPY_MODEL_c0c3539b8f614d85afed68e5f1431951"
            ],
            "layout": "IPY_MODEL_524987eb04974c94a4e86b6da506ed25"
          }
        },
        "626b37f9492a4c529861f876f833ef80": {
          "model_module": "@jupyter-widgets/controls",
          "model_name": "HTMLModel",
          "model_module_version": "1.5.0",
          "state": {
            "_dom_classes": [],
            "_model_module": "@jupyter-widgets/controls",
            "_model_module_version": "1.5.0",
            "_model_name": "HTMLModel",
            "_view_count": null,
            "_view_module": "@jupyter-widgets/controls",
            "_view_module_version": "1.5.0",
            "_view_name": "HTMLView",
            "description": "",
            "description_tooltip": null,
            "layout": "IPY_MODEL_aca0776ea72b41cb8dba9c7751e8c66a",
            "placeholder": "​",
            "style": "IPY_MODEL_4d4836b34f95495ba85627abcd8f60a2",
            "value": "100%"
          }
        },
        "de6f4541f23b4a4fa30de69b17fdede5": {
          "model_module": "@jupyter-widgets/controls",
          "model_name": "FloatProgressModel",
          "model_module_version": "1.5.0",
          "state": {
            "_dom_classes": [],
            "_model_module": "@jupyter-widgets/controls",
            "_model_module_version": "1.5.0",
            "_model_name": "FloatProgressModel",
            "_view_count": null,
            "_view_module": "@jupyter-widgets/controls",
            "_view_module_version": "1.5.0",
            "_view_name": "ProgressView",
            "bar_style": "success",
            "description": "",
            "description_tooltip": null,
            "layout": "IPY_MODEL_24abd56e494548ee9e83528d1cb82566",
            "max": 12,
            "min": 0,
            "orientation": "horizontal",
            "style": "IPY_MODEL_47d54da94e9b41ebb31313fe9276ce52",
            "value": 12
          }
        },
        "c0c3539b8f614d85afed68e5f1431951": {
          "model_module": "@jupyter-widgets/controls",
          "model_name": "HTMLModel",
          "model_module_version": "1.5.0",
          "state": {
            "_dom_classes": [],
            "_model_module": "@jupyter-widgets/controls",
            "_model_module_version": "1.5.0",
            "_model_name": "HTMLModel",
            "_view_count": null,
            "_view_module": "@jupyter-widgets/controls",
            "_view_module_version": "1.5.0",
            "_view_name": "HTMLView",
            "description": "",
            "description_tooltip": null,
            "layout": "IPY_MODEL_720f5cb36e2a41639a8058fe8db587a6",
            "placeholder": "​",
            "style": "IPY_MODEL_4543fb85ef9942fdb36fa91fd931302b",
            "value": " 12/12 [00:10&lt;00:00,  1.23it/s]"
          }
        },
        "524987eb04974c94a4e86b6da506ed25": {
          "model_module": "@jupyter-widgets/base",
          "model_name": "LayoutModel",
          "model_module_version": "1.2.0",
          "state": {
            "_model_module": "@jupyter-widgets/base",
            "_model_module_version": "1.2.0",
            "_model_name": "LayoutModel",
            "_view_count": null,
            "_view_module": "@jupyter-widgets/base",
            "_view_module_version": "1.2.0",
            "_view_name": "LayoutView",
            "align_content": null,
            "align_items": null,
            "align_self": null,
            "border": null,
            "bottom": null,
            "display": null,
            "flex": null,
            "flex_flow": null,
            "grid_area": null,
            "grid_auto_columns": null,
            "grid_auto_flow": null,
            "grid_auto_rows": null,
            "grid_column": null,
            "grid_gap": null,
            "grid_row": null,
            "grid_template_areas": null,
            "grid_template_columns": null,
            "grid_template_rows": null,
            "height": null,
            "justify_content": null,
            "justify_items": null,
            "left": null,
            "margin": null,
            "max_height": null,
            "max_width": null,
            "min_height": null,
            "min_width": null,
            "object_fit": null,
            "object_position": null,
            "order": null,
            "overflow": null,
            "overflow_x": null,
            "overflow_y": null,
            "padding": null,
            "right": null,
            "top": null,
            "visibility": null,
            "width": null
          }
        },
        "aca0776ea72b41cb8dba9c7751e8c66a": {
          "model_module": "@jupyter-widgets/base",
          "model_name": "LayoutModel",
          "model_module_version": "1.2.0",
          "state": {
            "_model_module": "@jupyter-widgets/base",
            "_model_module_version": "1.2.0",
            "_model_name": "LayoutModel",
            "_view_count": null,
            "_view_module": "@jupyter-widgets/base",
            "_view_module_version": "1.2.0",
            "_view_name": "LayoutView",
            "align_content": null,
            "align_items": null,
            "align_self": null,
            "border": null,
            "bottom": null,
            "display": null,
            "flex": null,
            "flex_flow": null,
            "grid_area": null,
            "grid_auto_columns": null,
            "grid_auto_flow": null,
            "grid_auto_rows": null,
            "grid_column": null,
            "grid_gap": null,
            "grid_row": null,
            "grid_template_areas": null,
            "grid_template_columns": null,
            "grid_template_rows": null,
            "height": null,
            "justify_content": null,
            "justify_items": null,
            "left": null,
            "margin": null,
            "max_height": null,
            "max_width": null,
            "min_height": null,
            "min_width": null,
            "object_fit": null,
            "object_position": null,
            "order": null,
            "overflow": null,
            "overflow_x": null,
            "overflow_y": null,
            "padding": null,
            "right": null,
            "top": null,
            "visibility": null,
            "width": null
          }
        },
        "4d4836b34f95495ba85627abcd8f60a2": {
          "model_module": "@jupyter-widgets/controls",
          "model_name": "DescriptionStyleModel",
          "model_module_version": "1.5.0",
          "state": {
            "_model_module": "@jupyter-widgets/controls",
            "_model_module_version": "1.5.0",
            "_model_name": "DescriptionStyleModel",
            "_view_count": null,
            "_view_module": "@jupyter-widgets/base",
            "_view_module_version": "1.2.0",
            "_view_name": "StyleView",
            "description_width": ""
          }
        },
        "24abd56e494548ee9e83528d1cb82566": {
          "model_module": "@jupyter-widgets/base",
          "model_name": "LayoutModel",
          "model_module_version": "1.2.0",
          "state": {
            "_model_module": "@jupyter-widgets/base",
            "_model_module_version": "1.2.0",
            "_model_name": "LayoutModel",
            "_view_count": null,
            "_view_module": "@jupyter-widgets/base",
            "_view_module_version": "1.2.0",
            "_view_name": "LayoutView",
            "align_content": null,
            "align_items": null,
            "align_self": null,
            "border": null,
            "bottom": null,
            "display": null,
            "flex": null,
            "flex_flow": null,
            "grid_area": null,
            "grid_auto_columns": null,
            "grid_auto_flow": null,
            "grid_auto_rows": null,
            "grid_column": null,
            "grid_gap": null,
            "grid_row": null,
            "grid_template_areas": null,
            "grid_template_columns": null,
            "grid_template_rows": null,
            "height": null,
            "justify_content": null,
            "justify_items": null,
            "left": null,
            "margin": null,
            "max_height": null,
            "max_width": null,
            "min_height": null,
            "min_width": null,
            "object_fit": null,
            "object_position": null,
            "order": null,
            "overflow": null,
            "overflow_x": null,
            "overflow_y": null,
            "padding": null,
            "right": null,
            "top": null,
            "visibility": null,
            "width": null
          }
        },
        "47d54da94e9b41ebb31313fe9276ce52": {
          "model_module": "@jupyter-widgets/controls",
          "model_name": "ProgressStyleModel",
          "model_module_version": "1.5.0",
          "state": {
            "_model_module": "@jupyter-widgets/controls",
            "_model_module_version": "1.5.0",
            "_model_name": "ProgressStyleModel",
            "_view_count": null,
            "_view_module": "@jupyter-widgets/base",
            "_view_module_version": "1.2.0",
            "_view_name": "StyleView",
            "bar_color": null,
            "description_width": ""
          }
        },
        "720f5cb36e2a41639a8058fe8db587a6": {
          "model_module": "@jupyter-widgets/base",
          "model_name": "LayoutModel",
          "model_module_version": "1.2.0",
          "state": {
            "_model_module": "@jupyter-widgets/base",
            "_model_module_version": "1.2.0",
            "_model_name": "LayoutModel",
            "_view_count": null,
            "_view_module": "@jupyter-widgets/base",
            "_view_module_version": "1.2.0",
            "_view_name": "LayoutView",
            "align_content": null,
            "align_items": null,
            "align_self": null,
            "border": null,
            "bottom": null,
            "display": null,
            "flex": null,
            "flex_flow": null,
            "grid_area": null,
            "grid_auto_columns": null,
            "grid_auto_flow": null,
            "grid_auto_rows": null,
            "grid_column": null,
            "grid_gap": null,
            "grid_row": null,
            "grid_template_areas": null,
            "grid_template_columns": null,
            "grid_template_rows": null,
            "height": null,
            "justify_content": null,
            "justify_items": null,
            "left": null,
            "margin": null,
            "max_height": null,
            "max_width": null,
            "min_height": null,
            "min_width": null,
            "object_fit": null,
            "object_position": null,
            "order": null,
            "overflow": null,
            "overflow_x": null,
            "overflow_y": null,
            "padding": null,
            "right": null,
            "top": null,
            "visibility": null,
            "width": null
          }
        },
        "4543fb85ef9942fdb36fa91fd931302b": {
          "model_module": "@jupyter-widgets/controls",
          "model_name": "DescriptionStyleModel",
          "model_module_version": "1.5.0",
          "state": {
            "_model_module": "@jupyter-widgets/controls",
            "_model_module_version": "1.5.0",
            "_model_name": "DescriptionStyleModel",
            "_view_count": null,
            "_view_module": "@jupyter-widgets/base",
            "_view_module_version": "1.2.0",
            "_view_name": "StyleView",
            "description_width": ""
          }
        },
        "c8d524e72dcb46d0a4cccb54dd04641a": {
          "model_module": "@jupyter-widgets/controls",
          "model_name": "HBoxModel",
          "model_module_version": "1.5.0",
          "state": {
            "_dom_classes": [],
            "_model_module": "@jupyter-widgets/controls",
            "_model_module_version": "1.5.0",
            "_model_name": "HBoxModel",
            "_view_count": null,
            "_view_module": "@jupyter-widgets/controls",
            "_view_module_version": "1.5.0",
            "_view_name": "HBoxView",
            "box_style": "",
            "children": [
              "IPY_MODEL_ee9d2a748c0a4deaaadb0dcb49d27251",
              "IPY_MODEL_6d91960a4ee04711bbd497c37503f39b",
              "IPY_MODEL_1ddc237dda09489ea8e941bdfaa03bd7"
            ],
            "layout": "IPY_MODEL_8c4d6f777d514cfda56c37f9a8d7946a"
          }
        },
        "ee9d2a748c0a4deaaadb0dcb49d27251": {
          "model_module": "@jupyter-widgets/controls",
          "model_name": "HTMLModel",
          "model_module_version": "1.5.0",
          "state": {
            "_dom_classes": [],
            "_model_module": "@jupyter-widgets/controls",
            "_model_module_version": "1.5.0",
            "_model_name": "HTMLModel",
            "_view_count": null,
            "_view_module": "@jupyter-widgets/controls",
            "_view_module_version": "1.5.0",
            "_view_name": "HTMLView",
            "description": "",
            "description_tooltip": null,
            "layout": "IPY_MODEL_82a0fbf5112f465aaf3ba534c9d7bdf0",
            "placeholder": "​",
            "style": "IPY_MODEL_d1ad56470f324ba593ca60dd3e61adb1",
            "value": "100%"
          }
        },
        "6d91960a4ee04711bbd497c37503f39b": {
          "model_module": "@jupyter-widgets/controls",
          "model_name": "FloatProgressModel",
          "model_module_version": "1.5.0",
          "state": {
            "_dom_classes": [],
            "_model_module": "@jupyter-widgets/controls",
            "_model_module_version": "1.5.0",
            "_model_name": "FloatProgressModel",
            "_view_count": null,
            "_view_module": "@jupyter-widgets/controls",
            "_view_module_version": "1.5.0",
            "_view_name": "ProgressView",
            "bar_style": "success",
            "description": "",
            "description_tooltip": null,
            "layout": "IPY_MODEL_7bcaafb343b44f0bbb7bf8acc583c652",
            "max": 12,
            "min": 0,
            "orientation": "horizontal",
            "style": "IPY_MODEL_aee3f59218b24d6f91701dc34f6eb0e8",
            "value": 12
          }
        },
        "1ddc237dda09489ea8e941bdfaa03bd7": {
          "model_module": "@jupyter-widgets/controls",
          "model_name": "HTMLModel",
          "model_module_version": "1.5.0",
          "state": {
            "_dom_classes": [],
            "_model_module": "@jupyter-widgets/controls",
            "_model_module_version": "1.5.0",
            "_model_name": "HTMLModel",
            "_view_count": null,
            "_view_module": "@jupyter-widgets/controls",
            "_view_module_version": "1.5.0",
            "_view_name": "HTMLView",
            "description": "",
            "description_tooltip": null,
            "layout": "IPY_MODEL_0b27ea30e39a424295a806183ac7d5b1",
            "placeholder": "​",
            "style": "IPY_MODEL_8b31213234cf47cc9ba87912da1c7f36",
            "value": " 12/12 [00:05&lt;00:00,  2.58it/s]"
          }
        },
        "8c4d6f777d514cfda56c37f9a8d7946a": {
          "model_module": "@jupyter-widgets/base",
          "model_name": "LayoutModel",
          "model_module_version": "1.2.0",
          "state": {
            "_model_module": "@jupyter-widgets/base",
            "_model_module_version": "1.2.0",
            "_model_name": "LayoutModel",
            "_view_count": null,
            "_view_module": "@jupyter-widgets/base",
            "_view_module_version": "1.2.0",
            "_view_name": "LayoutView",
            "align_content": null,
            "align_items": null,
            "align_self": null,
            "border": null,
            "bottom": null,
            "display": null,
            "flex": null,
            "flex_flow": null,
            "grid_area": null,
            "grid_auto_columns": null,
            "grid_auto_flow": null,
            "grid_auto_rows": null,
            "grid_column": null,
            "grid_gap": null,
            "grid_row": null,
            "grid_template_areas": null,
            "grid_template_columns": null,
            "grid_template_rows": null,
            "height": null,
            "justify_content": null,
            "justify_items": null,
            "left": null,
            "margin": null,
            "max_height": null,
            "max_width": null,
            "min_height": null,
            "min_width": null,
            "object_fit": null,
            "object_position": null,
            "order": null,
            "overflow": null,
            "overflow_x": null,
            "overflow_y": null,
            "padding": null,
            "right": null,
            "top": null,
            "visibility": null,
            "width": null
          }
        },
        "82a0fbf5112f465aaf3ba534c9d7bdf0": {
          "model_module": "@jupyter-widgets/base",
          "model_name": "LayoutModel",
          "model_module_version": "1.2.0",
          "state": {
            "_model_module": "@jupyter-widgets/base",
            "_model_module_version": "1.2.0",
            "_model_name": "LayoutModel",
            "_view_count": null,
            "_view_module": "@jupyter-widgets/base",
            "_view_module_version": "1.2.0",
            "_view_name": "LayoutView",
            "align_content": null,
            "align_items": null,
            "align_self": null,
            "border": null,
            "bottom": null,
            "display": null,
            "flex": null,
            "flex_flow": null,
            "grid_area": null,
            "grid_auto_columns": null,
            "grid_auto_flow": null,
            "grid_auto_rows": null,
            "grid_column": null,
            "grid_gap": null,
            "grid_row": null,
            "grid_template_areas": null,
            "grid_template_columns": null,
            "grid_template_rows": null,
            "height": null,
            "justify_content": null,
            "justify_items": null,
            "left": null,
            "margin": null,
            "max_height": null,
            "max_width": null,
            "min_height": null,
            "min_width": null,
            "object_fit": null,
            "object_position": null,
            "order": null,
            "overflow": null,
            "overflow_x": null,
            "overflow_y": null,
            "padding": null,
            "right": null,
            "top": null,
            "visibility": null,
            "width": null
          }
        },
        "d1ad56470f324ba593ca60dd3e61adb1": {
          "model_module": "@jupyter-widgets/controls",
          "model_name": "DescriptionStyleModel",
          "model_module_version": "1.5.0",
          "state": {
            "_model_module": "@jupyter-widgets/controls",
            "_model_module_version": "1.5.0",
            "_model_name": "DescriptionStyleModel",
            "_view_count": null,
            "_view_module": "@jupyter-widgets/base",
            "_view_module_version": "1.2.0",
            "_view_name": "StyleView",
            "description_width": ""
          }
        },
        "7bcaafb343b44f0bbb7bf8acc583c652": {
          "model_module": "@jupyter-widgets/base",
          "model_name": "LayoutModel",
          "model_module_version": "1.2.0",
          "state": {
            "_model_module": "@jupyter-widgets/base",
            "_model_module_version": "1.2.0",
            "_model_name": "LayoutModel",
            "_view_count": null,
            "_view_module": "@jupyter-widgets/base",
            "_view_module_version": "1.2.0",
            "_view_name": "LayoutView",
            "align_content": null,
            "align_items": null,
            "align_self": null,
            "border": null,
            "bottom": null,
            "display": null,
            "flex": null,
            "flex_flow": null,
            "grid_area": null,
            "grid_auto_columns": null,
            "grid_auto_flow": null,
            "grid_auto_rows": null,
            "grid_column": null,
            "grid_gap": null,
            "grid_row": null,
            "grid_template_areas": null,
            "grid_template_columns": null,
            "grid_template_rows": null,
            "height": null,
            "justify_content": null,
            "justify_items": null,
            "left": null,
            "margin": null,
            "max_height": null,
            "max_width": null,
            "min_height": null,
            "min_width": null,
            "object_fit": null,
            "object_position": null,
            "order": null,
            "overflow": null,
            "overflow_x": null,
            "overflow_y": null,
            "padding": null,
            "right": null,
            "top": null,
            "visibility": null,
            "width": null
          }
        },
        "aee3f59218b24d6f91701dc34f6eb0e8": {
          "model_module": "@jupyter-widgets/controls",
          "model_name": "ProgressStyleModel",
          "model_module_version": "1.5.0",
          "state": {
            "_model_module": "@jupyter-widgets/controls",
            "_model_module_version": "1.5.0",
            "_model_name": "ProgressStyleModel",
            "_view_count": null,
            "_view_module": "@jupyter-widgets/base",
            "_view_module_version": "1.2.0",
            "_view_name": "StyleView",
            "bar_color": null,
            "description_width": ""
          }
        },
        "0b27ea30e39a424295a806183ac7d5b1": {
          "model_module": "@jupyter-widgets/base",
          "model_name": "LayoutModel",
          "model_module_version": "1.2.0",
          "state": {
            "_model_module": "@jupyter-widgets/base",
            "_model_module_version": "1.2.0",
            "_model_name": "LayoutModel",
            "_view_count": null,
            "_view_module": "@jupyter-widgets/base",
            "_view_module_version": "1.2.0",
            "_view_name": "LayoutView",
            "align_content": null,
            "align_items": null,
            "align_self": null,
            "border": null,
            "bottom": null,
            "display": null,
            "flex": null,
            "flex_flow": null,
            "grid_area": null,
            "grid_auto_columns": null,
            "grid_auto_flow": null,
            "grid_auto_rows": null,
            "grid_column": null,
            "grid_gap": null,
            "grid_row": null,
            "grid_template_areas": null,
            "grid_template_columns": null,
            "grid_template_rows": null,
            "height": null,
            "justify_content": null,
            "justify_items": null,
            "left": null,
            "margin": null,
            "max_height": null,
            "max_width": null,
            "min_height": null,
            "min_width": null,
            "object_fit": null,
            "object_position": null,
            "order": null,
            "overflow": null,
            "overflow_x": null,
            "overflow_y": null,
            "padding": null,
            "right": null,
            "top": null,
            "visibility": null,
            "width": null
          }
        },
        "8b31213234cf47cc9ba87912da1c7f36": {
          "model_module": "@jupyter-widgets/controls",
          "model_name": "DescriptionStyleModel",
          "model_module_version": "1.5.0",
          "state": {
            "_model_module": "@jupyter-widgets/controls",
            "_model_module_version": "1.5.0",
            "_model_name": "DescriptionStyleModel",
            "_view_count": null,
            "_view_module": "@jupyter-widgets/base",
            "_view_module_version": "1.2.0",
            "_view_name": "StyleView",
            "description_width": ""
          }
        }
      }
    }
  },
  "cells": [
    {
      "cell_type": "markdown",
      "source": [
        "### summarising key findings with a bunch of graphs!"
      ],
      "metadata": {
        "id": "H5CFTaECkxts"
      }
    },
    {
      "cell_type": "markdown",
      "source": [
        "Problem:\n",
        "\n",
        "Choosing the right pronouns (e.g. he vs she vs it vs they)\n",
        "\n",
        "A good setup is a rhetorical question (so it doesn’t spoil the answer!) like “Lina is a great friend, isn’t” (h/t Marius Hobbhahn)"
      ],
      "metadata": {
        "id": "WkjiVJpl1ini"
      }
    },
    {
      "cell_type": "markdown",
      "source": [
        "### Setup"
      ],
      "metadata": {
        "id": "flCwnX-M4TBn"
      }
    },
    {
      "cell_type": "code",
      "source": [
        "# Janky code to do different setup when run in a Colab notebook vs VSCode\n",
        "DEBUG_MODE = False\n",
        "try:\n",
        "    import google.colab\n",
        "    IN_COLAB = True\n",
        "    print(\"Running as a Colab notebook\")\n",
        "    %pip install git+https://github.com/neelnanda-io/TransformerLens.git\n",
        "    %pip install circuitsvis\n",
        "    \n",
        "    # PySvelte is an unmaintained visualization library, use it as a backup if circuitsvis isn't working\n",
        "    # Install another version of node that makes PySvelte work way faster\n",
        "    !curl -fsSL https://deb.nodesource.com/setup_16.x | sudo -E bash -; sudo apt-get install -y nodejs\n",
        "    %pip install git+https://github.com/neelnanda-io/PySvelte.git\n",
        "except:\n",
        "    IN_COLAB = False\n",
        "    print(\"Running as a Jupyter notebook - intended for development only!\")\n",
        "    from IPython import get_ipython\n",
        "\n",
        "    ipython = get_ipython()\n",
        "    # Code to automatically update the HookedTransformer code as its edited without restarting the kernel\n",
        "    ipython.magic(\"load_ext autoreload\")\n",
        "    ipython.magic(\"autoreload 2\")"
      ],
      "metadata": {
        "id": "O3AODZVK0KR0",
        "outputId": "96662961-c661-442b-90b5-e71530088fc4",
        "colab": {
          "base_uri": "https://localhost:8080/"
        }
      },
      "execution_count": 1,
      "outputs": [
        {
          "output_type": "stream",
          "name": "stdout",
          "text": [
            "Running as a Colab notebook\n",
            "Looking in indexes: https://pypi.org/simple, https://us-python.pkg.dev/colab-wheels/public/simple/\n",
            "Collecting git+https://github.com/neelnanda-io/TransformerLens.git\n",
            "  Cloning https://github.com/neelnanda-io/TransformerLens.git to /tmp/pip-req-build-v34kbk6l\n",
            "  Running command git clone --filter=blob:none --quiet https://github.com/neelnanda-io/TransformerLens.git /tmp/pip-req-build-v34kbk6l\n",
            "  Resolved https://github.com/neelnanda-io/TransformerLens.git to commit 3b301225e2446d5777dc4962e59355e0cae12007\n",
            "  Installing build dependencies ... \u001b[?25l\u001b[?25hdone\n",
            "  Getting requirements to build wheel ... \u001b[?25l\u001b[?25hdone\n",
            "  Preparing metadata (pyproject.toml) ... \u001b[?25l\u001b[?25hdone\n",
            "Requirement already satisfied: rich>=12.6.0 in /usr/local/lib/python3.9/dist-packages (from transformer-lens==0.0.0) (13.3.4)\n",
            "Requirement already satisfied: fancy-einsum>=0.0.3 in /usr/local/lib/python3.9/dist-packages (from transformer-lens==0.0.0) (0.0.3)\n",
            "Requirement already satisfied: tqdm>=4.64.1 in /usr/local/lib/python3.9/dist-packages (from transformer-lens==0.0.0) (4.65.0)\n",
            "Requirement already satisfied: datasets>=2.7.1 in /usr/local/lib/python3.9/dist-packages (from transformer-lens==0.0.0) (2.11.0)\n",
            "Requirement already satisfied: transformers>=4.25.1 in /usr/local/lib/python3.9/dist-packages (from transformer-lens==0.0.0) (4.28.1)\n",
            "Requirement already satisfied: numpy>=1.21 in /usr/local/lib/python3.9/dist-packages (from transformer-lens==0.0.0) (1.22.4)\n",
            "Requirement already satisfied: wandb>=0.13.5 in /usr/local/lib/python3.9/dist-packages (from transformer-lens==0.0.0) (0.15.0)\n",
            "Requirement already satisfied: einops>=0.6.0 in /usr/local/lib/python3.9/dist-packages (from transformer-lens==0.0.0) (0.6.1)\n",
            "Requirement already satisfied: pandas>=1.1.5 in /usr/local/lib/python3.9/dist-packages (from transformer-lens==0.0.0) (1.5.3)\n",
            "Requirement already satisfied: torch>=1.10 in /usr/local/lib/python3.9/dist-packages (from transformer-lens==0.0.0) (1.13.1)\n",
            "Requirement already satisfied: jaxtyping>=0.2.11 in /usr/local/lib/python3.9/dist-packages (from transformer-lens==0.0.0) (0.2.15)\n",
            "Requirement already satisfied: dill<0.3.7,>=0.3.0 in /usr/local/lib/python3.9/dist-packages (from datasets>=2.7.1->transformer-lens==0.0.0) (0.3.6)\n",
            "Requirement already satisfied: packaging in /usr/local/lib/python3.9/dist-packages (from datasets>=2.7.1->transformer-lens==0.0.0) (23.1)\n",
            "Requirement already satisfied: pyarrow>=8.0.0 in /usr/local/lib/python3.9/dist-packages (from datasets>=2.7.1->transformer-lens==0.0.0) (9.0.0)\n",
            "Requirement already satisfied: fsspec[http]>=2021.11.1 in /usr/local/lib/python3.9/dist-packages (from datasets>=2.7.1->transformer-lens==0.0.0) (2023.4.0)\n",
            "Requirement already satisfied: aiohttp in /usr/local/lib/python3.9/dist-packages (from datasets>=2.7.1->transformer-lens==0.0.0) (3.8.4)\n",
            "Requirement already satisfied: requests>=2.19.0 in /usr/local/lib/python3.9/dist-packages (from datasets>=2.7.1->transformer-lens==0.0.0) (2.27.1)\n",
            "Requirement already satisfied: xxhash in /usr/local/lib/python3.9/dist-packages (from datasets>=2.7.1->transformer-lens==0.0.0) (3.2.0)\n",
            "Requirement already satisfied: huggingface-hub<1.0.0,>=0.11.0 in /usr/local/lib/python3.9/dist-packages (from datasets>=2.7.1->transformer-lens==0.0.0) (0.13.4)\n",
            "Requirement already satisfied: responses<0.19 in /usr/local/lib/python3.9/dist-packages (from datasets>=2.7.1->transformer-lens==0.0.0) (0.18.0)\n",
            "Requirement already satisfied: pyyaml>=5.1 in /usr/local/lib/python3.9/dist-packages (from datasets>=2.7.1->transformer-lens==0.0.0) (6.0)\n",
            "Requirement already satisfied: multiprocess in /usr/local/lib/python3.9/dist-packages (from datasets>=2.7.1->transformer-lens==0.0.0) (0.70.14)\n",
            "Requirement already satisfied: typing-extensions>=3.7.4.1 in /usr/local/lib/python3.9/dist-packages (from jaxtyping>=0.2.11->transformer-lens==0.0.0) (4.5.0)\n",
            "Requirement already satisfied: typeguard>=2.13.3 in /usr/local/lib/python3.9/dist-packages (from jaxtyping>=0.2.11->transformer-lens==0.0.0) (2.13.3)\n",
            "Requirement already satisfied: pytz>=2020.1 in /usr/local/lib/python3.9/dist-packages (from pandas>=1.1.5->transformer-lens==0.0.0) (2022.7.1)\n",
            "Requirement already satisfied: python-dateutil>=2.8.1 in /usr/local/lib/python3.9/dist-packages (from pandas>=1.1.5->transformer-lens==0.0.0) (2.8.2)\n",
            "Requirement already satisfied: pygments<3.0.0,>=2.13.0 in /usr/local/lib/python3.9/dist-packages (from rich>=12.6.0->transformer-lens==0.0.0) (2.14.0)\n",
            "Requirement already satisfied: markdown-it-py<3.0.0,>=2.2.0 in /usr/local/lib/python3.9/dist-packages (from rich>=12.6.0->transformer-lens==0.0.0) (2.2.0)\n",
            "Requirement already satisfied: nvidia-cuda-nvrtc-cu11==11.7.99 in /usr/local/lib/python3.9/dist-packages (from torch>=1.10->transformer-lens==0.0.0) (11.7.99)\n",
            "Requirement already satisfied: nvidia-cuda-runtime-cu11==11.7.99 in /usr/local/lib/python3.9/dist-packages (from torch>=1.10->transformer-lens==0.0.0) (11.7.99)\n",
            "Requirement already satisfied: nvidia-cudnn-cu11==8.5.0.96 in /usr/local/lib/python3.9/dist-packages (from torch>=1.10->transformer-lens==0.0.0) (8.5.0.96)\n",
            "Requirement already satisfied: nvidia-cublas-cu11==11.10.3.66 in /usr/local/lib/python3.9/dist-packages (from torch>=1.10->transformer-lens==0.0.0) (11.10.3.66)\n",
            "Requirement already satisfied: setuptools in /usr/local/lib/python3.9/dist-packages (from nvidia-cublas-cu11==11.10.3.66->torch>=1.10->transformer-lens==0.0.0) (67.6.1)\n",
            "Requirement already satisfied: wheel in /usr/local/lib/python3.9/dist-packages (from nvidia-cublas-cu11==11.10.3.66->torch>=1.10->transformer-lens==0.0.0) (0.40.0)\n",
            "Requirement already satisfied: tokenizers!=0.11.3,<0.14,>=0.11.1 in /usr/local/lib/python3.9/dist-packages (from transformers>=4.25.1->transformer-lens==0.0.0) (0.13.3)\n",
            "Requirement already satisfied: filelock in /usr/local/lib/python3.9/dist-packages (from transformers>=4.25.1->transformer-lens==0.0.0) (3.11.0)\n",
            "Requirement already satisfied: regex!=2019.12.17 in /usr/local/lib/python3.9/dist-packages (from transformers>=4.25.1->transformer-lens==0.0.0) (2022.10.31)\n",
            "Requirement already satisfied: appdirs>=1.4.3 in /usr/local/lib/python3.9/dist-packages (from wandb>=0.13.5->transformer-lens==0.0.0) (1.4.4)\n",
            "Requirement already satisfied: protobuf!=4.21.0,<5,>=3.15.0 in /usr/local/lib/python3.9/dist-packages (from wandb>=0.13.5->transformer-lens==0.0.0) (3.20.3)\n",
            "Requirement already satisfied: pathtools in /usr/local/lib/python3.9/dist-packages (from wandb>=0.13.5->transformer-lens==0.0.0) (0.1.2)\n",
            "Requirement already satisfied: docker-pycreds>=0.4.0 in /usr/local/lib/python3.9/dist-packages (from wandb>=0.13.5->transformer-lens==0.0.0) (0.4.0)\n",
            "Requirement already satisfied: setproctitle in /usr/local/lib/python3.9/dist-packages (from wandb>=0.13.5->transformer-lens==0.0.0) (1.3.2)\n",
            "Requirement already satisfied: sentry-sdk>=1.0.0 in /usr/local/lib/python3.9/dist-packages (from wandb>=0.13.5->transformer-lens==0.0.0) (1.20.0)\n",
            "Requirement already satisfied: GitPython!=3.1.29,>=1.0.0 in /usr/local/lib/python3.9/dist-packages (from wandb>=0.13.5->transformer-lens==0.0.0) (3.1.31)\n",
            "Requirement already satisfied: psutil>=5.0.0 in /usr/local/lib/python3.9/dist-packages (from wandb>=0.13.5->transformer-lens==0.0.0) (5.9.5)\n",
            "Requirement already satisfied: Click!=8.0.0,>=7.0 in /usr/local/lib/python3.9/dist-packages (from wandb>=0.13.5->transformer-lens==0.0.0) (8.1.3)\n",
            "Requirement already satisfied: six>=1.4.0 in /usr/local/lib/python3.9/dist-packages (from docker-pycreds>=0.4.0->wandb>=0.13.5->transformer-lens==0.0.0) (1.16.0)\n",
            "Requirement already satisfied: charset-normalizer<4.0,>=2.0 in /usr/local/lib/python3.9/dist-packages (from aiohttp->datasets>=2.7.1->transformer-lens==0.0.0) (2.0.12)\n",
            "Requirement already satisfied: async-timeout<5.0,>=4.0.0a3 in /usr/local/lib/python3.9/dist-packages (from aiohttp->datasets>=2.7.1->transformer-lens==0.0.0) (4.0.2)\n",
            "Requirement already satisfied: attrs>=17.3.0 in /usr/local/lib/python3.9/dist-packages (from aiohttp->datasets>=2.7.1->transformer-lens==0.0.0) (23.1.0)\n",
            "Requirement already satisfied: yarl<2.0,>=1.0 in /usr/local/lib/python3.9/dist-packages (from aiohttp->datasets>=2.7.1->transformer-lens==0.0.0) (1.9.1)\n",
            "Requirement already satisfied: aiosignal>=1.1.2 in /usr/local/lib/python3.9/dist-packages (from aiohttp->datasets>=2.7.1->transformer-lens==0.0.0) (1.3.1)\n",
            "Requirement already satisfied: multidict<7.0,>=4.5 in /usr/local/lib/python3.9/dist-packages (from aiohttp->datasets>=2.7.1->transformer-lens==0.0.0) (6.0.4)\n",
            "Requirement already satisfied: frozenlist>=1.1.1 in /usr/local/lib/python3.9/dist-packages (from aiohttp->datasets>=2.7.1->transformer-lens==0.0.0) (1.3.3)\n",
            "Requirement already satisfied: gitdb<5,>=4.0.1 in /usr/local/lib/python3.9/dist-packages (from GitPython!=3.1.29,>=1.0.0->wandb>=0.13.5->transformer-lens==0.0.0) (4.0.10)\n",
            "Requirement already satisfied: mdurl~=0.1 in /usr/local/lib/python3.9/dist-packages (from markdown-it-py<3.0.0,>=2.2.0->rich>=12.6.0->transformer-lens==0.0.0) (0.1.2)\n",
            "Requirement already satisfied: certifi>=2017.4.17 in /usr/local/lib/python3.9/dist-packages (from requests>=2.19.0->datasets>=2.7.1->transformer-lens==0.0.0) (2022.12.7)\n",
            "Requirement already satisfied: urllib3<1.27,>=1.21.1 in /usr/local/lib/python3.9/dist-packages (from requests>=2.19.0->datasets>=2.7.1->transformer-lens==0.0.0) (1.26.15)\n",
            "Requirement already satisfied: idna<4,>=2.5 in /usr/local/lib/python3.9/dist-packages (from requests>=2.19.0->datasets>=2.7.1->transformer-lens==0.0.0) (3.4)\n",
            "Requirement already satisfied: smmap<6,>=3.0.1 in /usr/local/lib/python3.9/dist-packages (from gitdb<5,>=4.0.1->GitPython!=3.1.29,>=1.0.0->wandb>=0.13.5->transformer-lens==0.0.0) (5.0.0)\n",
            "Looking in indexes: https://pypi.org/simple, https://us-python.pkg.dev/colab-wheels/public/simple/\n",
            "Requirement already satisfied: circuitsvis in /usr/local/lib/python3.9/dist-packages (1.39.1)\n",
            "Requirement already satisfied: torch<2.0,>=1.10 in /usr/local/lib/python3.9/dist-packages (from circuitsvis) (1.13.1)\n",
            "Requirement already satisfied: importlib-metadata<6.0.0,>=5.1.0 in /usr/local/lib/python3.9/dist-packages (from circuitsvis) (5.2.0)\n",
            "Requirement already satisfied: numpy<2.0,>=1.21 in /usr/local/lib/python3.9/dist-packages (from circuitsvis) (1.22.4)\n",
            "Requirement already satisfied: zipp>=0.5 in /usr/local/lib/python3.9/dist-packages (from importlib-metadata<6.0.0,>=5.1.0->circuitsvis) (3.15.0)\n",
            "Requirement already satisfied: nvidia-cuda-runtime-cu11==11.7.99 in /usr/local/lib/python3.9/dist-packages (from torch<2.0,>=1.10->circuitsvis) (11.7.99)\n",
            "Requirement already satisfied: nvidia-cublas-cu11==11.10.3.66 in /usr/local/lib/python3.9/dist-packages (from torch<2.0,>=1.10->circuitsvis) (11.10.3.66)\n",
            "Requirement already satisfied: typing-extensions in /usr/local/lib/python3.9/dist-packages (from torch<2.0,>=1.10->circuitsvis) (4.5.0)\n",
            "Requirement already satisfied: nvidia-cudnn-cu11==8.5.0.96 in /usr/local/lib/python3.9/dist-packages (from torch<2.0,>=1.10->circuitsvis) (8.5.0.96)\n",
            "Requirement already satisfied: nvidia-cuda-nvrtc-cu11==11.7.99 in /usr/local/lib/python3.9/dist-packages (from torch<2.0,>=1.10->circuitsvis) (11.7.99)\n",
            "Requirement already satisfied: wheel in /usr/local/lib/python3.9/dist-packages (from nvidia-cublas-cu11==11.10.3.66->torch<2.0,>=1.10->circuitsvis) (0.40.0)\n",
            "Requirement already satisfied: setuptools in /usr/local/lib/python3.9/dist-packages (from nvidia-cublas-cu11==11.10.3.66->torch<2.0,>=1.10->circuitsvis) (67.6.1)\n",
            "\n",
            "## Installing the NodeSource Node.js 16.x repo...\n",
            "\n",
            "\n",
            "## Populating apt-get cache...\n",
            "\n",
            "+ apt-get update\n",
            "Hit:1 http://security.ubuntu.com/ubuntu focal-security InRelease\n",
            "Hit:2 http://ppa.launchpad.net/c2d4u.team/c2d4u4.0+/ubuntu focal InRelease\n",
            "Hit:3 https://cloud.r-project.org/bin/linux/ubuntu focal-cran40/ InRelease\n",
            "Hit:4 http://ppa.launchpad.net/cran/libgit2/ubuntu focal InRelease\n",
            "Hit:5 http://ppa.launchpad.net/deadsnakes/ppa/ubuntu focal InRelease\n",
            "Hit:6 https://deb.nodesource.com/node_16.x focal InRelease\n",
            "Hit:7 http://ppa.launchpad.net/graphics-drivers/ppa/ubuntu focal InRelease\n",
            "Hit:8 https://developer.download.nvidia.com/compute/cuda/repos/ubuntu2004/x86_64  InRelease\n",
            "Hit:9 http://ppa.launchpad.net/ubuntugis/ppa/ubuntu focal InRelease\n",
            "Hit:10 http://archive.ubuntu.com/ubuntu focal InRelease\n",
            "Hit:11 http://archive.ubuntu.com/ubuntu focal-updates InRelease\n",
            "Hit:12 http://archive.ubuntu.com/ubuntu focal-backports InRelease\n",
            "Reading package lists... Done\n",
            "\n",
            "## Confirming \"focal\" is supported...\n",
            "\n",
            "+ curl -sLf -o /dev/null 'https://deb.nodesource.com/node_16.x/dists/focal/Release'\n",
            "\n",
            "## Adding the NodeSource signing key to your keyring...\n",
            "\n",
            "+ curl -s https://deb.nodesource.com/gpgkey/nodesource.gpg.key | gpg --dearmor | tee /usr/share/keyrings/nodesource.gpg >/dev/null\n",
            "\n",
            "## Creating apt sources list file for the NodeSource Node.js 16.x repo...\n",
            "\n",
            "+ echo 'deb [signed-by=/usr/share/keyrings/nodesource.gpg] https://deb.nodesource.com/node_16.x focal main' > /etc/apt/sources.list.d/nodesource.list\n",
            "+ echo 'deb-src [signed-by=/usr/share/keyrings/nodesource.gpg] https://deb.nodesource.com/node_16.x focal main' >> /etc/apt/sources.list.d/nodesource.list\n",
            "\n",
            "## Running `apt-get update` for you...\n",
            "\n",
            "+ apt-get update\n",
            "Hit:1 http://security.ubuntu.com/ubuntu focal-security InRelease\n",
            "Hit:2 http://ppa.launchpad.net/c2d4u.team/c2d4u4.0+/ubuntu focal InRelease\n",
            "Hit:3 https://cloud.r-project.org/bin/linux/ubuntu focal-cran40/ InRelease\n",
            "Hit:4 http://ppa.launchpad.net/cran/libgit2/ubuntu focal InRelease\n",
            "Hit:5 http://ppa.launchpad.net/deadsnakes/ppa/ubuntu focal InRelease\n",
            "Hit:6 https://deb.nodesource.com/node_16.x focal InRelease\n",
            "Hit:7 https://developer.download.nvidia.com/compute/cuda/repos/ubuntu2004/x86_64  InRelease\n",
            "Hit:8 http://ppa.launchpad.net/graphics-drivers/ppa/ubuntu focal InRelease\n",
            "Hit:9 http://ppa.launchpad.net/ubuntugis/ppa/ubuntu focal InRelease\n",
            "Hit:10 http://archive.ubuntu.com/ubuntu focal InRelease\n",
            "Hit:11 http://archive.ubuntu.com/ubuntu focal-updates InRelease\n",
            "Hit:12 http://archive.ubuntu.com/ubuntu focal-backports InRelease\n",
            "Reading package lists... Done\n",
            "\n",
            "## Run `\u001b[1msudo apt-get install -y nodejs\u001b[m` to install Node.js 16.x and npm\n",
            "## You may also need development tools to build native addons:\n",
            "     sudo apt-get install gcc g++ make\n",
            "## To install the Yarn package manager, run:\n",
            "     curl -sL https://dl.yarnpkg.com/debian/pubkey.gpg | gpg --dearmor | sudo tee /usr/share/keyrings/yarnkey.gpg >/dev/null\n",
            "     echo \"deb [signed-by=/usr/share/keyrings/yarnkey.gpg] https://dl.yarnpkg.com/debian stable main\" | sudo tee /etc/apt/sources.list.d/yarn.list\n",
            "     sudo apt-get update && sudo apt-get install yarn\n",
            "\n",
            "\n",
            "Reading package lists... Done\n",
            "Building dependency tree       \n",
            "Reading state information... Done\n",
            "nodejs is already the newest version (16.20.0-deb-1nodesource1).\n",
            "0 upgraded, 0 newly installed, 0 to remove and 26 not upgraded.\n",
            "Looking in indexes: https://pypi.org/simple, https://us-python.pkg.dev/colab-wheels/public/simple/\n",
            "Collecting git+https://github.com/neelnanda-io/PySvelte.git\n",
            "  Cloning https://github.com/neelnanda-io/PySvelte.git to /tmp/pip-req-build-u3dgsyjb\n",
            "  Running command git clone --filter=blob:none --quiet https://github.com/neelnanda-io/PySvelte.git /tmp/pip-req-build-u3dgsyjb\n",
            "  Resolved https://github.com/neelnanda-io/PySvelte.git to commit 8410eae58503df0a293857a61a1a11ca35f86525\n",
            "  Preparing metadata (setup.py) ... \u001b[?25l\u001b[?25hdone\n",
            "Requirement already satisfied: einops in /usr/local/lib/python3.9/dist-packages (from PySvelte==1.0.0) (0.6.1)\n",
            "Requirement already satisfied: numpy in /usr/local/lib/python3.9/dist-packages (from PySvelte==1.0.0) (1.22.4)\n",
            "Requirement already satisfied: torch in /usr/local/lib/python3.9/dist-packages (from PySvelte==1.0.0) (1.13.1)\n",
            "Requirement already satisfied: datasets in /usr/local/lib/python3.9/dist-packages (from PySvelte==1.0.0) (2.11.0)\n",
            "Requirement already satisfied: transformers in /usr/local/lib/python3.9/dist-packages (from PySvelte==1.0.0) (4.28.1)\n",
            "Requirement already satisfied: tqdm in /usr/local/lib/python3.9/dist-packages (from PySvelte==1.0.0) (4.65.0)\n",
            "Requirement already satisfied: pandas in /usr/local/lib/python3.9/dist-packages (from PySvelte==1.0.0) (1.5.3)\n",
            "Requirement already satisfied: typeguard~=2.0 in /usr/local/lib/python3.9/dist-packages (from PySvelte==1.0.0) (2.13.3)\n",
            "Requirement already satisfied: huggingface-hub<1.0.0,>=0.11.0 in /usr/local/lib/python3.9/dist-packages (from datasets->PySvelte==1.0.0) (0.13.4)\n",
            "Requirement already satisfied: pyarrow>=8.0.0 in /usr/local/lib/python3.9/dist-packages (from datasets->PySvelte==1.0.0) (9.0.0)\n",
            "Requirement already satisfied: xxhash in /usr/local/lib/python3.9/dist-packages (from datasets->PySvelte==1.0.0) (3.2.0)\n",
            "Requirement already satisfied: multiprocess in /usr/local/lib/python3.9/dist-packages (from datasets->PySvelte==1.0.0) (0.70.14)\n",
            "Requirement already satisfied: requests>=2.19.0 in /usr/local/lib/python3.9/dist-packages (from datasets->PySvelte==1.0.0) (2.27.1)\n",
            "Requirement already satisfied: fsspec[http]>=2021.11.1 in /usr/local/lib/python3.9/dist-packages (from datasets->PySvelte==1.0.0) (2023.4.0)\n",
            "Requirement already satisfied: responses<0.19 in /usr/local/lib/python3.9/dist-packages (from datasets->PySvelte==1.0.0) (0.18.0)\n",
            "Requirement already satisfied: aiohttp in /usr/local/lib/python3.9/dist-packages (from datasets->PySvelte==1.0.0) (3.8.4)\n",
            "Requirement already satisfied: packaging in /usr/local/lib/python3.9/dist-packages (from datasets->PySvelte==1.0.0) (23.1)\n",
            "Requirement already satisfied: dill<0.3.7,>=0.3.0 in /usr/local/lib/python3.9/dist-packages (from datasets->PySvelte==1.0.0) (0.3.6)\n",
            "Requirement already satisfied: pyyaml>=5.1 in /usr/local/lib/python3.9/dist-packages (from datasets->PySvelte==1.0.0) (6.0)\n",
            "Requirement already satisfied: python-dateutil>=2.8.1 in /usr/local/lib/python3.9/dist-packages (from pandas->PySvelte==1.0.0) (2.8.2)\n",
            "Requirement already satisfied: pytz>=2020.1 in /usr/local/lib/python3.9/dist-packages (from pandas->PySvelte==1.0.0) (2022.7.1)\n",
            "Requirement already satisfied: nvidia-cuda-nvrtc-cu11==11.7.99 in /usr/local/lib/python3.9/dist-packages (from torch->PySvelte==1.0.0) (11.7.99)\n",
            "Requirement already satisfied: nvidia-cublas-cu11==11.10.3.66 in /usr/local/lib/python3.9/dist-packages (from torch->PySvelte==1.0.0) (11.10.3.66)\n",
            "Requirement already satisfied: nvidia-cudnn-cu11==8.5.0.96 in /usr/local/lib/python3.9/dist-packages (from torch->PySvelte==1.0.0) (8.5.0.96)\n",
            "Requirement already satisfied: nvidia-cuda-runtime-cu11==11.7.99 in /usr/local/lib/python3.9/dist-packages (from torch->PySvelte==1.0.0) (11.7.99)\n",
            "Requirement already satisfied: typing-extensions in /usr/local/lib/python3.9/dist-packages (from torch->PySvelte==1.0.0) (4.5.0)\n",
            "Requirement already satisfied: setuptools in /usr/local/lib/python3.9/dist-packages (from nvidia-cublas-cu11==11.10.3.66->torch->PySvelte==1.0.0) (67.6.1)\n",
            "Requirement already satisfied: wheel in /usr/local/lib/python3.9/dist-packages (from nvidia-cublas-cu11==11.10.3.66->torch->PySvelte==1.0.0) (0.40.0)\n",
            "Requirement already satisfied: tokenizers!=0.11.3,<0.14,>=0.11.1 in /usr/local/lib/python3.9/dist-packages (from transformers->PySvelte==1.0.0) (0.13.3)\n",
            "Requirement already satisfied: regex!=2019.12.17 in /usr/local/lib/python3.9/dist-packages (from transformers->PySvelte==1.0.0) (2022.10.31)\n",
            "Requirement already satisfied: filelock in /usr/local/lib/python3.9/dist-packages (from transformers->PySvelte==1.0.0) (3.11.0)\n",
            "Requirement already satisfied: attrs>=17.3.0 in /usr/local/lib/python3.9/dist-packages (from aiohttp->datasets->PySvelte==1.0.0) (23.1.0)\n",
            "Requirement already satisfied: yarl<2.0,>=1.0 in /usr/local/lib/python3.9/dist-packages (from aiohttp->datasets->PySvelte==1.0.0) (1.9.1)\n",
            "Requirement already satisfied: multidict<7.0,>=4.5 in /usr/local/lib/python3.9/dist-packages (from aiohttp->datasets->PySvelte==1.0.0) (6.0.4)\n",
            "Requirement already satisfied: aiosignal>=1.1.2 in /usr/local/lib/python3.9/dist-packages (from aiohttp->datasets->PySvelte==1.0.0) (1.3.1)\n",
            "Requirement already satisfied: async-timeout<5.0,>=4.0.0a3 in /usr/local/lib/python3.9/dist-packages (from aiohttp->datasets->PySvelte==1.0.0) (4.0.2)\n",
            "Requirement already satisfied: charset-normalizer<4.0,>=2.0 in /usr/local/lib/python3.9/dist-packages (from aiohttp->datasets->PySvelte==1.0.0) (2.0.12)\n",
            "Requirement already satisfied: frozenlist>=1.1.1 in /usr/local/lib/python3.9/dist-packages (from aiohttp->datasets->PySvelte==1.0.0) (1.3.3)\n",
            "Requirement already satisfied: six>=1.5 in /usr/local/lib/python3.9/dist-packages (from python-dateutil>=2.8.1->pandas->PySvelte==1.0.0) (1.16.0)\n",
            "Requirement already satisfied: certifi>=2017.4.17 in /usr/local/lib/python3.9/dist-packages (from requests>=2.19.0->datasets->PySvelte==1.0.0) (2022.12.7)\n",
            "Requirement already satisfied: urllib3<1.27,>=1.21.1 in /usr/local/lib/python3.9/dist-packages (from requests>=2.19.0->datasets->PySvelte==1.0.0) (1.26.15)\n",
            "Requirement already satisfied: idna<4,>=2.5 in /usr/local/lib/python3.9/dist-packages (from requests>=2.19.0->datasets->PySvelte==1.0.0) (3.4)\n"
          ]
        }
      ]
    },
    {
      "cell_type": "code",
      "source": [
        "# Plotly needs a different renderer for VSCode/Notebooks vs Colab argh\n",
        "import plotly.io as pio\n",
        "\n",
        "if IN_COLAB or not DEBUG_MODE:\n",
        "    # Thanks to annoying rendering issues, Plotly graphics will either show up in colab OR Vscode depending on the renderer - this is bad for developing demos! Thus creating a debug mode.\n",
        "    pio.renderers.default = \"colab\"\n",
        "else:\n",
        "    pio.renderers.default = \"png\"\n",
        "print(f\"Using renderer: {pio.renderers.default}\")"
      ],
      "metadata": {
        "colab": {
          "base_uri": "https://localhost:8080/"
        },
        "id": "3cxaJUym4bV6",
        "outputId": "cc813987-536b-4d45-ed9b-78c9bd8cf17d"
      },
      "execution_count": 2,
      "outputs": [
        {
          "output_type": "stream",
          "name": "stdout",
          "text": [
            "Using renderer: colab\n"
          ]
        }
      ]
    },
    {
      "cell_type": "code",
      "source": [
        "import circuitsvis as cv\n",
        "# Testing that the library works\n",
        "cv.examples.hello(\"Neel\")"
      ],
      "metadata": {
        "colab": {
          "base_uri": "https://localhost:8080/",
          "height": 64
        },
        "id": "wnRnVmj54dkV",
        "outputId": "fd258473-9309-44c6-f5f3-9400a0f5247f"
      },
      "execution_count": 3,
      "outputs": [
        {
          "output_type": "execute_result",
          "data": {
            "text/plain": [
              "<circuitsvis.utils.render.RenderedHTML at 0x7f7325da0190>"
            ],
            "text/html": [
              "<div id=\"circuits-vis-a45d4d4e-9504\" style=\"margin: 15px 0;\"/>\n",
              "    <script crossorigin type=\"module\">\n",
              "    import { render, Hello } from \"https://unpkg.com/circuitsvis@1.39.1/dist/cdn/esm.js\";\n",
              "    render(\n",
              "      \"circuits-vis-a45d4d4e-9504\",\n",
              "      Hello,\n",
              "      {\"name\": \"Neel\"}\n",
              "    )\n",
              "    </script>"
            ]
          },
          "metadata": {},
          "execution_count": 3
        }
      ]
    },
    {
      "cell_type": "code",
      "source": [
        "# Import stuff\n",
        "import torch\n",
        "import torch.nn as nn\n",
        "import torch.nn.functional as F\n",
        "import torch.optim as optim\n",
        "import numpy as np\n",
        "import einops\n",
        "from fancy_einsum import einsum\n",
        "import tqdm.notebook as tqdm\n",
        "import random\n",
        "from pathlib import Path\n",
        "import plotly.express as px\n",
        "from torch.utils.data import DataLoader\n",
        "\n",
        "from jaxtyping import Float, Int\n",
        "from typing import List, Union, Optional\n",
        "from functools import partial\n",
        "import copy\n",
        "\n",
        "import itertools\n",
        "from transformers import AutoModelForCausalLM, AutoConfig, AutoTokenizer\n",
        "import dataclasses\n",
        "import datasets\n",
        "from IPython.display import HTML"
      ],
      "metadata": {
        "id": "NGloNASL0ki0"
      },
      "execution_count": 4,
      "outputs": []
    },
    {
      "cell_type": "code",
      "source": [
        "import pysvelte\n",
        "\n",
        "import transformer_lens\n",
        "import transformer_lens.utils as utils\n",
        "from transformer_lens.hook_points import (\n",
        "    HookedRootModule,\n",
        "    HookPoint,\n",
        ")  # Hooking utilities\n",
        "from transformer_lens import HookedTransformer, HookedTransformerConfig, FactoredMatrix, ActivationCache"
      ],
      "metadata": {
        "id": "ydngV_KJ021h"
      },
      "execution_count": 5,
      "outputs": []
    },
    {
      "cell_type": "markdown",
      "source": [
        "We turn automatic differentiation off, to save GPU memory, as this notebook focuses on model inference not model training."
      ],
      "metadata": {
        "id": "VdioiO76072F"
      }
    },
    {
      "cell_type": "code",
      "source": [
        "torch.set_grad_enabled(False)"
      ],
      "metadata": {
        "colab": {
          "base_uri": "https://localhost:8080/"
        },
        "id": "tR3zc1x64rEL",
        "outputId": "183295a6-cece-415d-e0b3-1ffcad9a9c5b"
      },
      "execution_count": 6,
      "outputs": [
        {
          "output_type": "execute_result",
          "data": {
            "text/plain": [
              "<torch.autograd.grad_mode.set_grad_enabled at 0x7f7288a8ea30>"
            ]
          },
          "metadata": {},
          "execution_count": 6
        }
      ]
    },
    {
      "cell_type": "markdown",
      "source": [
        "Plotting helper functions:"
      ],
      "metadata": {
        "id": "52akhswe0_O-"
      }
    },
    {
      "cell_type": "code",
      "source": [
        "def imshow(tensor, renderer=None, midpoint=0.0, xaxis=\"\", yaxis=\"\", **kwargs):\n",
        "    px.imshow(utils.to_numpy(tensor), color_continuous_midpoint=midpoint, color_continuous_scale=\"RdBu\", labels={\"x\":xaxis, \"y\":yaxis}, **kwargs).show(renderer)\n",
        "\n",
        "def line(tensor, renderer=None, xaxis=\"\", yaxis=\"\", **kwargs):\n",
        "    px.line(utils.to_numpy(tensor), labels={\"x\":xaxis, \"y\":yaxis}, **kwargs).show(renderer)\n",
        "\n",
        "def scatter(x, y, xaxis=\"\", yaxis=\"\", caxis=\"\", renderer=None, **kwargs):\n",
        "    x = utils.to_numpy(x)\n",
        "    y = utils.to_numpy(y)\n",
        "    px.scatter(y=y, x=x, labels={\"x\":xaxis, \"y\":yaxis, \"color\":caxis}, **kwargs).show(renderer)"
      ],
      "metadata": {
        "id": "n7uRm9OU4rtD"
      },
      "execution_count": 7,
      "outputs": []
    },
    {
      "cell_type": "code",
      "source": [
        "line(np.arange(5))"
      ],
      "metadata": {
        "id": "YNBwyAG_1CJ2",
        "outputId": "192bef13-7f6d-4b36-ee8b-a129152383ec",
        "colab": {
          "base_uri": "https://localhost:8080/",
          "height": 542
        }
      },
      "execution_count": 8,
      "outputs": [
        {
          "output_type": "display_data",
          "data": {
            "text/html": [
              "<html>\n",
              "<head><meta charset=\"utf-8\" /></head>\n",
              "<body>\n",
              "    <div>            <script src=\"https://cdnjs.cloudflare.com/ajax/libs/mathjax/2.7.5/MathJax.js?config=TeX-AMS-MML_SVG\"></script><script type=\"text/javascript\">if (window.MathJax && window.MathJax.Hub && window.MathJax.Hub.Config) {window.MathJax.Hub.Config({SVG: {font: \"STIX-Web\"}});}</script>                <script type=\"text/javascript\">window.PlotlyConfig = {MathJaxConfig: 'local'};</script>\n",
              "        <script src=\"https://cdn.plot.ly/plotly-2.18.2.min.js\"></script>                <div id=\"7fa1453d-6f57-4244-a2aa-e1e2958b0bbf\" class=\"plotly-graph-div\" style=\"height:525px; width:100%;\"></div>            <script type=\"text/javascript\">                                    window.PLOTLYENV=window.PLOTLYENV || {};                                    if (document.getElementById(\"7fa1453d-6f57-4244-a2aa-e1e2958b0bbf\")) {                    Plotly.newPlot(                        \"7fa1453d-6f57-4244-a2aa-e1e2958b0bbf\",                        [{\"hovertemplate\":\"variable=0<br>index=%{x}<br>value=%{y}<extra></extra>\",\"legendgroup\":\"0\",\"line\":{\"color\":\"#636efa\",\"dash\":\"solid\"},\"marker\":{\"symbol\":\"circle\"},\"mode\":\"lines\",\"name\":\"0\",\"orientation\":\"v\",\"showlegend\":true,\"x\":[0,1,2,3,4],\"xaxis\":\"x\",\"y\":[0,1,2,3,4],\"yaxis\":\"y\",\"type\":\"scatter\"}],                        {\"template\":{\"data\":{\"histogram2dcontour\":[{\"type\":\"histogram2dcontour\",\"colorbar\":{\"outlinewidth\":0,\"ticks\":\"\"},\"colorscale\":[[0.0,\"#0d0887\"],[0.1111111111111111,\"#46039f\"],[0.2222222222222222,\"#7201a8\"],[0.3333333333333333,\"#9c179e\"],[0.4444444444444444,\"#bd3786\"],[0.5555555555555556,\"#d8576b\"],[0.6666666666666666,\"#ed7953\"],[0.7777777777777778,\"#fb9f3a\"],[0.8888888888888888,\"#fdca26\"],[1.0,\"#f0f921\"]]}],\"choropleth\":[{\"type\":\"choropleth\",\"colorbar\":{\"outlinewidth\":0,\"ticks\":\"\"}}],\"histogram2d\":[{\"type\":\"histogram2d\",\"colorbar\":{\"outlinewidth\":0,\"ticks\":\"\"},\"colorscale\":[[0.0,\"#0d0887\"],[0.1111111111111111,\"#46039f\"],[0.2222222222222222,\"#7201a8\"],[0.3333333333333333,\"#9c179e\"],[0.4444444444444444,\"#bd3786\"],[0.5555555555555556,\"#d8576b\"],[0.6666666666666666,\"#ed7953\"],[0.7777777777777778,\"#fb9f3a\"],[0.8888888888888888,\"#fdca26\"],[1.0,\"#f0f921\"]]}],\"heatmap\":[{\"type\":\"heatmap\",\"colorbar\":{\"outlinewidth\":0,\"ticks\":\"\"},\"colorscale\":[[0.0,\"#0d0887\"],[0.1111111111111111,\"#46039f\"],[0.2222222222222222,\"#7201a8\"],[0.3333333333333333,\"#9c179e\"],[0.4444444444444444,\"#bd3786\"],[0.5555555555555556,\"#d8576b\"],[0.6666666666666666,\"#ed7953\"],[0.7777777777777778,\"#fb9f3a\"],[0.8888888888888888,\"#fdca26\"],[1.0,\"#f0f921\"]]}],\"heatmapgl\":[{\"type\":\"heatmapgl\",\"colorbar\":{\"outlinewidth\":0,\"ticks\":\"\"},\"colorscale\":[[0.0,\"#0d0887\"],[0.1111111111111111,\"#46039f\"],[0.2222222222222222,\"#7201a8\"],[0.3333333333333333,\"#9c179e\"],[0.4444444444444444,\"#bd3786\"],[0.5555555555555556,\"#d8576b\"],[0.6666666666666666,\"#ed7953\"],[0.7777777777777778,\"#fb9f3a\"],[0.8888888888888888,\"#fdca26\"],[1.0,\"#f0f921\"]]}],\"contourcarpet\":[{\"type\":\"contourcarpet\",\"colorbar\":{\"outlinewidth\":0,\"ticks\":\"\"}}],\"contour\":[{\"type\":\"contour\",\"colorbar\":{\"outlinewidth\":0,\"ticks\":\"\"},\"colorscale\":[[0.0,\"#0d0887\"],[0.1111111111111111,\"#46039f\"],[0.2222222222222222,\"#7201a8\"],[0.3333333333333333,\"#9c179e\"],[0.4444444444444444,\"#bd3786\"],[0.5555555555555556,\"#d8576b\"],[0.6666666666666666,\"#ed7953\"],[0.7777777777777778,\"#fb9f3a\"],[0.8888888888888888,\"#fdca26\"],[1.0,\"#f0f921\"]]}],\"surface\":[{\"type\":\"surface\",\"colorbar\":{\"outlinewidth\":0,\"ticks\":\"\"},\"colorscale\":[[0.0,\"#0d0887\"],[0.1111111111111111,\"#46039f\"],[0.2222222222222222,\"#7201a8\"],[0.3333333333333333,\"#9c179e\"],[0.4444444444444444,\"#bd3786\"],[0.5555555555555556,\"#d8576b\"],[0.6666666666666666,\"#ed7953\"],[0.7777777777777778,\"#fb9f3a\"],[0.8888888888888888,\"#fdca26\"],[1.0,\"#f0f921\"]]}],\"mesh3d\":[{\"type\":\"mesh3d\",\"colorbar\":{\"outlinewidth\":0,\"ticks\":\"\"}}],\"scatter\":[{\"fillpattern\":{\"fillmode\":\"overlay\",\"size\":10,\"solidity\":0.2},\"type\":\"scatter\"}],\"parcoords\":[{\"type\":\"parcoords\",\"line\":{\"colorbar\":{\"outlinewidth\":0,\"ticks\":\"\"}}}],\"scatterpolargl\":[{\"type\":\"scatterpolargl\",\"marker\":{\"colorbar\":{\"outlinewidth\":0,\"ticks\":\"\"}}}],\"bar\":[{\"error_x\":{\"color\":\"#2a3f5f\"},\"error_y\":{\"color\":\"#2a3f5f\"},\"marker\":{\"line\":{\"color\":\"#E5ECF6\",\"width\":0.5},\"pattern\":{\"fillmode\":\"overlay\",\"size\":10,\"solidity\":0.2}},\"type\":\"bar\"}],\"scattergeo\":[{\"type\":\"scattergeo\",\"marker\":{\"colorbar\":{\"outlinewidth\":0,\"ticks\":\"\"}}}],\"scatterpolar\":[{\"type\":\"scatterpolar\",\"marker\":{\"colorbar\":{\"outlinewidth\":0,\"ticks\":\"\"}}}],\"histogram\":[{\"marker\":{\"pattern\":{\"fillmode\":\"overlay\",\"size\":10,\"solidity\":0.2}},\"type\":\"histogram\"}],\"scattergl\":[{\"type\":\"scattergl\",\"marker\":{\"colorbar\":{\"outlinewidth\":0,\"ticks\":\"\"}}}],\"scatter3d\":[{\"type\":\"scatter3d\",\"line\":{\"colorbar\":{\"outlinewidth\":0,\"ticks\":\"\"}},\"marker\":{\"colorbar\":{\"outlinewidth\":0,\"ticks\":\"\"}}}],\"scattermapbox\":[{\"type\":\"scattermapbox\",\"marker\":{\"colorbar\":{\"outlinewidth\":0,\"ticks\":\"\"}}}],\"scatterternary\":[{\"type\":\"scatterternary\",\"marker\":{\"colorbar\":{\"outlinewidth\":0,\"ticks\":\"\"}}}],\"scattercarpet\":[{\"type\":\"scattercarpet\",\"marker\":{\"colorbar\":{\"outlinewidth\":0,\"ticks\":\"\"}}}],\"carpet\":[{\"aaxis\":{\"endlinecolor\":\"#2a3f5f\",\"gridcolor\":\"white\",\"linecolor\":\"white\",\"minorgridcolor\":\"white\",\"startlinecolor\":\"#2a3f5f\"},\"baxis\":{\"endlinecolor\":\"#2a3f5f\",\"gridcolor\":\"white\",\"linecolor\":\"white\",\"minorgridcolor\":\"white\",\"startlinecolor\":\"#2a3f5f\"},\"type\":\"carpet\"}],\"table\":[{\"cells\":{\"fill\":{\"color\":\"#EBF0F8\"},\"line\":{\"color\":\"white\"}},\"header\":{\"fill\":{\"color\":\"#C8D4E3\"},\"line\":{\"color\":\"white\"}},\"type\":\"table\"}],\"barpolar\":[{\"marker\":{\"line\":{\"color\":\"#E5ECF6\",\"width\":0.5},\"pattern\":{\"fillmode\":\"overlay\",\"size\":10,\"solidity\":0.2}},\"type\":\"barpolar\"}],\"pie\":[{\"automargin\":true,\"type\":\"pie\"}]},\"layout\":{\"autotypenumbers\":\"strict\",\"colorway\":[\"#636efa\",\"#EF553B\",\"#00cc96\",\"#ab63fa\",\"#FFA15A\",\"#19d3f3\",\"#FF6692\",\"#B6E880\",\"#FF97FF\",\"#FECB52\"],\"font\":{\"color\":\"#2a3f5f\"},\"hovermode\":\"closest\",\"hoverlabel\":{\"align\":\"left\"},\"paper_bgcolor\":\"white\",\"plot_bgcolor\":\"#E5ECF6\",\"polar\":{\"bgcolor\":\"#E5ECF6\",\"angularaxis\":{\"gridcolor\":\"white\",\"linecolor\":\"white\",\"ticks\":\"\"},\"radialaxis\":{\"gridcolor\":\"white\",\"linecolor\":\"white\",\"ticks\":\"\"}},\"ternary\":{\"bgcolor\":\"#E5ECF6\",\"aaxis\":{\"gridcolor\":\"white\",\"linecolor\":\"white\",\"ticks\":\"\"},\"baxis\":{\"gridcolor\":\"white\",\"linecolor\":\"white\",\"ticks\":\"\"},\"caxis\":{\"gridcolor\":\"white\",\"linecolor\":\"white\",\"ticks\":\"\"}},\"coloraxis\":{\"colorbar\":{\"outlinewidth\":0,\"ticks\":\"\"}},\"colorscale\":{\"sequential\":[[0.0,\"#0d0887\"],[0.1111111111111111,\"#46039f\"],[0.2222222222222222,\"#7201a8\"],[0.3333333333333333,\"#9c179e\"],[0.4444444444444444,\"#bd3786\"],[0.5555555555555556,\"#d8576b\"],[0.6666666666666666,\"#ed7953\"],[0.7777777777777778,\"#fb9f3a\"],[0.8888888888888888,\"#fdca26\"],[1.0,\"#f0f921\"]],\"sequentialminus\":[[0.0,\"#0d0887\"],[0.1111111111111111,\"#46039f\"],[0.2222222222222222,\"#7201a8\"],[0.3333333333333333,\"#9c179e\"],[0.4444444444444444,\"#bd3786\"],[0.5555555555555556,\"#d8576b\"],[0.6666666666666666,\"#ed7953\"],[0.7777777777777778,\"#fb9f3a\"],[0.8888888888888888,\"#fdca26\"],[1.0,\"#f0f921\"]],\"diverging\":[[0,\"#8e0152\"],[0.1,\"#c51b7d\"],[0.2,\"#de77ae\"],[0.3,\"#f1b6da\"],[0.4,\"#fde0ef\"],[0.5,\"#f7f7f7\"],[0.6,\"#e6f5d0\"],[0.7,\"#b8e186\"],[0.8,\"#7fbc41\"],[0.9,\"#4d9221\"],[1,\"#276419\"]]},\"xaxis\":{\"gridcolor\":\"white\",\"linecolor\":\"white\",\"ticks\":\"\",\"title\":{\"standoff\":15},\"zerolinecolor\":\"white\",\"automargin\":true,\"zerolinewidth\":2},\"yaxis\":{\"gridcolor\":\"white\",\"linecolor\":\"white\",\"ticks\":\"\",\"title\":{\"standoff\":15},\"zerolinecolor\":\"white\",\"automargin\":true,\"zerolinewidth\":2},\"scene\":{\"xaxis\":{\"backgroundcolor\":\"#E5ECF6\",\"gridcolor\":\"white\",\"linecolor\":\"white\",\"showbackground\":true,\"ticks\":\"\",\"zerolinecolor\":\"white\",\"gridwidth\":2},\"yaxis\":{\"backgroundcolor\":\"#E5ECF6\",\"gridcolor\":\"white\",\"linecolor\":\"white\",\"showbackground\":true,\"ticks\":\"\",\"zerolinecolor\":\"white\",\"gridwidth\":2},\"zaxis\":{\"backgroundcolor\":\"#E5ECF6\",\"gridcolor\":\"white\",\"linecolor\":\"white\",\"showbackground\":true,\"ticks\":\"\",\"zerolinecolor\":\"white\",\"gridwidth\":2}},\"shapedefaults\":{\"line\":{\"color\":\"#2a3f5f\"}},\"annotationdefaults\":{\"arrowcolor\":\"#2a3f5f\",\"arrowhead\":0,\"arrowwidth\":1},\"geo\":{\"bgcolor\":\"white\",\"landcolor\":\"#E5ECF6\",\"subunitcolor\":\"white\",\"showland\":true,\"showlakes\":true,\"lakecolor\":\"white\"},\"title\":{\"x\":0.05},\"mapbox\":{\"style\":\"light\"}}},\"xaxis\":{\"anchor\":\"y\",\"domain\":[0.0,1.0],\"title\":{\"text\":\"index\"}},\"yaxis\":{\"anchor\":\"x\",\"domain\":[0.0,1.0],\"title\":{\"text\":\"value\"}},\"legend\":{\"title\":{\"text\":\"variable\"},\"tracegroupgap\":0},\"margin\":{\"t\":60}},                        {\"responsive\": true}                    ).then(function(){\n",
              "                            \n",
              "var gd = document.getElementById('7fa1453d-6f57-4244-a2aa-e1e2958b0bbf');\n",
              "var x = new MutationObserver(function (mutations, observer) {{\n",
              "        var display = window.getComputedStyle(gd).display;\n",
              "        if (!display || display === 'none') {{\n",
              "            console.log([gd, 'removed!']);\n",
              "            Plotly.purge(gd);\n",
              "            observer.disconnect();\n",
              "        }}\n",
              "}});\n",
              "\n",
              "// Listen for the removal of the full notebook cells\n",
              "var notebookContainer = gd.closest('#notebook-container');\n",
              "if (notebookContainer) {{\n",
              "    x.observe(notebookContainer, {childList: true});\n",
              "}}\n",
              "\n",
              "// Listen for the clearing of the current output cell\n",
              "var outputEl = gd.closest('.output');\n",
              "if (outputEl) {{\n",
              "    x.observe(outputEl, {childList: true});\n",
              "}}\n",
              "\n",
              "                        })                };                            </script>        </div>\n",
              "</body>\n",
              "</html>"
            ]
          },
          "metadata": {}
        }
      ]
    },
    {
      "cell_type": "markdown",
      "source": [
        "set-up device"
      ],
      "metadata": {
        "id": "AYIXdaJR2HMP"
      }
    },
    {
      "cell_type": "code",
      "source": [
        "device = \"cuda\" if torch.cuda.is_available() else \"cpu\""
      ],
      "metadata": {
        "id": "qRGwnRq_BzBn"
      },
      "execution_count": 9,
      "outputs": []
    },
    {
      "cell_type": "markdown",
      "source": [
        "### Pronoun prediction"
      ],
      "metadata": {
        "id": "YrG1Hl0mZ5Ya"
      }
    },
    {
      "cell_type": "markdown",
      "source": [
        "The task is choosing the right pronouns (e.g. he vs she vs it vs they)\n",
        "\n",
        "A good setup is a rhetorical question (so it doesn’t spoil the answer!) like “Lina is a great friend, isn’t” (h/t Marius Hobbhahn)"
      ],
      "metadata": {
        "id": "BY4vfzE4_yz1"
      }
    },
    {
      "cell_type": "markdown",
      "source": [
        "The first step is to load in our model, GPT-2 Small, a 12 layer and 80M parameter transformer."
      ],
      "metadata": {
        "id": "Ck2MFiqY13aH"
      }
    },
    {
      "cell_type": "code",
      "source": [
        "model = HookedTransformer.from_pretrained(\"gpt2-small\", device=device)"
      ],
      "metadata": {
        "colab": {
          "base_uri": "https://localhost:8080/"
        },
        "id": "d2fS9hRdBzdO",
        "outputId": "50d965e6-f604-49d3-9bb0-2b9a9ea5171b"
      },
      "execution_count": 10,
      "outputs": [
        {
          "output_type": "stream",
          "name": "stderr",
          "text": [
            "Using pad_token, but it is not set yet.\n"
          ]
        },
        {
          "output_type": "stream",
          "name": "stdout",
          "text": [
            "Loaded pretrained model gpt2-small into HookedTransformer\n"
          ]
        }
      ]
    },
    {
      "cell_type": "markdown",
      "source": [
        "The next step is to verify that the model can actually do the task!"
      ],
      "metadata": {
        "id": "HW_GEWo_2YH5"
      }
    },
    {
      "cell_type": "code",
      "source": [
        "example_prompt = \"Mary is a great friend, isn’t\"\n",
        "example_answer = \" she\"\n",
        "utils.test_prompt(example_prompt, example_answer, model)"
      ],
      "metadata": {
        "id": "Ay8GRNSD2cja",
        "outputId": "689ad9d6-4f10-48b4-a1e6-ec6c59b7c8e8",
        "colab": {
          "base_uri": "https://localhost:8080/",
          "height": 273
        }
      },
      "execution_count": 11,
      "outputs": [
        {
          "output_type": "stream",
          "name": "stdout",
          "text": [
            "Tokenized prompt: ['<|endoftext|>', 'Mary', ' is', ' a', ' great', ' friend', ',', ' isn', '�', '�', 't']\n",
            "Tokenized answer: [' she']\n"
          ]
        },
        {
          "output_type": "display_data",
          "data": {
            "text/plain": [
              "Performance on answer token:\n",
              "\u001b[1mRank: \u001b[0m\u001b[1;36m0\u001b[0m\u001b[1m        Logit: \u001b[0m\u001b[1;36m17.41\u001b[0m\u001b[1m Prob: \u001b[0m\u001b[1;36m82.67\u001b[0m\u001b[1m% Token: | she|\u001b[0m\n"
            ],
            "text/html": [
              "<pre style=\"white-space:pre;overflow-x:auto;line-height:normal;font-family:Menlo,'DejaVu Sans Mono',consolas,'Courier New',monospace\">Performance on answer token:\n",
              "<span style=\"font-weight: bold\">Rank: </span><span style=\"color: #008080; text-decoration-color: #008080; font-weight: bold\">0</span><span style=\"font-weight: bold\">        Logit: </span><span style=\"color: #008080; text-decoration-color: #008080; font-weight: bold\">17.41</span><span style=\"font-weight: bold\"> Prob: </span><span style=\"color: #008080; text-decoration-color: #008080; font-weight: bold\">82.67</span><span style=\"font-weight: bold\">% Token: | she|</span>\n",
              "</pre>\n"
            ]
          },
          "metadata": {}
        },
        {
          "output_type": "stream",
          "name": "stdout",
          "text": [
            "Top 0th token. Logit: 17.41 Prob: 82.67% Token: | she|\n",
            "Top 1th token. Logit: 14.69 Prob:  5.45% Token: | it|\n",
            "Top 2th token. Logit: 13.51 Prob:  1.68% Token: | he|\n",
            "Top 3th token. Logit: 13.11 Prob:  1.12% Token: | there|\n",
            "Top 4th token. Logit: 12.74 Prob:  0.78% Token: | I|\n",
            "Top 5th token. Logit: 12.72 Prob:  0.76% Token: | we|\n",
            "Top 6th token. Logit: 12.67 Prob:  0.72% Token: | you|\n",
            "Top 7th token. Logit: 12.35 Prob:  0.52% Token: | her|\n",
            "Top 8th token. Logit: 12.23 Prob:  0.47% Token: | this|\n",
            "Top 9th token. Logit: 12.16 Prob:  0.43% Token: | that|\n"
          ]
        },
        {
          "output_type": "display_data",
          "data": {
            "text/plain": [
              "\u001b[1mRanks of the answer tokens:\u001b[0m \u001b[1m[\u001b[0m\u001b[1m(\u001b[0m\u001b[32m' she'\u001b[0m, \u001b[1;36m0\u001b[0m\u001b[1m)\u001b[0m\u001b[1m]\u001b[0m\n"
            ],
            "text/html": [
              "<pre style=\"white-space:pre;overflow-x:auto;line-height:normal;font-family:Menlo,'DejaVu Sans Mono',consolas,'Courier New',monospace\"><span style=\"font-weight: bold\">Ranks of the answer tokens:</span> <span style=\"font-weight: bold\">[(</span><span style=\"color: #008000; text-decoration-color: #008000\">' she'</span>, <span style=\"color: #008080; text-decoration-color: #008080; font-weight: bold\">0</span><span style=\"font-weight: bold\">)]</span>\n",
              "</pre>\n"
            ]
          },
          "metadata": {}
        }
      ]
    },
    {
      "cell_type": "code",
      "source": [
        "example_prompt = \"John is a great friend, isn’t\"\n",
        "example_answer = \" he\"\n",
        "utils.test_prompt(example_prompt, example_answer, model)"
      ],
      "metadata": {
        "id": "gP9lwy1r2_zs",
        "outputId": "0c2772c2-dab3-4bc9-8e6a-251cfdd10817",
        "colab": {
          "base_uri": "https://localhost:8080/",
          "height": 273
        }
      },
      "execution_count": 12,
      "outputs": [
        {
          "output_type": "stream",
          "name": "stdout",
          "text": [
            "Tokenized prompt: ['<|endoftext|>', 'John', ' is', ' a', ' great', ' friend', ',', ' isn', '�', '�', 't']\n",
            "Tokenized answer: [' he']\n"
          ]
        },
        {
          "output_type": "display_data",
          "data": {
            "text/plain": [
              "Performance on answer token:\n",
              "\u001b[1mRank: \u001b[0m\u001b[1;36m0\u001b[0m\u001b[1m        Logit: \u001b[0m\u001b[1;36m17.47\u001b[0m\u001b[1m Prob: \u001b[0m\u001b[1;36m83.43\u001b[0m\u001b[1m% Token: | he|\u001b[0m\n"
            ],
            "text/html": [
              "<pre style=\"white-space:pre;overflow-x:auto;line-height:normal;font-family:Menlo,'DejaVu Sans Mono',consolas,'Courier New',monospace\">Performance on answer token:\n",
              "<span style=\"font-weight: bold\">Rank: </span><span style=\"color: #008080; text-decoration-color: #008080; font-weight: bold\">0</span><span style=\"font-weight: bold\">        Logit: </span><span style=\"color: #008080; text-decoration-color: #008080; font-weight: bold\">17.47</span><span style=\"font-weight: bold\"> Prob: </span><span style=\"color: #008080; text-decoration-color: #008080; font-weight: bold\">83.43</span><span style=\"font-weight: bold\">% Token: | he|</span>\n",
              "</pre>\n"
            ]
          },
          "metadata": {}
        },
        {
          "output_type": "stream",
          "name": "stdout",
          "text": [
            "Top 0th token. Logit: 17.47 Prob: 83.43% Token: | he|\n",
            "Top 1th token. Logit: 14.81 Prob:  5.81% Token: | it|\n",
            "Top 2th token. Logit: 13.22 Prob:  1.18% Token: | there|\n",
            "Top 3th token. Logit: 13.06 Prob:  1.01% Token: | you|\n",
            "Top 4th token. Logit: 13.04 Prob:  0.99% Token: | we|\n",
            "Top 5th token. Logit: 12.69 Prob:  0.70% Token: | I|\n",
            "Top 6th token. Logit: 12.62 Prob:  0.65% Token: | she|\n",
            "Top 7th token. Logit: 12.52 Prob:  0.59% Token: | that|\n",
            "Top 8th token. Logit: 12.26 Prob:  0.45% Token: | this|\n",
            "Top 9th token. Logit: 11.78 Prob:  0.28% Token: | the|\n"
          ]
        },
        {
          "output_type": "display_data",
          "data": {
            "text/plain": [
              "\u001b[1mRanks of the answer tokens:\u001b[0m \u001b[1m[\u001b[0m\u001b[1m(\u001b[0m\u001b[32m' he'\u001b[0m, \u001b[1;36m0\u001b[0m\u001b[1m)\u001b[0m\u001b[1m]\u001b[0m\n"
            ],
            "text/html": [
              "<pre style=\"white-space:pre;overflow-x:auto;line-height:normal;font-family:Menlo,'DejaVu Sans Mono',consolas,'Courier New',monospace\"><span style=\"font-weight: bold\">Ranks of the answer tokens:</span> <span style=\"font-weight: bold\">[(</span><span style=\"color: #008000; text-decoration-color: #008000\">' he'</span>, <span style=\"color: #008080; text-decoration-color: #008080; font-weight: bold\">0</span><span style=\"font-weight: bold\">)]</span>\n",
              "</pre>\n"
            ]
          },
          "metadata": {}
        }
      ]
    },
    {
      "cell_type": "code",
      "source": [
        "example_prompt = \"Matrix is a great movie, isn’t\"\n",
        "example_answer = \" it\"\n",
        "utils.test_prompt(example_prompt, example_answer, model)"
      ],
      "metadata": {
        "id": "uUFPNL-c3Aru",
        "outputId": "115ef605-6d34-4d21-e2d3-9cd410c1b8ff",
        "colab": {
          "base_uri": "https://localhost:8080/",
          "height": 273
        }
      },
      "execution_count": 13,
      "outputs": [
        {
          "output_type": "stream",
          "name": "stdout",
          "text": [
            "Tokenized prompt: ['<|endoftext|>', 'Matrix', ' is', ' a', ' great', ' movie', ',', ' isn', '�', '�', 't']\n",
            "Tokenized answer: [' it']\n"
          ]
        },
        {
          "output_type": "display_data",
          "data": {
            "text/plain": [
              "Performance on answer token:\n",
              "\u001b[1mRank: \u001b[0m\u001b[1;36m0\u001b[0m\u001b[1m        Logit: \u001b[0m\u001b[1;36m18.16\u001b[0m\u001b[1m Prob: \u001b[0m\u001b[1;36m94.84\u001b[0m\u001b[1m% Token: | it|\u001b[0m\n"
            ],
            "text/html": [
              "<pre style=\"white-space:pre;overflow-x:auto;line-height:normal;font-family:Menlo,'DejaVu Sans Mono',consolas,'Courier New',monospace\">Performance on answer token:\n",
              "<span style=\"font-weight: bold\">Rank: </span><span style=\"color: #008080; text-decoration-color: #008080; font-weight: bold\">0</span><span style=\"font-weight: bold\">        Logit: </span><span style=\"color: #008080; text-decoration-color: #008080; font-weight: bold\">18.16</span><span style=\"font-weight: bold\"> Prob: </span><span style=\"color: #008080; text-decoration-color: #008080; font-weight: bold\">94.84</span><span style=\"font-weight: bold\">% Token: | it|</span>\n",
              "</pre>\n"
            ]
          },
          "metadata": {}
        },
        {
          "output_type": "stream",
          "name": "stdout",
          "text": [
            "Top 0th token. Logit: 18.16 Prob: 94.84% Token: | it|\n",
            "Top 1th token. Logit: 13.65 Prob:  1.04% Token: | there|\n",
            "Top 2th token. Logit: 13.15 Prob:  0.63% Token: | that|\n",
            "Top 3th token. Logit: 12.37 Prob:  0.29% Token: | this|\n",
            "Top 4th token. Logit: 12.37 Prob:  0.29% Token: | he|\n",
            "Top 5th token. Logit: 12.32 Prob:  0.28% Token: | the|\n",
            "Top 6th token. Logit: 12.10 Prob:  0.22% Token: | you|\n",
            "Top 7th token. Logit: 12.09 Prob:  0.22% Token: |?|\n",
            "Top 8th token. Logit: 11.81 Prob:  0.16% Token: | I|\n",
            "Top 9th token. Logit: 11.41 Prob:  0.11% Token: | they|\n"
          ]
        },
        {
          "output_type": "display_data",
          "data": {
            "text/plain": [
              "\u001b[1mRanks of the answer tokens:\u001b[0m \u001b[1m[\u001b[0m\u001b[1m(\u001b[0m\u001b[32m' it'\u001b[0m, \u001b[1;36m0\u001b[0m\u001b[1m)\u001b[0m\u001b[1m]\u001b[0m\n"
            ],
            "text/html": [
              "<pre style=\"white-space:pre;overflow-x:auto;line-height:normal;font-family:Menlo,'DejaVu Sans Mono',consolas,'Courier New',monospace\"><span style=\"font-weight: bold\">Ranks of the answer tokens:</span> <span style=\"font-weight: bold\">[(</span><span style=\"color: #008000; text-decoration-color: #008000\">' it'</span>, <span style=\"color: #008080; text-decoration-color: #008080; font-weight: bold\">0</span><span style=\"font-weight: bold\">)]</span>\n",
              "</pre>\n"
            ]
          },
          "metadata": {}
        }
      ]
    },
    {
      "cell_type": "markdown",
      "source": [
        "### visualize attention pattern"
      ],
      "metadata": {
        "id": "x5urCfrkII5T"
      }
    },
    {
      "cell_type": "code",
      "source": [
        "def attn_pattern(text, layer=0):\n",
        "    tokens = model.to_tokens(text)\n",
        "    logits, cache = model.run_with_cache(tokens, remove_batch_dim=True)\n",
        "    attention_pattern = cache[\"pattern\", layer, \"attn\"]\n",
        "    str_tokens = model.to_str_tokens(text)\n",
        "    return cv.attention.attention_patterns(tokens=str_tokens, attention=attention_pattern)"
      ],
      "metadata": {
        "id": "upPKAnBYSBYb"
      },
      "execution_count": 14,
      "outputs": []
    },
    {
      "cell_type": "code",
      "source": [
        "attn_pattern(\"Mary is a great friend, isn’t\")"
      ],
      "metadata": {
        "colab": {
          "base_uri": "https://localhost:8080/",
          "height": 358
        },
        "id": "JeQ9C9lTSNNd",
        "outputId": "020b0d9b-a999-45cf-a37d-a51bb4730214"
      },
      "execution_count": 15,
      "outputs": [
        {
          "output_type": "execute_result",
          "data": {
            "text/plain": [
              "<circuitsvis.utils.render.RenderedHTML at 0x7f726b388610>"
            ],
            "text/html": [
              "<div id=\"circuits-vis-13f6e578-8a9c\" style=\"margin: 15px 0;\"/>\n",
              "    <script crossorigin type=\"module\">\n",
              "    import { render, AttentionPatterns } from \"https://unpkg.com/circuitsvis@1.39.1/dist/cdn/esm.js\";\n",
              "    render(\n",
              "      \"circuits-vis-13f6e578-8a9c\",\n",
              "      AttentionPatterns,\n",
              "      {\"tokens\": [\"<|endoftext|>\", \"Mary\", \" is\", \" a\", \" great\", \" friend\", \",\", \" isn\", \"\\ufffd\", \"\\ufffd\", \"t\"], \"attention\": [[[1.0, 0.0, 0.0, 0.0, 0.0, 0.0, 0.0, 0.0, 0.0, 0.0, 0.0], [0.9241235852241516, 0.07587647438049316, 0.0, 0.0, 0.0, 0.0, 0.0, 0.0, 0.0, 0.0, 0.0], [0.8504400253295898, 0.11079864203929901, 0.03876122459769249, 0.0, 0.0, 0.0, 0.0, 0.0, 0.0, 0.0, 0.0], [0.7164644598960876, 0.207753524184227, 0.0493377223610878, 0.026444312185049057, 0.0, 0.0, 0.0, 0.0, 0.0, 0.0, 0.0], [0.6260345578193665, 0.160854771733284, 0.07551530003547668, 0.0676160454750061, 0.06997937709093094, 0.0, 0.0, 0.0, 0.0, 0.0, 0.0], [0.4132084846496582, 0.26730984449386597, 0.08658475428819656, 0.08519769459962845, 0.08222351968288422, 0.06547566503286362, 0.0, 0.0, 0.0, 0.0, 0.0], [0.5634602308273315, 0.17143289744853973, 0.032170724123716354, 0.02893145941197872, 0.14099235832691193, 0.05216008052229881, 0.010852252133190632, 0.0, 0.0, 0.0, 0.0], [0.45259326696395874, 0.21684519946575165, 0.04498553276062012, 0.03433092311024666, 0.10378596186637878, 0.02756454236805439, 0.05340948328375816, 0.06648509949445724, 0.0, 0.0, 0.0], [0.37959617376327515, 0.16736027598381042, 0.052284520119428635, 0.05925919860601425, 0.08857618272304535, 0.03502218425273895, 0.0703473836183548, 0.07626456022262573, 0.07128960639238358, 0.0, 0.0], [0.20899468660354614, 0.36927899718284607, 0.03502527251839638, 0.03741804137825966, 0.053381044417619705, 0.08999010920524597, 0.08267796039581299, 0.04077976942062378, 0.05141828581690788, 0.03103576973080635, 0.0], [0.27417272329330444, 0.21706083416938782, 0.019120899960398674, 0.03843725100159645, 0.04343494772911072, 0.11575575917959213, 0.057192374020814896, 0.016545994207262993, 0.13653667271137238, 0.0568988062441349, 0.024843735620379448]], [[1.0, 0.0, 0.0, 0.0, 0.0, 0.0, 0.0, 0.0, 0.0, 0.0, 0.0], [2.5603012545616366e-05, 0.9999743700027466, 0.0, 0.0, 0.0, 0.0, 0.0, 0.0, 0.0, 0.0, 0.0], [0.0014055762439966202, 0.001238279277458787, 0.9973561763763428, 0.0, 0.0, 0.0, 0.0, 0.0, 0.0, 0.0, 0.0], [0.002726370468735695, 0.002844509668648243, 0.0021949505899101496, 0.9922342300415039, 0.0, 0.0, 0.0, 0.0, 0.0, 0.0, 0.0], [9.03507971088402e-05, 0.0019546516705304384, 0.00046127248788252473, 0.0013962825760245323, 0.9960973858833313, 0.0, 0.0, 0.0, 0.0, 0.0, 0.0], [2.1862468202016316e-05, 0.001121237175539136, 9.811272320803255e-05, 0.0002102750731864944, 0.0003338042297400534, 0.998214840888977, 0.0, 0.0, 0.0, 0.0, 0.0], [0.007658326532691717, 0.0020290641114115715, 0.005029662046581507, 0.0006953018018975854, 0.00013968805433250964, 3.5270270018372685e-05, 0.9844127297401428, 0.0, 0.0, 0.0, 0.0], [2.3226240955409594e-05, 0.0008948171162046492, 0.022993873804807663, 8.160361903719604e-05, 0.00010974078031722456, 0.00012602005153894424, 0.00011319711484247819, 0.9756574630737305, 0.0, 0.0, 0.0], [0.00040010878001339734, 0.012623067013919353, 0.00011091964552178979, 7.643669232493266e-05, 1.9035547666135244e-05, 2.9558421374531463e-05, 8.531962521374226e-05, 0.0006020339787937701, 0.9860535264015198, 0.0, 0.0], [2.6797037207870744e-05, 0.0005172209348529577, 1.7292111806455068e-05, 6.597500760108232e-05, 3.2702087082725484e-06, 0.0004739352152682841, 5.295119080983568e-06, 3.237173586967401e-05, 5.07090735482052e-05, 0.9988071918487549, 0.0], [0.0002801333030220121, 9.469709038967267e-05, 0.00046344331349246204, 0.0013661496341228485, 0.00040814210660755634, 1.912237894430291e-05, 0.0002234578423667699, 0.00015483787865377963, 0.00033867970341816545, 5.933658030699007e-06, 0.9966452717781067]], [[1.0, 0.0, 0.0, 0.0, 0.0, 0.0, 0.0, 0.0, 0.0, 0.0, 0.0], [0.8664495348930359, 0.1335505247116089, 0.0, 0.0, 0.0, 0.0, 0.0, 0.0, 0.0, 0.0, 0.0], [0.8072108626365662, 0.08147511631250381, 0.11131395399570465, 0.0, 0.0, 0.0, 0.0, 0.0, 0.0, 0.0, 0.0], [0.743120551109314, 0.09262727200984955, 0.12092293053865433, 0.043329231441020966, 0.0, 0.0, 0.0, 0.0, 0.0, 0.0, 0.0], [0.6745740175247192, 0.08086475729942322, 0.09120561927556992, 0.08616717159748077, 0.06718841195106506, 0.0, 0.0, 0.0, 0.0, 0.0, 0.0], [0.6582372784614563, 0.06404586136341095, 0.07375719398260117, 0.091891348361969, 0.07994284480810165, 0.03212544694542885, 0.0, 0.0, 0.0, 0.0, 0.0], [0.4401894211769104, 0.04909835755825043, 0.058262769132852554, 0.012867755256593227, 0.027139030396938324, 0.015601630322635174, 0.39684104919433594, 0.0, 0.0, 0.0, 0.0], [0.5664747357368469, 0.04949956387281418, 0.0839829221367836, 0.05802176520228386, 0.08562109619379044, 0.0507952943444252, 0.05720069259405136, 0.04840395227074623, 0.0, 0.0, 0.0], [0.5683934688568115, 0.045512083917856216, 0.09215913712978363, 0.04387284070253372, 0.042410414665937424, 0.04320560023188591, 0.0524810366332531, 0.05759315565228462, 0.05437227338552475, 0.0, 0.0], [0.539729654788971, 0.08128035813570023, 0.07978387176990509, 0.04613916948437691, 0.021529117599129677, 0.01891697570681572, 0.057107821106910706, 0.036265112459659576, 0.055268295109272, 0.06397955864667892, 0.0], [0.3884568214416504, 0.19649603962898254, 0.07302320748567581, 0.03992248699069023, 0.04550449177622795, 0.03322469815611839, 0.06360829621553421, 0.04536962881684303, 0.045096904039382935, 0.045338019728660583, 0.023959392681717873]], [[1.0, 0.0, 0.0, 0.0, 0.0, 0.0, 0.0, 0.0, 0.0, 0.0, 0.0], [0.009393508546054363, 0.990606427192688, 0.0, 0.0, 0.0, 0.0, 0.0, 0.0, 0.0, 0.0, 0.0], [0.19557718932628632, 0.05108834430575371, 0.7533345222473145, 0.0, 0.0, 0.0, 0.0, 0.0, 0.0, 0.0, 0.0], [0.12102580070495605, 0.05825904756784439, 0.18805386126041412, 0.6326612234115601, 0.0, 0.0, 0.0, 0.0, 0.0, 0.0, 0.0], [0.0033920304849743843, 0.0010487170657142997, 0.00045648455852642655, 0.0018711037700995803, 0.9932317733764648, 0.0, 0.0, 0.0, 0.0, 0.0, 0.0], [0.0010762471938505769, 0.0045853909105062485, 0.00010932674194918945, 0.00046347937313839793, 0.016819948330521584, 0.9769455194473267, 0.0, 0.0, 0.0, 0.0, 0.0], [0.06983977556228638, 0.017390597611665726, 0.05944119021296501, 0.05300922319293022, 0.08820398896932602, 0.027654705569148064, 0.6844605207443237, 0.0, 0.0, 0.0, 0.0], [0.006303197704255581, 0.0005640803137794137, 0.002146765822544694, 0.0012141617480665445, 0.002357199089601636, 0.0014991700882092118, 0.004965062253177166, 0.9809503555297852, 0.0, 0.0, 0.0], [0.003087937133386731, 0.0003706865827552974, 1.2170565923952381e-06, 4.98920371683198e-06, 0.0003517742734402418, 0.00011241334141232073, 4.0088289097184315e-05, 0.0008520350093021989, 0.9951789379119873, 0.0, 0.0], [0.0029744133353233337, 4.915186946163885e-05, 3.2311374525306746e-05, 2.6438607164891437e-05, 0.00032266153721138835, 0.00031933607533574104, 0.000301964464597404, 0.0020277807489037514, 0.054016269743442535, 0.9399296641349792, 0.0], [0.00044615723891183734, 0.00012567244993988425, 0.00010734050010796636, 8.664715278428048e-05, 0.0028672139160335064, 9.047514322446659e-05, 0.0016013216227293015, 0.04505395144224167, 0.09973794966936111, 0.006047230679541826, 0.8438360691070557]], [[1.0, 0.0, 0.0, 0.0, 0.0, 0.0, 0.0, 0.0, 0.0, 0.0, 0.0], [0.04202577471733093, 0.9579742550849915, 0.0, 0.0, 0.0, 0.0, 0.0, 0.0, 0.0, 0.0, 0.0], [0.6230545043945312, 0.19594517350196838, 0.18100032210350037, 0.0, 0.0, 0.0, 0.0, 0.0, 0.0, 0.0, 0.0], [0.37931957840919495, 0.1578027904033661, 0.25304868817329407, 0.2098289281129837, 0.0, 0.0, 0.0, 0.0, 0.0, 0.0, 0.0], [0.14335328340530396, 0.02580837719142437, 0.047318246215581894, 0.05913330242037773, 0.7243868112564087, 0.0, 0.0, 0.0, 0.0, 0.0, 0.0], [0.07067285478115082, 0.06205584481358528, 0.008356872014701366, 0.02497086487710476, 0.0418316125869751, 0.7921119928359985, 0.0, 0.0, 0.0, 0.0, 0.0], [0.17939381301403046, 0.14670763909816742, 0.13592422008514404, 0.038596272468566895, 0.08943857997655869, 0.12772415578365326, 0.28221529722213745, 0.0, 0.0, 0.0, 0.0], [0.085881307721138, 0.01864953525364399, 0.047266799956560135, 0.036898087710142136, 0.14770185947418213, 0.06432794034481049, 0.060787640511989594, 0.5384867787361145, 0.0, 0.0, 0.0], [0.07078194618225098, 0.005933887790888548, 0.010816693305969238, 0.006345825735479593, 0.011862157844007015, 0.004537654109299183, 0.007942202500998974, 0.09672866761684418, 0.7850509285926819, 0.0, 0.0], [0.01109249982982874, 0.013749183155596256, 0.0007083684904500842, 0.00033383280970156193, 0.0008102013962343335, 0.004581336863338947, 0.0012288152938708663, 0.010008927434682846, 0.8088257312774658, 0.14866115152835846, 0.0], [0.003677413100376725, 0.015967901796102524, 0.006271795369684696, 0.004830262158066034, 0.019790520891547203, 0.001810580026358366, 0.008178277872502804, 0.17534662783145905, 0.5111280679702759, 0.11957065016031265, 0.13342788815498352]], [[1.0, 0.0, 0.0, 0.0, 0.0, 0.0, 0.0, 0.0, 0.0, 0.0, 0.0], [0.019705619663000107, 0.9802943468093872, 0.0, 0.0, 0.0, 0.0, 0.0, 0.0, 0.0, 0.0, 0.0], [0.27916449308395386, 0.0006568629178218544, 0.7201786041259766, 0.0, 0.0, 0.0, 0.0, 0.0, 0.0, 0.0, 0.0], [0.27477818727493286, 0.005906760226935148, 0.08956459164619446, 0.6297504901885986, 0.0, 0.0, 0.0, 0.0, 0.0, 0.0, 0.0], [0.10414552688598633, 0.001689355936832726, 7.085663673933595e-05, 8.65297915879637e-05, 0.8940077424049377, 0.0, 0.0, 0.0, 0.0, 0.0, 0.0], [0.02685479447245598, 9.124770440394059e-05, 2.1949408619548194e-06, 3.993133304902585e-06, 7.062881195452064e-05, 0.9729771614074707, 0.0, 0.0, 0.0, 0.0, 0.0], [0.2322404980659485, 0.016106393188238144, 0.11636880040168762, 0.18291892111301422, 0.06502258032560349, 0.03245023638010025, 0.3548926115036011, 0.0, 0.0, 0.0, 0.0], [0.021232308819890022, 0.0010978402569890022, 0.0026992654893547297, 2.22087801375892e-05, 3.4025237255264074e-05, 8.849334699334577e-05, 9.115804459725041e-06, 0.9748167395591736, 0.0, 0.0, 0.0], [0.004957873839884996, 0.002036710735410452, 1.0919753776761354e-06, 5.548864692173083e-07, 1.3168227269488852e-05, 1.7172951061183994e-07, 2.947477355519368e-07, 1.9962612896051724e-06, 0.9929881691932678, 0.0, 0.0], [0.005211728624999523, 3.1600513466401026e-05, 1.2338006172285532e-07, 2.426132255095581e-07, 3.303267419596523e-07, 2.0462452084757388e-05, 4.734508607384669e-08, 1.990341935709239e-08, 1.265988089471648e-06, 0.9947342872619629, 0.0], [0.022275591269135475, 2.2145775801618584e-05, 0.0003457576094660908, 6.221500370884314e-05, 0.0001347409124718979, 4.0745018736743077e-07, 1.2708750546153169e-05, 4.016638922621496e-05, 1.4550324522133451e-05, 2.5845741902230657e-07, 0.9770914912223816]], [[1.0, 0.0, 0.0, 0.0, 0.0, 0.0, 0.0, 0.0, 0.0, 0.0, 0.0], [0.8964753150939941, 0.10352465510368347, 0.0, 0.0, 0.0, 0.0, 0.0, 0.0, 0.0, 0.0, 0.0], [0.48955047130584717, 0.47285449504852295, 0.037594955414533615, 0.0, 0.0, 0.0, 0.0, 0.0, 0.0, 0.0, 0.0], [0.35964837670326233, 0.5832170248031616, 0.040370505303144455, 0.01676403544843197, 0.0, 0.0, 0.0, 0.0, 0.0, 0.0, 0.0], [0.3599433898925781, 0.3511325418949127, 0.04411013051867485, 0.03938041627407074, 0.20543354749679565, 0.0, 0.0, 0.0, 0.0, 0.0, 0.0], [0.31863638758659363, 0.38064226508140564, 0.03471091017127037, 0.057008374482393265, 0.08485659211874008, 0.12414545565843582, 0.0, 0.0, 0.0, 0.0, 0.0], [0.3035528063774109, 0.37789803743362427, 0.042647648602724075, 0.018292702734470367, 0.08556056767702103, 0.16298678517341614, 0.009061404503881931, 0.0, 0.0, 0.0, 0.0], [0.24057237803936005, 0.17139343917369843, 0.04145681485533714, 0.03494041785597801, 0.12399189174175262, 0.14017723500728607, 0.04081152006983757, 0.2066562920808792, 0.0, 0.0, 0.0], [0.4368669390678406, 0.11849641054868698, 0.04997531697154045, 0.07086150348186493, 0.06215784326195717, 0.03623633459210396, 0.0629693791270256, 0.06790986657142639, 0.09452638030052185, 0.0, 0.0], [0.30002227425575256, 0.1331116259098053, 0.05682799592614174, 0.05268529802560806, 0.045500706881284714, 0.08202654868364334, 0.06373166292905807, 0.03500361740589142, 0.13847918808460236, 0.09261110424995422, 0.0], [0.13239280879497528, 0.1382664293050766, 0.03952131047844887, 0.012585170567035675, 0.04208216071128845, 0.0314488410949707, 0.023085180670022964, 0.06124221533536911, 0.2651118040084839, 0.22419564425945282, 0.030068423599004745]], [[1.0, 0.0, 0.0, 0.0, 0.0, 0.0, 0.0, 0.0, 0.0, 0.0, 0.0], [0.9809120893478394, 0.019087960943579674, 0.0, 0.0, 0.0, 0.0, 0.0, 0.0, 0.0, 0.0, 0.0], [0.5396163463592529, 0.29177185893058777, 0.1686117798089981, 0.0, 0.0, 0.0, 0.0, 0.0, 0.0, 0.0, 0.0], [0.36861252784729004, 0.13251051306724548, 0.27480822801589966, 0.22406873106956482, 0.0, 0.0, 0.0, 0.0, 0.0, 0.0, 0.0], [0.2225036323070526, 0.2563513517379761, 0.15516802668571472, 0.2380955070257187, 0.12788145244121552, 0.0, 0.0, 0.0, 0.0, 0.0, 0.0], [0.15721164643764496, 0.0501413531601429, 0.1448666900396347, 0.2171677052974701, 0.2996304929256439, 0.13098210096359253, 0.0, 0.0, 0.0, 0.0, 0.0], [0.11346086859703064, 0.05638289451599121, 0.07156297564506531, 0.11046033352613449, 0.1694483608007431, 0.1472456306219101, 0.33143892884254456, 0.0, 0.0, 0.0, 0.0], [0.13069261610507965, 0.037726204842329025, 0.04536174610257149, 0.0864807516336441, 0.11764785647392273, 0.059731584042310715, 0.30451294779777527, 0.2178463339805603, 0.0, 0.0, 0.0], [0.24046383798122406, 0.03819085285067558, 0.04613757133483887, 0.08004005253314972, 0.08537361025810242, 0.06884069740772247, 0.1746554970741272, 0.20511434972286224, 0.06118350103497505, 0.0, 0.0], [0.17703163623809814, 0.03238079696893692, 0.04590684175491333, 0.049381062388420105, 0.03037719801068306, 0.06270560622215271, 0.1808510720729828, 0.17791856825351715, 0.2259262204170227, 0.017521025612950325, 0.0], [0.02366231195628643, 0.0020542589481920004, 0.006874711252748966, 0.009270917624235153, 0.01847757212817669, 0.007286815904080868, 0.03633430600166321, 0.06801437586545944, 0.671687126159668, 0.0852288007736206, 0.07110876590013504]], [[1.0, 0.0, 0.0, 0.0, 0.0, 0.0, 0.0, 0.0, 0.0, 0.0, 0.0], [0.8504678010940552, 0.14953213930130005, 0.0, 0.0, 0.0, 0.0, 0.0, 0.0, 0.0, 0.0, 0.0], [0.4296497106552124, 0.03875473514199257, 0.5315955281257629, 0.0, 0.0, 0.0, 0.0, 0.0, 0.0, 0.0, 0.0], [0.10234971344470978, 0.011499111540615559, 0.286487877368927, 0.5996633768081665, 0.0, 0.0, 0.0, 0.0, 0.0, 0.0, 0.0], [0.24024201929569244, 0.03835068643093109, 0.281509131193161, 0.38325148820877075, 0.05664664879441261, 0.0, 0.0, 0.0, 0.0, 0.0, 0.0], [0.40997377038002014, 0.09779561311006546, 0.14934316277503967, 0.20845477283000946, 0.09168761223554611, 0.042745042592287064, 0.0, 0.0, 0.0, 0.0, 0.0], [0.08695537596940994, 0.006943342741578817, 0.21190601587295532, 0.22122520208358765, 0.02373829297721386, 0.012177092023193836, 0.4370546340942383, 0.0, 0.0, 0.0, 0.0], [0.28659576177597046, 0.043331533670425415, 0.15083801746368408, 0.16899067163467407, 0.08599360287189484, 0.044752318412065506, 0.18856342136859894, 0.030934620648622513, 0.0, 0.0, 0.0], [0.5218327641487122, 0.03305206075310707, 0.09242208302021027, 0.07790102809667587, 0.0405980721116066, 0.022130947560071945, 0.15776841342449188, 0.04134799912571907, 0.012946651317179203, 0.0, 0.0], [0.3939536511898041, 0.0722610279917717, 0.06437436491250992, 0.09689123928546906, 0.04257948696613312, 0.022654326632618904, 0.13625364005565643, 0.020363854244351387, 0.1402585804462433, 0.010409765876829624, 0.0], [0.15296480059623718, 0.05440162867307663, 0.07626108080148697, 0.2034156620502472, 0.07193605601787567, 0.03963189199566841, 0.14142882823944092, 0.027437487617135048, 0.0499710813164711, 0.05337200686335564, 0.129179447889328]], [[1.0, 0.0, 0.0, 0.0, 0.0, 0.0, 0.0, 0.0, 0.0, 0.0, 0.0], [0.9650574922561646, 0.034942444413900375, 0.0, 0.0, 0.0, 0.0, 0.0, 0.0, 0.0, 0.0, 0.0], [0.7391533255577087, 0.10733260214328766, 0.1535140872001648, 0.0, 0.0, 0.0, 0.0, 0.0, 0.0, 0.0, 0.0], [0.6383631825447083, 0.09046147763729095, 0.12727274000644684, 0.14390257000923157, 0.0, 0.0, 0.0, 0.0, 0.0, 0.0, 0.0], [0.590687096118927, 0.09173860400915146, 0.11761385947465897, 0.12527640163898468, 0.07468404620885849, 0.0, 0.0, 0.0, 0.0, 0.0, 0.0], [0.5476900935173035, 0.11790499091148376, 0.09972397983074188, 0.1022316962480545, 0.09637221693992615, 0.03607703372836113, 0.0, 0.0, 0.0, 0.0, 0.0], [0.4634735584259033, 0.0846499428153038, 0.10658308118581772, 0.10475272685289383, 0.08147808164358139, 0.052446406334638596, 0.10661621391773224, 0.0, 0.0, 0.0, 0.0], [0.404153048992157, 0.06684241443872452, 0.10960371792316437, 0.09572157263755798, 0.0869995728135109, 0.06161103397607803, 0.10484550893306732, 0.07022309303283691, 0.0, 0.0, 0.0], [0.4783223569393158, 0.0958191305398941, 0.08622770011425018, 0.0693269819021225, 0.058928992599248886, 0.04601757973432541, 0.08334919810295105, 0.06298571079969406, 0.019022328779101372, 0.0, 0.0], [0.4237075448036194, 0.08494291454553604, 0.08151046186685562, 0.07524213939905167, 0.057949721813201904, 0.054849300533533096, 0.08507135510444641, 0.04981018230319023, 0.05663043633103371, 0.030285852029919624, 0.0], [0.29154884815216064, 0.05952244997024536, 0.0792618989944458, 0.0891435444355011, 0.060414548963308334, 0.050887253135442734, 0.09674392640590668, 0.05069579929113388, 0.0846589207649231, 0.06306581199169159, 0.07405698299407959]], [[1.0, 0.0, 0.0, 0.0, 0.0, 0.0, 0.0, 0.0, 0.0, 0.0, 0.0], [0.7703397274017334, 0.22966034710407257, 0.0, 0.0, 0.0, 0.0, 0.0, 0.0, 0.0, 0.0, 0.0], [0.6483933329582214, 0.0639210194349289, 0.28768569231033325, 0.0, 0.0, 0.0, 0.0, 0.0, 0.0, 0.0, 0.0], [0.5861726403236389, 0.06932051479816437, 0.1158175989985466, 0.2286892831325531, 0.0, 0.0, 0.0, 0.0, 0.0, 0.0, 0.0], [0.4320128262042999, 0.06791401654481888, 0.10180344432592392, 0.12663894891738892, 0.27163079380989075, 0.0, 0.0, 0.0, 0.0, 0.0, 0.0], [0.3887921869754791, 0.06228765845298767, 0.11985178291797638, 0.11736176162958145, 0.05874798446893692, 0.2529585659503937, 0.0, 0.0, 0.0, 0.0, 0.0], [0.3870477080345154, 0.11120011657476425, 0.14716795086860657, 0.1248224675655365, 0.06061388552188873, 0.04851550608873367, 0.1206323504447937, 0.0, 0.0, 0.0, 0.0], [0.244656041264534, 0.05663043633103371, 0.2238641232252121, 0.09954991936683655, 0.05138532817363739, 0.040585532784461975, 0.08622581511735916, 0.1971028447151184, 0.0, 0.0, 0.0], [0.2960493564605713, 0.09092891961336136, 0.09699562191963196, 0.08505439013242722, 0.060928937047719955, 0.021634161472320557, 0.07863648235797882, 0.048824381083250046, 0.22094766795635223, 0.0, 0.0], [0.30271264910697937, 0.06217097118496895, 0.08610767871141434, 0.08755753934383392, 0.03400178253650665, 0.06268630176782608, 0.08554419875144958, 0.03699517622590065, 0.040806133300065994, 0.20141758024692535, 0.0], [0.24317066371440887, 0.06213628500699997, 0.08912978321313858, 0.1048206090927124, 0.051647596061229706, 0.01759207993745804, 0.08332589268684387, 0.03941422328352928, 0.038139406591653824, 0.01816200651228428, 0.2524614632129669]], [[1.0, 0.0, 0.0, 0.0, 0.0, 0.0, 0.0, 0.0, 0.0, 0.0, 0.0], [0.7916324734687805, 0.2083674669265747, 0.0, 0.0, 0.0, 0.0, 0.0, 0.0, 0.0, 0.0, 0.0], [0.7317400574684143, 0.11006224900484085, 0.15819767117500305, 0.0, 0.0, 0.0, 0.0, 0.0, 0.0, 0.0, 0.0], [0.6366673707962036, 0.11437740176916122, 0.13440454006195068, 0.11455066502094269, 0.0, 0.0, 0.0, 0.0, 0.0, 0.0, 0.0], [0.6409074664115906, 0.13019481301307678, 0.06245751678943634, 0.055510181933641434, 0.11093004047870636, 0.0, 0.0, 0.0, 0.0, 0.0, 0.0], [0.45944735407829285, 0.13323064148426056, 0.12488717585802078, 0.06360116600990295, 0.07936158776283264, 0.13947206735610962, 0.0, 0.0, 0.0, 0.0, 0.0], [0.4008207619190216, 0.11348666250705719, 0.10094929486513138, 0.07063628733158112, 0.09479229897260666, 0.09493453800678253, 0.12438011914491653, 0.0, 0.0, 0.0, 0.0], [0.48050662875175476, 0.06337452679872513, 0.07441335171461105, 0.05787670239806175, 0.0723523423075676, 0.044082436710596085, 0.12329639494419098, 0.08409762382507324, 0.0, 0.0, 0.0], [0.20762436091899872, 0.06070492044091225, 0.06838612258434296, 0.0943923145532608, 0.08085253089666367, 0.09571736305952072, 0.13092224299907684, 0.09136179089546204, 0.1700383573770523, 0.0, 0.0], [0.19498902559280396, 0.06914391368627548, 0.06227509304881096, 0.05271640419960022, 0.0775042474269867, 0.10630639642477036, 0.07765983790159225, 0.10566329210996628, 0.23475511372089386, 0.018986670300364494, 0.0], [0.30167871713638306, 0.0768337994813919, 0.057940125465393066, 0.05265875160694122, 0.08022377640008926, 0.07174117863178253, 0.06511953473091125, 0.10693812370300293, 0.11510943621397018, 0.032370325177907944, 0.03938629478216171]]]}\n",
              "    )\n",
              "    </script>"
            ]
          },
          "metadata": {},
          "execution_count": 15
        }
      ]
    },
    {
      "cell_type": "code",
      "source": [
        "attn_pattern(\"John is a great friend, isn’t\")"
      ],
      "metadata": {
        "colab": {
          "base_uri": "https://localhost:8080/",
          "height": 358
        },
        "id": "6FjzEdSnSZE_",
        "outputId": "fced95f7-cafb-44ec-8e6c-c398ad6b06cf"
      },
      "execution_count": 16,
      "outputs": [
        {
          "output_type": "execute_result",
          "data": {
            "text/plain": [
              "<circuitsvis.utils.render.RenderedHTML at 0x7f7263c2cd00>"
            ],
            "text/html": [
              "<div id=\"circuits-vis-b9a70327-90e8\" style=\"margin: 15px 0;\"/>\n",
              "    <script crossorigin type=\"module\">\n",
              "    import { render, AttentionPatterns } from \"https://unpkg.com/circuitsvis@1.39.1/dist/cdn/esm.js\";\n",
              "    render(\n",
              "      \"circuits-vis-b9a70327-90e8\",\n",
              "      AttentionPatterns,\n",
              "      {\"tokens\": [\"<|endoftext|>\", \"John\", \" is\", \" a\", \" great\", \" friend\", \",\", \" isn\", \"\\ufffd\", \"\\ufffd\", \"t\"], \"attention\": [[[1.0, 0.0, 0.0, 0.0, 0.0, 0.0, 0.0, 0.0, 0.0, 0.0, 0.0], [0.916054904460907, 0.0839451402425766, 0.0, 0.0, 0.0, 0.0, 0.0, 0.0, 0.0, 0.0, 0.0], [0.8106294870376587, 0.15242372453212738, 0.03694674372673035, 0.0, 0.0, 0.0, 0.0, 0.0, 0.0, 0.0, 0.0], [0.79215008020401, 0.12406237423419952, 0.05454964563250542, 0.02923782728612423, 0.0, 0.0, 0.0, 0.0, 0.0, 0.0, 0.0], [0.6374921202659607, 0.14549686014652252, 0.07689736783504486, 0.06885354965925217, 0.07126012444496155, 0.0, 0.0, 0.0, 0.0, 0.0, 0.0], [0.5114187002182007, 0.09316615015268326, 0.10716398060321808, 0.10544724762439728, 0.1017661765217781, 0.0810377448797226, 0.0, 0.0, 0.0, 0.0, 0.0], [0.5739916563034058, 0.15594640374183655, 0.0327720120549202, 0.02947220578789711, 0.1436275988817215, 0.053134985268116, 0.011055086739361286, 0.0, 0.0, 0.0, 0.0], [0.5124765038490295, 0.11322496831417084, 0.050937626510858536, 0.03887329250574112, 0.11751801520586014, 0.031211644411087036, 0.060476161539554596, 0.07528182864189148, 0.0, 0.0, 0.0], [0.36184409260749817, 0.20629923045635223, 0.04983939975500107, 0.05648789927363396, 0.08443385362625122, 0.03338434919714928, 0.0670575425028801, 0.07269799709320068, 0.06795570254325867, 0.0, 0.0], [0.2633669376373291, 0.20519009232521057, 0.04413747787475586, 0.04715275391936302, 0.06726869940757751, 0.11340201646089554, 0.10418752580881119, 0.051389072090387344, 0.06479531526565552, 0.03911006450653076, 0.0], [0.31131574511528015, 0.11099360883235931, 0.02171126753091812, 0.043644461780786514, 0.04931921139359474, 0.13143755495548248, 0.06494040042161942, 0.018787531182169914, 0.15503370761871338, 0.06460706144571304, 0.028209393844008446]], [[1.0, 0.0, 0.0, 0.0, 0.0, 0.0, 0.0, 0.0, 0.0, 0.0, 0.0], [0.0006820278940722346, 0.99931800365448, 0.0, 0.0, 0.0, 0.0, 0.0, 0.0, 0.0, 0.0, 0.0], [0.0014067554147914052, 0.00040045983041636646, 0.9981928467750549, 0.0, 0.0, 0.0, 0.0, 0.0, 0.0, 0.0, 0.0], [0.0027212726417928934, 0.004709065891802311, 0.002190846251323819, 0.9903788566589355, 0.0, 0.0, 0.0, 0.0, 0.0, 0.0, 0.0], [9.034321556100622e-05, 0.0020384290255606174, 0.0004612337506841868, 0.0013961654622107744, 0.9960137605667114, 0.0, 0.0, 0.0, 0.0, 0.0, 0.0], [2.1733383618993685e-05, 0.007018951699137688, 9.753342601470649e-05, 0.00020903351833112538, 0.0003318333183415234, 0.9923209547996521, 0.0, 0.0, 0.0, 0.0, 0.0], [0.007672244217246771, 0.00021545738854911178, 0.00503880251199007, 0.0006965653738006949, 0.0001399419124936685, 3.5334367566974834e-05, 0.9862017035484314, 0.0, 0.0, 0.0, 0.0], [2.3242497263709083e-05, 0.00019547980627976358, 0.023009968921542168, 8.166073530446738e-05, 0.0001098175926017575, 0.0001261082652490586, 0.00011327635002089664, 0.9763403534889221, 0.0, 0.0, 0.0], [0.0004049356793984771, 0.0007114043110050261, 0.00011225777416257188, 7.735882536508143e-05, 1.92651914403541e-05, 2.991501423821319e-05, 8.634891855763271e-05, 0.0006092968978919089, 0.9979493021965027, 0.0, 0.0], [2.6778012397699058e-05, 0.0012268751161172986, 1.7279835446970537e-05, 6.592817226191983e-05, 3.2678869956725975e-06, 0.00047359871678054333, 5.29135968463379e-06, 3.2348754757549614e-05, 5.067307210993022e-05, 0.9980980753898621, 0.0], [0.00028009735979139805, 0.0002230489335488528, 0.00046338385436683893, 0.0013659743126481771, 0.0004080897488165647, 1.9119925127597526e-05, 0.00022342917509377003, 0.00015481800073757768, 0.00033863625139929354, 5.932896783633623e-06, 0.9965174198150635]], [[1.0, 0.0, 0.0, 0.0, 0.0, 0.0, 0.0, 0.0, 0.0, 0.0, 0.0], [0.9578647613525391, 0.042135242372751236, 0.0, 0.0, 0.0, 0.0, 0.0, 0.0, 0.0, 0.0, 0.0], [0.8197572827339172, 0.06719862669706345, 0.11304409056901932, 0.0, 0.0, 0.0, 0.0, 0.0, 0.0, 0.0, 0.0], [0.7478392720222473, 0.08686556667089462, 0.1216907724738121, 0.04360436648130417, 0.0, 0.0, 0.0, 0.0, 0.0, 0.0, 0.0], [0.6596394181251526, 0.10121376067399979, 0.08918639272451401, 0.08425948768854141, 0.06570091098546982, 0.0, 0.0, 0.0, 0.0, 0.0, 0.0], [0.6154467463493347, 0.12489017099142075, 0.06896240264177322, 0.08591770380735397, 0.07474594563245773, 0.03003704361617565, 0.0, 0.0, 0.0, 0.0, 0.0], [0.44727492332458496, 0.033792249858379364, 0.05920059233903885, 0.013074880465865135, 0.027575872838497162, 0.015852762386202812, 0.4032287895679474, 0.0, 0.0, 0.0, 0.0], [0.5475448369979858, 0.0812624916434288, 0.08117646723985672, 0.05608285218477249, 0.08275989443063736, 0.04909786954522133, 0.055289216339588165, 0.046786438673734665, 0.0, 0.0, 0.0], [0.5159542560577393, 0.13357186317443848, 0.0836566612124443, 0.039825189858675, 0.0384976901113987, 0.039219509810209274, 0.047639209777116776, 0.05227968841791153, 0.04935596138238907, 0.0, 0.0], [0.5348314046859741, 0.08961809426546097, 0.07905980199575424, 0.04572043940424919, 0.021333731710910797, 0.01874529756605625, 0.05658954381942749, 0.03593599051237106, 0.054766714572906494, 0.06339891254901886, 0.0], [0.4329072833061218, 0.10455245524644852, 0.08137913048267365, 0.0444907508790493, 0.050711490213871, 0.0370265431702137, 0.07088688760995865, 0.050561197102069855, 0.05025726556777954, 0.0505259744822979, 0.026701023802161217]], [[1.0, 0.0, 0.0, 0.0, 0.0, 0.0, 0.0, 0.0, 0.0, 0.0, 0.0], [0.14604978263378143, 0.8539502024650574, 0.0, 0.0, 0.0, 0.0, 0.0, 0.0, 0.0, 0.0, 0.0], [0.19827556610107422, 0.03799623250961304, 0.7637282609939575, 0.0, 0.0, 0.0, 0.0, 0.0, 0.0, 0.0, 0.0], [0.12279112637042999, 0.0445224791765213, 0.1907968968153, 0.6418895125389099, 0.0, 0.0, 0.0, 0.0, 0.0, 0.0, 0.0], [0.0033943988382816315, 0.0003511464165057987, 0.00045680327457375824, 0.001872410299256444, 0.9939252734184265, 0.0, 0.0, 0.0, 0.0, 0.0, 0.0], [0.0010786444181576371, 0.0023682948667556047, 0.00010957025369862095, 0.00046451171510852873, 0.016857411712408066, 0.9791215062141418, 0.0, 0.0, 0.0, 0.0, 0.0], [0.07010563462972641, 0.0136500159278512, 0.059667471796274185, 0.053211018443107605, 0.08853975683450699, 0.027759980410337448, 0.6870661377906799, 0.0, 0.0, 0.0, 0.0], [0.006301202345639467, 0.0008804782410152256, 0.0021460861898958683, 0.0012137774610891938, 0.0023564528673887253, 0.0014986955793574452, 0.004963490646332502, 0.9806398749351501, 0.0, 0.0, 0.0], [0.0030887206085026264, 0.00011703771451720968, 1.21736536584649e-06, 4.990469278709497e-06, 0.0003518635348882526, 0.00011244185589021072, 4.0098460885928944e-05, 0.0008522511925548315, 0.9954314231872559, 0.0, 0.0], [0.002973125781863928, 0.0004819973837584257, 3.229738649679348e-05, 2.6427162083564326e-05, 0.0003225218679290265, 0.000319197861244902, 0.0003018337592948228, 0.0020269029773771763, 0.05399288609623909, 0.9395228028297424, 0.0], [0.00044617336243391037, 8.958973194239661e-05, 0.00010734437091741711, 8.665028144605458e-05, 0.0028673175256699324, 9.047841012943536e-05, 0.0016013793647289276, 0.0450555793941021, 0.09974154829978943, 0.006047449074685574, 0.8438665270805359]], [[1.0, 0.0, 0.0, 0.0, 0.0, 0.0, 0.0, 0.0, 0.0, 0.0, 0.0], [0.3913993537425995, 0.6086006164550781, 0.0, 0.0, 0.0, 0.0, 0.0, 0.0, 0.0, 0.0, 0.0], [0.6379737257957458, 0.17669184505939484, 0.18533441424369812, 0.0, 0.0, 0.0, 0.0, 0.0, 0.0, 0.0, 0.0], [0.38396507501602173, 0.14748845994472504, 0.25614774227142334, 0.2123986780643463, 0.0, 0.0, 0.0, 0.0, 0.0, 0.0, 0.0], [0.14310778677463531, 0.02747664786875248, 0.04723721742630005, 0.05903203785419464, 0.7231463193893433, 0.0, 0.0, 0.0, 0.0, 0.0, 0.0], [0.07241695374250412, 0.03890880569815636, 0.008563106879591942, 0.025587107986211777, 0.04286395013332367, 0.81166011095047, 0.0, 0.0, 0.0, 0.0, 0.0], [0.18803176283836365, 0.10562091320753098, 0.14246907830238342, 0.040454715490341187, 0.09374511986970901, 0.13387417793273926, 0.2958042025566101, 0.0, 0.0, 0.0, 0.0], [0.08593760430812836, 0.0180063359439373, 0.04729778319597244, 0.03692227229475975, 0.14779867231845856, 0.06437010318040848, 0.06082748621702194, 0.5388397574424744, 0.0, 0.0, 0.0], [0.07034127414226532, 0.012122776359319687, 0.010749350301921368, 0.00630631810054183, 0.011788306757807732, 0.004509403370320797, 0.007892756722867489, 0.09612645953893661, 0.7801633477210999, 0.0, 0.0], [0.011138595640659332, 0.00965071190148592, 0.000711312226485461, 0.0003352200728841126, 0.0008135683019645512, 0.004600375425070524, 0.0012339218519628048, 0.010050520300865173, 0.8121868968009949, 0.149278923869133, 0.0], [0.0037269648164510727, 0.0027084334287792444, 0.006356305442750454, 0.004895348567515612, 0.02005719020962715, 0.001834976952522993, 0.008288477547466755, 0.17770935595035553, 0.5180153250694275, 0.12118182331323624, 0.13522577285766602]], [[1.0, 0.0, 0.0, 0.0, 0.0, 0.0, 0.0, 0.0, 0.0, 0.0, 0.0], [0.2619704306125641, 0.7380295991897583, 0.0, 0.0, 0.0, 0.0, 0.0, 0.0, 0.0, 0.0, 0.0], [0.2783343195915222, 0.0036286874674260616, 0.718036949634552, 0.0, 0.0, 0.0, 0.0, 0.0, 0.0, 0.0, 0.0], [0.27364856004714966, 0.009993541985750198, 0.08919638395309448, 0.6271615624427795, 0.0, 0.0, 0.0, 0.0, 0.0, 0.0, 0.0], [0.10423050820827484, 0.0008746981038711965, 7.091445149853826e-05, 8.660039748065174e-05, 0.8947372436523438, 0.0, 0.0, 0.0, 0.0, 0.0, 0.0], [0.026566414162516594, 0.010828795842826366, 2.171370397263672e-06, 3.950252903450746e-06, 6.987035885686055e-05, 0.9625288248062134, 0.0, 0.0, 0.0, 0.0, 0.0], [0.22885245084762573, 0.03045988641679287, 0.11467114835977554, 0.1802504062652588, 0.06407399475574493, 0.031976837664842606, 0.3497152626514435, 0.0, 0.0, 0.0, 0.0], [0.021179286763072014, 0.00359227298758924, 0.0026925248093903065, 2.2153320969664492e-05, 3.394026862224564e-05, 8.827236160868779e-05, 9.093040716834366e-06, 0.9723824262619019, 0.0, 0.0, 0.0], [0.0049676960334181786, 5.968692494207062e-05, 1.09413872451114e-06, 5.559857640946575e-07, 1.3194315215514507e-05, 1.7206971847372188e-07, 2.9533165957218444e-07, 2.0002159999421565e-06, 0.9949553608894348, 0.0, 0.0], [0.005210751201957464, 0.00021904445020481944, 1.2335692645137897e-07, 2.4256772235276003e-07, 3.30264782633094e-07, 2.0458614017115906e-05, 4.7336204289649686e-08, 1.989968723137281e-08, 1.2657505976676475e-06, 0.9945476651191711, 0.0], [0.02227555215358734, 2.3947444788063876e-05, 0.0003457569982856512, 6.221489456947893e-05, 0.00013474066508933902, 4.07449476824695e-07, 1.2708727808785625e-05, 4.016631646663882e-05, 1.4550299056281801e-05, 2.584569642749557e-07, 0.9770897626876831]], [[1.0, 0.0, 0.0, 0.0, 0.0, 0.0, 0.0, 0.0, 0.0, 0.0, 0.0], [0.8730825185775757, 0.12691745162010193, 0.0, 0.0, 0.0, 0.0, 0.0, 0.0, 0.0, 0.0, 0.0], [0.5841800570487976, 0.3709578812122345, 0.04486202076077461, 0.0, 0.0, 0.0, 0.0, 0.0, 0.0, 0.0, 0.0], [0.4703527092933655, 0.4549259841442108, 0.05279705300927162, 0.02192421816289425, 0.0, 0.0, 0.0, 0.0, 0.0, 0.0, 0.0], [0.34516870975494385, 0.37776675820350647, 0.0422995388507843, 0.03776395693421364, 0.19700108468532562, 0.0, 0.0, 0.0, 0.0, 0.0, 0.0], [0.3625516891479492, 0.29528072476387024, 0.03949486091732979, 0.06486541777849197, 0.09655176103115082, 0.14125551283359528, 0.0, 0.0, 0.0, 0.0, 0.0], [0.31201767921447754, 0.3605501055717468, 0.043836914002895355, 0.018802812322974205, 0.08794650435447693, 0.1675318330526352, 0.009314090013504028, 0.0, 0.0, 0.0, 0.0], [0.23891803622245789, 0.1770915687084198, 0.04117172956466675, 0.03470014035701752, 0.12313923239707947, 0.13921326398849487, 0.04053087159991264, 0.20523516833782196, 0.0, 0.0, 0.0], [0.42530760169029236, 0.1418207287788391, 0.04865299165248871, 0.06898653507232666, 0.06051316857337952, 0.035277534276247025, 0.06130323186516762, 0.06611299514770508, 0.09202524274587631, 0.0, 0.0], [0.28513064980506897, 0.1761397123336792, 0.05400732904672623, 0.05007025599479675, 0.04324227571487427, 0.07795515656471252, 0.06056833639740944, 0.033266209065914154, 0.13160575926303864, 0.08801434189081192, 0.0], [0.14254730939865112, 0.0721716657280922, 0.04255259037017822, 0.013550451025366783, 0.04530985280871391, 0.033860962837934494, 0.024855809286236763, 0.06593948602676392, 0.28544580936431885, 0.2413914054632187, 0.03237466514110565]], [[1.0, 0.0, 0.0, 0.0, 0.0, 0.0, 0.0, 0.0, 0.0, 0.0, 0.0], [0.9884562492370605, 0.011543776839971542, 0.0, 0.0, 0.0, 0.0, 0.0, 0.0, 0.0, 0.0, 0.0], [0.4353839159011841, 0.4285734295845032, 0.13604268431663513, 0.0, 0.0, 0.0, 0.0, 0.0, 0.0, 0.0, 0.0], [0.3894557058811188, 0.08345834910869598, 0.29034724831581116, 0.23673869669437408, 0.0, 0.0, 0.0, 0.0, 0.0, 0.0, 0.0], [0.25820392370224, 0.13703426718711853, 0.18006448447704315, 0.27629750967025757, 0.14839981496334076, 0.0, 0.0, 0.0, 0.0, 0.0, 0.0], [0.15362435579299927, 0.07181541621685028, 0.1415610909461975, 0.21221232414245605, 0.2927934527397156, 0.12799331545829773, 0.0, 0.0, 0.0, 0.0, 0.0], [0.11321044713258743, 0.05846565216779709, 0.07140502333641052, 0.11021653562784195, 0.16907435655593872, 0.14692063629627228, 0.3307074010372162, 0.0, 0.0, 0.0, 0.0], [0.12792089581489563, 0.0581340454518795, 0.04439971596002579, 0.08464667201042175, 0.11515278369188309, 0.05846479907631874, 0.29805484414100647, 0.21322625875473022, 0.0, 0.0, 0.0], [0.23519039154052734, 0.05928366631269455, 0.04512576013803482, 0.07828474789857864, 0.08350133895874023, 0.06733100116252899, 0.17082524299621582, 0.20061612129211426, 0.05984172597527504, 0.0, 0.0], [0.17642967402935028, 0.035670988261699677, 0.04575074091553688, 0.04921315237879753, 0.030273906886577606, 0.06249238923192024, 0.1802361160516739, 0.17731359601020813, 0.22515800595283508, 0.017461448907852173, 0.0], [0.023680102080106735, 0.0013039634795859456, 0.006879880093038082, 0.00927788857370615, 0.018491463735699654, 0.007292294874787331, 0.03636162355542183, 0.06806550920009613, 0.6721921563148499, 0.08529288321733475, 0.07116223126649857]], [[1.0, 0.0, 0.0, 0.0, 0.0, 0.0, 0.0, 0.0, 0.0, 0.0, 0.0], [0.823434591293335, 0.17656540870666504, 0.0, 0.0, 0.0, 0.0, 0.0, 0.0, 0.0, 0.0, 0.0], [0.42420440912246704, 0.050937388092279434, 0.5248581767082214, 0.0, 0.0, 0.0, 0.0, 0.0, 0.0, 0.0, 0.0], [0.10154744237661362, 0.019247382879257202, 0.2842422425746918, 0.5949628949165344, 0.0, 0.0, 0.0, 0.0, 0.0, 0.0, 0.0], [0.23949262499809265, 0.04135042428970337, 0.28063100576400757, 0.38205599784851074, 0.05646994709968567, 0.0, 0.0, 0.0, 0.0, 0.0, 0.0], [0.42036953568458557, 0.07491827756166458, 0.15313008427619934, 0.21374058723449707, 0.0940125435590744, 0.04382893443107605, 0.0, 0.0, 0.0, 0.0, 0.0], [0.08656112104654312, 0.011445881798863411, 0.2109452188014984, 0.22022217512130737, 0.023630663752555847, 0.012121880427002907, 0.43507301807403564, 0.0, 0.0, 0.0, 0.0], [0.28864574432373047, 0.03648853674530983, 0.15191695094108582, 0.170199453830719, 0.08660870790481567, 0.04507242888212204, 0.18991219997406006, 0.031155893579125404, 0.0, 0.0, 0.0], [0.5148283243179321, 0.04603113979101181, 0.09118152409791946, 0.0768553838133812, 0.04005313292145729, 0.021833891049027443, 0.15565073490142822, 0.04079299792647362, 0.012772872112691402, 0.0, 0.0], [0.3913646340370178, 0.07835810631513596, 0.06395130604505539, 0.09625447541475296, 0.04229965806007385, 0.022505445405840874, 0.13535818457603455, 0.020230025053024292, 0.13933682441711426, 0.010341353714466095, 0.0], [0.15264257788658142, 0.056393519043922424, 0.0761004388332367, 0.2029871642589569, 0.07178452610969543, 0.03954840824007988, 0.14113090932369232, 0.02737969160079956, 0.04986581578850746, 0.053259581327438354, 0.12890733778476715]], [[1.0, 0.0, 0.0, 0.0, 0.0, 0.0, 0.0, 0.0, 0.0, 0.0, 0.0], [0.9287337064743042, 0.0712662935256958, 0.0, 0.0, 0.0, 0.0, 0.0, 0.0, 0.0, 0.0, 0.0], [0.737417995929718, 0.10942842811346054, 0.1531536728143692, 0.0, 0.0, 0.0, 0.0, 0.0, 0.0, 0.0, 0.0], [0.6361212730407715, 0.09365575015544891, 0.12682576477527618, 0.14339719712734222, 0.0, 0.0, 0.0, 0.0, 0.0, 0.0, 0.0], [0.5982661247253418, 0.08008478581905365, 0.1191229522228241, 0.12688380479812622, 0.07564231753349304, 0.0, 0.0, 0.0, 0.0, 0.0, 0.0], [0.5630539655685425, 0.09316034615039825, 0.10252144932746887, 0.10509950667619705, 0.09907566010951996, 0.03708907216787338, 0.0, 0.0, 0.0, 0.0, 0.0], [0.4632924199104309, 0.0850076749920845, 0.10654143244028091, 0.10471179336309433, 0.08144623786211014, 0.05242590978741646, 0.10657454282045364, 0.0, 0.0, 0.0, 0.0], [0.3989744484424591, 0.07879940420389175, 0.10819932073354721, 0.09449505060911179, 0.08588480949401855, 0.06082158535718918, 0.10350207984447479, 0.06932329386472702, 0.0, 0.0, 0.0], [0.48430153727531433, 0.08451660722494125, 0.08730556815862656, 0.0701935887336731, 0.05966562405228615, 0.04659281298518181, 0.08439108729362488, 0.06377304345369339, 0.019260114058852196, 0.0, 0.0], [0.4278576076030731, 0.07598032057285309, 0.082308828830719, 0.07597910612821579, 0.05851731821894646, 0.05538652837276459, 0.08590459823608398, 0.0502980537712574, 0.057185109704732895, 0.03058248944580555, 0.0], [0.2910567820072174, 0.06110980361700058, 0.07912811636924744, 0.08899308741092682, 0.06031258404254913, 0.050801366567611694, 0.0965806394815445, 0.05061023682355881, 0.08451603353023529, 0.06295937299728394, 0.0739319920539856]], [[1.0, 0.0, 0.0, 0.0, 0.0, 0.0, 0.0, 0.0, 0.0, 0.0, 0.0], [0.7503389716148376, 0.24966104328632355, 0.0, 0.0, 0.0, 0.0, 0.0, 0.0, 0.0, 0.0, 0.0], [0.6437323093414307, 0.07065001130104065, 0.2856176495552063, 0.0, 0.0, 0.0, 0.0, 0.0, 0.0, 0.0, 0.0], [0.5741315484046936, 0.08843838423490524, 0.11343849450349808, 0.22399157285690308, 0.0, 0.0, 0.0, 0.0, 0.0, 0.0, 0.0], [0.4178536832332611, 0.0984630286693573, 0.09846685081720352, 0.12248837947845459, 0.26272815465927124, 0.0, 0.0, 0.0, 0.0, 0.0, 0.0], [0.36787164211273193, 0.11274516582489014, 0.11340267956256866, 0.11104663461446762, 0.055586811155080795, 0.23934710025787354, 0.0, 0.0, 0.0, 0.0, 0.0], [0.39754778146743774, 0.0870882198214531, 0.15116041898727417, 0.128208726644516, 0.06225825473666191, 0.04983166605234146, 0.12390493601560593, 0.0, 0.0, 0.0, 0.0], [0.2449319064617157, 0.0555666945874691, 0.22411653399467468, 0.0996621623635292, 0.05144326761364937, 0.04063129425048828, 0.08632303029298782, 0.19732508063316345, 0.0, 0.0, 0.0], [0.293473482131958, 0.09883856773376465, 0.0961516872048378, 0.08431435376405716, 0.060398805886507034, 0.021445928141474724, 0.07795228809118271, 0.04839956760406494, 0.21902525424957275, 0.0, 0.0], [0.301715612411499, 0.06525984406471252, 0.08582407236099243, 0.08726915717124939, 0.03388978913426399, 0.062479835003614426, 0.08526244014501572, 0.03687332570552826, 0.040671732276678085, 0.20075418055057526, 0.0], [0.24440376460552216, 0.05738038942217827, 0.08958175778388977, 0.10535214841365814, 0.05190949887037277, 0.017681289464235306, 0.08374843746423721, 0.03961409255862236, 0.03833281248807907, 0.018254105001688004, 0.25374168157577515]], [[1.0, 0.0, 0.0, 0.0, 0.0, 0.0, 0.0, 0.0, 0.0, 0.0, 0.0], [0.7464376091957092, 0.25356239080429077, 0.0, 0.0, 0.0, 0.0, 0.0, 0.0, 0.0, 0.0, 0.0], [0.7035704255104065, 0.14432202279567719, 0.15210756659507751, 0.0, 0.0, 0.0, 0.0, 0.0, 0.0, 0.0, 0.0], [0.6230090260505676, 0.13337653875350952, 0.13152118027210236, 0.11209322512149811, 0.0, 0.0, 0.0, 0.0, 0.0, 0.0, 0.0], [0.6126994490623474, 0.16847719252109528, 0.059708599001169205, 0.05306703597307205, 0.10604772716760635, 0.0, 0.0, 0.0, 0.0, 0.0, 0.0], [0.4516822397708893, 0.14787989854812622, 0.12277645617723465, 0.06252624094486237, 0.07802029699087143, 0.13711485266685486, 0.0, 0.0, 0.0, 0.0, 0.0], [0.393861323595047, 0.12887917459011078, 0.09919650852680206, 0.0694098249077797, 0.0931464210152626, 0.0932861864566803, 0.12222050130367279, 0.0, 0.0, 0.0, 0.0], [0.4627184569835663, 0.09804807603359222, 0.07165859639644623, 0.05573412775993347, 0.06967388093471527, 0.042450521141290665, 0.11873200535774231, 0.08098436146974564, 0.0, 0.0, 0.0], [0.20230023562908173, 0.08479133993387222, 0.06663249433040619, 0.09197180718183517, 0.07877922058105469, 0.09326287358999252, 0.12756498157978058, 0.08901899307966232, 0.16567805409431458, 0.0, 0.0], [0.19245730340480804, 0.0812300443649292, 0.0614665150642395, 0.05203193798661232, 0.07649793475866318, 0.10492612421512604, 0.07665151357650757, 0.10429137200117111, 0.23170708119869232, 0.018740149214863777, 0.0], [0.298086941242218, 0.08782491832971573, 0.05725029483437538, 0.05203180015087128, 0.07926863431930542, 0.07088703662157059, 0.06434422731399536, 0.1056649312376976, 0.11373895406723022, 0.031984928995370865, 0.03891736641526222]]]}\n",
              "    )\n",
              "    </script>"
            ]
          },
          "metadata": {},
          "execution_count": 16
        }
      ]
    },
    {
      "cell_type": "code",
      "source": [
        "attn_pattern(\"Matrix is a great movie, isn’t\")"
      ],
      "metadata": {
        "colab": {
          "base_uri": "https://localhost:8080/",
          "height": 358
        },
        "id": "R3yg_t_vSZhm",
        "outputId": "6af37ee7-74f6-46cd-cb00-db2a122a221b"
      },
      "execution_count": 17,
      "outputs": [
        {
          "output_type": "execute_result",
          "data": {
            "text/plain": [
              "<circuitsvis.utils.render.RenderedHTML at 0x7f71e6f5cdf0>"
            ],
            "text/html": [
              "<div id=\"circuits-vis-4cb30af4-0c10\" style=\"margin: 15px 0;\"/>\n",
              "    <script crossorigin type=\"module\">\n",
              "    import { render, AttentionPatterns } from \"https://unpkg.com/circuitsvis@1.39.1/dist/cdn/esm.js\";\n",
              "    render(\n",
              "      \"circuits-vis-4cb30af4-0c10\",\n",
              "      AttentionPatterns,\n",
              "      {\"tokens\": [\"<|endoftext|>\", \"Matrix\", \" is\", \" a\", \" great\", \" movie\", \",\", \" isn\", \"\\ufffd\", \"\\ufffd\", \"t\"], \"attention\": [[[1.0, 0.0, 0.0, 0.0, 0.0, 0.0, 0.0, 0.0, 0.0, 0.0, 0.0], [0.8020253777503967, 0.19797459244728088, 0.0, 0.0, 0.0, 0.0, 0.0, 0.0, 0.0, 0.0, 0.0], [0.8812655210494995, 0.07856829464435577, 0.040166180580854416, 0.0, 0.0, 0.0, 0.0, 0.0, 0.0, 0.0, 0.0], [0.8228054046630859, 0.0901646539568901, 0.05666065588593483, 0.03036929853260517, 0.0, 0.0, 0.0, 0.0, 0.0, 0.0, 0.0], [0.6596049666404724, 0.11585652828216553, 0.07956472784280777, 0.07124188542366028, 0.07373194396495819, 0.0, 0.0, 0.0, 0.0, 0.0, 0.0], [0.4407731592655182, 0.10360725969076157, 0.14454545080661774, 0.15010789036750793, 0.08429402112960815, 0.07667224854230881, 0.0, 0.0, 0.0, 0.0, 0.0], [0.6144607067108154, 0.0610935240983963, 0.03508258983492851, 0.03155013173818588, 0.15375399589538574, 0.09222453087568283, 0.011834520846605301, 0.0, 0.0, 0.0, 0.0], [0.47124919295310974, 0.07515309751033783, 0.04683983698487282, 0.03574604541063309, 0.10806402564048767, 0.13811112940311432, 0.0556110255420208, 0.06922562420368195, 0.0, 0.0, 0.0], [0.4076460003852844, 0.11058695614337921, 0.05614802613854408, 0.06363808363676071, 0.09512141346931458, 0.03285645693540573, 0.07554562389850616, 0.08190004527568817, 0.0765574723482132, 0.0, 0.0], [0.30402061343193054, 0.13817401230335236, 0.05095060169696808, 0.05443131551146507, 0.07765238732099533, 0.07523507624864578, 0.12027005851268768, 0.059321556240320206, 0.07479720562696457, 0.04514714702963829, 0.0], [0.23931488394737244, 0.3679814338684082, 0.016689907759428024, 0.03355040401220322, 0.03791271150112152, 0.04965965822339058, 0.04992103949189186, 0.014442368410527706, 0.11917764693498611, 0.04966479912400246, 0.021685153245925903]], [[1.0, 0.0, 0.0, 0.0, 0.0, 0.0, 0.0, 0.0, 0.0, 0.0, 0.0], [2.3864902686909772e-05, 0.9999761581420898, 0.0, 0.0, 0.0, 0.0, 0.0, 0.0, 0.0, 0.0, 0.0], [0.0014044760027900338, 0.0020200926810503006, 0.9965754151344299, 0.0, 0.0, 0.0, 0.0, 0.0, 0.0, 0.0, 0.0], [0.0027332883328199387, 0.00031441973987966776, 0.00220051989890635, 0.9947518706321716, 0.0, 0.0, 0.0, 0.0, 0.0, 0.0, 0.0], [9.03501859284006e-05, 0.001961410976946354, 0.00046126937377266586, 0.0013962731463834643, 0.9960905909538269, 0.0, 0.0, 0.0, 0.0, 0.0, 0.0], [0.0006371379131451249, 0.006580707151442766, 0.0007765816408209503, 0.0005798814236186445, 0.001211398048326373, 0.9902142286300659, 0.0, 0.0, 0.0, 0.0, 0.0], [0.0076639074832201, 0.001310823136009276, 0.005033327266573906, 0.0006958084413781762, 0.00013978984497953206, 2.631962161103729e-05, 0.9851300716400146, 0.0, 0.0, 0.0, 0.0], [2.3240903828991577e-05, 0.00015046905900817364, 0.02300839126110077, 8.165514009306207e-05, 0.00010981006926158443, 0.0002396768977632746, 0.00011326858657412231, 0.9762734174728394, 0.0, 0.0, 0.0], [0.0004051885916851461, 5.8080808230442926e-05, 0.00011232789256609976, 7.740714499959722e-05, 1.9277224055258557e-05, 5.9083620726596564e-05, 8.640284795546904e-05, 0.0006096774595789611, 0.998572587966919, 0.0, 0.0], [2.682256672414951e-05, 3.279769589425996e-05, 1.7308586393482983e-05, 6.603786459891126e-05, 3.2733241823734716e-06, 6.5269405240542255e-06, 5.300164048094302e-06, 3.2402578654000536e-05, 5.0757385906763375e-05, 0.999758780002594, 0.0], [0.0002800948277581483, 0.0001971476449398324, 0.00046337966341525316, 0.0013659619726240635, 0.00040808608173392713, 5.4020209063310176e-05, 0.00022342715237755328, 0.00015481660375371575, 0.0003386331954970956, 5.932843123446219e-06, 0.9965084195137024]], [[1.0, 0.0, 0.0, 0.0, 0.0, 0.0, 0.0, 0.0, 0.0, 0.0, 0.0], [0.9727718830108643, 0.027228061109781265, 0.0, 0.0, 0.0, 0.0, 0.0, 0.0, 0.0, 0.0, 0.0], [0.8645954728126526, 0.016177231445908546, 0.11922726035118103, 0.0, 0.0, 0.0, 0.0, 0.0, 0.0, 0.0, 0.0], [0.7851309180259705, 0.04133130982518196, 0.12775899469852448, 0.04577873647212982, 0.0, 0.0, 0.0, 0.0, 0.0, 0.0, 0.0], [0.704733669757843, 0.03977092728018761, 0.09528335183858871, 0.09001963585615158, 0.070192351937294, 0.0, 0.0, 0.0, 0.0, 0.0, 0.0], [0.6527677178382874, 0.05989636480808258, 0.049891553819179535, 0.062367863953113556, 0.0757574513554573, 0.09931902587413788, 0.0, 0.0, 0.0, 0.0, 0.0], [0.44934898614883423, 0.02132272720336914, 0.059475116431713104, 0.013135511428117752, 0.027703745290637016, 0.023915311321616173, 0.4050986170768738, 0.0, 0.0, 0.0, 0.0], [0.5514141917228699, 0.027709519490599632, 0.08175011724233627, 0.05647917464375496, 0.08334473520517349, 0.09650526940822601, 0.05567993223667145, 0.04711706563830376, 0.0, 0.0, 0.0], [0.5916392803192139, 0.023913998156785965, 0.09592819958925247, 0.045667123049497604, 0.0441448912024498, 0.027534620836377144, 0.054627373814582825, 0.05994856357574463, 0.05659595504403114, 0.0, 0.0], [0.5441977977752686, 0.06223016232252121, 0.08044436573982239, 0.0465211346745491, 0.02170734666287899, 0.030518224462866783, 0.05758058652281761, 0.03656533360481262, 0.055725835263729095, 0.06450921297073364, 0.0], [0.44943851232528687, 0.037244897335767746, 0.0844867154955864, 0.046189695596694946, 0.05264798924326897, 0.07155400514602661, 0.07359381020069122, 0.05249195545911789, 0.05217641592025757, 0.05245538428425789, 0.02772064507007599]], [[1.0, 0.0, 0.0, 0.0, 0.0, 0.0, 0.0, 0.0, 0.0, 0.0, 0.0], [0.061023034155368805, 0.9389769434928894, 0.0, 0.0, 0.0, 0.0, 0.0, 0.0, 0.0, 0.0, 0.0], [0.18999283015727997, 0.07818279415369034, 0.7318243980407715, 0.0, 0.0, 0.0, 0.0, 0.0, 0.0, 0.0, 0.0], [0.1243242397904396, 0.03259287774562836, 0.19317908585071564, 0.6499037742614746, 0.0, 0.0, 0.0, 0.0, 0.0, 0.0, 0.0], [0.003394724801182747, 0.00025520563940517604, 0.00045684713404625654, 0.001872589928098023, 0.9940206408500671, 0.0, 0.0, 0.0, 0.0, 0.0, 0.0], [0.005025265272706747, 0.0022081853821873665, 0.0002000907261390239, 0.0006705473642796278, 0.22803084552288055, 0.763865053653717, 0.0, 0.0, 0.0, 0.0, 0.0], [0.06710106879472733, 0.012855937704443932, 0.0571102611720562, 0.05093051865696907, 0.08474515378475189, 0.0696370005607605, 0.6576200723648071, 0.0, 0.0, 0.0, 0.0], [0.006272260099649429, 0.00023854129540268332, 0.002136229071766138, 0.001208202331326902, 0.002345629269257188, 0.0067228819243609905, 0.004940692335367203, 0.9761356115341187, 0.0, 0.0, 0.0], [0.003088288241997361, 3.364594158483669e-05, 1.2171949492767453e-06, 4.989770786778536e-06, 0.00035181426210328937, 0.0003357688256073743, 4.00928474846296e-05, 0.0008521318668499589, 0.995292067527771, 0.0, 0.0], [0.0029743516352027655, 0.0001754352852003649, 3.231070513720624e-05, 2.643805964908097e-05, 0.0003226548433303833, 0.00021373013441916555, 0.0003019582072738558, 0.00202773860655725, 0.054015152156353, 0.9399101734161377, 0.0], [0.0004460458003450185, 8.140764111885801e-05, 0.00010731368092820048, 8.662550681037828e-05, 0.002866497728973627, 0.0003845375031232834, 0.0016009215032681823, 0.045042697340250015, 0.099713034927845, 0.0060457200743258, 0.8436252474784851]], [[1.0, 0.0, 0.0, 0.0, 0.0, 0.0, 0.0, 0.0, 0.0, 0.0, 0.0], [0.16795888543128967, 0.8320410847663879, 0.0, 0.0, 0.0, 0.0, 0.0, 0.0, 0.0, 0.0, 0.0], [0.5672918558120728, 0.26790711283683777, 0.1648010015487671, 0.0, 0.0, 0.0, 0.0, 0.0, 0.0, 0.0, 0.0], [0.35769522190093994, 0.20581507682800293, 0.23862281441688538, 0.19786693155765533, 0.0, 0.0, 0.0, 0.0, 0.0, 0.0, 0.0], [0.1419447362422943, 0.03538043424487114, 0.04685331508517265, 0.05855228006839752, 0.717269241809845, 0.0, 0.0, 0.0, 0.0, 0.0, 0.0], [0.11849959939718246, 0.032530494034290314, 0.015745103359222412, 0.03221769630908966, 0.11317652463912964, 0.6878305673599243, 0.0, 0.0, 0.0, 0.0, 0.0], [0.19216005504131317, 0.12337082624435425, 0.14559702575206757, 0.04134291037917137, 0.09580332040786743, 0.09942711144685745, 0.3022986650466919, 0.0, 0.0, 0.0, 0.0], [0.08595216274261475, 0.018615970388054848, 0.047305796295404434, 0.03692852705717087, 0.14782370626926422, 0.06360500305891037, 0.06083779036998749, 0.5389310121536255, 0.0, 0.0, 0.0], [0.06724836677312851, 0.0019384361803531647, 0.010276702232658863, 0.006029029376804829, 0.011269974522292614, 0.05793239176273346, 0.007545711938291788, 0.09189978241920471, 0.7458595633506775, 0.0, 0.0], [0.011245525442063808, 0.0021424484439194202, 0.0007181407418102026, 0.000338438170729205, 0.0008213784894905984, 0.0026455253828316927, 0.001245767343789339, 0.010147004388272762, 0.8199837803840637, 0.1507119983434677, 0.0], [0.003571811830624938, 0.009515508078038692, 0.006091693416237831, 0.004691555630415678, 0.019222212955355644, 0.036468591541051865, 0.007943429052829742, 0.1703113466501236, 0.49645042419433594, 0.11613703519105911, 0.12959635257720947]], [[1.0, 0.0, 0.0, 0.0, 0.0, 0.0, 0.0, 0.0, 0.0, 0.0, 0.0], [0.007329738698899746, 0.9926702976226807, 0.0, 0.0, 0.0, 0.0, 0.0, 0.0, 0.0, 0.0, 0.0], [0.2784305214881897, 0.0032843020744621754, 0.7182851433753967, 0.0, 0.0, 0.0, 0.0, 0.0, 0.0, 0.0, 0.0], [0.2759256064891815, 0.0017555723898112774, 0.08993859589099884, 0.6323801875114441, 0.0, 0.0, 0.0, 0.0, 0.0, 0.0, 0.0], [0.10431362688541412, 7.797176658641547e-05, 7.09710075170733e-05, 8.666946087032557e-05, 0.89545077085495, 0.0, 0.0, 0.0, 0.0, 0.0, 0.0], [0.013451669365167618, 3.833406663034111e-05, 1.678487251410843e-07, 9.868921324596158e-07, 6.112632945587393e-06, 0.9865027666091919, 0.0, 0.0, 0.0, 0.0, 0.0], [0.2306341528892517, 0.021201344206929207, 0.11556390672922134, 0.1816537231206894, 0.06457283347845078, 0.03393612056970596, 0.35243791341781616, 0.0, 0.0, 0.0, 0.0], [0.021234869956970215, 0.00065919931512326, 0.0026995909865945578, 2.2211459508980624e-05, 3.402934089535847e-05, 0.0004066925903316587, 9.116904038819484e-06, 0.9749343395233154, 0.0, 0.0, 0.0], [0.004967928864061832, 9.518013030174188e-06, 1.0941898835881148e-06, 5.560118552239146e-07, 1.3194933671911713e-05, 3.4499059893278172e-06, 2.9534550094467704e-07, 2.000309677896439e-06, 0.9950019717216492, 0.0, 0.0], [0.005211994051933289, 6.603522706427611e-07, 1.2338634292063944e-07, 2.426255605314509e-07, 3.3034353918992565e-07, 4.838332188228378e-07, 4.7347494813720914e-08, 1.9904431880490847e-08, 1.2660524362217984e-06, 0.9947848916053772, 0.0], [0.022271640598773956, 0.00011629924119915813, 0.00034569628769531846, 6.220397335710004e-05, 0.0001347170036751777, 8.359186904272065e-05, 1.2706495908787474e-05, 4.015926242573187e-05, 1.4547744285664521e-05, 2.584115748049953e-07, 0.9769182205200195]], [[1.0, 0.0, 0.0, 0.0, 0.0, 0.0, 0.0, 0.0, 0.0, 0.0, 0.0], [0.7810825705528259, 0.21891745924949646, 0.0, 0.0, 0.0, 0.0, 0.0, 0.0, 0.0, 0.0, 0.0], [0.5508834719657898, 0.4068114757537842, 0.04230501502752304, 0.0, 0.0, 0.0, 0.0, 0.0, 0.0, 0.0, 0.0], [0.49502530694007874, 0.4263339042663574, 0.05556655302643776, 0.02307426556944847, 0.0, 0.0, 0.0, 0.0, 0.0, 0.0, 0.0], [0.40610477328300476, 0.2679176926612854, 0.04976709187030792, 0.04443080350756645, 0.23177962005138397, 0.0, 0.0, 0.0, 0.0, 0.0, 0.0], [0.3164304494857788, 0.27691712975502014, 0.03566557914018631, 0.05488738790154457, 0.10110414028167725, 0.21499530971050262, 0.0, 0.0, 0.0, 0.0, 0.0], [0.24817682802677155, 0.3000412881374359, 0.03486759215593338, 0.014955631457269192, 0.06995207071304321, 0.3245982527732849, 0.00740836700424552, 0.0, 0.0, 0.0, 0.0], [0.22076871991157532, 0.15627066791057587, 0.03804413229227066, 0.03206415846943855, 0.11378500610589981, 0.21197079122066498, 0.037451960146427155, 0.18964456021785736, 0.0, 0.0, 0.0], [0.36984649300575256, 0.18957896530628204, 0.04230852425098419, 0.0599905289709568, 0.05262210965156555, 0.09482764452695847, 0.05330914631485939, 0.05749170482158661, 0.08002493530511856, 0.0, 0.0], [0.2627377510070801, 0.1901741474866867, 0.04976583272218704, 0.04613795876502991, 0.03984621539711952, 0.12250085175037384, 0.0558115653693676, 0.03065362758934498, 0.12127001583576202, 0.08110208064317703, 0.0], [0.1196286752820015, 0.16325049102306366, 0.03571102023124695, 0.011371821165084839, 0.03802497312426567, 0.08651352673768997, 0.02085951343178749, 0.05533779039978981, 0.2395520806312561, 0.20258070528507233, 0.027169493958353996]], [[1.0, 0.0, 0.0, 0.0, 0.0, 0.0, 0.0, 0.0, 0.0, 0.0, 0.0], [0.9620188474655151, 0.03798115998506546, 0.0, 0.0, 0.0, 0.0, 0.0, 0.0, 0.0, 0.0, 0.0], [0.5524606704711914, 0.27491408586502075, 0.17262519896030426, 0.0, 0.0, 0.0, 0.0, 0.0, 0.0, 0.0, 0.0], [0.37421292066574097, 0.11933059245347977, 0.2789834141731262, 0.22747303545475006, 0.0, 0.0, 0.0, 0.0, 0.0, 0.0, 0.0], [0.2719223201274872, 0.0911848247051239, 0.18963131308555603, 0.29097720980644226, 0.15628430247306824, 0.0, 0.0, 0.0, 0.0, 0.0, 0.0], [0.15045782923698425, 0.03027895838022232, 0.1261889785528183, 0.16644036769866943, 0.38779619336128235, 0.13883769512176514, 0.0, 0.0, 0.0, 0.0, 0.0], [0.11340367794036865, 0.02612489089369774, 0.0715269073843956, 0.11040465533733368, 0.16936294734477997, 0.1779051125049591, 0.33127185702323914, 0.0, 0.0, 0.0, 0.0], [0.12624847888946533, 0.014619591645896435, 0.04381924867630005, 0.08354002237319946, 0.11364731192588806, 0.11352864652872086, 0.2941581606864929, 0.2104385942220688, 0.0, 0.0, 0.0], [0.2615852952003479, 0.012153142131865025, 0.05019012466073036, 0.08707047253847122, 0.0928725078701973, 0.016443412750959396, 0.18999658524990082, 0.22313082218170166, 0.0665576308965683, 0.0, 0.0], [0.18873922526836395, 0.027427030727267265, 0.04894278571009636, 0.05264676734805107, 0.03238612785935402, 0.007814973592758179, 0.1928112506866455, 0.18968482315540314, 0.24086734652519226, 0.01867973990738392, 0.0], [0.02322772517800331, 0.01611827127635479, 0.006748449057340622, 0.009100646711885929, 0.018138209357857704, 0.011417407542467117, 0.03566698357462883, 0.0667652115225792, 0.6593508124351501, 0.08366347849369049, 0.06980276852846146]], [[1.0, 0.0, 0.0, 0.0, 0.0, 0.0, 0.0, 0.0, 0.0, 0.0, 0.0], [0.9525805115699768, 0.04741952195763588, 0.0, 0.0, 0.0, 0.0, 0.0, 0.0, 0.0, 0.0, 0.0], [0.43241775035858154, 0.032561883330345154, 0.5350203514099121, 0.0, 0.0, 0.0, 0.0, 0.0, 0.0, 0.0, 0.0], [0.10167290270328522, 0.018035676330327988, 0.2845934331417084, 0.5956979393959045, 0.0, 0.0, 0.0, 0.0, 0.0, 0.0, 0.0], [0.24695350229740143, 0.011485759168863297, 0.2893734574317932, 0.39395812153816223, 0.058229148387908936, 0.0, 0.0, 0.0, 0.0, 0.0, 0.0], [0.47794511914253235, 0.029901040717959404, 0.10415121912956238, 0.22188274562358856, 0.09965145587921143, 0.06646843254566193, 0.0, 0.0, 0.0, 0.0, 0.0], [0.08639688789844513, 0.009647145867347717, 0.21054501831531525, 0.21980436146259308, 0.023585829883813858, 0.015773162245750427, 0.43424758315086365, 0.0, 0.0, 0.0, 0.0], [0.28908398747444153, 0.04524599015712738, 0.1521475911140442, 0.1704578548669815, 0.08674020320177078, 0.03492063656449318, 0.190200537443161, 0.031203195452690125, 0.0, 0.0, 0.0], [0.4900306761264801, 0.0671406164765358, 0.08678960055112839, 0.07315350323915482, 0.038123901933431625, 0.045622508972883224, 0.14815352857112885, 0.03882812708616257, 0.012157643213868141, 0.0, 0.0], [0.37316110730171204, 0.07458851486444473, 0.06097673997282982, 0.09177739918231964, 0.04033217951655388, 0.06809654831886292, 0.12906228005886078, 0.019289067015051842, 0.1328558623790741, 0.009860347025096416, 0.0], [0.15030209720134735, 0.06751576066017151, 0.07493358105421066, 0.19987474381923676, 0.07068384438753128, 0.0422881618142128, 0.13896693289279938, 0.026959875598549843, 0.049101218581199646, 0.052442945539951324, 0.12693078815937042]], [[1.0, 0.0, 0.0, 0.0, 0.0, 0.0, 0.0, 0.0, 0.0, 0.0, 0.0], [0.9680115580558777, 0.03198844939470291, 0.0, 0.0, 0.0, 0.0, 0.0, 0.0, 0.0, 0.0, 0.0], [0.7738623023033142, 0.06541498750448227, 0.1607227772474289, 0.0, 0.0, 0.0, 0.0, 0.0, 0.0, 0.0, 0.0], [0.6602624654769897, 0.05925941839814186, 0.13163886964321136, 0.14883920550346375, 0.0, 0.0, 0.0, 0.0, 0.0, 0.0, 0.0], [0.6034762263298035, 0.07207365334033966, 0.12016034871339798, 0.1279887855052948, 0.07630105316638947, 0.0, 0.0, 0.0, 0.0, 0.0, 0.0], [0.659180223941803, 0.05842525139451027, 0.09233690798282623, 0.10719447582960129, 0.06680942326784134, 0.016053711995482445, 0.0, 0.0, 0.0, 0.0, 0.0], [0.46970051527023315, 0.05572809651494026, 0.10801507532596588, 0.10616012662649155, 0.08257277309894562, 0.06977478414773941, 0.10804864764213562, 0.0, 0.0, 0.0, 0.0], [0.39959555864334106, 0.05974077433347702, 0.10836775600910187, 0.09464215487241745, 0.08601851016283035, 0.07854079455137253, 0.10366319864988327, 0.06943120807409286, 0.0, 0.0, 0.0], [0.4715655446052551, 0.0760510191321373, 0.08500964194536209, 0.06834767013788223, 0.05809656158089638, 0.07790806889533997, 0.08217180520296097, 0.062095969915390015, 0.018753619864583015, 0.0, 0.0], [0.4184767007827759, 0.06020617112517357, 0.08050417900085449, 0.07431323826313019, 0.05723430588841438, 0.09020577371120453, 0.08402110636234283, 0.04919525235891342, 0.05593130737543106, 0.029911959543824196, 0.0], [0.2926431894302368, 0.048440851271152496, 0.07955940812826157, 0.08947814255952835, 0.06064131483435631, 0.05862976983189583, 0.09710705280303955, 0.050886087119579315, 0.0849766880273819, 0.06330253183841705, 0.07433495670557022]], [[1.0, 0.0, 0.0, 0.0, 0.0, 0.0, 0.0, 0.0, 0.0, 0.0, 0.0], [0.7274396419525146, 0.27256032824516296, 0.0, 0.0, 0.0, 0.0, 0.0, 0.0, 0.0, 0.0, 0.0], [0.6493788957595825, 0.06249813362956047, 0.2881229817867279, 0.0, 0.0, 0.0, 0.0, 0.0, 0.0, 0.0, 0.0], [0.605416476726532, 0.038766682147979736, 0.11961984634399414, 0.2361970692873001, 0.0, 0.0, 0.0, 0.0, 0.0, 0.0, 0.0], [0.44160860776901245, 0.047210678458213806, 0.10406468063592911, 0.12945182621479034, 0.2776642143726349, 0.0, 0.0, 0.0, 0.0, 0.0, 0.0], [0.3850378096103668, 0.05887675657868385, 0.11601641029119492, 0.11068779230117798, 0.06209496036171913, 0.2672863006591797, 0.0, 0.0, 0.0, 0.0, 0.0], [0.40636688470840454, 0.05784756690263748, 0.15451371669769287, 0.1310528814792633, 0.06363938003778458, 0.05992596223950386, 0.12665361166000366, 0.0, 0.0, 0.0, 0.0], [0.24823522567749023, 0.03760535269975662, 0.22713913023471832, 0.10100627690553665, 0.052137065678834915, 0.04640335962176323, 0.08748724311590195, 0.19998633861541748, 0.0, 0.0, 0.0], [0.29912248253822327, 0.05062521994113922, 0.09800247848033905, 0.08593729883432388, 0.061561405658721924, 0.0527259036898613, 0.0794527679681778, 0.04933119937777519, 0.22324120998382568, 0.0, 0.0], [0.3222644329071045, 0.03496819734573364, 0.09166926145553589, 0.09321276843547821, 0.03619791194796562, 0.03336479514837265, 0.09106938540935516, 0.039384644478559494, 0.04344174638390541, 0.21442687511444092, 0.0], [0.24568819999694824, 0.03678186982870102, 0.0900525450706482, 0.10590581595897675, 0.05218230187892914, 0.033418942242860794, 0.0841885656118393, 0.039822276681661606, 0.038534265011548996, 0.018350036814808846, 0.2550751864910126]], [[1.0, 0.0, 0.0, 0.0, 0.0, 0.0, 0.0, 0.0, 0.0, 0.0, 0.0], [0.7638099193572998, 0.2361900508403778, 0.0, 0.0, 0.0, 0.0, 0.0, 0.0, 0.0, 0.0, 0.0], [0.7416239380836487, 0.0980415865778923, 0.160334512591362, 0.0, 0.0, 0.0, 0.0, 0.0, 0.0, 0.0, 0.0], [0.6348451375961304, 0.11691217869520187, 0.1340198516845703, 0.11422280222177505, 0.0, 0.0, 0.0, 0.0, 0.0, 0.0, 0.0], [0.6677160859107971, 0.09381154924631119, 0.06507006287574768, 0.05783212557435036, 0.11557015776634216, 0.0, 0.0, 0.0, 0.0, 0.0, 0.0], [0.3582111895084381, 0.20978881418704987, 0.14110253751277924, 0.06269016116857529, 0.10862215608358383, 0.11958509683609009, 0.0, 0.0, 0.0, 0.0, 0.0], [0.40534988045692444, 0.11034256219863892, 0.10208997875452042, 0.07143444567918777, 0.09586341679096222, 0.08913415670394897, 0.12578555941581726, 0.0, 0.0, 0.0, 0.0], [0.48952728509902954, 0.05911088362336159, 0.07581032812595367, 0.05896323174238205, 0.07371062785387039, 0.03159021586179733, 0.1256110668182373, 0.0856764018535614, 0.0, 0.0, 0.0], [0.21002140641212463, 0.060353945940732956, 0.06917565315961838, 0.09548208862543106, 0.08178598433732986, 0.0863291397690773, 0.13243375718593597, 0.09241657704114914, 0.17200148105621338, 0.0, 0.0], [0.1979796290397644, 0.08344216644763947, 0.06323022395372391, 0.0535249337553978, 0.0786929503083229, 0.07936172932386398, 0.07885093241930008, 0.10728388279676437, 0.2383556365966797, 0.019277874380350113, 0.0], [0.30597683787345886, 0.08709301799535751, 0.05876561626791954, 0.053408995270729065, 0.08136674761772156, 0.04935142770409584, 0.0660473108291626, 0.10846170783042908, 0.11674943566322327, 0.03283151611685753, 0.03994744271039963]]]}\n",
              "    )\n",
              "    </script>"
            ]
          },
          "metadata": {},
          "execution_count": 17
        }
      ]
    },
    {
      "cell_type": "markdown",
      "source": [
        "### Ablation"
      ],
      "metadata": {
        "id": "MX4hFPjdIkKa"
      }
    },
    {
      "cell_type": "code",
      "source": [
        "# We define a head ablation hook\n",
        "# The type annotations are NOT necessary, they're just a useful guide to the reader\n",
        "# \n",
        "def head_ablation_hook(\n",
        "    value: Float[torch.Tensor, \"batch pos head_index d_head\"],\n",
        "    hook: HookPoint,\n",
        "    head_index_to_ablate: int\n",
        ") -> Float[torch.Tensor, \"batch pos head_index d_head\"]:\n",
        "    value[:, :, head_index_to_ablate, :] = 0.\n",
        "    return value\n",
        "\n",
        "tokens = model.to_tokens(\"Mary is a great friend, isn’t she\")\n",
        "\n",
        "original_loss = model(tokens, return_type=\"loss\")\n",
        "\n",
        "# We make a tensor to store the results for each ablation run. We put it on the model's device to avoid needing to move things between the GPU and CPU, which can be slow.\n",
        "ablation_result = torch.zeros((model.cfg.n_layers, model.cfg.n_heads), device=model.cfg.device)\n",
        "\n",
        "for layer in tqdm.tqdm(range(model.cfg.n_layers)):\n",
        "    for head in range(model.cfg.n_heads):\n",
        "\n",
        "        # Use functools.partial to create a temporary hook function with the head fixed\n",
        "        temp_hook_fn = partial(head_ablation_hook, head_index_to_ablate=head)\n",
        "        # Run the model with the patching hook\n",
        "\n",
        "        ablated_loss = model.run_with_hooks(\n",
        "            tokens, \n",
        "            return_type=\"loss\", \n",
        "            fwd_hooks=[(\n",
        "                utils.get_act_name(\"v\", layer), \n",
        "                temp_hook_fn\n",
        "                )]\n",
        "            )\n",
        "        ablation_result[layer, head] = ablated_loss\n",
        "\n",
        "model.reset_hooks()"
      ],
      "metadata": {
        "colab": {
          "base_uri": "https://localhost:8080/",
          "height": 49,
          "referenced_widgets": [
            "2918ec5812fd414cb0bed7f14f72225f",
            "118d2a610e524b0590b643300d9211d1",
            "95099792d8c84797905e703e946d1c3e",
            "f3c248f242f64f71aa0eaa7a25c1cef2",
            "2a31eecd98c14b039a815a402c3a68cc",
            "120d979221ac412eb8a472105f077cfe",
            "5c547dbc0190444a9ef723909a1238f2",
            "bad2bc5842fa4c82ada4d475749db694",
            "93d67880ad3d48f9b01c1b0eb4e297fe",
            "04777bd744fb4eedaf8caa6f20329566",
            "4d7b67713a374ee5a877006c2e81f216"
          ]
        },
        "id": "lzMRN965DdOS",
        "outputId": "92ed2c1b-26f0-4a58-f02d-c1c091e9fb5c"
      },
      "execution_count": 18,
      "outputs": [
        {
          "output_type": "display_data",
          "data": {
            "text/plain": [
              "  0%|          | 0/12 [00:00<?, ?it/s]"
            ],
            "application/vnd.jupyter.widget-view+json": {
              "version_major": 2,
              "version_minor": 0,
              "model_id": "2918ec5812fd414cb0bed7f14f72225f"
            }
          },
          "metadata": {}
        }
      ]
    },
    {
      "cell_type": "code",
      "source": [
        "%matplotlib inline\n",
        "\n",
        "imshow(ablation_result, midpoint=original_loss.item(), xaxis=\"Head\", yaxis=\"Layer\", title=\"Ablated loss for every head\")"
      ],
      "metadata": {
        "colab": {
          "base_uri": "https://localhost:8080/",
          "height": 542
        },
        "id": "vEdWmBNwXr9L",
        "outputId": "e65b32cf-ae19-4c00-95b8-c0e7548a5364"
      },
      "execution_count": 19,
      "outputs": [
        {
          "output_type": "display_data",
          "data": {
            "text/html": [
              "<html>\n",
              "<head><meta charset=\"utf-8\" /></head>\n",
              "<body>\n",
              "    <div>            <script src=\"https://cdnjs.cloudflare.com/ajax/libs/mathjax/2.7.5/MathJax.js?config=TeX-AMS-MML_SVG\"></script><script type=\"text/javascript\">if (window.MathJax && window.MathJax.Hub && window.MathJax.Hub.Config) {window.MathJax.Hub.Config({SVG: {font: \"STIX-Web\"}});}</script>                <script type=\"text/javascript\">window.PlotlyConfig = {MathJaxConfig: 'local'};</script>\n",
              "        <script src=\"https://cdn.plot.ly/plotly-2.18.2.min.js\"></script>                <div id=\"f1e2e1a0-1a50-4872-9d9a-3baec89cfe96\" class=\"plotly-graph-div\" style=\"height:525px; width:100%;\"></div>            <script type=\"text/javascript\">                                    window.PLOTLYENV=window.PLOTLYENV || {};                                    if (document.getElementById(\"f1e2e1a0-1a50-4872-9d9a-3baec89cfe96\")) {                    Plotly.newPlot(                        \"f1e2e1a0-1a50-4872-9d9a-3baec89cfe96\",                        [{\"coloraxis\":\"coloraxis\",\"name\":\"0\",\"z\":[[5.749546527862549,5.764120101928711,5.775691509246826,5.733698844909668,5.793325424194336,5.741317272186279,6.024130344390869,6.2358222007751465,5.677875518798828,6.104978561401367,5.7592549324035645,5.764583587646484],[5.759789943695068,5.764369964599609,5.734264373779297,5.8238139152526855,5.787145614624023,5.677812099456787,5.7137064933776855,5.798089504241943,5.77257776260376,5.728291988372803,5.739454746246338,5.7436676025390625],[5.6167144775390625,5.714040279388428,5.715764045715332,5.832705497741699,5.824066162109375,5.8361077308654785,5.801483631134033,5.747415065765381,5.651238918304443,5.87652063369751,5.794177055358887,5.793572425842285],[5.731252670288086,5.722770690917969,5.755859375,5.750171661376953,5.754449844360352,5.727058410644531,5.771040439605713,5.826128959655762,5.7799506187438965,5.717339992523193,5.767777919769287,5.714181423187256],[5.7423200607299805,5.734530925750732,5.70392370223999,5.719642162322998,5.741980075836182,5.718218803405762,5.837150573730469,5.684267044067383,5.772459983825684,5.734777927398682,5.761569023132324,5.8000006675720215],[5.7434844970703125,5.760932445526123,5.796633243560791,5.695862770080566,5.765559196472168,5.7383575439453125,5.755110263824463,5.734555721282959,5.695284366607666,5.68414831161499,5.756383895874023,5.756008148193359],[5.700143814086914,5.729182720184326,5.714938163757324,5.755382537841797,5.734266757965088,5.794366359710693,5.725665092468262,5.763933181762695,5.83401346206665,5.742672920227051,5.763372898101807,5.738671779632568],[5.720099449157715,5.719501495361328,5.734829425811768,5.770694255828857,5.758728981018066,5.682911396026611,5.796232223510742,5.712949752807617,5.710838317871094,5.726949691772461,5.734584331512451,5.771668434143066],[5.715317726135254,5.741307735443115,5.794666767120361,5.7443952560424805,5.7556681632995605,5.74465799331665,5.722269535064697,5.697641849517822,5.751530647277832,5.717844486236572,5.749942779541016,5.732471942901611],[5.74302864074707,5.7437567710876465,5.734036445617676,5.746083736419678,5.734708309173584,5.717090606689453,5.730559349060059,5.7579755783081055,5.736995697021484,5.741605281829834,5.744521617889404,5.745386600494385],[5.731317043304443,5.769209384918213,5.749446868896484,5.702640533447266,5.749874114990234,5.758022308349609,5.729022979736328,5.747374057769775,5.7364373207092285,5.794948577880859,5.726819038391113,5.748039245605469],[5.760192394256592,5.689443111419678,5.710819244384766,5.741796016693115,5.7118330001831055,5.741326808929443,5.736407279968262,5.746089935302734,6.067038059234619,5.732479095458984,5.7512664794921875,5.737276554107666]],\"type\":\"heatmap\",\"xaxis\":\"x\",\"yaxis\":\"y\",\"hovertemplate\":\"Head: %{x}<br>Layer: %{y}<br>color: %{z}<extra></extra>\"}],                        {\"template\":{\"data\":{\"histogram2dcontour\":[{\"type\":\"histogram2dcontour\",\"colorbar\":{\"outlinewidth\":0,\"ticks\":\"\"},\"colorscale\":[[0.0,\"#0d0887\"],[0.1111111111111111,\"#46039f\"],[0.2222222222222222,\"#7201a8\"],[0.3333333333333333,\"#9c179e\"],[0.4444444444444444,\"#bd3786\"],[0.5555555555555556,\"#d8576b\"],[0.6666666666666666,\"#ed7953\"],[0.7777777777777778,\"#fb9f3a\"],[0.8888888888888888,\"#fdca26\"],[1.0,\"#f0f921\"]]}],\"choropleth\":[{\"type\":\"choropleth\",\"colorbar\":{\"outlinewidth\":0,\"ticks\":\"\"}}],\"histogram2d\":[{\"type\":\"histogram2d\",\"colorbar\":{\"outlinewidth\":0,\"ticks\":\"\"},\"colorscale\":[[0.0,\"#0d0887\"],[0.1111111111111111,\"#46039f\"],[0.2222222222222222,\"#7201a8\"],[0.3333333333333333,\"#9c179e\"],[0.4444444444444444,\"#bd3786\"],[0.5555555555555556,\"#d8576b\"],[0.6666666666666666,\"#ed7953\"],[0.7777777777777778,\"#fb9f3a\"],[0.8888888888888888,\"#fdca26\"],[1.0,\"#f0f921\"]]}],\"heatmap\":[{\"type\":\"heatmap\",\"colorbar\":{\"outlinewidth\":0,\"ticks\":\"\"},\"colorscale\":[[0.0,\"#0d0887\"],[0.1111111111111111,\"#46039f\"],[0.2222222222222222,\"#7201a8\"],[0.3333333333333333,\"#9c179e\"],[0.4444444444444444,\"#bd3786\"],[0.5555555555555556,\"#d8576b\"],[0.6666666666666666,\"#ed7953\"],[0.7777777777777778,\"#fb9f3a\"],[0.8888888888888888,\"#fdca26\"],[1.0,\"#f0f921\"]]}],\"heatmapgl\":[{\"type\":\"heatmapgl\",\"colorbar\":{\"outlinewidth\":0,\"ticks\":\"\"},\"colorscale\":[[0.0,\"#0d0887\"],[0.1111111111111111,\"#46039f\"],[0.2222222222222222,\"#7201a8\"],[0.3333333333333333,\"#9c179e\"],[0.4444444444444444,\"#bd3786\"],[0.5555555555555556,\"#d8576b\"],[0.6666666666666666,\"#ed7953\"],[0.7777777777777778,\"#fb9f3a\"],[0.8888888888888888,\"#fdca26\"],[1.0,\"#f0f921\"]]}],\"contourcarpet\":[{\"type\":\"contourcarpet\",\"colorbar\":{\"outlinewidth\":0,\"ticks\":\"\"}}],\"contour\":[{\"type\":\"contour\",\"colorbar\":{\"outlinewidth\":0,\"ticks\":\"\"},\"colorscale\":[[0.0,\"#0d0887\"],[0.1111111111111111,\"#46039f\"],[0.2222222222222222,\"#7201a8\"],[0.3333333333333333,\"#9c179e\"],[0.4444444444444444,\"#bd3786\"],[0.5555555555555556,\"#d8576b\"],[0.6666666666666666,\"#ed7953\"],[0.7777777777777778,\"#fb9f3a\"],[0.8888888888888888,\"#fdca26\"],[1.0,\"#f0f921\"]]}],\"surface\":[{\"type\":\"surface\",\"colorbar\":{\"outlinewidth\":0,\"ticks\":\"\"},\"colorscale\":[[0.0,\"#0d0887\"],[0.1111111111111111,\"#46039f\"],[0.2222222222222222,\"#7201a8\"],[0.3333333333333333,\"#9c179e\"],[0.4444444444444444,\"#bd3786\"],[0.5555555555555556,\"#d8576b\"],[0.6666666666666666,\"#ed7953\"],[0.7777777777777778,\"#fb9f3a\"],[0.8888888888888888,\"#fdca26\"],[1.0,\"#f0f921\"]]}],\"mesh3d\":[{\"type\":\"mesh3d\",\"colorbar\":{\"outlinewidth\":0,\"ticks\":\"\"}}],\"scatter\":[{\"fillpattern\":{\"fillmode\":\"overlay\",\"size\":10,\"solidity\":0.2},\"type\":\"scatter\"}],\"parcoords\":[{\"type\":\"parcoords\",\"line\":{\"colorbar\":{\"outlinewidth\":0,\"ticks\":\"\"}}}],\"scatterpolargl\":[{\"type\":\"scatterpolargl\",\"marker\":{\"colorbar\":{\"outlinewidth\":0,\"ticks\":\"\"}}}],\"bar\":[{\"error_x\":{\"color\":\"#2a3f5f\"},\"error_y\":{\"color\":\"#2a3f5f\"},\"marker\":{\"line\":{\"color\":\"#E5ECF6\",\"width\":0.5},\"pattern\":{\"fillmode\":\"overlay\",\"size\":10,\"solidity\":0.2}},\"type\":\"bar\"}],\"scattergeo\":[{\"type\":\"scattergeo\",\"marker\":{\"colorbar\":{\"outlinewidth\":0,\"ticks\":\"\"}}}],\"scatterpolar\":[{\"type\":\"scatterpolar\",\"marker\":{\"colorbar\":{\"outlinewidth\":0,\"ticks\":\"\"}}}],\"histogram\":[{\"marker\":{\"pattern\":{\"fillmode\":\"overlay\",\"size\":10,\"solidity\":0.2}},\"type\":\"histogram\"}],\"scattergl\":[{\"type\":\"scattergl\",\"marker\":{\"colorbar\":{\"outlinewidth\":0,\"ticks\":\"\"}}}],\"scatter3d\":[{\"type\":\"scatter3d\",\"line\":{\"colorbar\":{\"outlinewidth\":0,\"ticks\":\"\"}},\"marker\":{\"colorbar\":{\"outlinewidth\":0,\"ticks\":\"\"}}}],\"scattermapbox\":[{\"type\":\"scattermapbox\",\"marker\":{\"colorbar\":{\"outlinewidth\":0,\"ticks\":\"\"}}}],\"scatterternary\":[{\"type\":\"scatterternary\",\"marker\":{\"colorbar\":{\"outlinewidth\":0,\"ticks\":\"\"}}}],\"scattercarpet\":[{\"type\":\"scattercarpet\",\"marker\":{\"colorbar\":{\"outlinewidth\":0,\"ticks\":\"\"}}}],\"carpet\":[{\"aaxis\":{\"endlinecolor\":\"#2a3f5f\",\"gridcolor\":\"white\",\"linecolor\":\"white\",\"minorgridcolor\":\"white\",\"startlinecolor\":\"#2a3f5f\"},\"baxis\":{\"endlinecolor\":\"#2a3f5f\",\"gridcolor\":\"white\",\"linecolor\":\"white\",\"minorgridcolor\":\"white\",\"startlinecolor\":\"#2a3f5f\"},\"type\":\"carpet\"}],\"table\":[{\"cells\":{\"fill\":{\"color\":\"#EBF0F8\"},\"line\":{\"color\":\"white\"}},\"header\":{\"fill\":{\"color\":\"#C8D4E3\"},\"line\":{\"color\":\"white\"}},\"type\":\"table\"}],\"barpolar\":[{\"marker\":{\"line\":{\"color\":\"#E5ECF6\",\"width\":0.5},\"pattern\":{\"fillmode\":\"overlay\",\"size\":10,\"solidity\":0.2}},\"type\":\"barpolar\"}],\"pie\":[{\"automargin\":true,\"type\":\"pie\"}]},\"layout\":{\"autotypenumbers\":\"strict\",\"colorway\":[\"#636efa\",\"#EF553B\",\"#00cc96\",\"#ab63fa\",\"#FFA15A\",\"#19d3f3\",\"#FF6692\",\"#B6E880\",\"#FF97FF\",\"#FECB52\"],\"font\":{\"color\":\"#2a3f5f\"},\"hovermode\":\"closest\",\"hoverlabel\":{\"align\":\"left\"},\"paper_bgcolor\":\"white\",\"plot_bgcolor\":\"#E5ECF6\",\"polar\":{\"bgcolor\":\"#E5ECF6\",\"angularaxis\":{\"gridcolor\":\"white\",\"linecolor\":\"white\",\"ticks\":\"\"},\"radialaxis\":{\"gridcolor\":\"white\",\"linecolor\":\"white\",\"ticks\":\"\"}},\"ternary\":{\"bgcolor\":\"#E5ECF6\",\"aaxis\":{\"gridcolor\":\"white\",\"linecolor\":\"white\",\"ticks\":\"\"},\"baxis\":{\"gridcolor\":\"white\",\"linecolor\":\"white\",\"ticks\":\"\"},\"caxis\":{\"gridcolor\":\"white\",\"linecolor\":\"white\",\"ticks\":\"\"}},\"coloraxis\":{\"colorbar\":{\"outlinewidth\":0,\"ticks\":\"\"}},\"colorscale\":{\"sequential\":[[0.0,\"#0d0887\"],[0.1111111111111111,\"#46039f\"],[0.2222222222222222,\"#7201a8\"],[0.3333333333333333,\"#9c179e\"],[0.4444444444444444,\"#bd3786\"],[0.5555555555555556,\"#d8576b\"],[0.6666666666666666,\"#ed7953\"],[0.7777777777777778,\"#fb9f3a\"],[0.8888888888888888,\"#fdca26\"],[1.0,\"#f0f921\"]],\"sequentialminus\":[[0.0,\"#0d0887\"],[0.1111111111111111,\"#46039f\"],[0.2222222222222222,\"#7201a8\"],[0.3333333333333333,\"#9c179e\"],[0.4444444444444444,\"#bd3786\"],[0.5555555555555556,\"#d8576b\"],[0.6666666666666666,\"#ed7953\"],[0.7777777777777778,\"#fb9f3a\"],[0.8888888888888888,\"#fdca26\"],[1.0,\"#f0f921\"]],\"diverging\":[[0,\"#8e0152\"],[0.1,\"#c51b7d\"],[0.2,\"#de77ae\"],[0.3,\"#f1b6da\"],[0.4,\"#fde0ef\"],[0.5,\"#f7f7f7\"],[0.6,\"#e6f5d0\"],[0.7,\"#b8e186\"],[0.8,\"#7fbc41\"],[0.9,\"#4d9221\"],[1,\"#276419\"]]},\"xaxis\":{\"gridcolor\":\"white\",\"linecolor\":\"white\",\"ticks\":\"\",\"title\":{\"standoff\":15},\"zerolinecolor\":\"white\",\"automargin\":true,\"zerolinewidth\":2},\"yaxis\":{\"gridcolor\":\"white\",\"linecolor\":\"white\",\"ticks\":\"\",\"title\":{\"standoff\":15},\"zerolinecolor\":\"white\",\"automargin\":true,\"zerolinewidth\":2},\"scene\":{\"xaxis\":{\"backgroundcolor\":\"#E5ECF6\",\"gridcolor\":\"white\",\"linecolor\":\"white\",\"showbackground\":true,\"ticks\":\"\",\"zerolinecolor\":\"white\",\"gridwidth\":2},\"yaxis\":{\"backgroundcolor\":\"#E5ECF6\",\"gridcolor\":\"white\",\"linecolor\":\"white\",\"showbackground\":true,\"ticks\":\"\",\"zerolinecolor\":\"white\",\"gridwidth\":2},\"zaxis\":{\"backgroundcolor\":\"#E5ECF6\",\"gridcolor\":\"white\",\"linecolor\":\"white\",\"showbackground\":true,\"ticks\":\"\",\"zerolinecolor\":\"white\",\"gridwidth\":2}},\"shapedefaults\":{\"line\":{\"color\":\"#2a3f5f\"}},\"annotationdefaults\":{\"arrowcolor\":\"#2a3f5f\",\"arrowhead\":0,\"arrowwidth\":1},\"geo\":{\"bgcolor\":\"white\",\"landcolor\":\"#E5ECF6\",\"subunitcolor\":\"white\",\"showland\":true,\"showlakes\":true,\"lakecolor\":\"white\"},\"title\":{\"x\":0.05},\"mapbox\":{\"style\":\"light\"}}},\"xaxis\":{\"anchor\":\"y\",\"domain\":[0.0,1.0],\"scaleanchor\":\"y\",\"constrain\":\"domain\",\"title\":{\"text\":\"Head\"}},\"yaxis\":{\"anchor\":\"x\",\"domain\":[0.0,1.0],\"autorange\":\"reversed\",\"constrain\":\"domain\",\"title\":{\"text\":\"Layer\"}},\"coloraxis\":{\"colorscale\":[[0.0,\"rgb(103,0,31)\"],[0.1,\"rgb(178,24,43)\"],[0.2,\"rgb(214,96,77)\"],[0.3,\"rgb(244,165,130)\"],[0.4,\"rgb(253,219,199)\"],[0.5,\"rgb(247,247,247)\"],[0.6,\"rgb(209,229,240)\"],[0.7,\"rgb(146,197,222)\"],[0.8,\"rgb(67,147,195)\"],[0.9,\"rgb(33,102,172)\"],[1.0,\"rgb(5,48,97)\"]],\"cmid\":5.733848571777344},\"title\":{\"text\":\"Ablated loss for every head\"}},                        {\"responsive\": true}                    ).then(function(){\n",
              "                            \n",
              "var gd = document.getElementById('f1e2e1a0-1a50-4872-9d9a-3baec89cfe96');\n",
              "var x = new MutationObserver(function (mutations, observer) {{\n",
              "        var display = window.getComputedStyle(gd).display;\n",
              "        if (!display || display === 'none') {{\n",
              "            console.log([gd, 'removed!']);\n",
              "            Plotly.purge(gd);\n",
              "            observer.disconnect();\n",
              "        }}\n",
              "}});\n",
              "\n",
              "// Listen for the removal of the full notebook cells\n",
              "var notebookContainer = gd.closest('#notebook-container');\n",
              "if (notebookContainer) {{\n",
              "    x.observe(notebookContainer, {childList: true});\n",
              "}}\n",
              "\n",
              "// Listen for the clearing of the current output cell\n",
              "var outputEl = gd.closest('.output');\n",
              "if (outputEl) {{\n",
              "    x.observe(outputEl, {childList: true});\n",
              "}}\n",
              "\n",
              "                        })                };                            </script>        </div>\n",
              "</body>\n",
              "</html>"
            ]
          },
          "metadata": {}
        }
      ]
    },
    {
      "cell_type": "markdown",
      "source": [
        "ablating some heads like layer 0 head 7 increases the loss whereas ablating some heads like layer 2 head 0 decreases the loss"
      ],
      "metadata": {
        "id": "8QU0jZ2Dbaj6"
      }
    },
    {
      "cell_type": "code",
      "source": [
        "# We define a head ablation hook\n",
        "# The type annotations are NOT necessary, they're just a useful guide to the reader\n",
        "# \n",
        "def head_ablation_hook(\n",
        "    value: Float[torch.Tensor, \"batch pos head_index d_head\"],\n",
        "    hook: HookPoint,\n",
        "    head_index_to_ablate: int\n",
        ") -> Float[torch.Tensor, \"batch pos head_index d_head\"]:\n",
        "    value[:, :, head_index_to_ablate, :] = 0.\n",
        "    return value\n",
        "\n",
        "tokens = model.to_tokens(\"Mary is a great friend, isn’t\")\n",
        "\n",
        "correct_index = model.to_single_token(\"she\")\n",
        "incorrect_index = model.to_single_token(\"he\")\n",
        "\n",
        "original_logits = model(tokens, return_type=\"logits\")\n",
        "original_logit_diff = original_logits[0, -1, correct_index] - original_logits[0, -1, incorrect_index]\n",
        "\n",
        "# We make a tensor to store the results for each ablation run. We put it on the model's device to avoid needing to move things between the GPU and CPU, which can be slow.\n",
        "ablation_result = torch.zeros((model.cfg.n_layers, model.cfg.n_heads), device=model.cfg.device)\n",
        "\n",
        "for layer in tqdm.tqdm(range(model.cfg.n_layers)):\n",
        "    for head in range(model.cfg.n_heads):\n",
        "\n",
        "        # Use functools.partial to create a temporary hook function with the head fixed\n",
        "        temp_hook_fn = partial(head_ablation_hook, head_index_to_ablate=head)\n",
        "        # Run the model with the patching hook\n",
        "\n",
        "        ablated_logits = model.run_with_hooks(\n",
        "            tokens, \n",
        "            return_type=\"logits\", \n",
        "            fwd_hooks=[(\n",
        "                utils.get_act_name(\"v\", layer), \n",
        "                temp_hook_fn\n",
        "                )]\n",
        "            )\n",
        "        \n",
        "        ablated_logit_diff = ablated_logits[0, -1, correct_index] - ablated_logits[0, -1, incorrect_index]\n",
        "        ablation_result[layer, head] = ablated_logit_diff\n",
        "\n",
        "model.reset_hooks()"
      ],
      "metadata": {
        "colab": {
          "base_uri": "https://localhost:8080/",
          "height": 49,
          "referenced_widgets": [
            "84c87f2e8035494e885d1a6d7077eacf",
            "626b37f9492a4c529861f876f833ef80",
            "de6f4541f23b4a4fa30de69b17fdede5",
            "c0c3539b8f614d85afed68e5f1431951",
            "524987eb04974c94a4e86b6da506ed25",
            "aca0776ea72b41cb8dba9c7751e8c66a",
            "4d4836b34f95495ba85627abcd8f60a2",
            "24abd56e494548ee9e83528d1cb82566",
            "47d54da94e9b41ebb31313fe9276ce52",
            "720f5cb36e2a41639a8058fe8db587a6",
            "4543fb85ef9942fdb36fa91fd931302b"
          ]
        },
        "id": "3sb_OfRWjLkx",
        "outputId": "aab58aa6-c255-4dec-e54d-9f98f519e1ce"
      },
      "execution_count": 20,
      "outputs": [
        {
          "output_type": "display_data",
          "data": {
            "text/plain": [
              "  0%|          | 0/12 [00:00<?, ?it/s]"
            ],
            "application/vnd.jupyter.widget-view+json": {
              "version_major": 2,
              "version_minor": 0,
              "model_id": "84c87f2e8035494e885d1a6d7077eacf"
            }
          },
          "metadata": {}
        }
      ]
    },
    {
      "cell_type": "code",
      "source": [
        "%matplotlib inline\n",
        "\n",
        "imshow(ablation_result, midpoint=original_logit_diff.item(), xaxis=\"Head\", yaxis=\"Layer\", title=\"Ablated logit difference for every head\")"
      ],
      "metadata": {
        "colab": {
          "base_uri": "https://localhost:8080/",
          "height": 542
        },
        "id": "wytqCuIOkYE0",
        "outputId": "530919d1-738d-4b0f-955c-49848a934a4a"
      },
      "execution_count": 21,
      "outputs": [
        {
          "output_type": "display_data",
          "data": {
            "text/html": [
              "<html>\n",
              "<head><meta charset=\"utf-8\" /></head>\n",
              "<body>\n",
              "    <div>            <script src=\"https://cdnjs.cloudflare.com/ajax/libs/mathjax/2.7.5/MathJax.js?config=TeX-AMS-MML_SVG\"></script><script type=\"text/javascript\">if (window.MathJax && window.MathJax.Hub && window.MathJax.Hub.Config) {window.MathJax.Hub.Config({SVG: {font: \"STIX-Web\"}});}</script>                <script type=\"text/javascript\">window.PlotlyConfig = {MathJaxConfig: 'local'};</script>\n",
              "        <script src=\"https://cdn.plot.ly/plotly-2.18.2.min.js\"></script>                <div id=\"d75d9bd8-e477-44c7-a36a-76622abf286a\" class=\"plotly-graph-div\" style=\"height:525px; width:100%;\"></div>            <script type=\"text/javascript\">                                    window.PLOTLYENV=window.PLOTLYENV || {};                                    if (document.getElementById(\"d75d9bd8-e477-44c7-a36a-76622abf286a\")) {                    Plotly.newPlot(                        \"d75d9bd8-e477-44c7-a36a-76622abf286a\",                        [{\"coloraxis\":\"coloraxis\",\"name\":\"0\",\"z\":[[0.7868900299072266,0.8941679000854492,0.8905820846557617,0.9223527908325195,0.6934585571289062,0.8845138549804688,0.7331628799438477,0.024751663208007812,-1.7172269821166992,-0.8716754913330078,0.052996158599853516,0.18128013610839844],[0.9556217193603516,0.954258918762207,0.8944053649902344,0.29958629608154297,1.088475227355957,0.5610141754150391,0.6799278259277344,0.8136463165283203,0.8048934936523438,0.6930179595947266,-0.12337827682495117,0.5200910568237305],[0.43541431427001953,0.8213033676147461,0.9845714569091797,-0.07801437377929688,0.8804302215576172,0.3802509307861328,0.6962680816650391,0.9506502151489258,0.4070014953613281,0.21361064910888672,0.26022911071777344,0.4528512954711914],[0.5644149780273438,0.8256158828735352,0.3761568069458008,0.7995071411132812,0.4406890869140625,0.9498119354248047,0.8343582153320312,1.1386833190917969,1.1610221862792969,0.8807191848754883,0.7306222915649414,0.7587556838989258],[0.6617422103881836,1.0531578063964844,0.8711338043212891,0.08946609497070312,0.7106199264526367,0.7017545700073242,1.001861572265625,0.5188636779785156,1.049346923828125,0.9366111755371094,0.8647546768188477,0.8353919982910156],[0.8215007781982422,0.36487865447998047,0.8481473922729492,0.956268310546875,0.7872219085693359,0.5810260772705078,1.0902099609375,0.9422817230224609,0.9775638580322266,0.5195636749267578,0.9085159301757812,0.8398733139038086],[0.2817201614379883,0.762542724609375,0.8116130828857422,0.8734683990478516,0.9694042205810547,0.72943115234375,0.8906660079956055,0.7788143157958984,0.7491741180419922,0.8114995956420898,0.8557062149047852,0.8685779571533203],[0.7248744964599609,0.7232131958007812,1.033644676208496,1.3961572647094727,0.8771829605102539,0.4233694076538086,0.8069791793823242,0.7910146713256836,0.5090427398681641,0.8588342666625977,0.7656078338623047,0.9454507827758789],[0.7371482849121094,0.888580322265625,0.7288722991943359,0.5577564239501953,0.8085355758666992,0.9779243469238281,0.8301210403442383,0.4686546325683594,0.82470703125,0.9238338470458984,1.034499168395996,0.6873235702514648],[0.7845134735107422,0.8298559188842773,0.8078680038452148,0.782048225402832,0.6300592422485352,1.0240755081176758,0.8712482452392578,-0.013879776000976562,0.9126367568969727,0.8573265075683594,0.5256757736206055,0.8809404373168945],[0.9098758697509766,0.7830467224121094,0.38537120819091797,0.8469915390014648,0.8840093612670898,0.8760519027709961,0.9554071426391602,0.709930419921875,0.8002872467041016,0.17250442504882812,0.7838344573974609,0.8801708221435547],[0.01026773452758789,0.5710353851318359,0.8639535903930664,0.8720607757568359,0.9048547744750977,0.8300981521606445,0.9287042617797852,1.0831413269042969,0.6349363327026367,0.8712139129638672,0.8827571868896484,0.8714513778686523]],\"type\":\"heatmap\",\"xaxis\":\"x\",\"yaxis\":\"y\",\"hovertemplate\":\"Head: %{x}<br>Layer: %{y}<br>color: %{z}<extra></extra>\"}],                        {\"template\":{\"data\":{\"histogram2dcontour\":[{\"type\":\"histogram2dcontour\",\"colorbar\":{\"outlinewidth\":0,\"ticks\":\"\"},\"colorscale\":[[0.0,\"#0d0887\"],[0.1111111111111111,\"#46039f\"],[0.2222222222222222,\"#7201a8\"],[0.3333333333333333,\"#9c179e\"],[0.4444444444444444,\"#bd3786\"],[0.5555555555555556,\"#d8576b\"],[0.6666666666666666,\"#ed7953\"],[0.7777777777777778,\"#fb9f3a\"],[0.8888888888888888,\"#fdca26\"],[1.0,\"#f0f921\"]]}],\"choropleth\":[{\"type\":\"choropleth\",\"colorbar\":{\"outlinewidth\":0,\"ticks\":\"\"}}],\"histogram2d\":[{\"type\":\"histogram2d\",\"colorbar\":{\"outlinewidth\":0,\"ticks\":\"\"},\"colorscale\":[[0.0,\"#0d0887\"],[0.1111111111111111,\"#46039f\"],[0.2222222222222222,\"#7201a8\"],[0.3333333333333333,\"#9c179e\"],[0.4444444444444444,\"#bd3786\"],[0.5555555555555556,\"#d8576b\"],[0.6666666666666666,\"#ed7953\"],[0.7777777777777778,\"#fb9f3a\"],[0.8888888888888888,\"#fdca26\"],[1.0,\"#f0f921\"]]}],\"heatmap\":[{\"type\":\"heatmap\",\"colorbar\":{\"outlinewidth\":0,\"ticks\":\"\"},\"colorscale\":[[0.0,\"#0d0887\"],[0.1111111111111111,\"#46039f\"],[0.2222222222222222,\"#7201a8\"],[0.3333333333333333,\"#9c179e\"],[0.4444444444444444,\"#bd3786\"],[0.5555555555555556,\"#d8576b\"],[0.6666666666666666,\"#ed7953\"],[0.7777777777777778,\"#fb9f3a\"],[0.8888888888888888,\"#fdca26\"],[1.0,\"#f0f921\"]]}],\"heatmapgl\":[{\"type\":\"heatmapgl\",\"colorbar\":{\"outlinewidth\":0,\"ticks\":\"\"},\"colorscale\":[[0.0,\"#0d0887\"],[0.1111111111111111,\"#46039f\"],[0.2222222222222222,\"#7201a8\"],[0.3333333333333333,\"#9c179e\"],[0.4444444444444444,\"#bd3786\"],[0.5555555555555556,\"#d8576b\"],[0.6666666666666666,\"#ed7953\"],[0.7777777777777778,\"#fb9f3a\"],[0.8888888888888888,\"#fdca26\"],[1.0,\"#f0f921\"]]}],\"contourcarpet\":[{\"type\":\"contourcarpet\",\"colorbar\":{\"outlinewidth\":0,\"ticks\":\"\"}}],\"contour\":[{\"type\":\"contour\",\"colorbar\":{\"outlinewidth\":0,\"ticks\":\"\"},\"colorscale\":[[0.0,\"#0d0887\"],[0.1111111111111111,\"#46039f\"],[0.2222222222222222,\"#7201a8\"],[0.3333333333333333,\"#9c179e\"],[0.4444444444444444,\"#bd3786\"],[0.5555555555555556,\"#d8576b\"],[0.6666666666666666,\"#ed7953\"],[0.7777777777777778,\"#fb9f3a\"],[0.8888888888888888,\"#fdca26\"],[1.0,\"#f0f921\"]]}],\"surface\":[{\"type\":\"surface\",\"colorbar\":{\"outlinewidth\":0,\"ticks\":\"\"},\"colorscale\":[[0.0,\"#0d0887\"],[0.1111111111111111,\"#46039f\"],[0.2222222222222222,\"#7201a8\"],[0.3333333333333333,\"#9c179e\"],[0.4444444444444444,\"#bd3786\"],[0.5555555555555556,\"#d8576b\"],[0.6666666666666666,\"#ed7953\"],[0.7777777777777778,\"#fb9f3a\"],[0.8888888888888888,\"#fdca26\"],[1.0,\"#f0f921\"]]}],\"mesh3d\":[{\"type\":\"mesh3d\",\"colorbar\":{\"outlinewidth\":0,\"ticks\":\"\"}}],\"scatter\":[{\"fillpattern\":{\"fillmode\":\"overlay\",\"size\":10,\"solidity\":0.2},\"type\":\"scatter\"}],\"parcoords\":[{\"type\":\"parcoords\",\"line\":{\"colorbar\":{\"outlinewidth\":0,\"ticks\":\"\"}}}],\"scatterpolargl\":[{\"type\":\"scatterpolargl\",\"marker\":{\"colorbar\":{\"outlinewidth\":0,\"ticks\":\"\"}}}],\"bar\":[{\"error_x\":{\"color\":\"#2a3f5f\"},\"error_y\":{\"color\":\"#2a3f5f\"},\"marker\":{\"line\":{\"color\":\"#E5ECF6\",\"width\":0.5},\"pattern\":{\"fillmode\":\"overlay\",\"size\":10,\"solidity\":0.2}},\"type\":\"bar\"}],\"scattergeo\":[{\"type\":\"scattergeo\",\"marker\":{\"colorbar\":{\"outlinewidth\":0,\"ticks\":\"\"}}}],\"scatterpolar\":[{\"type\":\"scatterpolar\",\"marker\":{\"colorbar\":{\"outlinewidth\":0,\"ticks\":\"\"}}}],\"histogram\":[{\"marker\":{\"pattern\":{\"fillmode\":\"overlay\",\"size\":10,\"solidity\":0.2}},\"type\":\"histogram\"}],\"scattergl\":[{\"type\":\"scattergl\",\"marker\":{\"colorbar\":{\"outlinewidth\":0,\"ticks\":\"\"}}}],\"scatter3d\":[{\"type\":\"scatter3d\",\"line\":{\"colorbar\":{\"outlinewidth\":0,\"ticks\":\"\"}},\"marker\":{\"colorbar\":{\"outlinewidth\":0,\"ticks\":\"\"}}}],\"scattermapbox\":[{\"type\":\"scattermapbox\",\"marker\":{\"colorbar\":{\"outlinewidth\":0,\"ticks\":\"\"}}}],\"scatterternary\":[{\"type\":\"scatterternary\",\"marker\":{\"colorbar\":{\"outlinewidth\":0,\"ticks\":\"\"}}}],\"scattercarpet\":[{\"type\":\"scattercarpet\",\"marker\":{\"colorbar\":{\"outlinewidth\":0,\"ticks\":\"\"}}}],\"carpet\":[{\"aaxis\":{\"endlinecolor\":\"#2a3f5f\",\"gridcolor\":\"white\",\"linecolor\":\"white\",\"minorgridcolor\":\"white\",\"startlinecolor\":\"#2a3f5f\"},\"baxis\":{\"endlinecolor\":\"#2a3f5f\",\"gridcolor\":\"white\",\"linecolor\":\"white\",\"minorgridcolor\":\"white\",\"startlinecolor\":\"#2a3f5f\"},\"type\":\"carpet\"}],\"table\":[{\"cells\":{\"fill\":{\"color\":\"#EBF0F8\"},\"line\":{\"color\":\"white\"}},\"header\":{\"fill\":{\"color\":\"#C8D4E3\"},\"line\":{\"color\":\"white\"}},\"type\":\"table\"}],\"barpolar\":[{\"marker\":{\"line\":{\"color\":\"#E5ECF6\",\"width\":0.5},\"pattern\":{\"fillmode\":\"overlay\",\"size\":10,\"solidity\":0.2}},\"type\":\"barpolar\"}],\"pie\":[{\"automargin\":true,\"type\":\"pie\"}]},\"layout\":{\"autotypenumbers\":\"strict\",\"colorway\":[\"#636efa\",\"#EF553B\",\"#00cc96\",\"#ab63fa\",\"#FFA15A\",\"#19d3f3\",\"#FF6692\",\"#B6E880\",\"#FF97FF\",\"#FECB52\"],\"font\":{\"color\":\"#2a3f5f\"},\"hovermode\":\"closest\",\"hoverlabel\":{\"align\":\"left\"},\"paper_bgcolor\":\"white\",\"plot_bgcolor\":\"#E5ECF6\",\"polar\":{\"bgcolor\":\"#E5ECF6\",\"angularaxis\":{\"gridcolor\":\"white\",\"linecolor\":\"white\",\"ticks\":\"\"},\"radialaxis\":{\"gridcolor\":\"white\",\"linecolor\":\"white\",\"ticks\":\"\"}},\"ternary\":{\"bgcolor\":\"#E5ECF6\",\"aaxis\":{\"gridcolor\":\"white\",\"linecolor\":\"white\",\"ticks\":\"\"},\"baxis\":{\"gridcolor\":\"white\",\"linecolor\":\"white\",\"ticks\":\"\"},\"caxis\":{\"gridcolor\":\"white\",\"linecolor\":\"white\",\"ticks\":\"\"}},\"coloraxis\":{\"colorbar\":{\"outlinewidth\":0,\"ticks\":\"\"}},\"colorscale\":{\"sequential\":[[0.0,\"#0d0887\"],[0.1111111111111111,\"#46039f\"],[0.2222222222222222,\"#7201a8\"],[0.3333333333333333,\"#9c179e\"],[0.4444444444444444,\"#bd3786\"],[0.5555555555555556,\"#d8576b\"],[0.6666666666666666,\"#ed7953\"],[0.7777777777777778,\"#fb9f3a\"],[0.8888888888888888,\"#fdca26\"],[1.0,\"#f0f921\"]],\"sequentialminus\":[[0.0,\"#0d0887\"],[0.1111111111111111,\"#46039f\"],[0.2222222222222222,\"#7201a8\"],[0.3333333333333333,\"#9c179e\"],[0.4444444444444444,\"#bd3786\"],[0.5555555555555556,\"#d8576b\"],[0.6666666666666666,\"#ed7953\"],[0.7777777777777778,\"#fb9f3a\"],[0.8888888888888888,\"#fdca26\"],[1.0,\"#f0f921\"]],\"diverging\":[[0,\"#8e0152\"],[0.1,\"#c51b7d\"],[0.2,\"#de77ae\"],[0.3,\"#f1b6da\"],[0.4,\"#fde0ef\"],[0.5,\"#f7f7f7\"],[0.6,\"#e6f5d0\"],[0.7,\"#b8e186\"],[0.8,\"#7fbc41\"],[0.9,\"#4d9221\"],[1,\"#276419\"]]},\"xaxis\":{\"gridcolor\":\"white\",\"linecolor\":\"white\",\"ticks\":\"\",\"title\":{\"standoff\":15},\"zerolinecolor\":\"white\",\"automargin\":true,\"zerolinewidth\":2},\"yaxis\":{\"gridcolor\":\"white\",\"linecolor\":\"white\",\"ticks\":\"\",\"title\":{\"standoff\":15},\"zerolinecolor\":\"white\",\"automargin\":true,\"zerolinewidth\":2},\"scene\":{\"xaxis\":{\"backgroundcolor\":\"#E5ECF6\",\"gridcolor\":\"white\",\"linecolor\":\"white\",\"showbackground\":true,\"ticks\":\"\",\"zerolinecolor\":\"white\",\"gridwidth\":2},\"yaxis\":{\"backgroundcolor\":\"#E5ECF6\",\"gridcolor\":\"white\",\"linecolor\":\"white\",\"showbackground\":true,\"ticks\":\"\",\"zerolinecolor\":\"white\",\"gridwidth\":2},\"zaxis\":{\"backgroundcolor\":\"#E5ECF6\",\"gridcolor\":\"white\",\"linecolor\":\"white\",\"showbackground\":true,\"ticks\":\"\",\"zerolinecolor\":\"white\",\"gridwidth\":2}},\"shapedefaults\":{\"line\":{\"color\":\"#2a3f5f\"}},\"annotationdefaults\":{\"arrowcolor\":\"#2a3f5f\",\"arrowhead\":0,\"arrowwidth\":1},\"geo\":{\"bgcolor\":\"white\",\"landcolor\":\"#E5ECF6\",\"subunitcolor\":\"white\",\"showland\":true,\"showlakes\":true,\"lakecolor\":\"white\"},\"title\":{\"x\":0.05},\"mapbox\":{\"style\":\"light\"}}},\"xaxis\":{\"anchor\":\"y\",\"domain\":[0.0,1.0],\"scaleanchor\":\"y\",\"constrain\":\"domain\",\"title\":{\"text\":\"Head\"}},\"yaxis\":{\"anchor\":\"x\",\"domain\":[0.0,1.0],\"autorange\":\"reversed\",\"constrain\":\"domain\",\"title\":{\"text\":\"Layer\"}},\"coloraxis\":{\"colorscale\":[[0.0,\"rgb(103,0,31)\"],[0.1,\"rgb(178,24,43)\"],[0.2,\"rgb(214,96,77)\"],[0.3,\"rgb(244,165,130)\"],[0.4,\"rgb(253,219,199)\"],[0.5,\"rgb(247,247,247)\"],[0.6,\"rgb(209,229,240)\"],[0.7,\"rgb(146,197,222)\"],[0.8,\"rgb(67,147,195)\"],[0.9,\"rgb(33,102,172)\"],[1.0,\"rgb(5,48,97)\"]],\"cmid\":0.8611087799072266},\"title\":{\"text\":\"Ablated logit difference for every head\"}},                        {\"responsive\": true}                    ).then(function(){\n",
              "                            \n",
              "var gd = document.getElementById('d75d9bd8-e477-44c7-a36a-76622abf286a');\n",
              "var x = new MutationObserver(function (mutations, observer) {{\n",
              "        var display = window.getComputedStyle(gd).display;\n",
              "        if (!display || display === 'none') {{\n",
              "            console.log([gd, 'removed!']);\n",
              "            Plotly.purge(gd);\n",
              "            observer.disconnect();\n",
              "        }}\n",
              "}});\n",
              "\n",
              "// Listen for the removal of the full notebook cells\n",
              "var notebookContainer = gd.closest('#notebook-container');\n",
              "if (notebookContainer) {{\n",
              "    x.observe(notebookContainer, {childList: true});\n",
              "}}\n",
              "\n",
              "// Listen for the clearing of the current output cell\n",
              "var outputEl = gd.closest('.output');\n",
              "if (outputEl) {{\n",
              "    x.observe(outputEl, {childList: true});\n",
              "}}\n",
              "\n",
              "                        })                };                            </script>        </div>\n",
              "</body>\n",
              "</html>"
            ]
          },
          "metadata": {}
        }
      ]
    },
    {
      "cell_type": "markdown",
      "source": [
        "ablating some heads like layer 0 head 8 decreases the logit difference whereas ablating some heads like layer 7 head 3 increases the logit difference"
      ],
      "metadata": {
        "id": "X2SKLCBP479W"
      }
    },
    {
      "cell_type": "markdown",
      "source": [
        "### Activation Patching"
      ],
      "metadata": {
        "id": "d_gi0HEnIqL6"
      }
    },
    {
      "cell_type": "code",
      "source": [
        "clean_prompt = \"Mary is a great friend, isn’t\"\n",
        "corrupted_prompt = \"John is a great friend, isn’t\"\n",
        "\n",
        "clean_tokens = model.to_tokens(clean_prompt)\n",
        "corrupted_tokens = model.to_tokens(corrupted_prompt)\n",
        "\n",
        "def logits_to_logit_diff(logits, correct_answer=\" she\", incorrect_answer=\" he\"):\n",
        "    # model.to_single_token maps a string value of a single token to the token index for that token\n",
        "    # If the string is not a single token, it raises an error.\n",
        "    correct_index = model.to_single_token(correct_answer)\n",
        "    incorrect_index = model.to_single_token(incorrect_answer)\n",
        "    return logits[0, -1, correct_index] - logits[0, -1, incorrect_index]\n",
        "\n",
        "# We run on the clean prompt with the cache so we store activations to patch in later.\n",
        "clean_logits, clean_cache = model.run_with_cache(clean_tokens)\n",
        "clean_logit_diff = logits_to_logit_diff(clean_logits)\n",
        "print(f\"Clean logit difference: {clean_logit_diff.item():.3f}\")\n",
        "\n",
        "# We don't need to cache on the corrupted prompt.\n",
        "corrupted_logits = model(corrupted_tokens)\n",
        "corrupted_logit_diff = logits_to_logit_diff(corrupted_logits)\n",
        "print(f\"Corrupted logit difference: {corrupted_logit_diff.item():.3f}\")"
      ],
      "metadata": {
        "colab": {
          "base_uri": "https://localhost:8080/"
        },
        "id": "P0V5rj2EDjxR",
        "outputId": "9d2ded7f-1340-4145-fe21-af6f57a5fe4d"
      },
      "execution_count": 22,
      "outputs": [
        {
          "output_type": "stream",
          "name": "stdout",
          "text": [
            "Clean logit difference: 3.898\n",
            "Corrupted logit difference: -4.854\n"
          ]
        }
      ]
    },
    {
      "cell_type": "code",
      "source": [
        "clean_tokens.shape, corrupted_tokens.shape"
      ],
      "metadata": {
        "colab": {
          "base_uri": "https://localhost:8080/"
        },
        "id": "pe7KM-YcDljC",
        "outputId": "5e7755e7-39df-4980-8d10-9558713b6fd1"
      },
      "execution_count": 23,
      "outputs": [
        {
          "output_type": "execute_result",
          "data": {
            "text/plain": [
              "(torch.Size([1, 11]), torch.Size([1, 11]))"
            ]
          },
          "metadata": {},
          "execution_count": 23
        }
      ]
    },
    {
      "cell_type": "code",
      "source": [
        "# We define a residual stream patching hook\n",
        "# We choose to act on the residual stream at the start of the layer, so we call it resid_pre\n",
        "# The type annotations are a guide to the reader and are not necessary\n",
        "def residual_stream_patching_hook(\n",
        "    resid_pre: Float[torch.Tensor, \"batch pos d_model\"],\n",
        "    hook: HookPoint,\n",
        "    position: int\n",
        ") -> Float[torch.Tensor, \"batch pos d_model\"]:\n",
        "    # Each HookPoint has a name attribute giving the name of the hook.\n",
        "    clean_resid_pre = clean_cache[hook.name]\n",
        "    resid_pre[:, position, :] = clean_resid_pre[:, position, :]\n",
        "    return resid_pre\n",
        "\n",
        "# We make a tensor to store the results for each patching run. We put it on the model's device to avoid needing to move things between the GPU and CPU, which can be slow.\n",
        "num_positions = len(clean_tokens[0])\n",
        "patching_result = torch.zeros((model.cfg.n_layers, num_positions), device=model.cfg.device)\n",
        "\n",
        "for layer in tqdm.tqdm(range(model.cfg.n_layers)):\n",
        "    for position in range(num_positions):\n",
        "        # Use functools.partial to create a temporary hook function with the position fixed\n",
        "        temp_hook_fn = partial(residual_stream_patching_hook, position=position)\n",
        "        # Run the model with the patching hook\n",
        "        patched_logits = model.run_with_hooks(corrupted_tokens, fwd_hooks=[\n",
        "            (utils.get_act_name(\"resid_pre\", layer), temp_hook_fn)\n",
        "        ])\n",
        "        # Calculate the logit difference\n",
        "        patched_logit_diff = logits_to_logit_diff(patched_logits).detach()\n",
        "        # Store the result, normalizing by the clean and corrupted logit difference so it's between 0 and 1 (ish)\n",
        "        patching_result[layer, position] = (patched_logit_diff - corrupted_logit_diff)/(clean_logit_diff - corrupted_logit_diff)"
      ],
      "metadata": {
        "colab": {
          "base_uri": "https://localhost:8080/",
          "height": 49,
          "referenced_widgets": [
            "c8d524e72dcb46d0a4cccb54dd04641a",
            "ee9d2a748c0a4deaaadb0dcb49d27251",
            "6d91960a4ee04711bbd497c37503f39b",
            "1ddc237dda09489ea8e941bdfaa03bd7",
            "8c4d6f777d514cfda56c37f9a8d7946a",
            "82a0fbf5112f465aaf3ba534c9d7bdf0",
            "d1ad56470f324ba593ca60dd3e61adb1",
            "7bcaafb343b44f0bbb7bf8acc583c652",
            "aee3f59218b24d6f91701dc34f6eb0e8",
            "0b27ea30e39a424295a806183ac7d5b1",
            "8b31213234cf47cc9ba87912da1c7f36"
          ]
        },
        "id": "2cgajwqlDrmK",
        "outputId": "48c0e9ec-e3dd-4587-ff0f-65c96aec1e41"
      },
      "execution_count": 24,
      "outputs": [
        {
          "output_type": "display_data",
          "data": {
            "text/plain": [
              "  0%|          | 0/12 [00:00<?, ?it/s]"
            ],
            "application/vnd.jupyter.widget-view+json": {
              "version_major": 2,
              "version_minor": 0,
              "model_id": "c8d524e72dcb46d0a4cccb54dd04641a"
            }
          },
          "metadata": {}
        }
      ]
    },
    {
      "cell_type": "code",
      "source": [
        "%matplotlib inline\n",
        "# Add the index to the end of the label, because plotly doesn't like duplicate labels\n",
        "token_labels = [f\"{token}_{index}\" for index, token in enumerate(model.to_str_tokens(clean_tokens))]\n",
        "imshow(patching_result, x=token_labels, xaxis=\"Position\", yaxis=\"Layer\", title=\"Normalized Logit Difference After Patching Residual Stream\")"
      ],
      "metadata": {
        "colab": {
          "base_uri": "https://localhost:8080/",
          "height": 542
        },
        "id": "Zf4wYFlqDul6",
        "outputId": "cfc79ea1-27c6-4042-b4c1-657be2ad59ca"
      },
      "execution_count": 25,
      "outputs": [
        {
          "output_type": "display_data",
          "data": {
            "text/html": [
              "<html>\n",
              "<head><meta charset=\"utf-8\" /></head>\n",
              "<body>\n",
              "    <div>            <script src=\"https://cdnjs.cloudflare.com/ajax/libs/mathjax/2.7.5/MathJax.js?config=TeX-AMS-MML_SVG\"></script><script type=\"text/javascript\">if (window.MathJax && window.MathJax.Hub && window.MathJax.Hub.Config) {window.MathJax.Hub.Config({SVG: {font: \"STIX-Web\"}});}</script>                <script type=\"text/javascript\">window.PlotlyConfig = {MathJaxConfig: 'local'};</script>\n",
              "        <script src=\"https://cdn.plot.ly/plotly-2.18.2.min.js\"></script>                <div id=\"466fbedc-eb2c-47d0-97b7-f94b7554869e\" class=\"plotly-graph-div\" style=\"height:525px; width:100%;\"></div>            <script type=\"text/javascript\">                                    window.PLOTLYENV=window.PLOTLYENV || {};                                    if (document.getElementById(\"466fbedc-eb2c-47d0-97b7-f94b7554869e\")) {                    Plotly.newPlot(                        \"466fbedc-eb2c-47d0-97b7-f94b7554869e\",                        [{\"coloraxis\":\"coloraxis\",\"name\":\"0\",\"x\":[\"<|endoftext|>_0\",\"Mary_1\",\" is_2\",\" a_3\",\" great_4\",\" friend_5\",\",_6\",\" isn_7\",\"\\ufffd_8\",\"\\ufffd_9\",\"t_10\"],\"z\":[[0.0,1.0,0.0,0.0,0.0,0.0,0.0,0.0,0.0,0.0,0.0],[0.0,0.9827033281326294,0.004163765348494053,0.000701770419254899,0.001870588748715818,0.006622795015573502,0.0005465963622555137,0.0035764139611274004,-0.0014826535480096936,-0.0019440349424257874,-0.0007856777519918978],[0.0,0.9616804718971252,0.020482979714870453,-0.0005075848894193769,0.0027994539123028517,0.006951014511287212,0.0013499273918569088,0.00964956171810627,0.0021748344879597425,-0.0019810849335044622,0.0017729511018842459],[0.0,0.8833633661270142,0.07487106323242188,0.005187434609979391,0.005279841832816601,0.015474691987037659,0.0052120620384812355,0.02029729261994362,0.005459643434733152,-0.002519181463867426,0.0014399370411410928],[0.0,0.7844908833503723,0.15549904108047485,0.010572106577455997,0.017068931832909584,0.035384923219680786,0.013222270645201206,0.046804603189229965,0.0074086906388401985,-0.0026041786186397076,0.0024620809126645327],[0.0,0.476767361164093,0.4456503987312317,0.12776494026184082,0.056946709752082825,0.12219065427780151,0.029560226947069168,0.2811388373374939,0.008136614225804806,-0.0009979524184018373,0.014916762709617615],[0.0,0.48188504576683044,0.40701836347579956,0.11544647067785263,0.059231385588645935,0.11935589462518692,0.039311349391937256,0.17921757698059082,0.007294925395399332,-0.000983350444585085,0.01827741600573063],[0.0,0.3273898661136627,0.4023241102695465,0.1640724092721939,0.08036819100379944,0.29630687832832336,0.12162706255912781,0.20773036777973175,0.0048515875823795795,-0.0002643626066856086,0.05055863782763481],[0.0,0.3156369626522064,0.39354175329208374,0.17532405257225037,0.0753306970000267,0.28922969102859497,0.11994346976280212,0.23156899213790894,0.004801896866410971,-0.0005243663908913732,0.07327965646982193],[0.0,0.3107694387435913,0.3967352509498596,0.18503551185131073,0.05863749608397484,0.2843586802482605,0.09162180125713348,0.19098900258541107,0.004059371538460255,0.001643929979763925,0.15470311045646667],[0.0,0.17571482062339783,0.27176713943481445,0.06893085688352585,0.03443753346800804,0.1830417811870575,0.16755227744579315,0.21443991363048553,0.010824699886143208,0.016595127061009407,0.49363166093826294],[0.0,0.09984101355075836,0.052378665655851364,0.020147567614912987,0.015214688144624233,0.022087462246418,0.043991852551698685,0.0018884598976001143,0.00523799704387784,0.025251314043998718,0.836895227432251]],\"type\":\"heatmap\",\"xaxis\":\"x\",\"yaxis\":\"y\",\"hovertemplate\":\"Position: %{x}<br>Layer: %{y}<br>color: %{z}<extra></extra>\"}],                        {\"template\":{\"data\":{\"histogram2dcontour\":[{\"type\":\"histogram2dcontour\",\"colorbar\":{\"outlinewidth\":0,\"ticks\":\"\"},\"colorscale\":[[0.0,\"#0d0887\"],[0.1111111111111111,\"#46039f\"],[0.2222222222222222,\"#7201a8\"],[0.3333333333333333,\"#9c179e\"],[0.4444444444444444,\"#bd3786\"],[0.5555555555555556,\"#d8576b\"],[0.6666666666666666,\"#ed7953\"],[0.7777777777777778,\"#fb9f3a\"],[0.8888888888888888,\"#fdca26\"],[1.0,\"#f0f921\"]]}],\"choropleth\":[{\"type\":\"choropleth\",\"colorbar\":{\"outlinewidth\":0,\"ticks\":\"\"}}],\"histogram2d\":[{\"type\":\"histogram2d\",\"colorbar\":{\"outlinewidth\":0,\"ticks\":\"\"},\"colorscale\":[[0.0,\"#0d0887\"],[0.1111111111111111,\"#46039f\"],[0.2222222222222222,\"#7201a8\"],[0.3333333333333333,\"#9c179e\"],[0.4444444444444444,\"#bd3786\"],[0.5555555555555556,\"#d8576b\"],[0.6666666666666666,\"#ed7953\"],[0.7777777777777778,\"#fb9f3a\"],[0.8888888888888888,\"#fdca26\"],[1.0,\"#f0f921\"]]}],\"heatmap\":[{\"type\":\"heatmap\",\"colorbar\":{\"outlinewidth\":0,\"ticks\":\"\"},\"colorscale\":[[0.0,\"#0d0887\"],[0.1111111111111111,\"#46039f\"],[0.2222222222222222,\"#7201a8\"],[0.3333333333333333,\"#9c179e\"],[0.4444444444444444,\"#bd3786\"],[0.5555555555555556,\"#d8576b\"],[0.6666666666666666,\"#ed7953\"],[0.7777777777777778,\"#fb9f3a\"],[0.8888888888888888,\"#fdca26\"],[1.0,\"#f0f921\"]]}],\"heatmapgl\":[{\"type\":\"heatmapgl\",\"colorbar\":{\"outlinewidth\":0,\"ticks\":\"\"},\"colorscale\":[[0.0,\"#0d0887\"],[0.1111111111111111,\"#46039f\"],[0.2222222222222222,\"#7201a8\"],[0.3333333333333333,\"#9c179e\"],[0.4444444444444444,\"#bd3786\"],[0.5555555555555556,\"#d8576b\"],[0.6666666666666666,\"#ed7953\"],[0.7777777777777778,\"#fb9f3a\"],[0.8888888888888888,\"#fdca26\"],[1.0,\"#f0f921\"]]}],\"contourcarpet\":[{\"type\":\"contourcarpet\",\"colorbar\":{\"outlinewidth\":0,\"ticks\":\"\"}}],\"contour\":[{\"type\":\"contour\",\"colorbar\":{\"outlinewidth\":0,\"ticks\":\"\"},\"colorscale\":[[0.0,\"#0d0887\"],[0.1111111111111111,\"#46039f\"],[0.2222222222222222,\"#7201a8\"],[0.3333333333333333,\"#9c179e\"],[0.4444444444444444,\"#bd3786\"],[0.5555555555555556,\"#d8576b\"],[0.6666666666666666,\"#ed7953\"],[0.7777777777777778,\"#fb9f3a\"],[0.8888888888888888,\"#fdca26\"],[1.0,\"#f0f921\"]]}],\"surface\":[{\"type\":\"surface\",\"colorbar\":{\"outlinewidth\":0,\"ticks\":\"\"},\"colorscale\":[[0.0,\"#0d0887\"],[0.1111111111111111,\"#46039f\"],[0.2222222222222222,\"#7201a8\"],[0.3333333333333333,\"#9c179e\"],[0.4444444444444444,\"#bd3786\"],[0.5555555555555556,\"#d8576b\"],[0.6666666666666666,\"#ed7953\"],[0.7777777777777778,\"#fb9f3a\"],[0.8888888888888888,\"#fdca26\"],[1.0,\"#f0f921\"]]}],\"mesh3d\":[{\"type\":\"mesh3d\",\"colorbar\":{\"outlinewidth\":0,\"ticks\":\"\"}}],\"scatter\":[{\"fillpattern\":{\"fillmode\":\"overlay\",\"size\":10,\"solidity\":0.2},\"type\":\"scatter\"}],\"parcoords\":[{\"type\":\"parcoords\",\"line\":{\"colorbar\":{\"outlinewidth\":0,\"ticks\":\"\"}}}],\"scatterpolargl\":[{\"type\":\"scatterpolargl\",\"marker\":{\"colorbar\":{\"outlinewidth\":0,\"ticks\":\"\"}}}],\"bar\":[{\"error_x\":{\"color\":\"#2a3f5f\"},\"error_y\":{\"color\":\"#2a3f5f\"},\"marker\":{\"line\":{\"color\":\"#E5ECF6\",\"width\":0.5},\"pattern\":{\"fillmode\":\"overlay\",\"size\":10,\"solidity\":0.2}},\"type\":\"bar\"}],\"scattergeo\":[{\"type\":\"scattergeo\",\"marker\":{\"colorbar\":{\"outlinewidth\":0,\"ticks\":\"\"}}}],\"scatterpolar\":[{\"type\":\"scatterpolar\",\"marker\":{\"colorbar\":{\"outlinewidth\":0,\"ticks\":\"\"}}}],\"histogram\":[{\"marker\":{\"pattern\":{\"fillmode\":\"overlay\",\"size\":10,\"solidity\":0.2}},\"type\":\"histogram\"}],\"scattergl\":[{\"type\":\"scattergl\",\"marker\":{\"colorbar\":{\"outlinewidth\":0,\"ticks\":\"\"}}}],\"scatter3d\":[{\"type\":\"scatter3d\",\"line\":{\"colorbar\":{\"outlinewidth\":0,\"ticks\":\"\"}},\"marker\":{\"colorbar\":{\"outlinewidth\":0,\"ticks\":\"\"}}}],\"scattermapbox\":[{\"type\":\"scattermapbox\",\"marker\":{\"colorbar\":{\"outlinewidth\":0,\"ticks\":\"\"}}}],\"scatterternary\":[{\"type\":\"scatterternary\",\"marker\":{\"colorbar\":{\"outlinewidth\":0,\"ticks\":\"\"}}}],\"scattercarpet\":[{\"type\":\"scattercarpet\",\"marker\":{\"colorbar\":{\"outlinewidth\":0,\"ticks\":\"\"}}}],\"carpet\":[{\"aaxis\":{\"endlinecolor\":\"#2a3f5f\",\"gridcolor\":\"white\",\"linecolor\":\"white\",\"minorgridcolor\":\"white\",\"startlinecolor\":\"#2a3f5f\"},\"baxis\":{\"endlinecolor\":\"#2a3f5f\",\"gridcolor\":\"white\",\"linecolor\":\"white\",\"minorgridcolor\":\"white\",\"startlinecolor\":\"#2a3f5f\"},\"type\":\"carpet\"}],\"table\":[{\"cells\":{\"fill\":{\"color\":\"#EBF0F8\"},\"line\":{\"color\":\"white\"}},\"header\":{\"fill\":{\"color\":\"#C8D4E3\"},\"line\":{\"color\":\"white\"}},\"type\":\"table\"}],\"barpolar\":[{\"marker\":{\"line\":{\"color\":\"#E5ECF6\",\"width\":0.5},\"pattern\":{\"fillmode\":\"overlay\",\"size\":10,\"solidity\":0.2}},\"type\":\"barpolar\"}],\"pie\":[{\"automargin\":true,\"type\":\"pie\"}]},\"layout\":{\"autotypenumbers\":\"strict\",\"colorway\":[\"#636efa\",\"#EF553B\",\"#00cc96\",\"#ab63fa\",\"#FFA15A\",\"#19d3f3\",\"#FF6692\",\"#B6E880\",\"#FF97FF\",\"#FECB52\"],\"font\":{\"color\":\"#2a3f5f\"},\"hovermode\":\"closest\",\"hoverlabel\":{\"align\":\"left\"},\"paper_bgcolor\":\"white\",\"plot_bgcolor\":\"#E5ECF6\",\"polar\":{\"bgcolor\":\"#E5ECF6\",\"angularaxis\":{\"gridcolor\":\"white\",\"linecolor\":\"white\",\"ticks\":\"\"},\"radialaxis\":{\"gridcolor\":\"white\",\"linecolor\":\"white\",\"ticks\":\"\"}},\"ternary\":{\"bgcolor\":\"#E5ECF6\",\"aaxis\":{\"gridcolor\":\"white\",\"linecolor\":\"white\",\"ticks\":\"\"},\"baxis\":{\"gridcolor\":\"white\",\"linecolor\":\"white\",\"ticks\":\"\"},\"caxis\":{\"gridcolor\":\"white\",\"linecolor\":\"white\",\"ticks\":\"\"}},\"coloraxis\":{\"colorbar\":{\"outlinewidth\":0,\"ticks\":\"\"}},\"colorscale\":{\"sequential\":[[0.0,\"#0d0887\"],[0.1111111111111111,\"#46039f\"],[0.2222222222222222,\"#7201a8\"],[0.3333333333333333,\"#9c179e\"],[0.4444444444444444,\"#bd3786\"],[0.5555555555555556,\"#d8576b\"],[0.6666666666666666,\"#ed7953\"],[0.7777777777777778,\"#fb9f3a\"],[0.8888888888888888,\"#fdca26\"],[1.0,\"#f0f921\"]],\"sequentialminus\":[[0.0,\"#0d0887\"],[0.1111111111111111,\"#46039f\"],[0.2222222222222222,\"#7201a8\"],[0.3333333333333333,\"#9c179e\"],[0.4444444444444444,\"#bd3786\"],[0.5555555555555556,\"#d8576b\"],[0.6666666666666666,\"#ed7953\"],[0.7777777777777778,\"#fb9f3a\"],[0.8888888888888888,\"#fdca26\"],[1.0,\"#f0f921\"]],\"diverging\":[[0,\"#8e0152\"],[0.1,\"#c51b7d\"],[0.2,\"#de77ae\"],[0.3,\"#f1b6da\"],[0.4,\"#fde0ef\"],[0.5,\"#f7f7f7\"],[0.6,\"#e6f5d0\"],[0.7,\"#b8e186\"],[0.8,\"#7fbc41\"],[0.9,\"#4d9221\"],[1,\"#276419\"]]},\"xaxis\":{\"gridcolor\":\"white\",\"linecolor\":\"white\",\"ticks\":\"\",\"title\":{\"standoff\":15},\"zerolinecolor\":\"white\",\"automargin\":true,\"zerolinewidth\":2},\"yaxis\":{\"gridcolor\":\"white\",\"linecolor\":\"white\",\"ticks\":\"\",\"title\":{\"standoff\":15},\"zerolinecolor\":\"white\",\"automargin\":true,\"zerolinewidth\":2},\"scene\":{\"xaxis\":{\"backgroundcolor\":\"#E5ECF6\",\"gridcolor\":\"white\",\"linecolor\":\"white\",\"showbackground\":true,\"ticks\":\"\",\"zerolinecolor\":\"white\",\"gridwidth\":2},\"yaxis\":{\"backgroundcolor\":\"#E5ECF6\",\"gridcolor\":\"white\",\"linecolor\":\"white\",\"showbackground\":true,\"ticks\":\"\",\"zerolinecolor\":\"white\",\"gridwidth\":2},\"zaxis\":{\"backgroundcolor\":\"#E5ECF6\",\"gridcolor\":\"white\",\"linecolor\":\"white\",\"showbackground\":true,\"ticks\":\"\",\"zerolinecolor\":\"white\",\"gridwidth\":2}},\"shapedefaults\":{\"line\":{\"color\":\"#2a3f5f\"}},\"annotationdefaults\":{\"arrowcolor\":\"#2a3f5f\",\"arrowhead\":0,\"arrowwidth\":1},\"geo\":{\"bgcolor\":\"white\",\"landcolor\":\"#E5ECF6\",\"subunitcolor\":\"white\",\"showland\":true,\"showlakes\":true,\"lakecolor\":\"white\"},\"title\":{\"x\":0.05},\"mapbox\":{\"style\":\"light\"}}},\"xaxis\":{\"anchor\":\"y\",\"domain\":[0.0,1.0],\"scaleanchor\":\"y\",\"constrain\":\"domain\",\"title\":{\"text\":\"Position\"}},\"yaxis\":{\"anchor\":\"x\",\"domain\":[0.0,1.0],\"autorange\":\"reversed\",\"constrain\":\"domain\",\"title\":{\"text\":\"Layer\"}},\"coloraxis\":{\"colorscale\":[[0.0,\"rgb(103,0,31)\"],[0.1,\"rgb(178,24,43)\"],[0.2,\"rgb(214,96,77)\"],[0.3,\"rgb(244,165,130)\"],[0.4,\"rgb(253,219,199)\"],[0.5,\"rgb(247,247,247)\"],[0.6,\"rgb(209,229,240)\"],[0.7,\"rgb(146,197,222)\"],[0.8,\"rgb(67,147,195)\"],[0.9,\"rgb(33,102,172)\"],[1.0,\"rgb(5,48,97)\"]],\"cmid\":0.0},\"title\":{\"text\":\"Normalized Logit Difference After Patching Residual Stream\"}},                        {\"responsive\": true}                    ).then(function(){\n",
              "                            \n",
              "var gd = document.getElementById('466fbedc-eb2c-47d0-97b7-f94b7554869e');\n",
              "var x = new MutationObserver(function (mutations, observer) {{\n",
              "        var display = window.getComputedStyle(gd).display;\n",
              "        if (!display || display === 'none') {{\n",
              "            console.log([gd, 'removed!']);\n",
              "            Plotly.purge(gd);\n",
              "            observer.disconnect();\n",
              "        }}\n",
              "}});\n",
              "\n",
              "// Listen for the removal of the full notebook cells\n",
              "var notebookContainer = gd.closest('#notebook-container');\n",
              "if (notebookContainer) {{\n",
              "    x.observe(notebookContainer, {childList: true});\n",
              "}}\n",
              "\n",
              "// Listen for the clearing of the current output cell\n",
              "var outputEl = gd.closest('.output');\n",
              "if (outputEl) {{\n",
              "    x.observe(outputEl, {childList: true});\n",
              "}}\n",
              "\n",
              "                        })                };                            </script>        </div>\n",
              "</body>\n",
              "</html>"
            ]
          },
          "metadata": {}
        }
      ]
    },
    {
      "cell_type": "markdown",
      "source": [
        "Initially, the subject (Mary) token is all that matters, and all relevant information remains here until heads in layer 4 and 5 move this to the \"is\" token, from where heads in layer 9 and 10 move this to the final token where it's used to predict the pronoun.\n",
        "\n",
        "This result is consistent for larger model sizes as well."
      ],
      "metadata": {
        "id": "R2yK2It4dZH3"
      }
    },
    {
      "cell_type": "markdown",
      "source": [
        "### LayerNorm folding bias"
      ],
      "metadata": {
        "id": "TespbQXAskoR"
      }
    },
    {
      "cell_type": "code",
      "source": [
        "he_bias = model.unembed.b_U[model.to_single_token(' he')]\n",
        "she_bias = model.unembed.b_U[model.to_single_token(' she')]\n",
        "\n",
        "print(f\"John bias: {he_bias.item():.4f}\")\n",
        "print(f\"Mary bias: {she_bias.item():.4f}\")\n",
        "print(f\"Prob ratio bias: {torch.exp(he_bias - she_bias).item():.4f}x\")"
      ],
      "metadata": {
        "colab": {
          "base_uri": "https://localhost:8080/"
        },
        "id": "qKxwX5cesEUN",
        "outputId": "7c4f2f4c-f757-4d65-a4b0-591598b72f48"
      },
      "execution_count": 26,
      "outputs": [
        {
          "output_type": "stream",
          "name": "stdout",
          "text": [
            "John bias: 4.5582\n",
            "Mary bias: 3.6625\n",
            "Prob ratio bias: 2.4490x\n"
          ]
        }
      ]
    },
    {
      "cell_type": "markdown",
      "source": [
        "The bias created across the unembed due to LayerNorm folding favours \" he\" over \" she\" by about 0.9! All other things being the same, this makes the \" he\" token 2.4x times more likely than the \" she\" token."
      ],
      "metadata": {
        "id": "4Vht_8dasP0Z"
      }
    },
    {
      "cell_type": "markdown",
      "source": [
        "### Analysing circuit formation during training"
      ],
      "metadata": {
        "id": "RPWQzBt4yPO0"
      }
    }
  ]
}