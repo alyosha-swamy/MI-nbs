{
  "cells": [
    {
      "cell_type": "markdown",
      "metadata": {
        "id": "s0DY_QmTyWRh"
      },
      "source": [
        "# Transformer Lens Main Demo Notebook\n",
        "\n",
        "<b style=\"color: red\">To use this notebook, go to Runtime > Change Runtime Type and select GPU as the hardware accelerator.</b>"
      ]
    },
    {
      "cell_type": "markdown",
      "metadata": {
        "id": "LImLny6nyWRr"
      },
      "source": [
        "**Tips for reading this Colab:**\n",
        "* You can run all this code for yourself! \n",
        "* The graphs are interactive!\n",
        "* Use the table of contents pane in the sidebar to navigate\n",
        "* Collapse irrelevant sections with the dropdown arrows\n",
        "* Search the page using the search in the sidebar, not CTRL+F"
      ]
    },
    {
      "cell_type": "markdown",
      "metadata": {
        "id": "FoI4vr4zyWRs"
      },
      "source": [
        "# Setup\n",
        "(No need to read)"
      ]
    },
    {
      "cell_type": "code",
      "execution_count": 85,
      "metadata": {
        "id": "yew7V3YgyWRt",
        "outputId": "371277a4-1825-47a6-e70d-c65e8db97686",
        "colab": {
          "base_uri": "https://localhost:8080/"
        }
      },
      "outputs": [
        {
          "output_type": "stream",
          "name": "stdout",
          "text": [
            "Running as a Colab notebook\n",
            "Looking in indexes: https://pypi.org/simple, https://us-python.pkg.dev/colab-wheels/public/simple/\n",
            "Collecting git+https://github.com/neelnanda-io/TransformerLens.git\n",
            "  Cloning https://github.com/neelnanda-io/TransformerLens.git to /tmp/pip-req-build-lu41faky\n",
            "  Running command git clone --filter=blob:none --quiet https://github.com/neelnanda-io/TransformerLens.git /tmp/pip-req-build-lu41faky\n",
            "  Resolved https://github.com/neelnanda-io/TransformerLens.git to commit d48e72a69833881b32fddcba06455ac0000d8ba2\n",
            "  Installing build dependencies ... \u001b[?25l\u001b[?25hdone\n",
            "  Getting requirements to build wheel ... \u001b[?25l\u001b[?25hdone\n",
            "  Preparing metadata (pyproject.toml) ... \u001b[?25l\u001b[?25hdone\n",
            "Requirement already satisfied: jaxtyping>=0.2.11 in /usr/local/lib/python3.9/dist-packages (from transformer-lens==0.0.0) (0.2.15)\n",
            "Requirement already satisfied: einops>=0.6.0 in /usr/local/lib/python3.9/dist-packages (from transformer-lens==0.0.0) (0.6.0)\n",
            "Requirement already satisfied: rich>=12.6.0 in /usr/local/lib/python3.9/dist-packages (from transformer-lens==0.0.0) (13.3.3)\n",
            "Requirement already satisfied: pandas>=1.1.5 in /usr/local/lib/python3.9/dist-packages (from transformer-lens==0.0.0) (1.5.3)\n",
            "Requirement already satisfied: wandb>=0.13.5 in /usr/local/lib/python3.9/dist-packages (from transformer-lens==0.0.0) (0.14.2)\n",
            "Requirement already satisfied: numpy>=1.21 in /usr/local/lib/python3.9/dist-packages (from transformer-lens==0.0.0) (1.22.4)\n",
            "Requirement already satisfied: transformers>=4.25.1 in /usr/local/lib/python3.9/dist-packages (from transformer-lens==0.0.0) (4.28.1)\n",
            "Requirement already satisfied: datasets>=2.7.1 in /usr/local/lib/python3.9/dist-packages (from transformer-lens==0.0.0) (2.11.0)\n",
            "Requirement already satisfied: torch>=1.10 in /usr/local/lib/python3.9/dist-packages (from transformer-lens==0.0.0) (1.13.1)\n",
            "Requirement already satisfied: tqdm>=4.64.1 in /usr/local/lib/python3.9/dist-packages (from transformer-lens==0.0.0) (4.65.0)\n",
            "Requirement already satisfied: fancy-einsum>=0.0.3 in /usr/local/lib/python3.9/dist-packages (from transformer-lens==0.0.0) (0.0.3)\n",
            "Requirement already satisfied: pyyaml>=5.1 in /usr/local/lib/python3.9/dist-packages (from datasets>=2.7.1->transformer-lens==0.0.0) (6.0)\n",
            "Requirement already satisfied: huggingface-hub<1.0.0,>=0.11.0 in /usr/local/lib/python3.9/dist-packages (from datasets>=2.7.1->transformer-lens==0.0.0) (0.13.4)\n",
            "Requirement already satisfied: requests>=2.19.0 in /usr/local/lib/python3.9/dist-packages (from datasets>=2.7.1->transformer-lens==0.0.0) (2.27.1)\n",
            "Requirement already satisfied: aiohttp in /usr/local/lib/python3.9/dist-packages (from datasets>=2.7.1->transformer-lens==0.0.0) (3.8.4)\n",
            "Requirement already satisfied: multiprocess in /usr/local/lib/python3.9/dist-packages (from datasets>=2.7.1->transformer-lens==0.0.0) (0.70.14)\n",
            "Requirement already satisfied: packaging in /usr/local/lib/python3.9/dist-packages (from datasets>=2.7.1->transformer-lens==0.0.0) (23.0)\n",
            "Requirement already satisfied: dill<0.3.7,>=0.3.0 in /usr/local/lib/python3.9/dist-packages (from datasets>=2.7.1->transformer-lens==0.0.0) (0.3.6)\n",
            "Requirement already satisfied: xxhash in /usr/local/lib/python3.9/dist-packages (from datasets>=2.7.1->transformer-lens==0.0.0) (3.2.0)\n",
            "Requirement already satisfied: fsspec[http]>=2021.11.1 in /usr/local/lib/python3.9/dist-packages (from datasets>=2.7.1->transformer-lens==0.0.0) (2023.4.0)\n",
            "Requirement already satisfied: responses<0.19 in /usr/local/lib/python3.9/dist-packages (from datasets>=2.7.1->transformer-lens==0.0.0) (0.18.0)\n",
            "Requirement already satisfied: pyarrow>=8.0.0 in /usr/local/lib/python3.9/dist-packages (from datasets>=2.7.1->transformer-lens==0.0.0) (9.0.0)\n",
            "Requirement already satisfied: typeguard>=2.13.3 in /usr/local/lib/python3.9/dist-packages (from jaxtyping>=0.2.11->transformer-lens==0.0.0) (3.0.2)\n",
            "Requirement already satisfied: typing-extensions>=3.7.4.1 in /usr/local/lib/python3.9/dist-packages (from jaxtyping>=0.2.11->transformer-lens==0.0.0) (4.5.0)\n",
            "Requirement already satisfied: pytz>=2020.1 in /usr/local/lib/python3.9/dist-packages (from pandas>=1.1.5->transformer-lens==0.0.0) (2022.7.1)\n",
            "Requirement already satisfied: python-dateutil>=2.8.1 in /usr/local/lib/python3.9/dist-packages (from pandas>=1.1.5->transformer-lens==0.0.0) (2.8.2)\n",
            "Requirement already satisfied: markdown-it-py<3.0.0,>=2.2.0 in /usr/local/lib/python3.9/dist-packages (from rich>=12.6.0->transformer-lens==0.0.0) (2.2.0)\n",
            "Requirement already satisfied: pygments<3.0.0,>=2.13.0 in /usr/local/lib/python3.9/dist-packages (from rich>=12.6.0->transformer-lens==0.0.0) (2.14.0)\n",
            "Requirement already satisfied: nvidia-cuda-nvrtc-cu11==11.7.99 in /usr/local/lib/python3.9/dist-packages (from torch>=1.10->transformer-lens==0.0.0) (11.7.99)\n",
            "Requirement already satisfied: nvidia-cuda-runtime-cu11==11.7.99 in /usr/local/lib/python3.9/dist-packages (from torch>=1.10->transformer-lens==0.0.0) (11.7.99)\n",
            "Requirement already satisfied: nvidia-cudnn-cu11==8.5.0.96 in /usr/local/lib/python3.9/dist-packages (from torch>=1.10->transformer-lens==0.0.0) (8.5.0.96)\n",
            "Requirement already satisfied: nvidia-cublas-cu11==11.10.3.66 in /usr/local/lib/python3.9/dist-packages (from torch>=1.10->transformer-lens==0.0.0) (11.10.3.66)\n",
            "Requirement already satisfied: wheel in /usr/local/lib/python3.9/dist-packages (from nvidia-cublas-cu11==11.10.3.66->torch>=1.10->transformer-lens==0.0.0) (0.40.0)\n",
            "Requirement already satisfied: setuptools in /usr/local/lib/python3.9/dist-packages (from nvidia-cublas-cu11==11.10.3.66->torch>=1.10->transformer-lens==0.0.0) (67.6.1)\n",
            "Requirement already satisfied: regex!=2019.12.17 in /usr/local/lib/python3.9/dist-packages (from transformers>=4.25.1->transformer-lens==0.0.0) (2022.10.31)\n",
            "Requirement already satisfied: filelock in /usr/local/lib/python3.9/dist-packages (from transformers>=4.25.1->transformer-lens==0.0.0) (3.11.0)\n",
            "Requirement already satisfied: tokenizers!=0.11.3,<0.14,>=0.11.1 in /usr/local/lib/python3.9/dist-packages (from transformers>=4.25.1->transformer-lens==0.0.0) (0.13.3)\n",
            "Requirement already satisfied: docker-pycreds>=0.4.0 in /usr/local/lib/python3.9/dist-packages (from wandb>=0.13.5->transformer-lens==0.0.0) (0.4.0)\n",
            "Requirement already satisfied: psutil>=5.0.0 in /usr/local/lib/python3.9/dist-packages (from wandb>=0.13.5->transformer-lens==0.0.0) (5.9.4)\n",
            "Requirement already satisfied: protobuf!=4.21.0,<5,>=3.15.0 in /usr/local/lib/python3.9/dist-packages (from wandb>=0.13.5->transformer-lens==0.0.0) (3.20.3)\n",
            "Requirement already satisfied: setproctitle in /usr/local/lib/python3.9/dist-packages (from wandb>=0.13.5->transformer-lens==0.0.0) (1.3.2)\n",
            "Requirement already satisfied: Click!=8.0.0,>=7.0 in /usr/local/lib/python3.9/dist-packages (from wandb>=0.13.5->transformer-lens==0.0.0) (8.1.3)\n",
            "Requirement already satisfied: sentry-sdk>=1.0.0 in /usr/local/lib/python3.9/dist-packages (from wandb>=0.13.5->transformer-lens==0.0.0) (1.19.1)\n",
            "Requirement already satisfied: pathtools in /usr/local/lib/python3.9/dist-packages (from wandb>=0.13.5->transformer-lens==0.0.0) (0.1.2)\n",
            "Requirement already satisfied: GitPython!=3.1.29,>=1.0.0 in /usr/local/lib/python3.9/dist-packages (from wandb>=0.13.5->transformer-lens==0.0.0) (3.1.31)\n",
            "Requirement already satisfied: appdirs>=1.4.3 in /usr/local/lib/python3.9/dist-packages (from wandb>=0.13.5->transformer-lens==0.0.0) (1.4.4)\n",
            "Requirement already satisfied: six>=1.4.0 in /usr/local/lib/python3.9/dist-packages (from docker-pycreds>=0.4.0->wandb>=0.13.5->transformer-lens==0.0.0) (1.16.0)\n",
            "Requirement already satisfied: attrs>=17.3.0 in /usr/local/lib/python3.9/dist-packages (from aiohttp->datasets>=2.7.1->transformer-lens==0.0.0) (22.2.0)\n",
            "Requirement already satisfied: charset-normalizer<4.0,>=2.0 in /usr/local/lib/python3.9/dist-packages (from aiohttp->datasets>=2.7.1->transformer-lens==0.0.0) (2.0.12)\n",
            "Requirement already satisfied: frozenlist>=1.1.1 in /usr/local/lib/python3.9/dist-packages (from aiohttp->datasets>=2.7.1->transformer-lens==0.0.0) (1.3.3)\n",
            "Requirement already satisfied: multidict<7.0,>=4.5 in /usr/local/lib/python3.9/dist-packages (from aiohttp->datasets>=2.7.1->transformer-lens==0.0.0) (6.0.4)\n",
            "Requirement already satisfied: aiosignal>=1.1.2 in /usr/local/lib/python3.9/dist-packages (from aiohttp->datasets>=2.7.1->transformer-lens==0.0.0) (1.3.1)\n",
            "Requirement already satisfied: async-timeout<5.0,>=4.0.0a3 in /usr/local/lib/python3.9/dist-packages (from aiohttp->datasets>=2.7.1->transformer-lens==0.0.0) (4.0.2)\n",
            "Requirement already satisfied: yarl<2.0,>=1.0 in /usr/local/lib/python3.9/dist-packages (from aiohttp->datasets>=2.7.1->transformer-lens==0.0.0) (1.8.2)\n",
            "Requirement already satisfied: gitdb<5,>=4.0.1 in /usr/local/lib/python3.9/dist-packages (from GitPython!=3.1.29,>=1.0.0->wandb>=0.13.5->transformer-lens==0.0.0) (4.0.10)\n",
            "Requirement already satisfied: mdurl~=0.1 in /usr/local/lib/python3.9/dist-packages (from markdown-it-py<3.0.0,>=2.2.0->rich>=12.6.0->transformer-lens==0.0.0) (0.1.2)\n",
            "Requirement already satisfied: certifi>=2017.4.17 in /usr/local/lib/python3.9/dist-packages (from requests>=2.19.0->datasets>=2.7.1->transformer-lens==0.0.0) (2022.12.7)\n",
            "Requirement already satisfied: urllib3<1.27,>=1.21.1 in /usr/local/lib/python3.9/dist-packages (from requests>=2.19.0->datasets>=2.7.1->transformer-lens==0.0.0) (1.26.15)\n",
            "Requirement already satisfied: idna<4,>=2.5 in /usr/local/lib/python3.9/dist-packages (from requests>=2.19.0->datasets>=2.7.1->transformer-lens==0.0.0) (3.4)\n",
            "Requirement already satisfied: importlib-metadata>=3.6 in /usr/local/lib/python3.9/dist-packages (from typeguard>=2.13.3->jaxtyping>=0.2.11->transformer-lens==0.0.0) (5.2.0)\n",
            "Requirement already satisfied: smmap<6,>=3.0.1 in /usr/local/lib/python3.9/dist-packages (from gitdb<5,>=4.0.1->GitPython!=3.1.29,>=1.0.0->wandb>=0.13.5->transformer-lens==0.0.0) (5.0.0)\n",
            "Requirement already satisfied: zipp>=0.5 in /usr/local/lib/python3.9/dist-packages (from importlib-metadata>=3.6->typeguard>=2.13.3->jaxtyping>=0.2.11->transformer-lens==0.0.0) (3.15.0)\n",
            "Looking in indexes: https://pypi.org/simple, https://us-python.pkg.dev/colab-wheels/public/simple/\n",
            "Requirement already satisfied: circuitsvis in /usr/local/lib/python3.9/dist-packages (1.39.1)\n",
            "Requirement already satisfied: importlib-metadata<6.0.0,>=5.1.0 in /usr/local/lib/python3.9/dist-packages (from circuitsvis) (5.2.0)\n",
            "Requirement already satisfied: numpy<2.0,>=1.21 in /usr/local/lib/python3.9/dist-packages (from circuitsvis) (1.22.4)\n",
            "Requirement already satisfied: torch<2.0,>=1.10 in /usr/local/lib/python3.9/dist-packages (from circuitsvis) (1.13.1)\n",
            "Requirement already satisfied: zipp>=0.5 in /usr/local/lib/python3.9/dist-packages (from importlib-metadata<6.0.0,>=5.1.0->circuitsvis) (3.15.0)\n",
            "Requirement already satisfied: nvidia-cuda-runtime-cu11==11.7.99 in /usr/local/lib/python3.9/dist-packages (from torch<2.0,>=1.10->circuitsvis) (11.7.99)\n",
            "Requirement already satisfied: nvidia-cublas-cu11==11.10.3.66 in /usr/local/lib/python3.9/dist-packages (from torch<2.0,>=1.10->circuitsvis) (11.10.3.66)\n",
            "Requirement already satisfied: nvidia-cuda-nvrtc-cu11==11.7.99 in /usr/local/lib/python3.9/dist-packages (from torch<2.0,>=1.10->circuitsvis) (11.7.99)\n",
            "Requirement already satisfied: nvidia-cudnn-cu11==8.5.0.96 in /usr/local/lib/python3.9/dist-packages (from torch<2.0,>=1.10->circuitsvis) (8.5.0.96)\n",
            "Requirement already satisfied: typing-extensions in /usr/local/lib/python3.9/dist-packages (from torch<2.0,>=1.10->circuitsvis) (4.5.0)\n",
            "Requirement already satisfied: setuptools in /usr/local/lib/python3.9/dist-packages (from nvidia-cublas-cu11==11.10.3.66->torch<2.0,>=1.10->circuitsvis) (67.6.1)\n",
            "Requirement already satisfied: wheel in /usr/local/lib/python3.9/dist-packages (from nvidia-cublas-cu11==11.10.3.66->torch<2.0,>=1.10->circuitsvis) (0.40.0)\n"
          ]
        }
      ],
      "source": [
        "# Janky code to do different setup when run in a Colab notebook vs VSCode\n",
        "DEVELOPMENT_MODE = False\n",
        "try:\n",
        "    import google.colab\n",
        "    IN_COLAB = True\n",
        "    print(\"Running as a Colab notebook\")\n",
        "    %pip install git+https://github.com/neelnanda-io/TransformerLens.git\n",
        "    %pip install circuitsvis\n",
        "    \n",
        "    # PySvelte is an unmaintained visualization library, use it as a backup if circuitsvis isn't working\n",
        "    # # Install another version of node that makes PySvelte work way faster\n",
        "    # !curl -fsSL https://deb.nodesource.com/setup_16.x | sudo -E bash -; sudo apt-get install -y nodejs\n",
        "    # %pip install git+https://github.com/neelnanda-io/PySvelte.git\n",
        "except:\n",
        "    IN_COLAB = False\n",
        "    print(\"Running as a Jupyter notebook - intended for development only!\")\n",
        "    from IPython import get_ipython\n",
        "\n",
        "    ipython = get_ipython()\n",
        "    # Code to automatically update the HookedTransformer code as its edited without restarting the kernel\n",
        "    ipython.magic(\"load_ext autoreload\")\n",
        "    ipython.magic(\"autoreload 2\")"
      ]
    },
    {
      "cell_type": "code",
      "execution_count": 86,
      "metadata": {
        "id": "7cB9ZAJNyWRv",
        "outputId": "ad805d55-d9e7-4a56-a0e0-a0bdef7813e0",
        "colab": {
          "base_uri": "https://localhost:8080/"
        }
      },
      "outputs": [
        {
          "output_type": "stream",
          "name": "stdout",
          "text": [
            "Using renderer: colab\n"
          ]
        }
      ],
      "source": [
        "# Plotly needs a different renderer for VSCode/Notebooks vs Colab argh\n",
        "import plotly.io as pio\n",
        "if IN_COLAB or not DEVELOPMENT_MODE:\n",
        "    pio.renderers.default = \"colab\"\n",
        "else:\n",
        "    pio.renderers.default = \"notebook_connected\"\n",
        "print(f\"Using renderer: {pio.renderers.default}\")"
      ]
    },
    {
      "cell_type": "code",
      "execution_count": 87,
      "metadata": {
        "id": "SovMr3_pyWRw",
        "outputId": "9847b4ec-aff2-4767-ddb0-dd54a9a12a82",
        "colab": {
          "base_uri": "https://localhost:8080/",
          "height": 64
        }
      },
      "outputs": [
        {
          "output_type": "execute_result",
          "data": {
            "text/plain": [
              "<circuitsvis.utils.render.RenderedHTML at 0x7f78cfc44eb0>"
            ],
            "text/html": [
              "<div id=\"circuits-vis-4a739acb-e1de\" style=\"margin: 15px 0;\"/>\n",
              "    <script crossorigin type=\"module\">\n",
              "    import { render, Hello } from \"https://unpkg.com/circuitsvis@1.39.1/dist/cdn/esm.js\";\n",
              "    render(\n",
              "      \"circuits-vis-4a739acb-e1de\",\n",
              "      Hello,\n",
              "      {\"name\": \"Neel\"}\n",
              "    )\n",
              "    </script>"
            ]
          },
          "metadata": {},
          "execution_count": 87
        }
      ],
      "source": [
        "import circuitsvis as cv\n",
        "# Testing that the library works\n",
        "cv.examples.hello(\"Neel\")"
      ]
    },
    {
      "cell_type": "code",
      "execution_count": 88,
      "metadata": {
        "id": "QU7MEQP6yWRx"
      },
      "outputs": [],
      "source": [
        "# Import stuff\n",
        "import torch\n",
        "import torch.nn as nn\n",
        "import torch.nn.functional as F\n",
        "import torch.optim as optim\n",
        "import numpy as np\n",
        "import einops\n",
        "from fancy_einsum import einsum\n",
        "import tqdm.auto as tqdm\n",
        "import random\n",
        "from pathlib import Path\n",
        "import plotly.express as px\n",
        "from torch.utils.data import DataLoader\n",
        "\n",
        "from jaxtyping import Float, Int\n",
        "from typing import List, Union, Optional\n",
        "from functools import partial\n",
        "import copy\n",
        "\n",
        "import itertools\n",
        "from transformers import AutoModelForCausalLM, AutoConfig, AutoTokenizer\n",
        "import dataclasses\n",
        "import datasets\n",
        "from IPython.display import HTML"
      ]
    },
    {
      "cell_type": "code",
      "execution_count": 89,
      "metadata": {
        "id": "eT0t2HygyWRx"
      },
      "outputs": [],
      "source": [
        "import transformer_lens\n",
        "import transformer_lens.utils as utils\n",
        "from transformer_lens.hook_points import (\n",
        "    HookedRootModule,\n",
        "    HookPoint,\n",
        ")  # Hooking utilities\n",
        "from transformer_lens import HookedTransformer, HookedTransformerConfig, FactoredMatrix, ActivationCache"
      ]
    },
    {
      "cell_type": "markdown",
      "metadata": {
        "id": "NBXtynXPyWRy"
      },
      "source": [
        "We turn automatic differentiation off, to save GPU memory, as this notebook focuses on model inference not model training."
      ]
    },
    {
      "cell_type": "code",
      "execution_count": 90,
      "metadata": {
        "id": "WfyyeAyeyWRz",
        "outputId": "04a17d1c-f02f-4b57-88a9-c8ff139cd970",
        "colab": {
          "base_uri": "https://localhost:8080/"
        }
      },
      "outputs": [
        {
          "output_type": "execute_result",
          "data": {
            "text/plain": [
              "<torch.autograd.grad_mode.set_grad_enabled at 0x7f78cfc50610>"
            ]
          },
          "metadata": {},
          "execution_count": 90
        }
      ],
      "source": [
        "torch.set_grad_enabled(False)"
      ]
    },
    {
      "cell_type": "markdown",
      "metadata": {
        "id": "0g4dyWjdyWRz"
      },
      "source": [
        "Plotting helper functions:"
      ]
    },
    {
      "cell_type": "code",
      "execution_count": 91,
      "metadata": {
        "id": "A7stSTseyWRz"
      },
      "outputs": [],
      "source": [
        "def imshow(tensor, renderer=None, xaxis=\"\", yaxis=\"\", **kwargs):\n",
        "    px.imshow(utils.to_numpy(tensor), color_continuous_midpoint=0.0, color_continuous_scale=\"RdBu\", labels={\"x\":xaxis, \"y\":yaxis}, **kwargs).show(renderer)\n",
        "\n",
        "def line(tensor, renderer=None, xaxis=\"\", yaxis=\"\", **kwargs):\n",
        "    px.line(utils.to_numpy(tensor), labels={\"x\":xaxis, \"y\":yaxis}, **kwargs).show(renderer)\n",
        "\n",
        "def scatter(x, y, xaxis=\"\", yaxis=\"\", caxis=\"\", renderer=None, **kwargs):\n",
        "    x = utils.to_numpy(x)\n",
        "    y = utils.to_numpy(y)\n",
        "    px.scatter(y=y, x=x, labels={\"x\":xaxis, \"y\":yaxis, \"color\":caxis}, **kwargs).show(renderer)"
      ]
    },
    {
      "cell_type": "markdown",
      "metadata": {
        "id": "SlsqyFt5yWR0"
      },
      "source": [
        "# Introduction"
      ]
    },
    {
      "cell_type": "markdown",
      "metadata": {
        "id": "EeixREKByWR0"
      },
      "source": [
        "This is a demo notebook for [TransformerLens](https://github.com/neelnanda-io/TransformerLens), **a library I ([Neel Nanda](neelnanda.io)) wrote for doing [mechanistic interpretability](https://distill.pub/2020/circuits/zoom-in/) of GPT-2 Style language models.** The goal of mechanistic interpretability is to take a trained model and reverse engineer the algorithms the model learned during training from its weights. It is a fact about the world today that we have computer programs that can essentially speak English at a human level (GPT-3, PaLM, etc), yet we have no idea how they work nor how to write one ourselves. This offends me greatly, and I would like to solve this! Mechanistic interpretability is a very young and small field, and there are a *lot* of open problems - if you would like to help, please try working on one! **If you want to skill up, check out [my guide to getting started](https://neelnanda.io/getting-started), and if you want to jump into an open problem check out my sequence [200 Concrete Open Problems in Mechanistic Interpretability](https://neelnanda.io/concrete-open-problems).**\n",
        "\n",
        "I wrote this library because after I left the Anthropic interpretability team and started doing independent research, I got extremely frustrated by the state of open source tooling. There's a lot of excellent infrastructure like HuggingFace and DeepSpeed to *use* or *train* models, but very little to dig into their internals and reverse engineer how they work. **This library tries to solve that**, and to make it easy to get into the field even if you don't work at an industry org with real infrastructure! The core features were heavily inspired by [Anthropic's excellent Garcon tool](https://transformer-circuits.pub/2021/garcon/index.html). Credit to Nelson Elhage and Chris Olah for building Garcon and showing me the value of good infrastructure for accelerating exploratory research!\n",
        "\n",
        "The core design principle I've followed is to enable exploratory analysis - one of the most fun parts of mechanistic interpretability compared to normal ML is the extremely short feedback loops! The point of this library is to keep the gap between having an experiment idea and seeing the results as small as possible, to make it easy for **research to feel like play** and to enter a flow state. This notebook demonstrates how the library works and how to use it, but if you want to see how well it works for exploratory research, check out [my notebook analysing Indirect Objection Identification](https://neelnanda.io/exploratory-analysis-demo) or [my recording of myself doing research](https://www.youtube.com/watch?v=yo4QvDn-vsU)!"
      ]
    },
    {
      "cell_type": "markdown",
      "metadata": {
        "id": "dm0wFBxFyWR1"
      },
      "source": [
        "## Loading and Running Models\n",
        "\n",
        "TransformerLens comes loaded with >40 open source GPT-style models. You can load any of them in with `HookedTransformer.from_pretrained(MODEL_NAME)`. For this demo notebook we'll look at GPT-2 Small, an 80M parameter model, see the Available Models section for info on the rest."
      ]
    },
    {
      "cell_type": "code",
      "execution_count": 92,
      "metadata": {
        "id": "aTqGViNPyWR1"
      },
      "outputs": [],
      "source": [
        "device = \"cuda\" if torch.cuda.is_available() else \"cpu\""
      ]
    },
    {
      "cell_type": "code",
      "execution_count": 93,
      "metadata": {
        "id": "dH0I7islyWR1",
        "outputId": "5d5560fc-f032-4834-c6cb-267bcd2d4519",
        "colab": {
          "base_uri": "https://localhost:8080/"
        }
      },
      "outputs": [
        {
          "output_type": "stream",
          "name": "stderr",
          "text": [
            "Using pad_token, but it is not set yet.\n"
          ]
        },
        {
          "output_type": "stream",
          "name": "stdout",
          "text": [
            "Loaded pretrained model gpt2-small into HookedTransformer\n"
          ]
        }
      ],
      "source": [
        "model = HookedTransformer.from_pretrained(\"gpt2-small\", device=device)"
      ]
    },
    {
      "cell_type": "markdown",
      "metadata": {
        "id": "cAhWAgdByWR2"
      },
      "source": [
        "To try the model out, let's find the loss on this text! Models can be run on a single string or a tensor of tokens (shape: [batch, position], all integers), and the possible return types are: \n",
        "* \"logits\" (shape [batch, position, d_vocab], floats), \n",
        "* \"loss\" (the cross-entropy loss when predicting the next token), \n",
        "* \"both\" (a tuple of (logits, loss)) \n",
        "* None (run the model, but don't calculate the logits - this is faster when we only want to use intermediate activations)"
      ]
    },
    {
      "cell_type": "code",
      "execution_count": 94,
      "metadata": {
        "id": "H21NSmwByWR2",
        "outputId": "e5b4f092-4b19-4c01-c3b7-71647a824cad",
        "colab": {
          "base_uri": "https://localhost:8080/"
        }
      },
      "outputs": [
        {
          "output_type": "stream",
          "name": "stdout",
          "text": [
            "Model loss: tensor(4.1758, device='cuda:0') Logits: torch.Size([1, 140, 50257])\n"
          ]
        }
      ],
      "source": [
        "model_description_text = \"\"\"## Loading Models\n",
        "\n",
        "HookedTransformer comes loaded with >40 open source GPT-style models. You can load any of them in with `HookedTransformer.from_pretrained(MODEL_NAME)`. See my explainer for documentation of all supported models, and this table for hyper-parameters and the name used to load them. Each model is loaded into the consistent HookedTransformer architecture, designed to be clean, consistent and interpretability-friendly. \n",
        "\n",
        "For this demo notebook we'll look at GPT-2 Small, an 80M parameter model. To try the model the model out, let's find the loss on this paragraph!\"\"\"\n",
        "out = model(model_description_text, return_type=\"both\")\n",
        "print(\"Model loss:\", out.loss, \"Logits:\", out.logits.shape)"
      ]
    },
    {
      "cell_type": "markdown",
      "metadata": {
        "id": "Jp0iwPhwyWR3"
      },
      "source": [
        "## Caching all Activations\n",
        "\n",
        "The first basic operation when doing mechanistic interpretability is to break open the black box of the model and look at all of the internal activations of a model. This can be done with `logits, cache = model.run_with_cache(tokens)`. Let's try this out on the first line of the abstract of the GPT-2 paper.\n",
        "\n",
        "<details><summary>On `remove_batch_dim`</summary>\n",
        "\n",
        "Every activation inside the model begins with a batch dimension. Here, because we only entered a single batch dimension, that dimension is always length 1 and kinda annoying, so passing in the `remove_batch_dim=True` keyword removes it. `gpt2_cache_no_batch_dim = gpt2_cache.remove_batch_dim()` would have achieved the same effect.\n",
        "</details?>"
      ]
    },
    {
      "cell_type": "code",
      "execution_count": 95,
      "metadata": {
        "id": "WtKa7EQXyWR3",
        "outputId": "85e83f6b-b680-4aea-e64c-bf1d4daf9bf3",
        "colab": {
          "base_uri": "https://localhost:8080/"
        }
      },
      "outputs": [
        {
          "output_type": "stream",
          "name": "stdout",
          "text": [
            "cuda:0\n"
          ]
        }
      ],
      "source": [
        "gpt2_text = \"Natural language processing tasks, such as question answering, machine translation, reading comprehension, and summarization, are typically approached with supervised learning on taskspecific datasets.\"\n",
        "gpt2_tokens = model.to_tokens(gpt2_text)\n",
        "print(gpt2_tokens.device)\n",
        "gpt2_logits, gpt2_cache = model.run_with_cache(gpt2_tokens, remove_batch_dim=True)"
      ]
    },
    {
      "cell_type": "code",
      "source": [
        "gpt2_tokens.shape"
      ],
      "metadata": {
        "id": "QlbRewOr2oPS",
        "outputId": "01b47342-ea32-46e9-a2cb-f4dd2f3e7548",
        "colab": {
          "base_uri": "https://localhost:8080/"
        }
      },
      "execution_count": 96,
      "outputs": [
        {
          "output_type": "execute_result",
          "data": {
            "text/plain": [
              "torch.Size([1, 33])"
            ]
          },
          "metadata": {},
          "execution_count": 96
        }
      ]
    },
    {
      "cell_type": "code",
      "source": [
        "gpt2_logits.shape"
      ],
      "metadata": {
        "id": "MCfZWXeW2u_q",
        "outputId": "896d36d2-9012-41a9-89e4-828e09870c50",
        "colab": {
          "base_uri": "https://localhost:8080/"
        }
      },
      "execution_count": 97,
      "outputs": [
        {
          "output_type": "execute_result",
          "data": {
            "text/plain": [
              "torch.Size([1, 33, 50257])"
            ]
          },
          "metadata": {},
          "execution_count": 97
        }
      ]
    },
    {
      "cell_type": "code",
      "source": [
        "type(gpt2_cache)"
      ],
      "metadata": {
        "id": "KeJ5lE7p3iI9",
        "outputId": "9141e097-da44-49a0-dc98-22ac8fe6cbbf",
        "colab": {
          "base_uri": "https://localhost:8080/"
        }
      },
      "execution_count": 98,
      "outputs": [
        {
          "output_type": "execute_result",
          "data": {
            "text/plain": [
              "transformer_lens.ActivationCache.ActivationCache"
            ]
          },
          "metadata": {},
          "execution_count": 98
        }
      ]
    },
    {
      "cell_type": "code",
      "source": [
        "gpt2_cache"
      ],
      "metadata": {
        "id": "XKCOa0G931LU",
        "outputId": "020c49ef-525e-4efe-d6a8-4fc4b331aa46",
        "colab": {
          "base_uri": "https://localhost:8080/"
        }
      },
      "execution_count": 99,
      "outputs": [
        {
          "output_type": "execute_result",
          "data": {
            "text/plain": [
              "ActivationCache with keys ['hook_embed', 'hook_pos_embed', 'blocks.0.hook_resid_pre', 'blocks.0.ln1.hook_scale', 'blocks.0.ln1.hook_normalized', 'blocks.0.attn.hook_q', 'blocks.0.attn.hook_k', 'blocks.0.attn.hook_v', 'blocks.0.attn.hook_attn_scores', 'blocks.0.attn.hook_pattern', 'blocks.0.attn.hook_z', 'blocks.0.hook_attn_out', 'blocks.0.hook_resid_mid', 'blocks.0.ln2.hook_scale', 'blocks.0.ln2.hook_normalized', 'blocks.0.mlp.hook_pre', 'blocks.0.mlp.hook_post', 'blocks.0.hook_mlp_out', 'blocks.0.hook_resid_post', 'blocks.1.hook_resid_pre', 'blocks.1.ln1.hook_scale', 'blocks.1.ln1.hook_normalized', 'blocks.1.attn.hook_q', 'blocks.1.attn.hook_k', 'blocks.1.attn.hook_v', 'blocks.1.attn.hook_attn_scores', 'blocks.1.attn.hook_pattern', 'blocks.1.attn.hook_z', 'blocks.1.hook_attn_out', 'blocks.1.hook_resid_mid', 'blocks.1.ln2.hook_scale', 'blocks.1.ln2.hook_normalized', 'blocks.1.mlp.hook_pre', 'blocks.1.mlp.hook_post', 'blocks.1.hook_mlp_out', 'blocks.1.hook_resid_post', 'blocks.2.hook_resid_pre', 'blocks.2.ln1.hook_scale', 'blocks.2.ln1.hook_normalized', 'blocks.2.attn.hook_q', 'blocks.2.attn.hook_k', 'blocks.2.attn.hook_v', 'blocks.2.attn.hook_attn_scores', 'blocks.2.attn.hook_pattern', 'blocks.2.attn.hook_z', 'blocks.2.hook_attn_out', 'blocks.2.hook_resid_mid', 'blocks.2.ln2.hook_scale', 'blocks.2.ln2.hook_normalized', 'blocks.2.mlp.hook_pre', 'blocks.2.mlp.hook_post', 'blocks.2.hook_mlp_out', 'blocks.2.hook_resid_post', 'blocks.3.hook_resid_pre', 'blocks.3.ln1.hook_scale', 'blocks.3.ln1.hook_normalized', 'blocks.3.attn.hook_q', 'blocks.3.attn.hook_k', 'blocks.3.attn.hook_v', 'blocks.3.attn.hook_attn_scores', 'blocks.3.attn.hook_pattern', 'blocks.3.attn.hook_z', 'blocks.3.hook_attn_out', 'blocks.3.hook_resid_mid', 'blocks.3.ln2.hook_scale', 'blocks.3.ln2.hook_normalized', 'blocks.3.mlp.hook_pre', 'blocks.3.mlp.hook_post', 'blocks.3.hook_mlp_out', 'blocks.3.hook_resid_post', 'blocks.4.hook_resid_pre', 'blocks.4.ln1.hook_scale', 'blocks.4.ln1.hook_normalized', 'blocks.4.attn.hook_q', 'blocks.4.attn.hook_k', 'blocks.4.attn.hook_v', 'blocks.4.attn.hook_attn_scores', 'blocks.4.attn.hook_pattern', 'blocks.4.attn.hook_z', 'blocks.4.hook_attn_out', 'blocks.4.hook_resid_mid', 'blocks.4.ln2.hook_scale', 'blocks.4.ln2.hook_normalized', 'blocks.4.mlp.hook_pre', 'blocks.4.mlp.hook_post', 'blocks.4.hook_mlp_out', 'blocks.4.hook_resid_post', 'blocks.5.hook_resid_pre', 'blocks.5.ln1.hook_scale', 'blocks.5.ln1.hook_normalized', 'blocks.5.attn.hook_q', 'blocks.5.attn.hook_k', 'blocks.5.attn.hook_v', 'blocks.5.attn.hook_attn_scores', 'blocks.5.attn.hook_pattern', 'blocks.5.attn.hook_z', 'blocks.5.hook_attn_out', 'blocks.5.hook_resid_mid', 'blocks.5.ln2.hook_scale', 'blocks.5.ln2.hook_normalized', 'blocks.5.mlp.hook_pre', 'blocks.5.mlp.hook_post', 'blocks.5.hook_mlp_out', 'blocks.5.hook_resid_post', 'blocks.6.hook_resid_pre', 'blocks.6.ln1.hook_scale', 'blocks.6.ln1.hook_normalized', 'blocks.6.attn.hook_q', 'blocks.6.attn.hook_k', 'blocks.6.attn.hook_v', 'blocks.6.attn.hook_attn_scores', 'blocks.6.attn.hook_pattern', 'blocks.6.attn.hook_z', 'blocks.6.hook_attn_out', 'blocks.6.hook_resid_mid', 'blocks.6.ln2.hook_scale', 'blocks.6.ln2.hook_normalized', 'blocks.6.mlp.hook_pre', 'blocks.6.mlp.hook_post', 'blocks.6.hook_mlp_out', 'blocks.6.hook_resid_post', 'blocks.7.hook_resid_pre', 'blocks.7.ln1.hook_scale', 'blocks.7.ln1.hook_normalized', 'blocks.7.attn.hook_q', 'blocks.7.attn.hook_k', 'blocks.7.attn.hook_v', 'blocks.7.attn.hook_attn_scores', 'blocks.7.attn.hook_pattern', 'blocks.7.attn.hook_z', 'blocks.7.hook_attn_out', 'blocks.7.hook_resid_mid', 'blocks.7.ln2.hook_scale', 'blocks.7.ln2.hook_normalized', 'blocks.7.mlp.hook_pre', 'blocks.7.mlp.hook_post', 'blocks.7.hook_mlp_out', 'blocks.7.hook_resid_post', 'blocks.8.hook_resid_pre', 'blocks.8.ln1.hook_scale', 'blocks.8.ln1.hook_normalized', 'blocks.8.attn.hook_q', 'blocks.8.attn.hook_k', 'blocks.8.attn.hook_v', 'blocks.8.attn.hook_attn_scores', 'blocks.8.attn.hook_pattern', 'blocks.8.attn.hook_z', 'blocks.8.hook_attn_out', 'blocks.8.hook_resid_mid', 'blocks.8.ln2.hook_scale', 'blocks.8.ln2.hook_normalized', 'blocks.8.mlp.hook_pre', 'blocks.8.mlp.hook_post', 'blocks.8.hook_mlp_out', 'blocks.8.hook_resid_post', 'blocks.9.hook_resid_pre', 'blocks.9.ln1.hook_scale', 'blocks.9.ln1.hook_normalized', 'blocks.9.attn.hook_q', 'blocks.9.attn.hook_k', 'blocks.9.attn.hook_v', 'blocks.9.attn.hook_attn_scores', 'blocks.9.attn.hook_pattern', 'blocks.9.attn.hook_z', 'blocks.9.hook_attn_out', 'blocks.9.hook_resid_mid', 'blocks.9.ln2.hook_scale', 'blocks.9.ln2.hook_normalized', 'blocks.9.mlp.hook_pre', 'blocks.9.mlp.hook_post', 'blocks.9.hook_mlp_out', 'blocks.9.hook_resid_post', 'blocks.10.hook_resid_pre', 'blocks.10.ln1.hook_scale', 'blocks.10.ln1.hook_normalized', 'blocks.10.attn.hook_q', 'blocks.10.attn.hook_k', 'blocks.10.attn.hook_v', 'blocks.10.attn.hook_attn_scores', 'blocks.10.attn.hook_pattern', 'blocks.10.attn.hook_z', 'blocks.10.hook_attn_out', 'blocks.10.hook_resid_mid', 'blocks.10.ln2.hook_scale', 'blocks.10.ln2.hook_normalized', 'blocks.10.mlp.hook_pre', 'blocks.10.mlp.hook_post', 'blocks.10.hook_mlp_out', 'blocks.10.hook_resid_post', 'blocks.11.hook_resid_pre', 'blocks.11.ln1.hook_scale', 'blocks.11.ln1.hook_normalized', 'blocks.11.attn.hook_q', 'blocks.11.attn.hook_k', 'blocks.11.attn.hook_v', 'blocks.11.attn.hook_attn_scores', 'blocks.11.attn.hook_pattern', 'blocks.11.attn.hook_z', 'blocks.11.hook_attn_out', 'blocks.11.hook_resid_mid', 'blocks.11.ln2.hook_scale', 'blocks.11.ln2.hook_normalized', 'blocks.11.mlp.hook_pre', 'blocks.11.mlp.hook_post', 'blocks.11.hook_mlp_out', 'blocks.11.hook_resid_post', 'ln_final.hook_scale', 'ln_final.hook_normalized']"
            ]
          },
          "metadata": {},
          "execution_count": 99
        }
      ]
    },
    {
      "cell_type": "markdown",
      "metadata": {
        "id": "up18dd0tyWR3"
      },
      "source": [
        "Let's visualize the attention pattern of all the heads in layer 0, using [Alan Cooney's CircuitsVis library](https://github.com/alan-cooney/CircuitsVis) (based on [Anthropic's PySvelte library](https://github.com/anthropics/PySvelte)). \n",
        "\n",
        "We look this the attention pattern in `gpt2_cache`, an `ActivationCache` object, by entering in the name of the activation, followed by the layer index (here, the activation is called \"attn\" and the layer index is 0). This has shape [head_index, destination_position, source_position], and we use the `model.to_str_tokens` method to convert the text to a list of tokens as strings, since there is an attention weight between each pair of tokens.\n",
        "\n",
        "This visualization is interactive! Try hovering over a token or head, and click to lock. The grid on the top left and for each head is the attention pattern as a destination position by source position grid. It's lower triangular because GPT-2 has **causal attention**, attention can only look backwards, so information can only move forwards in the network.\n",
        "\n",
        "See the ActivationCache section for more on what `gpt2_cache` can do."
      ]
    },
    {
      "cell_type": "code",
      "execution_count": 100,
      "metadata": {
        "id": "vgPJt2fJyWR4",
        "outputId": "00982e74-1c07-4fe9-d9d9-e1e39cb48ae5",
        "colab": {
          "base_uri": "https://localhost:8080/"
        }
      },
      "outputs": [
        {
          "output_type": "stream",
          "name": "stdout",
          "text": [
            "<class 'transformer_lens.ActivationCache.ActivationCache'>\n",
            "torch.Size([12, 33, 33])\n"
          ]
        }
      ],
      "source": [
        "print(type(gpt2_cache))\n",
        "attention_pattern = gpt2_cache[\"pattern\", 0, \"attn\"]\n",
        "print(attention_pattern.shape)\n",
        "gpt2_str_tokens = model.to_str_tokens(gpt2_text)"
      ]
    },
    {
      "cell_type": "code",
      "execution_count": 101,
      "metadata": {
        "id": "PpO9MHyByWR4",
        "outputId": "c2a7178d-6496-4293-e5e1-66ed1c0ad33a",
        "colab": {
          "base_uri": "https://localhost:8080/",
          "height": 375
        }
      },
      "outputs": [
        {
          "output_type": "stream",
          "name": "stdout",
          "text": [
            "Layer 0 Head Attention Patterns:\n"
          ]
        },
        {
          "output_type": "execute_result",
          "data": {
            "text/plain": [
              "<circuitsvis.utils.render.RenderedHTML at 0x7f78cfb436d0>"
            ],
            "text/html": [
              "<div id=\"circuits-vis-f2427c92-d25c\" style=\"margin: 15px 0;\"/>\n",
              "    <script crossorigin type=\"module\">\n",
              "    import { render, AttentionPatterns } from \"https://unpkg.com/circuitsvis@1.39.1/dist/cdn/esm.js\";\n",
              "    render(\n",
              "      \"circuits-vis-f2427c92-d25c\",\n",
              "      AttentionPatterns,\n",
              "      {\"tokens\": [\"<|endoftext|>\", \"Natural\", \" language\", \" processing\", \" tasks\", \",\", \" such\", \" as\", \" question\", \" answering\", \",\", \" machine\", \" translation\", \",\", \" reading\", \" comprehension\", \",\", \" and\", \" summar\", \"ization\", \",\", \" are\", \" typically\", \" approached\", \" with\", \" supervised\", \" learning\", \" on\", \" tasks\", \"pe\", \"cific\", \" datasets\", \".\"], \"attention\": [[[1.0, 0.0, 0.0, 0.0, 0.0, 0.0, 0.0, 0.0, 0.0, 0.0, 0.0, 0.0, 0.0, 0.0, 0.0, 0.0, 0.0, 0.0, 0.0, 0.0, 0.0, 0.0, 0.0, 0.0, 0.0, 0.0, 0.0, 0.0, 0.0, 0.0, 0.0, 0.0, 0.0], [0.9639418125152588, 0.03605815768241882, 0.0, 0.0, 0.0, 0.0, 0.0, 0.0, 0.0, 0.0, 0.0, 0.0, 0.0, 0.0, 0.0, 0.0, 0.0, 0.0, 0.0, 0.0, 0.0, 0.0, 0.0, 0.0, 0.0, 0.0, 0.0, 0.0, 0.0, 0.0, 0.0, 0.0, 0.0], [0.8389372229576111, 0.11828789860010147, 0.04277485981583595, 0.0, 0.0, 0.0, 0.0, 0.0, 0.0, 0.0, 0.0, 0.0, 0.0, 0.0, 0.0, 0.0, 0.0, 0.0, 0.0, 0.0, 0.0, 0.0, 0.0, 0.0, 0.0, 0.0, 0.0, 0.0, 0.0, 0.0, 0.0, 0.0, 0.0], [0.47436103224754333, 0.13382020592689514, 0.2737175226211548, 0.11810117214918137, 0.0, 0.0, 0.0, 0.0, 0.0, 0.0, 0.0, 0.0, 0.0, 0.0, 0.0, 0.0, 0.0, 0.0, 0.0, 0.0, 0.0, 0.0, 0.0, 0.0, 0.0, 0.0, 0.0, 0.0, 0.0, 0.0, 0.0, 0.0, 0.0], [0.3560643196105957, 0.10184912383556366, 0.23054221272468567, 0.20397412776947021, 0.10757025331258774, 0.0, 0.0, 0.0, 0.0, 0.0, 0.0, 0.0, 0.0, 0.0, 0.0, 0.0, 0.0, 0.0, 0.0, 0.0, 0.0, 0.0, 0.0, 0.0, 0.0, 0.0, 0.0, 0.0, 0.0, 0.0, 0.0, 0.0, 0.0], [0.6660143733024597, 0.16866381466388702, 0.045356713235378265, 0.03885502368211746, 0.0677548199892044, 0.013355258852243423, 0.0, 0.0, 0.0, 0.0, 0.0, 0.0, 0.0, 0.0, 0.0, 0.0, 0.0, 0.0, 0.0, 0.0, 0.0, 0.0, 0.0, 0.0, 0.0, 0.0, 0.0, 0.0, 0.0, 0.0, 0.0, 0.0, 0.0], [0.3862695097923279, 0.2851093113422394, 0.07609009742736816, 0.05908381566405296, 0.07223354279994965, 0.039796341210603714, 0.08141739666461945, 0.0, 0.0, 0.0, 0.0, 0.0, 0.0, 0.0, 0.0, 0.0, 0.0, 0.0, 0.0, 0.0, 0.0, 0.0, 0.0, 0.0, 0.0, 0.0, 0.0, 0.0, 0.0, 0.0, 0.0, 0.0, 0.0], [0.37753939628601074, 0.18838825821876526, 0.11723989248275757, 0.0868559405207634, 0.06669184565544128, 0.03500018268823624, 0.09693007916212082, 0.031354427337646484, 0.0, 0.0, 0.0, 0.0, 0.0, 0.0, 0.0, 0.0, 0.0, 0.0, 0.0, 0.0, 0.0, 0.0, 0.0, 0.0, 0.0, 0.0, 0.0, 0.0, 0.0, 0.0, 0.0, 0.0, 0.0], [0.48697540163993835, 0.06781316548585892, 0.07952874153852463, 0.08480783551931381, 0.159026101231575, 0.029577815905213356, 0.025685934349894524, 0.016474612057209015, 0.050110381096601486, 0.0, 0.0, 0.0, 0.0, 0.0, 0.0, 0.0, 0.0, 0.0, 0.0, 0.0, 0.0, 0.0, 0.0, 0.0, 0.0, 0.0, 0.0, 0.0, 0.0, 0.0, 0.0, 0.0, 0.0], [0.2906549572944641, 0.040134988725185394, 0.14614860713481903, 0.09940595179796219, 0.1538919359445572, 0.03900161758065224, 0.02498897910118103, 0.03184128552675247, 0.10222819447517395, 0.0717034786939621, 0.0, 0.0, 0.0, 0.0, 0.0, 0.0, 0.0, 0.0, 0.0, 0.0, 0.0, 0.0, 0.0, 0.0, 0.0, 0.0, 0.0, 0.0, 0.0, 0.0, 0.0, 0.0, 0.0], [0.39624103903770447, 0.0969417467713356, 0.027270665392279625, 0.02355136163532734, 0.03723450377583504, 0.006502412259578705, 0.08118757605552673, 0.013088458217680454, 0.06990591436624527, 0.24043098092079163, 0.007645333185791969, 0.0, 0.0, 0.0, 0.0, 0.0, 0.0, 0.0, 0.0, 0.0, 0.0, 0.0, 0.0, 0.0, 0.0, 0.0, 0.0, 0.0, 0.0, 0.0, 0.0, 0.0, 0.0], [0.24864788353443146, 0.1380205899477005, 0.09235323220491409, 0.08676126599311829, 0.13819696009159088, 0.05914197489619255, 0.03223859891295433, 0.03158239275217056, 0.03048943169414997, 0.03873484581708908, 0.06671835482120514, 0.037114452570676804, 0.0, 0.0, 0.0, 0.0, 0.0, 0.0, 0.0, 0.0, 0.0, 0.0, 0.0, 0.0, 0.0, 0.0, 0.0, 0.0, 0.0, 0.0, 0.0, 0.0, 0.0], [0.19148434698581696, 0.1617259532213211, 0.07445939630270004, 0.07740955054759979, 0.021961122751235962, 0.03392127528786659, 0.05125021934509277, 0.019519241526722908, 0.03132445737719536, 0.040201492607593536, 0.038742683827877045, 0.21578861773014069, 0.04221168905496597, 0.0, 0.0, 0.0, 0.0, 0.0, 0.0, 0.0, 0.0, 0.0, 0.0, 0.0, 0.0, 0.0, 0.0, 0.0, 0.0, 0.0, 0.0, 0.0, 0.0], [0.3704317510128021, 0.08681417256593704, 0.02458466775715351, 0.02161632478237152, 0.03238871321082115, 0.00542273186147213, 0.07275224477052689, 0.011272795498371124, 0.06329692155122757, 0.21726813912391663, 0.006367153953760862, 0.02960379421710968, 0.05099846422672272, 0.007182059809565544, 0.0, 0.0, 0.0, 0.0, 0.0, 0.0, 0.0, 0.0, 0.0, 0.0, 0.0, 0.0, 0.0, 0.0, 0.0, 0.0, 0.0, 0.0, 0.0], [0.19737650454044342, 0.04603997990489006, 0.04399985074996948, 0.1337345987558365, 0.05424821004271507, 0.02547571435570717, 0.02756350487470627, 0.021570924669504166, 0.05171822011470795, 0.06458098441362381, 0.028064632788300514, 0.23551592230796814, 0.019129814580082893, 0.02996351197361946, 0.021017685532569885, 0.0, 0.0, 0.0, 0.0, 0.0, 0.0, 0.0, 0.0, 0.0, 0.0, 0.0, 0.0, 0.0, 0.0, 0.0, 0.0, 0.0, 0.0], [0.08907236903905869, 0.01928834430873394, 0.1665353775024414, 0.07281263172626495, 0.047386396676301956, 0.02448790892958641, 0.028987322002649307, 0.019370365887880325, 0.02667301893234253, 0.07316634058952332, 0.025704581290483475, 0.04242357611656189, 0.05869462341070175, 0.028932685032486916, 0.18119071424007416, 0.09527374804019928, 0.0, 0.0, 0.0, 0.0, 0.0, 0.0, 0.0, 0.0, 0.0, 0.0, 0.0, 0.0, 0.0, 0.0, 0.0, 0.0, 0.0], [0.2816729247570038, 0.06441286951303482, 0.01800854317843914, 0.016169609501957893, 0.02318388968706131, 0.0037532916758209467, 0.05472245067358017, 0.007909770123660564, 0.046164702624082565, 0.16947275400161743, 0.004361645318567753, 0.021011339500546455, 0.035490699112415314, 0.004932568874210119, 0.0955522283911705, 0.14726324379444122, 0.005917453672736883, 0.0, 0.0, 0.0, 0.0, 0.0, 0.0, 0.0, 0.0, 0.0, 0.0, 0.0, 0.0, 0.0, 0.0, 0.0, 0.0], [0.21305489540100098, 0.059123702347278595, 0.033820874989032745, 0.027476854622364044, 0.028393559157848358, 0.008422900922596455, 0.040085308253765106, 0.011629268527030945, 0.052951883524656296, 0.1540464609861374, 0.009831810370087624, 0.036101896315813065, 0.04737288877367973, 0.011069186963140965, 0.09972472488880157, 0.13971343636512756, 0.01318533718585968, 0.01399493869394064, 0.0, 0.0, 0.0, 0.0, 0.0, 0.0, 0.0, 0.0, 0.0, 0.0, 0.0, 0.0, 0.0, 0.0, 0.0], [0.15871693193912506, 0.04387889429926872, 0.08712149411439896, 0.08998463302850723, 0.030738571658730507, 0.034148938953876495, 0.02491724118590355, 0.031391944736242294, 0.024823851883411407, 0.019790317863225937, 0.036254845559597015, 0.020694417878985405, 0.042840685695409775, 0.03820899501442909, 0.06234660744667053, 0.10919708013534546, 0.0413760170340538, 0.04916762188076973, 0.05440090224146843, 0.0, 0.0, 0.0, 0.0, 0.0, 0.0, 0.0, 0.0, 0.0, 0.0, 0.0, 0.0, 0.0, 0.0], [0.10485508292913437, 0.12122289836406708, 0.06487482786178589, 0.08768721669912338, 0.0343405157327652, 0.01748393289744854, 0.03415179252624512, 0.015289144590497017, 0.02331213280558586, 0.028306493535637856, 0.018720462918281555, 0.028111949563026428, 0.04190531373023987, 0.02098955772817135, 0.04678509011864662, 0.08659636229276657, 0.023631827905774117, 0.024273179471492767, 0.16702397167682648, 0.010438209399580956, 0.0, 0.0, 0.0, 0.0, 0.0, 0.0, 0.0, 0.0, 0.0, 0.0, 0.0, 0.0, 0.0], [0.22901977598667145, 0.05184383690357208, 0.013585169799625874, 0.012337238527834415, 0.018005426973104477, 0.0027703598607331514, 0.04238126799464226, 0.005856257397681475, 0.03614489361643791, 0.13039226830005646, 0.003153424710035324, 0.01567256823182106, 0.02780039981007576, 0.0035543267149478197, 0.07460814714431763, 0.11298277974128723, 0.004272270016372204, 0.00683220149949193, 0.18569739162921906, 0.018073640763759613, 0.005016352981328964, 0.0, 0.0, 0.0, 0.0, 0.0, 0.0, 0.0, 0.0, 0.0, 0.0, 0.0, 0.0], [0.18869926035404205, 0.034387119114398956, 0.022344740107655525, 0.019972730427980423, 0.016354026272892952, 0.006856554187834263, 0.02085905149579048, 0.005696001462638378, 0.03415917232632637, 0.07260987162590027, 0.00785721093416214, 0.018040230497717857, 0.02690444514155388, 0.009020401164889336, 0.06876449286937714, 0.17578734457492828, 0.010720070451498032, 0.009284545667469501, 0.1925639659166336, 0.025180326774716377, 0.012639079242944717, 0.021299347281455994, 0.0, 0.0, 0.0, 0.0, 0.0, 0.0, 0.0, 0.0, 0.0, 0.0, 0.0], [0.1195831373333931, 0.022259421646595, 0.0329471230506897, 0.02017022669315338, 0.035653285682201385, 0.013459905050694942, 0.017516473308205605, 0.010057864710688591, 0.025856437161564827, 0.059559568762779236, 0.015084498561918736, 0.015008727088570595, 0.05317464843392372, 0.01659759320318699, 0.0415552593767643, 0.131293386220932, 0.019296670332551003, 0.01585504598915577, 0.17925094068050385, 0.01618381403386593, 0.022295521572232246, 0.015463382937014103, 0.10187705606222153, 0.0, 0.0, 0.0, 0.0, 0.0, 0.0, 0.0, 0.0, 0.0, 0.0], [0.14615535736083984, 0.026727518066763878, 0.016624560579657555, 0.01898769475519657, 0.06278639286756516, 0.015317163430154324, 0.019792253151535988, 0.014227769337594509, 0.025458160787820816, 0.04530354216694832, 0.016364360228180885, 0.037493035197257996, 0.013288654386997223, 0.01749652996659279, 0.039945829659700394, 0.058817584067583084, 0.01926097646355629, 0.024616044014692307, 0.038219720125198364, 0.021577797830104828, 0.020949900150299072, 0.07973216474056244, 0.05017608031630516, 0.170680969953537, 0.0, 0.0, 0.0, 0.0, 0.0, 0.0, 0.0, 0.0, 0.0], [0.11321669816970825, 0.03674636036157608, 0.011786575429141521, 0.010274871252477169, 0.02037065476179123, 0.005243887193500996, 0.01591883972287178, 0.0052667842246592045, 0.024891728535294533, 0.06593258678913116, 0.005933662410825491, 0.018209030851721764, 0.021020183339715004, 0.006667503155767918, 0.034828800708055496, 0.13742120563983917, 0.007927050814032555, 0.0086186733096838, 0.1137719377875328, 0.013557435013353825, 0.009277835488319397, 0.02612137608230114, 0.08499342948198318, 0.19073909521102905, 0.011263745836913586, 0.0, 0.0, 0.0, 0.0, 0.0, 0.0, 0.0, 0.0], [0.1333771049976349, 0.02621661126613617, 0.03827151283621788, 0.07152573019266129, 0.05317763239145279, 0.013925835490226746, 0.007084184791892767, 0.013450146652758121, 0.009841449558734894, 0.011789770796895027, 0.013537582941353321, 0.0381549671292305, 0.04193304851651192, 0.013882284052670002, 0.03707147017121315, 0.13838458061218262, 0.014846330508589745, 0.03156953305006027, 0.055981721729040146, 0.015536686405539513, 0.015956368297338486, 0.04545556381344795, 0.01669965870678425, 0.025325769558548927, 0.0367189459502697, 0.0802854523062706, 0.0, 0.0, 0.0, 0.0, 0.0, 0.0, 0.0], [0.10608962923288345, 0.019107721745967865, 0.024468660354614258, 0.02749638259410858, 0.01636580191552639, 0.005011418368667364, 0.010413100011646748, 0.006081139203161001, 0.005301067139953375, 0.011143144220113754, 0.0045653837732970715, 0.018969902768731117, 0.0043211160227656364, 0.004814973101019859, 0.029409397393465042, 0.028682012110948563, 0.005097249988466501, 0.0072343554347753525, 0.0341259241104126, 0.010370590724050999, 0.005643260665237904, 0.007283582352101803, 0.029389536008238792, 0.010038793087005615, 0.009134512394666672, 0.5466634631156921, 0.012777904979884624, 0.0, 0.0, 0.0, 0.0, 0.0, 0.0], [0.10467308759689331, 0.033219411969184875, 0.015341258607804775, 0.00937354564666748, 0.026595456525683403, 0.005787803791463375, 0.013571349903941154, 0.0045548854395747185, 0.028058895841240883, 0.026107221841812134, 0.006353434175252914, 0.01331582572311163, 0.02662825770676136, 0.006888877134770155, 0.06204749643802643, 0.05890703573822975, 0.008068054914474487, 0.007557095494121313, 0.08522782474756241, 0.01707574725151062, 0.009256891906261444, 0.019695769995450974, 0.1261780560016632, 0.13061507046222687, 0.01135103777050972, 0.08984370529651642, 0.04638151451945305, 0.007325293496251106, 0.0, 0.0, 0.0, 0.0, 0.0], [0.08561895787715912, 0.02143893949687481, 0.05641256645321846, 0.05706663057208061, 0.019802186638116837, 0.006727495230734348, 0.005809159483760595, 0.004516261164098978, 0.003164749825373292, 0.017615197226405144, 0.006174593698233366, 0.08767974376678467, 0.01229986734688282, 0.00635045999661088, 0.017522133886814117, 0.14295217394828796, 0.006585489492863417, 0.007875688374042511, 0.030078917741775513, 0.01390749216079712, 0.007376695051789284, 0.007684784475713968, 0.022160839289426804, 0.01238502748310566, 0.011890063062310219, 0.0866977646946907, 0.19902540743350983, 0.013594488613307476, 0.029586216434836388, 0.0, 0.0, 0.0, 0.0], [0.1406458467245102, 0.01329871080815792, 0.01570296473801136, 0.017357872799038887, 0.022331517189741135, 0.02967226319015026, 0.04172081872820854, 0.01899542659521103, 0.03827711194753647, 0.04863562062382698, 0.030946899205446243, 0.016023898497223854, 0.02088090404868126, 0.032438237220048904, 0.03055812604725361, 0.022808339446783066, 0.03537759184837341, 0.03145161643624306, 0.03497113287448883, 0.01867910847067833, 0.03821907937526703, 0.022578852251172066, 0.06819558143615723, 0.04214096441864967, 0.028620854020118713, 0.037750039249658585, 0.0185780618339777, 0.03376871719956398, 0.036416977643966675, 0.012956850230693817, 0.0, 0.0, 0.0], [0.07168617844581604, 0.06924448162317276, 0.019306903705000877, 0.014161990955471992, 0.01682320237159729, 0.019380610436201096, 0.019257422536611557, 0.02200365997850895, 0.01370653323829174, 0.035783763974905014, 0.018465176224708557, 0.05207167565822601, 0.02008518949151039, 0.01986212283372879, 0.020662125200033188, 0.047251638025045395, 0.021076709032058716, 0.0367872528731823, 0.024324094876646996, 0.0038275502156466246, 0.023920679464936256, 0.008533230051398277, 0.026241622865200043, 0.027380067855119705, 0.03461199626326561, 0.02288413792848587, 0.1004791185259819, 0.06913503259420395, 0.025474566966295242, 0.06495600193738937, 0.030615348368883133, 0.0, 0.0], [0.06910776346921921, 0.03701227903366089, 0.03862116113305092, 0.059333235025405884, 0.01592354103922844, 0.007918555289506912, 0.010371052660048008, 0.006615667603909969, 0.002520079491659999, 0.026019366458058357, 0.007905236445367336, 0.02965201810002327, 0.04000624269247055, 0.008451342582702637, 0.0107411565259099, 0.050275642424821854, 0.009428862482309341, 0.013601030223071575, 0.05036920681595802, 0.031767141073942184, 0.010793039575219154, 0.007216809783130884, 0.006478430703282356, 0.01480061188340187, 0.0215859767049551, 0.15769480168819427, 0.08884761482477188, 0.019016949459910393, 0.029729345813393593, 0.03316135331988335, 0.05088367313146591, 0.034150850027799606, 0.0], [0.14375515282154083, 0.016811035573482513, 0.009386667050421238, 0.006830313242971897, 0.011656850576400757, 0.0015672278823330998, 0.01971147023141384, 0.0023980415426194668, 0.02123590186238289, 0.04683683067560196, 0.0016905163647606969, 0.0058271917514503, 0.01197998970746994, 0.0018251414876431227, 0.04231332242488861, 0.0549137108027935, 0.00217865570448339, 0.0024170123506337404, 0.09604073315858841, 0.005752874538302422, 0.0025577901396900415, 0.007121230009943247, 0.08889930695295334, 0.10852079838514328, 0.005179053638130426, 0.03657734766602516, 0.024719921872019768, 0.003734766272827983, 0.031077060848474503, 0.016887931153178215, 0.09450861811637878, 0.07171521335840225, 0.003372322069481015]], [[1.0, 0.0, 0.0, 0.0, 0.0, 0.0, 0.0, 0.0, 0.0, 0.0, 0.0, 0.0, 0.0, 0.0, 0.0, 0.0, 0.0, 0.0, 0.0, 0.0, 0.0, 0.0, 0.0, 0.0, 0.0, 0.0, 0.0, 0.0, 0.0, 0.0, 0.0, 0.0, 0.0], [0.00042466531158424914, 0.9995753169059753, 0.0, 0.0, 0.0, 0.0, 0.0, 0.0, 0.0, 0.0, 0.0, 0.0, 0.0, 0.0, 0.0, 0.0, 0.0, 0.0, 0.0, 0.0, 0.0, 0.0, 0.0, 0.0, 0.0, 0.0, 0.0, 0.0, 0.0, 0.0, 0.0, 0.0, 0.0], [0.0005621905438601971, 0.016407271847128868, 0.9830306172370911, 0.0, 0.0, 0.0, 0.0, 0.0, 0.0, 0.0, 0.0, 0.0, 0.0, 0.0, 0.0, 0.0, 0.0, 0.0, 0.0, 0.0, 0.0, 0.0, 0.0, 0.0, 0.0, 0.0, 0.0, 0.0, 0.0, 0.0, 0.0, 0.0, 0.0], [0.0011627564672380686, 0.021681996062397957, 0.003762038890272379, 0.9733933210372925, 0.0, 0.0, 0.0, 0.0, 0.0, 0.0, 0.0, 0.0, 0.0, 0.0, 0.0, 0.0, 0.0, 0.0, 0.0, 0.0, 0.0, 0.0, 0.0, 0.0, 0.0, 0.0, 0.0, 0.0, 0.0, 0.0, 0.0, 0.0, 0.0], [3.724433190654963e-05, 0.00017202235176227987, 0.0002814393083099276, 0.00274214381352067, 0.9967671632766724, 0.0, 0.0, 0.0, 0.0, 0.0, 0.0, 0.0, 0.0, 0.0, 0.0, 0.0, 0.0, 0.0, 0.0, 0.0, 0.0, 0.0, 0.0, 0.0, 0.0, 0.0, 0.0, 0.0, 0.0, 0.0, 0.0, 0.0, 0.0], [0.008268454112112522, 0.000239856235566549, 7.361917960224673e-05, 6.43772873445414e-05, 0.00017566375026945025, 0.9911779761314392, 0.0, 0.0, 0.0, 0.0, 0.0, 0.0, 0.0, 0.0, 0.0, 0.0, 0.0, 0.0, 0.0, 0.0, 0.0, 0.0, 0.0, 0.0, 0.0, 0.0, 0.0, 0.0, 0.0, 0.0, 0.0, 0.0, 0.0], [0.0012215040624141693, 0.005400446243584156, 0.0016716310055926442, 0.00040775572415441275, 0.0006163657526485622, 0.0010931179858744144, 0.9895892143249512, 0.0, 0.0, 0.0, 0.0, 0.0, 0.0, 0.0, 0.0, 0.0, 0.0, 0.0, 0.0, 0.0, 0.0, 0.0, 0.0, 0.0, 0.0, 0.0, 0.0, 0.0, 0.0, 0.0, 0.0, 0.0, 0.0], [0.001245980616658926, 0.0009121241746470332, 0.0005976732354611158, 0.00013656909868586808, 0.00033041168353520334, 0.0015722825191915035, 0.003880825825035572, 0.9913240671157837, 0.0, 0.0, 0.0, 0.0, 0.0, 0.0, 0.0, 0.0, 0.0, 0.0, 0.0, 0.0, 0.0, 0.0, 0.0, 0.0, 0.0, 0.0, 0.0, 0.0, 0.0, 0.0, 0.0, 0.0, 0.0], [0.0002821743255481124, 0.004068173002451658, 0.0026605145540088415, 0.0013093081070110202, 0.008030476979911327, 0.0002879088278859854, 0.0002292287681484595, 0.00039484177250415087, 0.9827372431755066, 0.0, 0.0, 0.0, 0.0, 0.0, 0.0, 0.0, 0.0, 0.0, 0.0, 0.0, 0.0, 0.0, 0.0, 0.0, 0.0, 0.0, 0.0, 0.0, 0.0, 0.0, 0.0, 0.0, 0.0], [3.4739397960947827e-05, 0.00039538496639579535, 0.0001327274803770706, 0.00025852362159639597, 0.0010855612345039845, 9.19806188903749e-05, 0.0003267084830440581, 0.0005427465075626969, 0.0061059449799358845, 0.9910256266593933, 0.0, 0.0, 0.0, 0.0, 0.0, 0.0, 0.0, 0.0, 0.0, 0.0, 0.0, 0.0, 0.0, 0.0, 0.0, 0.0, 0.0, 0.0, 0.0, 0.0, 0.0, 0.0, 0.0], [0.0033785102423280478, 5.0908733101096004e-05, 1.6452100680908188e-05, 1.6926172975217924e-05, 4.1814208088908345e-05, 0.4939403235912323, 0.00012981280451640487, 0.000883733679074794, 3.221204678993672e-05, 2.725215927057434e-05, 0.5014820694923401, 0.0, 0.0, 0.0, 0.0, 0.0, 0.0, 0.0, 0.0, 0.0, 0.0, 0.0, 0.0, 0.0, 0.0, 0.0, 0.0, 0.0, 0.0, 0.0, 0.0, 0.0, 0.0], [8.416063792537898e-05, 0.001341726048849523, 0.0012613615253940225, 0.002145081525668502, 0.004042377695441246, 0.0004830540856346488, 0.00011582666775211692, 0.00015203611110337079, 2.6925357815343887e-05, 0.00012675161997321993, 0.000312899675918743, 0.9899077415466309, 0.0, 0.0, 0.0, 0.0, 0.0, 0.0, 0.0, 0.0, 0.0, 0.0, 0.0, 0.0, 0.0, 0.0, 0.0, 0.0, 0.0, 0.0, 0.0, 0.0, 0.0], [0.00037822319427505136, 0.0009837576653808355, 0.0393412783741951, 0.0027322496753185987, 0.0036680244375020266, 0.00011039190576411784, 0.0001293104432988912, 0.0002174347755499184, 0.00010623314301483333, 0.000774819403886795, 6.647672125836834e-05, 0.0003148670948576182, 0.9511768817901611, 0.0, 0.0, 0.0, 0.0, 0.0, 0.0, 0.0, 0.0, 0.0, 0.0, 0.0, 0.0, 0.0, 0.0, 0.0, 0.0, 0.0, 0.0, 0.0, 0.0], [0.002101721940562129, 2.4436918465653434e-05, 7.78879621066153e-06, 8.651622920297086e-06, 2.014003985095769e-05, 0.29971325397491455, 7.525277032982558e-05, 0.0004898307379335165, 1.8459502825862728e-05, 1.534457624075003e-05, 0.3283390402793884, 4.175804497208446e-05, 6.469194431701908e-06, 0.36913785338401794, 0.0, 0.0, 0.0, 0.0, 0.0, 0.0, 0.0, 0.0, 0.0, 0.0, 0.0, 0.0, 0.0, 0.0, 0.0, 0.0, 0.0, 0.0, 0.0], [0.00014968343020882457, 0.00011296618322376162, 0.00036294921301305294, 0.0001859124022303149, 0.00016460906772408634, 4.1432333091506734e-05, 2.8764743547071703e-05, 7.786951027810574e-05, 0.000920100137591362, 0.010340185835957527, 2.7572366889216937e-05, 1.7833237507147714e-05, 0.0003305452992208302, 2.4375729481107555e-05, 0.9872152805328369, 0.0, 0.0, 0.0, 0.0, 0.0, 0.0, 0.0, 0.0, 0.0, 0.0, 0.0, 0.0, 0.0, 0.0, 0.0, 0.0, 0.0, 0.0], [0.00010753805690910667, 0.0021781870163977146, 0.0020426081027835608, 0.004251924809068441, 0.006989897694438696, 2.5118744815699756e-05, 0.0007779017905704677, 0.0005783529486507177, 0.002937840297818184, 0.03322532773017883, 1.7199228750541806e-05, 0.0008936460362747312, 0.0015238545602187514, 1.4656777238997165e-05, 0.006222623400390148, 0.9382132887840271, 0.0, 0.0, 0.0, 0.0, 0.0, 0.0, 0.0, 0.0, 0.0, 0.0, 0.0, 0.0, 0.0, 0.0, 0.0, 0.0, 0.0], [0.0013634870992973447, 1.3226036571722943e-05, 4.013935267721536e-06, 4.803052888746606e-06, 1.0257442227157298e-05, 0.19665947556495667, 4.527259079623036e-05, 0.0002776256878860295, 1.1714422726072371e-05, 9.473302270635031e-06, 0.22919605672359467, 2.6430574507685378e-05, 4.101847935089609e-06, 0.26576122641563416, 8.515347872162238e-06, 4.536021606327267e-06, 0.30659976601600647, 0.0, 0.0, 0.0, 0.0, 0.0, 0.0, 0.0, 0.0, 0.0, 0.0, 0.0, 0.0, 0.0, 0.0, 0.0, 0.0], [0.0008924758294597268, 0.00013490807032212615, 4.779844675795175e-05, 5.803707608720288e-05, 0.00010480182390892878, 0.012799100950360298, 0.0007168246665969491, 0.03257951885461807, 2.644998130563181e-05, 0.00011185073526576161, 0.01188427023589611, 4.0102739149006084e-05, 5.555408642976545e-05, 0.012377867475152016, 0.00010783469770103693, 5.4043703130446374e-05, 0.01312212459743023, 0.9148862957954407, 0.0, 0.0, 0.0, 0.0, 0.0, 0.0, 0.0, 0.0, 0.0, 0.0, 0.0, 0.0, 0.0, 0.0, 0.0], [5.075319677416701e-06, 4.396139411255717e-05, 3.39850848831702e-05, 7.940309296827763e-05, 5.477912418427877e-05, 7.921551627987355e-07, 9.313333976024296e-06, 7.727086995146237e-06, 8.597262785769999e-05, 0.00012274055916350335, 5.141489509696839e-07, 1.702795657365641e-06, 3.8341830077115446e-05, 4.4509761210065335e-07, 0.00013928250700701028, 0.00032758014276623726, 3.9948014318724745e-07, 3.948134690290317e-06, 0.9990440011024475, 0.0, 0.0, 0.0, 0.0, 0.0, 0.0, 0.0, 0.0, 0.0, 0.0, 0.0, 0.0, 0.0, 0.0], [9.346199658466503e-05, 0.0018395757069811225, 0.00252331024967134, 0.018087273463606834, 0.002936380682513118, 0.0002733583969529718, 4.872979479841888e-05, 0.00042127788765355945, 0.0001562437682878226, 0.0009748343145474792, 0.00020533587667159736, 0.0010228849714621902, 0.0019548037089407444, 0.0001947036653291434, 0.0011294216383248568, 0.0016656118677929044, 0.00018734042532742023, 0.0009503458277322352, 0.000445517769549042, 0.964889645576477, 0.0, 0.0, 0.0, 0.0, 0.0, 0.0, 0.0, 0.0, 0.0, 0.0, 0.0, 0.0, 0.0], [0.0010859702015295625, 8.512334716215264e-06, 2.53072653322306e-06, 3.0625180897914106e-06, 5.9751241678895894e-06, 0.13292622566223145, 3.345320510561578e-05, 0.00018891233776230365, 8.477757546643261e-06, 6.540428785228869e-06, 0.16445910930633545, 1.8130038370145485e-05, 3.0627427349827485e-06, 0.1971917301416397, 6.429842414945597e-06, 3.4447332382114837e-06, 0.23317138850688934, 0.0022796262055635452, 3.713430032803444e-06, 3.5288034268887714e-05, 0.2685583531856537, 0.0, 0.0, 0.0, 0.0, 0.0, 0.0, 0.0, 0.0, 0.0, 0.0, 0.0, 0.0], [0.0004197956877760589, 0.00011805014219135046, 0.00014240502787288278, 3.796784585574642e-05, 0.00019043180509470403, 0.00176512252073735, 0.0005709825200028718, 0.0005008852458558977, 8.840754890115932e-05, 0.0001420867774868384, 0.0016639826353639364, 3.3481079299235716e-05, 2.441398100927472e-05, 0.001754649681970477, 6.520312308566645e-05, 2.4142647816915996e-05, 0.0018299139337614179, 0.00156910321675241, 3.974881110480055e-05, 0.0001571239990880713, 0.0018554466078057885, 0.9870065450668335, 0.0, 0.0, 0.0, 0.0, 0.0, 0.0, 0.0, 0.0, 0.0, 0.0, 0.0], [7.501784421037883e-05, 0.001437984756194055, 6.345157453324646e-05, 0.00010864849900826812, 0.00015633198199793696, 3.210129079889157e-06, 0.002203278709203005, 0.00022076575260143727, 5.2403021982172504e-05, 4.8815836635185406e-05, 2.264463546453044e-06, 1.5327279470511712e-05, 4.157148396188859e-06, 2.0228428638802143e-06, 6.296808805927867e-06, 4.848674143431708e-05, 1.992902980418876e-06, 3.2470103178638965e-05, 0.0012695121113210917, 1.9632663679658435e-05, 1.8090950106852688e-06, 0.0005810302100144327, 0.9936450719833374, 0.0, 0.0, 0.0, 0.0, 0.0, 0.0, 0.0, 0.0, 0.0, 0.0], [7.450171688105911e-05, 0.0006139400647953153, 0.0009361222619190812, 0.0008487823652103543, 0.002850643591955304, 1.0365081834606826e-05, 0.00021614317665807903, 0.00017397581541445106, 0.0020508451852947474, 0.005805307999253273, 8.05525360192405e-06, 8.086615707725286e-05, 0.0007702462025918067, 7.2882048698375e-06, 0.0010576178319752216, 0.002275603823363781, 6.6632801463129e-06, 0.00011621062003541738, 0.0005972470389679074, 8.736322342883795e-05, 6.332356406346662e-06, 6.0964699514443055e-05, 6.090595343266614e-05, 0.9812840819358826, 0.0, 0.0, 0.0, 0.0, 0.0, 0.0, 0.0, 0.0, 0.0], [0.0005848743603564799, 0.00015909202920738608, 1.0836472029041033e-05, 7.365470082731918e-05, 0.00011349537089699879, 0.0008256656583398581, 0.00031911046244204044, 0.01852998323738575, 1.0226591257378459e-05, 4.9587230023462325e-05, 0.0007716418476775289, 4.4548200094141066e-05, 9.86502618616214e-06, 0.0008067172020673752, 2.267386662424542e-05, 1.2464140127121937e-05, 0.0008449096349067986, 0.008790099062025547, 3.579234180506319e-05, 3.662859307951294e-05, 0.0008917525410652161, 0.00107917794957757, 0.000370846304576844, 0.0001083713723346591, 0.9654980301856995, 0.0, 0.0, 0.0, 0.0, 0.0, 0.0, 0.0, 0.0], [1.6459864127682522e-05, 0.00017152390500996262, 3.208309135516174e-05, 0.00010234134970232844, 0.002631871262565255, 9.886157386063132e-06, 3.250836380175315e-05, 3.7417401472339407e-05, 0.00012631491699721664, 4.991197420167737e-05, 8.30250974104274e-06, 8.443406841251999e-05, 3.1279570976039395e-05, 7.633335371792782e-06, 1.010133473755559e-05, 5.667359437211417e-05, 7.442101377819199e-06, 2.7689553462550975e-05, 1.841826997406315e-05, 2.8794268018828006e-06, 6.840396054030862e-06, 4.279859240341466e-06, 0.0004317641432862729, 0.0001761743624228984, 8.995566167868674e-05, 0.9958258867263794, 0.0, 0.0, 0.0, 0.0, 0.0, 0.0, 0.0], [2.636797580635175e-05, 0.00018008658662438393, 0.00018082899623550475, 0.0003046466736122966, 0.00039390832534991205, 4.674826777772978e-05, 2.7231617423240095e-05, 4.8734727897681296e-05, 0.0002913158677984029, 0.00042061530984938145, 3.804625885095447e-05, 0.0002524504088796675, 5.606722697848454e-05, 3.820357960648835e-05, 0.00153650576248765, 0.001253717578947544, 3.593411747715436e-05, 2.3036574930301867e-05, 0.00018036190886050463, 0.00012266065459698439, 3.517770892358385e-05, 6.924665649421513e-05, 0.00011267262016190216, 0.0008507365128025413, 0.00014361833746079355, 0.00023527868324890733, 0.9930958151817322, 0.0, 0.0, 0.0, 0.0, 0.0, 0.0], [0.0007048264378681779, 5.6753993703750893e-05, 3.3512985737615963e-06, 7.472663583030226e-06, 1.7859507352113724e-05, 0.0008156531257554889, 4.952957169734873e-05, 0.0013530990108847618, 3.741766340681352e-05, 0.00014378019841387868, 0.0007639338728040457, 9.991703336709179e-06, 2.884440846173675e-06, 0.0007552236202172935, 0.0001015961097436957, 3.120546807622304e-06, 0.0008060954860411584, 0.001140677253715694, 1.4343130715133157e-05, 9.910185326589271e-06, 0.0008649193914607167, 8.663281914778054e-05, 3.469553485047072e-05, 0.00010265839955536649, 0.0076634809374809265, 4.187898593954742e-05, 3.490865992716863e-06, 0.9844047427177429, 0.0, 0.0, 0.0, 0.0, 0.0], [2.0288291125325486e-05, 2.9542690754169598e-05, 5.037496885051951e-05, 0.0009778327075764537, 0.3728255033493042, 6.661310635536211e-06, 1.573362351336982e-05, 3.9812392060412094e-05, 0.00022353202803060412, 0.00012674317986238748, 5.1184383664804045e-06, 0.0002411615860182792, 1.2973822776984889e-05, 4.800681381311733e-06, 2.3321632397710346e-05, 7.723524322500452e-05, 4.593432095134631e-06, 1.964710099855438e-05, 0.00021129907690919936, 1.1453497791080736e-05, 4.380483915156219e-06, 1.4442666724789888e-05, 3.676741835079156e-05, 0.0001184530628961511, 3.797714816755615e-05, 0.0007802752661518753, 0.00040483620250597596, 1.0429552276036702e-05, 0.6236647963523865, 0.0, 0.0, 0.0, 0.0], [2.0582927390933037e-05, 8.831260493025184e-05, 0.00020454901095945388, 0.00030189042445272207, 8.223903569160029e-05, 1.9704415535670705e-05, 0.00014085126167628914, 2.8963204385945573e-05, 7.669377737329341e-06, 3.7246205465635285e-05, 1.673678525548894e-05, 6.404708983609453e-05, 0.0006910585216246545, 1.6027599485823885e-05, 0.00015603694191668183, 0.00014825942344032228, 1.5700084986747243e-05, 9.155399311566725e-05, 8.525091107003391e-05, 4.9045224841393065e-06, 1.5784411516506225e-05, 5.293117283144966e-05, 0.0005298366886563599, 0.0005658399895764887, 6.167330138850957e-05, 6.729504821123555e-05, 0.00030774460174143314, 1.0369168194301892e-05, 6.799343100283295e-05, 0.9960988759994507, 0.0, 0.0, 0.0], [1.3371318345889449e-05, 0.0009821535786613822, 0.0004154812777414918, 0.0001144232737715356, 0.00038730810047127306, 5.660860097123077e-06, 0.0012746276333928108, 0.0005708062089979649, 0.0006383630679920316, 0.0005776668549515307, 4.127737156522926e-06, 9.161743037111592e-06, 9.142833005171269e-05, 3.774864126171451e-06, 1.3575295270129573e-05, 0.0002916179655585438, 3.4474890071578557e-06, 7.899193587945774e-05, 0.0031891181133687496, 4.885083853878314e-06, 3.1652868983655935e-06, 1.4087455383560155e-05, 0.0001567144354339689, 0.00035448960261419415, 0.00017265455971937627, 0.0013050647685304284, 0.00021867688337806612, 2.677672091522254e-05, 0.00026460233493708074, 1.3334542018128559e-05, 0.9888005256652832, 0.0, 0.0], [2.7455138479126617e-05, 0.00016438306192867458, 7.996438216650859e-05, 0.0011915010400116444, 0.0007883648504503071, 2.658424136825488e-06, 3.0057644835324027e-05, 7.4579888860171195e-06, 0.00014940994151402265, 2.8857237339252606e-05, 1.8738326161837904e-06, 0.000332881259964779, 5.1608698413474485e-05, 1.7577530115886475e-06, 0.00012656612670980394, 0.00014267049846239388, 1.695450123406772e-06, 2.1952655515633523e-05, 0.00023040821542963386, 4.42934651800897e-05, 1.610336539670243e-06, 2.700810000533238e-05, 0.0002388490829616785, 0.00019046070519834757, 9.496163329458795e-06, 0.00044664525194093585, 0.00022095830354373902, 5.379190952226054e-06, 0.0006956423167139292, 0.00015470809012185782, 0.00025485485093668103, 0.9943285584449768, 0.0], [0.006231046747416258, 9.722806862555444e-05, 6.87158990331227e-06, 2.1151117834961042e-05, 5.828053690493107e-05, 0.007238902151584625, 2.0987938114558347e-05, 0.0002545907336752862, 6.243865936994553e-05, 2.0924664568156004e-05, 0.007872140035033226, 5.5853193771326914e-05, 9.868776942312252e-06, 0.009169396944344044, 7.202989218058065e-05, 7.068694685585797e-06, 0.010345971211791039, 0.0013096531620249152, 3.803676736424677e-05, 8.022697147680447e-05, 0.012053251266479492, 4.071999137522653e-05, 3.686071750053088e-06, 3.4713455534074455e-05, 0.0005061828414909542, 8.918942330637947e-05, 2.9111975891282782e-05, 0.0012772803893312812, 8.489640458719805e-05, 0.00018447409092914313, 0.00013425727956928313, 6.813061190769076e-05, 0.9425214529037476]], [[1.0, 0.0, 0.0, 0.0, 0.0, 0.0, 0.0, 0.0, 0.0, 0.0, 0.0, 0.0, 0.0, 0.0, 0.0, 0.0, 0.0, 0.0, 0.0, 0.0, 0.0, 0.0, 0.0, 0.0, 0.0, 0.0, 0.0, 0.0, 0.0, 0.0, 0.0, 0.0, 0.0], [0.943029522895813, 0.056970443576574326, 0.0, 0.0, 0.0, 0.0, 0.0, 0.0, 0.0, 0.0, 0.0, 0.0, 0.0, 0.0, 0.0, 0.0, 0.0, 0.0, 0.0, 0.0, 0.0, 0.0, 0.0, 0.0, 0.0, 0.0, 0.0, 0.0, 0.0, 0.0, 0.0, 0.0, 0.0], [0.9185556173324585, 0.03280004858970642, 0.04864437133073807, 0.0, 0.0, 0.0, 0.0, 0.0, 0.0, 0.0, 0.0, 0.0, 0.0, 0.0, 0.0, 0.0, 0.0, 0.0, 0.0, 0.0, 0.0, 0.0, 0.0, 0.0, 0.0, 0.0, 0.0, 0.0, 0.0, 0.0, 0.0, 0.0, 0.0], [0.8779287934303284, 0.05643429234623909, 0.04271192103624344, 0.022925030440092087, 0.0, 0.0, 0.0, 0.0, 0.0, 0.0, 0.0, 0.0, 0.0, 0.0, 0.0, 0.0, 0.0, 0.0, 0.0, 0.0, 0.0, 0.0, 0.0, 0.0, 0.0, 0.0, 0.0, 0.0, 0.0, 0.0, 0.0, 0.0, 0.0], [0.804131805896759, 0.02909819595515728, 0.07556727528572083, 0.05643591657280922, 0.03476677089929581, 0.0, 0.0, 0.0, 0.0, 0.0, 0.0, 0.0, 0.0, 0.0, 0.0, 0.0, 0.0, 0.0, 0.0, 0.0, 0.0, 0.0, 0.0, 0.0, 0.0, 0.0, 0.0, 0.0, 0.0, 0.0, 0.0, 0.0, 0.0], [0.4943104088306427, 0.02018355019390583, 0.027966566383838654, 0.01831907033920288, 0.03144204244017601, 0.4077783226966858, 0.0, 0.0, 0.0, 0.0, 0.0, 0.0, 0.0, 0.0, 0.0, 0.0, 0.0, 0.0, 0.0, 0.0, 0.0, 0.0, 0.0, 0.0, 0.0, 0.0, 0.0, 0.0, 0.0, 0.0, 0.0, 0.0, 0.0], [0.6057477593421936, 0.029242446646094322, 0.09491509944200516, 0.07609352469444275, 0.0661466047167778, 0.0870579332113266, 0.040796682238578796, 0.0, 0.0, 0.0, 0.0, 0.0, 0.0, 0.0, 0.0, 0.0, 0.0, 0.0, 0.0, 0.0, 0.0, 0.0, 0.0, 0.0, 0.0, 0.0, 0.0, 0.0, 0.0, 0.0, 0.0, 0.0, 0.0], [0.44838207960128784, 0.04542430117726326, 0.07401478290557861, 0.06864848732948303, 0.0937662422657013, 0.08774265646934509, 0.0653427392244339, 0.11667867004871368, 0.0, 0.0, 0.0, 0.0, 0.0, 0.0, 0.0, 0.0, 0.0, 0.0, 0.0, 0.0, 0.0, 0.0, 0.0, 0.0, 0.0, 0.0, 0.0, 0.0, 0.0, 0.0, 0.0, 0.0, 0.0], [0.49169260263442993, 0.13782072067260742, 0.03955019265413284, 0.06153317168354988, 0.04539966210722923, 0.040731459856033325, 0.06228704750537872, 0.05861867591738701, 0.062366463243961334, 0.0, 0.0, 0.0, 0.0, 0.0, 0.0, 0.0, 0.0, 0.0, 0.0, 0.0, 0.0, 0.0, 0.0, 0.0, 0.0, 0.0, 0.0, 0.0, 0.0, 0.0, 0.0, 0.0, 0.0], [0.5404125452041626, 0.04442664980888367, 0.03957853466272354, 0.041888099163770676, 0.07529854029417038, 0.046695057302713394, 0.048475250601768494, 0.055005207657814026, 0.08293064683675766, 0.025289500132203102, 0.0, 0.0, 0.0, 0.0, 0.0, 0.0, 0.0, 0.0, 0.0, 0.0, 0.0, 0.0, 0.0, 0.0, 0.0, 0.0, 0.0, 0.0, 0.0, 0.0, 0.0, 0.0, 0.0], [0.2827354669570923, 0.014234174974262714, 0.017647746950387955, 0.011433068662881851, 0.021741701290011406, 0.26665398478507996, 0.01540354359894991, 0.04734926298260689, 0.017767537385225296, 0.013926071114838123, 0.2911074757575989, 0.0, 0.0, 0.0, 0.0, 0.0, 0.0, 0.0, 0.0, 0.0, 0.0, 0.0, 0.0, 0.0, 0.0, 0.0, 0.0, 0.0, 0.0, 0.0, 0.0, 0.0, 0.0], [0.34496626257896423, 0.04611676186323166, 0.057715486735105515, 0.11131857335567474, 0.11289365589618683, 0.02793034352362156, 0.038591910153627396, 0.0565652921795845, 0.05864056199789047, 0.0664859339594841, 0.02611435391008854, 0.05266086757183075, 0.0, 0.0, 0.0, 0.0, 0.0, 0.0, 0.0, 0.0, 0.0, 0.0, 0.0, 0.0, 0.0, 0.0, 0.0, 0.0, 0.0, 0.0, 0.0, 0.0, 0.0], [0.4699215888977051, 0.032015684992074966, 0.1077289953827858, 0.027006791904568672, 0.0446588434278965, 0.022773556411266327, 0.023117074742913246, 0.025491537526249886, 0.04950271174311638, 0.026573950424790382, 0.019708868116140366, 0.06337957829236984, 0.08812079578638077, 0.0, 0.0, 0.0, 0.0, 0.0, 0.0, 0.0, 0.0, 0.0, 0.0, 0.0, 0.0, 0.0, 0.0, 0.0, 0.0, 0.0, 0.0, 0.0, 0.0], [0.20661762356758118, 0.010379294864833355, 0.012261936441063881, 0.008319094777107239, 0.016007075086236, 0.1952774077653885, 0.011453290469944477, 0.03475671634078026, 0.013073586858808994, 0.0109389778226614, 0.21602481603622437, 0.005866495426744223, 0.023642314597964287, 0.2353813499212265, 0.0, 0.0, 0.0, 0.0, 0.0, 0.0, 0.0, 0.0, 0.0, 0.0, 0.0, 0.0, 0.0, 0.0, 0.0, 0.0, 0.0, 0.0, 0.0], [0.3399350345134735, 0.02916163019835949, 0.09540709853172302, 0.03395187109708786, 0.08440452069044113, 0.012559541501104832, 0.029358651489019394, 0.024564173072576523, 0.10622430592775345, 0.046892132610082626, 0.011469598859548569, 0.006369195878505707, 0.11145275831222534, 0.011318004690110683, 0.056931495666503906, 0.0, 0.0, 0.0, 0.0, 0.0, 0.0, 0.0, 0.0, 0.0, 0.0, 0.0, 0.0, 0.0, 0.0, 0.0, 0.0, 0.0, 0.0], [0.4040881395339966, 0.024195672944188118, 0.03891004994511604, 0.014727438800036907, 0.024456555023789406, 0.038450032472610474, 0.03923037648200989, 0.037171389907598495, 0.06030004471540451, 0.041985467076301575, 0.03716717287898064, 0.01639123260974884, 0.039289675652980804, 0.037729792296886444, 0.13448567688465118, 0.011421299539506435, 0.0, 0.0, 0.0, 0.0, 0.0, 0.0, 0.0, 0.0, 0.0, 0.0, 0.0, 0.0, 0.0, 0.0, 0.0, 0.0, 0.0], [0.15876442193984985, 0.008203900419175625, 0.009295257739722729, 0.006221720948815346, 0.011793198063969612, 0.1506979614496231, 0.008851957507431507, 0.02631351538002491, 0.010186922736465931, 0.008433723822236061, 0.16762235760688782, 0.004420033190399408, 0.018211785703897476, 0.18350817263126373, 0.02092732861638069, 0.00644778972491622, 0.20009994506835938, 0.0, 0.0, 0.0, 0.0, 0.0, 0.0, 0.0, 0.0, 0.0, 0.0, 0.0, 0.0, 0.0, 0.0, 0.0, 0.0], [0.1753920614719391, 0.020569657906889915, 0.018291445448994637, 0.009298023767769337, 0.017377905547618866, 0.04253476858139038, 0.020701589062809944, 0.05044393986463547, 0.025438036769628525, 0.017218217253684998, 0.04311534762382507, 0.013349822722375393, 0.028528593480587006, 0.045972567051649094, 0.03408820927143097, 0.01983419805765152, 0.049928341060876846, 0.3679172694683075, 0.0, 0.0, 0.0, 0.0, 0.0, 0.0, 0.0, 0.0, 0.0, 0.0, 0.0, 0.0, 0.0, 0.0, 0.0], [0.260333389043808, 0.017148369923233986, 0.03745277598500252, 0.07594799250364304, 0.04674699902534485, 0.01806853711605072, 0.031346458941698074, 0.037415169179439545, 0.07175810635089874, 0.058725371956825256, 0.017078714445233345, 0.04030591994524002, 0.05706359073519707, 0.017113588750362396, 0.10491333901882172, 0.04670536890625954, 0.017230205237865448, 0.024682169780135155, 0.019963953644037247, 0.0, 0.0, 0.0, 0.0, 0.0, 0.0, 0.0, 0.0, 0.0, 0.0, 0.0, 0.0, 0.0, 0.0], [0.305470734834671, 0.05190496891736984, 0.04346899315714836, 0.02184685692191124, 0.02101719193160534, 0.03390474617481232, 0.041904740035533905, 0.03909286856651306, 0.028871960937976837, 0.02300342731177807, 0.0320579968392849, 0.02333449199795723, 0.0711059421300888, 0.03290089964866638, 0.06164192408323288, 0.03183261677622795, 0.033767618238925934, 0.04571488872170448, 0.03501521050930023, 0.022141892462968826, 0.0, 0.0, 0.0, 0.0, 0.0, 0.0, 0.0, 0.0, 0.0, 0.0, 0.0, 0.0, 0.0], [0.1224295124411583, 0.0061053005047142506, 0.0066703008487820625, 0.004581777844578028, 0.009337791241705418, 0.11381801217794418, 0.006783359684050083, 0.01971990242600441, 0.007580863311886787, 0.006613647565245628, 0.12765923142433167, 0.0035026606637984514, 0.014002332463860512, 0.14000995457172394, 0.015684884041547775, 0.005092607345432043, 0.15336202085018158, 0.03527417033910751, 0.022465631365776062, 0.006954462267458439, 0.17235159873962402, 0.0, 0.0, 0.0, 0.0, 0.0, 0.0, 0.0, 0.0, 0.0, 0.0, 0.0, 0.0], [0.20538491010665894, 0.03477850928902626, 0.01468291413038969, 0.031183311715722084, 0.0309312604367733, 0.021952791139483452, 0.03290867060422897, 0.057405341416597366, 0.055875152349472046, 0.04864277318120003, 0.023520763963460922, 0.015108552761375904, 0.027386322617530823, 0.024518469348549843, 0.060604531317949295, 0.03477613627910614, 0.026137784123420715, 0.051684364676475525, 0.06281398981809616, 0.020291466265916824, 0.02860172651708126, 0.09081021696329117, 0.0, 0.0, 0.0, 0.0, 0.0, 0.0, 0.0, 0.0, 0.0, 0.0, 0.0], [0.2397860437631607, 0.03132349252700806, 0.050377510488033295, 0.015869444236159325, 0.03901458904147148, 0.022805538028478622, 0.04285357892513275, 0.02888229675590992, 0.040462665259838104, 0.0341072678565979, 0.0226445235311985, 0.03923068940639496, 0.07238570600748062, 0.02234550751745701, 0.04958105459809303, 0.03193335980176926, 0.023325571790337563, 0.04521360620856285, 0.030554326251149178, 0.022876501083374023, 0.02473229542374611, 0.05549478530883789, 0.014199567958712578, 0.0, 0.0, 0.0, 0.0, 0.0, 0.0, 0.0, 0.0, 0.0, 0.0], [0.23581698536872864, 0.020558305084705353, 0.043750084936618805, 0.029704876244068146, 0.037038762122392654, 0.014953458681702614, 0.040043096989393234, 0.027184372767806053, 0.04576185718178749, 0.03809260576963425, 0.014181876555085182, 0.03789154440164566, 0.06518241763114929, 0.014182924292981625, 0.054894931614398956, 0.023720961064100266, 0.014592769555747509, 0.02557002194225788, 0.07356176525354385, 0.03918236121535301, 0.014925511553883553, 0.04628865048289299, 0.02780105359852314, 0.015118859708309174, 0.0, 0.0, 0.0, 0.0, 0.0, 0.0, 0.0, 0.0, 0.0], [0.14254969358444214, 0.01201015617698431, 0.016881296411156654, 0.020742544904351234, 0.03245176374912262, 0.029626021161675453, 0.030295217409729958, 0.05620870739221573, 0.02960873767733574, 0.029481831938028336, 0.032639846205711365, 0.01003822311758995, 0.04078620299696922, 0.034627873450517654, 0.033916354179382324, 0.020155739039182663, 0.03684316202998161, 0.060646917670965195, 0.047447096556425095, 0.03252529352903366, 0.04040036350488663, 0.05947764217853546, 0.03129398822784424, 0.047925468534231186, 0.07141983509063721, 0.0, 0.0, 0.0, 0.0, 0.0, 0.0, 0.0, 0.0], [0.2222907692193985, 0.05911135673522949, 0.037026744335889816, 0.04059012606739998, 0.0272544976323843, 0.019174771383404732, 0.03171538561582565, 0.02046213671565056, 0.03811327740550041, 0.019927892833948135, 0.018538910895586014, 0.01543671078979969, 0.04536490514874458, 0.01935577020049095, 0.05035829544067383, 0.033281389623880386, 0.02017974853515625, 0.03679434955120087, 0.043313853442668915, 0.02847641333937645, 0.02131732366979122, 0.04771285504102707, 0.013107022270560265, 0.02633604407310486, 0.030211370438337326, 0.03454800322651863, 0.0, 0.0, 0.0, 0.0, 0.0, 0.0, 0.0], [0.28438133001327515, 0.023870104923844337, 0.04641881212592125, 0.010260092094540596, 0.03390985354781151, 0.018301477655768394, 0.023708904162049294, 0.02476683259010315, 0.025767754763364792, 0.022968800738453865, 0.016735458746552467, 0.013406938873231411, 0.0459866039454937, 0.016673224046826363, 0.0810638964176178, 0.05033261328935623, 0.016726164147257805, 0.019904810935258865, 0.030325336381793022, 0.010146315209567547, 0.017318230122327805, 0.019040962681174278, 0.011081119999289513, 0.052046436816453934, 0.0333535373210907, 0.03880883753299713, 0.012695509940385818, 0.0, 0.0, 0.0, 0.0, 0.0, 0.0], [0.11854355782270432, 0.013350943103432655, 0.013422033749520779, 0.03027322143316269, 0.026162942871451378, 0.02077622339129448, 0.02128022350370884, 0.03798936679959297, 0.03536442667245865, 0.03665180131793022, 0.0220040250569582, 0.01538002211600542, 0.0300231222063303, 0.02329968474805355, 0.030007541179656982, 0.014861371368169785, 0.024521933868527412, 0.039998020976781845, 0.03900154307484627, 0.03600770980119705, 0.026851195842027664, 0.06795871257781982, 0.03893129527568817, 0.05725805088877678, 0.06659834831953049, 0.030756846070289612, 0.023343201726675034, 0.05938270688056946, 0.0, 0.0, 0.0, 0.0, 0.0], [0.25091859698295593, 0.01135188713669777, 0.023033952340483665, 0.01884976588189602, 0.013208827003836632, 0.016430402174592018, 0.037636976689100266, 0.021519416943192482, 0.038231465965509415, 0.031223101541399956, 0.01608109287917614, 0.017179014161229134, 0.0823964923620224, 0.015775417909026146, 0.049693092703819275, 0.033979009836912155, 0.016469132155179977, 0.025656120851635933, 0.053269315510988235, 0.024380967020988464, 0.01703289896249771, 0.031062571331858635, 0.014834268018603325, 0.04310781508684158, 0.02781837061047554, 0.015127929858863354, 0.012749835848808289, 0.02685268595814705, 0.01412958838045597, 0.0, 0.0, 0.0, 0.0], [0.19256946444511414, 0.02283366583287716, 0.014495886862277985, 0.028055017814040184, 0.03290427476167679, 0.018577096983790398, 0.023776739835739136, 0.014988924376666546, 0.027755489572882652, 0.019952142611145973, 0.01842689700424671, 0.026808494701981544, 0.04026195779442787, 0.01895735040307045, 0.019980253651738167, 0.03905028477311134, 0.019494332373142242, 0.030714325606822968, 0.07932320982217789, 0.03619769588112831, 0.020379597321152687, 0.023319311439990997, 0.018723849207162857, 0.05692767724394798, 0.023927558213472366, 0.03924325853586197, 0.021783510223031044, 0.0203742366284132, 0.04178830608725548, 0.008409243077039719, 0.0, 0.0, 0.0], [0.18919390439987183, 0.014352063648402691, 0.027829360216856003, 0.01893606409430504, 0.05455232784152031, 0.0243024043738842, 0.0207525622099638, 0.03050178475677967, 0.016900425776839256, 0.029904041439294815, 0.02311178296804428, 0.021664848551154137, 0.0333598256111145, 0.02305050566792488, 0.02792702056467533, 0.026253478601574898, 0.024257950484752655, 0.024394983425736427, 0.01766667142510414, 0.02208106406033039, 0.025441516190767288, 0.023996727541089058, 0.015941394492983818, 0.021863466128706932, 0.048762768507003784, 0.010234055109322071, 0.025762956589460373, 0.0619233064353466, 0.06737110763788223, 0.0181841179728508, 0.009525511413812637, 0.0, 0.0], [0.27111947536468506, 0.05460575222969055, 0.03970599174499512, 0.035128965973854065, 0.020313765853643417, 0.008183863013982773, 0.022556625306606293, 0.014036434702575207, 0.026198476552963257, 0.032355353236198425, 0.007185026537626982, 0.010813486762344837, 0.05162609741091728, 0.007057545706629753, 0.04232775419950485, 0.01850597746670246, 0.006952997297048569, 0.012550851330161095, 0.03785516321659088, 0.01478738896548748, 0.007130768150091171, 0.018956724554300308, 0.010758968070149422, 0.023540524765849113, 0.016256211325526237, 0.007915410213172436, 0.036523111164569855, 0.014562290161848068, 0.019251467660069466, 0.01091182790696621, 0.0343967005610466, 0.06592904776334763, 0.0], [0.14836545288562775, 0.014506896026432514, 0.007646299432963133, 0.011038762517273426, 0.026302486658096313, 0.01319483295083046, 0.027184898033738136, 0.017392195761203766, 0.016122128814458847, 0.032880790531635284, 0.014050274156033993, 0.0071673463098704815, 0.0161200612783432, 0.014647033996880054, 0.018450891599059105, 0.013102111406624317, 0.015283212997019291, 0.014543001540005207, 0.05961215868592262, 0.022383887320756912, 0.016796983778476715, 0.10928262770175934, 0.07264000177383423, 0.08393702656030655, 0.025248989462852478, 0.037748467177152634, 0.016226934269070625, 0.024953903630375862, 0.042165812104940414, 0.0045258114114403725, 0.014491364359855652, 0.019145706668496132, 0.02284165658056736]], [[1.0, 0.0, 0.0, 0.0, 0.0, 0.0, 0.0, 0.0, 0.0, 0.0, 0.0, 0.0, 0.0, 0.0, 0.0, 0.0, 0.0, 0.0, 0.0, 0.0, 0.0, 0.0, 0.0, 0.0, 0.0, 0.0, 0.0, 0.0, 0.0, 0.0, 0.0, 0.0, 0.0], [0.09646996110677719, 0.9035300612449646, 0.0, 0.0, 0.0, 0.0, 0.0, 0.0, 0.0, 0.0, 0.0, 0.0, 0.0, 0.0, 0.0, 0.0, 0.0, 0.0, 0.0, 0.0, 0.0, 0.0, 0.0, 0.0, 0.0, 0.0, 0.0, 0.0, 0.0, 0.0, 0.0, 0.0, 0.0], [0.043252330273389816, 0.08177745342254639, 0.8749701976776123, 0.0, 0.0, 0.0, 0.0, 0.0, 0.0, 0.0, 0.0, 0.0, 0.0, 0.0, 0.0, 0.0, 0.0, 0.0, 0.0, 0.0, 0.0, 0.0, 0.0, 0.0, 0.0, 0.0, 0.0, 0.0, 0.0, 0.0, 0.0, 0.0, 0.0], [0.09995388984680176, 0.025312740355730057, 0.020108073949813843, 0.8546252846717834, 0.0, 0.0, 0.0, 0.0, 0.0, 0.0, 0.0, 0.0, 0.0, 0.0, 0.0, 0.0, 0.0, 0.0, 0.0, 0.0, 0.0, 0.0, 0.0, 0.0, 0.0, 0.0, 0.0, 0.0, 0.0, 0.0, 0.0, 0.0, 0.0], [0.024889355525374413, 0.0032073550391942263, 0.0018421629210934043, 0.022361528128385544, 0.9476996660232544, 0.0, 0.0, 0.0, 0.0, 0.0, 0.0, 0.0, 0.0, 0.0, 0.0, 0.0, 0.0, 0.0, 0.0, 0.0, 0.0, 0.0, 0.0, 0.0, 0.0, 0.0, 0.0, 0.0, 0.0, 0.0, 0.0, 0.0, 0.0], [0.1073237806558609, 0.01784168742597103, 0.019553352147340775, 0.043333251029253006, 0.10211498290300369, 0.7098329663276672, 0.0, 0.0, 0.0, 0.0, 0.0, 0.0, 0.0, 0.0, 0.0, 0.0, 0.0, 0.0, 0.0, 0.0, 0.0, 0.0, 0.0, 0.0, 0.0, 0.0, 0.0, 0.0, 0.0, 0.0, 0.0, 0.0, 0.0], [0.0064263553358614445, 0.0004479784402064979, 0.00014756589371245354, 0.0004693674563895911, 0.0014411874581128359, 0.0038596985395997763, 0.98720782995224, 0.0, 0.0, 0.0, 0.0, 0.0, 0.0, 0.0, 0.0, 0.0, 0.0, 0.0, 0.0, 0.0, 0.0, 0.0, 0.0, 0.0, 0.0, 0.0, 0.0, 0.0, 0.0, 0.0, 0.0, 0.0, 0.0], [0.0010354589903727174, 0.00019901896303053945, 0.00016020413022488356, 6.937291618669406e-05, 0.00038674141978845, 0.005171590484678745, 0.8964057564735413, 0.09657183289527893, 0.0, 0.0, 0.0, 0.0, 0.0, 0.0, 0.0, 0.0, 0.0, 0.0, 0.0, 0.0, 0.0, 0.0, 0.0, 0.0, 0.0, 0.0, 0.0, 0.0, 0.0, 0.0, 0.0, 0.0, 0.0], [0.0012883328599855304, 0.0003233453317079693, 0.00026527189766056836, 0.0002549063938204199, 0.00020129844779148698, 0.00010049015691038221, 0.0005700886249542236, 0.0004091303562745452, 0.9965871572494507, 0.0, 0.0, 0.0, 0.0, 0.0, 0.0, 0.0, 0.0, 0.0, 0.0, 0.0, 0.0, 0.0, 0.0, 0.0, 0.0, 0.0, 0.0, 0.0, 0.0, 0.0, 0.0, 0.0, 0.0], [0.00018741606618277729, 1.6196561773540452e-05, 4.2281044443370774e-06, 0.00028758938424289227, 1.1125726814498194e-05, 9.805675290408544e-06, 0.0001556722418172285, 7.632972119608894e-05, 0.0034869126975536346, 0.9957647323608398, 0.0, 0.0, 0.0, 0.0, 0.0, 0.0, 0.0, 0.0, 0.0, 0.0, 0.0, 0.0, 0.0, 0.0, 0.0, 0.0, 0.0, 0.0, 0.0, 0.0, 0.0, 0.0, 0.0], [0.01574152335524559, 0.0006393621442839503, 0.00045715313171967864, 0.0009912536479532719, 0.002114035887643695, 0.01808977499604225, 0.04712040349841118, 0.07010909169912338, 0.061528369784355164, 0.27690398693084717, 0.5063050389289856, 0.0, 0.0, 0.0, 0.0, 0.0, 0.0, 0.0, 0.0, 0.0, 0.0, 0.0, 0.0, 0.0, 0.0, 0.0, 0.0, 0.0, 0.0, 0.0, 0.0, 0.0, 0.0], [0.000616659817751497, 0.0005207078065723181, 4.61151976196561e-05, 0.0014613015810027719, 0.0005623751203529537, 4.447595347301103e-05, 0.0003653964668046683, 0.0002860163222067058, 0.0045061269775033, 0.0058165183290839195, 0.0007244537118822336, 0.9850499033927917, 0.0, 0.0, 0.0, 0.0, 0.0, 0.0, 0.0, 0.0, 0.0, 0.0, 0.0, 0.0, 0.0, 0.0, 0.0, 0.0, 0.0, 0.0, 0.0, 0.0, 0.0], [0.0010478597832843661, 3.0628263630205765e-05, 0.00017345046217087656, 5.423134643933736e-05, 6.388442125171423e-05, 1.12611596705392e-05, 1.7169008060591295e-05, 1.3931321518612094e-05, 0.0020760451443493366, 0.0002692688431125134, 0.00015268517017830163, 0.003684435738250613, 0.992405116558075, 0.0, 0.0, 0.0, 0.0, 0.0, 0.0, 0.0, 0.0, 0.0, 0.0, 0.0, 0.0, 0.0, 0.0, 0.0, 0.0, 0.0, 0.0, 0.0, 0.0], [0.010746284388005733, 0.00025354386889375746, 0.00015322949911933392, 0.00029287036159075797, 0.0005376797053031623, 0.004423543345183134, 0.009884342551231384, 0.012843035161495209, 0.012738630175590515, 0.059668585658073425, 0.1077299490571022, 0.02474571205675602, 0.07808705419301987, 0.6778954863548279, 0.0, 0.0, 0.0, 0.0, 0.0, 0.0, 0.0, 0.0, 0.0, 0.0, 0.0, 0.0, 0.0, 0.0, 0.0, 0.0, 0.0, 0.0, 0.0], [0.00041218000114895403, 2.6218738639727235e-05, 1.7755904991645366e-05, 0.00019181902462150902, 3.2979462503135437e-06, 3.912674856110243e-06, 1.0438077879371122e-05, 4.9068494263337925e-06, 0.0005868567386642098, 0.003038148395717144, 3.693124745041132e-05, 0.0007724304450675845, 0.009622619487345219, 0.00016094396414700896, 0.9851114153862, 0.0, 0.0, 0.0, 0.0, 0.0, 0.0, 0.0, 0.0, 0.0, 0.0, 0.0, 0.0, 0.0, 0.0, 0.0, 0.0, 0.0, 0.0], [0.00010886602831305936, 3.5845484944729833e-06, 5.1916676966357045e-06, 3.083846240770072e-05, 1.840876393544022e-05, 7.954773764140555e-07, 3.35321396960353e-06, 6.574377493961947e-06, 0.0007270953501574695, 0.001823249040171504, 7.853280294511933e-06, 0.00030627509113401175, 0.0069750514812767506, 3.4850967495003715e-05, 0.028292760252952576, 0.9616552591323853, 0.0, 0.0, 0.0, 0.0, 0.0, 0.0, 0.0, 0.0, 0.0, 0.0, 0.0, 0.0, 0.0, 0.0, 0.0, 0.0, 0.0], [0.006073985248804092, 8.815209002932534e-05, 4.583780173561536e-05, 8.250489918282256e-05, 0.00012720428640022874, 0.0009312523761764169, 0.0016700003761798143, 0.0019381941528990865, 0.002101697027683258, 0.01013166829943657, 0.01604730263352394, 0.0038353854324668646, 0.012242143973708153, 0.10037072747945786, 0.07853131741285324, 0.10997360199689865, 0.6558090448379517, 0.0, 0.0, 0.0, 0.0, 0.0, 0.0, 0.0, 0.0, 0.0, 0.0, 0.0, 0.0, 0.0, 0.0, 0.0, 0.0], [0.0021863048896193504, 1.18929583550198e-05, 1.673598490015138e-05, 2.081546153931413e-05, 2.116258292517159e-05, 0.0007714935345575213, 0.0008652121759951115, 0.0005560305435210466, 0.00015655922470614314, 0.0019499929621815681, 0.010891212150454521, 0.00039543170714750886, 0.0015144755598157644, 0.06916321069002151, 0.004308112896978855, 0.0040351711213588715, 0.49397021532058716, 0.40916597843170166, 0.0, 0.0, 0.0, 0.0, 0.0, 0.0, 0.0, 0.0, 0.0, 0.0, 0.0, 0.0, 0.0, 0.0, 0.0], [1.9797989807557315e-05, 4.972388865098765e-07, 9.165694869750496e-09, 1.32304037947506e-07, 5.60181163677953e-08, 1.1903900087872898e-08, 6.15311137153185e-07, 4.068542480695214e-08, 4.517450634011766e-06, 1.4017764442542102e-05, 1.6456900198136282e-07, 1.0863813031392056e-06, 7.444054062943906e-06, 1.0056664905278012e-06, 2.759499693638645e-05, 0.00031377977575175464, 6.201131327543408e-06, 8.213378350774292e-06, 0.9995948672294617, 0.0, 0.0, 0.0, 0.0, 0.0, 0.0, 0.0, 0.0, 0.0, 0.0, 0.0, 0.0, 0.0, 0.0], [6.497165941254934e-06, 8.692017559042142e-07, 1.4051402104087174e-06, 3.7704819533246337e-07, 3.329171818222676e-07, 6.104971816967009e-08, 2.5430095362821703e-08, 1.1067756844340693e-07, 3.670879959827289e-05, 5.704807222173258e-07, 6.172357416289742e-07, 0.00015627960965503007, 0.0001473792508477345, 3.0103838071227074e-06, 6.130670226411894e-05, 0.001776988967321813, 1.8545933926361613e-05, 3.4263121051480994e-05, 0.9233513474464417, 0.07440327107906342, 0.0, 0.0, 0.0, 0.0, 0.0, 0.0, 0.0, 0.0, 0.0, 0.0, 0.0, 0.0, 0.0], [0.0036490047350525856, 3.7494435673579574e-05, 1.747077112668194e-05, 2.84492525679525e-05, 3.3124211768154055e-05, 0.00019569217693060637, 0.00026475952472537756, 0.0002469043538440019, 0.0002803318784572184, 0.0013949185376986861, 0.0017910298192873597, 0.00042467989260330796, 0.0014623702736571431, 0.009717756882309914, 0.008053949102759361, 0.013200578279793262, 0.06315957754850388, 0.0715278685092926, 0.0752311497926712, 0.02420508861541748, 0.7250776886940002, 0.0, 0.0, 0.0, 0.0, 0.0, 0.0, 0.0, 0.0, 0.0, 0.0, 0.0, 0.0], [0.0006410912610590458, 3.925715645891614e-06, 1.1607382930378662e-06, 1.5375495650005178e-06, 9.072658144759771e-07, 8.058212188188918e-06, 1.3223982023191638e-05, 4.619927949534031e-06, 3.678849679999985e-05, 4.565183917293325e-05, 7.577823271276429e-05, 2.2741774955647998e-05, 5.668473750120029e-05, 0.0004737515118904412, 0.0003640778595581651, 0.0004240030248183757, 0.00375733501277864, 0.004363134503364563, 0.007395247928798199, 0.0050226361490786076, 0.05575628951191902, 0.9215313792228699, 0.0, 0.0, 0.0, 0.0, 0.0, 0.0, 0.0, 0.0, 0.0, 0.0, 0.0], [0.0005377686466090381, 8.122560188894568e-07, 2.3018608317215694e-06, 1.4700387964694528e-06, 1.8703665318753337e-06, 6.024505978530215e-07, 4.127834017708665e-06, 1.6705749885659316e-06, 2.0471961761359125e-06, 7.430034020217136e-05, 3.5942298381996807e-06, 7.1715162448526826e-06, 3.052826286875643e-05, 1.8927757992059924e-05, 0.00025438779266551137, 0.00019496388267725706, 0.00012626514944713563, 0.00018230538989882916, 0.003735229140147567, 0.0006727119325660169, 0.0015798317035660148, 0.011177671141922474, 0.981389582157135, 0.0, 0.0, 0.0, 0.0, 0.0, 0.0, 0.0, 0.0, 0.0, 0.0], [8.512816566508263e-05, 4.87087106648687e-07, 1.245895759893756e-06, 2.0811260981190571e-07, 1.9242847315581457e-07, 3.704024820194718e-08, 4.555244288440008e-07, 5.5045465074954336e-08, 1.5320382544814493e-06, 5.083305495645618e-06, 2.140094181868335e-07, 1.4595295851904666e-06, 1.4768361324968282e-05, 1.063502395481919e-06, 2.946156746475026e-05, 5.7288114476250485e-05, 6.615675374632701e-06, 7.844217179808766e-06, 0.00015063858882058412, 0.00022636938956566155, 7.973588799359277e-05, 0.00013040847261436284, 0.010868416167795658, 0.9883313775062561, 0.0, 0.0, 0.0, 0.0, 0.0, 0.0, 0.0, 0.0, 0.0], [0.00041663250885903835, 2.2503752461489057e-06, 5.270546353131067e-06, 2.7549111109692603e-05, 3.963060225942172e-05, 7.514734079450136e-06, 8.100922968878876e-06, 1.1581339094846044e-05, 1.3205999493948184e-05, 6.750727334292606e-05, 2.521278292988427e-05, 1.486072414991213e-05, 7.521713996538892e-05, 0.00011457482469268143, 0.0002574530662968755, 0.00036668559187091887, 0.0006904733018018305, 0.001451848540455103, 0.0032460202928632498, 0.0006353398784995079, 0.008745581842958927, 0.015190876089036465, 0.018150165677070618, 0.13303321599960327, 0.8174031376838684, 0.0, 0.0, 0.0, 0.0, 0.0, 0.0, 0.0, 0.0], [1.6739269995014183e-05, 8.245316962529614e-08, 3.25738582773738e-08, 2.8737394686118023e-08, 1.6217680354202457e-07, 1.5275384290802663e-09, 2.327868919849152e-08, 5.576728856482305e-09, 1.2825790918213897e-07, 1.3429448131319077e-07, 6.160560950263516e-09, 2.523252362607309e-07, 3.205750772394822e-06, 2.627727724302531e-08, 7.619962616445264e-07, 7.901952812972013e-06, 1.3940439202997368e-07, 1.955259563146683e-07, 0.00032022586674429476, 8.173670380529074e-07, 1.5630018879164709e-06, 3.76315961148066e-06, 0.0007450502598658204, 0.0037152233999222517, 3.934420601581223e-05, 0.995144248008728, 0.0, 0.0, 0.0, 0.0, 0.0, 0.0, 0.0], [0.00023842244991101325, 5.040096311859088e-06, 1.3208579048296087e-06, 8.599819921073504e-06, 5.166059054317884e-06, 1.3470939563831053e-07, 6.710810112053878e-07, 2.699698029573483e-07, 6.345737801893847e-06, 4.417831587488763e-05, 2.7444932015896484e-07, 2.0171175492578186e-05, 1.652665923757013e-05, 8.12277562545205e-07, 0.00010771013330668211, 0.00012397419777698815, 3.507592055029818e-06, 8.50584820000222e-06, 6.980268517509103e-05, 0.00026813638396561146, 2.879286876122933e-05, 0.00011957917740801349, 0.0001296166592510417, 0.0074259378015995026, 0.0007109709549695253, 0.005815007723867893, 0.9848405718803406, 0.0, 0.0, 0.0, 0.0, 0.0, 0.0], [0.0004089958674740046, 6.095389153415454e-07, 1.996391347347526e-06, 9.310349014413077e-06, 3.7690572298743064e-06, 1.9876581518474268e-06, 4.5765563072563964e-07, 1.0690744147723308e-06, 3.0871860872139223e-06, 9.211415999743622e-06, 4.724370228359476e-06, 1.207006789627485e-06, 5.095625965623185e-06, 1.8047137928078882e-05, 4.8578702262602746e-05, 4.169387466390617e-05, 0.00010537485650274903, 0.00022466870723292232, 0.0001152864788309671, 0.0002492896746844053, 0.001367313088849187, 0.001619034563191235, 0.001327512669377029, 0.0034917809534817934, 0.06305662542581558, 0.006469064857810736, 0.09512645751237869, 0.8262878656387329, 0.0, 0.0, 0.0, 0.0, 0.0], [0.00031804668833501637, 1.418182819179492e-06, 3.185497803315229e-07, 2.782310730253812e-06, 5.3885887609794736e-05, 4.300602540752152e-08, 5.386270913732005e-07, 8.497841008647811e-08, 5.999704058012867e-07, 4.110325789952185e-06, 7.099399823573549e-08, 8.45432396090473e-07, 2.526612888686941e-06, 2.198386539475905e-07, 6.09825247011031e-06, 2.1129988454049453e-05, 9.41176608648675e-07, 9.950396133717732e-07, 3.0413633794523776e-05, 2.976995119752246e-06, 8.453876944258809e-06, 2.600709194666706e-05, 0.00023055810015648603, 0.0013383397599682212, 0.00021758259390480816, 0.007014404982328415, 0.017924029380083084, 0.0005302666104398668, 0.9722622632980347, 0.0, 0.0, 0.0, 0.0], [1.8505350851683033e-07, 5.565691907349901e-09, 7.262697110377303e-10, 7.745998509278706e-09, 1.507950919688028e-08, 8.228505654628293e-10, 1.7915415817526537e-09, 1.7345647140842857e-09, 1.0962556196147943e-08, 5.003294134553471e-08, 3.922823843538481e-09, 1.0013925333396401e-07, 2.3337790366895206e-08, 1.6555286919128775e-08, 5.17133997846031e-08, 1.6146071857292554e-07, 9.827883218349598e-08, 2.707449482386437e-07, 5.4119923333928455e-06, 2.5083886612264905e-07, 1.1805979056589422e-06, 2.8004258183500497e-06, 4.61038098364952e-06, 0.00022679298126604408, 5.7942259445553645e-05, 0.0004519559151958674, 0.00011976490350207314, 0.0002398078650003299, 0.001874003792181611, 0.9970145225524902, 0.0, 0.0, 0.0], [4.3474614358274266e-05, 2.968868784591905e-06, 3.919368225524522e-07, 9.117064792008023e-07, 4.3644891434269084e-07, 4.686590227009901e-09, 9.240359588602587e-08, 1.2419347328318509e-08, 7.188963024873374e-08, 6.304530302259082e-07, 6.1088996083924485e-09, 1.998715646323035e-07, 1.4578672562493011e-06, 1.4727369546108093e-08, 1.7957358977582771e-07, 2.6422658265801147e-05, 5.112666201512184e-08, 4.710682333097793e-08, 0.001576117821969092, 2.19894513975305e-06, 3.333985318931809e-07, 2.181487388952519e-06, 0.0001624038995942101, 0.001777766039595008, 1.1749250916182064e-05, 0.003616093657910824, 6.199470954015851e-05, 3.516822835081257e-05, 0.0011488693999126554, 0.016085602343082428, 0.975442111492157, 0.0, 0.0], [0.0011562949512153864, 6.1990413087187335e-06, 6.137789227977919e-07, 3.10267205350101e-06, 8.228416277233919e-07, 4.366036066016932e-08, 9.363255060179654e-08, 2.7735492125202654e-08, 5.10952929744235e-07, 1.2355284297882463e-06, 3.825297412163309e-08, 1.127227392316854e-06, 1.9008953131560702e-06, 8.71407408453706e-08, 5.398193025030196e-06, 7.393430678348523e-06, 3.128872663182847e-07, 3.0146313179102435e-07, 0.00013595339260064065, 1.3343834325496573e-05, 2.3996453819563612e-06, 3.87126965506468e-05, 0.0008219620794989169, 0.0006131281261332333, 2.1518419089261442e-05, 0.00414072722196579, 0.0008760862983763218, 0.00011684626224450767, 0.002159067429602146, 0.02752530202269554, 0.044349756091833115, 0.9179997444152832, 0.0], [0.0031942890491336584, 4.6816658141324297e-05, 3.499123340588994e-05, 2.7043099180446006e-05, 1.4000303963257466e-05, 1.7085108993342146e-05, 8.05188301455928e-06, 3.909829956683097e-06, 1.0716924407461192e-05, 1.7930773537955247e-05, 1.42074668474379e-05, 2.6911222448688932e-05, 2.6411988073959947e-05, 3.1100189517019317e-05, 1.1198587344551925e-05, 5.485487781697884e-05, 0.00011474452912807465, 0.00010493661102373153, 0.0002806300180964172, 0.00020839046919718385, 0.0009329255553893745, 0.0018989982781931758, 0.0011267572408542037, 0.0019257251406088471, 0.003917156718671322, 0.007499443367123604, 0.010695923119783401, 0.02319985441863537, 0.03039810061454773, 0.12729337811470032, 0.043253201991319656, 0.17668065428733826, 0.5669296979904175]], [[1.0, 0.0, 0.0, 0.0, 0.0, 0.0, 0.0, 0.0, 0.0, 0.0, 0.0, 0.0, 0.0, 0.0, 0.0, 0.0, 0.0, 0.0, 0.0, 0.0, 0.0, 0.0, 0.0, 0.0, 0.0, 0.0, 0.0, 0.0, 0.0, 0.0, 0.0, 0.0, 0.0], [0.2530861794948578, 0.7469137907028198, 0.0, 0.0, 0.0, 0.0, 0.0, 0.0, 0.0, 0.0, 0.0, 0.0, 0.0, 0.0, 0.0, 0.0, 0.0, 0.0, 0.0, 0.0, 0.0, 0.0, 0.0, 0.0, 0.0, 0.0, 0.0, 0.0, 0.0, 0.0, 0.0, 0.0, 0.0], [0.30671587586402893, 0.3290638327598572, 0.3642202317714691, 0.0, 0.0, 0.0, 0.0, 0.0, 0.0, 0.0, 0.0, 0.0, 0.0, 0.0, 0.0, 0.0, 0.0, 0.0, 0.0, 0.0, 0.0, 0.0, 0.0, 0.0, 0.0, 0.0, 0.0, 0.0, 0.0, 0.0, 0.0, 0.0, 0.0], [0.07416976243257523, 0.16189678013324738, 0.05432591959834099, 0.7096076011657715, 0.0, 0.0, 0.0, 0.0, 0.0, 0.0, 0.0, 0.0, 0.0, 0.0, 0.0, 0.0, 0.0, 0.0, 0.0, 0.0, 0.0, 0.0, 0.0, 0.0, 0.0, 0.0, 0.0, 0.0, 0.0, 0.0, 0.0, 0.0, 0.0], [0.1668822318315506, 0.03901786357164383, 0.038224611431360245, 0.21398358047008514, 0.5418916344642639, 0.0, 0.0, 0.0, 0.0, 0.0, 0.0, 0.0, 0.0, 0.0, 0.0, 0.0, 0.0, 0.0, 0.0, 0.0, 0.0, 0.0, 0.0, 0.0, 0.0, 0.0, 0.0, 0.0, 0.0, 0.0, 0.0, 0.0, 0.0], [0.1948363482952118, 0.21119250357151031, 0.05150565505027771, 0.08703834563493729, 0.22999553382396698, 0.22543160617351532, 0.0, 0.0, 0.0, 0.0, 0.0, 0.0, 0.0, 0.0, 0.0, 0.0, 0.0, 0.0, 0.0, 0.0, 0.0, 0.0, 0.0, 0.0, 0.0, 0.0, 0.0, 0.0, 0.0, 0.0, 0.0, 0.0, 0.0], [0.1390012949705124, 0.029748644679784775, 0.038606975227594376, 0.05133270472288132, 0.19284242391586304, 0.08012371510267258, 0.46834421157836914, 0.0, 0.0, 0.0, 0.0, 0.0, 0.0, 0.0, 0.0, 0.0, 0.0, 0.0, 0.0, 0.0, 0.0, 0.0, 0.0, 0.0, 0.0, 0.0, 0.0, 0.0, 0.0, 0.0, 0.0, 0.0, 0.0], [0.08969781547784805, 0.04080604389309883, 0.034733109176158905, 0.08414531499147415, 0.09911052882671356, 0.07059448957443237, 0.1361658126115799, 0.4447469115257263, 0.0, 0.0, 0.0, 0.0, 0.0, 0.0, 0.0, 0.0, 0.0, 0.0, 0.0, 0.0, 0.0, 0.0, 0.0, 0.0, 0.0, 0.0, 0.0, 0.0, 0.0, 0.0, 0.0, 0.0, 0.0], [0.05986519157886505, 0.020190469920635223, 0.01878531090915203, 0.10584733635187149, 0.05794878676533699, 0.027517732232809067, 0.056663159281015396, 0.08226761221885681, 0.5709144473075867, 0.0, 0.0, 0.0, 0.0, 0.0, 0.0, 0.0, 0.0, 0.0, 0.0, 0.0, 0.0, 0.0, 0.0, 0.0, 0.0, 0.0, 0.0, 0.0, 0.0, 0.0, 0.0, 0.0, 0.0], [0.010379270650446415, 0.0046982537023723125, 0.004143986850976944, 0.007291409652680159, 0.0062566958367824554, 0.0033180483151227236, 0.009175030514597893, 0.01875440776348114, 0.033931486308574677, 0.9020513892173767, 0.0, 0.0, 0.0, 0.0, 0.0, 0.0, 0.0, 0.0, 0.0, 0.0, 0.0, 0.0, 0.0, 0.0, 0.0, 0.0, 0.0, 0.0, 0.0, 0.0, 0.0, 0.0, 0.0], [0.0727011188864708, 0.047764845192432404, 0.0105003472417593, 0.0161594208329916, 0.04617821052670479, 0.05249457061290741, 0.05184571072459221, 0.21189512312412262, 0.0351581946015358, 0.17267189919948578, 0.2826306223869324, 0.0, 0.0, 0.0, 0.0, 0.0, 0.0, 0.0, 0.0, 0.0, 0.0, 0.0, 0.0, 0.0, 0.0, 0.0, 0.0, 0.0, 0.0, 0.0, 0.0, 0.0, 0.0], [0.01512688398361206, 0.004731185734272003, 0.0023226304911077023, 0.006575732957571745, 0.018362442031502724, 0.003339663613587618, 0.008784224279224873, 0.007409727666527033, 0.006289798766374588, 0.07638940215110779, 0.012003467418253422, 0.838664710521698, 0.0, 0.0, 0.0, 0.0, 0.0, 0.0, 0.0, 0.0, 0.0, 0.0, 0.0, 0.0, 0.0, 0.0, 0.0, 0.0, 0.0, 0.0, 0.0, 0.0, 0.0], [0.0323319174349308, 0.010628955438733101, 0.0026151640340685844, 0.0011762919602915645, 0.003093283623456955, 0.0015055524418130517, 0.007079715374857187, 0.0028344665188342333, 0.005003889091312885, 0.012032583355903625, 0.003987772855907679, 0.05187240615487099, 0.8658380508422852, 0.0, 0.0, 0.0, 0.0, 0.0, 0.0, 0.0, 0.0, 0.0, 0.0, 0.0, 0.0, 0.0, 0.0, 0.0, 0.0, 0.0, 0.0, 0.0, 0.0], [0.05045589059591293, 0.02653886377811432, 0.005783278029412031, 0.008087296970188618, 0.021799389272928238, 0.02567034773528576, 0.022779051214456558, 0.09139904379844666, 0.015017380006611347, 0.07093919813632965, 0.12448637932538986, 0.1266832947731018, 0.061021339148283005, 0.34933924674987793, 0.0, 0.0, 0.0, 0.0, 0.0, 0.0, 0.0, 0.0, 0.0, 0.0, 0.0, 0.0, 0.0, 0.0, 0.0, 0.0, 0.0, 0.0, 0.0], [0.054741282016038895, 0.05296848714351654, 0.003988125827163458, 0.012351621873676777, 0.004415623378008604, 0.003596278838813305, 0.01138570811599493, 0.009828057140111923, 0.014749735593795776, 0.07078831642866135, 0.011209183372557163, 0.05164056271314621, 0.1973438411951065, 0.027129290625452995, 0.47386395931243896, 0.0, 0.0, 0.0, 0.0, 0.0, 0.0, 0.0, 0.0, 0.0, 0.0, 0.0, 0.0, 0.0, 0.0, 0.0, 0.0, 0.0, 0.0], [0.007163068745285273, 0.00496384734287858, 0.0027692283038049936, 0.0019424417987465858, 0.010544735938310623, 0.001414488535374403, 0.003663665149360895, 0.0031499520409852266, 0.005481299478560686, 0.02161404676735401, 0.003922199830412865, 0.07935080677270889, 0.22477902472019196, 0.009166966192424297, 0.027402665466070175, 0.5926715731620789, 0.0, 0.0, 0.0, 0.0, 0.0, 0.0, 0.0, 0.0, 0.0, 0.0, 0.0, 0.0, 0.0, 0.0, 0.0, 0.0, 0.0], [0.034611042588949203, 0.015296343713998795, 0.0030951248481869698, 0.0038990944158285856, 0.009989400394260883, 0.011446865275502205, 0.009189367294311523, 0.03356512263417244, 0.005761215928941965, 0.025581033900380135, 0.04384686425328255, 0.045213598757982254, 0.020553389564156532, 0.11962335556745529, 0.1567324548959732, 0.13173452019691467, 0.32986122369766235, 0.0, 0.0, 0.0, 0.0, 0.0, 0.0, 0.0, 0.0, 0.0, 0.0, 0.0, 0.0, 0.0, 0.0, 0.0, 0.0], [0.017253875732421875, 0.004397528246045113, 0.004968693014234304, 0.00706431595608592, 0.00663489755243063, 0.0069109536707401276, 0.011386911384761333, 0.01617850549519062, 0.02031775377690792, 0.02039681375026703, 0.023422107100486755, 0.018909141421318054, 0.04024205729365349, 0.06200673058629036, 0.11645369231700897, 0.07975105941295624, 0.16864478588104248, 0.37506020069122314, 0.0, 0.0, 0.0, 0.0, 0.0, 0.0, 0.0, 0.0, 0.0, 0.0, 0.0, 0.0, 0.0, 0.0, 0.0], [0.002459117444232106, 0.00024919764837250113, 3.40046281053219e-05, 0.00021132959227543324, 0.00020066798606421798, 0.00012589269317686558, 0.0003650689322967082, 0.0003735979844350368, 0.00013798550935462117, 0.00047022145008668303, 0.0002715182490646839, 0.0034170765429735184, 0.0006049812072888017, 0.0005454614874906838, 0.0008937683305703104, 0.0015852140495553613, 0.001215076306834817, 0.00282126828096807, 0.9840186238288879, 0.0, 0.0, 0.0, 0.0, 0.0, 0.0, 0.0, 0.0, 0.0, 0.0, 0.0, 0.0, 0.0, 0.0], [0.00015282446111086756, 0.03892362862825394, 0.00047151994658634067, 0.0003731817414518446, 3.271796595072374e-05, 1.0635612852638587e-05, 3.824583473033272e-06, 1.3244705769466236e-05, 6.418923294404522e-05, 2.734439476625994e-05, 2.8319980629021302e-05, 0.002229569014161825, 0.0013866388471797109, 7.163531699916348e-05, 0.00014025566633790731, 0.008246440440416336, 0.00019678652461152524, 0.00020546666928566992, 0.8976380228996277, 0.04978383705019951, 0.0, 0.0, 0.0, 0.0, 0.0, 0.0, 0.0, 0.0, 0.0, 0.0, 0.0, 0.0, 0.0], [0.026458073407411575, 0.010410867631435394, 0.002133253961801529, 0.002456014510244131, 0.005542593076825142, 0.005954565480351448, 0.004195827525109053, 0.01345153246074915, 0.0023519506212323904, 0.009471960365772247, 0.015433425083756447, 0.014804950915277004, 0.006865762174129486, 0.037873126566410065, 0.04744935780763626, 0.045472823083400726, 0.1019916981458664, 0.08666389435529709, 0.06470181792974472, 0.10160758346319199, 0.39470887184143066, 0.0, 0.0, 0.0, 0.0, 0.0, 0.0, 0.0, 0.0, 0.0, 0.0, 0.0, 0.0], [0.021157898008823395, 0.0035484337713569403, 0.0017441116506233811, 0.003509306348860264, 0.004201892763376236, 0.002577780047431588, 0.004015856888145208, 0.004598997998982668, 0.003955158405005932, 0.006455839145928621, 0.005907897371798754, 0.003733161836862564, 0.009013405069708824, 0.013927989639341831, 0.029895814135670662, 0.02008231170475483, 0.038044437766075134, 0.0688309296965599, 0.08152899146080017, 0.03834027051925659, 0.15160256624221802, 0.48332688212394714, 0.0, 0.0, 0.0, 0.0, 0.0, 0.0, 0.0, 0.0, 0.0, 0.0, 0.0], [0.001421168097294867, 0.0004069011483807117, 0.00027144234627485275, 0.0014869226142764091, 0.0006475148838944733, 0.00025671522598713636, 0.0002729765838012099, 0.0005059848190285265, 0.0001753750693751499, 0.0012059594737365842, 0.0005902893608435988, 0.00043073916458524764, 0.0003699958324432373, 0.0013322830200195312, 0.0007594269700348377, 0.002518308814615011, 0.0035999813117086887, 0.004756716545671225, 0.011892937123775482, 0.0034102164208889008, 0.013851100578904152, 0.05907326191663742, 0.8907636404037476, 0.0, 0.0, 0.0, 0.0, 0.0, 0.0, 0.0, 0.0, 0.0, 0.0], [0.0050588687881827354, 0.0008823552052490413, 0.0015358285745605826, 0.0016909887781366706, 0.0013438741443678737, 0.0004949714639224112, 0.000657226366456598, 0.0005521592684090137, 0.0005812101298943162, 0.0020545623265206814, 0.0008380874642170966, 0.0010067485272884369, 0.0011300853220745921, 0.001613993663340807, 0.005022874101996422, 0.014576884917914867, 0.0037143349181860685, 0.0046814787201583385, 0.00791382510215044, 0.006778393872082233, 0.012291375547647476, 0.02773303911089897, 0.10214652121067047, 0.7957003712654114, 0.0, 0.0, 0.0, 0.0, 0.0, 0.0, 0.0, 0.0, 0.0], [0.004004700109362602, 0.00045769772259518504, 0.001564521691761911, 0.0031372052617371082, 0.001993746729567647, 0.00037892619729973376, 0.0004957780474796891, 0.0005698017776012421, 0.0010052070720121264, 0.002343224361538887, 0.0005772148724645376, 0.0016756143886595964, 0.003078739158809185, 0.0012285261182114482, 0.005278333090245724, 0.0063280584290623665, 0.0031517313327640295, 0.00531931035220623, 0.02138313092291355, 0.0061477115377783775, 0.012332224287092686, 0.07402165234088898, 0.12114019691944122, 0.5611115097999573, 0.16127526760101318, 0.0, 0.0, 0.0, 0.0, 0.0, 0.0, 0.0, 0.0], [0.0011286529479548335, 4.9889109504874796e-05, 4.129122680751607e-05, 9.249602589989081e-05, 5.513622454600409e-05, 3.861729055643082e-05, 5.592027082457207e-05, 0.00014896265929564834, 5.509220045496477e-06, 6.817426037741825e-05, 3.620445204433054e-05, 4.6239569201134145e-05, 0.0010655007790774107, 5.91988064115867e-05, 7.787252980051562e-05, 0.0003842120058834553, 0.00011692436964949593, 0.00022428238298743963, 0.0005083983996883035, 0.0001562812103657052, 0.00032331456895917654, 0.0007086825207807124, 0.0009207414695993066, 0.0008559711277484894, 0.004414451774209738, 0.9884169697761536, 0.0, 0.0, 0.0, 0.0, 0.0, 0.0, 0.0], [0.0024299686774611473, 0.0036596343852579594, 0.0006344979046843946, 0.0006202648510225117, 0.00298767420463264, 0.0003476363781373948, 0.0005059160175733268, 0.00041149670141749084, 0.00021321553504094481, 0.0006509348750114441, 0.000395569164538756, 0.1698644906282425, 0.0021888967603445053, 0.0006812377250753343, 0.0008683755877427757, 0.008905129507184029, 0.00146385096013546, 0.0013394583947956562, 0.0064951274544000626, 0.007638710550963879, 0.004619397688657045, 0.0031617896165698767, 0.014200892299413681, 0.046396654099226, 0.022786086425185204, 0.21939261257648468, 0.4771404266357422, 0.0, 0.0, 0.0, 0.0, 0.0, 0.0], [0.01561033632606268, 0.0009648081031627953, 0.0010281838476657867, 0.0071485210210084915, 0.005316650494933128, 0.000543268455658108, 0.0007839889149181545, 0.0004708291671704501, 0.0022980347275733948, 0.005463093984872103, 0.000548307434655726, 0.0008661496685817838, 0.0009035549592226744, 0.0009251956944353878, 0.008375938050448895, 0.0014478133525699377, 0.002061491599306464, 0.0036933820229023695, 0.017008865252137184, 0.00613867724314332, 0.007041895296424627, 0.04128708690404892, 0.06922484189271927, 0.26617178320884705, 0.05024217069149017, 0.11445152759552002, 0.13764895498752594, 0.2323346734046936, 0.0, 0.0, 0.0, 0.0, 0.0], [0.021895291283726692, 0.0013514560414478183, 0.001372798695228994, 0.0051577226258814335, 0.010932798497378826, 0.0004452221910469234, 0.00161782989744097, 0.0005713264108635485, 0.0007700276910327375, 0.0030935374088585377, 0.000361634767614305, 0.0009329018066637218, 0.0019032411510124803, 0.0005254390998743474, 0.0007036193273961544, 0.00157806440256536, 0.0010200479300692677, 0.0009346736478619277, 0.005167579278349876, 0.000785542419180274, 0.002879683393985033, 0.006337153725326061, 0.049514152109622955, 0.02188692055642605, 0.03004688397049904, 0.06941607594490051, 0.02995390072464943, 0.06111626327037811, 0.6677282452583313, 0.0, 0.0, 0.0, 0.0], [0.00029466560226865113, 8.085118315648288e-05, 0.00011992640793323517, 0.00017154008673969656, 0.0003899001167155802, 8.63025852595456e-05, 5.253731433185749e-05, 6.616374594159424e-05, 0.00011378381896065548, 6.20008067926392e-05, 0.00011238045408390462, 0.0005867319996468723, 9.7849995654542e-05, 0.00021334913617465645, 0.00040444356272928417, 0.00047262394218705595, 0.00047307374188676476, 0.0005199528532102704, 0.0008571150829084218, 0.00022720190463587642, 0.001597677357494831, 0.0014780652709305286, 0.001650142134167254, 0.009339655749499798, 0.012792711146175861, 0.012606959789991379, 0.021659579128026962, 0.02886747196316719, 0.07784787565469742, 0.8267574906349182, 0.0, 0.0, 0.0], [0.0006396542303264141, 0.000199202069779858, 0.00033784547122195363, 0.00032286145142279565, 0.00038839783519506454, 2.2511447241413407e-05, 0.000115596478281077, 1.9683691789396107e-05, 8.749762491788715e-05, 0.00016675733786541969, 2.13531639019493e-05, 0.00018257684132549912, 0.0028796205297112465, 3.2708448998164386e-05, 6.355985533446074e-05, 0.0009078504517674446, 6.314201164059341e-05, 4.9545236834092066e-05, 0.005010182503610849, 0.00021555750572588295, 0.0001892332948045805, 0.00023579860862810165, 0.002119170967489481, 0.0034752478823065758, 0.0004957510973326862, 0.012673037126660347, 0.0026274595875293016, 0.0011926381848752499, 0.028011513873934746, 0.14214558899402618, 0.795108437538147, 0.0, 0.0], [0.005492148920893669, 0.001417962252162397, 6.310049502644688e-05, 0.0009282375685870647, 0.00046758764074184, 9.70122855505906e-05, 5.6787117500789464e-05, 6.824066076660529e-05, 4.054810051457025e-05, 0.00021011504577472806, 6.53469905955717e-05, 0.00011957799870288, 9.082329779630527e-05, 9.077359572984278e-05, 0.00013827533985022455, 0.00041228393092751503, 0.00016900584159884602, 0.00013570731971412897, 0.00242832419462502, 0.00020654802210628986, 0.0004959606449119747, 0.0001656200474826619, 0.0018254031892865896, 0.0016808202490210533, 0.0010187361622229218, 0.015071510337293148, 0.003408375894650817, 0.0033841971307992935, 0.018865544348955154, 0.010037435218691826, 0.008259573951363564, 0.9230883717536926, 0.0], [0.009386101737618446, 0.0017380551435053349, 0.0018091686069965363, 0.0014350229175761342, 0.0016812802059575915, 0.0019791286904364824, 0.0014143433654680848, 0.002112781396135688, 0.001201695529744029, 0.0010467638494446874, 0.0012532485416159034, 0.001212568604387343, 0.0006952420226298273, 0.001685017952695489, 0.0012904980685561895, 0.001494940952397883, 0.003052463987842202, 0.006176405120640993, 0.003993153106421232, 0.0029945203568786383, 0.008827604353427887, 0.009542389772832394, 0.010477349162101746, 0.021451452746987343, 0.06221357733011246, 0.0268610380589962, 0.033906418830156326, 0.11987603455781937, 0.050274692475795746, 0.026796849444508553, 0.031165694817900658, 0.10728631913661957, 0.4436682164669037]], [[1.0, 0.0, 0.0, 0.0, 0.0, 0.0, 0.0, 0.0, 0.0, 0.0, 0.0, 0.0, 0.0, 0.0, 0.0, 0.0, 0.0, 0.0, 0.0, 0.0, 0.0, 0.0, 0.0, 0.0, 0.0, 0.0, 0.0, 0.0, 0.0, 0.0, 0.0, 0.0, 0.0], [0.10520478338003159, 0.8947951793670654, 0.0, 0.0, 0.0, 0.0, 0.0, 0.0, 0.0, 0.0, 0.0, 0.0, 0.0, 0.0, 0.0, 0.0, 0.0, 0.0, 0.0, 0.0, 0.0, 0.0, 0.0, 0.0, 0.0, 0.0, 0.0, 0.0, 0.0, 0.0, 0.0, 0.0, 0.0], [0.03907203674316406, 0.0020172225777059793, 0.9589106440544128, 0.0, 0.0, 0.0, 0.0, 0.0, 0.0, 0.0, 0.0, 0.0, 0.0, 0.0, 0.0, 0.0, 0.0, 0.0, 0.0, 0.0, 0.0, 0.0, 0.0, 0.0, 0.0, 0.0, 0.0, 0.0, 0.0, 0.0, 0.0, 0.0, 0.0], [0.015578617341816425, 0.0008392537129111588, 0.0006979751633480191, 0.9828841090202332, 0.0, 0.0, 0.0, 0.0, 0.0, 0.0, 0.0, 0.0, 0.0, 0.0, 0.0, 0.0, 0.0, 0.0, 0.0, 0.0, 0.0, 0.0, 0.0, 0.0, 0.0, 0.0, 0.0, 0.0, 0.0, 0.0, 0.0, 0.0, 0.0], [0.00885644182562828, 9.934287845680956e-06, 1.1174832252436318e-05, 0.00030246999813243747, 0.9908198714256287, 0.0, 0.0, 0.0, 0.0, 0.0, 0.0, 0.0, 0.0, 0.0, 0.0, 0.0, 0.0, 0.0, 0.0, 0.0, 0.0, 0.0, 0.0, 0.0, 0.0, 0.0, 0.0, 0.0, 0.0, 0.0, 0.0, 0.0, 0.0], [0.3544500470161438, 0.030589284375309944, 0.059889569878578186, 0.022903533652424812, 0.04747588187456131, 0.48469164967536926, 0.0, 0.0, 0.0, 0.0, 0.0, 0.0, 0.0, 0.0, 0.0, 0.0, 0.0, 0.0, 0.0, 0.0, 0.0, 0.0, 0.0, 0.0, 0.0, 0.0, 0.0, 0.0, 0.0, 0.0, 0.0, 0.0, 0.0], [0.04476911574602127, 0.001566471066325903, 0.000377385615138337, 0.0002507331664673984, 0.00040889764204621315, 0.0002606568159535527, 0.9523667097091675, 0.0, 0.0, 0.0, 0.0, 0.0, 0.0, 0.0, 0.0, 0.0, 0.0, 0.0, 0.0, 0.0, 0.0, 0.0, 0.0, 0.0, 0.0, 0.0, 0.0, 0.0, 0.0, 0.0, 0.0, 0.0, 0.0], [0.09058354049921036, 0.001147075672633946, 0.006027343682944775, 0.0005468474118970335, 0.0017094230279326439, 0.0037850881926715374, 0.0026845415122807026, 0.8935161232948303, 0.0, 0.0, 0.0, 0.0, 0.0, 0.0, 0.0, 0.0, 0.0, 0.0, 0.0, 0.0, 0.0, 0.0, 0.0, 0.0, 0.0, 0.0, 0.0, 0.0, 0.0, 0.0, 0.0, 0.0, 0.0], [0.0060107228346168995, 2.4289049179060385e-05, 0.0003126671945210546, 1.868293657025788e-05, 0.0002979242999572307, 9.90451644611312e-06, 6.61954254610464e-06, 7.912191222203546e-07, 0.9933184385299683, 0.0, 0.0, 0.0, 0.0, 0.0, 0.0, 0.0, 0.0, 0.0, 0.0, 0.0, 0.0, 0.0, 0.0, 0.0, 0.0, 0.0, 0.0, 0.0, 0.0, 0.0, 0.0, 0.0, 0.0], [0.0045468187890946865, 0.00020019400108139962, 0.0002992021618410945, 0.0013363957405090332, 0.0003267654974479228, 8.741374131204793e-07, 1.7415719412383623e-05, 2.7834195748255297e-07, 0.0002966524625662714, 0.9929754734039307, 0.0, 0.0, 0.0, 0.0, 0.0, 0.0, 0.0, 0.0, 0.0, 0.0, 0.0, 0.0, 0.0, 0.0, 0.0, 0.0, 0.0, 0.0, 0.0, 0.0, 0.0, 0.0, 0.0], [0.12262563407421112, 0.02392658218741417, 0.03827650845050812, 0.016171958297491074, 0.030366215854883194, 0.2937592566013336, 0.10661350935697556, 0.0705995187163353, 0.041900068521499634, 0.01783309318125248, 0.23792769014835358, 0.0, 0.0, 0.0, 0.0, 0.0, 0.0, 0.0, 0.0, 0.0, 0.0, 0.0, 0.0, 0.0, 0.0, 0.0, 0.0, 0.0, 0.0, 0.0, 0.0, 0.0, 0.0], [0.0008121046121232212, 0.00011546649329829961, 0.00013500907516572624, 5.5392873036907986e-05, 0.00013174142804928124, 1.0027187045125174e-06, 1.3799090083921328e-06, 1.6001600045001396e-07, 1.8972972384290188e-06, 5.419655622063146e-07, 4.7530966185149737e-07, 0.9987448453903198, 0.0, 0.0, 0.0, 0.0, 0.0, 0.0, 0.0, 0.0, 0.0, 0.0, 0.0, 0.0, 0.0, 0.0, 0.0, 0.0, 0.0, 0.0, 0.0, 0.0, 0.0], [0.0013333011884242296, 0.00010533037857385352, 0.000766961311455816, 0.0009021882433444262, 3.570832632249221e-06, 8.120475172290753e-07, 1.4038076301403635e-07, 9.5612755046659e-08, 1.686503765085945e-06, 2.9788981919409707e-05, 4.3813361116917804e-07, 1.196578750750632e-06, 0.9968544840812683, 0.0, 0.0, 0.0, 0.0, 0.0, 0.0, 0.0, 0.0, 0.0, 0.0, 0.0, 0.0, 0.0, 0.0, 0.0, 0.0, 0.0, 0.0, 0.0, 0.0], [0.08159802109003067, 0.021388864144682884, 0.028877144679427147, 0.01267579197883606, 0.02493157796561718, 0.22996489703655243, 0.10401234030723572, 0.0647209957242012, 0.034600917249917984, 0.015198715031147003, 0.1856416016817093, 0.02052803710103035, 0.005003849044442177, 0.17085719108581543, 0.0, 0.0, 0.0, 0.0, 0.0, 0.0, 0.0, 0.0, 0.0, 0.0, 0.0, 0.0, 0.0, 0.0, 0.0, 0.0, 0.0, 0.0, 0.0], [0.0013488869881257415, 8.92121170181781e-05, 0.000685995735693723, 0.0006963220075704157, 2.1248642951832153e-05, 3.7633941474268795e-07, 6.226744062587386e-07, 4.307220820010116e-07, 7.091880888765445e-06, 0.0013103681849315763, 1.6113767742353957e-07, 9.54876213654643e-07, 0.00016453623538836837, 1.1531948018728144e-07, 0.9956737160682678, 0.0, 0.0, 0.0, 0.0, 0.0, 0.0, 0.0, 0.0, 0.0, 0.0, 0.0, 0.0, 0.0, 0.0, 0.0, 0.0, 0.0, 0.0], [0.001086747506633401, 0.00040724806603975594, 0.00010700301208999008, 0.000678270822390914, 0.00011028462904505432, 1.3184238412122795e-07, 2.6602660341268347e-07, 4.619564037966484e-07, 8.409698239120189e-06, 0.0007784875924699008, 5.109440337491833e-08, 8.792069934315805e-07, 4.9342852435074747e-05, 3.4893165690164096e-08, 0.00011441177048254758, 0.9966580867767334, 0.0, 0.0, 0.0, 0.0, 0.0, 0.0, 0.0, 0.0, 0.0, 0.0, 0.0, 0.0, 0.0, 0.0, 0.0, 0.0, 0.0], [0.05868082866072655, 0.018785731866955757, 0.024067295715212822, 0.011013141833245754, 0.021456366404891014, 0.1911056488752365, 0.09902715682983398, 0.060658685863018036, 0.03016270324587822, 0.014801900833845139, 0.15370342135429382, 0.01661515235900879, 0.004385379143059254, 0.1408533900976181, 0.015014993958175182, 0.005390207748860121, 0.13427798449993134, 0.0, 0.0, 0.0, 0.0, 0.0, 0.0, 0.0, 0.0, 0.0, 0.0, 0.0, 0.0, 0.0, 0.0, 0.0, 0.0], [0.07323045283555984, 0.02837459370493889, 0.021058252081274986, 0.007611881475895643, 0.010053583420813084, 0.06553949415683746, 0.1455976665019989, 0.08620844781398773, 0.010241267271339893, 0.007425735704600811, 0.045262694358825684, 0.00662145996466279, 0.0011621777666732669, 0.03923855721950531, 0.008256876841187477, 0.0030656892340630293, 0.036122649908065796, 0.4049285352230072, 0.0, 0.0, 0.0, 0.0, 0.0, 0.0, 0.0, 0.0, 0.0, 0.0, 0.0, 0.0, 0.0, 0.0, 0.0], [7.94449370005168e-05, 1.838214188865095e-06, 3.713439511443539e-08, 1.557529321871698e-05, 3.4723725548246875e-06, 1.3165096790501707e-09, 2.7038710825877388e-08, 1.7186653877843128e-08, 9.232245190560207e-08, 1.3506378309102729e-05, 4.4787801245504966e-10, 2.041673052843862e-09, 5.5420287026208825e-08, 3.0638666603799436e-10, 4.217715456888982e-07, 7.065874342515599e-06, 2.424439260462208e-10, 1.4397358860662735e-09, 0.9998784065246582, 0.0, 0.0, 0.0, 0.0, 0.0, 0.0, 0.0, 0.0, 0.0, 0.0, 0.0, 0.0, 0.0, 0.0], [0.002934497781097889, 0.0005883852718397975, 0.004250312689691782, 0.004028471652418375, 0.0001159296662081033, 4.3316299525031354e-06, 6.773906079615699e-06, 7.076474139466882e-05, 0.0002495272201485932, 0.0003159341576974839, 2.082441824313719e-06, 4.409225221024826e-05, 0.0003044698969461024, 1.4702587805004441e-06, 0.00019761378644034266, 0.0013599281664937735, 1.2478662938519847e-06, 6.8751951403100975e-06, 0.00019261165289208293, 0.9853246808052063, 0.0, 0.0, 0.0, 0.0, 0.0, 0.0, 0.0, 0.0, 0.0, 0.0, 0.0, 0.0, 0.0], [0.04056531935930252, 0.017898334190249443, 0.020600974559783936, 0.009821100160479546, 0.017882807180285454, 0.15653999149799347, 0.09208225458860397, 0.05628827214241028, 0.026661334559321404, 0.01447127666324377, 0.12537631392478943, 0.013986769132316113, 0.003927926998585463, 0.11453616619110107, 0.013395372778177261, 0.004846667405217886, 0.10880251973867416, 0.049533966928720474, 0.005186410155147314, 0.00442087184637785, 0.10317539423704147, 0.0, 0.0, 0.0, 0.0, 0.0, 0.0, 0.0, 0.0, 0.0, 0.0, 0.0, 0.0], [0.024536410346627235, 0.0031243418343365192, 0.0009699318907223642, 4.6315548388520256e-05, 0.00013434787979349494, 0.0006453952519223094, 0.011668861843645573, 0.00032713511609472334, 0.00045730473357252777, 2.3976139345904812e-05, 0.00034454246633686125, 4.996437201043591e-05, 2.575745020294562e-05, 0.00028217825456522405, 6.525329354190035e-06, 4.981817710358882e-06, 0.0002355406468268484, 0.0002664515923243016, 2.531117388571147e-05, 2.976114410557784e-05, 0.00018809281755238771, 0.9566067457199097, 0.0, 0.0, 0.0, 0.0, 0.0, 0.0, 0.0, 0.0, 0.0, 0.0, 0.0], [0.0020759967155754566, 0.0001459181512473151, 5.2899027650710195e-05, 4.218077447148971e-05, 4.738723873742856e-05, 4.142334830703476e-07, 0.00012964311463292688, 2.4251041395473294e-05, 1.8034043023362756e-06, 1.4839280311207403e-06, 1.4490007060885546e-07, 4.199940121907275e-06, 4.106840378881316e-08, 1.0260500715730814e-07, 8.285471722047077e-07, 5.781907930213492e-07, 7.69515864362802e-08, 6.66962165496443e-08, 6.47262713755481e-05, 1.5700886706326855e-06, 5.641841482884047e-08, 4.403031653055223e-06, 0.997401237487793, 0.0, 0.0, 0.0, 0.0, 0.0, 0.0, 0.0, 0.0, 0.0, 0.0], [0.0005159112624824047, 0.00011814641766250134, 3.2705673220334575e-05, 0.0002118876000167802, 4.5635246351594105e-05, 2.9248920441204973e-07, 3.057945605178247e-06, 7.60737606242401e-08, 0.00013753683015238494, 0.0005283540231175721, 1.1576035774396587e-07, 4.028589046356501e-06, 2.0792986106243916e-06, 8.805425011360057e-08, 0.00010051677963929251, 4.4316235289443284e-05, 6.963725240893837e-08, 9.373040654736542e-08, 3.337771704536863e-05, 1.5888888810877688e-05, 5.610686315549174e-08, 7.052654638073363e-08, 9.389286788064055e-06, 0.9981963038444519, 0.0, 0.0, 0.0, 0.0, 0.0, 0.0, 0.0, 0.0, 0.0], [0.06915226578712463, 0.01403210498392582, 0.0055990940891206264, 0.0012576852459460497, 0.0008467996376566589, 0.009601172991096973, 0.008965768851339817, 0.0524769052863121, 0.0002502834249753505, 0.0009063847828656435, 0.005419905297458172, 0.0007309206994250417, 0.00019187918223906308, 0.004396582022309303, 0.005964713636785746, 0.0003558540774974972, 0.0038770167157053947, 0.009727220050990582, 0.0011023487895727158, 0.00036442861892282963, 0.0034139568451792, 0.003052355023100972, 0.005698247347027063, 0.00029557308880612254, 0.7923204302787781, 0.0, 0.0, 0.0, 0.0, 0.0, 0.0, 0.0, 0.0], [0.00104615674354136, 1.955715924850665e-05, 1.7358959212288028e-06, 3.10304640152026e-05, 2.7307954951538704e-05, 1.0180698062356441e-08, 4.815767624677392e-07, 1.7494231485670753e-07, 7.31240987761339e-08, 7.983076102391351e-07, 3.4643101720632785e-09, 4.9067134568758775e-06, 1.0718933651787665e-07, 2.3525483783259915e-09, 2.3834076046114205e-07, 1.3731333865507622e-06, 1.8288636161045702e-09, 6.247609984910696e-09, 9.208338269672822e-06, 1.6384241234845831e-06, 1.2523876380399201e-09, 8.271258122860559e-10, 8.45677095639985e-06, 3.118676431768108e-06, 9.241404086424154e-09, 0.9988435506820679, 0.0, 0.0, 0.0, 0.0, 0.0, 0.0, 0.0], [0.001054492429830134, 0.00021373233175836504, 0.00028157164342701435, 0.0011373365996405482, 0.0001478393969591707, 2.0068493995495373e-06, 4.831350452150218e-06, 3.4823312944354257e-06, 5.100334874441614e-06, 0.0001242046128027141, 9.301510317527573e-07, 1.0582611139398068e-05, 1.1688262929965276e-05, 7.077504164954007e-07, 0.0034115933813154697, 0.00019905275257769972, 5.995606215947191e-07, 4.64303724356796e-07, 1.9585098925745115e-05, 0.00011087769962614402, 4.750048674395657e-07, 3.280884470768797e-07, 4.535349944490008e-06, 5.161708759260364e-05, 3.247470203859848e-07, 1.3071358807792421e-05, 0.9931888580322266, 0.0, 0.0, 0.0, 0.0, 0.0, 0.0], [0.02420078217983246, 0.0028201332315802574, 0.004319304134696722, 0.0009108317317441106, 0.0017753962893038988, 0.003809920512139797, 0.0029533258639276028, 0.016714802011847496, 0.001393175800330937, 0.005003188271075487, 0.002276091370731592, 0.000587642309255898, 0.0009901642333716154, 0.0018066969932988286, 0.0031312438659369946, 0.00023389406851492822, 0.001608273945748806, 0.009910311549901962, 0.0028539574705064297, 0.00020495177886914462, 0.0013712672516703606, 0.006919007282704115, 0.001033658511005342, 0.00014528408064506948, 0.017489807680249214, 0.00046553174615837634, 0.0003024088800884783, 0.8847689032554626, 0.0, 0.0, 0.0, 0.0, 0.0], [0.0005256072618067265, 3.528640036165598e-06, 1.7037648376572179e-06, 9.408168261870742e-05, 0.664796769618988, 1.653145744739959e-07, 9.511092002867372e-07, 8.886864293344843e-07, 1.7016644051182084e-05, 3.742174885701388e-05, 6.832244991983316e-08, 9.810877600102685e-06, 7.548713654159656e-08, 4.9632454590664565e-08, 2.039384526142385e-06, 7.686529897910077e-06, 4.0668385992148615e-08, 2.6744283232460475e-08, 3.343177741044201e-05, 4.3410651073827466e-07, 3.007984616942849e-08, 3.2060530230637596e-08, 4.9005693654180504e-06, 3.060932613152545e-06, 1.4603177334038264e-08, 2.2145493858261034e-05, 9.211141332343686e-06, 3.1642681364019154e-08, 0.3344287872314453, 0.0, 0.0, 0.0, 0.0], [0.004676995798945427, 0.00028021298930980265, 8.346095273736864e-05, 3.157012542942539e-06, 4.0653432620274543e-07, 1.3343502303087007e-07, 2.6423564122524112e-05, 1.1439967551041264e-07, 2.7872323471456184e-07, 3.749602910829708e-06, 4.652889273870642e-08, 1.7213951650774106e-06, 1.8165602000408398e-07, 3.148470284486393e-08, 1.8334215212689742e-07, 5.2147374418609616e-08, 2.5215809884571172e-08, 3.078435284464831e-08, 7.142030256090948e-08, 1.6640143485346925e-08, 1.7768190474498624e-08, 8.634525983097774e-08, 2.800961965476745e-06, 8.454144904135319e-07, 3.0983517973481867e-08, 2.927860691670503e-07, 5.676217824657215e-07, 5.055422303001933e-09, 2.914098118367292e-08, 0.9949181079864502, 0.0, 0.0, 0.0], [5.6367927754763514e-05, 0.00020023732213303447, 1.6319110045515117e-06, 1.5089342468854738e-06, 1.7779768313630484e-05, 5.95644145118257e-10, 6.94038226356497e-06, 5.034010541749012e-09, 2.1682852491267113e-07, 1.7164273913294892e-06, 1.9326266975649986e-10, 1.8911425314627195e-08, 9.538840117784275e-08, 1.2946883842790413e-10, 8.07715050399338e-09, 4.3866159103345126e-05, 9.768683778554887e-11, 5.256079460558283e-10, 6.93216934450902e-05, 7.50586650610785e-08, 7.069304863716042e-11, 3.988046870517792e-08, 1.0610286153678317e-05, 2.2120727862784406e-06, 8.688633701403603e-10, 9.928487088473048e-06, 5.390095036972298e-09, 1.1354458345769203e-10, 3.060040626223781e-06, 3.894562325967854e-07, 0.9995738863945007, 0.0, 0.0], [0.0003556972078513354, 1.9489494661684148e-05, 9.160975423583295e-06, 1.308527589571895e-05, 2.3808897822164e-05, 2.971901658099796e-08, 4.160602475167252e-05, 1.7756508441379992e-07, 6.896235049680399e-07, 1.0506249736863538e-06, 1.2230765733534099e-08, 4.290551714802859e-06, 3.2958334372779063e-07, 9.211106544171344e-09, 1.7466412600697367e-06, 4.68279449705733e-06, 7.44272510289079e-09, 9.673818190947259e-09, 3.966513759223744e-05, 7.324891271309752e-07, 5.543701053767336e-09, 1.0396705363291403e-07, 1.4401603948499542e-05, 8.873356819094624e-06, 5.989427620534116e-09, 1.562779834785033e-05, 2.9811244530719705e-06, 6.8743553072181385e-09, 4.8546603466093075e-06, 7.072272182995221e-06, 6.210697392816655e-06, 0.999423623085022, 0.0], [0.05455271154642105, 0.016429057344794273, 0.01600833050906658, 0.0069868783466517925, 0.024884143844246864, 0.07376932352781296, 0.07933783531188965, 0.055945515632629395, 0.027268195524811745, 0.013368768617510796, 0.05590309947729111, 0.007223027758300304, 0.00542657682672143, 0.050123292952775955, 0.008279060944914818, 0.0030609644018113613, 0.046822965145111084, 0.047518473118543625, 0.00284494343213737, 0.007037973031401634, 0.04282717779278755, 0.05138188973069191, 0.027282362803816795, 0.026375334709882736, 0.026159202679991722, 0.011997980996966362, 0.006220122333616018, 0.03648779168725014, 0.01112470030784607, 0.005218562204390764, 0.0025592008605599403, 0.002604028442874551, 0.14697042107582092]], [[1.0, 0.0, 0.0, 0.0, 0.0, 0.0, 0.0, 0.0, 0.0, 0.0, 0.0, 0.0, 0.0, 0.0, 0.0, 0.0, 0.0, 0.0, 0.0, 0.0, 0.0, 0.0, 0.0, 0.0, 0.0, 0.0, 0.0, 0.0, 0.0, 0.0, 0.0, 0.0, 0.0], [0.9192656874656677, 0.08073431253433228, 0.0, 0.0, 0.0, 0.0, 0.0, 0.0, 0.0, 0.0, 0.0, 0.0, 0.0, 0.0, 0.0, 0.0, 0.0, 0.0, 0.0, 0.0, 0.0, 0.0, 0.0, 0.0, 0.0, 0.0, 0.0, 0.0, 0.0, 0.0, 0.0, 0.0, 0.0], [0.45437362790107727, 0.4265044331550598, 0.11912184208631516, 0.0, 0.0, 0.0, 0.0, 0.0, 0.0, 0.0, 0.0, 0.0, 0.0, 0.0, 0.0, 0.0, 0.0, 0.0, 0.0, 0.0, 0.0, 0.0, 0.0, 0.0, 0.0, 0.0, 0.0, 0.0, 0.0, 0.0, 0.0, 0.0, 0.0], [0.5267520546913147, 0.22321636974811554, 0.1242063045501709, 0.12582530081272125, 0.0, 0.0, 0.0, 0.0, 0.0, 0.0, 0.0, 0.0, 0.0, 0.0, 0.0, 0.0, 0.0, 0.0, 0.0, 0.0, 0.0, 0.0, 0.0, 0.0, 0.0, 0.0, 0.0, 0.0, 0.0, 0.0, 0.0, 0.0, 0.0], [0.39034879207611084, 0.1709941327571869, 0.06872710585594177, 0.1837182492017746, 0.1862117499113083, 0.0, 0.0, 0.0, 0.0, 0.0, 0.0, 0.0, 0.0, 0.0, 0.0, 0.0, 0.0, 0.0, 0.0, 0.0, 0.0, 0.0, 0.0, 0.0, 0.0, 0.0, 0.0, 0.0, 0.0, 0.0, 0.0, 0.0, 0.0], [0.19744226336479187, 0.2543684244155884, 0.14488452672958374, 0.18925857543945312, 0.20821940898895264, 0.0058267866261303425, 0.0, 0.0, 0.0, 0.0, 0.0, 0.0, 0.0, 0.0, 0.0, 0.0, 0.0, 0.0, 0.0, 0.0, 0.0, 0.0, 0.0, 0.0, 0.0, 0.0, 0.0, 0.0, 0.0, 0.0, 0.0, 0.0, 0.0], [0.19473566114902496, 0.13241827487945557, 0.14391925930976868, 0.15120737254619598, 0.30024483799934387, 0.02058463729918003, 0.05688995122909546, 0.0, 0.0, 0.0, 0.0, 0.0, 0.0, 0.0, 0.0, 0.0, 0.0, 0.0, 0.0, 0.0, 0.0, 0.0, 0.0, 0.0, 0.0, 0.0, 0.0, 0.0, 0.0, 0.0, 0.0, 0.0, 0.0], [0.1269666999578476, 0.21597377955913544, 0.1608932465314865, 0.1969882994890213, 0.18844632804393768, 0.01354492548853159, 0.07520708441734314, 0.02197970263659954, 0.0, 0.0, 0.0, 0.0, 0.0, 0.0, 0.0, 0.0, 0.0, 0.0, 0.0, 0.0, 0.0, 0.0, 0.0, 0.0, 0.0, 0.0, 0.0, 0.0, 0.0, 0.0, 0.0, 0.0, 0.0], [0.291212260723114, 0.05954228714108467, 0.11079408973455429, 0.09717851877212524, 0.22345612943172455, 0.01626257598400116, 0.08719443529844284, 0.024762272834777832, 0.0895974338054657, 0.0, 0.0, 0.0, 0.0, 0.0, 0.0, 0.0, 0.0, 0.0, 0.0, 0.0, 0.0, 0.0, 0.0, 0.0, 0.0, 0.0, 0.0, 0.0, 0.0, 0.0, 0.0, 0.0, 0.0], [0.22981950640678406, 0.03802676126360893, 0.1601383239030838, 0.11780404299497604, 0.16181188821792603, 0.035528186708688736, 0.07561114430427551, 0.020756036043167114, 0.10670629143714905, 0.05379775911569595, 0.0, 0.0, 0.0, 0.0, 0.0, 0.0, 0.0, 0.0, 0.0, 0.0, 0.0, 0.0, 0.0, 0.0, 0.0, 0.0, 0.0, 0.0, 0.0, 0.0, 0.0, 0.0, 0.0], [0.1331443041563034, 0.1885865032672882, 0.10808100551366806, 0.15994971990585327, 0.1773921549320221, 0.0035980164539068937, 0.025062069296836853, 0.012862930074334145, 0.07453098148107529, 0.11275240778923035, 0.004039984196424484, 0.0, 0.0, 0.0, 0.0, 0.0, 0.0, 0.0, 0.0, 0.0, 0.0, 0.0, 0.0, 0.0, 0.0, 0.0, 0.0, 0.0, 0.0, 0.0, 0.0, 0.0, 0.0], [0.1674639880657196, 0.1435522884130478, 0.06118570268154144, 0.17358073592185974, 0.10113830864429474, 0.01755347102880478, 0.03239531069993973, 0.007995499297976494, 0.05453446879982948, 0.07883203029632568, 0.01725821942090988, 0.14450998604297638, 0.0, 0.0, 0.0, 0.0, 0.0, 0.0, 0.0, 0.0, 0.0, 0.0, 0.0, 0.0, 0.0, 0.0, 0.0, 0.0, 0.0, 0.0, 0.0, 0.0, 0.0], [0.26996830105781555, 0.1302906572818756, 0.06605684012174606, 0.061561401933431625, 0.08437128365039825, 0.019846616312861443, 0.01631278358399868, 0.01296591479331255, 0.032314639538526535, 0.05254792422056198, 0.01986861228942871, 0.1369563788175583, 0.0969386175274849, 0.0, 0.0, 0.0, 0.0, 0.0, 0.0, 0.0, 0.0, 0.0, 0.0, 0.0, 0.0, 0.0, 0.0, 0.0, 0.0, 0.0, 0.0, 0.0, 0.0], [0.09820351749658585, 0.1361864060163498, 0.080057792365551, 0.12152864784002304, 0.13579383492469788, 0.0024323551915585995, 0.017789490520954132, 0.009086480364203453, 0.05637527257204056, 0.08521639555692673, 0.0027533378452062607, 0.15203779935836792, 0.09946724027395248, 0.0030714040622115135, 0.0, 0.0, 0.0, 0.0, 0.0, 0.0, 0.0, 0.0, 0.0, 0.0, 0.0, 0.0, 0.0, 0.0, 0.0, 0.0, 0.0, 0.0, 0.0], [0.1701289564371109, 0.08885716646909714, 0.09089686721563339, 0.08085788786411285, 0.11427339166402817, 0.010901483707129955, 0.01478841807693243, 0.005497370380908251, 0.051512546837329865, 0.053306832909584045, 0.01059581246227026, 0.09442279487848282, 0.13098114728927612, 0.011153684929013252, 0.07182559370994568, 0.0, 0.0, 0.0, 0.0, 0.0, 0.0, 0.0, 0.0, 0.0, 0.0, 0.0, 0.0, 0.0, 0.0, 0.0, 0.0, 0.0, 0.0], [0.10365858674049377, 0.03588540107011795, 0.08803565800189972, 0.06087936833500862, 0.08348329365253448, 0.030805744230747223, 0.029615938663482666, 0.010918701067566872, 0.04049994796514511, 0.04288609325885773, 0.032192960381507874, 0.15008124709129333, 0.12658773362636566, 0.034902174025774, 0.058254342526197433, 0.07131282240152359, 0.0, 0.0, 0.0, 0.0, 0.0, 0.0, 0.0, 0.0, 0.0, 0.0, 0.0, 0.0, 0.0, 0.0, 0.0, 0.0, 0.0], [0.07047099620103836, 0.09600995481014252, 0.05621578171849251, 0.08699886500835419, 0.09934130311012268, 0.0016298799309879541, 0.012408608570694923, 0.0063804336823523045, 0.041014060378074646, 0.06348711997270584, 0.001848219078965485, 0.11387647688388824, 0.07328979671001434, 0.0020712953992187977, 0.07246167212724686, 0.2001277655363083, 0.0023677756544202566, 0.0, 0.0, 0.0, 0.0, 0.0, 0.0, 0.0, 0.0, 0.0, 0.0, 0.0, 0.0, 0.0, 0.0, 0.0, 0.0], [0.05659442022442818, 0.08906207233667374, 0.04703238606452942, 0.09457875043153763, 0.08793898671865463, 0.0019721665885299444, 0.017767678946256638, 0.005990434437990189, 0.06014858931303024, 0.08834964036941528, 0.00226376811042428, 0.10461518913507462, 0.0607936829328537, 0.0025566229596734047, 0.0781862810254097, 0.19496022164821625, 0.0029299864545464516, 0.004259059671312571, 0.0, 0.0, 0.0, 0.0, 0.0, 0.0, 0.0, 0.0, 0.0, 0.0, 0.0, 0.0, 0.0, 0.0, 0.0], [0.159706249833107, 0.02609645389020443, 0.04515179619193077, 0.0349758006632328, 0.08030673116445541, 0.05469035729765892, 0.04078545421361923, 0.026513027027249336, 0.027251923456788063, 0.03919817879796028, 0.053514327853918076, 0.048429202288389206, 0.0626426488161087, 0.055582087486982346, 0.05559666454792023, 0.04792959243059158, 0.05676324665546417, 0.04892300069332123, 0.03594322130084038, 0.0, 0.0, 0.0, 0.0, 0.0, 0.0, 0.0, 0.0, 0.0, 0.0, 0.0, 0.0, 0.0, 0.0], [0.08663123100996017, 0.09557434171438217, 0.03673810884356499, 0.06946706771850586, 0.056814566254615784, 0.008190207183361053, 0.022195855155587196, 0.00764282513409853, 0.031468287110328674, 0.07555204629898071, 0.0089652631431818, 0.052634794265031815, 0.04491107165813446, 0.009935063309967518, 0.04481378197669983, 0.15198470652103424, 0.010933395475149155, 0.00799367856234312, 0.16402564942836761, 0.013528089970350266, 0.0, 0.0, 0.0, 0.0, 0.0, 0.0, 0.0, 0.0, 0.0, 0.0, 0.0, 0.0, 0.0], [0.04783453792333603, 0.06669354438781738, 0.037989187985658646, 0.06040368601679802, 0.06899043917655945, 0.0010267299367114902, 0.008172673173248768, 0.0041581690311431885, 0.028268303722143173, 0.044072382152080536, 0.001158646889962256, 0.07832911610603333, 0.050829026848077774, 0.0013004970969632268, 0.049042996019124985, 0.1414499580860138, 0.0014934316277503967, 0.00255668256431818, 0.17534081637859344, 0.12910209596157074, 0.0017870559822767973, 0.0, 0.0, 0.0, 0.0, 0.0, 0.0, 0.0, 0.0, 0.0, 0.0, 0.0, 0.0], [0.04114092141389847, 0.04766074940562248, 0.03586999326944351, 0.06666101515293121, 0.07969274371862411, 0.0023650771472603083, 0.020340198650956154, 0.0048544942401349545, 0.0643620491027832, 0.06737153977155685, 0.0027073717210441828, 0.05596053600311279, 0.05648665130138397, 0.0030767261050641537, 0.053543854504823685, 0.15165922045707703, 0.003539712866768241, 0.0046739340759813786, 0.16402719914913177, 0.05968155711889267, 0.00415494479238987, 0.010169517248868942, 0.0, 0.0, 0.0, 0.0, 0.0, 0.0, 0.0, 0.0, 0.0, 0.0, 0.0], [0.06628807634115219, 0.040925391018390656, 0.0273226797580719, 0.04505367949604988, 0.06575217097997665, 0.015657559037208557, 0.027881881222128868, 0.013711259700357914, 0.03174295648932457, 0.05280747264623642, 0.015447770245373249, 0.032181113958358765, 0.03290104493498802, 0.016298862174153328, 0.026636643335223198, 0.09772848337888718, 0.017114201560616493, 0.016919458284974098, 0.09847069531679153, 0.04787908121943474, 0.01841254159808159, 0.015331602655351162, 0.17753536999225616, 0.0, 0.0, 0.0, 0.0, 0.0, 0.0, 0.0, 0.0, 0.0, 0.0], [0.09801431000232697, 0.026328807696700096, 0.03586813062429428, 0.05713058263063431, 0.06943874806165695, 0.012128958478569984, 0.020909089595079422, 0.008747957646846771, 0.026999659836292267, 0.03726677969098091, 0.011716336943209171, 0.0849953293800354, 0.05501334369182587, 0.012196713127195835, 0.035639118403196335, 0.08789660036563873, 0.01297010201960802, 0.01085102092474699, 0.06408388912677765, 0.05963920056819916, 0.014492177404463291, 0.006093733478337526, 0.09761440008878708, 0.05396498367190361, 0.0, 0.0, 0.0, 0.0, 0.0, 0.0, 0.0, 0.0, 0.0], [0.027693258598446846, 0.040737684816122055, 0.031223533675074577, 0.05879036337137222, 0.05601827800273895, 0.001571478322148323, 0.011908035725355148, 0.003339791437610984, 0.05176553130149841, 0.05291244015097618, 0.0018259820062667131, 0.060300376266241074, 0.028357185423374176, 0.0020878082141280174, 0.050864771008491516, 0.07898832857608795, 0.0023987034801393747, 0.002904823049902916, 0.11135735362768173, 0.04586019739508629, 0.0028849183581769466, 0.011431243270635605, 0.1234055608510971, 0.1348847597837448, 0.006487555801868439, 0.0, 0.0, 0.0, 0.0, 0.0, 0.0, 0.0, 0.0], [0.15390771627426147, 0.023786786943674088, 0.05320245400071144, 0.039638835936784744, 0.05711060389876366, 0.01562894508242607, 0.020206084474921227, 0.009252370335161686, 0.02131185121834278, 0.02902994677424431, 0.01474190503358841, 0.06123838573694229, 0.10112596303224564, 0.015157828107476234, 0.04335401952266693, 0.04090718924999237, 0.0157326627522707, 0.020073434337973595, 0.053749363869428635, 0.034686166793107986, 0.016989387571811676, 0.006368501577526331, 0.04042017087340355, 0.03106042742729187, 0.01393717061728239, 0.06738189607858658, 0.0, 0.0, 0.0, 0.0, 0.0, 0.0, 0.0], [0.0855509489774704, 0.03505741059780121, 0.05885256081819534, 0.03497905284166336, 0.05178743973374367, 0.0025119932834059, 0.004151216242462397, 0.002085916232317686, 0.014081117697060108, 0.02449137531220913, 0.002376006217673421, 0.0953511893749237, 0.07766135782003403, 0.0024908811319619417, 0.04572676494717598, 0.05774114653468132, 0.0026603778824210167, 0.003347757738083601, 0.047998253256082535, 0.02678881585597992, 0.0029587168246507645, 0.004655791446566582, 0.036070991307497025, 0.021599192172288895, 0.00478863762691617, 0.22052206099033356, 0.03371306508779526, 0.0, 0.0, 0.0, 0.0, 0.0, 0.0], [0.02070672996342182, 0.03719406574964523, 0.019723713397979736, 0.038942258805036545, 0.031827010214328766, 0.0012253689346835017, 0.008815755136311054, 0.002405292121693492, 0.034579552710056305, 0.047298070043325424, 0.0013953752350062132, 0.05148205906152725, 0.020486734807491302, 0.001560838078148663, 0.038261186331510544, 0.048637550324201584, 0.0017825278919190168, 0.0025446072686463594, 0.06541353464126587, 0.04188564047217369, 0.0020960590336471796, 0.009401388466358185, 0.08460027724504471, 0.09019994735717773, 0.005403275601565838, 0.22932566702365875, 0.056922685354948044, 0.005882919766008854, 0.0, 0.0, 0.0, 0.0, 0.0], [0.08582807332277298, 0.03967173770070076, 0.014841809868812561, 0.05653618648648262, 0.05960613116621971, 0.006987516302615404, 0.01011009979993105, 0.0028877281583845615, 0.015322847291827202, 0.025928765535354614, 0.006830445025116205, 0.03354892134666443, 0.02109353616833687, 0.007213158067315817, 0.01932339183986187, 0.05298229306936264, 0.007658607792109251, 0.005157845094799995, 0.0652318149805069, 0.018170008435845375, 0.008534704335033894, 0.00436816830188036, 0.026912426576018333, 0.04962794855237007, 0.004404333420097828, 0.1938866823911667, 0.03933224454522133, 0.005363550968468189, 0.11263902485370636, 0.0, 0.0, 0.0, 0.0], [0.07040350139141083, 0.05926159396767616, 0.015334835276007652, 0.024139026179909706, 0.015728848055005074, 0.019492097198963165, 0.017311526462435722, 0.017303062602877617, 0.020563239231705666, 0.045155830681324005, 0.021815845742821693, 0.07079731673002243, 0.03006395883858204, 0.023540621623396873, 0.020684480667114258, 0.02116367407143116, 0.026445113122463226, 0.02354005165398121, 0.05663725361227989, 0.0336947925388813, 0.030707301571965218, 0.015993360430002213, 0.015474074520170689, 0.030803631991147995, 0.03180558606982231, 0.07969607412815094, 0.03437485918402672, 0.03453715890645981, 0.0306243933737278, 0.0629068911075592, 0.0, 0.0, 0.0], [0.053384993225336075, 0.029621517285704613, 0.02103007584810257, 0.023695699870586395, 0.03343639150261879, 0.018393808975815773, 0.02406071126461029, 0.02281002514064312, 0.01397236529737711, 0.028813553974032402, 0.01905973069369793, 0.015371968038380146, 0.02533532865345478, 0.019971955567598343, 0.01407574862241745, 0.038844529539346695, 0.021346213296055794, 0.019321439787745476, 0.056326620280742645, 0.021360009908676147, 0.023394577205181122, 0.023136647418141365, 0.06416383385658264, 0.06724689900875092, 0.03469511494040489, 0.04349019005894661, 0.030327225103974342, 0.03285713121294975, 0.053275078535079956, 0.0659981444478035, 0.04118247330188751, 0.0, 0.0], [0.1817709356546402, 0.019533155485987663, 0.028002919629216194, 0.029110189527273178, 0.04134832322597504, 0.018019473180174828, 0.01047173235565424, 0.008382904343307018, 0.01533579733222723, 0.021839456632733345, 0.016893332824110985, 0.03806138038635254, 0.03643867000937462, 0.01746426336467266, 0.026129072532057762, 0.04011503607034683, 0.01831720769405365, 0.012488231062889099, 0.05136970803141594, 0.01944383792579174, 0.019889753311872482, 0.0035764523781836033, 0.02623295783996582, 0.018429195508360863, 0.011723743751645088, 0.0327298603951931, 0.034808199852705, 0.012035047635436058, 0.06030294671654701, 0.00787330698221922, 0.042272936552762985, 0.07959000766277313, 0.0], [0.015003408305346966, 0.020334847271442413, 0.007813429459929466, 0.01655357889831066, 0.016466103494167328, 0.00023809666163288057, 0.001959891989827156, 0.0006898253923282027, 0.006483215373009443, 0.010734064504504204, 0.00024435276282019913, 0.014634678140282631, 0.009247620590031147, 0.000260591710684821, 0.009339914657175541, 0.04272656515240669, 0.00028863875195384026, 0.00038116745417937636, 0.054749373346567154, 0.09452779591083527, 0.0003421132278162986, 0.0017270190874114633, 0.04745934158563614, 0.026613781228661537, 0.0010238653048872948, 0.16537976264953613, 0.01418711245059967, 0.0013092345325276256, 0.04770653694868088, 0.011198491789400578, 0.2205076366662979, 0.13942602276802063, 0.0004418624739628285]], [[1.0, 0.0, 0.0, 0.0, 0.0, 0.0, 0.0, 0.0, 0.0, 0.0, 0.0, 0.0, 0.0, 0.0, 0.0, 0.0, 0.0, 0.0, 0.0, 0.0, 0.0, 0.0, 0.0, 0.0, 0.0, 0.0, 0.0, 0.0, 0.0, 0.0, 0.0, 0.0, 0.0], [0.9333657622337341, 0.06663426011800766, 0.0, 0.0, 0.0, 0.0, 0.0, 0.0, 0.0, 0.0, 0.0, 0.0, 0.0, 0.0, 0.0, 0.0, 0.0, 0.0, 0.0, 0.0, 0.0, 0.0, 0.0, 0.0, 0.0, 0.0, 0.0, 0.0, 0.0, 0.0, 0.0, 0.0, 0.0], [0.324523389339447, 0.5923720598220825, 0.08310455083847046, 0.0, 0.0, 0.0, 0.0, 0.0, 0.0, 0.0, 0.0, 0.0, 0.0, 0.0, 0.0, 0.0, 0.0, 0.0, 0.0, 0.0, 0.0, 0.0, 0.0, 0.0, 0.0, 0.0, 0.0, 0.0, 0.0, 0.0, 0.0, 0.0, 0.0], [0.14159758388996124, 0.514380931854248, 0.281441330909729, 0.0625801533460617, 0.0, 0.0, 0.0, 0.0, 0.0, 0.0, 0.0, 0.0, 0.0, 0.0, 0.0, 0.0, 0.0, 0.0, 0.0, 0.0, 0.0, 0.0, 0.0, 0.0, 0.0, 0.0, 0.0, 0.0, 0.0, 0.0, 0.0, 0.0, 0.0], [0.2526226043701172, 0.0583406463265419, 0.10458869487047195, 0.44111621379852295, 0.1433318853378296, 0.0, 0.0, 0.0, 0.0, 0.0, 0.0, 0.0, 0.0, 0.0, 0.0, 0.0, 0.0, 0.0, 0.0, 0.0, 0.0, 0.0, 0.0, 0.0, 0.0, 0.0, 0.0, 0.0, 0.0, 0.0, 0.0, 0.0, 0.0], [0.1805156171321869, 0.09828907251358032, 0.10873953998088837, 0.12262704968452454, 0.09995540976524353, 0.38987329602241516, 0.0, 0.0, 0.0, 0.0, 0.0, 0.0, 0.0, 0.0, 0.0, 0.0, 0.0, 0.0, 0.0, 0.0, 0.0, 0.0, 0.0, 0.0, 0.0, 0.0, 0.0, 0.0, 0.0, 0.0, 0.0, 0.0, 0.0], [0.17192307114601135, 0.023320961743593216, 0.12332707643508911, 0.060765016824007034, 0.05971720442175865, 0.3475916087627411, 0.21335503458976746, 0.0, 0.0, 0.0, 0.0, 0.0, 0.0, 0.0, 0.0, 0.0, 0.0, 0.0, 0.0, 0.0, 0.0, 0.0, 0.0, 0.0, 0.0, 0.0, 0.0, 0.0, 0.0, 0.0, 0.0, 0.0, 0.0], [0.09627040475606918, 0.04683614522218704, 0.028257327154278755, 0.032392505556344986, 0.05865046754479408, 0.1582934707403183, 0.3099648654460907, 0.2693348228931427, 0.0, 0.0, 0.0, 0.0, 0.0, 0.0, 0.0, 0.0, 0.0, 0.0, 0.0, 0.0, 0.0, 0.0, 0.0, 0.0, 0.0, 0.0, 0.0, 0.0, 0.0, 0.0, 0.0, 0.0, 0.0], [0.09948240965604782, 0.06464177370071411, 0.028671884909272194, 0.07305677235126495, 0.029787184670567513, 0.1396002322435379, 0.2075471132993698, 0.2658020853996277, 0.09141050279140472, 0.0, 0.0, 0.0, 0.0, 0.0, 0.0, 0.0, 0.0, 0.0, 0.0, 0.0, 0.0, 0.0, 0.0, 0.0, 0.0, 0.0, 0.0, 0.0, 0.0, 0.0, 0.0, 0.0, 0.0], [0.05632041022181511, 0.029885852709412575, 0.013419922441244125, 0.0024075573310256004, 0.013245494104921818, 0.045645494014024734, 0.05522565171122551, 0.10027104616165161, 0.6579984426498413, 0.025580087676644325, 0.0, 0.0, 0.0, 0.0, 0.0, 0.0, 0.0, 0.0, 0.0, 0.0, 0.0, 0.0, 0.0, 0.0, 0.0, 0.0, 0.0, 0.0, 0.0, 0.0, 0.0, 0.0, 0.0], [0.04266994073987007, 0.010426471941173077, 0.010652205906808376, 0.013446650467813015, 0.009353144094347954, 0.040159791707992554, 0.07105176895856857, 0.13737642765045166, 0.10423256456851959, 0.21736636757850647, 0.343264639377594, 0.0, 0.0, 0.0, 0.0, 0.0, 0.0, 0.0, 0.0, 0.0, 0.0, 0.0, 0.0, 0.0, 0.0, 0.0, 0.0, 0.0, 0.0, 0.0, 0.0, 0.0, 0.0], [0.029683902859687805, 0.002561642089858651, 0.004407479893416166, 0.0342487096786499, 0.014238723553717136, 0.02800186350941658, 0.02228802815079689, 0.07105962187051773, 0.040262237191200256, 0.5543044805526733, 0.17333030700683594, 0.025612954050302505, 0.0, 0.0, 0.0, 0.0, 0.0, 0.0, 0.0, 0.0, 0.0, 0.0, 0.0, 0.0, 0.0, 0.0, 0.0, 0.0, 0.0, 0.0, 0.0, 0.0, 0.0], [0.04039590060710907, 0.008631587028503418, 0.005494218319654465, 0.003864140948280692, 0.023363105952739716, 0.027207009494304657, 0.025677327066659927, 0.05048523470759392, 0.051056113094091415, 0.050417788326740265, 0.1416434794664383, 0.5115285515785217, 0.060235630720853806, 0.0, 0.0, 0.0, 0.0, 0.0, 0.0, 0.0, 0.0, 0.0, 0.0, 0.0, 0.0, 0.0, 0.0, 0.0, 0.0, 0.0, 0.0, 0.0, 0.0], [0.0287063866853714, 0.004808460362255573, 0.004723650403320789, 0.005382601637393236, 0.003456041682511568, 0.014470175839960575, 0.02403733879327774, 0.04162617772817612, 0.03567295894026756, 0.07060737162828445, 0.10830996930599213, 0.058116137981414795, 0.20621219277381897, 0.3938705623149872, 0.0, 0.0, 0.0, 0.0, 0.0, 0.0, 0.0, 0.0, 0.0, 0.0, 0.0, 0.0, 0.0, 0.0, 0.0, 0.0, 0.0, 0.0, 0.0], [0.05342648923397064, 0.011923289857804775, 0.015572266653180122, 0.002112325746566057, 0.005851037334650755, 0.02217092178761959, 0.03818466514348984, 0.027411552146077156, 0.05464286729693413, 0.04910833388566971, 0.1232837438583374, 0.05287167429924011, 0.07545653730630875, 0.37015312910079956, 0.09783118218183517, 0.0, 0.0, 0.0, 0.0, 0.0, 0.0, 0.0, 0.0, 0.0, 0.0, 0.0, 0.0, 0.0, 0.0, 0.0, 0.0, 0.0, 0.0], [0.008346719667315483, 0.00027852770290337503, 0.0011786021059378982, 0.002139549469575286, 0.002476172288879752, 0.002918292535468936, 0.004576902370899916, 0.003965598996728659, 0.0049730222672224045, 0.011347777210175991, 0.013014068827033043, 0.005545969121158123, 0.02089557982981205, 0.038385409861803055, 0.8750316500663757, 0.004926199093461037, 0.0, 0.0, 0.0, 0.0, 0.0, 0.0, 0.0, 0.0, 0.0, 0.0, 0.0, 0.0, 0.0, 0.0, 0.0, 0.0, 0.0], [0.021700304001569748, 0.0026786618400365114, 0.002383924089372158, 0.0028156298212707043, 0.0015562304761260748, 0.006139405537396669, 0.00903980154544115, 0.01374085620045662, 0.012412190437316895, 0.02468651719391346, 0.03406905010342598, 0.017561428248882294, 0.06082947924733162, 0.12004056572914124, 0.1151682510972023, 0.12663693726062775, 0.42854073643684387, 0.0, 0.0, 0.0, 0.0, 0.0, 0.0, 0.0, 0.0, 0.0, 0.0, 0.0, 0.0, 0.0, 0.0, 0.0, 0.0], [0.019681427627801895, 0.002866190392524004, 0.002752862870693207, 0.00236420682631433, 0.00222057499922812, 0.004776972346007824, 0.0050153895281255245, 0.007020775228738785, 0.006602993234992027, 0.01582488790154457, 0.02177911251783371, 0.02237587235867977, 0.03905550763010979, 0.07342635840177536, 0.07227568328380585, 0.08103637397289276, 0.2556317448616028, 0.36529308557510376, 0.0, 0.0, 0.0, 0.0, 0.0, 0.0, 0.0, 0.0, 0.0, 0.0, 0.0, 0.0, 0.0, 0.0, 0.0], [0.034438688308000565, 0.002429508836939931, 0.0027038808912038803, 0.0010108936112374067, 0.0028212429024279118, 0.009310652501881123, 0.00747407041490078, 0.010526392608880997, 0.019342606887221336, 0.0065833888947963715, 0.03052528016269207, 0.00816653948277235, 0.02394566312432289, 0.08047980070114136, 0.04428936541080475, 0.048865098506212234, 0.2326631247997284, 0.38709738850593567, 0.04732649028301239, 0.0, 0.0, 0.0, 0.0, 0.0, 0.0, 0.0, 0.0, 0.0, 0.0, 0.0, 0.0, 0.0, 0.0], [0.0036976744886487722, 0.006450952962040901, 0.000492171267978847, 0.00030695958412252367, 0.00012400737614370883, 0.0010727361077442765, 0.0008858788060024381, 0.0013806347269564867, 0.0008200176525861025, 0.0002731188724283129, 0.002783061470836401, 0.035294245928525925, 0.003561372635886073, 0.007148317992687225, 0.0016474059084430337, 0.01673167757689953, 0.019172819331288338, 0.022339198738336563, 0.8733668327331543, 0.0024509564973413944, 0.0, 0.0, 0.0, 0.0, 0.0, 0.0, 0.0, 0.0, 0.0, 0.0, 0.0, 0.0, 0.0], [0.01362878642976284, 0.0014384430833160877, 0.0012188655091449618, 0.0012915865518152714, 0.00061180250486359, 0.0021400386467576027, 0.002746955957263708, 0.0033360449597239494, 0.0030918687116354704, 0.005988904740661383, 0.007237216457724571, 0.0035477401688694954, 0.012891950085759163, 0.02222914807498455, 0.02082424983382225, 0.02629529871046543, 0.07648162543773651, 0.16261455416679382, 0.12638655304908752, 0.10034417361021042, 0.4056541323661804, 0.0, 0.0, 0.0, 0.0, 0.0, 0.0, 0.0, 0.0, 0.0, 0.0, 0.0, 0.0], [0.021432990208268166, 0.000729164807125926, 0.0010889688273891807, 0.0008559634443372488, 0.0010556620545685291, 0.0023542498238384724, 0.0018633303698152304, 0.0024869877379387617, 0.004011368378996849, 0.0036456258967518806, 0.006636617239564657, 0.002459165873005986, 0.008106649853289127, 0.019501425325870514, 0.013945522718131542, 0.016831589862704277, 0.06727857142686844, 0.10203754901885986, 0.07506182789802551, 0.03785504400730133, 0.3474156856536865, 0.2633460462093353, 0.0, 0.0, 0.0, 0.0, 0.0, 0.0, 0.0, 0.0, 0.0, 0.0, 0.0], [0.018374435603618622, 0.0016340160509571433, 0.0002648657828103751, 0.0006277093198150396, 0.0007212890195660293, 0.002294711535796523, 0.0014375783503055573, 0.0024335705675184727, 0.001022503012791276, 0.002173094777390361, 0.005665967240929604, 0.0005857068463228643, 0.00473030423745513, 0.015789642930030823, 0.009121065028011799, 0.006447887048125267, 0.04965188354253769, 0.0722111165523529, 0.04530426487326622, 0.022536221891641617, 0.23380500078201294, 0.28100958466529846, 0.22215762734413147, 0.0, 0.0, 0.0, 0.0, 0.0, 0.0, 0.0, 0.0, 0.0, 0.0], [0.01601029932498932, 0.0004190778126940131, 0.001679317676462233, 0.0020331647247076035, 0.0011126043973490596, 0.0023041237145662308, 0.0016414884012192488, 0.002045230707153678, 0.0008826449047774076, 0.0035318206064403057, 0.004660752136260271, 0.0011461266549304128, 0.004025286063551903, 0.011729465797543526, 0.00690601859241724, 0.005978981964290142, 0.03413611277937889, 0.05391992628574371, 0.0753692165017128, 0.015544145368039608, 0.1530727595090866, 0.2167249470949173, 0.23267340660095215, 0.15245305001735687, 0.0, 0.0, 0.0, 0.0, 0.0, 0.0, 0.0, 0.0, 0.0], [0.016415506601333618, 0.001088100834749639, 0.0013027036329731345, 0.001233563176356256, 0.0010325222974643111, 0.0013605309650301933, 0.0011352731380611658, 0.0009713192121125758, 0.0017580235144123435, 0.002354996046051383, 0.0022678012028336525, 0.0026170029304921627, 0.0032849626149982214, 0.005564442835748196, 0.007287745364010334, 0.006582660600543022, 0.01691107265651226, 0.02334817871451378, 0.033363789319992065, 0.01206084806472063, 0.08410519361495972, 0.10776980221271515, 0.12741322815418243, 0.25009602308273315, 0.2886747717857361, 0.0, 0.0, 0.0, 0.0, 0.0, 0.0, 0.0, 0.0], [0.03111772984266281, 0.001506305648945272, 0.001083931652829051, 0.0024215197190642357, 0.0013826851500198245, 0.0037937273737043142, 0.0016339299036189914, 0.003119517583400011, 0.0012812619097530842, 0.002068524481728673, 0.004760111682116985, 0.0008757305331528187, 0.008592118509113789, 0.0093536376953125, 0.011993253603577614, 0.005963002797216177, 0.02202817238867283, 0.03411327674984932, 0.009586768224835396, 0.013681802898645401, 0.08417044579982758, 0.08917802572250366, 0.10806845128536224, 0.1556079238653183, 0.3723686933517456, 0.02024945802986622, 0.0, 0.0, 0.0, 0.0, 0.0, 0.0, 0.0], [0.01483848225325346, 0.0005757312756031752, 0.004743661731481552, 0.000456773501355201, 0.0007412274717353284, 0.0015000005951151252, 0.0008866079151630402, 0.0008452083566226065, 0.00010359255247749388, 0.000906514294911176, 0.0018096790881827474, 0.06029108911752701, 0.0015377562958747149, 0.003307939972728491, 0.0013713664375245571, 0.0020826784893870354, 0.00864398293197155, 0.009088878519833088, 0.007760959677398205, 0.005808317568153143, 0.03386511281132698, 0.03987189382314682, 0.05374552682042122, 0.03694775700569153, 0.12259435653686523, 0.5718705058097839, 0.013804465532302856, 0.0, 0.0, 0.0, 0.0, 0.0, 0.0], [0.01856999285519123, 0.00121431821025908, 0.0012880435679107904, 0.0010612551122903824, 0.0007490027346648276, 0.001048562116920948, 0.0008687871741130948, 0.0005973855149932206, 0.0012938276631757617, 0.0014042517868801951, 0.0011055100476369262, 0.0005003443220630288, 0.0020262610632926226, 0.0021463106386363506, 0.0028737960383296013, 0.002641374710947275, 0.005802979227155447, 0.008191362954676151, 0.008339078165590763, 0.005543295759707689, 0.02655870094895363, 0.03308918699622154, 0.03250737115740776, 0.09199868142604828, 0.10410481691360474, 0.16861771047115326, 0.20895440876483917, 0.2669033706188202, 0.0, 0.0, 0.0, 0.0, 0.0], [0.016654428094625473, 0.0007248656474985182, 0.0008980659767985344, 0.003161686472594738, 0.0005522817955352366, 0.0016607260331511497, 0.0007486121612600982, 0.000965278537478298, 0.0003842803416773677, 0.002257777377963066, 0.0015545611968263984, 0.0007036984898149967, 0.0014688191004097462, 0.0027998785953968763, 0.0030139777809381485, 0.0053690397180616856, 0.006552345119416714, 0.008701569400727749, 0.00713887345045805, 0.006516313645988703, 0.02618555724620819, 0.039291974157094955, 0.03155010566115379, 0.024343043565750122, 0.10670769214630127, 0.15159796178340912, 0.13674229383468628, 0.3201395869255066, 0.09161476045846939, 0.0, 0.0, 0.0, 0.0], [0.03722685948014259, 0.0007442738278768957, 0.001918035326525569, 0.0014290636172518134, 0.0025597326457500458, 0.003292837180197239, 0.0009007268236018717, 0.0015445105964317918, 0.00035572133492678404, 0.00044927361886948347, 0.002668817527592182, 0.0014046651776880026, 0.0017281012842431664, 0.004542734939604998, 0.0012941041495651007, 0.0046776714734733105, 0.009138199500739574, 0.008992969058454037, 0.0053436653688549995, 0.002031839219853282, 0.030930910259485245, 0.021215293556451797, 0.03639978915452957, 0.056794699281454086, 0.11195959150791168, 0.011458099819719791, 0.033532898873090744, 0.2658851742744446, 0.24695394933223724, 0.09262573719024658, 0.0, 0.0, 0.0], [0.04408879205584526, 0.0011082945857197046, 0.003387593198567629, 0.004853193182498217, 0.002864320296794176, 0.004500855226069689, 0.0014518112875521183, 0.002192495856434107, 0.0007902366342023015, 0.0006717382348142564, 0.0035771599505096674, 0.0005131771322339773, 0.01286172866821289, 0.005116849672049284, 0.0030142536852508783, 0.005887452978640795, 0.01045342069119215, 0.0138183468952775, 0.008691052906215191, 0.011229277588427067, 0.0314009003341198, 0.023181656375527382, 0.030444374307990074, 0.03520685061812401, 0.09999868273735046, 0.006090165115892887, 0.1471422165632248, 0.16393040120601654, 0.12749511003494263, 0.1935776174068451, 0.00045999084250070155, 0.0, 0.0], [0.037174027413129807, 0.005006900988519192, 0.0016112333396449685, 0.002830151002854109, 0.0005118487169966102, 0.0027071258518844843, 0.00209703017026186, 0.0012328766752034426, 0.0006310886819846928, 0.001763247768394649, 0.0017868776340037584, 0.00025283312425017357, 0.0010720754507929087, 0.0026448313146829605, 0.0015661598881706595, 0.003808412002399564, 0.005276739131659269, 0.006930264178663492, 0.013310834765434265, 0.003581645665690303, 0.01830449514091015, 0.026684759184718132, 0.019971508532762527, 0.03215581178665161, 0.07432039082050323, 0.0239222664386034, 0.0876147598028183, 0.18007560074329376, 0.027492547407746315, 0.059722479432821274, 0.19122697412967682, 0.1627122461795807, 0.0], [0.00811693537980318, 0.0008723057107999921, 0.00037072887062095106, 0.00047348623047582805, 0.00017832961748354137, 0.0003994708531536162, 0.0002951173228211701, 0.00018311935127712786, 0.00016714585945010185, 0.00023702491307631135, 0.00025333548546768725, 0.00012855030945502222, 0.00020213214156683534, 0.0003994495200458914, 0.00016511790454387665, 0.00046228771680034697, 0.0008780236821621656, 0.0011140491114929318, 0.0020708804950118065, 0.0019636773504316807, 0.0035278573632240295, 0.004475222900509834, 0.004463491030037403, 0.007312553469091654, 0.014446251094341278, 0.035030465573072433, 0.020014168694615364, 0.04388580843806267, 0.019436737522482872, 0.1132575273513794, 0.072776198387146, 0.16196829080581665, 0.4804742634296417]], [[1.0, 0.0, 0.0, 0.0, 0.0, 0.0, 0.0, 0.0, 0.0, 0.0, 0.0, 0.0, 0.0, 0.0, 0.0, 0.0, 0.0, 0.0, 0.0, 0.0, 0.0, 0.0, 0.0, 0.0, 0.0, 0.0, 0.0, 0.0, 0.0, 0.0, 0.0, 0.0, 0.0], [0.947374701499939, 0.05262523889541626, 0.0, 0.0, 0.0, 0.0, 0.0, 0.0, 0.0, 0.0, 0.0, 0.0, 0.0, 0.0, 0.0, 0.0, 0.0, 0.0, 0.0, 0.0, 0.0, 0.0, 0.0, 0.0, 0.0, 0.0, 0.0, 0.0, 0.0, 0.0, 0.0, 0.0, 0.0], [0.8785885572433472, 0.055394649505615234, 0.06601685285568237, 0.0, 0.0, 0.0, 0.0, 0.0, 0.0, 0.0, 0.0, 0.0, 0.0, 0.0, 0.0, 0.0, 0.0, 0.0, 0.0, 0.0, 0.0, 0.0, 0.0, 0.0, 0.0, 0.0, 0.0, 0.0, 0.0, 0.0, 0.0, 0.0, 0.0], [0.727077066898346, 0.13709872961044312, 0.04866093397140503, 0.08716322481632233, 0.0, 0.0, 0.0, 0.0, 0.0, 0.0, 0.0, 0.0, 0.0, 0.0, 0.0, 0.0, 0.0, 0.0, 0.0, 0.0, 0.0, 0.0, 0.0, 0.0, 0.0, 0.0, 0.0, 0.0, 0.0, 0.0, 0.0, 0.0, 0.0], [0.4651746451854706, 0.1342930793762207, 0.15358160436153412, 0.17472553253173828, 0.07222515344619751, 0.0, 0.0, 0.0, 0.0, 0.0, 0.0, 0.0, 0.0, 0.0, 0.0, 0.0, 0.0, 0.0, 0.0, 0.0, 0.0, 0.0, 0.0, 0.0, 0.0, 0.0, 0.0, 0.0, 0.0, 0.0, 0.0, 0.0, 0.0], [0.17035984992980957, 0.011841942556202412, 0.023650867864489555, 0.021745823323726654, 0.025856319814920425, 0.746545135974884, 0.0, 0.0, 0.0, 0.0, 0.0, 0.0, 0.0, 0.0, 0.0, 0.0, 0.0, 0.0, 0.0, 0.0, 0.0, 0.0, 0.0, 0.0, 0.0, 0.0, 0.0, 0.0, 0.0, 0.0, 0.0, 0.0, 0.0], [0.1421457827091217, 0.043832723051309586, 0.05021179839968681, 0.0451650470495224, 0.05872132629156113, 0.5111532807350159, 0.14876998960971832, 0.0, 0.0, 0.0, 0.0, 0.0, 0.0, 0.0, 0.0, 0.0, 0.0, 0.0, 0.0, 0.0, 0.0, 0.0, 0.0, 0.0, 0.0, 0.0, 0.0, 0.0, 0.0, 0.0, 0.0, 0.0, 0.0], [0.08473355323076248, 0.02036980912089348, 0.037461645901203156, 0.031959112733602524, 0.03419603407382965, 0.43500667810440063, 0.11894062161445618, 0.2373325675725937, 0.0, 0.0, 0.0, 0.0, 0.0, 0.0, 0.0, 0.0, 0.0, 0.0, 0.0, 0.0, 0.0, 0.0, 0.0, 0.0, 0.0, 0.0, 0.0, 0.0, 0.0, 0.0, 0.0, 0.0, 0.0], [0.3423081338405609, 0.03593635559082031, 0.0725921019911766, 0.10352755337953568, 0.08196527510881424, 0.07694560289382935, 0.1419631838798523, 0.09896719455718994, 0.04579457640647888, 0.0, 0.0, 0.0, 0.0, 0.0, 0.0, 0.0, 0.0, 0.0, 0.0, 0.0, 0.0, 0.0, 0.0, 0.0, 0.0, 0.0, 0.0, 0.0, 0.0, 0.0, 0.0, 0.0, 0.0], [0.37114858627319336, 0.06278739124536514, 0.05806949734687805, 0.055662721395492554, 0.1312483847141266, 0.07535628974437714, 0.10726628452539444, 0.0792403295636177, 0.030107304453849792, 0.029113246127963066, 0.0, 0.0, 0.0, 0.0, 0.0, 0.0, 0.0, 0.0, 0.0, 0.0, 0.0, 0.0, 0.0, 0.0, 0.0, 0.0, 0.0, 0.0, 0.0, 0.0, 0.0, 0.0, 0.0], [0.06430108845233917, 0.005169103853404522, 0.011012991890311241, 0.00905488058924675, 0.011748069897294044, 0.31885015964508057, 0.03684943914413452, 0.08319549262523651, 0.012068137526512146, 0.014676203019917011, 0.433074414730072, 0.0, 0.0, 0.0, 0.0, 0.0, 0.0, 0.0, 0.0, 0.0, 0.0, 0.0, 0.0, 0.0, 0.0, 0.0, 0.0, 0.0, 0.0, 0.0, 0.0, 0.0, 0.0], [0.2377793788909912, 0.03812997043132782, 0.019743353128433228, 0.07508024573326111, 0.1442078948020935, 0.06244927644729614, 0.07018385082483292, 0.06523603200912476, 0.04883217439055443, 0.03460031747817993, 0.06439769268035889, 0.13935981690883636, 0.0, 0.0, 0.0, 0.0, 0.0, 0.0, 0.0, 0.0, 0.0, 0.0, 0.0, 0.0, 0.0, 0.0, 0.0, 0.0, 0.0, 0.0, 0.0, 0.0, 0.0], [0.2901448905467987, 0.04085766524076462, 0.06965620070695877, 0.06467737257480621, 0.11515593528747559, 0.07279440015554428, 0.05406038835644722, 0.040959980338811874, 0.036461226642131805, 0.037096984684467316, 0.08112157881259918, 0.0624944269657135, 0.034518931061029434, 0.0, 0.0, 0.0, 0.0, 0.0, 0.0, 0.0, 0.0, 0.0, 0.0, 0.0, 0.0, 0.0, 0.0, 0.0, 0.0, 0.0, 0.0, 0.0, 0.0], [0.04191605746746063, 0.0033880684059113264, 0.007082359399646521, 0.0058992053382098675, 0.00758619187399745, 0.2038978934288025, 0.02329675853252411, 0.05173072591423988, 0.007816813886165619, 0.009731383062899113, 0.2776018977165222, 0.008386769331991673, 0.01617269776761532, 0.33549317717552185, 0.0, 0.0, 0.0, 0.0, 0.0, 0.0, 0.0, 0.0, 0.0, 0.0, 0.0, 0.0, 0.0, 0.0, 0.0, 0.0, 0.0, 0.0, 0.0], [0.15129365026950836, 0.04240789636969566, 0.043833743780851364, 0.09706757962703705, 0.14943546056747437, 0.04439885541796684, 0.06174501031637192, 0.04199517145752907, 0.018608782440423965, 0.031412459909915924, 0.050926484167575836, 0.06660284101963043, 0.09416219592094421, 0.057612959295511246, 0.048496924340724945, 0.0, 0.0, 0.0, 0.0, 0.0, 0.0, 0.0, 0.0, 0.0, 0.0, 0.0, 0.0, 0.0, 0.0, 0.0, 0.0, 0.0, 0.0], [0.29958030581474304, 0.07432065159082413, 0.030061932280659676, 0.0167364701628685, 0.03856481611728668, 0.051068779081106186, 0.09408663213253021, 0.05606794357299805, 0.05458228290081024, 0.045220423489809036, 0.0563807338476181, 0.015378042124211788, 0.04082850366830826, 0.060846976935863495, 0.030811039730906487, 0.03546449542045593, 0.0, 0.0, 0.0, 0.0, 0.0, 0.0, 0.0, 0.0, 0.0, 0.0, 0.0, 0.0, 0.0, 0.0, 0.0, 0.0, 0.0], [0.030439995229244232, 0.0024933910463005304, 0.005298204254359007, 0.004223388619720936, 0.005517447367310524, 0.14508453011512756, 0.01603415049612522, 0.035986483097076416, 0.005758050363510847, 0.007398173213005066, 0.19613468647003174, 0.006090895738452673, 0.01146512757986784, 0.23738008737564087, 0.008031774312257767, 0.005861485376954079, 0.2768022119998932, 0.0, 0.0, 0.0, 0.0, 0.0, 0.0, 0.0, 0.0, 0.0, 0.0, 0.0, 0.0, 0.0, 0.0, 0.0, 0.0], [0.015668949112296104, 0.0019133485620841384, 0.0067479354329407215, 0.0056108757853507996, 0.00671036122366786, 0.10858524590730667, 0.013436980545520782, 0.03067481704056263, 0.00869804248213768, 0.00595876993611455, 0.15696410834789276, 0.006401261314749718, 0.014357191510498524, 0.19220465421676636, 0.00993881095200777, 0.008154554292559624, 0.22861391305923462, 0.17936018109321594, 0.0, 0.0, 0.0, 0.0, 0.0, 0.0, 0.0, 0.0, 0.0, 0.0, 0.0, 0.0, 0.0, 0.0, 0.0], [0.2751207649707794, 0.04635610058903694, 0.025782736018300056, 0.020371094346046448, 0.04519129917025566, 0.047415051609277725, 0.058008335530757904, 0.05449457839131355, 0.021855829283595085, 0.028674183413386345, 0.05054798722267151, 0.03578944504261017, 0.01434400025755167, 0.05505194887518883, 0.019970903173089027, 0.02507065422832966, 0.05983669310808182, 0.10591266304254532, 0.010205709375441074, 0.0, 0.0, 0.0, 0.0, 0.0, 0.0, 0.0, 0.0, 0.0, 0.0, 0.0, 0.0, 0.0, 0.0], [0.12210457772016525, 0.02900638058781624, 0.02792610600590706, 0.030763691291213036, 0.06431958824396133, 0.05075867474079132, 0.05746716633439064, 0.038544513285160065, 0.028814438730478287, 0.0364103801548481, 0.055306971073150635, 0.0275556780397892, 0.05062389373779297, 0.06039683148264885, 0.03790908306837082, 0.03416260704398155, 0.06550318747758865, 0.08224611729383469, 0.08903131633996964, 0.011148842051625252, 0.0, 0.0, 0.0, 0.0, 0.0, 0.0, 0.0, 0.0, 0.0, 0.0, 0.0, 0.0, 0.0], [0.019922729581594467, 0.0015991259133443236, 0.003536268137395382, 0.0027606093790382147, 0.0036747497506439686, 0.09198571741580963, 0.009868192486464977, 0.021762726828455925, 0.003674618434160948, 0.004800304304808378, 0.12327180057764053, 0.0039482275024056435, 0.0077277072705328465, 0.14901947975158691, 0.005094499327242374, 0.0038495510816574097, 0.17433805763721466, 0.14503762125968933, 0.0031391775701195, 0.003901564748957753, 0.2170872837305069, 0.0, 0.0, 0.0, 0.0, 0.0, 0.0, 0.0, 0.0, 0.0, 0.0, 0.0, 0.0], [0.025169139727950096, 0.002589145675301552, 0.007904477417469025, 0.002818175358697772, 0.008317491970956326, 0.06284765899181366, 0.01609736867249012, 0.024833567440509796, 0.007658042013645172, 0.011317080818116665, 0.08451005071401596, 0.0121354004368186, 0.022048385813832283, 0.1001725047826767, 0.015103284269571304, 0.020152265205979347, 0.11906804889440536, 0.14148971438407898, 0.006576653569936752, 0.007074063178151846, 0.1485065519809723, 0.1536109447479248, 0.0, 0.0, 0.0, 0.0, 0.0, 0.0, 0.0, 0.0, 0.0, 0.0, 0.0], [0.08679644018411636, 0.015818683430552483, 0.009913155809044838, 0.00594112416729331, 0.011749114841222763, 0.04402250051498413, 0.04941156879067421, 0.04721159487962723, 0.022448498755693436, 0.028144164010882378, 0.05249372497200966, 0.013664891943335533, 0.03804454207420349, 0.05856490507721901, 0.016008712351322174, 0.028531759977340698, 0.06752392649650574, 0.10004056245088577, 0.026074502617120743, 0.01816527359187603, 0.08061441779136658, 0.14588385820388794, 0.03293200954794884, 0.0, 0.0, 0.0, 0.0, 0.0, 0.0, 0.0, 0.0, 0.0, 0.0], [0.1220332533121109, 0.026796909049153328, 0.03471270948648453, 0.01660085655748844, 0.050985995680093765, 0.03362346068024635, 0.033762890845537186, 0.032894399017095566, 0.02276359125971794, 0.03469543904066086, 0.037108246237039566, 0.027503041550517082, 0.03050806373357773, 0.04070492088794708, 0.01940981112420559, 0.03338810056447983, 0.04603786766529083, 0.08141940832138062, 0.025792919099330902, 0.01771334744989872, 0.05326378345489502, 0.06955220550298691, 0.07340095937252045, 0.035327792167663574, 0.0, 0.0, 0.0, 0.0, 0.0, 0.0, 0.0, 0.0, 0.0], [0.012632710859179497, 0.0031967307440936565, 0.008999619632959366, 0.0037871068343520164, 0.005590221844613552, 0.0601874403655529, 0.010173024609684944, 0.02606339566409588, 0.008280323818325996, 0.005998441018164158, 0.08480241894721985, 0.007755733095109463, 0.014807662926614285, 0.10079344362020493, 0.011636024340987206, 0.007885104045271873, 0.12061364948749542, 0.12819869816303253, 0.0064871120266616344, 0.003230571746826172, 0.15047504007816315, 0.10557692497968674, 0.01548061240464449, 0.01902633160352707, 0.07832162082195282, 0.0, 0.0, 0.0, 0.0, 0.0, 0.0, 0.0, 0.0], [0.11176053434610367, 0.018635572865605354, 0.05622371286153793, 0.04677280783653259, 0.037364933639764786, 0.022993411868810654, 0.0313652828335762, 0.02640889212489128, 0.04335923120379448, 0.05663560330867767, 0.021786406636238098, 0.023822132498025894, 0.03064168058335781, 0.023289263248443604, 0.05430491641163826, 0.06881184130907059, 0.024489371106028557, 0.04777088388800621, 0.03627173602581024, 0.02222254127264023, 0.026998942717909813, 0.021766113117337227, 0.03442491218447685, 0.0282402653247118, 0.058919213712215424, 0.0247198399156332, 0.0, 0.0, 0.0, 0.0, 0.0, 0.0, 0.0], [0.10639803111553192, 0.037107937037944794, 0.08273961395025253, 0.017856867983937263, 0.020950010046362877, 0.018305253237485886, 0.022620098665356636, 0.018192274495959282, 0.021851178258657455, 0.012518538162112236, 0.019214095547795296, 0.03034006431698799, 0.07187619805335999, 0.02078801579773426, 0.03963523730635643, 0.061515890061855316, 0.023179277777671814, 0.043980423361063004, 0.04619220271706581, 0.02066797763109207, 0.027080880478024483, 0.04386552795767784, 0.032767415046691895, 0.043690670281648636, 0.05080843344330788, 0.040294915437698364, 0.025562988594174385, 0.0, 0.0, 0.0, 0.0, 0.0, 0.0], [0.015084560960531235, 0.0038223823066800833, 0.005877265706658363, 0.004971848800778389, 0.005370152182877064, 0.05223643034696579, 0.01612767018377781, 0.031829893589019775, 0.008211132138967514, 0.0114738242700696, 0.06704683601856232, 0.010528383776545525, 0.010598228313028812, 0.07938900589942932, 0.007211726158857346, 0.0062714628875255585, 0.09142366796731949, 0.1086651012301445, 0.003973816987127066, 0.005621667951345444, 0.1098332405090332, 0.09237758815288544, 0.022960487753152847, 0.019314909353852272, 0.08864139765501022, 0.018464716151356697, 0.011022248305380344, 0.09165031462907791, 0.0, 0.0, 0.0, 0.0, 0.0], [0.09854131937026978, 0.039670608937740326, 0.050521403551101685, 0.04794389382004738, 0.019531864672899246, 0.01568341627717018, 0.025074753910303116, 0.014997913502156734, 0.027723444625735283, 0.016418177634477615, 0.016389012336730957, 0.026316562667489052, 0.034359291195869446, 0.01775800622999668, 0.023362664505839348, 0.03763512521982193, 0.019405590370297432, 0.034421708434820175, 0.04902298375964165, 0.030190536752343178, 0.022159062325954437, 0.03754065930843353, 0.03879314661026001, 0.040324144065380096, 0.0423126220703125, 0.06829199194908142, 0.025314124301075935, 0.04330074414610863, 0.036995239555835724, 0.0, 0.0, 0.0, 0.0], [0.10688819736242294, 0.036595769226551056, 0.0050830901600420475, 0.010160417295992374, 0.013297352008521557, 0.041752081364393234, 0.02624681033194065, 0.03012860007584095, 0.013482394628226757, 0.018223203718662262, 0.0458262674510479, 0.025558792054653168, 0.0156188253313303, 0.050398945808410645, 0.011657016351819038, 0.011659129522740841, 0.05515514314174652, 0.050916638225317, 0.01920679397881031, 0.013998408801853657, 0.06383474171161652, 0.029088910669088364, 0.016710441559553146, 0.026095261797308922, 0.05484984070062637, 0.038066718727350235, 0.038960665464401245, 0.0537523478269577, 0.023679137229919434, 0.05310811474919319, 0.0, 0.0, 0.0], [0.10871606320142746, 0.06286416947841644, 0.023045102134346962, 0.012493216432631016, 0.009688260033726692, 0.023720799013972282, 0.025617355480790138, 0.028282899409532547, 0.01952310837805271, 0.015187129378318787, 0.024615777656435966, 0.018855800852179527, 0.01307192537933588, 0.025697484612464905, 0.010639801621437073, 0.007336434442549944, 0.02848823182284832, 0.0408751405775547, 0.023693954572081566, 0.028460821136832237, 0.0317811518907547, 0.033992134034633636, 0.016904523596167564, 0.0469975583255291, 0.05480918660759926, 0.060481686145067215, 0.021137820556759834, 0.05147772282361984, 0.015304331667721272, 0.07868856936693192, 0.03755195438861847, 0.0, 0.0], [0.16510623693466187, 0.013307327404618263, 0.02282031625509262, 0.03222498297691345, 0.02832779474556446, 0.01191212423145771, 0.021759118884801865, 0.012591326609253883, 0.025371311232447624, 0.015923501923680305, 0.01174506451934576, 0.0213401447981596, 0.02265852503478527, 0.012097006663680077, 0.058773912489414215, 0.04114297404885292, 0.012866128236055374, 0.021896712481975555, 0.027385763823986053, 0.01541272271424532, 0.014822269789874554, 0.013198774307966232, 0.029060130938887596, 0.04031302407383919, 0.023036928847432137, 0.050357889384031296, 0.04650066792964935, 0.03221075236797333, 0.045741330832242966, 0.011448168195784092, 0.051484785974025726, 0.04716220870614052, 0.0], [0.019862744957208633, 0.0006941380561329424, 0.0017670633969828486, 0.0019038193859159946, 0.0023115791846066713, 0.05924386531114578, 0.005164955742657185, 0.008714552037417889, 0.002490671118721366, 0.00305795855820179, 0.07585157454013824, 0.0023905516136437654, 0.00317734875716269, 0.08945121616125107, 0.0030652962159365416, 0.0016209144378080964, 0.10312028229236603, 0.06259164214134216, 0.0020582955330610275, 0.002232220722362399, 0.12742048501968384, 0.024703865870833397, 0.0035101959947496653, 0.004994177725166082, 0.02831711247563362, 0.005874199327081442, 0.006215323228389025, 0.03686564415693283, 0.00543811684474349, 0.004061868414282799, 0.004735513590276241, 0.0045343805104494095, 0.2925584614276886]], [[1.0, 0.0, 0.0, 0.0, 0.0, 0.0, 0.0, 0.0, 0.0, 0.0, 0.0, 0.0, 0.0, 0.0, 0.0, 0.0, 0.0, 0.0, 0.0, 0.0, 0.0, 0.0, 0.0, 0.0, 0.0, 0.0, 0.0, 0.0, 0.0, 0.0, 0.0, 0.0, 0.0], [0.9726406335830688, 0.02735934592783451, 0.0, 0.0, 0.0, 0.0, 0.0, 0.0, 0.0, 0.0, 0.0, 0.0, 0.0, 0.0, 0.0, 0.0, 0.0, 0.0, 0.0, 0.0, 0.0, 0.0, 0.0, 0.0, 0.0, 0.0, 0.0, 0.0, 0.0, 0.0, 0.0, 0.0, 0.0], [0.8850566744804382, 0.08160647749900818, 0.03333684056997299, 0.0, 0.0, 0.0, 0.0, 0.0, 0.0, 0.0, 0.0, 0.0, 0.0, 0.0, 0.0, 0.0, 0.0, 0.0, 0.0, 0.0, 0.0, 0.0, 0.0, 0.0, 0.0, 0.0, 0.0, 0.0, 0.0, 0.0, 0.0, 0.0, 0.0], [0.7844979763031006, 0.09046002477407455, 0.1072097048163414, 0.017832348123192787, 0.0, 0.0, 0.0, 0.0, 0.0, 0.0, 0.0, 0.0, 0.0, 0.0, 0.0, 0.0, 0.0, 0.0, 0.0, 0.0, 0.0, 0.0, 0.0, 0.0, 0.0, 0.0, 0.0, 0.0, 0.0, 0.0, 0.0, 0.0, 0.0], [0.6679065227508545, 0.10135097801685333, 0.10997919738292694, 0.0699087604880333, 0.050854504108428955, 0.0, 0.0, 0.0, 0.0, 0.0, 0.0, 0.0, 0.0, 0.0, 0.0, 0.0, 0.0, 0.0, 0.0, 0.0, 0.0, 0.0, 0.0, 0.0, 0.0, 0.0, 0.0, 0.0, 0.0, 0.0, 0.0, 0.0, 0.0], [0.5862790942192078, 0.06960928440093994, 0.06798022240400314, 0.060589633882045746, 0.08339764177799225, 0.1321440488100052, 0.0, 0.0, 0.0, 0.0, 0.0, 0.0, 0.0, 0.0, 0.0, 0.0, 0.0, 0.0, 0.0, 0.0, 0.0, 0.0, 0.0, 0.0, 0.0, 0.0, 0.0, 0.0, 0.0, 0.0, 0.0, 0.0, 0.0], [0.5015711784362793, 0.062278736382722855, 0.07209988683462143, 0.0559091791510582, 0.08146876841783524, 0.12033165246248245, 0.10634062439203262, 0.0, 0.0, 0.0, 0.0, 0.0, 0.0, 0.0, 0.0, 0.0, 0.0, 0.0, 0.0, 0.0, 0.0, 0.0, 0.0, 0.0, 0.0, 0.0, 0.0, 0.0, 0.0, 0.0, 0.0, 0.0, 0.0], [0.4001609683036804, 0.055254001170396805, 0.0634767934679985, 0.05413786694407463, 0.07119616121053696, 0.11230529099702835, 0.12489723414182663, 0.1185716912150383, 0.0, 0.0, 0.0, 0.0, 0.0, 0.0, 0.0, 0.0, 0.0, 0.0, 0.0, 0.0, 0.0, 0.0, 0.0, 0.0, 0.0, 0.0, 0.0, 0.0, 0.0, 0.0, 0.0, 0.0, 0.0], [0.4018533229827881, 0.08579418063163757, 0.0564488060772419, 0.07181122153997421, 0.08318911492824554, 0.07845644652843475, 0.09191884845495224, 0.0776887759566307, 0.05283931642770767, 0.0, 0.0, 0.0, 0.0, 0.0, 0.0, 0.0, 0.0, 0.0, 0.0, 0.0, 0.0, 0.0, 0.0, 0.0, 0.0, 0.0, 0.0, 0.0, 0.0, 0.0, 0.0, 0.0, 0.0], [0.38271602988243103, 0.07976950705051422, 0.06207747757434845, 0.06360235810279846, 0.08211027085781097, 0.07804950326681137, 0.08597437292337418, 0.07506486028432846, 0.0632784441113472, 0.02735722064971924, 0.0, 0.0, 0.0, 0.0, 0.0, 0.0, 0.0, 0.0, 0.0, 0.0, 0.0, 0.0, 0.0, 0.0, 0.0, 0.0, 0.0, 0.0, 0.0, 0.0, 0.0, 0.0, 0.0], [0.3404167592525482, 0.04535197094082832, 0.04658908396959305, 0.0403917133808136, 0.05489040166139603, 0.08179005980491638, 0.08906517922878265, 0.09645896404981613, 0.05564970150589943, 0.06398676335811615, 0.08540940284729004, 0.0, 0.0, 0.0, 0.0, 0.0, 0.0, 0.0, 0.0, 0.0, 0.0, 0.0, 0.0, 0.0, 0.0, 0.0, 0.0, 0.0, 0.0, 0.0, 0.0, 0.0, 0.0], [0.31186196208000183, 0.09539994597434998, 0.07292015105485916, 0.0697687417268753, 0.07777830213308334, 0.0673503577709198, 0.061614032834768295, 0.05481074005365372, 0.05252012610435486, 0.05022518336772919, 0.07299346476793289, 0.012756961397826672, 0.0, 0.0, 0.0, 0.0, 0.0, 0.0, 0.0, 0.0, 0.0, 0.0, 0.0, 0.0, 0.0, 0.0, 0.0, 0.0, 0.0, 0.0, 0.0, 0.0, 0.0], [0.36652860045433044, 0.06308672577142715, 0.03947843238711357, 0.04609524831175804, 0.05740753561258316, 0.0634833350777626, 0.0523846298456192, 0.055016178637742996, 0.04584015533328056, 0.06228691712021828, 0.0658990815281868, 0.0580635629594326, 0.024429505690932274, 0.0, 0.0, 0.0, 0.0, 0.0, 0.0, 0.0, 0.0, 0.0, 0.0, 0.0, 0.0, 0.0, 0.0, 0.0, 0.0, 0.0, 0.0, 0.0, 0.0], [0.2856443524360657, 0.03804026544094086, 0.039423875510692596, 0.03423862159252167, 0.046393983066082, 0.06771661341190338, 0.07328074425458908, 0.07855433225631714, 0.04789663106203079, 0.0559365451335907, 0.07124947011470795, 0.035689253360033035, 0.04956042394042015, 0.07637481391429901, 0.0, 0.0, 0.0, 0.0, 0.0, 0.0, 0.0, 0.0, 0.0, 0.0, 0.0, 0.0, 0.0, 0.0, 0.0, 0.0, 0.0, 0.0, 0.0], [0.29775434732437134, 0.05259547755122185, 0.04347937926650047, 0.0584586039185524, 0.04568726569414139, 0.05259405076503754, 0.04456198215484619, 0.0459747239947319, 0.06316148489713669, 0.07768759876489639, 0.05499142035841942, 0.034664712846279144, 0.05020100623369217, 0.05886146426200867, 0.019326534122228622, 0.0, 0.0, 0.0, 0.0, 0.0, 0.0, 0.0, 0.0, 0.0, 0.0, 0.0, 0.0, 0.0, 0.0, 0.0, 0.0, 0.0, 0.0], [0.28853142261505127, 0.04616912081837654, 0.028233060613274574, 0.038242407143116, 0.043306250125169754, 0.05174915865063667, 0.04318273440003395, 0.04393118992447853, 0.05616341158747673, 0.06773825734853745, 0.05490177497267723, 0.0813930481672287, 0.043256886303424835, 0.05904814600944519, 0.03989902883768082, 0.014254074543714523, 0.0, 0.0, 0.0, 0.0, 0.0, 0.0, 0.0, 0.0, 0.0, 0.0, 0.0, 0.0, 0.0, 0.0, 0.0, 0.0, 0.0], [0.23721377551555634, 0.03161582350730896, 0.03324563801288605, 0.029231935739517212, 0.03861812502145767, 0.05549166724085808, 0.059664979577064514, 0.06321783363819122, 0.040736980736255646, 0.0475267730653286, 0.05837821960449219, 0.030399682000279427, 0.04287157207727432, 0.06284617632627487, 0.053212910890579224, 0.04736895486712456, 0.06835900992155075, 0.0, 0.0, 0.0, 0.0, 0.0, 0.0, 0.0, 0.0, 0.0, 0.0, 0.0, 0.0, 0.0, 0.0, 0.0, 0.0], [0.2098696231842041, 0.02729126438498497, 0.03115660697221756, 0.026615004986524582, 0.03165113925933838, 0.05273227021098137, 0.0527450293302536, 0.056359048932790756, 0.04076546058058739, 0.04278239980340004, 0.05619123950600624, 0.030678292736411095, 0.04398961365222931, 0.060914766043424606, 0.050136979669332504, 0.0415731705725193, 0.06652858853340149, 0.07801955938339233, 0.0, 0.0, 0.0, 0.0, 0.0, 0.0, 0.0, 0.0, 0.0, 0.0, 0.0, 0.0, 0.0, 0.0, 0.0], [0.23853828012943268, 0.044145818799734116, 0.046435046941041946, 0.0345127172768116, 0.0357217937707901, 0.043693311512470245, 0.04304974526166916, 0.03498825803399086, 0.043718039989471436, 0.039521973580121994, 0.04457852616906166, 0.024599449709057808, 0.0625118613243103, 0.04753486067056656, 0.043756090104579926, 0.04995933547616005, 0.05090800300240517, 0.052662443369627, 0.019164465367794037, 0.0, 0.0, 0.0, 0.0, 0.0, 0.0, 0.0, 0.0, 0.0, 0.0, 0.0, 0.0, 0.0, 0.0], [0.17729149758815765, 0.04221462458372116, 0.030818697065114975, 0.03088609129190445, 0.03386848047375679, 0.045211851596832275, 0.04290102422237396, 0.03221559152007103, 0.04018864780664444, 0.04926901310682297, 0.048016246408224106, 0.03814244642853737, 0.05126514658331871, 0.05206844210624695, 0.04744118079543114, 0.03924534097313881, 0.05630474165081978, 0.05462944507598877, 0.05991857126355171, 0.02810293436050415, 0.0, 0.0, 0.0, 0.0, 0.0, 0.0, 0.0, 0.0, 0.0, 0.0, 0.0, 0.0, 0.0], [0.19048286974430084, 0.025203492492437363, 0.026787448674440384, 0.023672685027122498, 0.03110402822494507, 0.043453410267829895, 0.046493321657180786, 0.048206474632024765, 0.03323277086019516, 0.03892753645777702, 0.045491479337215424, 0.02444274351000786, 0.03570156916975975, 0.049077682197093964, 0.043035637587308884, 0.039055634289979935, 0.053717419505119324, 0.0665895864367485, 0.04320823773741722, 0.031764689832925797, 0.06035125255584717, 0.0, 0.0, 0.0, 0.0, 0.0, 0.0, 0.0, 0.0, 0.0, 0.0, 0.0, 0.0], [0.1497536599636078, 0.023474575951695442, 0.025508379563689232, 0.028942439705133438, 0.03517157584428787, 0.0388018898665905, 0.04594281315803528, 0.03962729126214981, 0.037087805569171906, 0.03872301056981087, 0.041907183825969696, 0.021688057109713554, 0.04328255355358124, 0.045925434678792953, 0.038939524441957474, 0.0400761142373085, 0.050600163638591766, 0.060830555856227875, 0.04372159019112587, 0.03023521788418293, 0.05728612467646599, 0.06247401237487793, 0.0, 0.0, 0.0, 0.0, 0.0, 0.0, 0.0, 0.0, 0.0, 0.0, 0.0], [0.1751340925693512, 0.02751927450299263, 0.0295140091329813, 0.02071533165872097, 0.0268735159188509, 0.034546125680208206, 0.03853079304099083, 0.03303780034184456, 0.04181556776165962, 0.04010030999779701, 0.03696895390748978, 0.030468927696347237, 0.039953965693712234, 0.04023706167936325, 0.04482618719339371, 0.03708262741565704, 0.04420142620801926, 0.04931041598320007, 0.04125745967030525, 0.028610683977603912, 0.04997345060110092, 0.05269284173846245, 0.03662918135523796, 0.0, 0.0, 0.0, 0.0, 0.0, 0.0, 0.0, 0.0, 0.0, 0.0], [0.13285993039608002, 0.04070807620882988, 0.041116781532764435, 0.034844253212213516, 0.040876030921936035, 0.02756720595061779, 0.02829369530081749, 0.02252042107284069, 0.03875419870018959, 0.04037802666425705, 0.029089409857988358, 0.029609229415655136, 0.05670115351676941, 0.03118189238011837, 0.03766117990016937, 0.056886397302150726, 0.033967047929763794, 0.03781304880976677, 0.04951411113142967, 0.031945567578077316, 0.03759903833270073, 0.04326637461781502, 0.043056681752204895, 0.0337902307510376, 0.0, 0.0, 0.0, 0.0, 0.0, 0.0, 0.0, 0.0, 0.0], [0.14709369838237762, 0.018218709155917168, 0.022143611684441566, 0.02162138558924198, 0.027072900906205177, 0.03385418653488159, 0.037876129150390625, 0.038019657135009766, 0.027932506054639816, 0.030901864171028137, 0.03606925159692764, 0.01902313344180584, 0.03465801477432251, 0.039169877767562866, 0.0337555818259716, 0.026136619970202446, 0.04297828674316406, 0.05313744395971298, 0.03463505953550339, 0.02014029584825039, 0.04878358170390129, 0.049908023327589035, 0.046243906021118164, 0.04715669900178909, 0.06346961855888367, 0.0, 0.0, 0.0, 0.0, 0.0, 0.0, 0.0, 0.0], [0.17602789402008057, 0.014882158488035202, 0.026751156896352768, 0.024088075384497643, 0.03566752001643181, 0.02709428407251835, 0.024984244257211685, 0.021471884101629257, 0.026359379291534424, 0.023845119401812553, 0.02756698802113533, 0.01686953194439411, 0.0777742862701416, 0.029109232127666473, 0.047996971756219864, 0.029002515599131584, 0.03132334351539612, 0.03615598380565643, 0.039595603942871094, 0.01700800471007824, 0.03483906388282776, 0.03443719074130058, 0.041492197662591934, 0.09124384075403214, 0.0405229814350605, 0.0038906026165932417, 0.0, 0.0, 0.0, 0.0, 0.0, 0.0, 0.0], [0.18501751124858856, 0.027787018567323685, 0.02509763278067112, 0.02701900526881218, 0.029199201613664627, 0.030337011441588402, 0.03222179412841797, 0.02301507443189621, 0.02679286152124405, 0.02279386855661869, 0.030674833804368973, 0.021220840513706207, 0.05388803407549858, 0.0325930118560791, 0.030737660825252533, 0.025725243613123894, 0.034866027534008026, 0.037935830652713776, 0.028672020882368088, 0.026148969307541847, 0.038753341883420944, 0.04179506376385689, 0.038631558418273926, 0.05337153375148773, 0.03982072323560715, 0.025711629539728165, 0.010172732174396515, 0.0, 0.0, 0.0, 0.0, 0.0, 0.0], [0.12446329742670059, 0.016768908128142357, 0.02010510489344597, 0.01926702819764614, 0.024457812309265137, 0.030203349888324738, 0.03127393499016762, 0.03254607319831848, 0.023185990750789642, 0.023508401587605476, 0.0317331925034523, 0.0170805212110281, 0.02908203937113285, 0.03428218141198158, 0.0357913039624691, 0.025820543989539146, 0.03753113001585007, 0.046182505786418915, 0.02950000949203968, 0.017913801595568657, 0.04274729639291763, 0.0424346961081028, 0.039002396166324615, 0.04141836613416672, 0.05949501693248749, 0.03595736250281334, 0.03098485805094242, 0.05726282298564911, 0.0, 0.0, 0.0, 0.0, 0.0], [0.14491018652915955, 0.025843985378742218, 0.031176969408988953, 0.019462741911411285, 0.012575728818774223, 0.02527458220720291, 0.022020692005753517, 0.021267293021082878, 0.031655412167310715, 0.027664173394441605, 0.026251593604683876, 0.022091036662459373, 0.038517944514751434, 0.028266893699765205, 0.0288776196539402, 0.036865368485450745, 0.030699938535690308, 0.03204504773020744, 0.034116290509700775, 0.020355410873889923, 0.03446316346526146, 0.03542866185307503, 0.030728401616215706, 0.04441897198557854, 0.03793598338961601, 0.057348690927028656, 0.038896966725587845, 0.04111207649111748, 0.019728194922208786, 0.0, 0.0, 0.0, 0.0], [0.13168427348136902, 0.025460118427872658, 0.02796240523457527, 0.02410983107984066, 0.016868816688656807, 0.03140676021575928, 0.02324734814465046, 0.02207168936729431, 0.027362504974007607, 0.026370469480752945, 0.03204534575343132, 0.028775818645954132, 0.046142008155584335, 0.03455978259444237, 0.03132108971476555, 0.02943774312734604, 0.037490662187337875, 0.03597424924373627, 0.03067101538181305, 0.02677832916378975, 0.041662365198135376, 0.03274397924542427, 0.030348779633641243, 0.03265199810266495, 0.038056496530771255, 0.034575629979372025, 0.022936126217246056, 0.03690328449010849, 0.025966182351112366, 0.014414902776479721, 0.0, 0.0, 0.0], [0.1656370908021927, 0.022809242829680443, 0.029107749462127686, 0.024944666773080826, 0.024352867156267166, 0.025031819939613342, 0.018486661836504936, 0.01857367530465126, 0.028443632647395134, 0.029199937358498573, 0.025318225845694542, 0.0322050042450428, 0.025753283873200417, 0.026890521869063377, 0.03127395734190941, 0.033051494508981705, 0.02883545309305191, 0.029910434037446976, 0.027558820322155952, 0.024624651297926903, 0.032053615897893906, 0.02649376355111599, 0.02170959860086441, 0.03164016827940941, 0.03707478195428848, 0.047994695603847504, 0.027932144701480865, 0.0347561240196228, 0.03804946318268776, 0.021535683423280716, 0.008750847540795803, 0.0, 0.0], [0.16794218122959137, 0.02598346397280693, 0.03222336620092392, 0.01946939527988434, 0.023735277354717255, 0.02311573550105095, 0.019973624497652054, 0.016550231724977493, 0.029796775430440903, 0.028494659811258316, 0.023108845576643944, 0.022087080404162407, 0.04216555878520012, 0.024390198290348053, 0.020749149844050407, 0.03873587027192116, 0.026269778609275818, 0.027289120480418205, 0.019617397338151932, 0.020242862403392792, 0.029203202575445175, 0.030413353815674782, 0.025762619450688362, 0.04084981977939606, 0.033326655626297, 0.021795310080051422, 0.02631050907075405, 0.031013475731015205, 0.0368926040828228, 0.01937716454267502, 0.04355606064200401, 0.009558663703501225, 0.0], [0.11396830528974533, 0.017752882093191147, 0.016061944887042046, 0.015585051849484444, 0.01839611306786537, 0.0243670754134655, 0.026053881272673607, 0.023999108001589775, 0.0219194907695055, 0.02625112608075142, 0.024730540812015533, 0.01532302051782608, 0.02561456337571144, 0.0263378843665123, 0.024982880800962448, 0.02464262954890728, 0.028590301051735878, 0.032951515167951584, 0.02756861411035061, 0.01848755218088627, 0.032208509743213654, 0.03191469982266426, 0.03630725294351578, 0.0341540165245533, 0.03678559139370918, 0.03297772258520126, 0.0262789037078619, 0.038098908960819244, 0.029801947996020317, 0.01818324625492096, 0.03632067143917084, 0.03568093478679657, 0.05770308896899223]], [[1.0, 0.0, 0.0, 0.0, 0.0, 0.0, 0.0, 0.0, 0.0, 0.0, 0.0, 0.0, 0.0, 0.0, 0.0, 0.0, 0.0, 0.0, 0.0, 0.0, 0.0, 0.0, 0.0, 0.0, 0.0, 0.0, 0.0, 0.0, 0.0, 0.0, 0.0, 0.0, 0.0], [0.8058415055274963, 0.19415846467018127, 0.0, 0.0, 0.0, 0.0, 0.0, 0.0, 0.0, 0.0, 0.0, 0.0, 0.0, 0.0, 0.0, 0.0, 0.0, 0.0, 0.0, 0.0, 0.0, 0.0, 0.0, 0.0, 0.0, 0.0, 0.0, 0.0, 0.0, 0.0, 0.0, 0.0, 0.0], [0.6373866200447083, 0.09672047942876816, 0.265892893075943, 0.0, 0.0, 0.0, 0.0, 0.0, 0.0, 0.0, 0.0, 0.0, 0.0, 0.0, 0.0, 0.0, 0.0, 0.0, 0.0, 0.0, 0.0, 0.0, 0.0, 0.0, 0.0, 0.0, 0.0, 0.0, 0.0, 0.0, 0.0, 0.0, 0.0], [0.5870265364646912, 0.09922722727060318, 0.07913827151060104, 0.234607994556427, 0.0, 0.0, 0.0, 0.0, 0.0, 0.0, 0.0, 0.0, 0.0, 0.0, 0.0, 0.0, 0.0, 0.0, 0.0, 0.0, 0.0, 0.0, 0.0, 0.0, 0.0, 0.0, 0.0, 0.0, 0.0, 0.0, 0.0, 0.0, 0.0], [0.4194737374782562, 0.06312593072652817, 0.08123067021369934, 0.08381504565477371, 0.35235464572906494, 0.0, 0.0, 0.0, 0.0, 0.0, 0.0, 0.0, 0.0, 0.0, 0.0, 0.0, 0.0, 0.0, 0.0, 0.0, 0.0, 0.0, 0.0, 0.0, 0.0, 0.0, 0.0, 0.0, 0.0, 0.0, 0.0, 0.0, 0.0], [0.5308532118797302, 0.0959073007106781, 0.07779337465763092, 0.06661549210548401, 0.07293293625116348, 0.15589766204357147, 0.0, 0.0, 0.0, 0.0, 0.0, 0.0, 0.0, 0.0, 0.0, 0.0, 0.0, 0.0, 0.0, 0.0, 0.0, 0.0, 0.0, 0.0, 0.0, 0.0, 0.0, 0.0, 0.0, 0.0, 0.0, 0.0, 0.0], [0.38503074645996094, 0.0747809112071991, 0.06978145986795425, 0.04760653153061867, 0.05144915357232094, 0.08776704221963882, 0.2835841178894043, 0.0, 0.0, 0.0, 0.0, 0.0, 0.0, 0.0, 0.0, 0.0, 0.0, 0.0, 0.0, 0.0, 0.0, 0.0, 0.0, 0.0, 0.0, 0.0, 0.0, 0.0, 0.0, 0.0, 0.0, 0.0, 0.0], [0.2962956130504608, 0.05328269675374031, 0.06944748759269714, 0.04097549617290497, 0.06660831719636917, 0.10218571871519089, 0.10869502276182175, 0.26250967383384705, 0.0, 0.0, 0.0, 0.0, 0.0, 0.0, 0.0, 0.0, 0.0, 0.0, 0.0, 0.0, 0.0, 0.0, 0.0, 0.0, 0.0, 0.0, 0.0, 0.0, 0.0, 0.0, 0.0, 0.0, 0.0], [0.3047499358654022, 0.06337984651327133, 0.05753423646092415, 0.04057721048593521, 0.07300141453742981, 0.07375828921794891, 0.07239889353513718, 0.056936055421829224, 0.2576640844345093, 0.0, 0.0, 0.0, 0.0, 0.0, 0.0, 0.0, 0.0, 0.0, 0.0, 0.0, 0.0, 0.0, 0.0, 0.0, 0.0, 0.0, 0.0, 0.0, 0.0, 0.0, 0.0, 0.0, 0.0], [0.29880765080451965, 0.055528249591588974, 0.05443597584962845, 0.05285303667187691, 0.06568750739097595, 0.07554223388433456, 0.06968102604150772, 0.054113879799842834, 0.09120789170265198, 0.18214255571365356, 0.0, 0.0, 0.0, 0.0, 0.0, 0.0, 0.0, 0.0, 0.0, 0.0, 0.0, 0.0, 0.0, 0.0, 0.0, 0.0, 0.0, 0.0, 0.0, 0.0, 0.0, 0.0, 0.0], [0.26933014392852783, 0.0635242909193039, 0.05952121689915657, 0.05242471396923065, 0.060521580278873444, 0.12185832858085632, 0.07608655095100403, 0.09753070771694183, 0.042326074093580246, 0.05058327317237854, 0.10629310458898544, 0.0, 0.0, 0.0, 0.0, 0.0, 0.0, 0.0, 0.0, 0.0, 0.0, 0.0, 0.0, 0.0, 0.0, 0.0, 0.0, 0.0, 0.0, 0.0, 0.0, 0.0, 0.0], [0.22074297070503235, 0.06960075348615646, 0.048723459243774414, 0.06675717979669571, 0.06954210251569748, 0.06483787298202515, 0.04652373120188713, 0.0393008328974247, 0.018016088753938675, 0.0358063168823719, 0.053022872656583786, 0.26712578535079956, 0.0, 0.0, 0.0, 0.0, 0.0, 0.0, 0.0, 0.0, 0.0, 0.0, 0.0, 0.0, 0.0, 0.0, 0.0, 0.0, 0.0, 0.0, 0.0, 0.0, 0.0], [0.15080063045024872, 0.04732473939657211, 0.12551113963127136, 0.06240081787109375, 0.05354631319642067, 0.0557839535176754, 0.04542611911892891, 0.03888601064682007, 0.030199820175766945, 0.03337055817246437, 0.04645954817533493, 0.023437926545739174, 0.2868523895740509, 0.0, 0.0, 0.0, 0.0, 0.0, 0.0, 0.0, 0.0, 0.0, 0.0, 0.0, 0.0, 0.0, 0.0, 0.0, 0.0, 0.0, 0.0, 0.0, 0.0], [0.2044883519411087, 0.04972049966454506, 0.048385459929704666, 0.04385359585285187, 0.05115719139575958, 0.1007489264011383, 0.06420682370662689, 0.08302561193704605, 0.03880453109741211, 0.04795774444937706, 0.09582380205392838, 0.03239700198173523, 0.04441104456782341, 0.09501936286687851, 0.0, 0.0, 0.0, 0.0, 0.0, 0.0, 0.0, 0.0, 0.0, 0.0, 0.0, 0.0, 0.0, 0.0, 0.0, 0.0, 0.0, 0.0, 0.0], [0.1623673290014267, 0.028519174084067345, 0.047843087464571, 0.04135483503341675, 0.04028486832976341, 0.052005358040332794, 0.04226506128907204, 0.03821169212460518, 0.05986882001161575, 0.06849399954080582, 0.04734280705451965, 0.019715171307325363, 0.06202229857444763, 0.045721929520368576, 0.24398362636566162, 0.0, 0.0, 0.0, 0.0, 0.0, 0.0, 0.0, 0.0, 0.0, 0.0, 0.0, 0.0, 0.0, 0.0, 0.0, 0.0, 0.0, 0.0], [0.1312892884016037, 0.039628103375434875, 0.059519391506910324, 0.03966322913765907, 0.04406354948878288, 0.04348496347665787, 0.03726547583937645, 0.03240035101771355, 0.037205737084150314, 0.06481602787971497, 0.040474534034729004, 0.025914236903190613, 0.06507597118616104, 0.03922510892152786, 0.07744194567203522, 0.22253209352493286, 0.0, 0.0, 0.0, 0.0, 0.0, 0.0, 0.0, 0.0, 0.0, 0.0, 0.0, 0.0, 0.0, 0.0, 0.0, 0.0, 0.0], [0.1581333875656128, 0.03911250829696655, 0.03856495022773743, 0.03587969020009041, 0.04187793657183647, 0.08161001652479172, 0.05245806649327278, 0.0681268498301506, 0.03444806858897209, 0.04342751204967499, 0.08275996893644333, 0.029333392158150673, 0.04157378897070885, 0.08478686958551407, 0.04881599545478821, 0.032352834939956665, 0.08673812448978424, 0.0, 0.0, 0.0, 0.0, 0.0, 0.0, 0.0, 0.0, 0.0, 0.0, 0.0, 0.0, 0.0, 0.0, 0.0, 0.0], [0.13890594244003296, 0.03169633448123932, 0.03251555934548378, 0.035388994961977005, 0.038000330328941345, 0.06974425166845322, 0.05942454934120178, 0.06768240034580231, 0.027843812480568886, 0.03905467316508293, 0.07273103296756744, 0.030109873041510582, 0.041630927473306656, 0.07565011084079742, 0.04018832743167877, 0.0274836216121912, 0.07795906811952591, 0.09399019181728363, 0.0, 0.0, 0.0, 0.0, 0.0, 0.0, 0.0, 0.0, 0.0, 0.0, 0.0, 0.0, 0.0, 0.0, 0.0], [0.09691290557384491, 0.030687320977449417, 0.030817968770861626, 0.04473433643579483, 0.041719432920217514, 0.03603677079081535, 0.041017040610313416, 0.03210476040840149, 0.043440621346235275, 0.04885554686188698, 0.03457902744412422, 0.016025088727474213, 0.04994165897369385, 0.034635279327631, 0.060656871646642685, 0.03497789427638054, 0.03454342111945152, 0.037827927619218826, 0.2504861354827881, 0.0, 0.0, 0.0, 0.0, 0.0, 0.0, 0.0, 0.0, 0.0, 0.0, 0.0, 0.0, 0.0, 0.0], [0.12059212476015091, 0.04121065139770508, 0.050985172390937805, 0.05289151519536972, 0.02886129356920719, 0.04706200584769249, 0.02921283058822155, 0.03817000985145569, 0.021046480163931847, 0.029787810519337654, 0.04406721517443657, 0.026503339409828186, 0.04127003997564316, 0.04430737346410751, 0.030801543965935707, 0.04064902290701866, 0.044745106250047684, 0.04212244600057602, 0.028442280367016792, 0.19727173447608948, 0.0, 0.0, 0.0, 0.0, 0.0, 0.0, 0.0, 0.0, 0.0, 0.0, 0.0, 0.0, 0.0], [0.11388304829597473, 0.028255390003323555, 0.02835128642618656, 0.02695867232978344, 0.03131086379289627, 0.05977548286318779, 0.039182137697935104, 0.05072040110826492, 0.027684016153216362, 0.035564228892326355, 0.06452133506536484, 0.02426709234714508, 0.036164939403533936, 0.06838169693946838, 0.04139302298426628, 0.029094640165567398, 0.072300486266613, 0.07349380850791931, 0.03700020909309387, 0.0352863147854805, 0.07641095668077469, 0.0, 0.0, 0.0, 0.0, 0.0, 0.0, 0.0, 0.0, 0.0, 0.0, 0.0, 0.0], [0.084538534283638, 0.017416607588529587, 0.01894914172589779, 0.016560643911361694, 0.02229611761868, 0.04174060747027397, 0.05894864350557327, 0.03893361613154411, 0.030214637517929077, 0.034642335027456284, 0.0483190082013607, 0.016358425840735435, 0.025674548000097275, 0.05309674143791199, 0.020546529442071915, 0.02046983689069748, 0.057046402245759964, 0.06604910641908646, 0.03774644434452057, 0.021413877606391907, 0.06129929795861244, 0.20773886144161224, 0.0, 0.0, 0.0, 0.0, 0.0, 0.0, 0.0, 0.0, 0.0, 0.0, 0.0], [0.11248437315225601, 0.02439483441412449, 0.02452314831316471, 0.027489563450217247, 0.02610466443002224, 0.03731505200266838, 0.06748531013727188, 0.03890376538038254, 0.017981432378292084, 0.02845439314842224, 0.03756532445549965, 0.018326064571738243, 0.02008865773677826, 0.03865170106291771, 0.023285655304789543, 0.02422662079334259, 0.03960612416267395, 0.048331886529922485, 0.04500093683600426, 0.01736214943230152, 0.04009140655398369, 0.05208286643028259, 0.19024407863616943, 0.0, 0.0, 0.0, 0.0, 0.0, 0.0, 0.0, 0.0, 0.0, 0.0], [0.08183354884386063, 0.019828446209430695, 0.026873396709561348, 0.029252566397190094, 0.025184443220496178, 0.031927719712257385, 0.029049789533019066, 0.02497251145541668, 0.03350624814629555, 0.04007428511977196, 0.03351731225848198, 0.016035987064242363, 0.032044537365436554, 0.03448064252734184, 0.028517095372080803, 0.03532731905579567, 0.03583227097988129, 0.040583960711956024, 0.029941102489829063, 0.02109791897237301, 0.036713290959596634, 0.039212580770254135, 0.03543240204453468, 0.2387605905532837, 0.0, 0.0, 0.0, 0.0, 0.0, 0.0, 0.0, 0.0, 0.0], [0.1014568954706192, 0.014237049035727978, 0.01698416844010353, 0.018636558204889297, 0.02853623405098915, 0.0365380197763443, 0.029570506885647774, 0.04198320582509041, 0.014166032895445824, 0.030081400647759438, 0.04016641527414322, 0.02007502131164074, 0.030370110645890236, 0.043534401804208755, 0.030393028631806374, 0.020717335864901543, 0.0467710979282856, 0.0549510158598423, 0.02880917862057686, 0.020043686032295227, 0.05092544108629227, 0.04084465280175209, 0.04185802489519119, 0.03848978132009506, 0.15986068546772003, 0.0, 0.0, 0.0, 0.0, 0.0, 0.0, 0.0, 0.0], [0.07937925308942795, 0.020674318075180054, 0.020799752324819565, 0.027988238260149956, 0.0456547737121582, 0.02656259387731552, 0.025396713986992836, 0.0212432611733675, 0.01776379905641079, 0.02520064450800419, 0.027576468884944916, 0.030607089400291443, 0.034379992634058, 0.028568319976329803, 0.022726934403181076, 0.01605195552110672, 0.0297127403318882, 0.03276180848479271, 0.025702400133013725, 0.012878884561359882, 0.03062613308429718, 0.020369650796055794, 0.037413910031318665, 0.027850378304719925, 0.035718515515327454, 0.27639153599739075, 0.0, 0.0, 0.0, 0.0, 0.0, 0.0, 0.0], [0.09605436027050018, 0.023092886433005333, 0.024199651554226875, 0.024974146857857704, 0.036829642951488495, 0.0300143975764513, 0.02106921374797821, 0.018117520958185196, 0.022569259628653526, 0.028343217447400093, 0.030505135655403137, 0.021707672625780106, 0.02821178361773491, 0.03163941949605942, 0.03916612267494202, 0.03627365827560425, 0.03311570733785629, 0.03514394909143448, 0.02574523165822029, 0.015889009460806847, 0.03467546030879021, 0.026770073920488358, 0.027143444865942, 0.0404508039355278, 0.037603843957185745, 0.03232334926724434, 0.17837102711200714, 0.0, 0.0, 0.0, 0.0, 0.0, 0.0], [0.07476937770843506, 0.011021514423191547, 0.010706554166972637, 0.015325464308261871, 0.019903559237718582, 0.032858673483133316, 0.02193606086075306, 0.029454153031110764, 0.016421502456068993, 0.022476598620414734, 0.0372234545648098, 0.01758023537695408, 0.021954143419861794, 0.04046213999390602, 0.0314154177904129, 0.010417780838906765, 0.04429738223552704, 0.05118126794695854, 0.02956554852426052, 0.015394337475299835, 0.04906425625085831, 0.032021939754486084, 0.030905114486813545, 0.04132053256034851, 0.06578273326158524, 0.03978404402732849, 0.0204996969550848, 0.16625654697418213, 0.0, 0.0, 0.0, 0.0, 0.0], [0.05124203488230705, 0.011390027590095997, 0.02026580274105072, 0.024529650807380676, 0.1273244023323059, 0.02008391171693802, 0.017692742869257927, 0.020381979644298553, 0.01854860782623291, 0.023206070065498352, 0.02102605625987053, 0.02052122913300991, 0.025210727006196976, 0.021994244307279587, 0.017190465703606606, 0.02080591581761837, 0.023035308346152306, 0.026458051055669785, 0.03108612820506096, 0.011454470455646515, 0.0243579912930727, 0.022524958476424217, 0.02460077591240406, 0.02458801120519638, 0.02838081866502762, 0.04660611227154732, 0.043627068400382996, 0.02030046097934246, 0.2115659862756729, 0.0, 0.0, 0.0, 0.0], [0.07929293066263199, 0.02353738062083721, 0.022847285494208336, 0.01993604190647602, 0.015462880954146385, 0.025110293179750443, 0.02142905257642269, 0.015073497779667377, 0.00992409884929657, 0.015724746510386467, 0.027188703417778015, 0.020747290924191475, 0.03497635945677757, 0.02910233475267887, 0.021219035610556602, 0.01814761757850647, 0.031058188527822495, 0.03380948677659035, 0.020137561485171318, 0.01232312060892582, 0.0336926244199276, 0.024336127564311028, 0.031084533780813217, 0.03377701714634895, 0.04355441406369209, 0.03296351805329323, 0.03314928337931633, 0.02536490373313427, 0.022163676097989082, 0.22286593914031982, 0.0, 0.0, 0.0], [0.10059653967618942, 0.030963758006691933, 0.02557850070297718, 0.02022407203912735, 0.027132980525493622, 0.0294907558709383, 0.040744829922914505, 0.021403610706329346, 0.016392601653933525, 0.022520698606967926, 0.027555175125598907, 0.013599199242889881, 0.027306709438562393, 0.02780657447874546, 0.011214182712137699, 0.023586532101035118, 0.028399180620908737, 0.03066890500485897, 0.021664205938577652, 0.0170323196798563, 0.02905159816145897, 0.026549924165010452, 0.03297553211450577, 0.026790330186486244, 0.032060638070106506, 0.02729833498597145, 0.017307177186012268, 0.01876881904900074, 0.028226511552929878, 0.017085110768675804, 0.18000467121601105, 0.0, 0.0], [0.08361607044935226, 0.016581887379288673, 0.01582329347729683, 0.022005166858434677, 0.02406255528330803, 0.021028298884630203, 0.022811289876699448, 0.014412399381399155, 0.015572086907923222, 0.015104828402400017, 0.020917730405926704, 0.021798156201839447, 0.025985978543758392, 0.022013209760189056, 0.022025054320693016, 0.018091218546032906, 0.02311510220170021, 0.025451796129345894, 0.025943517684936523, 0.011241886764764786, 0.024466168135404587, 0.022869892418384552, 0.031613435596227646, 0.029542673379182816, 0.023817909881472588, 0.029349016025662422, 0.025922631844878197, 0.017268182709813118, 0.0318446010351181, 0.012037735432386398, 0.027524927631020546, 0.2561412751674652, 0.0], [0.05258440598845482, 0.012508378364145756, 0.012737676501274109, 0.012144197709858418, 0.014467818662524223, 0.024812443181872368, 0.017109142616391182, 0.02516256645321846, 0.016298968344926834, 0.015160087496042252, 0.029820041730999947, 0.014290268532931805, 0.02409479022026062, 0.033742766827344894, 0.02163226157426834, 0.018924105912446976, 0.03819216415286064, 0.041151829063892365, 0.024165768176317215, 0.020635636523365974, 0.0441853292286396, 0.03793710097670555, 0.029636353254318237, 0.03152839466929436, 0.045423079282045364, 0.035963598638772964, 0.03048253059387207, 0.04609916731715202, 0.03206764906644821, 0.017662933096289635, 0.031696002930402756, 0.044629111886024475, 0.10305342078208923]], [[1.0, 0.0, 0.0, 0.0, 0.0, 0.0, 0.0, 0.0, 0.0, 0.0, 0.0, 0.0, 0.0, 0.0, 0.0, 0.0, 0.0, 0.0, 0.0, 0.0, 0.0, 0.0, 0.0, 0.0, 0.0, 0.0, 0.0, 0.0, 0.0, 0.0, 0.0, 0.0, 0.0], [0.7707714438438416, 0.22922858595848083, 0.0, 0.0, 0.0, 0.0, 0.0, 0.0, 0.0, 0.0, 0.0, 0.0, 0.0, 0.0, 0.0, 0.0, 0.0, 0.0, 0.0, 0.0, 0.0, 0.0, 0.0, 0.0, 0.0, 0.0, 0.0, 0.0, 0.0, 0.0, 0.0, 0.0, 0.0], [0.7813623547554016, 0.10978533327579498, 0.10885236412286758, 0.0, 0.0, 0.0, 0.0, 0.0, 0.0, 0.0, 0.0, 0.0, 0.0, 0.0, 0.0, 0.0, 0.0, 0.0, 0.0, 0.0, 0.0, 0.0, 0.0, 0.0, 0.0, 0.0, 0.0, 0.0, 0.0, 0.0, 0.0, 0.0, 0.0], [0.5350390672683716, 0.11194941401481628, 0.15013688802719116, 0.20287466049194336, 0.0, 0.0, 0.0, 0.0, 0.0, 0.0, 0.0, 0.0, 0.0, 0.0, 0.0, 0.0, 0.0, 0.0, 0.0, 0.0, 0.0, 0.0, 0.0, 0.0, 0.0, 0.0, 0.0, 0.0, 0.0, 0.0, 0.0, 0.0, 0.0], [0.4180358052253723, 0.1603638380765915, 0.10740306973457336, 0.10625777393579483, 0.20793946087360382, 0.0, 0.0, 0.0, 0.0, 0.0, 0.0, 0.0, 0.0, 0.0, 0.0, 0.0, 0.0, 0.0, 0.0, 0.0, 0.0, 0.0, 0.0, 0.0, 0.0, 0.0, 0.0, 0.0, 0.0, 0.0, 0.0, 0.0, 0.0], [0.4349867105484009, 0.0957985445857048, 0.08251804113388062, 0.10028501600027084, 0.15332910418510437, 0.1330825835466385, 0.0, 0.0, 0.0, 0.0, 0.0, 0.0, 0.0, 0.0, 0.0, 0.0, 0.0, 0.0, 0.0, 0.0, 0.0, 0.0, 0.0, 0.0, 0.0, 0.0, 0.0, 0.0, 0.0, 0.0, 0.0, 0.0, 0.0], [0.44621357321739197, 0.056242138147354126, 0.050403010100126266, 0.07084294408559799, 0.0936090499162674, 0.1147262379527092, 0.16796305775642395, 0.0, 0.0, 0.0, 0.0, 0.0, 0.0, 0.0, 0.0, 0.0, 0.0, 0.0, 0.0, 0.0, 0.0, 0.0, 0.0, 0.0, 0.0, 0.0, 0.0, 0.0, 0.0, 0.0, 0.0, 0.0, 0.0], [0.3609194755554199, 0.07294463366270065, 0.05191010236740112, 0.07159046828746796, 0.09321669489145279, 0.09543668478727341, 0.14539915323257446, 0.10858277231454849, 0.0, 0.0, 0.0, 0.0, 0.0, 0.0, 0.0, 0.0, 0.0, 0.0, 0.0, 0.0, 0.0, 0.0, 0.0, 0.0, 0.0, 0.0, 0.0, 0.0, 0.0, 0.0, 0.0, 0.0, 0.0], [0.31714072823524475, 0.07683124393224716, 0.0555228516459465, 0.06445364654064178, 0.08586593717336655, 0.10643256455659866, 0.145211324095726, 0.09439336508512497, 0.054148346185684204, 0.0, 0.0, 0.0, 0.0, 0.0, 0.0, 0.0, 0.0, 0.0, 0.0, 0.0, 0.0, 0.0, 0.0, 0.0, 0.0, 0.0, 0.0, 0.0, 0.0, 0.0, 0.0, 0.0, 0.0], [0.19288603961467743, 0.11343870311975479, 0.04530508816242218, 0.08361201733350754, 0.057632703334093094, 0.11914197355508804, 0.11441226303577423, 0.12364515662193298, 0.07640960812568665, 0.07351641356945038, 0.0, 0.0, 0.0, 0.0, 0.0, 0.0, 0.0, 0.0, 0.0, 0.0, 0.0, 0.0, 0.0, 0.0, 0.0, 0.0, 0.0, 0.0, 0.0, 0.0, 0.0, 0.0, 0.0], [0.2517409324645996, 0.06019410490989685, 0.0493021197617054, 0.059223245829343796, 0.08453335613012314, 0.07307683676481247, 0.12308554351329803, 0.08293966948986053, 0.06380271166563034, 0.07185836136341095, 0.08024311810731888, 0.0, 0.0, 0.0, 0.0, 0.0, 0.0, 0.0, 0.0, 0.0, 0.0, 0.0, 0.0, 0.0, 0.0, 0.0, 0.0, 0.0, 0.0, 0.0, 0.0, 0.0, 0.0], [0.24793605506420135, 0.04855771362781525, 0.06171693652868271, 0.06616783887147903, 0.08788600564002991, 0.05920385196805, 0.09128589183092117, 0.0686681792140007, 0.06062866747379303, 0.08399349451065063, 0.06569414585828781, 0.05826117843389511, 0.0, 0.0, 0.0, 0.0, 0.0, 0.0, 0.0, 0.0, 0.0, 0.0, 0.0, 0.0, 0.0, 0.0, 0.0, 0.0, 0.0, 0.0, 0.0, 0.0, 0.0], [0.15039606392383575, 0.07072298973798752, 0.0361880324780941, 0.03812886402010918, 0.05496573448181152, 0.0955280140042305, 0.1278020143508911, 0.09101754426956177, 0.041339464485645294, 0.06619422882795334, 0.11493083834648132, 0.035268161445856094, 0.07751809060573578, 0.0, 0.0, 0.0, 0.0, 0.0, 0.0, 0.0, 0.0, 0.0, 0.0, 0.0, 0.0, 0.0, 0.0, 0.0, 0.0, 0.0, 0.0, 0.0, 0.0], [0.21730755269527435, 0.0522487498819828, 0.04279688000679016, 0.05130991339683533, 0.07021073251962662, 0.06084863469004631, 0.10094168037176132, 0.06729134917259216, 0.053472720086574554, 0.05803242325782776, 0.06386598944664001, 0.04143684729933739, 0.05429811775684357, 0.06593839824199677, 0.0, 0.0, 0.0, 0.0, 0.0, 0.0, 0.0, 0.0, 0.0, 0.0, 0.0, 0.0, 0.0, 0.0, 0.0, 0.0, 0.0, 0.0, 0.0], [0.14158989489078522, 0.08735610544681549, 0.041096292436122894, 0.07771316170692444, 0.0664159283041954, 0.060846131294965744, 0.07890870422124863, 0.06467179954051971, 0.04156753048300743, 0.053140249103307724, 0.060331959277391434, 0.049903444945812225, 0.061476897448301315, 0.06152055040001869, 0.05346129834651947, 0.0, 0.0, 0.0, 0.0, 0.0, 0.0, 0.0, 0.0, 0.0, 0.0, 0.0, 0.0, 0.0, 0.0, 0.0, 0.0, 0.0, 0.0], [0.11277392506599426, 0.051402702927589417, 0.034800734370946884, 0.04410991072654724, 0.04927103593945503, 0.08066024631261826, 0.09371128678321838, 0.07634277641773224, 0.03460073471069336, 0.0555649995803833, 0.09000372886657715, 0.027950910851359367, 0.05808687210083008, 0.09759876132011414, 0.0585305318236351, 0.034590765833854675, 0.0, 0.0, 0.0, 0.0, 0.0, 0.0, 0.0, 0.0, 0.0, 0.0, 0.0, 0.0, 0.0, 0.0, 0.0, 0.0, 0.0], [0.1913679540157318, 0.04588800668716431, 0.037184204906225204, 0.04478847607970238, 0.05845539644360542, 0.051623135805130005, 0.0845179557800293, 0.05661729350686073, 0.04477923735976219, 0.04681585356593132, 0.05177522823214531, 0.03474310785531998, 0.04365592449903488, 0.05257754027843475, 0.04571910202503204, 0.05523937568068504, 0.05425223708152771, 0.0, 0.0, 0.0, 0.0, 0.0, 0.0, 0.0, 0.0, 0.0, 0.0, 0.0, 0.0, 0.0, 0.0, 0.0, 0.0], [0.17809872329235077, 0.03651316836476326, 0.03537803143262863, 0.046600598841905594, 0.056067466735839844, 0.05542532354593277, 0.06580900400876999, 0.05869590863585472, 0.044602084904909134, 0.03845333307981491, 0.05522068217396736, 0.028129281476140022, 0.038876306265592575, 0.05635209009051323, 0.04307204484939575, 0.04859214276075363, 0.05801299959421158, 0.056100841611623764, 0.0, 0.0, 0.0, 0.0, 0.0, 0.0, 0.0, 0.0, 0.0, 0.0, 0.0, 0.0, 0.0, 0.0, 0.0], [0.11277122795581818, 0.04416341334581375, 0.016790855675935745, 0.039228979498147964, 0.03057022951543331, 0.08429384231567383, 0.058298319578170776, 0.07985579967498779, 0.027740221470594406, 0.02460791915655136, 0.08568023890256882, 0.012135535478591919, 0.021223625168204308, 0.08979952335357666, 0.024395616725087166, 0.018000083044171333, 0.0979786291718483, 0.08564858138561249, 0.04681728780269623, 0.0, 0.0, 0.0, 0.0, 0.0, 0.0, 0.0, 0.0, 0.0, 0.0, 0.0, 0.0, 0.0, 0.0], [0.15648679435253143, 0.04359337314963341, 0.02946913056075573, 0.023382777348160744, 0.039893943816423416, 0.06601448357105255, 0.07239896804094315, 0.04959876835346222, 0.025720085948705673, 0.02872987650334835, 0.07268746942281723, 0.02010437287390232, 0.038949932903051376, 0.07793485373258591, 0.0318501777946949, 0.029572606086730957, 0.08162923157215118, 0.049830302596092224, 0.04757083207368851, 0.01458201464265585, 0.0, 0.0, 0.0, 0.0, 0.0, 0.0, 0.0, 0.0, 0.0, 0.0, 0.0, 0.0, 0.0], [0.16675156354904175, 0.04021673649549484, 0.031946271657943726, 0.039155539125204086, 0.04867975786328316, 0.043519359081983566, 0.07027731090784073, 0.046769797801971436, 0.0373704768717289, 0.03785952925682068, 0.04185349494218826, 0.029438795521855354, 0.03496702387928963, 0.041871536523103714, 0.0366596020758152, 0.04418947547674179, 0.04244700446724892, 0.043090008199214935, 0.05540822073817253, 0.02402997761964798, 0.04349847882986069, 0.0, 0.0, 0.0, 0.0, 0.0, 0.0, 0.0, 0.0, 0.0, 0.0, 0.0, 0.0], [0.2131170630455017, 0.03452146053314209, 0.02651204541325569, 0.03728467971086502, 0.04200230911374092, 0.053780749440193176, 0.06410717219114304, 0.04019591584801674, 0.02951396070420742, 0.03056207299232483, 0.0481405034661293, 0.01964573748409748, 0.023855973035097122, 0.047123588621616364, 0.027805248275399208, 0.025632819160819054, 0.04690322279930115, 0.04211502894759178, 0.04245338216423988, 0.016209982335567474, 0.04720153287053108, 0.04131560027599335, 0.0, 0.0, 0.0, 0.0, 0.0, 0.0, 0.0, 0.0, 0.0, 0.0, 0.0], [0.16099104285240173, 0.03149212524294853, 0.025506002828478813, 0.03203629329800606, 0.0381193645298481, 0.05386463180184364, 0.05289200693368912, 0.06297367066144943, 0.038729410618543625, 0.030703021213412285, 0.0486149825155735, 0.016964145004749298, 0.02098488062620163, 0.04743489623069763, 0.026178568601608276, 0.03281703591346741, 0.048740994185209274, 0.037023067474365234, 0.05028442293405533, 0.014425940811634064, 0.049269191920757294, 0.027485152706503868, 0.05246911570429802, 0.0, 0.0, 0.0, 0.0, 0.0, 0.0, 0.0, 0.0, 0.0, 0.0], [0.13924193382263184, 0.04732194542884827, 0.02292007766664028, 0.03782672435045242, 0.03733158856630325, 0.05628197267651558, 0.06773106008768082, 0.06383747607469559, 0.028824564069509506, 0.028368614614009857, 0.05008406937122345, 0.01477518305182457, 0.02105891704559326, 0.048197124153375626, 0.017685113474726677, 0.01545623131096363, 0.04842798411846161, 0.03709954768419266, 0.04247324913740158, 0.018426818773150444, 0.0486132986843586, 0.022673960775136948, 0.05998958647251129, 0.025352953001856804, 0.0, 0.0, 0.0, 0.0, 0.0, 0.0, 0.0, 0.0, 0.0], [0.195623517036438, 0.032333292067050934, 0.022874092683196068, 0.038390763103961945, 0.03449878469109535, 0.04616906866431236, 0.055537499487400055, 0.039606671780347824, 0.023098396137356758, 0.02424929291009903, 0.04043305665254593, 0.01607854850590229, 0.02162495069205761, 0.039030566811561584, 0.02652088738977909, 0.028113432228565216, 0.03823630511760712, 0.03542611002922058, 0.04174575209617615, 0.02109713666141033, 0.03767954930663109, 0.03728692978620529, 0.044239215552806854, 0.02292153425514698, 0.037184685468673706, 0.0, 0.0, 0.0, 0.0, 0.0, 0.0, 0.0, 0.0], [0.0581965371966362, 0.03889738768339157, 0.026005255058407784, 0.023567894473671913, 0.022979967296123505, 0.053841520100831985, 0.05806104838848114, 0.06858772784471512, 0.0374598391354084, 0.02915908955037594, 0.054746728390455246, 0.013592946343123913, 0.027647051960229874, 0.055754028260707855, 0.030779877677559853, 0.01613735593855381, 0.05745428800582886, 0.039687320590019226, 0.03406552970409393, 0.01311098039150238, 0.05977654457092285, 0.016043761745095253, 0.029699280858039856, 0.02056654915213585, 0.08347288519144058, 0.03070859983563423, 0.0, 0.0, 0.0, 0.0, 0.0, 0.0, 0.0], [0.15561480820178986, 0.03032318316400051, 0.02106756903231144, 0.03860042244195938, 0.025089241564273834, 0.047195207327604294, 0.04255649447441101, 0.05166257172822952, 0.030368119478225708, 0.02013363502919674, 0.042556967586278915, 0.018511774018406868, 0.018671728670597076, 0.041430287063121796, 0.02202211692929268, 0.02106102928519249, 0.0416661761701107, 0.027249222621321678, 0.040481582283973694, 0.015536419115960598, 0.04219620302319527, 0.017007354646921158, 0.06220952421426773, 0.015703167766332626, 0.05443187803030014, 0.0409240797162056, 0.015729229897260666, 0.0, 0.0, 0.0, 0.0, 0.0, 0.0], [0.1521887332201004, 0.03232046589255333, 0.026277605444192886, 0.03215135261416435, 0.0370805561542511, 0.038433339446783066, 0.04218520224094391, 0.03440919890999794, 0.02929617278277874, 0.024752268567681313, 0.03461231291294098, 0.021795077249407768, 0.023419689387083054, 0.03386643901467323, 0.02858060598373413, 0.03440326079726219, 0.03315695375204086, 0.026710420846939087, 0.042135655879974365, 0.019021347165107727, 0.032785799354314804, 0.02683999575674534, 0.03304455801844597, 0.023302635177969933, 0.03390035405755043, 0.039449237287044525, 0.021334242075681686, 0.04254643991589546, 0.0, 0.0, 0.0, 0.0, 0.0], [0.10210391879081726, 0.04830533266067505, 0.027957914397120476, 0.028134850785136223, 0.04368891566991806, 0.03765961900353432, 0.04012182354927063, 0.03589581325650215, 0.02449178323149681, 0.019768042489886284, 0.03467407450079918, 0.015431459993124008, 0.03261655569076538, 0.034143395721912384, 0.02746138907968998, 0.02032320760190487, 0.034458402544260025, 0.01582757569849491, 0.030705831944942474, 0.020360924303531647, 0.03558043763041496, 0.0347902812063694, 0.03518148139119148, 0.02857258915901184, 0.043333861976861954, 0.03896386921405792, 0.017587678506970406, 0.04553376883268356, 0.04632510244846344, 0.0, 0.0, 0.0, 0.0], [0.1184174120426178, 0.026689786463975906, 0.02854764461517334, 0.035164546221494675, 0.035190947353839874, 0.03070487454533577, 0.04254687950015068, 0.023103512823581696, 0.025463111698627472, 0.029678530991077423, 0.028395209461450577, 0.019178248941898346, 0.023833582177758217, 0.027640024200081825, 0.03381752595305443, 0.0396401472389698, 0.027574433013796806, 0.02185618132352829, 0.03966764733195305, 0.03941832855343819, 0.027115602046251297, 0.030498065054416656, 0.03493282571434975, 0.032320525497198105, 0.027840541675686836, 0.03877574950456619, 0.021124789491295815, 0.03861145302653313, 0.03277180716395378, 0.01947997510433197, 0.0, 0.0, 0.0], [0.05433792620897293, 0.019247833639383316, 0.011686460115015507, 0.014118612743914127, 0.013909773901104927, 0.05736805871129036, 0.034546371549367905, 0.04665059223771095, 0.01302645169198513, 0.01327129639685154, 0.05952772870659828, 0.009063140489161015, 0.017364205792546272, 0.06135566160082817, 0.012634649872779846, 0.015145530924201012, 0.06425532698631287, 0.04627063870429993, 0.019556351006031036, 0.012543456628918648, 0.06913559138774872, 0.03482367843389511, 0.030005954205989838, 0.012261823751032352, 0.07985591143369675, 0.018996424973011017, 0.010722922161221504, 0.08654540777206421, 0.017174093052744865, 0.02214415930211544, 0.022453967481851578, 0.0, 0.0], [0.058496445417404175, 0.03437737375497818, 0.013603102415800095, 0.02417042665183544, 0.01900586113333702, 0.065464086830616, 0.030622968450188637, 0.03573206439614296, 0.018859446048736572, 0.012241482734680176, 0.0628218725323677, 0.01183574739843607, 0.009552359580993652, 0.06431794911623001, 0.021589579060673714, 0.010912968777120113, 0.06665909290313721, 0.023997461423277855, 0.026596765965223312, 0.006153557915240526, 0.06984326988458633, 0.0372387059032917, 0.030046731233596802, 0.021686820313334465, 0.04364060238003731, 0.021209608763456345, 0.013490453362464905, 0.04632721468806267, 0.020434487611055374, 0.013362264260649681, 0.018568992614746094, 0.04714023694396019, 0.0], [0.13528689742088318, 0.02973337285220623, 0.026111343875527382, 0.037535764276981354, 0.038881566375494, 0.0331667959690094, 0.048243895173072815, 0.030468305572867393, 0.026038214564323425, 0.024123694747686386, 0.02789274789392948, 0.02270994335412979, 0.024185284972190857, 0.026114555075764656, 0.023209664970636368, 0.02517528086900711, 0.024614788591861725, 0.02112315222620964, 0.029685042798519135, 0.01816747523844242, 0.023064378648996353, 0.02059808187186718, 0.03441140800714493, 0.021083403378725052, 0.02253882959485054, 0.032281555235385895, 0.013987242244184017, 0.024144932627677917, 0.02700228989124298, 0.012929445132613182, 0.036165378987789154, 0.026840217411518097, 0.03248502314090729]]]}\n",
              "    )\n",
              "    </script>"
            ]
          },
          "metadata": {},
          "execution_count": 101
        }
      ],
      "source": [
        "print(\"Layer 0 Head Attention Patterns:\")\n",
        "cv.attention.attention_patterns(tokens=gpt2_str_tokens, attention=attention_pattern)"
      ]
    },
    {
      "cell_type": "code",
      "source": [
        "post_mlp_act = gpt2_cache[\"post\", 0, \"mlp\"]\n",
        "print(post_mlp_act.shape)"
      ],
      "metadata": {
        "id": "b5o8TRzojS0f",
        "outputId": "ea52cebc-f736-4ff0-a92e-8e79b2bbc7bc",
        "colab": {
          "base_uri": "https://localhost:8080/"
        }
      },
      "execution_count": 102,
      "outputs": [
        {
          "output_type": "stream",
          "name": "stdout",
          "text": [
            "torch.Size([33, 3072])\n"
          ]
        }
      ]
    },
    {
      "cell_type": "code",
      "source": [
        "pre_mlp_act = gpt2_cache[\"pre\", 0, \"mlp\"]\n",
        "print(pre_mlp_act.shape)"
      ],
      "metadata": {
        "id": "ALa9LinqP7SB",
        "outputId": "4799cc2c-72cc-4e5f-e6e7-fea2306cefd4",
        "colab": {
          "base_uri": "https://localhost:8080/"
        }
      },
      "execution_count": 103,
      "outputs": [
        {
          "output_type": "stream",
          "name": "stdout",
          "text": [
            "torch.Size([33, 3072])\n"
          ]
        }
      ]
    },
    {
      "cell_type": "code",
      "source": [
        "pre_mlp_act[0, :10]"
      ],
      "metadata": {
        "id": "UUckcfOCQhpC",
        "outputId": "89f42643-b1c2-4eff-f8c7-949c9e1f8306",
        "colab": {
          "base_uri": "https://localhost:8080/"
        }
      },
      "execution_count": 104,
      "outputs": [
        {
          "output_type": "execute_result",
          "data": {
            "text/plain": [
              "tensor([-0.1944, -2.0492, -2.7343, -2.0550, -1.4359, -1.4521, -2.0279, -2.8301,\n",
              "        -1.2443, -1.3445], device='cuda:0')"
            ]
          },
          "metadata": {},
          "execution_count": 104
        }
      ]
    },
    {
      "cell_type": "code",
      "source": [
        "post_mlp_act[0, :10]"
      ],
      "metadata": {
        "id": "Ine8IU-yQzHp",
        "outputId": "d715bb21-f55a-478e-ad00-384715e9b587",
        "colab": {
          "base_uri": "https://localhost:8080/"
        }
      },
      "execution_count": 105,
      "outputs": [
        {
          "output_type": "execute_result",
          "data": {
            "text/plain": [
              "tensor([-0.0822, -0.0413, -0.0081, -0.0408, -0.1087, -0.1066, -0.0430, -0.0061,\n",
              "        -0.1330, -0.1204], device='cuda:0')"
            ]
          },
          "metadata": {},
          "execution_count": 105
        }
      ]
    },
    {
      "cell_type": "code",
      "source": [
        "F.gelu(pre_mlp_act[0, :10])"
      ],
      "metadata": {
        "id": "C1Nkpf5wRFok",
        "outputId": "fc1ca51d-9643-42a8-df26-2fa379a33444",
        "colab": {
          "base_uri": "https://localhost:8080/"
        }
      },
      "execution_count": 106,
      "outputs": [
        {
          "output_type": "execute_result",
          "data": {
            "text/plain": [
              "tensor([-0.0822, -0.0414, -0.0085, -0.0410, -0.1084, -0.1063, -0.0432, -0.0066,\n",
              "        -0.1328, -0.1202], device='cuda:0')"
            ]
          },
          "metadata": {},
          "execution_count": 106
        }
      ]
    },
    {
      "cell_type": "code",
      "source": [
        "v_act = gpt2_cache[\"v\", 0, \"attn\"]\n",
        "print(v_act.shape)"
      ],
      "metadata": {
        "id": "JOTVV5FzkGdT",
        "outputId": "4296aa31-bde5-4f48-e43c-dfb662aaef8c",
        "colab": {
          "base_uri": "https://localhost:8080/"
        }
      },
      "execution_count": 107,
      "outputs": [
        {
          "output_type": "stream",
          "name": "stdout",
          "text": [
            "torch.Size([33, 12, 64])\n"
          ]
        }
      ]
    },
    {
      "cell_type": "markdown",
      "metadata": {
        "id": "FtrQUhIXyWR4"
      },
      "source": [
        "## Hooks: Intervening on Activations"
      ]
    },
    {
      "cell_type": "markdown",
      "metadata": {
        "id": "nphcnIqtyWR5"
      },
      "source": [
        "One of the great things about interpreting neural networks is that we have *full control* over our system. From a computational perspective, we know exactly what operations are going on inside (even if we don't know what they mean!). And we can make precise, surgical edits and see how the model's behaviour and other internals change. This is an extremely powerful tool, because it can let us eg set up careful counterfactuals and causal intervention to easily understand model behaviour. \n",
        "\n",
        "Accordingly, being able to do this is a pretty core operation, and this is one of the main things TransformerLens supports! The key feature here is **hook points**. Every activation inside the transformer is surrounded by a hook point, which allows us to edit or intervene on it. \n",
        "\n",
        "We do this by adding a **hook function** to that activation. The hook function maps `current_activation_value, hook_point` to `new_activation_value`. As the model is run, it computes that activation as normal, and then the hook function is applied to compute a replacement, and that is substituted in for the activation. The hook function can be an arbitrary Python function, so long as it returns a tensor of the correct shape.\n",
        "\n",
        "<details><summary>Relationship to PyTorch hooks</summary>\n",
        "\n",
        "[PyTorch hooks](https://blog.paperspace.com/pytorch-hooks-gradient-clipping-debugging/) are a great and underrated, yet incredibly janky, feature. They can act on a layer, and edit the input or output of that layer, or the gradient when applying autodiff. The key difference is that **Hook points** act on *activations* not layers. This means that you can intervene within a layer on each activation, and don't need to care about the precise layer structure of the transformer. And it's immediately clear exactly how the hook's effect is applied. This adjustment was shamelessly inspired by [Garcon's use of ProbePoints](https://transformer-circuits.pub/2021/garcon/index.html).\n",
        "\n",
        "They also come with a range of other quality of life improvements, like the model having a `model.reset_hooks()` method to remove all hooks, or helper methods to temporarily add hooks for a single forward pass - it is *incredibly* easy to shoot yourself in the foot with standard PyTorch hooks!\n",
        "</details>"
      ]
    },
    {
      "cell_type": "markdown",
      "metadata": {
        "id": "PxKn_YhuyWR5"
      },
      "source": [
        "As a basic example, let's [ablate](https://dynalist.io/d/n2ZWtnoYHrU1s4vnFSAQ519J#z=fh-HJyz1CgUVrXuoiban6bYx) head 6 in layer 0 on the text above. \n",
        "\n",
        "We define a `head_ablation_hook` function. This takes the value tensor for attention layer 0, and sets the component with `head_index==7` to zero and returns it (Note - we return by convention, but since we're editing the activation in-place, we don't strictly *need* to).\n",
        "\n",
        "We then use the `run_with_hooks` helper function to run the model and *temporarily* add in the hook for just this run. We enter in the hook as a tuple of the activation name (also the hook point name - found with `utils.get_act_name`) and the hook function."
      ]
    },
    {
      "cell_type": "code",
      "execution_count": 108,
      "metadata": {
        "id": "YBMWznBbyWR5",
        "outputId": "66d97f1d-fc47-4b9c-bc4c-1c638ca90265",
        "colab": {
          "base_uri": "https://localhost:8080/"
        }
      },
      "outputs": [
        {
          "output_type": "stream",
          "name": "stdout",
          "text": [
            "Shape of the value tensor: torch.Size([1, 33, 12, 64])\n",
            "Original Loss: 3.999\n",
            "Ablated Loss: 3.939\n"
          ]
        }
      ],
      "source": [
        "layer_to_ablate = 0\n",
        "head_index_to_ablate = 6\n",
        "\n",
        "# We define a head ablation hook\n",
        "# The type annotations are NOT necessary, they're just a useful guide to the reader\n",
        "# \n",
        "def head_ablation_hook(\n",
        "    value: Float[torch.Tensor, \"batch pos head_index d_head\"],\n",
        "    hook: HookPoint\n",
        ") -> Float[torch.Tensor, \"batch pos head_index d_head\"]:\n",
        "    print(f\"Shape of the value tensor: {value.shape}\")\n",
        "    value[:, :, head_index_to_ablate, :] = 0.\n",
        "    return value\n",
        "\n",
        "original_loss = model(gpt2_tokens, return_type=\"loss\")\n",
        "ablated_loss = model.run_with_hooks(\n",
        "    gpt2_tokens, \n",
        "    return_type=\"loss\", \n",
        "    fwd_hooks=[(\n",
        "        utils.get_act_name(\"v\", layer_to_ablate), \n",
        "        head_ablation_hook\n",
        "        )]\n",
        "    )\n",
        "print(f\"Original Loss: {original_loss.item():.3f}\")\n",
        "print(f\"Ablated Loss: {ablated_loss.item():.3f}\")"
      ]
    },
    {
      "cell_type": "code",
      "source": [
        "utils.get_act_name(\"v\", layer_to_ablate)"
      ],
      "metadata": {
        "id": "6MnSVUUbINwG",
        "outputId": "a0d0d0fc-8985-41a1-fed4-25eab4957008",
        "colab": {
          "base_uri": "https://localhost:8080/",
          "height": 36
        }
      },
      "execution_count": 109,
      "outputs": [
        {
          "output_type": "execute_result",
          "data": {
            "text/plain": [
              "'blocks.0.attn.hook_v'"
            ],
            "application/vnd.google.colaboratory.intrinsic+json": {
              "type": "string"
            }
          },
          "metadata": {},
          "execution_count": 109
        }
      ]
    },
    {
      "cell_type": "code",
      "source": [
        "model.reset_hooks()"
      ],
      "metadata": {
        "id": "_JbcKgNhJyrw"
      },
      "execution_count": 110,
      "outputs": []
    },
    {
      "cell_type": "code",
      "source": [
        "layer_to_ablate = 0\n",
        "\n",
        "# The type annotations are NOT necessary, they're just a useful guide to the reader\n",
        "# \n",
        "\n",
        "def relu_hook(\n",
        "    value: Float[torch.Tensor, \"batch pos d_mlp\"],\n",
        "    hook: HookPoint\n",
        ") -> Float[torch.Tensor, \"batch pos d_mlp\"]:\n",
        "    print(f\"Shape of the value tensor: {value.shape}\")\n",
        "    value = F.relu(value)\n",
        "    return value\n",
        "\n",
        "original_loss = model(gpt2_tokens, return_type=\"loss\")\n",
        "\n",
        "ablated_loss = model.run_with_hooks(\n",
        "    gpt2_tokens, \n",
        "    return_type=\"loss\", \n",
        "    fwd_hooks=[(\n",
        "        utils.get_act_name(\"mlp_post\", layer_to_ablate), \n",
        "        relu_hook\n",
        "        )]\n",
        "    )\n",
        "print(f\"Original Loss: {original_loss.item():.3f}\")\n",
        "print(f\"Ablated Loss: {ablated_loss.item():.3f}\")"
      ],
      "metadata": {
        "id": "h8jFl45MjZzH",
        "outputId": "de2d6d45-ee08-417e-9c3a-f612984d46a3",
        "colab": {
          "base_uri": "https://localhost:8080/"
        }
      },
      "execution_count": 111,
      "outputs": [
        {
          "output_type": "stream",
          "name": "stdout",
          "text": [
            "Shape of the value tensor: torch.Size([1, 33, 3072])\n",
            "Original Loss: 3.999\n",
            "Ablated Loss: 4.148\n"
          ]
        }
      ]
    },
    {
      "cell_type": "code",
      "source": [
        "model.reset_hooks()"
      ],
      "metadata": {
        "id": "qFm61x00ky6G"
      },
      "execution_count": 112,
      "outputs": []
    },
    {
      "cell_type": "markdown",
      "metadata": {
        "id": "OsntIXN_yWR5"
      },
      "source": [
        "**Gotcha:** Hooks are global state - they're added in as part of the model, and stay there until removed. `run_with_hooks` tries to create an abstraction where these are local state, by removing all hooks at the end of the function. But you can easily shoot yourself in the foot if there's, eg, an error in one of your hooks so the function never finishes. If you start getting bugs, try `model.reset_hooks()` to clean things up. Further, if you *do* add hooks of your own that you want to keep, which you can do with `add_perma_hook` on the relevant HookPoint"
      ]
    },
    {
      "cell_type": "markdown",
      "metadata": {
        "id": "rVkw2DGpyWR5"
      },
      "source": [
        "### Activation Patching on the Indirect Object Identification Task"
      ]
    },
    {
      "cell_type": "markdown",
      "metadata": {
        "id": "uY8fqYsbyWR6"
      },
      "source": [
        "For a somewhat more involved example, let's use hooks to apply **[activation patching](https://dynalist.io/d/n2ZWtnoYHrU1s4vnFSAQ519J#z=qeWBvs-R-taFfcCq-S_hgMqx)** on the **[Indirect Object Identification](https://dynalist.io/d/n2ZWtnoYHrU1s4vnFSAQ519J#z=iWsV3s5Kdd2ca3zNgXr5UPHa)** (IOI) task. \n",
        "\n",
        "The IOI task is the task of identifying that a sentence like \"After John and Mary went to the store, Mary gave a bottle of milk to\" continues with \" John\" rather than \" Mary\" (ie, finding the indirect object), and Redwood Research have [an excellent paper studying the underlying circuit in GPT-2 Small](https://arxiv.org/abs/2211.00593).\n",
        "\n",
        "**[Activation patching](https://dynalist.io/d/n2ZWtnoYHrU1s4vnFSAQ519J#z=qeWBvs-R-taFfcCq-S_hgMqx)** is a technique from [Kevin Meng and David Bau's excellent ROME paper](https://rome.baulab.info/). The goal is to identify which model activations are important for completing a task. We do this by setting up a **clean prompt** and a **corrupted prompt** and a **metric** for performance on the task. We then pick a specific model activation, run the model on the corrupted prompt, but then *intervene* on that activation and patch in its value when run on the clean prompt. We then apply the metric, and see how much this patch has recovered the clean performance. \n",
        "(See [a more detailed demonstration of activation patching here](https://colab.research.google.com/github/neelnanda-io/Easy-Transformer/blob/main/Exploratory_Analysis_Demo.ipynb#scrollTo=5nUXG6zqmd0f))"
      ]
    },
    {
      "cell_type": "markdown",
      "metadata": {
        "id": "pfqSXpY8yWR6"
      },
      "source": [
        "Here, our clean prompt is \"After John and Mary went to the store, **Mary** gave a bottle of milk to\", our corrupted prompt is \"After John and Mary went to the store, **John** gave a bottle of milk to\", and our metric is the difference between the correct logit ( John) and the incorrect logit ( Mary) on the final token. \n",
        "\n",
        "We see that the logit difference is significantly positive on the clean prompt, and significantly negative on the corrupted prompt, showing that the model is capable of doing the task!"
      ]
    },
    {
      "cell_type": "code",
      "execution_count": 113,
      "metadata": {
        "id": "w33Tgf3MyWR6",
        "outputId": "157e6c10-ed34-4073-8ee3-a6d5592c8716",
        "colab": {
          "base_uri": "https://localhost:8080/"
        }
      },
      "outputs": [
        {
          "output_type": "stream",
          "name": "stdout",
          "text": [
            "Clean logit difference: 4.276\n",
            "Corrupted logit difference: -2.738\n"
          ]
        }
      ],
      "source": [
        "clean_prompt = \"After John and Mary went to the store, Mary gave a bottle of milk to\"\n",
        "corrupted_prompt = \"After John and Mary went to the store, John gave a bottle of milk to\"\n",
        "\n",
        "clean_tokens = model.to_tokens(clean_prompt)\n",
        "corrupted_tokens = model.to_tokens(corrupted_prompt)\n",
        "\n",
        "def logits_to_logit_diff(logits, correct_answer=\" John\", incorrect_answer=\" Mary\"):\n",
        "    # model.to_single_token maps a string value of a single token to the token index for that token\n",
        "    # If the string is not a single token, it raises an error.\n",
        "    correct_index = model.to_single_token(correct_answer)\n",
        "    incorrect_index = model.to_single_token(incorrect_answer)\n",
        "    return logits[0, -1, correct_index] - logits[0, -1, incorrect_index]\n",
        "\n",
        "# We run on the clean prompt with the cache so we store activations to patch in later.\n",
        "clean_logits, clean_cache = model.run_with_cache(clean_tokens)\n",
        "clean_logit_diff = logits_to_logit_diff(clean_logits)\n",
        "print(f\"Clean logit difference: {clean_logit_diff.item():.3f}\")\n",
        "\n",
        "# We don't need to cache on the corrupted prompt.\n",
        "corrupted_logits = model(corrupted_tokens)\n",
        "corrupted_logit_diff = logits_to_logit_diff(corrupted_logits)\n",
        "print(f\"Corrupted logit difference: {corrupted_logit_diff.item():.3f}\")"
      ]
    },
    {
      "cell_type": "code",
      "source": [
        "model.to_single_token(\" John\")"
      ],
      "metadata": {
        "id": "gMJbz61JQsLG",
        "outputId": "1961f922-99cf-4ee5-b1fd-2204c694174a",
        "colab": {
          "base_uri": "https://localhost:8080/"
        }
      },
      "execution_count": 114,
      "outputs": [
        {
          "output_type": "execute_result",
          "data": {
            "text/plain": [
              "1757"
            ]
          },
          "metadata": {},
          "execution_count": 114
        }
      ]
    },
    {
      "cell_type": "code",
      "source": [
        "model.to_single_token(\" Mary\")"
      ],
      "metadata": {
        "id": "Kojz-8ovQx7Y",
        "outputId": "c9bc52f2-fefe-43c2-88ea-8be63c3ede07",
        "colab": {
          "base_uri": "https://localhost:8080/"
        }
      },
      "execution_count": 115,
      "outputs": [
        {
          "output_type": "execute_result",
          "data": {
            "text/plain": [
              "5335"
            ]
          },
          "metadata": {},
          "execution_count": 115
        }
      ]
    },
    {
      "cell_type": "code",
      "source": [
        "clean_tokens.shape, corrupted_tokens.shape"
      ],
      "metadata": {
        "id": "SoB9CpQCQdW3",
        "outputId": "5def38d2-7014-4bc9-a378-f8063641390e",
        "colab": {
          "base_uri": "https://localhost:8080/"
        }
      },
      "execution_count": 116,
      "outputs": [
        {
          "output_type": "execute_result",
          "data": {
            "text/plain": [
              "(torch.Size([1, 17]), torch.Size([1, 17]))"
            ]
          },
          "metadata": {},
          "execution_count": 116
        }
      ]
    },
    {
      "cell_type": "code",
      "source": [
        "clean_prompt = \"The Paris is in\"\n",
        "corrupted_prompt = \"The Delhi is in\"\n",
        "\n",
        "clean_tokens = model.to_tokens(clean_prompt)\n",
        "corrupted_tokens = model.to_tokens(corrupted_prompt)\n",
        "\n",
        "# We run on the clean prompt with the cache so we store activations to patch in later.\n",
        "clean_logits, clean_cache = model.run_with_cache(clean_tokens)\n",
        "clean_logit_diff = logits_to_logit_diff(clean_logits, correct_answer=\" France\", incorrect_answer=\" India\")\n",
        "print(f\"Clean logit difference: {clean_logit_diff.item():.3f}\")\n",
        "\n",
        "# We don't need to cache on the corrupted prompt.\n",
        "corrupted_logits = model(corrupted_tokens)\n",
        "corrupted_logit_diff = logits_to_logit_diff(corrupted_logits, correct_answer=\" France\", incorrect_answer=\" India\")\n",
        "print(f\"Corrupted logit difference: {corrupted_logit_diff.item():.3f}\")"
      ],
      "metadata": {
        "id": "FUxGc8xUZUPn",
        "outputId": "b630b4ad-7daa-43d7-956f-0cbf38931248",
        "colab": {
          "base_uri": "https://localhost:8080/"
        }
      },
      "execution_count": 117,
      "outputs": [
        {
          "output_type": "stream",
          "name": "stdout",
          "text": [
            "Clean logit difference: 3.810\n",
            "Corrupted logit difference: -4.394\n"
          ]
        }
      ]
    },
    {
      "cell_type": "markdown",
      "metadata": {
        "id": "zyuboHWzyWR6"
      },
      "source": [
        "We now setup the hook function to do activation patching. Here, we'll patch in the [residual stream](https://dynalist.io/d/n2ZWtnoYHrU1s4vnFSAQ519J#z=DHp9vZ0h9lA9OCrzG2Y3rrzH) at the start of a specific layer and at a specific position. This will let us see how much the model is using the residual stream at that layer and position to represent the key information for the task. \n",
        "\n",
        "We want to iterate over all layers and positions, so we write the hook to take in an position parameter. Hook functions must have the input signature (activation, hook), but we can use `functools.partial` to set the position parameter before passing it to `run_with_hooks`"
      ]
    },
    {
      "cell_type": "code",
      "execution_count": 118,
      "metadata": {
        "id": "eA0Ku9YYyWR7",
        "outputId": "4a7551b0-95e6-4852-dcb1-30e8835b2b33",
        "colab": {
          "base_uri": "https://localhost:8080/",
          "height": 49,
          "referenced_widgets": [
            "92b9ae26383c42268cbb7e97e219ce29",
            "3243765efe044d0babd59e13881540e1",
            "cd957470ff804158a56db93b1577b125",
            "a29e6d3fb7364c46b2cee23b2d784fd3",
            "971f10493f0446778098cbe331c91867",
            "33d5b6acb3ae4145876430b1691154cb",
            "be7ab7e586a641b9971dc73c1852dd2b",
            "7bb18259ee4b49b6a5826575694914e1",
            "8f3c332460d1475bab90430472013ec9",
            "a6fcc0f0cd5446d488f01fbe5a09265d",
            "44c9899e9dea455695021366863511ad"
          ]
        }
      },
      "outputs": [
        {
          "output_type": "display_data",
          "data": {
            "text/plain": [
              "  0%|          | 0/12 [00:00<?, ?it/s]"
            ],
            "application/vnd.jupyter.widget-view+json": {
              "version_major": 2,
              "version_minor": 0,
              "model_id": "92b9ae26383c42268cbb7e97e219ce29"
            }
          },
          "metadata": {}
        }
      ],
      "source": [
        "# We define a residual stream patching hook\n",
        "# We choose to act on the residual stream at the start of the layer, so we call it resid_pre\n",
        "# The type annotations are a guide to the reader and are not necessary\n",
        "def residual_stream_patching_hook(\n",
        "    resid_pre: Float[torch.Tensor, \"batch pos d_model\"],\n",
        "    hook: HookPoint,\n",
        "    position: int\n",
        ") -> Float[torch.Tensor, \"batch pos d_model\"]:\n",
        "    # Each HookPoint has a name attribute giving the name of the hook.\n",
        "    clean_resid_pre = clean_cache[hook.name]\n",
        "    resid_pre[:, position, :] = clean_resid_pre[:, position, :]\n",
        "    return resid_pre\n",
        "\n",
        "# We make a tensor to store the results for each patching run. We put it on the model's device to avoid needing to move things between the GPU and CPU, which can be slow.\n",
        "num_positions = len(clean_tokens[0])\n",
        "ioi_patching_result = torch.zeros((model.cfg.n_layers, num_positions), device=model.cfg.device)\n",
        "\n",
        "for layer in tqdm.tqdm(range(model.cfg.n_layers)):\n",
        "    for position in range(num_positions):\n",
        "        # Use functools.partial to create a temporary hook function with the position fixed\n",
        "        temp_hook_fn = partial(residual_stream_patching_hook, position=position)\n",
        "        # Run the model with the patching hook\n",
        "        patched_logits = model.run_with_hooks(corrupted_tokens, fwd_hooks=[\n",
        "            (utils.get_act_name(\"resid_pre\", layer), temp_hook_fn)\n",
        "        ])\n",
        "        # Calculate the logit difference\n",
        "        patched_logit_diff = logits_to_logit_diff(patched_logits).detach()\n",
        "        # Store the result, normalizing by the clean and corrupted logit difference so it's between 0 and 1 (ish)\n",
        "        ioi_patching_result[layer, position] = (patched_logit_diff - corrupted_logit_diff)/(clean_logit_diff - corrupted_logit_diff)"
      ]
    },
    {
      "cell_type": "markdown",
      "metadata": {
        "id": "-AiHgZtoyWR7"
      },
      "source": [
        "We can now visualize the results, and see that this computation is extremely localised within the model. Initially, the second subject (Mary) token is all that matters (naturally, as it's the only different token), and all relevant information remains here until heads in layer 7 and 8 move this to the final token where it's used to predict the indirect object.\n",
        "(Note - the heads are in layer 7 and 8, not 8 and 9, because we patched in the residual stream at the *start* of each layer)"
      ]
    },
    {
      "cell_type": "code",
      "execution_count": 119,
      "metadata": {
        "id": "YrzzaX9pyWR7",
        "outputId": "bf44d0ef-8a7b-4130-a9ac-b5023e1430c2",
        "colab": {
          "base_uri": "https://localhost:8080/",
          "height": 542
        }
      },
      "outputs": [
        {
          "output_type": "display_data",
          "data": {
            "text/html": [
              "<html>\n",
              "<head><meta charset=\"utf-8\" /></head>\n",
              "<body>\n",
              "    <div>            <script src=\"https://cdnjs.cloudflare.com/ajax/libs/mathjax/2.7.5/MathJax.js?config=TeX-AMS-MML_SVG\"></script><script type=\"text/javascript\">if (window.MathJax && window.MathJax.Hub && window.MathJax.Hub.Config) {window.MathJax.Hub.Config({SVG: {font: \"STIX-Web\"}});}</script>                <script type=\"text/javascript\">window.PlotlyConfig = {MathJaxConfig: 'local'};</script>\n",
              "        <script src=\"https://cdn.plot.ly/plotly-2.18.2.min.js\"></script>                <div id=\"70cfb08f-b141-4832-bff9-8933178f4187\" class=\"plotly-graph-div\" style=\"height:525px; width:100%;\"></div>            <script type=\"text/javascript\">                                    window.PLOTLYENV=window.PLOTLYENV || {};                                    if (document.getElementById(\"70cfb08f-b141-4832-bff9-8933178f4187\")) {                    Plotly.newPlot(                        \"70cfb08f-b141-4832-bff9-8933178f4187\",                        [{\"coloraxis\":\"coloraxis\",\"name\":\"0\",\"x\":[\"<|endoftext|>_0\",\"The_1\",\" Paris_2\",\" is_3\",\" in_4\"],\"z\":[[0.5583092570304871,0.5583092570304871,0.578373372554779,0.5583092570304871,0.5583092570304871],[0.5583092570304871,0.5583092570304871,0.5847042202949524,0.5634111166000366,0.5554120540618896],[0.5583092570304871,0.5583092570304871,0.5908083915710449,0.5592641830444336,0.5563897490501404],[0.5583092570304871,0.5583092570304871,0.5963793396949768,0.5504670739173889,0.5557247996330261],[0.5583092570304871,0.5583092570304871,0.6081269383430481,0.5458354353904724,0.5452797412872314],[0.5583092570304871,0.5583092570304871,0.6185412406921387,0.5349128842353821,0.5423645973205566],[0.5583092570304871,0.5583092570304871,0.6192065477371216,0.541334331035614,0.5304752588272095],[0.5583092570304871,0.5583092570304871,0.6170362830162048,0.5567501187324524,0.5200127363204956],[0.5583092570304871,0.5583092570304871,0.611434280872345,0.555371105670929,0.5253164172172546],[0.5583092570304871,0.5583092570304871,0.5933429598808289,0.5673813223838806,0.5197078585624695],[0.5583092570304871,0.5583092570304871,0.5583516359329224,0.5601898431777954,0.5734671950340271],[0.5583092570304871,0.5583092570304871,0.5580551028251648,0.5615587830543518,0.5801643133163452]],\"type\":\"heatmap\",\"xaxis\":\"x\",\"yaxis\":\"y\",\"hovertemplate\":\"Position: %{x}<br>Layer: %{y}<br>color: %{z}<extra></extra>\"}],                        {\"template\":{\"data\":{\"histogram2dcontour\":[{\"type\":\"histogram2dcontour\",\"colorbar\":{\"outlinewidth\":0,\"ticks\":\"\"},\"colorscale\":[[0.0,\"#0d0887\"],[0.1111111111111111,\"#46039f\"],[0.2222222222222222,\"#7201a8\"],[0.3333333333333333,\"#9c179e\"],[0.4444444444444444,\"#bd3786\"],[0.5555555555555556,\"#d8576b\"],[0.6666666666666666,\"#ed7953\"],[0.7777777777777778,\"#fb9f3a\"],[0.8888888888888888,\"#fdca26\"],[1.0,\"#f0f921\"]]}],\"choropleth\":[{\"type\":\"choropleth\",\"colorbar\":{\"outlinewidth\":0,\"ticks\":\"\"}}],\"histogram2d\":[{\"type\":\"histogram2d\",\"colorbar\":{\"outlinewidth\":0,\"ticks\":\"\"},\"colorscale\":[[0.0,\"#0d0887\"],[0.1111111111111111,\"#46039f\"],[0.2222222222222222,\"#7201a8\"],[0.3333333333333333,\"#9c179e\"],[0.4444444444444444,\"#bd3786\"],[0.5555555555555556,\"#d8576b\"],[0.6666666666666666,\"#ed7953\"],[0.7777777777777778,\"#fb9f3a\"],[0.8888888888888888,\"#fdca26\"],[1.0,\"#f0f921\"]]}],\"heatmap\":[{\"type\":\"heatmap\",\"colorbar\":{\"outlinewidth\":0,\"ticks\":\"\"},\"colorscale\":[[0.0,\"#0d0887\"],[0.1111111111111111,\"#46039f\"],[0.2222222222222222,\"#7201a8\"],[0.3333333333333333,\"#9c179e\"],[0.4444444444444444,\"#bd3786\"],[0.5555555555555556,\"#d8576b\"],[0.6666666666666666,\"#ed7953\"],[0.7777777777777778,\"#fb9f3a\"],[0.8888888888888888,\"#fdca26\"],[1.0,\"#f0f921\"]]}],\"heatmapgl\":[{\"type\":\"heatmapgl\",\"colorbar\":{\"outlinewidth\":0,\"ticks\":\"\"},\"colorscale\":[[0.0,\"#0d0887\"],[0.1111111111111111,\"#46039f\"],[0.2222222222222222,\"#7201a8\"],[0.3333333333333333,\"#9c179e\"],[0.4444444444444444,\"#bd3786\"],[0.5555555555555556,\"#d8576b\"],[0.6666666666666666,\"#ed7953\"],[0.7777777777777778,\"#fb9f3a\"],[0.8888888888888888,\"#fdca26\"],[1.0,\"#f0f921\"]]}],\"contourcarpet\":[{\"type\":\"contourcarpet\",\"colorbar\":{\"outlinewidth\":0,\"ticks\":\"\"}}],\"contour\":[{\"type\":\"contour\",\"colorbar\":{\"outlinewidth\":0,\"ticks\":\"\"},\"colorscale\":[[0.0,\"#0d0887\"],[0.1111111111111111,\"#46039f\"],[0.2222222222222222,\"#7201a8\"],[0.3333333333333333,\"#9c179e\"],[0.4444444444444444,\"#bd3786\"],[0.5555555555555556,\"#d8576b\"],[0.6666666666666666,\"#ed7953\"],[0.7777777777777778,\"#fb9f3a\"],[0.8888888888888888,\"#fdca26\"],[1.0,\"#f0f921\"]]}],\"surface\":[{\"type\":\"surface\",\"colorbar\":{\"outlinewidth\":0,\"ticks\":\"\"},\"colorscale\":[[0.0,\"#0d0887\"],[0.1111111111111111,\"#46039f\"],[0.2222222222222222,\"#7201a8\"],[0.3333333333333333,\"#9c179e\"],[0.4444444444444444,\"#bd3786\"],[0.5555555555555556,\"#d8576b\"],[0.6666666666666666,\"#ed7953\"],[0.7777777777777778,\"#fb9f3a\"],[0.8888888888888888,\"#fdca26\"],[1.0,\"#f0f921\"]]}],\"mesh3d\":[{\"type\":\"mesh3d\",\"colorbar\":{\"outlinewidth\":0,\"ticks\":\"\"}}],\"scatter\":[{\"fillpattern\":{\"fillmode\":\"overlay\",\"size\":10,\"solidity\":0.2},\"type\":\"scatter\"}],\"parcoords\":[{\"type\":\"parcoords\",\"line\":{\"colorbar\":{\"outlinewidth\":0,\"ticks\":\"\"}}}],\"scatterpolargl\":[{\"type\":\"scatterpolargl\",\"marker\":{\"colorbar\":{\"outlinewidth\":0,\"ticks\":\"\"}}}],\"bar\":[{\"error_x\":{\"color\":\"#2a3f5f\"},\"error_y\":{\"color\":\"#2a3f5f\"},\"marker\":{\"line\":{\"color\":\"#E5ECF6\",\"width\":0.5},\"pattern\":{\"fillmode\":\"overlay\",\"size\":10,\"solidity\":0.2}},\"type\":\"bar\"}],\"scattergeo\":[{\"type\":\"scattergeo\",\"marker\":{\"colorbar\":{\"outlinewidth\":0,\"ticks\":\"\"}}}],\"scatterpolar\":[{\"type\":\"scatterpolar\",\"marker\":{\"colorbar\":{\"outlinewidth\":0,\"ticks\":\"\"}}}],\"histogram\":[{\"marker\":{\"pattern\":{\"fillmode\":\"overlay\",\"size\":10,\"solidity\":0.2}},\"type\":\"histogram\"}],\"scattergl\":[{\"type\":\"scattergl\",\"marker\":{\"colorbar\":{\"outlinewidth\":0,\"ticks\":\"\"}}}],\"scatter3d\":[{\"type\":\"scatter3d\",\"line\":{\"colorbar\":{\"outlinewidth\":0,\"ticks\":\"\"}},\"marker\":{\"colorbar\":{\"outlinewidth\":0,\"ticks\":\"\"}}}],\"scattermapbox\":[{\"type\":\"scattermapbox\",\"marker\":{\"colorbar\":{\"outlinewidth\":0,\"ticks\":\"\"}}}],\"scatterternary\":[{\"type\":\"scatterternary\",\"marker\":{\"colorbar\":{\"outlinewidth\":0,\"ticks\":\"\"}}}],\"scattercarpet\":[{\"type\":\"scattercarpet\",\"marker\":{\"colorbar\":{\"outlinewidth\":0,\"ticks\":\"\"}}}],\"carpet\":[{\"aaxis\":{\"endlinecolor\":\"#2a3f5f\",\"gridcolor\":\"white\",\"linecolor\":\"white\",\"minorgridcolor\":\"white\",\"startlinecolor\":\"#2a3f5f\"},\"baxis\":{\"endlinecolor\":\"#2a3f5f\",\"gridcolor\":\"white\",\"linecolor\":\"white\",\"minorgridcolor\":\"white\",\"startlinecolor\":\"#2a3f5f\"},\"type\":\"carpet\"}],\"table\":[{\"cells\":{\"fill\":{\"color\":\"#EBF0F8\"},\"line\":{\"color\":\"white\"}},\"header\":{\"fill\":{\"color\":\"#C8D4E3\"},\"line\":{\"color\":\"white\"}},\"type\":\"table\"}],\"barpolar\":[{\"marker\":{\"line\":{\"color\":\"#E5ECF6\",\"width\":0.5},\"pattern\":{\"fillmode\":\"overlay\",\"size\":10,\"solidity\":0.2}},\"type\":\"barpolar\"}],\"pie\":[{\"automargin\":true,\"type\":\"pie\"}]},\"layout\":{\"autotypenumbers\":\"strict\",\"colorway\":[\"#636efa\",\"#EF553B\",\"#00cc96\",\"#ab63fa\",\"#FFA15A\",\"#19d3f3\",\"#FF6692\",\"#B6E880\",\"#FF97FF\",\"#FECB52\"],\"font\":{\"color\":\"#2a3f5f\"},\"hovermode\":\"closest\",\"hoverlabel\":{\"align\":\"left\"},\"paper_bgcolor\":\"white\",\"plot_bgcolor\":\"#E5ECF6\",\"polar\":{\"bgcolor\":\"#E5ECF6\",\"angularaxis\":{\"gridcolor\":\"white\",\"linecolor\":\"white\",\"ticks\":\"\"},\"radialaxis\":{\"gridcolor\":\"white\",\"linecolor\":\"white\",\"ticks\":\"\"}},\"ternary\":{\"bgcolor\":\"#E5ECF6\",\"aaxis\":{\"gridcolor\":\"white\",\"linecolor\":\"white\",\"ticks\":\"\"},\"baxis\":{\"gridcolor\":\"white\",\"linecolor\":\"white\",\"ticks\":\"\"},\"caxis\":{\"gridcolor\":\"white\",\"linecolor\":\"white\",\"ticks\":\"\"}},\"coloraxis\":{\"colorbar\":{\"outlinewidth\":0,\"ticks\":\"\"}},\"colorscale\":{\"sequential\":[[0.0,\"#0d0887\"],[0.1111111111111111,\"#46039f\"],[0.2222222222222222,\"#7201a8\"],[0.3333333333333333,\"#9c179e\"],[0.4444444444444444,\"#bd3786\"],[0.5555555555555556,\"#d8576b\"],[0.6666666666666666,\"#ed7953\"],[0.7777777777777778,\"#fb9f3a\"],[0.8888888888888888,\"#fdca26\"],[1.0,\"#f0f921\"]],\"sequentialminus\":[[0.0,\"#0d0887\"],[0.1111111111111111,\"#46039f\"],[0.2222222222222222,\"#7201a8\"],[0.3333333333333333,\"#9c179e\"],[0.4444444444444444,\"#bd3786\"],[0.5555555555555556,\"#d8576b\"],[0.6666666666666666,\"#ed7953\"],[0.7777777777777778,\"#fb9f3a\"],[0.8888888888888888,\"#fdca26\"],[1.0,\"#f0f921\"]],\"diverging\":[[0,\"#8e0152\"],[0.1,\"#c51b7d\"],[0.2,\"#de77ae\"],[0.3,\"#f1b6da\"],[0.4,\"#fde0ef\"],[0.5,\"#f7f7f7\"],[0.6,\"#e6f5d0\"],[0.7,\"#b8e186\"],[0.8,\"#7fbc41\"],[0.9,\"#4d9221\"],[1,\"#276419\"]]},\"xaxis\":{\"gridcolor\":\"white\",\"linecolor\":\"white\",\"ticks\":\"\",\"title\":{\"standoff\":15},\"zerolinecolor\":\"white\",\"automargin\":true,\"zerolinewidth\":2},\"yaxis\":{\"gridcolor\":\"white\",\"linecolor\":\"white\",\"ticks\":\"\",\"title\":{\"standoff\":15},\"zerolinecolor\":\"white\",\"automargin\":true,\"zerolinewidth\":2},\"scene\":{\"xaxis\":{\"backgroundcolor\":\"#E5ECF6\",\"gridcolor\":\"white\",\"linecolor\":\"white\",\"showbackground\":true,\"ticks\":\"\",\"zerolinecolor\":\"white\",\"gridwidth\":2},\"yaxis\":{\"backgroundcolor\":\"#E5ECF6\",\"gridcolor\":\"white\",\"linecolor\":\"white\",\"showbackground\":true,\"ticks\":\"\",\"zerolinecolor\":\"white\",\"gridwidth\":2},\"zaxis\":{\"backgroundcolor\":\"#E5ECF6\",\"gridcolor\":\"white\",\"linecolor\":\"white\",\"showbackground\":true,\"ticks\":\"\",\"zerolinecolor\":\"white\",\"gridwidth\":2}},\"shapedefaults\":{\"line\":{\"color\":\"#2a3f5f\"}},\"annotationdefaults\":{\"arrowcolor\":\"#2a3f5f\",\"arrowhead\":0,\"arrowwidth\":1},\"geo\":{\"bgcolor\":\"white\",\"landcolor\":\"#E5ECF6\",\"subunitcolor\":\"white\",\"showland\":true,\"showlakes\":true,\"lakecolor\":\"white\"},\"title\":{\"x\":0.05},\"mapbox\":{\"style\":\"light\"}}},\"xaxis\":{\"anchor\":\"y\",\"domain\":[0.0,1.0],\"scaleanchor\":\"y\",\"constrain\":\"domain\",\"title\":{\"text\":\"Position\"}},\"yaxis\":{\"anchor\":\"x\",\"domain\":[0.0,1.0],\"autorange\":\"reversed\",\"constrain\":\"domain\",\"title\":{\"text\":\"Layer\"}},\"coloraxis\":{\"colorscale\":[[0.0,\"rgb(103,0,31)\"],[0.1,\"rgb(178,24,43)\"],[0.2,\"rgb(214,96,77)\"],[0.3,\"rgb(244,165,130)\"],[0.4,\"rgb(253,219,199)\"],[0.5,\"rgb(247,247,247)\"],[0.6,\"rgb(209,229,240)\"],[0.7,\"rgb(146,197,222)\"],[0.8,\"rgb(67,147,195)\"],[0.9,\"rgb(33,102,172)\"],[1.0,\"rgb(5,48,97)\"]],\"cmid\":0.0},\"title\":{\"text\":\"Normalized Logit Difference After Patching Residual Stream on the IOI Task\"}},                        {\"responsive\": true}                    ).then(function(){\n",
              "                            \n",
              "var gd = document.getElementById('70cfb08f-b141-4832-bff9-8933178f4187');\n",
              "var x = new MutationObserver(function (mutations, observer) {{\n",
              "        var display = window.getComputedStyle(gd).display;\n",
              "        if (!display || display === 'none') {{\n",
              "            console.log([gd, 'removed!']);\n",
              "            Plotly.purge(gd);\n",
              "            observer.disconnect();\n",
              "        }}\n",
              "}});\n",
              "\n",
              "// Listen for the removal of the full notebook cells\n",
              "var notebookContainer = gd.closest('#notebook-container');\n",
              "if (notebookContainer) {{\n",
              "    x.observe(notebookContainer, {childList: true});\n",
              "}}\n",
              "\n",
              "// Listen for the clearing of the current output cell\n",
              "var outputEl = gd.closest('.output');\n",
              "if (outputEl) {{\n",
              "    x.observe(outputEl, {childList: true});\n",
              "}}\n",
              "\n",
              "                        })                };                            </script>        </div>\n",
              "</body>\n",
              "</html>"
            ]
          },
          "metadata": {}
        }
      ],
      "source": [
        "%matplotlib inline\n",
        "# Add the index to the end of the label, because plotly doesn't like duplicate labels\n",
        "token_labels = [f\"{token}_{index}\" for index, token in enumerate(model.to_str_tokens(clean_tokens))]\n",
        "imshow(ioi_patching_result, x=token_labels, xaxis=\"Position\", yaxis=\"Layer\", title=\"Normalized Logit Difference After Patching Residual Stream on the IOI Task\")"
      ]
    },
    {
      "cell_type": "markdown",
      "metadata": {
        "id": "_Gc42vK0yWR7"
      },
      "source": [
        "## Hooks: Accessing Activations"
      ]
    },
    {
      "cell_type": "markdown",
      "metadata": {
        "id": "toQNWv9KyWR8"
      },
      "source": [
        "Hooks can also be used to just **access** an activation - to run some function using that activation value, *without* changing the activation value. This can be achieved by just having the hook return nothing, and not editing the activation in place. \n",
        "\n",
        "This is useful for eg extracting activations for a specific task, or for doing some long-running calculation across many inputs, eg finding the text that most activates a specific neuron. (Note - everything this can do *could* be done with `run_with_cache` and post-processing, but this workflow can be more intuitive and memory efficient.)"
      ]
    },
    {
      "cell_type": "markdown",
      "metadata": {
        "id": "YdA3y04MyWR8"
      },
      "source": [
        "To demonstrate this, let's look for **[induction heads](https://transformer-circuits.pub/2022/in-context-learning-and-induction-heads/index.html)** in GPT-2 Small. \n",
        "\n",
        "Induction circuits are a very important circuit in generative language models, which are used to detect and continue repeated subsequences. They consist of two heads in separate layers that compose together, a **previous token head** which always attends to the previous token, and an **induction head** which attends to the token *after* an earlier copy of the current token. \n",
        "\n",
        "To see why this is important, let's say that the model is trying to predict the next token in a news article about Michael Jordan. The token \" Michael\", in general, could be followed by many surnames. But an induction head will look from that occurence of \" Michael\" to the token after previous occurences of \" Michael\", ie \" Jordan\" and can confidently predict that that will come next."
      ]
    },
    {
      "cell_type": "markdown",
      "metadata": {
        "id": "o9ERBNbOyWR8"
      },
      "source": [
        "An interesting fact about induction heads is that they generalise to arbitrary sequences of repeated tokens. We can see this by generating sequences of 50 random tokens, repeated twice, and plotting the average loss at predicting the next token, by position. We see that the model goes from terrible to very good at the halfway point."
      ]
    },
    {
      "cell_type": "code",
      "execution_count": 120,
      "metadata": {
        "id": "DPdNvhCbyWR8",
        "outputId": "6983566b-b5e9-4fbd-f876-ad093e862d9d",
        "colab": {
          "base_uri": "https://localhost:8080/",
          "height": 542
        }
      },
      "outputs": [
        {
          "output_type": "display_data",
          "data": {
            "text/html": [
              "<html>\n",
              "<head><meta charset=\"utf-8\" /></head>\n",
              "<body>\n",
              "    <div>            <script src=\"https://cdnjs.cloudflare.com/ajax/libs/mathjax/2.7.5/MathJax.js?config=TeX-AMS-MML_SVG\"></script><script type=\"text/javascript\">if (window.MathJax && window.MathJax.Hub && window.MathJax.Hub.Config) {window.MathJax.Hub.Config({SVG: {font: \"STIX-Web\"}});}</script>                <script type=\"text/javascript\">window.PlotlyConfig = {MathJaxConfig: 'local'};</script>\n",
              "        <script src=\"https://cdn.plot.ly/plotly-2.18.2.min.js\"></script>                <div id=\"56c16e05-f47b-4bde-8cf8-eb54cae47b0b\" class=\"plotly-graph-div\" style=\"height:525px; width:100%;\"></div>            <script type=\"text/javascript\">                                    window.PLOTLYENV=window.PLOTLYENV || {};                                    if (document.getElementById(\"56c16e05-f47b-4bde-8cf8-eb54cae47b0b\")) {                    Plotly.newPlot(                        \"56c16e05-f47b-4bde-8cf8-eb54cae47b0b\",                        [{\"hovertemplate\":\"variable=0<br>index=%{x}<br>value=%{y}<extra></extra>\",\"legendgroup\":\"0\",\"line\":{\"color\":\"#636efa\",\"dash\":\"solid\"},\"marker\":{\"symbol\":\"circle\"},\"mode\":\"lines\",\"name\":\"0\",\"orientation\":\"v\",\"showlegend\":true,\"x\":[0,1,2,3,4,5,6,7,8,9,10,11,12,13,14,15,16,17,18,19,20,21,22,23,24,25,26,27,28,29,30,31,32,33,34,35,36,37,38,39,40,41,42,43,44,45,46,47,48,49,50,51,52,53,54,55,56,57,58,59,60,61,62,63,64,65,66,67,68,69,70,71,72,73,74,75,76,77,78,79,80,81,82,83,84,85,86,87,88,89,90,91,92,93,94,95,96,97,98],\"xaxis\":\"x\",\"y\":[12.119026184082031,13.110322952270508,13.446290969848633,13.477996826171875,13.77874755859375,13.745631217956543,14.462556838989258,12.023577690124512,11.266189575195312,10.678638458251953,11.858650207519531,13.703155517578125,12.266528129577637,12.099376678466797,11.50615406036377,11.892440795898438,12.058549880981445,10.38274097442627,11.5200777053833,12.62547492980957,13.173629760742188,11.72556209564209,11.747194290161133,12.367026329040527,11.50256061553955,11.133992195129395,11.51526927947998,12.004130363464355,11.540274620056152,11.81255054473877,11.756006240844727,11.232096672058105,10.639601707458496,10.352348327636719,12.058509826660156,11.654494285583496,10.940202713012695,11.296618461608887,11.021224021911621,11.849924087524414,12.065901756286621,11.910110473632812,11.885002136230469,10.993143081665039,11.900927543640137,11.034525871276855,11.244539260864258,11.021227836608887,10.197392463684082,10.84493350982666,2.81736159324646,1.2280848026275635,2.4579594135284424,0.4186736047267914,0.2893972396850586,0.4136769771575928,0.4041692912578583,0.3666220009326935,0.1171051412820816,0.1149347648024559,0.09106030315160751,0.20355308055877686,0.1117708832025528,0.1413060873746872,0.13570557534694672,0.1941780149936676,0.025353748351335526,0.14774452149868011,0.17882953584194183,0.1814917027950287,0.16672813892364502,0.05910753086209297,0.03424055129289627,0.2816816568374634,0.2448488473892212,0.09591830521821976,0.11798860132694244,0.02455933205783367,0.0924762710928917,0.046170152723789215,0.033698149025440216,0.06526121497154236,0.036027006804943085,0.049696680158376694,0.05619340017437935,0.02942754700779915,1.261182188987732,0.046020932495594025,0.03927382081747055,0.04301340505480766,0.1950693577528,0.03251754865050316,0.17227768898010254,0.2193850576877594,0.14757944643497467,0.1116366982460022,0.042165905237197876,0.06571856886148453,0.021320519968867302],\"yaxis\":\"y\",\"type\":\"scatter\"}],                        {\"template\":{\"data\":{\"histogram2dcontour\":[{\"type\":\"histogram2dcontour\",\"colorbar\":{\"outlinewidth\":0,\"ticks\":\"\"},\"colorscale\":[[0.0,\"#0d0887\"],[0.1111111111111111,\"#46039f\"],[0.2222222222222222,\"#7201a8\"],[0.3333333333333333,\"#9c179e\"],[0.4444444444444444,\"#bd3786\"],[0.5555555555555556,\"#d8576b\"],[0.6666666666666666,\"#ed7953\"],[0.7777777777777778,\"#fb9f3a\"],[0.8888888888888888,\"#fdca26\"],[1.0,\"#f0f921\"]]}],\"choropleth\":[{\"type\":\"choropleth\",\"colorbar\":{\"outlinewidth\":0,\"ticks\":\"\"}}],\"histogram2d\":[{\"type\":\"histogram2d\",\"colorbar\":{\"outlinewidth\":0,\"ticks\":\"\"},\"colorscale\":[[0.0,\"#0d0887\"],[0.1111111111111111,\"#46039f\"],[0.2222222222222222,\"#7201a8\"],[0.3333333333333333,\"#9c179e\"],[0.4444444444444444,\"#bd3786\"],[0.5555555555555556,\"#d8576b\"],[0.6666666666666666,\"#ed7953\"],[0.7777777777777778,\"#fb9f3a\"],[0.8888888888888888,\"#fdca26\"],[1.0,\"#f0f921\"]]}],\"heatmap\":[{\"type\":\"heatmap\",\"colorbar\":{\"outlinewidth\":0,\"ticks\":\"\"},\"colorscale\":[[0.0,\"#0d0887\"],[0.1111111111111111,\"#46039f\"],[0.2222222222222222,\"#7201a8\"],[0.3333333333333333,\"#9c179e\"],[0.4444444444444444,\"#bd3786\"],[0.5555555555555556,\"#d8576b\"],[0.6666666666666666,\"#ed7953\"],[0.7777777777777778,\"#fb9f3a\"],[0.8888888888888888,\"#fdca26\"],[1.0,\"#f0f921\"]]}],\"heatmapgl\":[{\"type\":\"heatmapgl\",\"colorbar\":{\"outlinewidth\":0,\"ticks\":\"\"},\"colorscale\":[[0.0,\"#0d0887\"],[0.1111111111111111,\"#46039f\"],[0.2222222222222222,\"#7201a8\"],[0.3333333333333333,\"#9c179e\"],[0.4444444444444444,\"#bd3786\"],[0.5555555555555556,\"#d8576b\"],[0.6666666666666666,\"#ed7953\"],[0.7777777777777778,\"#fb9f3a\"],[0.8888888888888888,\"#fdca26\"],[1.0,\"#f0f921\"]]}],\"contourcarpet\":[{\"type\":\"contourcarpet\",\"colorbar\":{\"outlinewidth\":0,\"ticks\":\"\"}}],\"contour\":[{\"type\":\"contour\",\"colorbar\":{\"outlinewidth\":0,\"ticks\":\"\"},\"colorscale\":[[0.0,\"#0d0887\"],[0.1111111111111111,\"#46039f\"],[0.2222222222222222,\"#7201a8\"],[0.3333333333333333,\"#9c179e\"],[0.4444444444444444,\"#bd3786\"],[0.5555555555555556,\"#d8576b\"],[0.6666666666666666,\"#ed7953\"],[0.7777777777777778,\"#fb9f3a\"],[0.8888888888888888,\"#fdca26\"],[1.0,\"#f0f921\"]]}],\"surface\":[{\"type\":\"surface\",\"colorbar\":{\"outlinewidth\":0,\"ticks\":\"\"},\"colorscale\":[[0.0,\"#0d0887\"],[0.1111111111111111,\"#46039f\"],[0.2222222222222222,\"#7201a8\"],[0.3333333333333333,\"#9c179e\"],[0.4444444444444444,\"#bd3786\"],[0.5555555555555556,\"#d8576b\"],[0.6666666666666666,\"#ed7953\"],[0.7777777777777778,\"#fb9f3a\"],[0.8888888888888888,\"#fdca26\"],[1.0,\"#f0f921\"]]}],\"mesh3d\":[{\"type\":\"mesh3d\",\"colorbar\":{\"outlinewidth\":0,\"ticks\":\"\"}}],\"scatter\":[{\"fillpattern\":{\"fillmode\":\"overlay\",\"size\":10,\"solidity\":0.2},\"type\":\"scatter\"}],\"parcoords\":[{\"type\":\"parcoords\",\"line\":{\"colorbar\":{\"outlinewidth\":0,\"ticks\":\"\"}}}],\"scatterpolargl\":[{\"type\":\"scatterpolargl\",\"marker\":{\"colorbar\":{\"outlinewidth\":0,\"ticks\":\"\"}}}],\"bar\":[{\"error_x\":{\"color\":\"#2a3f5f\"},\"error_y\":{\"color\":\"#2a3f5f\"},\"marker\":{\"line\":{\"color\":\"#E5ECF6\",\"width\":0.5},\"pattern\":{\"fillmode\":\"overlay\",\"size\":10,\"solidity\":0.2}},\"type\":\"bar\"}],\"scattergeo\":[{\"type\":\"scattergeo\",\"marker\":{\"colorbar\":{\"outlinewidth\":0,\"ticks\":\"\"}}}],\"scatterpolar\":[{\"type\":\"scatterpolar\",\"marker\":{\"colorbar\":{\"outlinewidth\":0,\"ticks\":\"\"}}}],\"histogram\":[{\"marker\":{\"pattern\":{\"fillmode\":\"overlay\",\"size\":10,\"solidity\":0.2}},\"type\":\"histogram\"}],\"scattergl\":[{\"type\":\"scattergl\",\"marker\":{\"colorbar\":{\"outlinewidth\":0,\"ticks\":\"\"}}}],\"scatter3d\":[{\"type\":\"scatter3d\",\"line\":{\"colorbar\":{\"outlinewidth\":0,\"ticks\":\"\"}},\"marker\":{\"colorbar\":{\"outlinewidth\":0,\"ticks\":\"\"}}}],\"scattermapbox\":[{\"type\":\"scattermapbox\",\"marker\":{\"colorbar\":{\"outlinewidth\":0,\"ticks\":\"\"}}}],\"scatterternary\":[{\"type\":\"scatterternary\",\"marker\":{\"colorbar\":{\"outlinewidth\":0,\"ticks\":\"\"}}}],\"scattercarpet\":[{\"type\":\"scattercarpet\",\"marker\":{\"colorbar\":{\"outlinewidth\":0,\"ticks\":\"\"}}}],\"carpet\":[{\"aaxis\":{\"endlinecolor\":\"#2a3f5f\",\"gridcolor\":\"white\",\"linecolor\":\"white\",\"minorgridcolor\":\"white\",\"startlinecolor\":\"#2a3f5f\"},\"baxis\":{\"endlinecolor\":\"#2a3f5f\",\"gridcolor\":\"white\",\"linecolor\":\"white\",\"minorgridcolor\":\"white\",\"startlinecolor\":\"#2a3f5f\"},\"type\":\"carpet\"}],\"table\":[{\"cells\":{\"fill\":{\"color\":\"#EBF0F8\"},\"line\":{\"color\":\"white\"}},\"header\":{\"fill\":{\"color\":\"#C8D4E3\"},\"line\":{\"color\":\"white\"}},\"type\":\"table\"}],\"barpolar\":[{\"marker\":{\"line\":{\"color\":\"#E5ECF6\",\"width\":0.5},\"pattern\":{\"fillmode\":\"overlay\",\"size\":10,\"solidity\":0.2}},\"type\":\"barpolar\"}],\"pie\":[{\"automargin\":true,\"type\":\"pie\"}]},\"layout\":{\"autotypenumbers\":\"strict\",\"colorway\":[\"#636efa\",\"#EF553B\",\"#00cc96\",\"#ab63fa\",\"#FFA15A\",\"#19d3f3\",\"#FF6692\",\"#B6E880\",\"#FF97FF\",\"#FECB52\"],\"font\":{\"color\":\"#2a3f5f\"},\"hovermode\":\"closest\",\"hoverlabel\":{\"align\":\"left\"},\"paper_bgcolor\":\"white\",\"plot_bgcolor\":\"#E5ECF6\",\"polar\":{\"bgcolor\":\"#E5ECF6\",\"angularaxis\":{\"gridcolor\":\"white\",\"linecolor\":\"white\",\"ticks\":\"\"},\"radialaxis\":{\"gridcolor\":\"white\",\"linecolor\":\"white\",\"ticks\":\"\"}},\"ternary\":{\"bgcolor\":\"#E5ECF6\",\"aaxis\":{\"gridcolor\":\"white\",\"linecolor\":\"white\",\"ticks\":\"\"},\"baxis\":{\"gridcolor\":\"white\",\"linecolor\":\"white\",\"ticks\":\"\"},\"caxis\":{\"gridcolor\":\"white\",\"linecolor\":\"white\",\"ticks\":\"\"}},\"coloraxis\":{\"colorbar\":{\"outlinewidth\":0,\"ticks\":\"\"}},\"colorscale\":{\"sequential\":[[0.0,\"#0d0887\"],[0.1111111111111111,\"#46039f\"],[0.2222222222222222,\"#7201a8\"],[0.3333333333333333,\"#9c179e\"],[0.4444444444444444,\"#bd3786\"],[0.5555555555555556,\"#d8576b\"],[0.6666666666666666,\"#ed7953\"],[0.7777777777777778,\"#fb9f3a\"],[0.8888888888888888,\"#fdca26\"],[1.0,\"#f0f921\"]],\"sequentialminus\":[[0.0,\"#0d0887\"],[0.1111111111111111,\"#46039f\"],[0.2222222222222222,\"#7201a8\"],[0.3333333333333333,\"#9c179e\"],[0.4444444444444444,\"#bd3786\"],[0.5555555555555556,\"#d8576b\"],[0.6666666666666666,\"#ed7953\"],[0.7777777777777778,\"#fb9f3a\"],[0.8888888888888888,\"#fdca26\"],[1.0,\"#f0f921\"]],\"diverging\":[[0,\"#8e0152\"],[0.1,\"#c51b7d\"],[0.2,\"#de77ae\"],[0.3,\"#f1b6da\"],[0.4,\"#fde0ef\"],[0.5,\"#f7f7f7\"],[0.6,\"#e6f5d0\"],[0.7,\"#b8e186\"],[0.8,\"#7fbc41\"],[0.9,\"#4d9221\"],[1,\"#276419\"]]},\"xaxis\":{\"gridcolor\":\"white\",\"linecolor\":\"white\",\"ticks\":\"\",\"title\":{\"standoff\":15},\"zerolinecolor\":\"white\",\"automargin\":true,\"zerolinewidth\":2},\"yaxis\":{\"gridcolor\":\"white\",\"linecolor\":\"white\",\"ticks\":\"\",\"title\":{\"standoff\":15},\"zerolinecolor\":\"white\",\"automargin\":true,\"zerolinewidth\":2},\"scene\":{\"xaxis\":{\"backgroundcolor\":\"#E5ECF6\",\"gridcolor\":\"white\",\"linecolor\":\"white\",\"showbackground\":true,\"ticks\":\"\",\"zerolinecolor\":\"white\",\"gridwidth\":2},\"yaxis\":{\"backgroundcolor\":\"#E5ECF6\",\"gridcolor\":\"white\",\"linecolor\":\"white\",\"showbackground\":true,\"ticks\":\"\",\"zerolinecolor\":\"white\",\"gridwidth\":2},\"zaxis\":{\"backgroundcolor\":\"#E5ECF6\",\"gridcolor\":\"white\",\"linecolor\":\"white\",\"showbackground\":true,\"ticks\":\"\",\"zerolinecolor\":\"white\",\"gridwidth\":2}},\"shapedefaults\":{\"line\":{\"color\":\"#2a3f5f\"}},\"annotationdefaults\":{\"arrowcolor\":\"#2a3f5f\",\"arrowhead\":0,\"arrowwidth\":1},\"geo\":{\"bgcolor\":\"white\",\"landcolor\":\"#E5ECF6\",\"subunitcolor\":\"white\",\"showland\":true,\"showlakes\":true,\"lakecolor\":\"white\"},\"title\":{\"x\":0.05},\"mapbox\":{\"style\":\"light\"}}},\"xaxis\":{\"anchor\":\"y\",\"domain\":[0.0,1.0],\"title\":{\"text\":\"index\"}},\"yaxis\":{\"anchor\":\"x\",\"domain\":[0.0,1.0],\"title\":{\"text\":\"value\"}},\"legend\":{\"title\":{\"text\":\"variable\"},\"tracegroupgap\":0},\"title\":{\"text\":\"Loss by position on random repeated tokens\"}},                        {\"responsive\": true}                    ).then(function(){\n",
              "                            \n",
              "var gd = document.getElementById('56c16e05-f47b-4bde-8cf8-eb54cae47b0b');\n",
              "var x = new MutationObserver(function (mutations, observer) {{\n",
              "        var display = window.getComputedStyle(gd).display;\n",
              "        if (!display || display === 'none') {{\n",
              "            console.log([gd, 'removed!']);\n",
              "            Plotly.purge(gd);\n",
              "            observer.disconnect();\n",
              "        }}\n",
              "}});\n",
              "\n",
              "// Listen for the removal of the full notebook cells\n",
              "var notebookContainer = gd.closest('#notebook-container');\n",
              "if (notebookContainer) {{\n",
              "    x.observe(notebookContainer, {childList: true});\n",
              "}}\n",
              "\n",
              "// Listen for the clearing of the current output cell\n",
              "var outputEl = gd.closest('.output');\n",
              "if (outputEl) {{\n",
              "    x.observe(outputEl, {childList: true});\n",
              "}}\n",
              "\n",
              "                        })                };                            </script>        </div>\n",
              "</body>\n",
              "</html>"
            ]
          },
          "metadata": {}
        }
      ],
      "source": [
        "batch_size = 10\n",
        "seq_len = 50\n",
        "random_tokens = torch.randint(1000, 10000, (batch_size, seq_len)).to(model.cfg.device)\n",
        "repeated_tokens = einops.repeat(random_tokens, \"batch seq_len -> batch (2 seq_len)\")\n",
        "repeated_logits = model(repeated_tokens)\n",
        "correct_log_probs = model.loss_fn(repeated_logits, repeated_tokens, per_token=True)\n",
        "loss_by_position = einops.reduce(correct_log_probs, \"batch position -> position\", \"mean\")\n",
        "line(loss_by_position, xaxis=\"Position\", yaxis=\"Loss\", title=\"Loss by position on random repeated tokens\")"
      ]
    },
    {
      "cell_type": "code",
      "source": [
        "model.to_string(random_tokens[0])"
      ],
      "metadata": {
        "id": "Q7Y0Ijskmyce",
        "outputId": "23d88ca2-7a69-4c42-da72-ea9724b4fb1c",
        "colab": {
          "base_uri": "https://localhost:8080/",
          "height": 53
        }
      },
      "execution_count": 121,
      "outputs": [
        {
          "output_type": "execute_result",
          "data": {
            "text/plain": [
              "' experience31 resist parking changing advice assum unit smile status sold eypir politicsomb digital Yearatter Asiaausresp Catholic gains occurs Never Societyrolled contracts Wall database wingMC Nicksea images cultural sought sought restaur96 object absOWSt drop schenn64ras concern'"
            ],
            "application/vnd.google.colaboratory.intrinsic+json": {
              "type": "string"
            }
          },
          "metadata": {},
          "execution_count": 121
        }
      ]
    },
    {
      "cell_type": "code",
      "source": [
        "model.to_string(repeated_tokens[0])"
      ],
      "metadata": {
        "id": "HCuWA-b7mh96",
        "outputId": "0d473dda-ae75-4154-97d9-88eca22d9d77",
        "colab": {
          "base_uri": "https://localhost:8080/",
          "height": 88
        }
      },
      "execution_count": 122,
      "outputs": [
        {
          "output_type": "execute_result",
          "data": {
            "text/plain": [
              "' experience31 resist parking changing advice assum unit smile status sold eypir politicsomb digital Yearatter Asiaausresp Catholic gains occurs Never Societyrolled contracts Wall database wingMC Nicksea images cultural sought sought restaur96 object absOWSt drop schenn64ras concern experience31 resist parking changing advice assum unit smile status sold eypir politicsomb digital Yearatter Asiaausresp Catholic gains occurs Never Societyrolled contracts Wall database wingMC Nicksea images cultural sought sought restaur96 object absOWSt drop schenn64ras concern'"
            ],
            "application/vnd.google.colaboratory.intrinsic+json": {
              "type": "string"
            }
          },
          "metadata": {},
          "execution_count": 122
        }
      ]
    },
    {
      "cell_type": "markdown",
      "metadata": {
        "id": "pRddrMdZyWR8"
      },
      "source": [
        "The induction heads will be attending from the second occurence of each token to the token *after* its first occurence, ie the token `50-1==49` places back. So by looking at the average attention paid 49 tokens back, we can identify induction heads! Let's define a hook to do this!\n",
        "\n",
        "<details><summary>Technical details</summary>\n",
        "\n",
        "* We attach the hook to the attention pattern activation. There's one big pattern activation per layer, stacked across all heads, so we need to do some tensor manipulation to get a per-head score. \n",
        "* Hook functions can access global state, so we make a big tensor to store the induction head score for each head, and then we just add the score for each head to the appropriate position in the tensor. \n",
        "* To get a single hook function that works for each layer, we use the `hook.layer()` method to get the layer index (internally this is just inferred from the hook names).\n",
        "* As we want to add this to *every* activation pattern hook point, rather than giving the string for an activation name, this time we give a **name filter**. This is a Boolean function on hook point names, and it adds the hook function to every hook point where the function evaluates as true. \n",
        "    * `run_with_hooks` allows us to enter a list of (act_name, hook_function) pairs to all be added at once, so we could also have done this by inputting a list with a hook for each layer.\n",
        "</details>"
      ]
    },
    {
      "cell_type": "code",
      "execution_count": null,
      "metadata": {
        "id": "_ZJCJQqayWR9",
        "outputId": "3af57f0c-ea14-4e92-8fef-0b608447d820"
      },
      "outputs": [
        {
          "data": {
            "text/html": [
              "<html>\n",
              "<head><meta charset=\"utf-8\" /></head>\n",
              "<body>\n",
              "    <div>            <script src=\"https://cdnjs.cloudflare.com/ajax/libs/mathjax/2.7.5/MathJax.js?config=TeX-AMS-MML_SVG\"></script><script type=\"text/javascript\">if (window.MathJax && window.MathJax.Hub && window.MathJax.Hub.Config) {window.MathJax.Hub.Config({SVG: {font: \"STIX-Web\"}});}</script>                <script type=\"text/javascript\">window.PlotlyConfig = {MathJaxConfig: 'local'};</script>\n",
              "        <script src=\"https://cdn.plot.ly/plotly-2.16.1.min.js\"></script>                <div id=\"0351729d-f7bd-4dff-8e0c-0159e788d6eb\" class=\"plotly-graph-div\" style=\"height:525px; width:100%;\"></div>            <script type=\"text/javascript\">                                    window.PLOTLYENV=window.PLOTLYENV || {};                                    if (document.getElementById(\"0351729d-f7bd-4dff-8e0c-0159e788d6eb\")) {                    Plotly.newPlot(                        \"0351729d-f7bd-4dff-8e0c-0159e788d6eb\",                        [{\"coloraxis\":\"coloraxis\",\"name\":\"0\",\"z\":[[0.009845897,0.00010739225,0.011965116,4.6391685e-7,0.00014374543,0.00015772857,0.009431697,0.0006924941,0.009592268,0.009263116,0.0069689606,0.01549733],[0.0008515702,0.00048757362,0.0021412952,0.014229859,0.005252996,0.010415156,0.014287308,0.012997905,0.013325559,0.015964549,0.0065351464,0.0007580837],[0.0045925723,0.018754967,0.0014369077,0.0010834769,0.0124404775,0.0018350423,0.0038135808,0.008261216,0.0034162104,0.0011589546,0.0007041311,0.010241941],[0.013932138,0.0075448267,0.0019522777,0.012203236,0.020048337,0.013246494,0.0015716385,0.0012640061,0.0072363764,0.013074266,0.008706542,0.0063366224],[0.015908567,0.014795145,0.015564123,0.008969006,0.018907672,0.013286521,0.008849657,0.0027541209,0.016721234,0.014685283,0.019363815,9.1746575e-9],[0.4593435,0.8983368,0.01365899,0.008506964,0.013812789,0.9293541,0.010772355,0.01860222,0.02852977,0.02761247,0.019766554,0.018179297],[0.009917188,0.016676152,0.01938403,0.014313027,0.024668086,0.012200025,0.030651039,0.011979866,0.009040098,0.9180728,0.03656692,0.012458795],[0.010785109,0.18082112,0.8458825,0.018389104,0.018577883,0.018624742,0.045821607,0.08584459,0.017446913,0.018828915,0.9134291,0.06278003],[0.016593171,0.4020053,0.017234534,0.043239776,0.0182269,0.014823633,0.14991932,0.013735405,0.030690031,0.031032033,0.06742787,0.024035063],[0.24678737,0.19003847,0.10590435,0.012400944,0.08340072,0.027829738,0.4409235,0.029761324,0.052328732,0.4667893,0.017830176,0.046301715],[0.3380286,0.50450027,0.040610585,0.14459799,0.06904957,0.016426167,0.30265534,0.4785508,0.052030724,0.01622346,0.15604296,0.25885916],[0.020020794,0.05508979,0.035944037,0.012775158,0.03888895,0.103544876,0.054535046,0.06993241,0.008403102,0.3095162,0.40937522,0.023624888]],\"type\":\"heatmap\",\"xaxis\":\"x\",\"yaxis\":\"y\",\"hovertemplate\":\"Head: %{x}<br>Layer: %{y}<br>color: %{z}<extra></extra>\"}],                        {\"template\":{\"data\":{\"histogram2dcontour\":[{\"type\":\"histogram2dcontour\",\"colorbar\":{\"outlinewidth\":0,\"ticks\":\"\"},\"colorscale\":[[0.0,\"#0d0887\"],[0.1111111111111111,\"#46039f\"],[0.2222222222222222,\"#7201a8\"],[0.3333333333333333,\"#9c179e\"],[0.4444444444444444,\"#bd3786\"],[0.5555555555555556,\"#d8576b\"],[0.6666666666666666,\"#ed7953\"],[0.7777777777777778,\"#fb9f3a\"],[0.8888888888888888,\"#fdca26\"],[1.0,\"#f0f921\"]]}],\"choropleth\":[{\"type\":\"choropleth\",\"colorbar\":{\"outlinewidth\":0,\"ticks\":\"\"}}],\"histogram2d\":[{\"type\":\"histogram2d\",\"colorbar\":{\"outlinewidth\":0,\"ticks\":\"\"},\"colorscale\":[[0.0,\"#0d0887\"],[0.1111111111111111,\"#46039f\"],[0.2222222222222222,\"#7201a8\"],[0.3333333333333333,\"#9c179e\"],[0.4444444444444444,\"#bd3786\"],[0.5555555555555556,\"#d8576b\"],[0.6666666666666666,\"#ed7953\"],[0.7777777777777778,\"#fb9f3a\"],[0.8888888888888888,\"#fdca26\"],[1.0,\"#f0f921\"]]}],\"heatmap\":[{\"type\":\"heatmap\",\"colorbar\":{\"outlinewidth\":0,\"ticks\":\"\"},\"colorscale\":[[0.0,\"#0d0887\"],[0.1111111111111111,\"#46039f\"],[0.2222222222222222,\"#7201a8\"],[0.3333333333333333,\"#9c179e\"],[0.4444444444444444,\"#bd3786\"],[0.5555555555555556,\"#d8576b\"],[0.6666666666666666,\"#ed7953\"],[0.7777777777777778,\"#fb9f3a\"],[0.8888888888888888,\"#fdca26\"],[1.0,\"#f0f921\"]]}],\"heatmapgl\":[{\"type\":\"heatmapgl\",\"colorbar\":{\"outlinewidth\":0,\"ticks\":\"\"},\"colorscale\":[[0.0,\"#0d0887\"],[0.1111111111111111,\"#46039f\"],[0.2222222222222222,\"#7201a8\"],[0.3333333333333333,\"#9c179e\"],[0.4444444444444444,\"#bd3786\"],[0.5555555555555556,\"#d8576b\"],[0.6666666666666666,\"#ed7953\"],[0.7777777777777778,\"#fb9f3a\"],[0.8888888888888888,\"#fdca26\"],[1.0,\"#f0f921\"]]}],\"contourcarpet\":[{\"type\":\"contourcarpet\",\"colorbar\":{\"outlinewidth\":0,\"ticks\":\"\"}}],\"contour\":[{\"type\":\"contour\",\"colorbar\":{\"outlinewidth\":0,\"ticks\":\"\"},\"colorscale\":[[0.0,\"#0d0887\"],[0.1111111111111111,\"#46039f\"],[0.2222222222222222,\"#7201a8\"],[0.3333333333333333,\"#9c179e\"],[0.4444444444444444,\"#bd3786\"],[0.5555555555555556,\"#d8576b\"],[0.6666666666666666,\"#ed7953\"],[0.7777777777777778,\"#fb9f3a\"],[0.8888888888888888,\"#fdca26\"],[1.0,\"#f0f921\"]]}],\"surface\":[{\"type\":\"surface\",\"colorbar\":{\"outlinewidth\":0,\"ticks\":\"\"},\"colorscale\":[[0.0,\"#0d0887\"],[0.1111111111111111,\"#46039f\"],[0.2222222222222222,\"#7201a8\"],[0.3333333333333333,\"#9c179e\"],[0.4444444444444444,\"#bd3786\"],[0.5555555555555556,\"#d8576b\"],[0.6666666666666666,\"#ed7953\"],[0.7777777777777778,\"#fb9f3a\"],[0.8888888888888888,\"#fdca26\"],[1.0,\"#f0f921\"]]}],\"mesh3d\":[{\"type\":\"mesh3d\",\"colorbar\":{\"outlinewidth\":0,\"ticks\":\"\"}}],\"scatter\":[{\"fillpattern\":{\"fillmode\":\"overlay\",\"size\":10,\"solidity\":0.2},\"type\":\"scatter\"}],\"parcoords\":[{\"type\":\"parcoords\",\"line\":{\"colorbar\":{\"outlinewidth\":0,\"ticks\":\"\"}}}],\"scatterpolargl\":[{\"type\":\"scatterpolargl\",\"marker\":{\"colorbar\":{\"outlinewidth\":0,\"ticks\":\"\"}}}],\"bar\":[{\"error_x\":{\"color\":\"#2a3f5f\"},\"error_y\":{\"color\":\"#2a3f5f\"},\"marker\":{\"line\":{\"color\":\"#E5ECF6\",\"width\":0.5},\"pattern\":{\"fillmode\":\"overlay\",\"size\":10,\"solidity\":0.2}},\"type\":\"bar\"}],\"scattergeo\":[{\"type\":\"scattergeo\",\"marker\":{\"colorbar\":{\"outlinewidth\":0,\"ticks\":\"\"}}}],\"scatterpolar\":[{\"type\":\"scatterpolar\",\"marker\":{\"colorbar\":{\"outlinewidth\":0,\"ticks\":\"\"}}}],\"histogram\":[{\"marker\":{\"pattern\":{\"fillmode\":\"overlay\",\"size\":10,\"solidity\":0.2}},\"type\":\"histogram\"}],\"scattergl\":[{\"type\":\"scattergl\",\"marker\":{\"colorbar\":{\"outlinewidth\":0,\"ticks\":\"\"}}}],\"scatter3d\":[{\"type\":\"scatter3d\",\"line\":{\"colorbar\":{\"outlinewidth\":0,\"ticks\":\"\"}},\"marker\":{\"colorbar\":{\"outlinewidth\":0,\"ticks\":\"\"}}}],\"scattermapbox\":[{\"type\":\"scattermapbox\",\"marker\":{\"colorbar\":{\"outlinewidth\":0,\"ticks\":\"\"}}}],\"scatterternary\":[{\"type\":\"scatterternary\",\"marker\":{\"colorbar\":{\"outlinewidth\":0,\"ticks\":\"\"}}}],\"scattercarpet\":[{\"type\":\"scattercarpet\",\"marker\":{\"colorbar\":{\"outlinewidth\":0,\"ticks\":\"\"}}}],\"carpet\":[{\"aaxis\":{\"endlinecolor\":\"#2a3f5f\",\"gridcolor\":\"white\",\"linecolor\":\"white\",\"minorgridcolor\":\"white\",\"startlinecolor\":\"#2a3f5f\"},\"baxis\":{\"endlinecolor\":\"#2a3f5f\",\"gridcolor\":\"white\",\"linecolor\":\"white\",\"minorgridcolor\":\"white\",\"startlinecolor\":\"#2a3f5f\"},\"type\":\"carpet\"}],\"table\":[{\"cells\":{\"fill\":{\"color\":\"#EBF0F8\"},\"line\":{\"color\":\"white\"}},\"header\":{\"fill\":{\"color\":\"#C8D4E3\"},\"line\":{\"color\":\"white\"}},\"type\":\"table\"}],\"barpolar\":[{\"marker\":{\"line\":{\"color\":\"#E5ECF6\",\"width\":0.5},\"pattern\":{\"fillmode\":\"overlay\",\"size\":10,\"solidity\":0.2}},\"type\":\"barpolar\"}],\"pie\":[{\"automargin\":true,\"type\":\"pie\"}]},\"layout\":{\"autotypenumbers\":\"strict\",\"colorway\":[\"#636efa\",\"#EF553B\",\"#00cc96\",\"#ab63fa\",\"#FFA15A\",\"#19d3f3\",\"#FF6692\",\"#B6E880\",\"#FF97FF\",\"#FECB52\"],\"font\":{\"color\":\"#2a3f5f\"},\"hovermode\":\"closest\",\"hoverlabel\":{\"align\":\"left\"},\"paper_bgcolor\":\"white\",\"plot_bgcolor\":\"#E5ECF6\",\"polar\":{\"bgcolor\":\"#E5ECF6\",\"angularaxis\":{\"gridcolor\":\"white\",\"linecolor\":\"white\",\"ticks\":\"\"},\"radialaxis\":{\"gridcolor\":\"white\",\"linecolor\":\"white\",\"ticks\":\"\"}},\"ternary\":{\"bgcolor\":\"#E5ECF6\",\"aaxis\":{\"gridcolor\":\"white\",\"linecolor\":\"white\",\"ticks\":\"\"},\"baxis\":{\"gridcolor\":\"white\",\"linecolor\":\"white\",\"ticks\":\"\"},\"caxis\":{\"gridcolor\":\"white\",\"linecolor\":\"white\",\"ticks\":\"\"}},\"coloraxis\":{\"colorbar\":{\"outlinewidth\":0,\"ticks\":\"\"}},\"colorscale\":{\"sequential\":[[0.0,\"#0d0887\"],[0.1111111111111111,\"#46039f\"],[0.2222222222222222,\"#7201a8\"],[0.3333333333333333,\"#9c179e\"],[0.4444444444444444,\"#bd3786\"],[0.5555555555555556,\"#d8576b\"],[0.6666666666666666,\"#ed7953\"],[0.7777777777777778,\"#fb9f3a\"],[0.8888888888888888,\"#fdca26\"],[1.0,\"#f0f921\"]],\"sequentialminus\":[[0.0,\"#0d0887\"],[0.1111111111111111,\"#46039f\"],[0.2222222222222222,\"#7201a8\"],[0.3333333333333333,\"#9c179e\"],[0.4444444444444444,\"#bd3786\"],[0.5555555555555556,\"#d8576b\"],[0.6666666666666666,\"#ed7953\"],[0.7777777777777778,\"#fb9f3a\"],[0.8888888888888888,\"#fdca26\"],[1.0,\"#f0f921\"]],\"diverging\":[[0,\"#8e0152\"],[0.1,\"#c51b7d\"],[0.2,\"#de77ae\"],[0.3,\"#f1b6da\"],[0.4,\"#fde0ef\"],[0.5,\"#f7f7f7\"],[0.6,\"#e6f5d0\"],[0.7,\"#b8e186\"],[0.8,\"#7fbc41\"],[0.9,\"#4d9221\"],[1,\"#276419\"]]},\"xaxis\":{\"gridcolor\":\"white\",\"linecolor\":\"white\",\"ticks\":\"\",\"title\":{\"standoff\":15},\"zerolinecolor\":\"white\",\"automargin\":true,\"zerolinewidth\":2},\"yaxis\":{\"gridcolor\":\"white\",\"linecolor\":\"white\",\"ticks\":\"\",\"title\":{\"standoff\":15},\"zerolinecolor\":\"white\",\"automargin\":true,\"zerolinewidth\":2},\"scene\":{\"xaxis\":{\"backgroundcolor\":\"#E5ECF6\",\"gridcolor\":\"white\",\"linecolor\":\"white\",\"showbackground\":true,\"ticks\":\"\",\"zerolinecolor\":\"white\",\"gridwidth\":2},\"yaxis\":{\"backgroundcolor\":\"#E5ECF6\",\"gridcolor\":\"white\",\"linecolor\":\"white\",\"showbackground\":true,\"ticks\":\"\",\"zerolinecolor\":\"white\",\"gridwidth\":2},\"zaxis\":{\"backgroundcolor\":\"#E5ECF6\",\"gridcolor\":\"white\",\"linecolor\":\"white\",\"showbackground\":true,\"ticks\":\"\",\"zerolinecolor\":\"white\",\"gridwidth\":2}},\"shapedefaults\":{\"line\":{\"color\":\"#2a3f5f\"}},\"annotationdefaults\":{\"arrowcolor\":\"#2a3f5f\",\"arrowhead\":0,\"arrowwidth\":1},\"geo\":{\"bgcolor\":\"white\",\"landcolor\":\"#E5ECF6\",\"subunitcolor\":\"white\",\"showland\":true,\"showlakes\":true,\"lakecolor\":\"white\"},\"title\":{\"x\":0.05},\"mapbox\":{\"style\":\"light\"}}},\"xaxis\":{\"anchor\":\"y\",\"domain\":[0.0,1.0],\"scaleanchor\":\"y\",\"constrain\":\"domain\",\"title\":{\"text\":\"Head\"}},\"yaxis\":{\"anchor\":\"x\",\"domain\":[0.0,1.0],\"autorange\":\"reversed\",\"constrain\":\"domain\",\"title\":{\"text\":\"Layer\"}},\"coloraxis\":{\"colorscale\":[[0.0,\"rgb(103,0,31)\"],[0.1,\"rgb(178,24,43)\"],[0.2,\"rgb(214,96,77)\"],[0.3,\"rgb(244,165,130)\"],[0.4,\"rgb(253,219,199)\"],[0.5,\"rgb(247,247,247)\"],[0.6,\"rgb(209,229,240)\"],[0.7,\"rgb(146,197,222)\"],[0.8,\"rgb(67,147,195)\"],[0.9,\"rgb(33,102,172)\"],[1.0,\"rgb(5,48,97)\"]],\"cmid\":0.0},\"title\":{\"text\":\"Induction Score by Head\"}},                        {\"responsive\": true}                    ).then(function(){\n",
              "                            \n",
              "var gd = document.getElementById('0351729d-f7bd-4dff-8e0c-0159e788d6eb');\n",
              "var x = new MutationObserver(function (mutations, observer) {{\n",
              "        var display = window.getComputedStyle(gd).display;\n",
              "        if (!display || display === 'none') {{\n",
              "            console.log([gd, 'removed!']);\n",
              "            Plotly.purge(gd);\n",
              "            observer.disconnect();\n",
              "        }}\n",
              "}});\n",
              "\n",
              "// Listen for the removal of the full notebook cells\n",
              "var notebookContainer = gd.closest('#notebook-container');\n",
              "if (notebookContainer) {{\n",
              "    x.observe(notebookContainer, {childList: true});\n",
              "}}\n",
              "\n",
              "// Listen for the clearing of the current output cell\n",
              "var outputEl = gd.closest('.output');\n",
              "if (outputEl) {{\n",
              "    x.observe(outputEl, {childList: true});\n",
              "}}\n",
              "\n",
              "                        })                };                            </script>        </div>\n",
              "</body>\n",
              "</html>"
            ]
          },
          "metadata": {},
          "output_type": "display_data"
        }
      ],
      "source": [
        "# We make a tensor to store the induction score for each head. We put it on the model's device to avoid needing to move things between the GPU and CPU, which can be slow.\n",
        "induction_score_store = torch.zeros((model.cfg.n_layers, model.cfg.n_heads), device=model.cfg.device)\n",
        "def induction_score_hook(\n",
        "    pattern: Float[torch.Tensor, \"batch head_index dest_pos source_pos\"],\n",
        "    hook: HookPoint,\n",
        "):\n",
        "    # We take the diagonal of attention paid from each destination position to source positions seq_len-1 tokens back\n",
        "    # (This only has entries for tokens with index>=seq_len)\n",
        "    induction_stripe = pattern.diagonal(dim1=-2, dim2=-1, offset=1-seq_len)\n",
        "    # Get an average score per head\n",
        "    induction_score = einops.reduce(induction_stripe, \"batch head_index position -> head_index\", \"mean\")\n",
        "    # Store the result.\n",
        "    induction_score_store[hook.layer(), :] = induction_score\n",
        "\n",
        "# We make a boolean filter on activation names, that's true only on attention pattern names.\n",
        "pattern_hook_names_filter = lambda name: name.endswith(\"pattern\")\n",
        "\n",
        "model.run_with_hooks(\n",
        "    repeated_tokens, \n",
        "    return_type=None, # For efficiency, we don't need to calculate the logits\n",
        "    fwd_hooks=[(\n",
        "        pattern_hook_names_filter,\n",
        "        induction_score_hook\n",
        "    )]\n",
        ")\n",
        "\n",
        "imshow(induction_score_store, xaxis=\"Head\", yaxis=\"Layer\", title=\"Induction Score by Head\")"
      ]
    },
    {
      "cell_type": "markdown",
      "metadata": {
        "id": "8U8FtED1yWR9"
      },
      "source": [
        "Head 5 in Layer 5 scores extremely highly on this score, and we can feed in a shorter repeated random sequence, visualize the attention pattern for it and see this directly - including the \"induction stripe\" at `seq_len-1` tokens back.\n",
        "\n",
        "This time we put in a hook on the attention pattern activation to visualize the pattern of the relevant head."
      ]
    },
    {
      "cell_type": "code",
      "execution_count": null,
      "metadata": {
        "id": "SfV7YEnTyWR9",
        "outputId": "de6c753d-ecd9-43b1-ef95-8ab6fefaf35a"
      },
      "outputs": [
        {
          "name": "stdout",
          "output_type": "stream",
          "text": [
            "huggingface/tokenizers: The current process just got forked, after parallelism has already been used. Disabling parallelism to avoid deadlocks...\n",
            "To disable this warning, you can either:\n",
            "\t- Avoid using `tokenizers` before the fork if possible\n",
            "\t- Explicitly set the environment variable TOKENIZERS_PARALLELISM=(true | false)\n"
          ]
        },
        {
          "data": {
            "text/html": [
              "<div id=\"circuits-vis-a5255d3f-e6b3\" style=\"margin: 15px 0;\"/>\n",
              "    <script crossorigin type=\"module\">\n",
              "    import { render, AttentionPatterns } from \"https://unpkg.com/circuitsvis/dist/cdn/esm.js\";\n",
              "    render(\n",
              "      \"circuits-vis-a5255d3f-e6b3\",\n",
              "      AttentionPatterns,\n",
              "      {\"tokens\": [\"ton\", \"ocial\", \" refuge\", \" withdraw\", \"ements\", \" targ\", \"och\", \" facts\", \" north\", \" remove\", \"imal\", \"chie\", \"FA\", \" really\", \"ides\", \" portion\", \" Food\", \" Sunday\", \" Find\", \"Mod\", \"ton\", \"ocial\", \" refuge\", \" withdraw\", \"ements\", \" targ\", \"och\", \" facts\", \" north\", \" remove\", \"imal\", \"chie\", \"FA\", \" really\", \"ides\", \" portion\", \" Food\", \" Sunday\", \" Find\", \"Mod\"], \"attention\": [[[1.0, 0.0, 0.0, 0.0, 0.0, 0.0, 0.0, 0.0, 0.0, 0.0, 0.0, 0.0, 0.0, 0.0, 0.0, 0.0, 0.0, 0.0, 0.0, 0.0, 0.0, 0.0, 0.0, 0.0, 0.0, 0.0, 0.0, 0.0, 0.0, 0.0, 0.0, 0.0, 0.0, 0.0, 0.0, 0.0, 0.0, 0.0, 0.0, 0.0], [0.9986459612846375, 0.001354068866930902, 0.0, 0.0, 0.0, 0.0, 0.0, 0.0, 0.0, 0.0, 0.0, 0.0, 0.0, 0.0, 0.0, 0.0, 0.0, 0.0, 0.0, 0.0, 0.0, 0.0, 0.0, 0.0, 0.0, 0.0, 0.0, 0.0, 0.0, 0.0, 0.0, 0.0, 0.0, 0.0, 0.0, 0.0, 0.0, 0.0, 0.0, 0.0], [0.9791963696479797, 0.0027504137251526117, 0.01805318519473076, 0.0, 0.0, 0.0, 0.0, 0.0, 0.0, 0.0, 0.0, 0.0, 0.0, 0.0, 0.0, 0.0, 0.0, 0.0, 0.0, 0.0, 0.0, 0.0, 0.0, 0.0, 0.0, 0.0, 0.0, 0.0, 0.0, 0.0, 0.0, 0.0, 0.0, 0.0, 0.0, 0.0, 0.0, 0.0, 0.0, 0.0], [0.9839655160903931, 0.0011581266298890114, 0.00030211766716092825, 0.014574228785932064, 0.0, 0.0, 0.0, 0.0, 0.0, 0.0, 0.0, 0.0, 0.0, 0.0, 0.0, 0.0, 0.0, 0.0, 0.0, 0.0, 0.0, 0.0, 0.0, 0.0, 0.0, 0.0, 0.0, 0.0, 0.0, 0.0, 0.0, 0.0, 0.0, 0.0, 0.0, 0.0, 0.0, 0.0, 0.0, 0.0], [0.865825891494751, 0.0016782822785899043, 0.0027014915831387043, 0.06255403906106949, 0.06724020093679428, 0.0, 0.0, 0.0, 0.0, 0.0, 0.0, 0.0, 0.0, 0.0, 0.0, 0.0, 0.0, 0.0, 0.0, 0.0, 0.0, 0.0, 0.0, 0.0, 0.0, 0.0, 0.0, 0.0, 0.0, 0.0, 0.0, 0.0, 0.0, 0.0, 0.0, 0.0, 0.0, 0.0, 0.0, 0.0], [0.981313943862915, 0.013257298618555069, 0.0001863037614384666, 0.0003879783907905221, 0.0005274165305308998, 0.004326983354985714, 0.0, 0.0, 0.0, 0.0, 0.0, 0.0, 0.0, 0.0, 0.0, 0.0, 0.0, 0.0, 0.0, 0.0, 0.0, 0.0, 0.0, 0.0, 0.0, 0.0, 0.0, 0.0, 0.0, 0.0, 0.0, 0.0, 0.0, 0.0, 0.0, 0.0, 0.0, 0.0, 0.0, 0.0], [0.9687691330909729, 0.030385751277208328, 0.0006980174803175032, 2.1331667085178196e-05, 3.902004266365111e-07, 7.1515234594699e-05, 5.389436410041526e-05, 0.0, 0.0, 0.0, 0.0, 0.0, 0.0, 0.0, 0.0, 0.0, 0.0, 0.0, 0.0, 0.0, 0.0, 0.0, 0.0, 0.0, 0.0, 0.0, 0.0, 0.0, 0.0, 0.0, 0.0, 0.0, 0.0, 0.0, 0.0, 0.0, 0.0, 0.0, 0.0, 0.0], [0.9682871699333191, 0.00553895952180028, 0.0015728464350104332, 0.00030028264154680073, 4.533101309789345e-05, 0.019650448113679886, 6.614579888264416e-06, 0.004598324187099934, 0.0, 0.0, 0.0, 0.0, 0.0, 0.0, 0.0, 0.0, 0.0, 0.0, 0.0, 0.0, 0.0, 0.0, 0.0, 0.0, 0.0, 0.0, 0.0, 0.0, 0.0, 0.0, 0.0, 0.0, 0.0, 0.0, 0.0, 0.0, 0.0, 0.0, 0.0, 0.0], [0.9519678354263306, 0.023823503404855728, 0.005210565868765116, 0.0010080001084133983, 3.7316942325560376e-05, 0.0015214686281979084, 1.3712184227188118e-05, 0.014200241304934025, 0.0022173412144184113, 0.0, 0.0, 0.0, 0.0, 0.0, 0.0, 0.0, 0.0, 0.0, 0.0, 0.0, 0.0, 0.0, 0.0, 0.0, 0.0, 0.0, 0.0, 0.0, 0.0, 0.0, 0.0, 0.0, 0.0, 0.0, 0.0, 0.0, 0.0, 0.0, 0.0, 0.0], [0.5559114217758179, 0.014920509420335293, 0.0006457266281358898, 0.010296344757080078, 0.32643112540245056, 0.08670838177204132, 6.838060653535649e-05, 0.002313935197889805, 0.000804490118753165, 0.0018996561411768198, 0.0, 0.0, 0.0, 0.0, 0.0, 0.0, 0.0, 0.0, 0.0, 0.0, 0.0, 0.0, 0.0, 0.0, 0.0, 0.0, 0.0, 0.0, 0.0, 0.0, 0.0, 0.0, 0.0, 0.0, 0.0, 0.0, 0.0, 0.0, 0.0, 0.0], [0.9492844343185425, 0.009108914993703365, 0.0071120490320026875, 0.00016928018885664642, 0.00023005028197076172, 0.009664060547947884, 1.8654877749213483e-06, 0.0026913811452686787, 0.020050788298249245, 0.0005007204599678516, 0.0011864985572174191, 0.0, 0.0, 0.0, 0.0, 0.0, 0.0, 0.0, 0.0, 0.0, 0.0, 0.0, 0.0, 0.0, 0.0, 0.0, 0.0, 0.0, 0.0, 0.0, 0.0, 0.0, 0.0, 0.0, 0.0, 0.0, 0.0, 0.0, 0.0, 0.0], [0.9553389549255371, 0.01597673073410988, 0.0052468557842075825, 0.0005630860687233508, 0.00011545729648787528, 0.009901056997478008, 4.079827704117633e-06, 0.008595431223511696, 0.0038348764646798372, 1.320555111306021e-05, 0.0002211801620433107, 0.00018908982747234404, 0.0, 0.0, 0.0, 0.0, 0.0, 0.0, 0.0, 0.0, 0.0, 0.0, 0.0, 0.0, 0.0, 0.0, 0.0, 0.0, 0.0, 0.0, 0.0, 0.0, 0.0, 0.0, 0.0, 0.0, 0.0, 0.0, 0.0, 0.0], [0.9811443090438843, 0.007252056617289782, 0.001128166331909597, 0.002108318265527487, 0.0008389346767216921, 0.0036552012898027897, 5.179825848244946e-07, 7.998508226592094e-05, 0.0004489626153372228, 0.00010025977826444432, 0.0003172903961967677, 9.409529593540356e-05, 0.0028319444973021746, 0.0, 0.0, 0.0, 0.0, 0.0, 0.0, 0.0, 0.0, 0.0, 0.0, 0.0, 0.0, 0.0, 0.0, 0.0, 0.0, 0.0, 0.0, 0.0, 0.0, 0.0, 0.0, 0.0, 0.0, 0.0, 0.0, 0.0], [0.8196091651916504, 0.0039828806184232235, 0.003107665106654167, 0.0001517209893791005, 7.297836418729275e-05, 0.0015310291200876236, 7.035962880763691e-06, 0.0032328120432794094, 0.13719333708286285, 0.003222869010642171, 0.0004851500561926514, 0.0042908526957035065, 0.010982093401253223, 0.012130510061979294, 0.0, 0.0, 0.0, 0.0, 0.0, 0.0, 0.0, 0.0, 0.0, 0.0, 0.0, 0.0, 0.0, 0.0, 0.0, 0.0, 0.0, 0.0, 0.0, 0.0, 0.0, 0.0, 0.0, 0.0, 0.0, 0.0], [0.9555989503860474, 0.0027767587453126907, 0.0029426000546664, 0.0007544982945546508, 9.301469253841788e-05, 0.008591737598180771, 5.495010191225447e-05, 0.0007901805802248418, 0.005175606347620487, 0.0020959326066076756, 0.0013331671943888068, 0.0007804121123626828, 0.008821896277368069, 0.009363147430121899, 0.0008271920378319919, 0.0, 0.0, 0.0, 0.0, 0.0, 0.0, 0.0, 0.0, 0.0, 0.0, 0.0, 0.0, 0.0, 0.0, 0.0, 0.0, 0.0, 0.0, 0.0, 0.0, 0.0, 0.0, 0.0, 0.0, 0.0], [0.940069317817688, 0.0019386635394766927, 0.006395967677235603, 0.0013195635983720422, 0.010961093939840794, 0.024636205285787582, 3.1424383450939786e-07, 0.0013937733601778746, 0.002137477044016123, 0.00041557246004231274, 0.0038991535548120737, 0.003862485522404313, 0.00036294953315518796, 0.0010215878719463944, 6.24161766609177e-05, 0.0015233864542096853, 0.0, 0.0, 0.0, 0.0, 0.0, 0.0, 0.0, 0.0, 0.0, 0.0, 0.0, 0.0, 0.0, 0.0, 0.0, 0.0, 0.0, 0.0, 0.0, 0.0, 0.0, 0.0, 0.0, 0.0], [0.9743158221244812, 0.000838114763610065, 0.004526786971837282, 0.0019644261337816715, 4.655162774724886e-05, 0.0014437156496569514, 4.74624606283669e-08, 1.1092869499407243e-05, 0.0003551096306182444, 2.6848807465285063e-05, 1.7570351701579057e-05, 1.7302651031059213e-05, 4.136385177844204e-05, 0.014836380258202553, 3.4349544876022264e-05, 0.0004865292285103351, 0.001038008718751371, 0.0, 0.0, 0.0, 0.0, 0.0, 0.0, 0.0, 0.0, 0.0, 0.0, 0.0, 0.0, 0.0, 0.0, 0.0, 0.0, 0.0, 0.0, 0.0, 0.0, 0.0, 0.0, 0.0], [0.98968106508255, 0.004356895573437214, 0.000371471542166546, 0.00014454008487518877, 8.295419320347719e-07, 0.0005294579896144569, 2.0215354368247063e-07, 0.00022467933013103902, 0.0010803136974573135, 0.00013609945017378777, 1.3332383787201252e-05, 3.022163946297951e-05, 0.00034444278571754694, 0.0018860312411561608, 5.8846511819865555e-05, 0.00010180367826251313, 0.00012821026029996574, 0.0009114895365200937, 0.0, 0.0, 0.0, 0.0, 0.0, 0.0, 0.0, 0.0, 0.0, 0.0, 0.0, 0.0, 0.0, 0.0, 0.0, 0.0, 0.0, 0.0, 0.0, 0.0, 0.0, 0.0], [0.8195598125457764, 0.018181055784225464, 0.00016734506061766297, 0.0010938473278656602, 0.024007828906178474, 0.007075771223753691, 0.0006697148783132434, 0.0004945463151670992, 0.031363338232040405, 6.104564090492204e-05, 0.0778236985206604, 0.0029800310730934143, 0.0006307020084932446, 0.0015901927836239338, 0.0004545324482023716, 0.0054688118398189545, 0.0070580230094492435, 0.0012707101413980126, 4.891243952442892e-05, 0.0, 0.0, 0.0, 0.0, 0.0, 0.0, 0.0, 0.0, 0.0, 0.0, 0.0, 0.0, 0.0, 0.0, 0.0, 0.0, 0.0, 0.0, 0.0, 0.0, 0.0], [0.8995548486709595, 0.009549856185913086, 0.008715442381799221, 0.0012366643641144037, 3.778119935304858e-05, 0.001366551499813795, 0.00010495258175069466, 0.00499512255191803, 0.05056469514966011, 5.7786412071436644e-05, 0.0015943453181535006, 0.006167503073811531, 0.002204668475314975, 0.0030941562727093697, 0.003366623306646943, 0.0023891176097095013, 0.003922604955732822, 0.0003726492577698082, 3.697307693073526e-05, 0.0006677656201645732, 0.0, 0.0, 0.0, 0.0, 0.0, 0.0, 0.0, 0.0, 0.0, 0.0, 0.0, 0.0, 0.0, 0.0, 0.0, 0.0, 0.0, 0.0, 0.0, 0.0], [0.25627684593200684, 0.49322956800460815, 0.0040456331335008144, 0.0002530285273678601, 2.215113454440143e-05, 0.001555873197503388, 9.128062288255023e-07, 0.1449403017759323, 0.0396692231297493, 0.0005335463210940361, 0.00028271449264138937, 0.010830197483301163, 0.014491422101855278, 0.002645102795213461, 0.0005833260947838426, 0.0006325010908767581, 0.02124057337641716, 3.805043206739356e-06, 2.0028033759444952e-05, 9.264128311770037e-05, 0.008650587871670723, 0.0, 0.0, 0.0, 0.0, 0.0, 0.0, 0.0, 0.0, 0.0, 0.0, 0.0, 0.0, 0.0, 0.0, 0.0, 0.0, 0.0, 0.0, 0.0], [0.04618406668305397, 0.0010015828302130103, 0.9438384771347046, 0.003639891976490617, 5.505880267264729e-07, 0.001447551534511149, 7.315117955819517e-10, 0.00015174513100646436, 1.566934042784851e-05, 1.3549049981520511e-05, 1.326115693700558e-06, 0.00011600501602515578, 0.001240470097400248, 0.0002073688810924068, 1.1961236850766e-05, 0.0006495600682683289, 0.0009061388554982841, 2.2478583559859544e-05, 3.6467326935962774e-06, 3.4139281979150837e-07, 0.0003343559510540217, 0.000213308070669882, 0.0, 0.0, 0.0, 0.0, 0.0, 0.0, 0.0, 0.0, 0.0, 0.0, 0.0, 0.0, 0.0, 0.0, 0.0, 0.0, 0.0, 0.0], [0.029824882745742798, 0.003648744197562337, 0.003024335252121091, 0.9224854707717896, 0.003098716726526618, 0.02836642414331436, 1.5366222783086414e-07, 0.00017716220463626087, 1.900423740153201e-05, 0.00013220850087236613, 0.0019119081553071737, 0.00013986817793920636, 0.0012858262052759528, 0.0010941422078758478, 4.2878852468675177e-07, 0.0009646758553571999, 0.001288745435886085, 0.00015605238149873912, 7.912268301879521e-06, 0.000385522551368922, 0.0002601048327051103, 0.00016404119378421456, 0.001563606085255742, 0.0, 0.0, 0.0, 0.0, 0.0, 0.0, 0.0, 0.0, 0.0, 0.0, 0.0, 0.0, 0.0, 0.0, 0.0, 0.0, 0.0], [0.01380929909646511, 0.0002741457719821483, 7.407436442008475e-06, 0.0005792405572719872, 0.9681729674339294, 0.007053953129798174, 2.4501582984726156e-08, 4.955042641086038e-06, 9.55766836341354e-07, 6.831776317994809e-07, 0.007926495745778084, 3.68769615306519e-05, 5.0060581997968256e-05, 0.00010636189836077392, 1.1009320566301994e-08, 3.378139081178233e-05, 0.0007474913727492094, 7.874481156022739e-08, 5.400412561584744e-09, 0.00015849462943151593, 5.957979851700657e-07, 2.2400060970539926e-06, 2.218129793618573e-06, 0.0010316133266314864, 0.0, 0.0, 0.0, 0.0, 0.0, 0.0, 0.0, 0.0, 0.0, 0.0, 0.0, 0.0, 0.0, 0.0, 0.0, 0.0], [0.09161537140607834, 0.0012919099535793066, 0.0007411569822579622, 0.008247601799666882, 0.008414920419454575, 0.8199809193611145, 1.3693872347175784e-07, 0.00022286816965788603, 0.0003664594260044396, 9.573171701049432e-05, 0.0018244400853291154, 0.0017963371938094497, 0.0040694596245884895, 0.0008002305403351784, 2.3608711785527703e-07, 0.005720787215977907, 0.006728338543325663, 4.35602487414144e-06, 2.6741347483039135e-06, 0.0001677694235695526, 1.4423942957364488e-05, 0.00020727308583445847, 0.0012153281131759286, 0.035079095512628555, 0.011392300948500633, 0.0, 0.0, 0.0, 0.0, 0.0, 0.0, 0.0, 0.0, 0.0, 0.0, 0.0, 0.0, 0.0, 0.0, 0.0], [0.07104238122701645, 0.01402928214520216, 2.6548546884441748e-05, 7.004810322541744e-05, 0.00017307617235928774, 0.0006624818197451532, 0.8520940542221069, 0.05319011211395264, 0.0006978496094234288, 1.5313333278754726e-05, 0.0017679210286587477, 0.00010997761273756623, 0.0001551175519125536, 8.824939868645743e-05, 2.798773834911117e-07, 0.0005842593964189291, 0.000739430426619947, 9.187193654724979e-07, 5.297299594531069e-07, 0.00042644533095881343, 0.00015231865108944476, 0.0005404253606684506, 8.167224586941302e-05, 0.0006613537552766502, 0.0005137098487466574, 0.0021762531250715256, 0.0, 0.0, 0.0, 0.0, 0.0, 0.0, 0.0, 0.0, 0.0, 0.0, 0.0, 0.0, 0.0, 0.0], [0.013405072502791882, 0.003822584869340062, 5.456634607980959e-05, 2.199898290200508e-06, 4.356845551001243e-08, 7.622948487551184e-06, 2.521426495150081e-06, 0.97718745470047, 0.00038619383121840656, 7.011440629867138e-06, 1.9853814592352137e-06, 4.925765097141266e-06, 0.0010224758880212903, 4.23561577918008e-05, 1.019769479171373e-05, 6.966367800487205e-05, 0.00014024472329765558, 3.250983127145446e-07, 9.88566898740828e-06, 7.996567887857964e-07, 2.2618167349719442e-05, 0.0033558637369424105, 0.00041223381413146853, 3.2074885893962346e-06, 1.043666397748666e-08, 4.913397788186558e-06, 2.295643753313925e-05, 0.0, 0.0, 0.0, 0.0, 0.0, 0.0, 0.0, 0.0, 0.0, 0.0, 0.0, 0.0, 0.0], [0.04320032149553299, 0.00010010639380197972, 6.206719990586862e-05, 4.037000508105848e-06, 6.049774725624957e-08, 0.00016287891776300967, 4.340374726297114e-09, 0.00023197010159492493, 0.9491813778877258, 3.033132088603452e-05, 5.089810315439536e-07, 1.9490669274091488e-06, 5.243187115411274e-05, 3.917785579687916e-05, 0.0038939150981605053, 0.0005027400329709053, 0.0018421121640130877, 5.8347850426798686e-05, 2.4272902010125108e-05, 7.335495320148766e-05, 0.00019005841750185937, 4.14015376009047e-05, 0.0001781528553692624, 2.0290835891501047e-06, 1.7578132727180673e-08, 8.607190102338791e-05, 9.149840707323165e-08, 4.0198494389187545e-05, 0.0, 0.0, 0.0, 0.0, 0.0, 0.0, 0.0, 0.0, 0.0, 0.0, 0.0, 0.0], [0.03080698847770691, 0.0012662404915317893, 0.00017142518481705338, 8.147977496264502e-06, 8.89880453769365e-08, 2.121382931363769e-05, 5.48637713038147e-09, 9.548904927214608e-05, 5.726182644139044e-05, 0.9663519859313965, 1.4788991393288597e-05, 2.318116821697913e-05, 3.2902178645599633e-05, 3.732190089067444e-05, 1.0384575944044627e-05, 0.0008766078390181065, 8.766780229052529e-05, 1.301498855355021e-06, 4.372211697045714e-05, 4.777155027113622e-07, 1.692369124839388e-07, 4.576324045046931e-06, 3.968911914853379e-05, 8.056331353145652e-06, 9.18262621496524e-09, 1.5201870155578945e-05, 1.1656188547704005e-07, 5.456621238408843e-06, 1.9532006263034418e-05, 0.0, 0.0, 0.0, 0.0, 0.0, 0.0, 0.0, 0.0, 0.0, 0.0, 0.0], [0.07297589629888535, 0.004453537054359913, 6.877016858197749e-05, 0.0008184892940334976, 0.017554379999637604, 0.004852333106100559, 1.9212991446693195e-06, 0.00011124559387098998, 3.882110831909813e-05, 0.00040239247027784586, 0.8518717885017395, 0.008674006909132004, 0.003034434048458934, 0.0002786613185890019, 1.6753971294747316e-06, 0.00241681607440114, 0.001335167558863759, 4.7277933390432736e-07, 5.009373126085848e-06, 0.0005551734357140958, 3.743586057680659e-05, 8.553583029424772e-05, 4.721062214230187e-05, 0.0018260272918269038, 0.022448251023888588, 0.005830517970025539, 4.6250315790530294e-05, 4.209145117783919e-06, 4.432158675626852e-06, 0.00021915161050856113, 0.0, 0.0, 0.0, 0.0, 0.0, 0.0, 0.0, 0.0, 0.0, 0.0], [0.009889029897749424, 0.00030266979592852294, 0.00010748259228421375, 1.5929024357319577e-06, 1.0839213473445852e-06, 7.397447916446254e-05, 2.018967659722648e-09, 1.3133390893926844e-05, 0.00016979710198938847, 3.2969842322927434e-06, 7.189260486484272e-06, 0.986661970615387, 0.0015866387402638793, 6.892471719766036e-05, 4.5098033297108486e-05, 0.00016468195826746523, 0.00019525884999893606, 6.636352622990671e-08, 4.885247335550957e-07, 2.0609679722838337e-06, 2.1837455278728157e-05, 0.00038712777313776314, 0.0001324583572568372, 7.710486897849478e-06, 6.127029337221757e-07, 5.9379883168730885e-05, 2.0675528844549262e-08, 1.5178628132161975e-07, 2.3973780116648413e-05, 3.489005848678062e-07, 7.197976810857654e-05, 0.0, 0.0, 0.0, 0.0, 0.0, 0.0, 0.0, 0.0, 0.0], [0.06073509529232979, 0.028699249029159546, 0.003803693689405918, 0.0001227923494298011, 8.951330528361723e-06, 0.00120574701577425, 6.411091391100854e-08, 0.0023519794922322035, 0.0008441325626336038, 3.953078703489155e-06, 2.62547328020446e-05, 0.0004279820423107594, 0.806647002696991, 0.04759734869003296, 0.025853125378489494, 0.012560578063130379, 0.00044067579437978566, 9.198939778798376e-07, 4.2072781070601195e-05, 9.830110684561078e-06, 0.00039168327930383384, 0.0028550620190799236, 0.0028786470647901297, 0.00015300040831789374, 2.5752040073712124e-06, 0.0007038656622171402, 5.806497824778489e-07, 0.00040777988033369184, 0.0007244368316605687, 6.205519298418949e-07, 2.766894976957701e-05, 0.00047253587399609387, 0.0, 0.0, 0.0, 0.0, 0.0, 0.0, 0.0, 0.0], [0.08105010539293289, 0.00034287196467630565, 0.0001297983544645831, 5.974509258521721e-05, 1.1238108527322765e-05, 0.00026291675749234855, 8.140415425073044e-11, 8.278566951958055e-07, 2.449582279950846e-05, 6.758625659131212e-07, 3.7207873901934363e-06, 4.665533651859732e-06, 0.0002766858960967511, 0.9119887948036194, 0.0015015109675005078, 0.0033925087191164494, 8.732100832276046e-05, 1.8099970475304872e-05, 2.1799693058710545e-05, 1.1245276709814789e-06, 5.646152203553356e-06, 3.4382890135020716e-06, 6.367250080074882e-06, 2.7455613235360943e-05, 2.785935976135079e-06, 0.00013083420344628394, 1.125706194926579e-09, 8.025353714913308e-09, 1.1663772966130637e-05, 2.8114540029378077e-08, 1.8039233964373125e-06, 4.132629783271113e-06, 0.0006269142613746226, 0.0, 0.0, 0.0, 0.0, 0.0, 0.0, 0.0], [0.009156549349427223, 3.8779697206337005e-05, 2.539526394684799e-05, 2.0730686856040847e-07, 6.456511414398847e-08, 4.193226686766138e-06, 4.7436131411782156e-11, 1.7505794858152512e-06, 0.0006017477135173976, 3.6607336824090453e-06, 2.8152840059192386e-07, 4.230518243275583e-06, 5.9756817790912464e-05, 0.00016361981397494674, 0.9873887300491333, 0.001786713721230626, 1.4165144420985598e-05, 4.828455530514475e-06, 1.7894974462251412e-06, 6.116157237556763e-06, 2.0103912902413867e-05, 6.098872518123244e-07, 2.7928704184887465e-06, 6.543269392977891e-08, 9.33687704929298e-09, 8.556568786843854e-07, 2.9390870293077853e-10, 5.933196689511533e-08, 0.00019486840756144375, 6.247290684768814e-07, 4.896965606349113e-07, 7.4194540502503514e-06, 0.0002118894481100142, 0.00029762578196823597, 0.0, 0.0, 0.0, 0.0, 0.0, 0.0], [0.02424153871834278, 0.00012358062667772174, 0.00016311381477862597, 1.4156978068058379e-05, 1.1818950724773458e-06, 0.0005167354829609394, 3.3380739949961935e-08, 1.1496805200295057e-05, 0.00015965533384587616, 3.474371260381304e-05, 9.717606189951766e-06, 6.250346814340446e-06, 0.0001561593235237524, 0.00019057792087551206, 5.896356378798373e-05, 0.9735384583473206, 0.00023767801758367568, 3.886580543621676e-06, 1.1883446404681308e-07, 3.5999732062919065e-05, 2.150528052879963e-05, 5.964272986602737e-07, 8.116874960251153e-05, 7.330017069762107e-06, 2.263096376964313e-07, 0.00020198806305415928, 5.665056690418169e-08, 1.6046853090756485e-07, 1.5466423064935952e-05, 2.821766884153476e-06, 6.420973477361258e-06, 2.4360620045627e-06, 8.450975292362273e-05, 7.604289294249611e-06, 6.37345074210316e-05, 0.0, 0.0, 0.0, 0.0, 0.0], [0.07747755199670792, 0.0003176322497893125, 0.0007390857208520174, 0.00010279430716764182, 0.00023649330250918865, 0.0015224546659737825, 2.9938533874229734e-09, 6.838140689069405e-05, 0.0004891211865469813, 1.9727134713320993e-05, 0.00012906779011245817, 5.060323019279167e-05, 2.1172383640077896e-05, 0.00014658304280601442, 7.5864072641707025e-06, 0.0006145031074993312, 0.9157568216323853, 0.0008419275400228798, 3.0122557745926315e-06, 0.00021597642626147717, 2.7091462470707484e-05, 5.78422550461255e-05, 0.00030159897869452834, 3.691134770633653e-05, 2.8807513444917277e-05, 0.0005609208019450307, 9.581157200955204e-08, 1.6185437061722041e-06, 7.774632103974e-05, 8.005146696632437e-07, 3.2600721169728786e-05, 1.0917249710473698e-05, 5.222401796345366e-06, 3.6045244087290484e-06, 1.2016437267448055e-06, 9.243661043001339e-05, 0.0, 0.0, 0.0, 0.0], [0.021979186683893204, 1.896768662845716e-05, 4.78187866974622e-05, 1.6039557522162795e-05, 2.1206386691119405e-07, 1.1626781997620128e-05, 3.939006065767359e-11, 6.419161024950881e-08, 9.597040843800642e-06, 3.6334193964648875e-07, 1.6788261802958004e-07, 7.322806538923032e-08, 1.8784771782520693e-07, 0.0005404867697507143, 6.360372140079562e-07, 1.0940656466118526e-05, 4.607295704772696e-05, 0.9762505888938904, 0.0002267195814056322, 0.0007471867138519883, 3.2034786272561178e-06, 1.3958205613562313e-07, 4.457815066416515e-06, 2.5023682610481046e-06, 3.1156048407865455e-08, 3.5535174447431928e-06, 9.679600454504111e-10, 1.5340589909484947e-09, 1.2288336392884958e-06, 1.1586230641569273e-08, 2.982222468972395e-08, 1.4172587547989224e-08, 6.119554285533013e-08, 2.759213930403348e-05, 2.7104999844596023e-07, 6.131937198006199e-07, 4.939476275467314e-05, 0.0, 0.0, 0.0], [0.05329175293445587, 0.0002055232471320778, 5.408468041423475e-06, 1.8619646198203554e-06, 2.112508612484021e-09, 4.9829423005576245e-06, 2.8772886850880752e-11, 7.224003866213025e-07, 1.2862451512773987e-05, 2.953529019578127e-06, 6.358849446996828e-08, 9.470301876035592e-08, 1.998343350351206e-06, 4.845565854338929e-05, 6.011742357259209e-07, 1.1317861208226532e-06, 3.185969944752287e-06, 5.209685332374647e-05, 0.9461777806282043, 7.445348455803469e-05, 1.1223006524119228e-08, 3.087192794737348e-07, 9.257105375581887e-07, 2.5576304096830427e-07, 8.098945819545733e-11, 5.375935074880545e-07, 1.0620940793515388e-09, 2.3535886128911443e-08, 2.020576857830747e-06, 1.7827132126058132e-07, 1.72556866573359e-08, 2.6732498881187894e-08, 1.0803532859426923e-06, 2.874705273825384e-07, 3.860796482513251e-08, 1.3743314264402784e-09, 3.024087504854833e-07, 0.00010805595957208425, 0.0, 0.0], [0.025750067085027695, 0.0010159743251278996, 1.3930041404819349e-06, 1.0920522981905378e-05, 0.0001566614955663681, 9.503061301074922e-05, 1.407729087077314e-06, 4.544071089185309e-06, 0.0006493499968200922, 1.0846067652892089e-06, 0.0005986079340800643, 9.211573342327029e-06, 3.877719791489653e-06, 3.4120464988518506e-05, 3.0294845601019915e-06, 3.351365739945322e-05, 0.00017108152678702027, 5.3936837502988055e-05, 7.584521881653927e-06, 0.9701367020606995, 0.0006703029503114522, 3.38269273925107e-05, 1.3259675597510068e-06, 1.4493360140477307e-05, 0.0002143540041288361, 4.529604848357849e-05, 1.117525425797794e-05, 6.582354217243847e-08, 3.904309414792806e-05, 3.5591181557492746e-08, 0.00013555258919950575, 1.2555912007883308e-06, 1.265196260646917e-06, 8.122481176542351e-08, 4.741496866245143e-07, 9.288430078413512e-07, 5.860665623913519e-05, 3.242545062676072e-05, 1.5375524071714608e-06, 0.0], [0.030646756291389465, 0.0010562269017100334, 0.00015394728688988835, 2.975631105073262e-05, 6.55280643968581e-07, 3.126087176497094e-05, 4.75928715104601e-07, 0.00011505975999170914, 0.0012906319461762905, 4.887065188086126e-07, 4.245397212798707e-05, 8.707832603249699e-05, 4.889377305516973e-05, 0.00029068105504848063, 6.192787986947224e-05, 4.501471630646847e-05, 0.00015018046542536467, 1.5144591088755988e-05, 1.6995910527839442e-06, 5.2170991693856195e-05, 0.9607197642326355, 0.004049039911478758, 0.0005279523320496082, 0.00013015020522288978, 3.725144495092536e-07, 2.2883183191879652e-05, 2.172106405851082e-06, 7.226564775919542e-06, 0.000284748210106045, 1.0038073483542576e-08, 1.2495807823142968e-05, 2.5139093850157224e-05, 3.050560007977765e-05, 3.047275868084398e-06, 7.815940989530645e-06, 1.9643196083052317e-06, 2.3111117116059177e-05, 1.0700091479520779e-05, 2.149473061763274e-07, 2.014961137319915e-05]]]}\n",
              "    )\n",
              "    </script>"
            ],
            "text/plain": [
              "<circuitsvis.utils.render.RenderedHTML at 0x7f96783b37d0>"
            ]
          },
          "metadata": {},
          "output_type": "display_data"
        }
      ],
      "source": [
        "induction_head_layer = 5\n",
        "induction_head_index = 5\n",
        "single_random_sequence = torch.randint(1000, 10000, (1, 20)).to(model.cfg.device)\n",
        "repeated_random_sequence = einops.repeat(single_random_sequence, \"batch seq_len -> batch (2 seq_len)\")\n",
        "def visualize_pattern_hook(\n",
        "    pattern: Float[torch.Tensor, \"batch head_index dest_pos source_pos\"],\n",
        "    hook: HookPoint,\n",
        "):\n",
        "    display(\n",
        "        cv.attention.attention_patterns(\n",
        "            tokens=model.to_str_tokens(repeated_random_sequence), \n",
        "            attention=pattern[0, induction_head_index, :, :][None, :, :] # Add a dummy axis, as CircuitsVis expects 3D patterns.\n",
        "        )\n",
        "    )\n",
        "\n",
        "model.run_with_hooks(\n",
        "    repeated_random_sequence, \n",
        "    return_type=None, \n",
        "    fwd_hooks=[(\n",
        "        utils.get_act_name(\"pattern\", induction_head_layer), \n",
        "        visualize_pattern_hook\n",
        "    )]\n",
        ")"
      ]
    },
    {
      "cell_type": "markdown",
      "metadata": {
        "id": "e20jkbWuyWR9"
      },
      "source": [
        "## Available Models"
      ]
    },
    {
      "cell_type": "markdown",
      "metadata": {
        "id": "mAv_IPojyWR9"
      },
      "source": [
        "TransformerLens comes with over 40 open source models available, all of which can be loaded into a consistent(-ish) architecture by just changing the name in `from_pretrained`. The open source models available are [documented here](https://dynalist.io/d/n2ZWtnoYHrU1s4vnFSAQ519J#z=jHj79Pj58cgJKdq4t-ygK-4h), and a set of interpretability friendly models I've trained are [documented here](https://dynalist.io/d/n2ZWtnoYHrU1s4vnFSAQ519J#z=NCJ6zH_Okw_mUYAwGnMKsj2m), including a set of toy language models (tiny one to four layer models) and a set of [SoLU models](https://dynalist.io/d/n2ZWtnoYHrU1s4vnFSAQ519J#z=FZ5W6GGcy6OitPEaO733JLqf) up to GPT-2 Medium size (300M parameters). You can see [a table of the official alias and hyper-parameters of available models here](https://github.com/neelnanda-io/TransformerLens/blob/main/easy_transformer/model_properties_table.md).\n",
        "\n",
        "**Note:** TransformerLens does not currently support multi-GPU models (which you want for models above eg 7B parameters), but this feature is coming soon!"
      ]
    },
    {
      "cell_type": "markdown",
      "metadata": {
        "id": "kSh9wk39yWR-"
      },
      "source": [
        "\n",
        "Notably, this means that analysis can be near immediately re-run on a different model by just changing the name - to see this, let's load in DistilGPT-2 (a distilled version of GPT-2, with half as many layers) and copy the code from above to see the induction heads in that model."
      ]
    },
    {
      "cell_type": "code",
      "execution_count": null,
      "metadata": {
        "id": "pXwaE4XUyWR-",
        "outputId": "3cdbdd55-d523-4783-e99f-183ad47242b0"
      },
      "outputs": [
        {
          "name": "stderr",
          "output_type": "stream",
          "text": [
            "Using pad_token, but it is not set yet.\n"
          ]
        },
        {
          "name": "stdout",
          "output_type": "stream",
          "text": [
            "Loaded pretrained model distilgpt2 into HookedTransformer\n"
          ]
        },
        {
          "data": {
            "text/html": [
              "<html>\n",
              "<head><meta charset=\"utf-8\" /></head>\n",
              "<body>\n",
              "    <div>            <script src=\"https://cdnjs.cloudflare.com/ajax/libs/mathjax/2.7.5/MathJax.js?config=TeX-AMS-MML_SVG\"></script><script type=\"text/javascript\">if (window.MathJax && window.MathJax.Hub && window.MathJax.Hub.Config) {window.MathJax.Hub.Config({SVG: {font: \"STIX-Web\"}});}</script>                <script type=\"text/javascript\">window.PlotlyConfig = {MathJaxConfig: 'local'};</script>\n",
              "        <script src=\"https://cdn.plot.ly/plotly-2.16.1.min.js\"></script>                <div id=\"98c37ee6-d1eb-4fd2-abb6-25fcea4806d8\" class=\"plotly-graph-div\" style=\"height:525px; width:100%;\"></div>            <script type=\"text/javascript\">                                    window.PLOTLYENV=window.PLOTLYENV || {};                                    if (document.getElementById(\"98c37ee6-d1eb-4fd2-abb6-25fcea4806d8\")) {                    Plotly.newPlot(                        \"98c37ee6-d1eb-4fd2-abb6-25fcea4806d8\",                        [{\"coloraxis\":\"coloraxis\",\"name\":\"0\",\"z\":[[0.009829781,0.000295377,0.012661804,0.000002316661,0.00069736416,0.000026816326,0.00860497,0.0012993761,0.008594353,0.009532456,0.00913034,0.016025914],[0.00344231,0.017788095,0.0010160812,0.0001821529,0.013304929,0.0012890853,0.0038786372,0.014899377,0.0028749132,0.00015702132,0.003935385,0.014406526],[0.011763791,0.0076388153,0.013284326,0.0024857563,0.020266755,0.004270946,0.009777707,0.0016668368,0.018351581,0.013751813,0.022175496,1.0465541e-11],[0.00946849,0.23212358,0.86168015,0.01656808,0.01690789,0.015071683,0.02012734,0.19553702,0.015999738,0.01757678,0.93703943,0.51021636],[0.27425367,0.23033048,0.089379184,0.012144947,0.08233639,0.02498175,0.6287083,0.025814235,0.06939743,0.6472505,0.017307777,0.06159132],[0.02279091,0.08241454,0.056171473,0.013680244,0.03538631,0.18700893,0.08061893,0.10577389,0.007939984,0.46560174,0.17225139,0.031069668]],\"type\":\"heatmap\",\"xaxis\":\"x\",\"yaxis\":\"y\",\"hovertemplate\":\"Head: %{x}<br>Layer: %{y}<br>color: %{z}<extra></extra>\"}],                        {\"template\":{\"data\":{\"histogram2dcontour\":[{\"type\":\"histogram2dcontour\",\"colorbar\":{\"outlinewidth\":0,\"ticks\":\"\"},\"colorscale\":[[0.0,\"#0d0887\"],[0.1111111111111111,\"#46039f\"],[0.2222222222222222,\"#7201a8\"],[0.3333333333333333,\"#9c179e\"],[0.4444444444444444,\"#bd3786\"],[0.5555555555555556,\"#d8576b\"],[0.6666666666666666,\"#ed7953\"],[0.7777777777777778,\"#fb9f3a\"],[0.8888888888888888,\"#fdca26\"],[1.0,\"#f0f921\"]]}],\"choropleth\":[{\"type\":\"choropleth\",\"colorbar\":{\"outlinewidth\":0,\"ticks\":\"\"}}],\"histogram2d\":[{\"type\":\"histogram2d\",\"colorbar\":{\"outlinewidth\":0,\"ticks\":\"\"},\"colorscale\":[[0.0,\"#0d0887\"],[0.1111111111111111,\"#46039f\"],[0.2222222222222222,\"#7201a8\"],[0.3333333333333333,\"#9c179e\"],[0.4444444444444444,\"#bd3786\"],[0.5555555555555556,\"#d8576b\"],[0.6666666666666666,\"#ed7953\"],[0.7777777777777778,\"#fb9f3a\"],[0.8888888888888888,\"#fdca26\"],[1.0,\"#f0f921\"]]}],\"heatmap\":[{\"type\":\"heatmap\",\"colorbar\":{\"outlinewidth\":0,\"ticks\":\"\"},\"colorscale\":[[0.0,\"#0d0887\"],[0.1111111111111111,\"#46039f\"],[0.2222222222222222,\"#7201a8\"],[0.3333333333333333,\"#9c179e\"],[0.4444444444444444,\"#bd3786\"],[0.5555555555555556,\"#d8576b\"],[0.6666666666666666,\"#ed7953\"],[0.7777777777777778,\"#fb9f3a\"],[0.8888888888888888,\"#fdca26\"],[1.0,\"#f0f921\"]]}],\"heatmapgl\":[{\"type\":\"heatmapgl\",\"colorbar\":{\"outlinewidth\":0,\"ticks\":\"\"},\"colorscale\":[[0.0,\"#0d0887\"],[0.1111111111111111,\"#46039f\"],[0.2222222222222222,\"#7201a8\"],[0.3333333333333333,\"#9c179e\"],[0.4444444444444444,\"#bd3786\"],[0.5555555555555556,\"#d8576b\"],[0.6666666666666666,\"#ed7953\"],[0.7777777777777778,\"#fb9f3a\"],[0.8888888888888888,\"#fdca26\"],[1.0,\"#f0f921\"]]}],\"contourcarpet\":[{\"type\":\"contourcarpet\",\"colorbar\":{\"outlinewidth\":0,\"ticks\":\"\"}}],\"contour\":[{\"type\":\"contour\",\"colorbar\":{\"outlinewidth\":0,\"ticks\":\"\"},\"colorscale\":[[0.0,\"#0d0887\"],[0.1111111111111111,\"#46039f\"],[0.2222222222222222,\"#7201a8\"],[0.3333333333333333,\"#9c179e\"],[0.4444444444444444,\"#bd3786\"],[0.5555555555555556,\"#d8576b\"],[0.6666666666666666,\"#ed7953\"],[0.7777777777777778,\"#fb9f3a\"],[0.8888888888888888,\"#fdca26\"],[1.0,\"#f0f921\"]]}],\"surface\":[{\"type\":\"surface\",\"colorbar\":{\"outlinewidth\":0,\"ticks\":\"\"},\"colorscale\":[[0.0,\"#0d0887\"],[0.1111111111111111,\"#46039f\"],[0.2222222222222222,\"#7201a8\"],[0.3333333333333333,\"#9c179e\"],[0.4444444444444444,\"#bd3786\"],[0.5555555555555556,\"#d8576b\"],[0.6666666666666666,\"#ed7953\"],[0.7777777777777778,\"#fb9f3a\"],[0.8888888888888888,\"#fdca26\"],[1.0,\"#f0f921\"]]}],\"mesh3d\":[{\"type\":\"mesh3d\",\"colorbar\":{\"outlinewidth\":0,\"ticks\":\"\"}}],\"scatter\":[{\"fillpattern\":{\"fillmode\":\"overlay\",\"size\":10,\"solidity\":0.2},\"type\":\"scatter\"}],\"parcoords\":[{\"type\":\"parcoords\",\"line\":{\"colorbar\":{\"outlinewidth\":0,\"ticks\":\"\"}}}],\"scatterpolargl\":[{\"type\":\"scatterpolargl\",\"marker\":{\"colorbar\":{\"outlinewidth\":0,\"ticks\":\"\"}}}],\"bar\":[{\"error_x\":{\"color\":\"#2a3f5f\"},\"error_y\":{\"color\":\"#2a3f5f\"},\"marker\":{\"line\":{\"color\":\"#E5ECF6\",\"width\":0.5},\"pattern\":{\"fillmode\":\"overlay\",\"size\":10,\"solidity\":0.2}},\"type\":\"bar\"}],\"scattergeo\":[{\"type\":\"scattergeo\",\"marker\":{\"colorbar\":{\"outlinewidth\":0,\"ticks\":\"\"}}}],\"scatterpolar\":[{\"type\":\"scatterpolar\",\"marker\":{\"colorbar\":{\"outlinewidth\":0,\"ticks\":\"\"}}}],\"histogram\":[{\"marker\":{\"pattern\":{\"fillmode\":\"overlay\",\"size\":10,\"solidity\":0.2}},\"type\":\"histogram\"}],\"scattergl\":[{\"type\":\"scattergl\",\"marker\":{\"colorbar\":{\"outlinewidth\":0,\"ticks\":\"\"}}}],\"scatter3d\":[{\"type\":\"scatter3d\",\"line\":{\"colorbar\":{\"outlinewidth\":0,\"ticks\":\"\"}},\"marker\":{\"colorbar\":{\"outlinewidth\":0,\"ticks\":\"\"}}}],\"scattermapbox\":[{\"type\":\"scattermapbox\",\"marker\":{\"colorbar\":{\"outlinewidth\":0,\"ticks\":\"\"}}}],\"scatterternary\":[{\"type\":\"scatterternary\",\"marker\":{\"colorbar\":{\"outlinewidth\":0,\"ticks\":\"\"}}}],\"scattercarpet\":[{\"type\":\"scattercarpet\",\"marker\":{\"colorbar\":{\"outlinewidth\":0,\"ticks\":\"\"}}}],\"carpet\":[{\"aaxis\":{\"endlinecolor\":\"#2a3f5f\",\"gridcolor\":\"white\",\"linecolor\":\"white\",\"minorgridcolor\":\"white\",\"startlinecolor\":\"#2a3f5f\"},\"baxis\":{\"endlinecolor\":\"#2a3f5f\",\"gridcolor\":\"white\",\"linecolor\":\"white\",\"minorgridcolor\":\"white\",\"startlinecolor\":\"#2a3f5f\"},\"type\":\"carpet\"}],\"table\":[{\"cells\":{\"fill\":{\"color\":\"#EBF0F8\"},\"line\":{\"color\":\"white\"}},\"header\":{\"fill\":{\"color\":\"#C8D4E3\"},\"line\":{\"color\":\"white\"}},\"type\":\"table\"}],\"barpolar\":[{\"marker\":{\"line\":{\"color\":\"#E5ECF6\",\"width\":0.5},\"pattern\":{\"fillmode\":\"overlay\",\"size\":10,\"solidity\":0.2}},\"type\":\"barpolar\"}],\"pie\":[{\"automargin\":true,\"type\":\"pie\"}]},\"layout\":{\"autotypenumbers\":\"strict\",\"colorway\":[\"#636efa\",\"#EF553B\",\"#00cc96\",\"#ab63fa\",\"#FFA15A\",\"#19d3f3\",\"#FF6692\",\"#B6E880\",\"#FF97FF\",\"#FECB52\"],\"font\":{\"color\":\"#2a3f5f\"},\"hovermode\":\"closest\",\"hoverlabel\":{\"align\":\"left\"},\"paper_bgcolor\":\"white\",\"plot_bgcolor\":\"#E5ECF6\",\"polar\":{\"bgcolor\":\"#E5ECF6\",\"angularaxis\":{\"gridcolor\":\"white\",\"linecolor\":\"white\",\"ticks\":\"\"},\"radialaxis\":{\"gridcolor\":\"white\",\"linecolor\":\"white\",\"ticks\":\"\"}},\"ternary\":{\"bgcolor\":\"#E5ECF6\",\"aaxis\":{\"gridcolor\":\"white\",\"linecolor\":\"white\",\"ticks\":\"\"},\"baxis\":{\"gridcolor\":\"white\",\"linecolor\":\"white\",\"ticks\":\"\"},\"caxis\":{\"gridcolor\":\"white\",\"linecolor\":\"white\",\"ticks\":\"\"}},\"coloraxis\":{\"colorbar\":{\"outlinewidth\":0,\"ticks\":\"\"}},\"colorscale\":{\"sequential\":[[0.0,\"#0d0887\"],[0.1111111111111111,\"#46039f\"],[0.2222222222222222,\"#7201a8\"],[0.3333333333333333,\"#9c179e\"],[0.4444444444444444,\"#bd3786\"],[0.5555555555555556,\"#d8576b\"],[0.6666666666666666,\"#ed7953\"],[0.7777777777777778,\"#fb9f3a\"],[0.8888888888888888,\"#fdca26\"],[1.0,\"#f0f921\"]],\"sequentialminus\":[[0.0,\"#0d0887\"],[0.1111111111111111,\"#46039f\"],[0.2222222222222222,\"#7201a8\"],[0.3333333333333333,\"#9c179e\"],[0.4444444444444444,\"#bd3786\"],[0.5555555555555556,\"#d8576b\"],[0.6666666666666666,\"#ed7953\"],[0.7777777777777778,\"#fb9f3a\"],[0.8888888888888888,\"#fdca26\"],[1.0,\"#f0f921\"]],\"diverging\":[[0,\"#8e0152\"],[0.1,\"#c51b7d\"],[0.2,\"#de77ae\"],[0.3,\"#f1b6da\"],[0.4,\"#fde0ef\"],[0.5,\"#f7f7f7\"],[0.6,\"#e6f5d0\"],[0.7,\"#b8e186\"],[0.8,\"#7fbc41\"],[0.9,\"#4d9221\"],[1,\"#276419\"]]},\"xaxis\":{\"gridcolor\":\"white\",\"linecolor\":\"white\",\"ticks\":\"\",\"title\":{\"standoff\":15},\"zerolinecolor\":\"white\",\"automargin\":true,\"zerolinewidth\":2},\"yaxis\":{\"gridcolor\":\"white\",\"linecolor\":\"white\",\"ticks\":\"\",\"title\":{\"standoff\":15},\"zerolinecolor\":\"white\",\"automargin\":true,\"zerolinewidth\":2},\"scene\":{\"xaxis\":{\"backgroundcolor\":\"#E5ECF6\",\"gridcolor\":\"white\",\"linecolor\":\"white\",\"showbackground\":true,\"ticks\":\"\",\"zerolinecolor\":\"white\",\"gridwidth\":2},\"yaxis\":{\"backgroundcolor\":\"#E5ECF6\",\"gridcolor\":\"white\",\"linecolor\":\"white\",\"showbackground\":true,\"ticks\":\"\",\"zerolinecolor\":\"white\",\"gridwidth\":2},\"zaxis\":{\"backgroundcolor\":\"#E5ECF6\",\"gridcolor\":\"white\",\"linecolor\":\"white\",\"showbackground\":true,\"ticks\":\"\",\"zerolinecolor\":\"white\",\"gridwidth\":2}},\"shapedefaults\":{\"line\":{\"color\":\"#2a3f5f\"}},\"annotationdefaults\":{\"arrowcolor\":\"#2a3f5f\",\"arrowhead\":0,\"arrowwidth\":1},\"geo\":{\"bgcolor\":\"white\",\"landcolor\":\"#E5ECF6\",\"subunitcolor\":\"white\",\"showland\":true,\"showlakes\":true,\"lakecolor\":\"white\"},\"title\":{\"x\":0.05},\"mapbox\":{\"style\":\"light\"}}},\"xaxis\":{\"anchor\":\"y\",\"domain\":[0.0,1.0],\"scaleanchor\":\"y\",\"constrain\":\"domain\",\"title\":{\"text\":\"Head\"}},\"yaxis\":{\"anchor\":\"x\",\"domain\":[0.0,1.0],\"autorange\":\"reversed\",\"constrain\":\"domain\",\"title\":{\"text\":\"Layer\"}},\"coloraxis\":{\"colorscale\":[[0.0,\"rgb(103,0,31)\"],[0.1,\"rgb(178,24,43)\"],[0.2,\"rgb(214,96,77)\"],[0.3,\"rgb(244,165,130)\"],[0.4,\"rgb(253,219,199)\"],[0.5,\"rgb(247,247,247)\"],[0.6,\"rgb(209,229,240)\"],[0.7,\"rgb(146,197,222)\"],[0.8,\"rgb(67,147,195)\"],[0.9,\"rgb(33,102,172)\"],[1.0,\"rgb(5,48,97)\"]],\"cmid\":0.0},\"title\":{\"text\":\"Induction Score by Head in Distil GPT-2\"}},                        {\"responsive\": true}                    ).then(function(){\n",
              "                            \n",
              "var gd = document.getElementById('98c37ee6-d1eb-4fd2-abb6-25fcea4806d8');\n",
              "var x = new MutationObserver(function (mutations, observer) {{\n",
              "        var display = window.getComputedStyle(gd).display;\n",
              "        if (!display || display === 'none') {{\n",
              "            console.log([gd, 'removed!']);\n",
              "            Plotly.purge(gd);\n",
              "            observer.disconnect();\n",
              "        }}\n",
              "}});\n",
              "\n",
              "// Listen for the removal of the full notebook cells\n",
              "var notebookContainer = gd.closest('#notebook-container');\n",
              "if (notebookContainer) {{\n",
              "    x.observe(notebookContainer, {childList: true});\n",
              "}}\n",
              "\n",
              "// Listen for the clearing of the current output cell\n",
              "var outputEl = gd.closest('.output');\n",
              "if (outputEl) {{\n",
              "    x.observe(outputEl, {childList: true});\n",
              "}}\n",
              "\n",
              "                        })                };                            </script>        </div>\n",
              "</body>\n",
              "</html>"
            ]
          },
          "metadata": {},
          "output_type": "display_data"
        }
      ],
      "source": [
        "distilgpt2 = HookedTransformer.from_pretrained(\"distilgpt2\")\n",
        "# We make a tensor to store the induction score for each head. We put it on the model's device to avoid needing to move things between the GPU and CPU, which can be slow.\n",
        "distilgpt2_induction_score_store = torch.zeros((distilgpt2.cfg.n_layers, distilgpt2.cfg.n_heads), device=distilgpt2.cfg.device)\n",
        "def induction_score_hook(\n",
        "    pattern: Float[torch.Tensor, \"batch head_index dest_pos source_pos\"],\n",
        "    hook: HookPoint,\n",
        "):\n",
        "    # We take the diagonal of attention paid from each destination position to source positions seq_len-1 tokens back\n",
        "    # (This only has entries for tokens with index>=seq_len)\n",
        "    induction_stripe = pattern.diagonal(dim1=-2, dim2=-1, offset=1-seq_len)\n",
        "    # Get an average score per head\n",
        "    induction_score = einops.reduce(induction_stripe, \"batch head_index position -> head_index\", \"mean\")\n",
        "    # Store the result.\n",
        "    distilgpt2_induction_score_store[hook.layer(), :] = induction_score\n",
        "\n",
        "# We make a boolean filter on activation names, that's true only on attention pattern names.\n",
        "pattern_hook_names_filter = lambda name: name.endswith(\"pattern\")\n",
        "\n",
        "distilgpt2.run_with_hooks(\n",
        "    repeated_tokens, \n",
        "    return_type=None, # For efficiency, we don't need to calculate the logits\n",
        "    fwd_hooks=[(\n",
        "        pattern_hook_names_filter,\n",
        "        induction_score_hook\n",
        "    )]\n",
        ")\n",
        "\n",
        "imshow(distilgpt2_induction_score_store, xaxis=\"Head\", yaxis=\"Layer\", title=\"Induction Score by Head in Distil GPT-2\")"
      ]
    },
    {
      "cell_type": "markdown",
      "metadata": {
        "id": "60IUzwIXyWR_"
      },
      "source": [
        "\n",
        "### An overview of the important open source models in the library\n",
        "\n",
        "* **GPT-2** - the classic generative pre-trained models from OpenAI\n",
        "    * Sizes Small (85M), Medium (300M), Large (700M) and XL (1.5B).\n",
        "    * Trained on ~22B tokens of internet text. ([Open source replication](https://huggingface.co/datasets/openwebtext))\n",
        "* **GPT-Neo** - Eleuther's replication of GPT-2\n",
        "    * Sizes 125M, 1.3B, 2.7B\n",
        "    * Trained on 300B(ish?) tokens of [the Pile](https://pile.eleuther.ai/) a large and diverse dataset including a bunch of code (and weird stuff)\n",
        "* **[OPT](https://ai.facebook.com/blog/democratizing-access-to-large-scale-language-models-with-opt-175b/)** - Meta AI's series of open source models\n",
        "    * Trained on 180B tokens of diverse text.\n",
        "    * 125M, 1.3B, 2.7B, 6.7B, 13B, 30B, 66B\n",
        "* **GPT-J** - Eleuther's 6B parameter model, trained on the Pile\n",
        "* **GPT-NeoX** - Eleuther's 20B parameter model, trained on the Pile\n",
        "* **Stanford CRFM models** - a replication of GPT-2 Small and GPT-2 Medium, trained on 5 different random seeds.\n",
        "    * Notably, 600 checkpoints were taken during training per model, and these are available in the library with eg `HookedTransformer.from_pretrained(\"stanford-gpt2-small-a\", checkpoint_index=265)`.\n",
        "</details>"
      ]
    },
    {
      "cell_type": "markdown",
      "metadata": {
        "id": "lqW41YHgyWR_"
      },
      "source": [
        "\n",
        "### An overview of some interpretability-friendly models I've trained and included\n",
        "\n",
        "(Feel free to [reach out](mailto:neelnanda27@gmail.com) if you want more details on any of these models)\n",
        "\n",
        "Each of these models has about ~200 checkpoints taken during training that can also be loaded from TransformerLens, with the `checkpoint_index` argument to `from_pretrained`.\n",
        "\n",
        "Note that all models are trained with a Beginning of Sequence token, and will likely break if given inputs without that! \n",
        "\n",
        "* **Toy Models**: Inspired by [A Mathematical Framework](https://transformer-circuits.pub/2021/framework/index.html), I've trained 12 tiny language models, of 1-4L and each of width 512. I think that interpreting these is likely to be far more tractable than larger models, and both serve as good practice and will likely contain motifs and circuits that generalise to far larger models (like induction heads):\n",
        "    * Attention-Only models (ie without MLPs): attn-only-1l, attn-only-2l, attn-only-3l, attn-only-4l\n",
        "    * GELU models (ie with MLP, and the standard GELU activations): gelu-1l, gelu-2l, gelu-3l, gelu-4l\n",
        "    * SoLU models (ie with MLP, and [Anthropic's SoLU activation](https://transformer-circuits.pub/2022/solu/index.html), designed to make MLP neurons more interpretable): solu-1l, solu-2l, solu-3l, solu-4l\n",
        "    * All models are trained on 22B tokens of data, 80% from C4 (web text) and 20% from Python Code\n",
        "    * Models of the same layer size were trained with the same weight initialization and data shuffle, to more directly compare the effect of different activation functions.\n",
        "* **SoLU** models: A larger scan of models trained with [Anthropic's SoLU activation](https://transformer-circuits.pub/2022/solu/index.html), in the hopes that it makes the MLP neuron interpretability easier. \n",
        "    * A scan up to GPT-2 Medium size, trained on 30B tokens of the same data as toy models, 80% from C4 and 20% from Python code. \n",
        "        * solu-6l (40M), solu-8l (100M), solu-10l (200M), solu-12l (340M)\n",
        "    * An older scan up to GPT-2 Medium size, trained on 15B tokens of [the Pile](https://pile.eleuther.ai/)\n",
        "        * solu-1l-pile (13M), solu-2l-pile (13M), solu-4l-pile (13M), solu-6l-pile (40M), solu-8l-pile (100M), solu-10l-pile (200M), solu-12l-pile (340M)"
      ]
    },
    {
      "cell_type": "markdown",
      "metadata": {
        "id": "mFsmZr2ryWSA"
      },
      "source": [
        "## Other Resources:\n",
        "\n",
        "* [Concrete Steps to Get Started in Mechanistic Interpretability](https://neelnanda.io/getting-started): A guide I wrote for how to get involved in mechanistic interpretability, and how to learn the basic skills\n",
        "* [A Comprehensive Mechanistic Interpretability Explainer](https://neelnanda.io/glossary): An overview of concepts in the field and surrounding ideas in ML and transformers, with long digressions to give context and build intuitions.\n",
        "* [Concrete Open Problems in Mechanistic Interpretability](https://neelnanda.io/concrete-open-problems), a doc I wrote giving a long list of open problems in mechanistic interpretability, and thoughts on how to get started on trying to work on them. \n",
        "    * There's a lot of low-hanging fruit in the field, and I expect that many people reading this could use TransformerLens to usefully make progress on some of these!\n",
        "* Other demos:\n",
        "    * **[Exploratory Analysis Demo](https://neelnanda.io/exploratory-analysis-demo)**, a demonstration of my standard toolkit for how to use TransformerLens to explore a mysterious behaviour in a language model.\n",
        "    * [Interpretability in the Wild](https://github.com/redwoodresearch/Easy-Transformer) a codebase from Arthur Conmy and Alex Variengien at Redwood research using this library to do a detailed and rigorous reverse engineering of the Indirect Object Identification circuit, to accompany their paper\n",
        "        * Note - this was based on an earlier version of this library, called EasyTransformer. It's pretty similar, but several breaking changes have been made since. \n",
        "    * A [recorded walkthrough](https://www.youtube.com/watch?v=yo4QvDn-vsU) of me doing research with TransformerLens on whether a tiny model can re-derive positional information, with [an accompanying Colab](https://colab.research.google.com/github/neelnanda-io/TransformerLens/blob/main/No_Position_Experiment.ipynb)\n",
        "* [Neuroscope](https://neuroscope.io), a website showing the text in the dataset that most activates each neuron in some selected models. Good to explore to get a sense for what kind of features the model tends to represent, and as a \"wiki\" to get some info\n",
        "    * A tutorial on how to make an [Interactive Neuroscope](https://github.com/neelnanda-io/TransformerLens/blob/main/Hacky-Interactive-Lexoscope.ipynb), where you type in text and see the neuron activations over the text update live."
      ]
    },
    {
      "cell_type": "markdown",
      "metadata": {
        "id": "Qujvx2UhyWSA"
      },
      "source": [
        "## Transformer architecture\n",
        "\n",
        "HookedTransformer is a somewhat adapted GPT-2 architecture, but is computationally identical. The most significant changes are to the internal structure of the attention heads: \n",
        "* The weights (W_K, W_Q, W_V) mapping the residual stream to queries, keys and values are 3 separate matrices, rather than big concatenated one.\n",
        "* The weight matrices (W_K, W_Q, W_V, W_O) and activations (keys, queries, values, z (values mixed by attention pattern)) have separate head_index and d_head axes, rather than flattening them into one big axis.\n",
        "    * The activations all have shape `[batch, position, head_index, d_head]`\n",
        "    * W_K, W_Q, W_V have shape `[head_index, d_head, d_model]` and W_O has shape `[head_index, d_model, d_head]`\n",
        "\n",
        "The actual code is a bit of a mess, as there's a variety of Boolean flags to make it consistent with the various different model families in TransformerLens - to understand it and the internal structure, I instead recommend reading the code in [CleanTransformerDemo](https://colab.research.google.com/github/neelnanda-io/TransformerLens/blob/clean-transformer-demo/Clean_Transformer_Demo.ipynb)"
      ]
    },
    {
      "cell_type": "markdown",
      "metadata": {
        "id": "hTYmxeGpyWSA"
      },
      "source": [
        "### Parameter Names\n",
        "\n",
        "Here is a list of the parameters and shapes in the model. By convention, all weight matrices multiply on the right (ie `new_activation = old_activation @ weights + bias`). \n",
        "\n",
        "Reminder of the key hyper-params:\n",
        "* `n_layers`: 12. The number of transformer blocks in the model (a block contains an attention layer and an MLP layer)\n",
        "* `n_heads`: 12. The number of attention heads per attention layer\n",
        "* `d_model`: 768. The residual stream width.\n",
        "* `d_head`: 64. The internal dimension of an attention head activation.\n",
        "* `d_mlp`: 3072. The internal dimension of the MLP layers (ie the number of neurons).\n",
        "* `d_vocab`: 50267. The number of tokens in the vocabulary.\n",
        "* `n_ctx`: 1024. The maximum number of tokens in an input prompt.\n"
      ]
    },
    {
      "cell_type": "markdown",
      "metadata": {
        "id": "Q8axedQEyWSA"
      },
      "source": [
        "**Transformer Block parameters:** \n",
        "Replace 0 with the relevant layer index."
      ]
    },
    {
      "cell_type": "code",
      "execution_count": null,
      "metadata": {
        "id": "sT0Go00AyWSA",
        "outputId": "f9ebb851-6711-481c-8480-17d85de9e6f2"
      },
      "outputs": [
        {
          "name": "stdout",
          "output_type": "stream",
          "text": [
            "blocks.0.attn.W_Q torch.Size([12, 768, 64])\n",
            "blocks.0.attn.W_K torch.Size([12, 768, 64])\n",
            "blocks.0.attn.W_V torch.Size([12, 768, 64])\n",
            "blocks.0.attn.W_O torch.Size([12, 64, 768])\n",
            "blocks.0.attn.b_Q torch.Size([12, 64])\n",
            "blocks.0.attn.b_K torch.Size([12, 64])\n",
            "blocks.0.attn.b_V torch.Size([12, 64])\n",
            "blocks.0.attn.b_O torch.Size([768])\n",
            "blocks.0.mlp.W_in torch.Size([768, 3072])\n",
            "blocks.0.mlp.b_in torch.Size([3072])\n",
            "blocks.0.mlp.W_out torch.Size([3072, 768])\n",
            "blocks.0.mlp.b_out torch.Size([768])\n"
          ]
        }
      ],
      "source": [
        "for name, param in model.named_parameters():\n",
        "    if name.startswith(\"blocks.0.\"):\n",
        "        print(name, param.shape)"
      ]
    },
    {
      "cell_type": "markdown",
      "metadata": {
        "id": "p20uQgHvyWSA"
      },
      "source": [
        "**Embedding & Unembedding parameters:**"
      ]
    },
    {
      "cell_type": "code",
      "execution_count": null,
      "metadata": {
        "id": "G7-VRXhKyWSB",
        "outputId": "2fcd87d3-ed8b-484c-cdf7-c43eac89f26b"
      },
      "outputs": [
        {
          "name": "stdout",
          "output_type": "stream",
          "text": [
            "embed.W_E torch.Size([50257, 768])\n",
            "pos_embed.W_pos torch.Size([1024, 768])\n",
            "unembed.W_U torch.Size([768, 50257])\n",
            "unembed.b_U torch.Size([50257])\n"
          ]
        }
      ],
      "source": [
        "for name, param in model.named_parameters():\n",
        "    if not name.startswith(\"blocks\"):\n",
        "        print(name, param.shape)"
      ]
    },
    {
      "cell_type": "markdown",
      "metadata": {
        "id": "6SdARhqlyWSB"
      },
      "source": [
        "### Activation + Hook Names\n",
        "\n",
        "Lets get out a list of the activation/hook names in the model and their shapes. In practice, I recommend using the `utils.get_act_name` function to get the names, but this is a useful fallback, and necessary to eg write a name filter function.\n",
        "\n",
        "Let's do this by entering in a short, 10 token prompt, and add a hook function to each activations to print its name and shape. To avoid spam, let's just add this to activations in the first block or not in a block.\n",
        "\n",
        "Note 1: Each LayerNorm has a hook for the scale factor (ie the standard deviation of the input activations for each token position & batch element) and for the normalized output (ie the input activation with mean 0 and standard deviation 1, but *before* applying scaling or translating with learned weights). LayerNorm is applied every time a layer reads from the residual stream: `ln1` is the LayerNorm before the attention layer in a block, `ln2` the one before the MLP layer, and `ln_final` is the LayerNorm before the unembed. \n",
        "\n",
        "Note 2: *Every* activation apart from the attention pattern and attention scores has shape beginning with `[batch, position]`. The attention pattern and scores have shape `[batch, head_index, dest_position, source_position]` (the numbers are the same, unless we're using caching)."
      ]
    },
    {
      "cell_type": "code",
      "execution_count": null,
      "metadata": {
        "id": "dL7JTgA6yWSB",
        "outputId": "2414264d-e811-4bf5-9ae5-f4cd4bd59c70"
      },
      "outputs": [
        {
          "name": "stdout",
          "output_type": "stream",
          "text": [
            "Num tokens: 1\n",
            "hook_embed torch.Size([1, 10, 768])\n",
            "hook_pos_embed torch.Size([1, 10, 768])\n",
            "blocks.0.hook_resid_pre torch.Size([1, 10, 768])\n",
            "blocks.0.ln1.hook_scale torch.Size([1, 10, 1])\n",
            "blocks.0.ln1.hook_normalized torch.Size([1, 10, 768])\n",
            "blocks.0.attn.hook_q torch.Size([1, 10, 12, 64])\n",
            "blocks.0.attn.hook_k torch.Size([1, 10, 12, 64])\n",
            "blocks.0.attn.hook_v torch.Size([1, 10, 12, 64])\n",
            "blocks.0.attn.hook_attn_scores torch.Size([1, 12, 10, 10])\n",
            "blocks.0.attn.hook_pattern torch.Size([1, 12, 10, 10])\n",
            "blocks.0.attn.hook_z torch.Size([1, 10, 12, 64])\n",
            "blocks.0.hook_attn_out torch.Size([1, 10, 768])\n",
            "blocks.0.hook_resid_mid torch.Size([1, 10, 768])\n",
            "blocks.0.ln2.hook_scale torch.Size([1, 10, 1])\n",
            "blocks.0.ln2.hook_normalized torch.Size([1, 10, 768])\n",
            "blocks.0.mlp.hook_pre torch.Size([1, 10, 3072])\n",
            "blocks.0.mlp.hook_post torch.Size([1, 10, 3072])\n",
            "blocks.0.hook_mlp_out torch.Size([1, 10, 768])\n",
            "blocks.0.hook_resid_post torch.Size([1, 10, 768])\n",
            "ln_final.hook_scale torch.Size([1, 10, 1])\n",
            "ln_final.hook_normalized torch.Size([1, 10, 768])\n"
          ]
        }
      ],
      "source": [
        "test_prompt = \"The quick brown fox jumped over the lazy dog\"\n",
        "print(\"Num tokens:\", len(model.to_tokens(test_prompt)[0]))\n",
        "\n",
        "def print_name_shape_hook_function(activation, hook):\n",
        "    print(hook.name, activation.shape)\n",
        "\n",
        "not_in_late_block_filter = lambda name: name.startswith(\"blocks.0.\") or not name.startswith(\"blocks\")\n",
        "\n",
        "model.run_with_hooks(\n",
        "    test_prompt,\n",
        "    return_type=None,\n",
        "    fwd_hooks=[(not_in_late_block_filter, print_name_shape_hook_function)],\n",
        ")"
      ]
    },
    {
      "cell_type": "markdown",
      "metadata": {
        "id": "yKOYSgFwyWSB"
      },
      "source": [
        "### Folding LayerNorm (For the Curious)"
      ]
    },
    {
      "cell_type": "markdown",
      "metadata": {
        "id": "XVqgJqwpyWSB"
      },
      "source": [
        "(For the curious - this is an important technical detail that's worth understanding, especially if you have preconceptions about how transformers work, but not necessary to use TransformerLens)\n",
        "\n",
        "LayerNorm is a normalization technique used by transformers, analogous to BatchNorm but more friendly to massive parallelisation. No one *really* knows why it works, but it seems to improve model numerical stability. Unlike BatchNorm, LayerNorm actually changes the functional form of the model, which makes it a massive pain for interpretability! \n",
        "\n",
        "Folding LayerNorm is a technique to make it lower overhead to deal with, and the flags `center_writing_weights` and `fold_ln` in `HookedTransformer.from_pretrained` apply this automatically (they default to True). These simplify the internal structure without changing the weights.\n",
        "\n",
        "Intuitively, LayerNorm acts on each residual stream vector (ie for each batch element and token position) independently, sets their mean to 0 (centering) and standard deviation to 1 (normalizing) (*across* the residual stream dimension - very weird!), and then applies a learned elementwise scaling and translation to each vector.\n",
        "\n",
        "Mathematically, centering is a linear map, normalizing is *not* a linear map, and scaling and translation are linear maps. \n",
        "* **Centering:** LayerNorm is applied every time a layer reads from the residual stream, so the mean of any residual stream vector can never matter - `center_writing_weights` set every weight matrix writing to the residual to have zero mean. \n",
        "* **Normalizing:** Normalizing is not a linear map, and cannot be factored out. The `hook_scale` hook point lets you access and control for this.\n",
        "* **Scaling and Translation:** Scaling and translation are linear maps, and are always followed by another linear map. The composition of two linear maps is another linear map, so we can *fold* the scaling and translation weights into the weights of the subsequent layer, and simplify things without changing the underlying computation. \n",
        "\n",
        "[See the docs for more details](https://github.com/neelnanda-io/TransformerLens/blob/main/further_comments.md#what-is-layernorm-folding-fold_ln)"
      ]
    },
    {
      "cell_type": "markdown",
      "metadata": {
        "id": "AC4WvZvbyWSC"
      },
      "source": [
        "A fun consequence of LayerNorm folding is that it creates a bias across the unembed, a `d_vocab` length vector that is added to the output logits - GPT-2 is not trained with this, but it *is* trained with a final LayerNorm that contains a bias. \n",
        "\n",
        "Turns out, this LayerNorm bias learns structure of the data that we can only see after folding! In particular, it essentially learns **unigram statistics** - rare tokens get suppressed, common tokens get boosted, by pretty dramatic degrees! Let's list the top and bottom 20 - at the top we see common punctuation and words like \" the\" and \" and\", at the bottom we see weird-ass tokens like \" RandomRedditor\":"
      ]
    },
    {
      "cell_type": "code",
      "execution_count": null,
      "metadata": {
        "id": "670KiS1yyWSC"
      },
      "outputs": [],
      "source": [
        "unembed_bias = model.unembed.b_U\n",
        "bias_values, bias_indices = unembed_bias.sort(descending=True)"
      ]
    },
    {
      "cell_type": "code",
      "execution_count": null,
      "metadata": {
        "id": "Zn2Oy3DzyWSC",
        "outputId": "257762ce-42da-4c88-eba1-c26054d2c41f"
      },
      "outputs": [
        {
          "name": "stdout",
          "output_type": "stream",
          "text": [
            "Top 20 values\n",
            "7.03 ','\n",
            "6.98 ' the'\n",
            "6.68 ' and'\n",
            "6.49 '.'\n",
            "6.48 '\\n'\n",
            "6.47 ' a'\n",
            "6.41 ' in'\n",
            "6.25 ' to'\n",
            "6.16 ' of'\n",
            "6.04 '-'\n",
            "6.03 ' ('\n",
            "5.88 ' \"'\n",
            "5.80 ' for'\n",
            "5.72 ' that'\n",
            "5.64 ' on'\n",
            "5.59 ' is'\n",
            "5.52 ' as'\n",
            "5.49 ' at'\n",
            "5.45 ' with'\n",
            "5.44 ' or'\n",
            "...\n",
            "Bottom 20 values\n",
            "-3.82 ' サーティ'\n",
            "-3.83 '\\x18'\n",
            "-3.83 '\\x14'\n",
            "-3.83 ' RandomRedditor'\n",
            "-3.83 '龍�'\n",
            "-3.83 '�'\n",
            "-3.83 '\\x1b'\n",
            "-3.83 '�'\n",
            "-3.83 '\\x05'\n",
            "-3.83 '\\x00'\n",
            "-3.83 '\\x06'\n",
            "-3.83 '\\x07'\n",
            "-3.83 '\\x0c'\n",
            "-3.83 '\\x02'\n",
            "-3.83 'oreAndOnline'\n",
            "-3.84 '\\x11'\n",
            "-3.84 '�'\n",
            "-3.84 '\\x10'\n",
            "-3.84 '�'\n",
            "-3.84 '�'\n"
          ]
        }
      ],
      "source": [
        "top_k = 20\n",
        "print(f\"Top {top_k} values\")\n",
        "for i in range(top_k):\n",
        "    print(f\"{bias_values[i].item():.2f} {repr(model.to_string(bias_indices[i]))}\")\n",
        "\n",
        "print(\"...\")\n",
        "print(f\"Bottom {top_k} values\")\n",
        "for i in range(top_k, 0, -1):\n",
        "    print(f\"{bias_values[-i].item():.2f} {repr(model.to_string(bias_indices[-i]))}\")"
      ]
    },
    {
      "cell_type": "markdown",
      "metadata": {
        "id": "BSGBNs3myWSC"
      },
      "source": [
        "This can have real consequences for interpretability - for example, this bias favours \" John\" over \" Mary\" by about 1.2, about 1/3 of the effect size of the Indirect Object Identification Circuit! All other things being the same, this makes the John token 3.6x times more likely than the Mary token."
      ]
    },
    {
      "cell_type": "code",
      "execution_count": null,
      "metadata": {
        "id": "ar8wPxbeyWSC",
        "outputId": "1cb0f1a8-6a7d-49d5-ba26-6836ff378aa6"
      },
      "outputs": [
        {
          "name": "stdout",
          "output_type": "stream",
          "text": [
            "John bias: 2.8995\n",
            "Mary bias: 1.6034\n",
            "Prob ratio bias: 3.6550x\n"
          ]
        }
      ],
      "source": [
        "john_bias = model.unembed.b_U[model.to_single_token(' John')]\n",
        "mary_bias = model.unembed.b_U[model.to_single_token(' Mary')]\n",
        "\n",
        "print(f\"John bias: {john_bias.item():.4f}\")\n",
        "print(f\"Mary bias: {mary_bias.item():.4f}\")\n",
        "print(f\"Prob ratio bias: {torch.exp(john_bias - mary_bias).item():.4f}x\")"
      ]
    },
    {
      "cell_type": "markdown",
      "metadata": {
        "id": "3Wrfk8WFyWSD"
      },
      "source": [
        "# Features\n",
        "\n",
        "An overview of some other important features of the library. I recommend checking out the [Exploratory Analysis Demo](https://colab.research.google.com/github/neelnanda-io/Easy-Transformer/blob/main/Exploratory_Analysis_Demo.ipynb) for some other important features not mentioned here, and for a demo of what using the library in practice looks like."
      ]
    },
    {
      "cell_type": "markdown",
      "metadata": {
        "id": "Hwp1DyuZyWSD"
      },
      "source": [
        "## Dealing with tokens\n",
        "\n",
        "**Tokenization** is one of the most annoying features of studying language models. We want language models to be able to take in arbitrary text as input, but the transformer architecture needs the inputs to be elements of a fixed, finite vocabulary. The solution to this is **tokens**, a fixed vocabulary of \"sub-words\", that any natural language can be broken down into with a **tokenizer**. This is invertible, and we can recover the original text, called **de-tokenization**. \n",
        "\n",
        "TransformerLens comes with a range of utility functions to deal with tokenization. Different models can have different tokenizers, so these are all methods on the model.\n",
        "\n",
        "get_token_position, to_tokens, to_string, to_str_tokens, prepend_bos, to_single_token"
      ]
    },
    {
      "cell_type": "markdown",
      "metadata": {
        "id": "TuFjEDBtyWSD"
      },
      "source": [
        "The first thing you need to figure out is *how* things are tokenized. `model.to_str_tokens` splits a string into the tokens *as a list of substrings*, and so lets you explore what the text looks like. To demonstrate this, let's use it on this paragraph.\n",
        "\n",
        "Some observations - there are a lot of arbitrary-ish details in here!\n",
        "* The tokenizer splits on spaces, so no token contains two words.\n",
        "* Tokens include the preceding space, and whether the first token is a capital letter. `how` and ` how` are different tokens!\n",
        "* Common words are single tokens, even if fairly long (` paragraph`) while uncommon words are split into multiple tokens (` token|ized`).\n",
        "* Tokens *mostly* split on punctuation characters (eg `*` and `.`), but eg `'s` is a single token."
      ]
    },
    {
      "cell_type": "code",
      "execution_count": null,
      "metadata": {
        "id": "m8Jp_MUnyWSD",
        "outputId": "57a95856-3a78-475b-a5e7-4e569e1c8608"
      },
      "outputs": [
        {
          "name": "stdout",
          "output_type": "stream",
          "text": [
            "['<|endoftext|>', 'The', ' first', ' thing', ' you', ' need', ' to', ' figure', ' out', ' is', ' *', 'how', '*', ' things', ' are', ' token', 'ized', '.', ' `', 'model', '.', 'to', '_', 'str', '_', 't', 'ok', 'ens', '`', ' splits', ' a', ' string', ' into', ' the', ' tokens', ' *', 'as', ' a', ' list', ' of', ' sub', 'strings', '*,', ' and', ' so', ' lets', ' you', ' explore', ' what', ' the', ' text', ' looks', ' like', '.', ' To', ' demonstrate', ' this', ',', ' let', \"'s\", ' use', ' it', ' on', ' this', ' paragraph', '.']\n"
          ]
        }
      ],
      "source": [
        "example_text = \"The first thing you need to figure out is *how* things are tokenized. `model.to_str_tokens` splits a string into the tokens *as a list of substrings*, and so lets you explore what the text looks like. To demonstrate this, let's use it on this paragraph.\"\n",
        "example_text_str_tokens = model.to_str_tokens(example_text)\n",
        "print(example_text_str_tokens)"
      ]
    },
    {
      "cell_type": "markdown",
      "metadata": {
        "id": "1jbiYWw1yWSD"
      },
      "source": [
        "The transformer needs to take in a sequence of integers, not strings, so we need to convert these tokens into integers. `model.to_tokens` does this, and returns a tensor of integers on the model's device (shape `[batch, position]`). It maps a string to a batch of size 1."
      ]
    },
    {
      "cell_type": "code",
      "execution_count": null,
      "metadata": {
        "id": "95VZOHe4yWSD",
        "outputId": "6e0ca040-7b03-46e0-e8c6-11e75c87d20b"
      },
      "outputs": [
        {
          "name": "stdout",
          "output_type": "stream",
          "text": [
            "tensor([[50256,   464,   717,  1517,   345,   761,   284,  3785,   503,   318,\n",
            "          1635,  4919,     9,  1243,   389, 11241,  1143,    13,  4600, 19849,\n",
            "            13,  1462,    62,  2536,    62,    83,   482,   641,    63, 30778,\n",
            "           257,  4731,   656,   262, 16326,  1635,   292,   257,  1351,   286,\n",
            "           850, 37336, 25666,   290,   523,  8781,   345,  7301,   644,   262,\n",
            "          2420,  3073,   588,    13,  1675, 10176,   428,    11,  1309,   338,\n",
            "           779,   340,   319,   428,  7322,    13]], device='cuda:0')\n"
          ]
        }
      ],
      "source": [
        "example_text_tokens = model.to_tokens(example_text)\n",
        "print(example_text_tokens)"
      ]
    },
    {
      "cell_type": "markdown",
      "metadata": {
        "id": "6T4-2b3CyWSE"
      },
      "source": [
        "`to_tokens` can also take in a list of strings, and return a batch of size `len(strings)`. If the strings are different numbers of tokens, it adds a PAD token to the end of the shorter strings to make them the same length.\n",
        "\n",
        "(Note: In GPT-2, 50256 signifies both the beginning of sequence, end of sequence and padding token - see the `prepend_bos` section for details)"
      ]
    },
    {
      "cell_type": "code",
      "execution_count": null,
      "metadata": {
        "id": "_y4Ogk58yWSE",
        "outputId": "54ef5322-e74c-44a1-e30f-08df9c677c2b"
      },
      "outputs": [
        {
          "name": "stdout",
          "output_type": "stream",
          "text": [
            "tensor([[50256,   464,  3797,  3332,   319,   262,  2603,    13, 50256, 50256],\n",
            "        [50256,   464,  3797,  3332,   319,   262,  2603,  1107,  1327,    13]],\n",
            "       device='cuda:0')\n"
          ]
        }
      ],
      "source": [
        "example_multi_text = [\"The cat sat on the mat.\", \"The cat sat on the mat really hard.\"]\n",
        "example_multi_text_tokens = model.to_tokens(example_multi_text)\n",
        "print(example_multi_text_tokens)"
      ]
    },
    {
      "cell_type": "markdown",
      "metadata": {
        "id": "L3v5xjqByWSE"
      },
      "source": [
        "`model.to_single_token` is a convenience function that takes in a string corresponding to a *single* token and returns the corresponding integer. This is useful for eg looking up the logit corresponding to a single token. \n",
        "\n",
        "For example, let's input `The cat sat on the mat.` to GPT-2, and look at the log prob predicting that the next token is ` The`. \n",
        "\n",
        "<details><summary>Technical notes</summary>\n",
        "\n",
        "Note that if we input a string to the model, it's implicitly converted to a string with `to_tokens`. \n",
        "\n",
        "Note further that the log probs have shape `[batch, position, d_vocab]==[1, 8, 50257]`, with a vector of log probs predicting the next token for *every* token position. GPT-2 uses causal attention which means heads can only look backwards (equivalently, information can only move forwards in the model.), so the log probs at position k are only a function of the first k tokens, and it can't just cheat and look at the k+1 th token. This structure lets it generate text more efficiently, and lets it treat every *token* as a training example, rather than every *sequence*.\n",
        "</details>"
      ]
    },
    {
      "cell_type": "code",
      "execution_count": null,
      "metadata": {
        "id": "1Jufzhp2yWSE",
        "outputId": "71812c8c-1f10-45e0-ef9c-275e601acb95"
      },
      "outputs": [
        {
          "name": "stdout",
          "output_type": "stream",
          "text": [
            "Probability tensor shape [batch, position, d_vocab] == torch.Size([1, 8, 50257])\n",
            "| The| probability: 11.98%\n"
          ]
        }
      ],
      "source": [
        "cat_text = \"The cat sat on the mat.\"\n",
        "cat_logits = model(cat_text)\n",
        "cat_probs = cat_logits.softmax(dim=-1)\n",
        "print(f\"Probability tensor shape [batch, position, d_vocab] == {cat_probs.shape}\")\n",
        "\n",
        "capital_the_token_index = model.to_single_token(\" The\")\n",
        "print(f\"| The| probability: {cat_probs[0, -1, capital_the_token_index].item():.2%}\")"
      ]
    },
    {
      "cell_type": "markdown",
      "metadata": {
        "id": "u4gy17hKyWSE"
      },
      "source": [
        "`model.to_string` is the inverse of `to_tokens` and maps a tensor of integers to a string or list of strings. It also works on integers and lists of integers.\n",
        "\n",
        "For example, let's look up token 256 (due to technical details of tokenization, this will be the most common pair of ASCII characters!), and also verify that our tokens above map back to a string."
      ]
    },
    {
      "cell_type": "code",
      "execution_count": null,
      "metadata": {
        "id": "_Qm8U8TQyWSF",
        "outputId": "c4072955-f083-43e6-8cf5-146400110d24"
      },
      "outputs": [
        {
          "name": "stdout",
          "output_type": "stream",
          "text": [
            "Token 256 - the most common pair of ASCII characters: | t|\n",
            "De-Tokenizing the example tokens: <|endoftext|>The first thing you need to figure out is *how* things are tokenized. `model.to_str_tokens` splits a string into the tokens *as a list of substrings*, and so lets you explore what the text looks like. To demonstrate this, let's use it on this paragraph.\n"
          ]
        }
      ],
      "source": [
        "print(f\"Token 256 - the most common pair of ASCII characters: |{model.to_string(256)}|\")\n",
        "# Squeeze means to remove dimensions of length 1. \n",
        "# Here, that removes the dummy batch dimension so it's a rank 1 tensor and returns a string\n",
        "# Rank 2 tensors map to a list of strings\n",
        "print(f\"De-Tokenizing the example tokens: {model.to_string(example_text_tokens.squeeze())}\")"
      ]
    },
    {
      "cell_type": "markdown",
      "metadata": {
        "id": "m7PIjeCmyWSF"
      },
      "source": [
        "A related annoyance of tokenization is that it's hard to figure out how many tokens a string will break into. `model.get_token_position(single_token, tokens)` returns the position of `single_token` in `tokens`. `tokens` can be either a string or a tensor of tokens. \n",
        "\n",
        "Note that position is zero-indexed, it's two (ie third) because there's a beginning of sequence token automatically prepended (see the next section for details)"
      ]
    },
    {
      "cell_type": "code",
      "execution_count": null,
      "metadata": {
        "id": "M3rASL1ayWSF",
        "outputId": "a018db3b-01e3-44be-c7ff-9b5d7c34da0e"
      },
      "outputs": [
        {
          "name": "stdout",
          "output_type": "stream",
          "text": [
            "With BOS: 2\n",
            "Without BOS: 1\n"
          ]
        }
      ],
      "source": [
        "print(\"With BOS:\", model.get_token_position(\" cat\", \"The cat sat on the mat\"))\n",
        "print(\"Without BOS:\", model.get_token_position(\" cat\", \"The cat sat on the mat\", prepend_bos=False))"
      ]
    },
    {
      "cell_type": "markdown",
      "metadata": {
        "id": "7zSDJvzmyWSF"
      },
      "source": [
        "If there are multiple copies of the token, we can set `mode=\"first\"` to find the first occurence's position and `mode=\"last\"` to find the last"
      ]
    },
    {
      "cell_type": "code",
      "execution_count": null,
      "metadata": {
        "id": "K6kxDMPAyWSG",
        "outputId": "61f0503f-e88f-4958-d0d7-03e341f97cd5"
      },
      "outputs": [
        {
          "name": "stdout",
          "output_type": "stream",
          "text": [
            "First occurence 2\n",
            "Final occurence 13\n"
          ]
        }
      ],
      "source": [
        "print(\"First occurence\", model.get_token_position(\n",
        "    \" cat\", \n",
        "    \"The cat sat on the mat. The mat sat on the cat.\", \n",
        "    mode=\"first\"))\n",
        "print(\"Final occurence\", model.get_token_position(\n",
        "    \" cat\", \n",
        "    \"The cat sat on the mat. The mat sat on the cat.\", \n",
        "    mode=\"last\"))"
      ]
    },
    {
      "cell_type": "markdown",
      "metadata": {
        "id": "-Qn3Xs-cyWSG"
      },
      "source": [
        "In general, tokenization is a pain, and full of gotchas. I highly recommend just playing around with different inputs and their tokenization and getting a feel for it. As another \"fun\" example, let's look at the tokenization of arithmetic expressions - tokens do *not* contain consistent numbers of digits. (This makes it even more impressive that GPT-3 can do arithmetic!)"
      ]
    },
    {
      "cell_type": "code",
      "execution_count": null,
      "metadata": {
        "id": "_3V787GvyWSG",
        "outputId": "9447f8e6-f40b-46ea-cfbd-def0c975c80e"
      },
      "outputs": [
        {
          "name": "stdout",
          "output_type": "stream",
          "text": [
            "['<|endoftext|>', '23', '42', '+', '2017', '=', '214', '45']\n",
            "['<|endoftext|>', '1000', '+', '1', '000000', '=', '9999', '99']\n"
          ]
        }
      ],
      "source": [
        "print(model.to_str_tokens(\"2342+2017=21445\"))\n",
        "print(model.to_str_tokens(\"1000+1000000=999999\"))"
      ]
    },
    {
      "cell_type": "markdown",
      "metadata": {
        "id": "nCrhbc2KyWSG"
      },
      "source": [
        "I also *highly* recommend investigating prompts with easy tokenization when starting out - ideally key words should form a single token, be in the same position in different prompts, have the same total length, etc. Eg study Indirect Object Identification with common English names like ` Tim` rather than ` Ne|el`. Transformers need to spend some parameters in early layers converting multi-token words to a single feature, and then de-converting this in the late layers, and unless this is what you're explicitly investigating, this will make the behaviour you're investigating be messier."
      ]
    },
    {
      "cell_type": "markdown",
      "metadata": {
        "id": "whZRpdRkyWSG"
      },
      "source": [
        "### Gotcha: `prepend_bos`\n",
        "\n",
        "Key Takeaway: **If you get weird off-by-one errors, check whether there's an unexpected `prepend_bos`!**"
      ]
    },
    {
      "cell_type": "markdown",
      "metadata": {
        "id": "zK7ldshjyWSH"
      },
      "source": [
        "A weirdness you may have noticed in the above is that `to_tokens` and `to_str_tokens` added a weird `<|endoftext|>` to the start of each prompt. TransformerLens does this by default, and it can easily trip up new users. Notably, **this includes `model.forward`** (which is what's implicitly used when you do eg `model(\"Hello World\")`). This is called a **Beginning of Sequence (BOS)** token, and it's a special token used to mark the beginning of the sequence. Confusingly, in GPT-2, the End of Sequence (EOS), Beginning of Sequence (BOS) and Padding (PAD) tokens are all the same, `<|endoftext|>` with index `50256`.\n",
        "\n",
        "You can disable this behaviour by setting the flag `prepend_bos=False` in `to_tokens`, `to_str_tokens`, `model.forward` and any other function that converts strings to multi-token tensors. \n",
        "\n",
        "**Gotcha:** You only want to do this at the *start* of a prompt. If you, eg, want to input a question followed by an answer, and want to tokenize these separately, you do *not* want to prepend_bos on the answer."
      ]
    },
    {
      "cell_type": "code",
      "execution_count": null,
      "metadata": {
        "id": "sfAgZLR4yWSH",
        "outputId": "e103f40e-e06a-4102-d1ac-28c391a851db"
      },
      "outputs": [
        {
          "name": "stdout",
          "output_type": "stream",
          "text": [
            "Logits shape by default (with BOS) torch.Size([1, 3, 50257])\n",
            "Logits shape with BOS torch.Size([1, 3, 50257])\n",
            "Logits shape without BOS - only 2 positions! torch.Size([1, 2, 50257])\n"
          ]
        }
      ],
      "source": [
        "print(\"Logits shape by default (with BOS)\", model(\"Hello World\").shape)\n",
        "print(\"Logits shape with BOS\", model(\"Hello World\", prepend_bos=True).shape)\n",
        "print(\"Logits shape without BOS - only 2 positions!\", model(\"Hello World\", prepend_bos=False).shape)"
      ]
    },
    {
      "cell_type": "markdown",
      "metadata": {
        "id": "ztBhyeMIyWSH"
      },
      "source": [
        "`prepend_bos` is a bit of a hack, and I've gone back and forth on what the correct default here is. The reason I do this is that transformers tend to treat the first token weirdly - this doesn't really matter in training (where all inputs are >1000 tokens), but this can be a big issue when investigating short prompts! The reason for this is that attention patterns are a probability distribution and so need to add up to one, so to simulate being \"off\" they normally look at the first token. Giving them a BOS token lets the heads rest by looking at that, preserving the information in the first \"real\" token.\n",
        "\n",
        "Further, *some* models are trained to need a BOS token (OPT and my interpretability-friendly models are, GPT-2 and GPT-Neo are not). But despite GPT-2 not being trained with this, empirically it seems to make interpretability easier.\n",
        "\n",
        "For example, the model can get much worse at Indirect Object Identification without a BOS (and with a name as the first token):"
      ]
    },
    {
      "cell_type": "code",
      "execution_count": null,
      "metadata": {
        "id": "QL34VaJIyWSH",
        "outputId": "b17e88a0-526e-449d-f388-b76422397bf9"
      },
      "outputs": [
        {
          "name": "stdout",
          "output_type": "stream",
          "text": [
            "Logit difference with BOS: 6.754\n",
            "Logit difference without BOS: 2.782\n"
          ]
        }
      ],
      "source": [
        "ioi_logits_with_bos = model(\"Claire and Mary went to the shops, then Mary gave a bottle of milk to\", prepend_bos=True)\n",
        "mary_logit_with_bos = ioi_logits_with_bos[0, -1, model.to_single_token(\" Mary\")].item()\n",
        "claire_logit_with_bos = ioi_logits_with_bos[0, -1, model.to_single_token(\" Claire\")].item()\n",
        "print(f\"Logit difference with BOS: {(claire_logit_with_bos - mary_logit_with_bos):.3f}\")\n",
        "\n",
        "ioi_logits_without_bos = model(\"Claire and Mary went to the shops, then Mary gave a bottle of milk to\", prepend_bos=False)\n",
        "mary_logit_without_bos = ioi_logits_without_bos[0, -1, model.to_single_token(\" Mary\")].item()\n",
        "claire_logit_without_bos = ioi_logits_without_bos[0, -1, model.to_single_token(\" Claire\")].item()\n",
        "print(f\"Logit difference without BOS: {(claire_logit_without_bos - mary_logit_without_bos):.3f}\")"
      ]
    },
    {
      "cell_type": "markdown",
      "metadata": {
        "id": "UY8RQT7lyWSH"
      },
      "source": [
        "Though, note that this also illustrates another gotcha - when `Claire` is at the start of a sentence (no preceding space), it's actually *two* tokens, not one, which probably confuses the relevant circuit. (Note - in this test we put `prepend_bos=False`, because we want to analyse the tokenization of a specific string, not to give an input to the model!)"
      ]
    },
    {
      "cell_type": "code",
      "execution_count": null,
      "metadata": {
        "id": "riNh2juGyWSH",
        "outputId": "99599d7a-887d-4776-bf97-ef7aef5d0b7e"
      },
      "outputs": [
        {
          "name": "stdout",
          "output_type": "stream",
          "text": [
            "| Claire| -> [' Claire']\n",
            "|Claire| -> ['Cl', 'aire']\n"
          ]
        }
      ],
      "source": [
        "print(f\"| Claire| -> {model.to_str_tokens(' Claire', prepend_bos=False)}\")\n",
        "print(f\"|Claire| -> {model.to_str_tokens('Claire', prepend_bos=False)}\")"
      ]
    },
    {
      "cell_type": "markdown",
      "metadata": {
        "id": "Xx7JNztxyWSI"
      },
      "source": [
        "## Factored Matrix Class\n",
        "\n",
        "In transformer interpretability, we often need to analyse low rank factorized matrices - a matrix $M = AB$, where M is `[large, large]`, but A is `[large, small]` and B is `[small, large]`. This is a common structure in transformers, and the `FactoredMatrix` class is a convenient way to work with these. It implements efficient algorithms for various operations on these, such as computing the trace, eigenvalues, Frobenius norm, singular value decomposition, and products with other matrices. It can (approximately) act as a drop-in replacement for the original matrix, and supports leading batch dimensions to the factored matrix. \n",
        "\n",
        "<details><summary>Why are low-rank factorized matrices useful for transformer interpretability?</summary>\n",
        "\n",
        "As argued in [A Mathematical Framework](https://transformer-circuits.pub/2021/framework/index.html), an unexpected fact about transformer attention heads is that rather than being best understood as keys, queries and values (and the requisite weight matrices), they're actually best understood as two low rank factorized matrices. \n",
        "* **Where to move information from:** $W_QK = W_Q W_K^T$, used for determining the attention pattern - what source positions to move information from and what destination positions to move them to.\n",
        "    * Intuitively, residual stream -> query and residual stream -> key are linear maps, *and* `attention_score = query @ key.T` is a linear map, so the whole thing can be factored into one big bilinear form `residual @ W_QK @ residual.T`\n",
        "* **What information to move:** $W_OV = W_V W_O$, used to determine what information to copy from the source position to the destination position (weighted by the attention pattern weight from that destination to that source). \n",
        "    * Intuitively, the residual stream is a `[position, d_model]` tensor (ignoring batch). The attention pattern acts on the *position* dimension (where to move information from and to) and the value and output weights act on the *d_model* dimension - ie *what* information is contained at that source position. So we can factor it all into `attention_pattern @ residual @ W_V @ W_O`, and so only need to care about `W_OV = W_V @ W_O`\n",
        "* Note - the internal head dimension is smaller than the residual stream dimension, so the factorization is low rank. (here, `d_model=768` and `d_head=64`)\n",
        "</details>"
      ]
    },
    {
      "cell_type": "markdown",
      "metadata": {
        "id": "wIhovSduyWSI"
      },
      "source": [
        "### Basic Examples"
      ]
    },
    {
      "cell_type": "markdown",
      "metadata": {
        "id": "7AtNOn-6yWSI"
      },
      "source": [
        "We can use the basic class directly - let's make a factored matrix directly and look at the basic operations:"
      ]
    },
    {
      "cell_type": "code",
      "execution_count": null,
      "metadata": {
        "id": "gtZDhOIuyWSI",
        "outputId": "5b022fca-82f4-4270-d436-1daf7971b3b2"
      },
      "outputs": [
        {
          "name": "stdout",
          "output_type": "stream",
          "text": [
            "Norms:\n",
            "tensor(5.7439)\n",
            "tensor(5.7439)\n",
            "Right dimension: 5, Left dimension: 5, Hidden dimension: 2\n"
          ]
        }
      ],
      "source": [
        "A = torch.randn(5, 2)\n",
        "B = torch.randn(2, 5)\n",
        "AB = A @ B\n",
        "AB_factor = FactoredMatrix(A, B)\n",
        "print(\"Norms:\")\n",
        "print(AB.norm())\n",
        "print(AB_factor.norm())\n",
        "\n",
        "print(f\"Right dimension: {AB_factor.rdim}, Left dimension: {AB_factor.ldim}, Hidden dimension: {AB_factor.mdim}\")"
      ]
    },
    {
      "cell_type": "markdown",
      "metadata": {
        "id": "osuZcC7qyWSI"
      },
      "source": [
        "We can also look at the eigenvalues and singular values of the matrix. Note that, because the matrix is rank 2 but 5 by 5, the final 3 eigenvalues and singular values are zero - the factored class omits the zeros."
      ]
    },
    {
      "cell_type": "code",
      "execution_count": null,
      "metadata": {
        "id": "VZ82wHMYyWSJ",
        "outputId": "20653fe5-35f2-464f-de73-fdb998e6e183"
      },
      "outputs": [
        {
          "name": "stdout",
          "output_type": "stream",
          "text": [
            "Eigenvalues:\n",
            "tensor([-1.6199e+00+0.0000e+00j,  1.0446e+00+0.0000e+00j,\n",
            "         3.7190e-08+0.0000e+00j, -6.5998e-08+1.2859e-07j,\n",
            "        -6.5998e-08-1.2859e-07j])\n",
            "tensor([-1.6199+0.j,  1.0446+0.j])\n",
            "\n",
            "Singular Values:\n",
            "tensor([5.4702e+00, 1.7519e+00, 3.4613e-07, 1.0601e-07, 3.8823e-09])\n",
            "tensor([5.4702, 1.7519])\n"
          ]
        }
      ],
      "source": [
        "print(\"Eigenvalues:\")\n",
        "print(torch.linalg.eig(AB).eigenvalues)\n",
        "print(AB_factor.eigenvalues)\n",
        "print()\n",
        "print(\"Singular Values:\")\n",
        "print(torch.linalg.svd(AB).S)\n",
        "print(AB_factor.S)"
      ]
    },
    {
      "cell_type": "markdown",
      "metadata": {
        "id": "GLpNAzd4yWSJ"
      },
      "source": [
        "We can multiply with other matrices - it automatically chooses the smallest possible dimension to factor along (here it's 2, rather than 5)"
      ]
    },
    {
      "cell_type": "code",
      "execution_count": null,
      "metadata": {
        "id": "zppMt001yWSJ",
        "outputId": "be987b95-5d9e-435f-eec3-ddb13a75fff1"
      },
      "outputs": [
        {
          "name": "stdout",
          "output_type": "stream",
          "text": [
            "Unfactored: torch.Size([5, 300]) tensor(99.9906)\n",
            "Factored: torch.Size([5, 300]) tensor(99.9906)\n",
            "Right dimension: 300, Left dimension: 5, Hidden dimension: 2\n"
          ]
        }
      ],
      "source": [
        "C = torch.randn(5, 300)\n",
        "ABC = AB @ C\n",
        "ABC_factor = AB_factor @ C\n",
        "print(\"Unfactored:\", ABC.shape, ABC.norm())\n",
        "print(\"Factored:\", ABC_factor.shape, ABC_factor.norm())\n",
        "print(f\"Right dimension: {ABC_factor.rdim}, Left dimension: {ABC_factor.ldim}, Hidden dimension: {ABC_factor.mdim}\")"
      ]
    },
    {
      "cell_type": "markdown",
      "metadata": {
        "id": "2UMnzIHqyWSJ"
      },
      "source": [
        "If we want to collapse this back to an unfactored matrix, we can use the AB property to get the product:"
      ]
    },
    {
      "cell_type": "code",
      "execution_count": null,
      "metadata": {
        "id": "oggzg854yWSJ",
        "outputId": "755fb285-dcd5-4058-e94d-c797cc8c9c0a"
      },
      "outputs": [
        {
          "name": "stdout",
          "output_type": "stream",
          "text": [
            "tensor(True)\n"
          ]
        }
      ],
      "source": [
        "AB_unfactored = AB_factor.AB\n",
        "print(torch.isclose(AB_unfactored, AB).all())"
      ]
    },
    {
      "cell_type": "markdown",
      "metadata": {
        "id": "6T9qmRIcyWSK"
      },
      "source": [
        "### Medium Example: Eigenvalue Copying Scores\n",
        "\n",
        "(This is a more involved example of how to use the factored matrix class, skip it if you aren't following)\n",
        "\n",
        "For a more involved example, let's look at the eigenvalue copying score from [A Mathematical Framework](https://transformer-circuits.pub/2021/framework/index.html) of the OV circuit for various heads. The OV Circuit for a head (the factorised matrix $W_OV = W_V W_O$) is a linear map that determines what information is moved from the source position to the destination position. Because this is low rank, it can be thought of as *reading in* some low rank subspace of the source residual stream and *writing to* some low rank subspace of the destination residual stream (with maybe some processing happening in the middle).\n",
        "\n",
        "A common operation for this will just be to *copy*, ie to have the same reading and writing subspace, and to do minimal processing in the middle. Empirically, this tends to coincide with the OV Circuit having (approximately) positive real eigenvalues. I mostly assert this as an empirical fact, but intuitively, operations that involve mapping eigenvectors to different directions (eg rotations) tend to have complex eigenvalues. And operations that preserve eigenvector direction but negate it tend to have negative real eigenvalues. And \"what happens to the eigenvectors\" is a decent proxy for what happens to an arbitrary vector.\n",
        "\n",
        "We can get a score for \"how positive real the OV circuit eigenvalues are\" with $\\frac{\\sum \\lambda_i}{\\sum |\\lambda_i|}$, where $\\lambda_i$ are the eigenvalues of the OV circuit. This is a bit of a hack, but it seems to work well in practice."
      ]
    },
    {
      "cell_type": "markdown",
      "metadata": {
        "id": "HD8Kg96tyWSK"
      },
      "source": [
        "Let's use FactoredMatrix to compute this for every head in the model! We use the helper `model.OV` to get the concatenated OV circuits for all heads across all layers in the model. This has the shape `[n_layers, n_heads, d_model, d_model]`, where `n_layers` and `n_heads` are batch dimensions and the final two dimensions are factorised as `[n_layers, n_heads, d_model, d_head]` and `[n_layers, n_heads, d_head, d_model]` matrices.\n",
        "\n",
        "We can then get the eigenvalues for this, where there are separate eigenvalues for each element of the batch (a `[n_layers, n_heads, d_head]` tensor of complex numbers), and calculate the copying score."
      ]
    },
    {
      "cell_type": "code",
      "execution_count": null,
      "metadata": {
        "id": "svWz4OVpyWSK",
        "outputId": "53506d47-ce7e-474d-ecb7-61fb160f49f8"
      },
      "outputs": [
        {
          "name": "stdout",
          "output_type": "stream",
          "text": [
            "FactoredMatrix: Shape(torch.Size([12, 12, 768, 768])), Hidden Dim(64)\n"
          ]
        }
      ],
      "source": [
        "OV_circuit_all_heads = model.OV\n",
        "print(OV_circuit_all_heads)"
      ]
    },
    {
      "cell_type": "code",
      "execution_count": null,
      "metadata": {
        "id": "pQSA1pn6yWSK",
        "outputId": "27120303-2315-4f29-927c-ceede428e5c3"
      },
      "outputs": [
        {
          "name": "stdout",
          "output_type": "stream",
          "text": [
            "torch.Size([12, 12, 64])\n",
            "torch.complex64\n"
          ]
        }
      ],
      "source": [
        "OV_circuit_all_heads_eigenvalues = OV_circuit_all_heads.eigenvalues \n",
        "print(OV_circuit_all_heads_eigenvalues.shape)\n",
        "print(OV_circuit_all_heads_eigenvalues.dtype)"
      ]
    },
    {
      "cell_type": "code",
      "execution_count": null,
      "metadata": {
        "id": "_WbakiOVyWSK",
        "outputId": "7f71cb73-60d2-4740-b489-c38c61726fb3"
      },
      "outputs": [
        {
          "data": {
            "text/html": [
              "<html>\n",
              "<head><meta charset=\"utf-8\" /></head>\n",
              "<body>\n",
              "    <div>            <script src=\"https://cdnjs.cloudflare.com/ajax/libs/mathjax/2.7.5/MathJax.js?config=TeX-AMS-MML_SVG\"></script><script type=\"text/javascript\">if (window.MathJax && window.MathJax.Hub && window.MathJax.Hub.Config) {window.MathJax.Hub.Config({SVG: {font: \"STIX-Web\"}});}</script>                <script type=\"text/javascript\">window.PlotlyConfig = {MathJaxConfig: 'local'};</script>\n",
              "        <script src=\"https://cdn.plot.ly/plotly-2.16.1.min.js\"></script>                <div id=\"b1f0b6f8-feff-4327-9887-a72135ec4411\" class=\"plotly-graph-div\" style=\"height:525px; width:100%;\"></div>            <script type=\"text/javascript\">                                    window.PLOTLYENV=window.PLOTLYENV || {};                                    if (document.getElementById(\"b1f0b6f8-feff-4327-9887-a72135ec4411\")) {                    Plotly.newPlot(                        \"b1f0b6f8-feff-4327-9887-a72135ec4411\",                        [{\"coloraxis\":\"coloraxis\",\"name\":\"0\",\"z\":[[0.777501,0.3527268,0.2596186,0.66702574,0.8384258,0.5584432,0.8444747,0.41379097,0.24488935,0.028157508,0.35840985,0.16288288],[-0.4541911,-0.6529327,-0.548457,-0.79903686,-0.7736425,-0.85225815,0.97743237,0.6626251,-0.73032224,-0.70070213,-0.6946625,-0.99967235],[-0.78371626,0.89677584,0.4750953,-0.6671974,0.7881463,-0.854775,-0.9054185,-0.57493836,-0.32175106,-0.028594071,-0.92476183,-0.9699269],[0.58640355,-0.7614349,0.59716946,0.7854394,-0.87888825,0.39087448,0.04473867,0.11028006,-0.8169987,0.22129549,-0.99395794,0.5774401],[0.52547896,0.30490145,-0.1072914,0.94331515,-0.931443,0.5273629,-0.4264709,-0.9984429,0.52967566,0.8604294,-0.88950515,0.955697],[0.66291875,0.42956945,0.9736858,0.65554816,0.12201875,0.7442768,0.5037956,0.95253587,-0.65071666,-0.931628,0.97915107,-0.99725866],[0.9613031,0.75017786,-0.38066593,0.64297867,0.95577693,-0.9428839,-0.994808,0.7852987,0.9657302,0.70730156,0.36872303,0.81280106],[0.9659483,0.9730121,0.3190061,-0.30290532,0.97909546,0.9357923,-0.5550317,-0.00546646,0.9867777,0.82495666,0.5664299,0.10005281],[-0.9464487,-0.2547201,0.6522326,0.14152558,0.98841417,0.98605835,0.6949271,0.9901811,0.97912025,-0.2359553,-0.98207104,0.65066874],[0.9895943,-0.29178143,0.9714024,0.9951602,0.18783762,-0.94609374,0.47801915,-0.24891911,0.94370985,0.11866241,0.99412435,-0.38088188],[0.9564488,0.5542725,0.4211806,0.66287893,0.8659593,0.99371177,0.9069077,0.39811078,-0.41342166,0.99719155,0.34596682,0.9938656],[0.58912665,0.9313741,0.9268401,0.9993564,0.62275416,0.8463948,0.6584346,0.8423125,0.29784963,0.8728679,0.99631435,0.98675257]],\"type\":\"heatmap\",\"xaxis\":\"x\",\"yaxis\":\"y\",\"hovertemplate\":\"Head: %{x}<br>Layer: %{y}<br>color: %{z}<extra></extra>\"}],                        {\"template\":{\"data\":{\"histogram2dcontour\":[{\"type\":\"histogram2dcontour\",\"colorbar\":{\"outlinewidth\":0,\"ticks\":\"\"},\"colorscale\":[[0.0,\"#0d0887\"],[0.1111111111111111,\"#46039f\"],[0.2222222222222222,\"#7201a8\"],[0.3333333333333333,\"#9c179e\"],[0.4444444444444444,\"#bd3786\"],[0.5555555555555556,\"#d8576b\"],[0.6666666666666666,\"#ed7953\"],[0.7777777777777778,\"#fb9f3a\"],[0.8888888888888888,\"#fdca26\"],[1.0,\"#f0f921\"]]}],\"choropleth\":[{\"type\":\"choropleth\",\"colorbar\":{\"outlinewidth\":0,\"ticks\":\"\"}}],\"histogram2d\":[{\"type\":\"histogram2d\",\"colorbar\":{\"outlinewidth\":0,\"ticks\":\"\"},\"colorscale\":[[0.0,\"#0d0887\"],[0.1111111111111111,\"#46039f\"],[0.2222222222222222,\"#7201a8\"],[0.3333333333333333,\"#9c179e\"],[0.4444444444444444,\"#bd3786\"],[0.5555555555555556,\"#d8576b\"],[0.6666666666666666,\"#ed7953\"],[0.7777777777777778,\"#fb9f3a\"],[0.8888888888888888,\"#fdca26\"],[1.0,\"#f0f921\"]]}],\"heatmap\":[{\"type\":\"heatmap\",\"colorbar\":{\"outlinewidth\":0,\"ticks\":\"\"},\"colorscale\":[[0.0,\"#0d0887\"],[0.1111111111111111,\"#46039f\"],[0.2222222222222222,\"#7201a8\"],[0.3333333333333333,\"#9c179e\"],[0.4444444444444444,\"#bd3786\"],[0.5555555555555556,\"#d8576b\"],[0.6666666666666666,\"#ed7953\"],[0.7777777777777778,\"#fb9f3a\"],[0.8888888888888888,\"#fdca26\"],[1.0,\"#f0f921\"]]}],\"heatmapgl\":[{\"type\":\"heatmapgl\",\"colorbar\":{\"outlinewidth\":0,\"ticks\":\"\"},\"colorscale\":[[0.0,\"#0d0887\"],[0.1111111111111111,\"#46039f\"],[0.2222222222222222,\"#7201a8\"],[0.3333333333333333,\"#9c179e\"],[0.4444444444444444,\"#bd3786\"],[0.5555555555555556,\"#d8576b\"],[0.6666666666666666,\"#ed7953\"],[0.7777777777777778,\"#fb9f3a\"],[0.8888888888888888,\"#fdca26\"],[1.0,\"#f0f921\"]]}],\"contourcarpet\":[{\"type\":\"contourcarpet\",\"colorbar\":{\"outlinewidth\":0,\"ticks\":\"\"}}],\"contour\":[{\"type\":\"contour\",\"colorbar\":{\"outlinewidth\":0,\"ticks\":\"\"},\"colorscale\":[[0.0,\"#0d0887\"],[0.1111111111111111,\"#46039f\"],[0.2222222222222222,\"#7201a8\"],[0.3333333333333333,\"#9c179e\"],[0.4444444444444444,\"#bd3786\"],[0.5555555555555556,\"#d8576b\"],[0.6666666666666666,\"#ed7953\"],[0.7777777777777778,\"#fb9f3a\"],[0.8888888888888888,\"#fdca26\"],[1.0,\"#f0f921\"]]}],\"surface\":[{\"type\":\"surface\",\"colorbar\":{\"outlinewidth\":0,\"ticks\":\"\"},\"colorscale\":[[0.0,\"#0d0887\"],[0.1111111111111111,\"#46039f\"],[0.2222222222222222,\"#7201a8\"],[0.3333333333333333,\"#9c179e\"],[0.4444444444444444,\"#bd3786\"],[0.5555555555555556,\"#d8576b\"],[0.6666666666666666,\"#ed7953\"],[0.7777777777777778,\"#fb9f3a\"],[0.8888888888888888,\"#fdca26\"],[1.0,\"#f0f921\"]]}],\"mesh3d\":[{\"type\":\"mesh3d\",\"colorbar\":{\"outlinewidth\":0,\"ticks\":\"\"}}],\"scatter\":[{\"fillpattern\":{\"fillmode\":\"overlay\",\"size\":10,\"solidity\":0.2},\"type\":\"scatter\"}],\"parcoords\":[{\"type\":\"parcoords\",\"line\":{\"colorbar\":{\"outlinewidth\":0,\"ticks\":\"\"}}}],\"scatterpolargl\":[{\"type\":\"scatterpolargl\",\"marker\":{\"colorbar\":{\"outlinewidth\":0,\"ticks\":\"\"}}}],\"bar\":[{\"error_x\":{\"color\":\"#2a3f5f\"},\"error_y\":{\"color\":\"#2a3f5f\"},\"marker\":{\"line\":{\"color\":\"#E5ECF6\",\"width\":0.5},\"pattern\":{\"fillmode\":\"overlay\",\"size\":10,\"solidity\":0.2}},\"type\":\"bar\"}],\"scattergeo\":[{\"type\":\"scattergeo\",\"marker\":{\"colorbar\":{\"outlinewidth\":0,\"ticks\":\"\"}}}],\"scatterpolar\":[{\"type\":\"scatterpolar\",\"marker\":{\"colorbar\":{\"outlinewidth\":0,\"ticks\":\"\"}}}],\"histogram\":[{\"marker\":{\"pattern\":{\"fillmode\":\"overlay\",\"size\":10,\"solidity\":0.2}},\"type\":\"histogram\"}],\"scattergl\":[{\"type\":\"scattergl\",\"marker\":{\"colorbar\":{\"outlinewidth\":0,\"ticks\":\"\"}}}],\"scatter3d\":[{\"type\":\"scatter3d\",\"line\":{\"colorbar\":{\"outlinewidth\":0,\"ticks\":\"\"}},\"marker\":{\"colorbar\":{\"outlinewidth\":0,\"ticks\":\"\"}}}],\"scattermapbox\":[{\"type\":\"scattermapbox\",\"marker\":{\"colorbar\":{\"outlinewidth\":0,\"ticks\":\"\"}}}],\"scatterternary\":[{\"type\":\"scatterternary\",\"marker\":{\"colorbar\":{\"outlinewidth\":0,\"ticks\":\"\"}}}],\"scattercarpet\":[{\"type\":\"scattercarpet\",\"marker\":{\"colorbar\":{\"outlinewidth\":0,\"ticks\":\"\"}}}],\"carpet\":[{\"aaxis\":{\"endlinecolor\":\"#2a3f5f\",\"gridcolor\":\"white\",\"linecolor\":\"white\",\"minorgridcolor\":\"white\",\"startlinecolor\":\"#2a3f5f\"},\"baxis\":{\"endlinecolor\":\"#2a3f5f\",\"gridcolor\":\"white\",\"linecolor\":\"white\",\"minorgridcolor\":\"white\",\"startlinecolor\":\"#2a3f5f\"},\"type\":\"carpet\"}],\"table\":[{\"cells\":{\"fill\":{\"color\":\"#EBF0F8\"},\"line\":{\"color\":\"white\"}},\"header\":{\"fill\":{\"color\":\"#C8D4E3\"},\"line\":{\"color\":\"white\"}},\"type\":\"table\"}],\"barpolar\":[{\"marker\":{\"line\":{\"color\":\"#E5ECF6\",\"width\":0.5},\"pattern\":{\"fillmode\":\"overlay\",\"size\":10,\"solidity\":0.2}},\"type\":\"barpolar\"}],\"pie\":[{\"automargin\":true,\"type\":\"pie\"}]},\"layout\":{\"autotypenumbers\":\"strict\",\"colorway\":[\"#636efa\",\"#EF553B\",\"#00cc96\",\"#ab63fa\",\"#FFA15A\",\"#19d3f3\",\"#FF6692\",\"#B6E880\",\"#FF97FF\",\"#FECB52\"],\"font\":{\"color\":\"#2a3f5f\"},\"hovermode\":\"closest\",\"hoverlabel\":{\"align\":\"left\"},\"paper_bgcolor\":\"white\",\"plot_bgcolor\":\"#E5ECF6\",\"polar\":{\"bgcolor\":\"#E5ECF6\",\"angularaxis\":{\"gridcolor\":\"white\",\"linecolor\":\"white\",\"ticks\":\"\"},\"radialaxis\":{\"gridcolor\":\"white\",\"linecolor\":\"white\",\"ticks\":\"\"}},\"ternary\":{\"bgcolor\":\"#E5ECF6\",\"aaxis\":{\"gridcolor\":\"white\",\"linecolor\":\"white\",\"ticks\":\"\"},\"baxis\":{\"gridcolor\":\"white\",\"linecolor\":\"white\",\"ticks\":\"\"},\"caxis\":{\"gridcolor\":\"white\",\"linecolor\":\"white\",\"ticks\":\"\"}},\"coloraxis\":{\"colorbar\":{\"outlinewidth\":0,\"ticks\":\"\"}},\"colorscale\":{\"sequential\":[[0.0,\"#0d0887\"],[0.1111111111111111,\"#46039f\"],[0.2222222222222222,\"#7201a8\"],[0.3333333333333333,\"#9c179e\"],[0.4444444444444444,\"#bd3786\"],[0.5555555555555556,\"#d8576b\"],[0.6666666666666666,\"#ed7953\"],[0.7777777777777778,\"#fb9f3a\"],[0.8888888888888888,\"#fdca26\"],[1.0,\"#f0f921\"]],\"sequentialminus\":[[0.0,\"#0d0887\"],[0.1111111111111111,\"#46039f\"],[0.2222222222222222,\"#7201a8\"],[0.3333333333333333,\"#9c179e\"],[0.4444444444444444,\"#bd3786\"],[0.5555555555555556,\"#d8576b\"],[0.6666666666666666,\"#ed7953\"],[0.7777777777777778,\"#fb9f3a\"],[0.8888888888888888,\"#fdca26\"],[1.0,\"#f0f921\"]],\"diverging\":[[0,\"#8e0152\"],[0.1,\"#c51b7d\"],[0.2,\"#de77ae\"],[0.3,\"#f1b6da\"],[0.4,\"#fde0ef\"],[0.5,\"#f7f7f7\"],[0.6,\"#e6f5d0\"],[0.7,\"#b8e186\"],[0.8,\"#7fbc41\"],[0.9,\"#4d9221\"],[1,\"#276419\"]]},\"xaxis\":{\"gridcolor\":\"white\",\"linecolor\":\"white\",\"ticks\":\"\",\"title\":{\"standoff\":15},\"zerolinecolor\":\"white\",\"automargin\":true,\"zerolinewidth\":2},\"yaxis\":{\"gridcolor\":\"white\",\"linecolor\":\"white\",\"ticks\":\"\",\"title\":{\"standoff\":15},\"zerolinecolor\":\"white\",\"automargin\":true,\"zerolinewidth\":2},\"scene\":{\"xaxis\":{\"backgroundcolor\":\"#E5ECF6\",\"gridcolor\":\"white\",\"linecolor\":\"white\",\"showbackground\":true,\"ticks\":\"\",\"zerolinecolor\":\"white\",\"gridwidth\":2},\"yaxis\":{\"backgroundcolor\":\"#E5ECF6\",\"gridcolor\":\"white\",\"linecolor\":\"white\",\"showbackground\":true,\"ticks\":\"\",\"zerolinecolor\":\"white\",\"gridwidth\":2},\"zaxis\":{\"backgroundcolor\":\"#E5ECF6\",\"gridcolor\":\"white\",\"linecolor\":\"white\",\"showbackground\":true,\"ticks\":\"\",\"zerolinecolor\":\"white\",\"gridwidth\":2}},\"shapedefaults\":{\"line\":{\"color\":\"#2a3f5f\"}},\"annotationdefaults\":{\"arrowcolor\":\"#2a3f5f\",\"arrowhead\":0,\"arrowwidth\":1},\"geo\":{\"bgcolor\":\"white\",\"landcolor\":\"#E5ECF6\",\"subunitcolor\":\"white\",\"showland\":true,\"showlakes\":true,\"lakecolor\":\"white\"},\"title\":{\"x\":0.05},\"mapbox\":{\"style\":\"light\"}}},\"xaxis\":{\"anchor\":\"y\",\"domain\":[0.0,1.0],\"scaleanchor\":\"y\",\"constrain\":\"domain\",\"title\":{\"text\":\"Head\"}},\"yaxis\":{\"anchor\":\"x\",\"domain\":[0.0,1.0],\"autorange\":\"reversed\",\"constrain\":\"domain\",\"title\":{\"text\":\"Layer\"}},\"coloraxis\":{\"colorscale\":[[0.0,\"rgb(103,0,31)\"],[0.1,\"rgb(178,24,43)\"],[0.2,\"rgb(214,96,77)\"],[0.3,\"rgb(244,165,130)\"],[0.4,\"rgb(253,219,199)\"],[0.5,\"rgb(247,247,247)\"],[0.6,\"rgb(209,229,240)\"],[0.7,\"rgb(146,197,222)\"],[0.8,\"rgb(67,147,195)\"],[0.9,\"rgb(33,102,172)\"],[1.0,\"rgb(5,48,97)\"]],\"cmid\":0.0,\"cmin\":-1.0,\"cmax\":1.0},\"title\":{\"text\":\"OV Copying Score for each head in GPT-2 Small\"}},                        {\"responsive\": true}                    ).then(function(){\n",
              "                            \n",
              "var gd = document.getElementById('b1f0b6f8-feff-4327-9887-a72135ec4411');\n",
              "var x = new MutationObserver(function (mutations, observer) {{\n",
              "        var display = window.getComputedStyle(gd).display;\n",
              "        if (!display || display === 'none') {{\n",
              "            console.log([gd, 'removed!']);\n",
              "            Plotly.purge(gd);\n",
              "            observer.disconnect();\n",
              "        }}\n",
              "}});\n",
              "\n",
              "// Listen for the removal of the full notebook cells\n",
              "var notebookContainer = gd.closest('#notebook-container');\n",
              "if (notebookContainer) {{\n",
              "    x.observe(notebookContainer, {childList: true});\n",
              "}}\n",
              "\n",
              "// Listen for the clearing of the current output cell\n",
              "var outputEl = gd.closest('.output');\n",
              "if (outputEl) {{\n",
              "    x.observe(outputEl, {childList: true});\n",
              "}}\n",
              "\n",
              "                        })                };                            </script>        </div>\n",
              "</body>\n",
              "</html>"
            ]
          },
          "metadata": {},
          "output_type": "display_data"
        }
      ],
      "source": [
        "OV_copying_score = OV_circuit_all_heads_eigenvalues.sum(dim=-1).real / OV_circuit_all_heads_eigenvalues.abs().sum(dim=-1)\n",
        "imshow(utils.to_numpy(OV_copying_score), xaxis=\"Head\", yaxis=\"Layer\", title=\"OV Copying Score for each head in GPT-2 Small\", zmax=1.0, zmin=-1.0)"
      ]
    },
    {
      "cell_type": "markdown",
      "metadata": {
        "id": "9Fvqe1yRyWSL"
      },
      "source": [
        "Head 11 in Layer 11 (L11H11) has a high copying score, and if we plot the eigenvalues they look approximately as expected."
      ]
    },
    {
      "cell_type": "code",
      "execution_count": null,
      "metadata": {
        "id": "92FKRnjuyWSL",
        "outputId": "5ca3f58a-a0cd-4f66-a071-a3e5bef0239c"
      },
      "outputs": [
        {
          "data": {
            "text/html": [
              "<html>\n",
              "<head><meta charset=\"utf-8\" /></head>\n",
              "<body>\n",
              "    <div>            <script src=\"https://cdnjs.cloudflare.com/ajax/libs/mathjax/2.7.5/MathJax.js?config=TeX-AMS-MML_SVG\"></script><script type=\"text/javascript\">if (window.MathJax && window.MathJax.Hub && window.MathJax.Hub.Config) {window.MathJax.Hub.Config({SVG: {font: \"STIX-Web\"}});}</script>                <script type=\"text/javascript\">window.PlotlyConfig = {MathJaxConfig: 'local'};</script>\n",
              "        <script src=\"https://cdn.plot.ly/plotly-2.16.1.min.js\"></script>                <div id=\"bdd08916-2eb4-46b4-bcc5-896e7bc11cee\" class=\"plotly-graph-div\" style=\"height:525px; width:100%;\"></div>            <script type=\"text/javascript\">                                    window.PLOTLYENV=window.PLOTLYENV || {};                                    if (document.getElementById(\"bdd08916-2eb4-46b4-bcc5-896e7bc11cee\")) {                    Plotly.newPlot(                        \"bdd08916-2eb4-46b4-bcc5-896e7bc11cee\",                        [{\"hovertemplate\":\"Real=%{x}<br>Imaginary=%{y}<extra></extra>\",\"legendgroup\":\"\",\"marker\":{\"color\":\"#636efa\",\"symbol\":\"circle\"},\"mode\":\"markers\",\"name\":\"\",\"orientation\":\"v\",\"showlegend\":false,\"x\":[-2.1397297,1.4152663,3.4444547,4.027667,8.882654,4.866768,4.866768,4.843705,4.843705,8.477541,8.216802,8.216802,5.0786076,7.8554554,7.8554554,5.365775,5.365775,5.5634394,5.5634394,5.4217362,7.7691364,7.7691364,7.042285,7.042285,5.6751432,5.6751432,7.678601,7.678601,6.5733356,6.5733356,7.6729503,7.172205,7.172205,7.4236083,7.4236083,7.4708047,6.089097,6.089097,6.306833,6.306833,6.5117445,6.5117445,5.955252,5.955252,5.8588047,5.8588047,7.1478877,7.1478877,7.185705,7.185705,6.6706057,6.6706057,6.735978,6.735978,6.1497555,6.1497555,6.2887864,6.2887864,6.3447866,6.625572,6.625572,6.899187,6.899187,6.856411],\"xaxis\":\"x\",\"y\":[0.0,0.0,0.0,0.0,0.0,0.41852185,-0.41852185,0.09079792,-0.09079792,0.0,0.40868598,-0.40868598,0.0,0.7007218,-0.7007218,0.46421358,-0.46421358,0.5558223,-0.5558223,0.0,0.47056165,-0.47056165,1.0298702,-1.0298702,0.48252946,-0.48252946,0.33565187,-0.33565187,0.9988694,-0.9988694,0.0,0.7531841,-0.7531841,0.42575985,-0.42575985,0.0,0.6436292,-0.6436292,0.7701688,-0.7701688,0.7558016,-0.7558016,0.2591141,-0.2591141,0.013021447,-0.013021447,0.40166607,-0.40166607,0.28192392,-0.28192392,0.6146257,-0.6146257,0.5391219,-0.5391219,0.2823353,-0.2823353,0.35283586,-0.35283586,0.0,0.24868369,-0.24868369,0.15545632,-0.15545632,0.0],\"yaxis\":\"y\",\"type\":\"scatter\"}],                        {\"template\":{\"data\":{\"histogram2dcontour\":[{\"type\":\"histogram2dcontour\",\"colorbar\":{\"outlinewidth\":0,\"ticks\":\"\"},\"colorscale\":[[0.0,\"#0d0887\"],[0.1111111111111111,\"#46039f\"],[0.2222222222222222,\"#7201a8\"],[0.3333333333333333,\"#9c179e\"],[0.4444444444444444,\"#bd3786\"],[0.5555555555555556,\"#d8576b\"],[0.6666666666666666,\"#ed7953\"],[0.7777777777777778,\"#fb9f3a\"],[0.8888888888888888,\"#fdca26\"],[1.0,\"#f0f921\"]]}],\"choropleth\":[{\"type\":\"choropleth\",\"colorbar\":{\"outlinewidth\":0,\"ticks\":\"\"}}],\"histogram2d\":[{\"type\":\"histogram2d\",\"colorbar\":{\"outlinewidth\":0,\"ticks\":\"\"},\"colorscale\":[[0.0,\"#0d0887\"],[0.1111111111111111,\"#46039f\"],[0.2222222222222222,\"#7201a8\"],[0.3333333333333333,\"#9c179e\"],[0.4444444444444444,\"#bd3786\"],[0.5555555555555556,\"#d8576b\"],[0.6666666666666666,\"#ed7953\"],[0.7777777777777778,\"#fb9f3a\"],[0.8888888888888888,\"#fdca26\"],[1.0,\"#f0f921\"]]}],\"heatmap\":[{\"type\":\"heatmap\",\"colorbar\":{\"outlinewidth\":0,\"ticks\":\"\"},\"colorscale\":[[0.0,\"#0d0887\"],[0.1111111111111111,\"#46039f\"],[0.2222222222222222,\"#7201a8\"],[0.3333333333333333,\"#9c179e\"],[0.4444444444444444,\"#bd3786\"],[0.5555555555555556,\"#d8576b\"],[0.6666666666666666,\"#ed7953\"],[0.7777777777777778,\"#fb9f3a\"],[0.8888888888888888,\"#fdca26\"],[1.0,\"#f0f921\"]]}],\"heatmapgl\":[{\"type\":\"heatmapgl\",\"colorbar\":{\"outlinewidth\":0,\"ticks\":\"\"},\"colorscale\":[[0.0,\"#0d0887\"],[0.1111111111111111,\"#46039f\"],[0.2222222222222222,\"#7201a8\"],[0.3333333333333333,\"#9c179e\"],[0.4444444444444444,\"#bd3786\"],[0.5555555555555556,\"#d8576b\"],[0.6666666666666666,\"#ed7953\"],[0.7777777777777778,\"#fb9f3a\"],[0.8888888888888888,\"#fdca26\"],[1.0,\"#f0f921\"]]}],\"contourcarpet\":[{\"type\":\"contourcarpet\",\"colorbar\":{\"outlinewidth\":0,\"ticks\":\"\"}}],\"contour\":[{\"type\":\"contour\",\"colorbar\":{\"outlinewidth\":0,\"ticks\":\"\"},\"colorscale\":[[0.0,\"#0d0887\"],[0.1111111111111111,\"#46039f\"],[0.2222222222222222,\"#7201a8\"],[0.3333333333333333,\"#9c179e\"],[0.4444444444444444,\"#bd3786\"],[0.5555555555555556,\"#d8576b\"],[0.6666666666666666,\"#ed7953\"],[0.7777777777777778,\"#fb9f3a\"],[0.8888888888888888,\"#fdca26\"],[1.0,\"#f0f921\"]]}],\"surface\":[{\"type\":\"surface\",\"colorbar\":{\"outlinewidth\":0,\"ticks\":\"\"},\"colorscale\":[[0.0,\"#0d0887\"],[0.1111111111111111,\"#46039f\"],[0.2222222222222222,\"#7201a8\"],[0.3333333333333333,\"#9c179e\"],[0.4444444444444444,\"#bd3786\"],[0.5555555555555556,\"#d8576b\"],[0.6666666666666666,\"#ed7953\"],[0.7777777777777778,\"#fb9f3a\"],[0.8888888888888888,\"#fdca26\"],[1.0,\"#f0f921\"]]}],\"mesh3d\":[{\"type\":\"mesh3d\",\"colorbar\":{\"outlinewidth\":0,\"ticks\":\"\"}}],\"scatter\":[{\"fillpattern\":{\"fillmode\":\"overlay\",\"size\":10,\"solidity\":0.2},\"type\":\"scatter\"}],\"parcoords\":[{\"type\":\"parcoords\",\"line\":{\"colorbar\":{\"outlinewidth\":0,\"ticks\":\"\"}}}],\"scatterpolargl\":[{\"type\":\"scatterpolargl\",\"marker\":{\"colorbar\":{\"outlinewidth\":0,\"ticks\":\"\"}}}],\"bar\":[{\"error_x\":{\"color\":\"#2a3f5f\"},\"error_y\":{\"color\":\"#2a3f5f\"},\"marker\":{\"line\":{\"color\":\"#E5ECF6\",\"width\":0.5},\"pattern\":{\"fillmode\":\"overlay\",\"size\":10,\"solidity\":0.2}},\"type\":\"bar\"}],\"scattergeo\":[{\"type\":\"scattergeo\",\"marker\":{\"colorbar\":{\"outlinewidth\":0,\"ticks\":\"\"}}}],\"scatterpolar\":[{\"type\":\"scatterpolar\",\"marker\":{\"colorbar\":{\"outlinewidth\":0,\"ticks\":\"\"}}}],\"histogram\":[{\"marker\":{\"pattern\":{\"fillmode\":\"overlay\",\"size\":10,\"solidity\":0.2}},\"type\":\"histogram\"}],\"scattergl\":[{\"type\":\"scattergl\",\"marker\":{\"colorbar\":{\"outlinewidth\":0,\"ticks\":\"\"}}}],\"scatter3d\":[{\"type\":\"scatter3d\",\"line\":{\"colorbar\":{\"outlinewidth\":0,\"ticks\":\"\"}},\"marker\":{\"colorbar\":{\"outlinewidth\":0,\"ticks\":\"\"}}}],\"scattermapbox\":[{\"type\":\"scattermapbox\",\"marker\":{\"colorbar\":{\"outlinewidth\":0,\"ticks\":\"\"}}}],\"scatterternary\":[{\"type\":\"scatterternary\",\"marker\":{\"colorbar\":{\"outlinewidth\":0,\"ticks\":\"\"}}}],\"scattercarpet\":[{\"type\":\"scattercarpet\",\"marker\":{\"colorbar\":{\"outlinewidth\":0,\"ticks\":\"\"}}}],\"carpet\":[{\"aaxis\":{\"endlinecolor\":\"#2a3f5f\",\"gridcolor\":\"white\",\"linecolor\":\"white\",\"minorgridcolor\":\"white\",\"startlinecolor\":\"#2a3f5f\"},\"baxis\":{\"endlinecolor\":\"#2a3f5f\",\"gridcolor\":\"white\",\"linecolor\":\"white\",\"minorgridcolor\":\"white\",\"startlinecolor\":\"#2a3f5f\"},\"type\":\"carpet\"}],\"table\":[{\"cells\":{\"fill\":{\"color\":\"#EBF0F8\"},\"line\":{\"color\":\"white\"}},\"header\":{\"fill\":{\"color\":\"#C8D4E3\"},\"line\":{\"color\":\"white\"}},\"type\":\"table\"}],\"barpolar\":[{\"marker\":{\"line\":{\"color\":\"#E5ECF6\",\"width\":0.5},\"pattern\":{\"fillmode\":\"overlay\",\"size\":10,\"solidity\":0.2}},\"type\":\"barpolar\"}],\"pie\":[{\"automargin\":true,\"type\":\"pie\"}]},\"layout\":{\"autotypenumbers\":\"strict\",\"colorway\":[\"#636efa\",\"#EF553B\",\"#00cc96\",\"#ab63fa\",\"#FFA15A\",\"#19d3f3\",\"#FF6692\",\"#B6E880\",\"#FF97FF\",\"#FECB52\"],\"font\":{\"color\":\"#2a3f5f\"},\"hovermode\":\"closest\",\"hoverlabel\":{\"align\":\"left\"},\"paper_bgcolor\":\"white\",\"plot_bgcolor\":\"#E5ECF6\",\"polar\":{\"bgcolor\":\"#E5ECF6\",\"angularaxis\":{\"gridcolor\":\"white\",\"linecolor\":\"white\",\"ticks\":\"\"},\"radialaxis\":{\"gridcolor\":\"white\",\"linecolor\":\"white\",\"ticks\":\"\"}},\"ternary\":{\"bgcolor\":\"#E5ECF6\",\"aaxis\":{\"gridcolor\":\"white\",\"linecolor\":\"white\",\"ticks\":\"\"},\"baxis\":{\"gridcolor\":\"white\",\"linecolor\":\"white\",\"ticks\":\"\"},\"caxis\":{\"gridcolor\":\"white\",\"linecolor\":\"white\",\"ticks\":\"\"}},\"coloraxis\":{\"colorbar\":{\"outlinewidth\":0,\"ticks\":\"\"}},\"colorscale\":{\"sequential\":[[0.0,\"#0d0887\"],[0.1111111111111111,\"#46039f\"],[0.2222222222222222,\"#7201a8\"],[0.3333333333333333,\"#9c179e\"],[0.4444444444444444,\"#bd3786\"],[0.5555555555555556,\"#d8576b\"],[0.6666666666666666,\"#ed7953\"],[0.7777777777777778,\"#fb9f3a\"],[0.8888888888888888,\"#fdca26\"],[1.0,\"#f0f921\"]],\"sequentialminus\":[[0.0,\"#0d0887\"],[0.1111111111111111,\"#46039f\"],[0.2222222222222222,\"#7201a8\"],[0.3333333333333333,\"#9c179e\"],[0.4444444444444444,\"#bd3786\"],[0.5555555555555556,\"#d8576b\"],[0.6666666666666666,\"#ed7953\"],[0.7777777777777778,\"#fb9f3a\"],[0.8888888888888888,\"#fdca26\"],[1.0,\"#f0f921\"]],\"diverging\":[[0,\"#8e0152\"],[0.1,\"#c51b7d\"],[0.2,\"#de77ae\"],[0.3,\"#f1b6da\"],[0.4,\"#fde0ef\"],[0.5,\"#f7f7f7\"],[0.6,\"#e6f5d0\"],[0.7,\"#b8e186\"],[0.8,\"#7fbc41\"],[0.9,\"#4d9221\"],[1,\"#276419\"]]},\"xaxis\":{\"gridcolor\":\"white\",\"linecolor\":\"white\",\"ticks\":\"\",\"title\":{\"standoff\":15},\"zerolinecolor\":\"white\",\"automargin\":true,\"zerolinewidth\":2},\"yaxis\":{\"gridcolor\":\"white\",\"linecolor\":\"white\",\"ticks\":\"\",\"title\":{\"standoff\":15},\"zerolinecolor\":\"white\",\"automargin\":true,\"zerolinewidth\":2},\"scene\":{\"xaxis\":{\"backgroundcolor\":\"#E5ECF6\",\"gridcolor\":\"white\",\"linecolor\":\"white\",\"showbackground\":true,\"ticks\":\"\",\"zerolinecolor\":\"white\",\"gridwidth\":2},\"yaxis\":{\"backgroundcolor\":\"#E5ECF6\",\"gridcolor\":\"white\",\"linecolor\":\"white\",\"showbackground\":true,\"ticks\":\"\",\"zerolinecolor\":\"white\",\"gridwidth\":2},\"zaxis\":{\"backgroundcolor\":\"#E5ECF6\",\"gridcolor\":\"white\",\"linecolor\":\"white\",\"showbackground\":true,\"ticks\":\"\",\"zerolinecolor\":\"white\",\"gridwidth\":2}},\"shapedefaults\":{\"line\":{\"color\":\"#2a3f5f\"}},\"annotationdefaults\":{\"arrowcolor\":\"#2a3f5f\",\"arrowhead\":0,\"arrowwidth\":1},\"geo\":{\"bgcolor\":\"white\",\"landcolor\":\"#E5ECF6\",\"subunitcolor\":\"white\",\"showland\":true,\"showlakes\":true,\"lakecolor\":\"white\"},\"title\":{\"x\":0.05},\"mapbox\":{\"style\":\"light\"}}},\"xaxis\":{\"anchor\":\"y\",\"domain\":[0.0,1.0],\"title\":{\"text\":\"Real\"}},\"yaxis\":{\"anchor\":\"x\",\"domain\":[0.0,1.0],\"title\":{\"text\":\"Imaginary\"}},\"legend\":{\"tracegroupgap\":0},\"title\":{\"text\":\"Eigenvalues of Head L11H11 of GPT-2 Small\"}},                        {\"responsive\": true}                    ).then(function(){\n",
              "                            \n",
              "var gd = document.getElementById('bdd08916-2eb4-46b4-bcc5-896e7bc11cee');\n",
              "var x = new MutationObserver(function (mutations, observer) {{\n",
              "        var display = window.getComputedStyle(gd).display;\n",
              "        if (!display || display === 'none') {{\n",
              "            console.log([gd, 'removed!']);\n",
              "            Plotly.purge(gd);\n",
              "            observer.disconnect();\n",
              "        }}\n",
              "}});\n",
              "\n",
              "// Listen for the removal of the full notebook cells\n",
              "var notebookContainer = gd.closest('#notebook-container');\n",
              "if (notebookContainer) {{\n",
              "    x.observe(notebookContainer, {childList: true});\n",
              "}}\n",
              "\n",
              "// Listen for the clearing of the current output cell\n",
              "var outputEl = gd.closest('.output');\n",
              "if (outputEl) {{\n",
              "    x.observe(outputEl, {childList: true});\n",
              "}}\n",
              "\n",
              "                        })                };                            </script>        </div>\n",
              "</body>\n",
              "</html>"
            ]
          },
          "metadata": {},
          "output_type": "display_data"
        }
      ],
      "source": [
        "scatter(x=OV_circuit_all_heads_eigenvalues[-1, -1, :].real, y=OV_circuit_all_heads_eigenvalues[-1, -1, :].imag, title=\"Eigenvalues of Head L11H11 of GPT-2 Small\", xaxis=\"Real\", yaxis=\"Imaginary\")"
      ]
    },
    {
      "cell_type": "markdown",
      "metadata": {
        "id": "IWmxcHpayWSL"
      },
      "source": [
        "We can even look at the full OV circuit, from the input tokens to output tokens: $W_E W_V W_O W_U$. This is a `[d_vocab, d_vocab]==[50257, 50257]` matrix, so absolutely enormous, even for a single head. But with the FactoredMatrix class, we can compute the full eigenvalue copying score of every head in a few seconds."
      ]
    },
    {
      "cell_type": "code",
      "execution_count": null,
      "metadata": {
        "id": "dhrwPcyZyWSL",
        "outputId": "c5edd4a8-a283-465a-bb4d-8e9cc0d2c91b"
      },
      "outputs": [
        {
          "name": "stdout",
          "output_type": "stream",
          "text": [
            "FactoredMatrix: Shape(torch.Size([12, 12, 50257, 50257])), Hidden Dim(64)\n"
          ]
        }
      ],
      "source": [
        "full_OV_circuit = model.embed.W_E @ OV_circuit_all_heads @ model.unembed.W_U\n",
        "print(full_OV_circuit)"
      ]
    },
    {
      "cell_type": "code",
      "execution_count": null,
      "metadata": {
        "id": "lYyJvmQoyWSM",
        "outputId": "f883aeb8-8613-4a6d-9bb2-6700fb7a06f5"
      },
      "outputs": [
        {
          "name": "stdout",
          "output_type": "stream",
          "text": [
            "torch.Size([12, 12, 64])\n",
            "torch.complex64\n"
          ]
        }
      ],
      "source": [
        "full_OV_circuit_eigenvalues = full_OV_circuit.eigenvalues\n",
        "print(full_OV_circuit_eigenvalues.shape)\n",
        "print(full_OV_circuit_eigenvalues.dtype)"
      ]
    },
    {
      "cell_type": "code",
      "execution_count": null,
      "metadata": {
        "id": "L96pkpP1yWSM",
        "outputId": "1acaa695-bec9-45af-91d9-3aea972c7b0c"
      },
      "outputs": [
        {
          "data": {
            "text/html": [
              "<html>\n",
              "<head><meta charset=\"utf-8\" /></head>\n",
              "<body>\n",
              "    <div>            <script src=\"https://cdnjs.cloudflare.com/ajax/libs/mathjax/2.7.5/MathJax.js?config=TeX-AMS-MML_SVG\"></script><script type=\"text/javascript\">if (window.MathJax && window.MathJax.Hub && window.MathJax.Hub.Config) {window.MathJax.Hub.Config({SVG: {font: \"STIX-Web\"}});}</script>                <script type=\"text/javascript\">window.PlotlyConfig = {MathJaxConfig: 'local'};</script>\n",
              "        <script src=\"https://cdn.plot.ly/plotly-2.16.1.min.js\"></script>                <div id=\"ef099db3-850d-4f72-bcbc-a001170dfe46\" class=\"plotly-graph-div\" style=\"height:525px; width:100%;\"></div>            <script type=\"text/javascript\">                                    window.PLOTLYENV=window.PLOTLYENV || {};                                    if (document.getElementById(\"ef099db3-850d-4f72-bcbc-a001170dfe46\")) {                    Plotly.newPlot(                        \"ef099db3-850d-4f72-bcbc-a001170dfe46\",                        [{\"coloraxis\":\"coloraxis\",\"name\":\"0\",\"z\":[[0.8356366,0.58535385,0.5105842,0.78433764,0.8644159,0.70265853,0.8969925,0.5868824,0.42486504,-0.16337514,0.46268544,0.27605426],[-0.052920163,-0.3177313,-0.48105782,-0.7838066,-0.63602084,-0.77586824,0.96818024,0.81191146,-0.75104624,-0.68784463,-0.64298844,-0.99858564],[-0.65983284,0.9152503,0.54614985,-0.4874397,0.7720561,-0.7541063,-0.847245,-0.6948985,-0.1557513,0.24442284,-0.91066235,-0.94391507],[0.6486897,-0.5592913,0.5935595,0.7843037,-0.8150344,0.6130046,0.16785872,0.3519588,-0.6837264,0.22237684,-0.99292195,0.65358186],[0.5740951,0.3640131,0.0960908,0.93596244,-0.9228775,0.61910796,-0.33572662,-0.998465,0.6448632,0.8468657,-0.7557656,0.95279706],[0.7326544,0.53241664,0.97326714,0.7239247,0.25538945,0.81584096,0.66557914,0.9287099,-0.5660435,-0.89087445,0.98342353,-0.99811804],[0.96986926,0.7439671,-0.35639316,0.6022988,0.9708116,-0.9278276,-0.9962316,0.8345208,0.9714328,0.8158544,0.5902574,0.8199346],[0.98202264,0.9859328,0.51524574,-0.56105167,0.96636665,0.9495159,-0.52048147,0.31047505,0.9859083,0.7797459,0.6738534,0.39197388],[-0.9062039,0.11750999,0.8077877,0.4169305,0.9829014,0.9902303,0.7847102,0.994563,0.9868026,-0.26804435,-0.99088675,0.74579275],[0.9906192,-0.18231122,0.97578365,0.99867505,0.25443316,-0.9544061,0.5869243,-0.23537976,0.9550504,0.25511968,0.992987,0.090525985],[0.9707273,0.6956093,0.6280023,0.79028654,0.934384,0.98957944,0.94362825,-0.10834958,-0.3431112,0.99867094,0.50867337,0.99495095],[0.8283133,0.9432441,0.9491768,0.9995353,0.57123184,0.8055236,0.67818654,0.8272576,0.8314806,0.8778659,0.99449587,0.99738663]],\"type\":\"heatmap\",\"xaxis\":\"x\",\"yaxis\":\"y\",\"hovertemplate\":\"Head: %{x}<br>Layer: %{y}<br>color: %{z}<extra></extra>\"}],                        {\"template\":{\"data\":{\"histogram2dcontour\":[{\"type\":\"histogram2dcontour\",\"colorbar\":{\"outlinewidth\":0,\"ticks\":\"\"},\"colorscale\":[[0.0,\"#0d0887\"],[0.1111111111111111,\"#46039f\"],[0.2222222222222222,\"#7201a8\"],[0.3333333333333333,\"#9c179e\"],[0.4444444444444444,\"#bd3786\"],[0.5555555555555556,\"#d8576b\"],[0.6666666666666666,\"#ed7953\"],[0.7777777777777778,\"#fb9f3a\"],[0.8888888888888888,\"#fdca26\"],[1.0,\"#f0f921\"]]}],\"choropleth\":[{\"type\":\"choropleth\",\"colorbar\":{\"outlinewidth\":0,\"ticks\":\"\"}}],\"histogram2d\":[{\"type\":\"histogram2d\",\"colorbar\":{\"outlinewidth\":0,\"ticks\":\"\"},\"colorscale\":[[0.0,\"#0d0887\"],[0.1111111111111111,\"#46039f\"],[0.2222222222222222,\"#7201a8\"],[0.3333333333333333,\"#9c179e\"],[0.4444444444444444,\"#bd3786\"],[0.5555555555555556,\"#d8576b\"],[0.6666666666666666,\"#ed7953\"],[0.7777777777777778,\"#fb9f3a\"],[0.8888888888888888,\"#fdca26\"],[1.0,\"#f0f921\"]]}],\"heatmap\":[{\"type\":\"heatmap\",\"colorbar\":{\"outlinewidth\":0,\"ticks\":\"\"},\"colorscale\":[[0.0,\"#0d0887\"],[0.1111111111111111,\"#46039f\"],[0.2222222222222222,\"#7201a8\"],[0.3333333333333333,\"#9c179e\"],[0.4444444444444444,\"#bd3786\"],[0.5555555555555556,\"#d8576b\"],[0.6666666666666666,\"#ed7953\"],[0.7777777777777778,\"#fb9f3a\"],[0.8888888888888888,\"#fdca26\"],[1.0,\"#f0f921\"]]}],\"heatmapgl\":[{\"type\":\"heatmapgl\",\"colorbar\":{\"outlinewidth\":0,\"ticks\":\"\"},\"colorscale\":[[0.0,\"#0d0887\"],[0.1111111111111111,\"#46039f\"],[0.2222222222222222,\"#7201a8\"],[0.3333333333333333,\"#9c179e\"],[0.4444444444444444,\"#bd3786\"],[0.5555555555555556,\"#d8576b\"],[0.6666666666666666,\"#ed7953\"],[0.7777777777777778,\"#fb9f3a\"],[0.8888888888888888,\"#fdca26\"],[1.0,\"#f0f921\"]]}],\"contourcarpet\":[{\"type\":\"contourcarpet\",\"colorbar\":{\"outlinewidth\":0,\"ticks\":\"\"}}],\"contour\":[{\"type\":\"contour\",\"colorbar\":{\"outlinewidth\":0,\"ticks\":\"\"},\"colorscale\":[[0.0,\"#0d0887\"],[0.1111111111111111,\"#46039f\"],[0.2222222222222222,\"#7201a8\"],[0.3333333333333333,\"#9c179e\"],[0.4444444444444444,\"#bd3786\"],[0.5555555555555556,\"#d8576b\"],[0.6666666666666666,\"#ed7953\"],[0.7777777777777778,\"#fb9f3a\"],[0.8888888888888888,\"#fdca26\"],[1.0,\"#f0f921\"]]}],\"surface\":[{\"type\":\"surface\",\"colorbar\":{\"outlinewidth\":0,\"ticks\":\"\"},\"colorscale\":[[0.0,\"#0d0887\"],[0.1111111111111111,\"#46039f\"],[0.2222222222222222,\"#7201a8\"],[0.3333333333333333,\"#9c179e\"],[0.4444444444444444,\"#bd3786\"],[0.5555555555555556,\"#d8576b\"],[0.6666666666666666,\"#ed7953\"],[0.7777777777777778,\"#fb9f3a\"],[0.8888888888888888,\"#fdca26\"],[1.0,\"#f0f921\"]]}],\"mesh3d\":[{\"type\":\"mesh3d\",\"colorbar\":{\"outlinewidth\":0,\"ticks\":\"\"}}],\"scatter\":[{\"fillpattern\":{\"fillmode\":\"overlay\",\"size\":10,\"solidity\":0.2},\"type\":\"scatter\"}],\"parcoords\":[{\"type\":\"parcoords\",\"line\":{\"colorbar\":{\"outlinewidth\":0,\"ticks\":\"\"}}}],\"scatterpolargl\":[{\"type\":\"scatterpolargl\",\"marker\":{\"colorbar\":{\"outlinewidth\":0,\"ticks\":\"\"}}}],\"bar\":[{\"error_x\":{\"color\":\"#2a3f5f\"},\"error_y\":{\"color\":\"#2a3f5f\"},\"marker\":{\"line\":{\"color\":\"#E5ECF6\",\"width\":0.5},\"pattern\":{\"fillmode\":\"overlay\",\"size\":10,\"solidity\":0.2}},\"type\":\"bar\"}],\"scattergeo\":[{\"type\":\"scattergeo\",\"marker\":{\"colorbar\":{\"outlinewidth\":0,\"ticks\":\"\"}}}],\"scatterpolar\":[{\"type\":\"scatterpolar\",\"marker\":{\"colorbar\":{\"outlinewidth\":0,\"ticks\":\"\"}}}],\"histogram\":[{\"marker\":{\"pattern\":{\"fillmode\":\"overlay\",\"size\":10,\"solidity\":0.2}},\"type\":\"histogram\"}],\"scattergl\":[{\"type\":\"scattergl\",\"marker\":{\"colorbar\":{\"outlinewidth\":0,\"ticks\":\"\"}}}],\"scatter3d\":[{\"type\":\"scatter3d\",\"line\":{\"colorbar\":{\"outlinewidth\":0,\"ticks\":\"\"}},\"marker\":{\"colorbar\":{\"outlinewidth\":0,\"ticks\":\"\"}}}],\"scattermapbox\":[{\"type\":\"scattermapbox\",\"marker\":{\"colorbar\":{\"outlinewidth\":0,\"ticks\":\"\"}}}],\"scatterternary\":[{\"type\":\"scatterternary\",\"marker\":{\"colorbar\":{\"outlinewidth\":0,\"ticks\":\"\"}}}],\"scattercarpet\":[{\"type\":\"scattercarpet\",\"marker\":{\"colorbar\":{\"outlinewidth\":0,\"ticks\":\"\"}}}],\"carpet\":[{\"aaxis\":{\"endlinecolor\":\"#2a3f5f\",\"gridcolor\":\"white\",\"linecolor\":\"white\",\"minorgridcolor\":\"white\",\"startlinecolor\":\"#2a3f5f\"},\"baxis\":{\"endlinecolor\":\"#2a3f5f\",\"gridcolor\":\"white\",\"linecolor\":\"white\",\"minorgridcolor\":\"white\",\"startlinecolor\":\"#2a3f5f\"},\"type\":\"carpet\"}],\"table\":[{\"cells\":{\"fill\":{\"color\":\"#EBF0F8\"},\"line\":{\"color\":\"white\"}},\"header\":{\"fill\":{\"color\":\"#C8D4E3\"},\"line\":{\"color\":\"white\"}},\"type\":\"table\"}],\"barpolar\":[{\"marker\":{\"line\":{\"color\":\"#E5ECF6\",\"width\":0.5},\"pattern\":{\"fillmode\":\"overlay\",\"size\":10,\"solidity\":0.2}},\"type\":\"barpolar\"}],\"pie\":[{\"automargin\":true,\"type\":\"pie\"}]},\"layout\":{\"autotypenumbers\":\"strict\",\"colorway\":[\"#636efa\",\"#EF553B\",\"#00cc96\",\"#ab63fa\",\"#FFA15A\",\"#19d3f3\",\"#FF6692\",\"#B6E880\",\"#FF97FF\",\"#FECB52\"],\"font\":{\"color\":\"#2a3f5f\"},\"hovermode\":\"closest\",\"hoverlabel\":{\"align\":\"left\"},\"paper_bgcolor\":\"white\",\"plot_bgcolor\":\"#E5ECF6\",\"polar\":{\"bgcolor\":\"#E5ECF6\",\"angularaxis\":{\"gridcolor\":\"white\",\"linecolor\":\"white\",\"ticks\":\"\"},\"radialaxis\":{\"gridcolor\":\"white\",\"linecolor\":\"white\",\"ticks\":\"\"}},\"ternary\":{\"bgcolor\":\"#E5ECF6\",\"aaxis\":{\"gridcolor\":\"white\",\"linecolor\":\"white\",\"ticks\":\"\"},\"baxis\":{\"gridcolor\":\"white\",\"linecolor\":\"white\",\"ticks\":\"\"},\"caxis\":{\"gridcolor\":\"white\",\"linecolor\":\"white\",\"ticks\":\"\"}},\"coloraxis\":{\"colorbar\":{\"outlinewidth\":0,\"ticks\":\"\"}},\"colorscale\":{\"sequential\":[[0.0,\"#0d0887\"],[0.1111111111111111,\"#46039f\"],[0.2222222222222222,\"#7201a8\"],[0.3333333333333333,\"#9c179e\"],[0.4444444444444444,\"#bd3786\"],[0.5555555555555556,\"#d8576b\"],[0.6666666666666666,\"#ed7953\"],[0.7777777777777778,\"#fb9f3a\"],[0.8888888888888888,\"#fdca26\"],[1.0,\"#f0f921\"]],\"sequentialminus\":[[0.0,\"#0d0887\"],[0.1111111111111111,\"#46039f\"],[0.2222222222222222,\"#7201a8\"],[0.3333333333333333,\"#9c179e\"],[0.4444444444444444,\"#bd3786\"],[0.5555555555555556,\"#d8576b\"],[0.6666666666666666,\"#ed7953\"],[0.7777777777777778,\"#fb9f3a\"],[0.8888888888888888,\"#fdca26\"],[1.0,\"#f0f921\"]],\"diverging\":[[0,\"#8e0152\"],[0.1,\"#c51b7d\"],[0.2,\"#de77ae\"],[0.3,\"#f1b6da\"],[0.4,\"#fde0ef\"],[0.5,\"#f7f7f7\"],[0.6,\"#e6f5d0\"],[0.7,\"#b8e186\"],[0.8,\"#7fbc41\"],[0.9,\"#4d9221\"],[1,\"#276419\"]]},\"xaxis\":{\"gridcolor\":\"white\",\"linecolor\":\"white\",\"ticks\":\"\",\"title\":{\"standoff\":15},\"zerolinecolor\":\"white\",\"automargin\":true,\"zerolinewidth\":2},\"yaxis\":{\"gridcolor\":\"white\",\"linecolor\":\"white\",\"ticks\":\"\",\"title\":{\"standoff\":15},\"zerolinecolor\":\"white\",\"automargin\":true,\"zerolinewidth\":2},\"scene\":{\"xaxis\":{\"backgroundcolor\":\"#E5ECF6\",\"gridcolor\":\"white\",\"linecolor\":\"white\",\"showbackground\":true,\"ticks\":\"\",\"zerolinecolor\":\"white\",\"gridwidth\":2},\"yaxis\":{\"backgroundcolor\":\"#E5ECF6\",\"gridcolor\":\"white\",\"linecolor\":\"white\",\"showbackground\":true,\"ticks\":\"\",\"zerolinecolor\":\"white\",\"gridwidth\":2},\"zaxis\":{\"backgroundcolor\":\"#E5ECF6\",\"gridcolor\":\"white\",\"linecolor\":\"white\",\"showbackground\":true,\"ticks\":\"\",\"zerolinecolor\":\"white\",\"gridwidth\":2}},\"shapedefaults\":{\"line\":{\"color\":\"#2a3f5f\"}},\"annotationdefaults\":{\"arrowcolor\":\"#2a3f5f\",\"arrowhead\":0,\"arrowwidth\":1},\"geo\":{\"bgcolor\":\"white\",\"landcolor\":\"#E5ECF6\",\"subunitcolor\":\"white\",\"showland\":true,\"showlakes\":true,\"lakecolor\":\"white\"},\"title\":{\"x\":0.05},\"mapbox\":{\"style\":\"light\"}}},\"xaxis\":{\"anchor\":\"y\",\"domain\":[0.0,1.0],\"scaleanchor\":\"y\",\"constrain\":\"domain\",\"title\":{\"text\":\"Head\"}},\"yaxis\":{\"anchor\":\"x\",\"domain\":[0.0,1.0],\"autorange\":\"reversed\",\"constrain\":\"domain\",\"title\":{\"text\":\"Layer\"}},\"coloraxis\":{\"colorscale\":[[0.0,\"rgb(103,0,31)\"],[0.1,\"rgb(178,24,43)\"],[0.2,\"rgb(214,96,77)\"],[0.3,\"rgb(244,165,130)\"],[0.4,\"rgb(253,219,199)\"],[0.5,\"rgb(247,247,247)\"],[0.6,\"rgb(209,229,240)\"],[0.7,\"rgb(146,197,222)\"],[0.8,\"rgb(67,147,195)\"],[0.9,\"rgb(33,102,172)\"],[1.0,\"rgb(5,48,97)\"]],\"cmid\":0.0,\"cmin\":-1.0,\"cmax\":1.0},\"title\":{\"text\":\"OV Copying Score for each head in GPT-2 Small\"}},                        {\"responsive\": true}                    ).then(function(){\n",
              "                            \n",
              "var gd = document.getElementById('ef099db3-850d-4f72-bcbc-a001170dfe46');\n",
              "var x = new MutationObserver(function (mutations, observer) {{\n",
              "        var display = window.getComputedStyle(gd).display;\n",
              "        if (!display || display === 'none') {{\n",
              "            console.log([gd, 'removed!']);\n",
              "            Plotly.purge(gd);\n",
              "            observer.disconnect();\n",
              "        }}\n",
              "}});\n",
              "\n",
              "// Listen for the removal of the full notebook cells\n",
              "var notebookContainer = gd.closest('#notebook-container');\n",
              "if (notebookContainer) {{\n",
              "    x.observe(notebookContainer, {childList: true});\n",
              "}}\n",
              "\n",
              "// Listen for the clearing of the current output cell\n",
              "var outputEl = gd.closest('.output');\n",
              "if (outputEl) {{\n",
              "    x.observe(outputEl, {childList: true});\n",
              "}}\n",
              "\n",
              "                        })                };                            </script>        </div>\n",
              "</body>\n",
              "</html>"
            ]
          },
          "metadata": {},
          "output_type": "display_data"
        }
      ],
      "source": [
        "full_OV_copying_score = full_OV_circuit_eigenvalues.sum(dim=-1).real / full_OV_circuit_eigenvalues.abs().sum(dim=-1)\n",
        "imshow(utils.to_numpy(full_OV_copying_score), xaxis=\"Head\", yaxis=\"Layer\", title=\"OV Copying Score for each head in GPT-2 Small\", zmax=1.0, zmin=-1.0)"
      ]
    },
    {
      "cell_type": "markdown",
      "metadata": {
        "id": "QQeJTo2LyWSM"
      },
      "source": [
        "Interestingly, these are highly (but not perfectly!) correlated. I'm not sure what to read from this, or what's up with the weird outlier heads!"
      ]
    },
    {
      "cell_type": "code",
      "execution_count": null,
      "metadata": {
        "id": "ScVUpDW_yWSM",
        "outputId": "c02a3d7e-66bc-4461-80da-0ca42a3933e5"
      },
      "outputs": [
        {
          "data": {
            "text/html": [
              "<html>\n",
              "<head><meta charset=\"utf-8\" /></head>\n",
              "<body>\n",
              "    <div>            <script src=\"https://cdnjs.cloudflare.com/ajax/libs/mathjax/2.7.5/MathJax.js?config=TeX-AMS-MML_SVG\"></script><script type=\"text/javascript\">if (window.MathJax && window.MathJax.Hub && window.MathJax.Hub.Config) {window.MathJax.Hub.Config({SVG: {font: \"STIX-Web\"}});}</script>                <script type=\"text/javascript\">window.PlotlyConfig = {MathJaxConfig: 'local'};</script>\n",
              "        <script src=\"https://cdn.plot.ly/plotly-2.16.1.min.js\"></script>                <div id=\"df2e2140-8dfe-4259-a9ef-ccdd4f9b62ec\" class=\"plotly-graph-div\" style=\"height:525px; width:100%;\"></div>            <script type=\"text/javascript\">                                    window.PLOTLYENV=window.PLOTLYENV || {};                                    if (document.getElementById(\"df2e2140-8dfe-4259-a9ef-ccdd4f9b62ec\")) {                    Plotly.newPlot(                        \"df2e2140-8dfe-4259-a9ef-ccdd4f9b62ec\",                        [{\"hovertemplate\":\"<b>%{hovertext}</b><br><br>Full OV Copying Score=%{x}<br>OV Copying Score=%{y}<extra></extra>\",\"hovertext\":[\"L0H0\",\"L0H1\",\"L0H2\",\"L0H3\",\"L0H4\",\"L0H5\",\"L0H6\",\"L0H7\",\"L0H8\",\"L0H9\",\"L0H10\",\"L0H11\",\"L1H0\",\"L1H1\",\"L1H2\",\"L1H3\",\"L1H4\",\"L1H5\",\"L1H6\",\"L1H7\",\"L1H8\",\"L1H9\",\"L1H10\",\"L1H11\",\"L2H0\",\"L2H1\",\"L2H2\",\"L2H3\",\"L2H4\",\"L2H5\",\"L2H6\",\"L2H7\",\"L2H8\",\"L2H9\",\"L2H10\",\"L2H11\",\"L3H0\",\"L3H1\",\"L3H2\",\"L3H3\",\"L3H4\",\"L3H5\",\"L3H6\",\"L3H7\",\"L3H8\",\"L3H9\",\"L3H10\",\"L3H11\",\"L4H0\",\"L4H1\",\"L4H2\",\"L4H3\",\"L4H4\",\"L4H5\",\"L4H6\",\"L4H7\",\"L4H8\",\"L4H9\",\"L4H10\",\"L4H11\",\"L5H0\",\"L5H1\",\"L5H2\",\"L5H3\",\"L5H4\",\"L5H5\",\"L5H6\",\"L5H7\",\"L5H8\",\"L5H9\",\"L5H10\",\"L5H11\",\"L6H0\",\"L6H1\",\"L6H2\",\"L6H3\",\"L6H4\",\"L6H5\",\"L6H6\",\"L6H7\",\"L6H8\",\"L6H9\",\"L6H10\",\"L6H11\",\"L7H0\",\"L7H1\",\"L7H2\",\"L7H3\",\"L7H4\",\"L7H5\",\"L7H6\",\"L7H7\",\"L7H8\",\"L7H9\",\"L7H10\",\"L7H11\",\"L8H0\",\"L8H1\",\"L8H2\",\"L8H3\",\"L8H4\",\"L8H5\",\"L8H6\",\"L8H7\",\"L8H8\",\"L8H9\",\"L8H10\",\"L8H11\",\"L9H0\",\"L9H1\",\"L9H2\",\"L9H3\",\"L9H4\",\"L9H5\",\"L9H6\",\"L9H7\",\"L9H8\",\"L9H9\",\"L9H10\",\"L9H11\",\"L10H0\",\"L10H1\",\"L10H2\",\"L10H3\",\"L10H4\",\"L10H5\",\"L10H6\",\"L10H7\",\"L10H8\",\"L10H9\",\"L10H10\",\"L10H11\",\"L11H0\",\"L11H1\",\"L11H2\",\"L11H3\",\"L11H4\",\"L11H5\",\"L11H6\",\"L11H7\",\"L11H8\",\"L11H9\",\"L11H10\",\"L11H11\"],\"legendgroup\":\"\",\"marker\":{\"color\":\"#636efa\",\"symbol\":\"circle\"},\"mode\":\"markers\",\"name\":\"\",\"orientation\":\"v\",\"showlegend\":false,\"x\":[0.8356366,0.58535385,0.5105842,0.78433764,0.8644159,0.70265853,0.8969925,0.5868824,0.42486504,-0.16337514,0.46268544,0.27605426,-0.052920163,-0.3177313,-0.48105782,-0.7838066,-0.63602084,-0.77586824,0.96818024,0.81191146,-0.75104624,-0.68784463,-0.64298844,-0.99858564,-0.65983284,0.9152503,0.54614985,-0.4874397,0.7720561,-0.7541063,-0.847245,-0.6948985,-0.1557513,0.24442284,-0.91066235,-0.94391507,0.6486897,-0.5592913,0.5935595,0.7843037,-0.8150344,0.6130046,0.16785872,0.3519588,-0.6837264,0.22237684,-0.99292195,0.65358186,0.5740951,0.3640131,0.0960908,0.93596244,-0.9228775,0.61910796,-0.33572662,-0.998465,0.6448632,0.8468657,-0.7557656,0.95279706,0.7326544,0.53241664,0.97326714,0.7239247,0.25538945,0.81584096,0.66557914,0.9287099,-0.5660435,-0.89087445,0.98342353,-0.99811804,0.96986926,0.7439671,-0.35639316,0.6022988,0.9708116,-0.9278276,-0.9962316,0.8345208,0.9714328,0.8158544,0.5902574,0.8199346,0.98202264,0.9859328,0.51524574,-0.56105167,0.96636665,0.9495159,-0.52048147,0.31047505,0.9859083,0.7797459,0.6738534,0.39197388,-0.9062039,0.11750999,0.8077877,0.4169305,0.9829014,0.9902303,0.7847102,0.994563,0.9868026,-0.26804435,-0.99088675,0.74579275,0.9906192,-0.18231122,0.97578365,0.99867505,0.25443316,-0.9544061,0.5869243,-0.23537976,0.9550504,0.25511968,0.992987,0.090525985,0.9707273,0.6956093,0.6280023,0.79028654,0.934384,0.98957944,0.94362825,-0.10834958,-0.3431112,0.99867094,0.50867337,0.99495095,0.8283133,0.9432441,0.9491768,0.9995353,0.57123184,0.8055236,0.67818654,0.8272576,0.8314806,0.8778659,0.99449587,0.99738663],\"xaxis\":\"x\",\"y\":[0.777501,0.3527268,0.2596186,0.66702574,0.8384258,0.5584432,0.8444747,0.41379097,0.24488935,0.028157508,0.35840985,0.16288288,-0.4541911,-0.6529327,-0.548457,-0.79903686,-0.7736425,-0.85225815,0.97743237,0.6626251,-0.73032224,-0.70070213,-0.6946625,-0.99967235,-0.78371626,0.89677584,0.4750953,-0.6671974,0.7881463,-0.854775,-0.9054185,-0.57493836,-0.32175106,-0.028594071,-0.92476183,-0.9699269,0.58640355,-0.7614349,0.59716946,0.7854394,-0.87888825,0.39087448,0.04473867,0.11028006,-0.8169987,0.22129549,-0.99395794,0.5774401,0.52547896,0.30490145,-0.1072914,0.94331515,-0.931443,0.5273629,-0.4264709,-0.9984429,0.52967566,0.8604294,-0.88950515,0.955697,0.66291875,0.42956945,0.9736858,0.65554816,0.12201875,0.7442768,0.5037956,0.95253587,-0.65071666,-0.931628,0.97915107,-0.99725866,0.9613031,0.75017786,-0.38066593,0.64297867,0.95577693,-0.9428839,-0.994808,0.7852987,0.9657302,0.70730156,0.36872303,0.81280106,0.9659483,0.9730121,0.3190061,-0.30290532,0.97909546,0.9357923,-0.5550317,-0.00546646,0.9867777,0.82495666,0.5664299,0.10005281,-0.9464487,-0.2547201,0.6522326,0.14152558,0.98841417,0.98605835,0.6949271,0.9901811,0.97912025,-0.2359553,-0.98207104,0.65066874,0.9895943,-0.29178143,0.9714024,0.9951602,0.18783762,-0.94609374,0.47801915,-0.24891911,0.94370985,0.11866241,0.99412435,-0.38088188,0.9564488,0.5542725,0.4211806,0.66287893,0.8659593,0.99371177,0.9069077,0.39811078,-0.41342166,0.99719155,0.34596682,0.9938656,0.58912665,0.9313741,0.9268401,0.9993564,0.62275416,0.8463948,0.6584346,0.8423125,0.29784963,0.8728679,0.99631435,0.98675257],\"yaxis\":\"y\",\"type\":\"scatter\"}],                        {\"template\":{\"data\":{\"histogram2dcontour\":[{\"type\":\"histogram2dcontour\",\"colorbar\":{\"outlinewidth\":0,\"ticks\":\"\"},\"colorscale\":[[0.0,\"#0d0887\"],[0.1111111111111111,\"#46039f\"],[0.2222222222222222,\"#7201a8\"],[0.3333333333333333,\"#9c179e\"],[0.4444444444444444,\"#bd3786\"],[0.5555555555555556,\"#d8576b\"],[0.6666666666666666,\"#ed7953\"],[0.7777777777777778,\"#fb9f3a\"],[0.8888888888888888,\"#fdca26\"],[1.0,\"#f0f921\"]]}],\"choropleth\":[{\"type\":\"choropleth\",\"colorbar\":{\"outlinewidth\":0,\"ticks\":\"\"}}],\"histogram2d\":[{\"type\":\"histogram2d\",\"colorbar\":{\"outlinewidth\":0,\"ticks\":\"\"},\"colorscale\":[[0.0,\"#0d0887\"],[0.1111111111111111,\"#46039f\"],[0.2222222222222222,\"#7201a8\"],[0.3333333333333333,\"#9c179e\"],[0.4444444444444444,\"#bd3786\"],[0.5555555555555556,\"#d8576b\"],[0.6666666666666666,\"#ed7953\"],[0.7777777777777778,\"#fb9f3a\"],[0.8888888888888888,\"#fdca26\"],[1.0,\"#f0f921\"]]}],\"heatmap\":[{\"type\":\"heatmap\",\"colorbar\":{\"outlinewidth\":0,\"ticks\":\"\"},\"colorscale\":[[0.0,\"#0d0887\"],[0.1111111111111111,\"#46039f\"],[0.2222222222222222,\"#7201a8\"],[0.3333333333333333,\"#9c179e\"],[0.4444444444444444,\"#bd3786\"],[0.5555555555555556,\"#d8576b\"],[0.6666666666666666,\"#ed7953\"],[0.7777777777777778,\"#fb9f3a\"],[0.8888888888888888,\"#fdca26\"],[1.0,\"#f0f921\"]]}],\"heatmapgl\":[{\"type\":\"heatmapgl\",\"colorbar\":{\"outlinewidth\":0,\"ticks\":\"\"},\"colorscale\":[[0.0,\"#0d0887\"],[0.1111111111111111,\"#46039f\"],[0.2222222222222222,\"#7201a8\"],[0.3333333333333333,\"#9c179e\"],[0.4444444444444444,\"#bd3786\"],[0.5555555555555556,\"#d8576b\"],[0.6666666666666666,\"#ed7953\"],[0.7777777777777778,\"#fb9f3a\"],[0.8888888888888888,\"#fdca26\"],[1.0,\"#f0f921\"]]}],\"contourcarpet\":[{\"type\":\"contourcarpet\",\"colorbar\":{\"outlinewidth\":0,\"ticks\":\"\"}}],\"contour\":[{\"type\":\"contour\",\"colorbar\":{\"outlinewidth\":0,\"ticks\":\"\"},\"colorscale\":[[0.0,\"#0d0887\"],[0.1111111111111111,\"#46039f\"],[0.2222222222222222,\"#7201a8\"],[0.3333333333333333,\"#9c179e\"],[0.4444444444444444,\"#bd3786\"],[0.5555555555555556,\"#d8576b\"],[0.6666666666666666,\"#ed7953\"],[0.7777777777777778,\"#fb9f3a\"],[0.8888888888888888,\"#fdca26\"],[1.0,\"#f0f921\"]]}],\"surface\":[{\"type\":\"surface\",\"colorbar\":{\"outlinewidth\":0,\"ticks\":\"\"},\"colorscale\":[[0.0,\"#0d0887\"],[0.1111111111111111,\"#46039f\"],[0.2222222222222222,\"#7201a8\"],[0.3333333333333333,\"#9c179e\"],[0.4444444444444444,\"#bd3786\"],[0.5555555555555556,\"#d8576b\"],[0.6666666666666666,\"#ed7953\"],[0.7777777777777778,\"#fb9f3a\"],[0.8888888888888888,\"#fdca26\"],[1.0,\"#f0f921\"]]}],\"mesh3d\":[{\"type\":\"mesh3d\",\"colorbar\":{\"outlinewidth\":0,\"ticks\":\"\"}}],\"scatter\":[{\"fillpattern\":{\"fillmode\":\"overlay\",\"size\":10,\"solidity\":0.2},\"type\":\"scatter\"}],\"parcoords\":[{\"type\":\"parcoords\",\"line\":{\"colorbar\":{\"outlinewidth\":0,\"ticks\":\"\"}}}],\"scatterpolargl\":[{\"type\":\"scatterpolargl\",\"marker\":{\"colorbar\":{\"outlinewidth\":0,\"ticks\":\"\"}}}],\"bar\":[{\"error_x\":{\"color\":\"#2a3f5f\"},\"error_y\":{\"color\":\"#2a3f5f\"},\"marker\":{\"line\":{\"color\":\"#E5ECF6\",\"width\":0.5},\"pattern\":{\"fillmode\":\"overlay\",\"size\":10,\"solidity\":0.2}},\"type\":\"bar\"}],\"scattergeo\":[{\"type\":\"scattergeo\",\"marker\":{\"colorbar\":{\"outlinewidth\":0,\"ticks\":\"\"}}}],\"scatterpolar\":[{\"type\":\"scatterpolar\",\"marker\":{\"colorbar\":{\"outlinewidth\":0,\"ticks\":\"\"}}}],\"histogram\":[{\"marker\":{\"pattern\":{\"fillmode\":\"overlay\",\"size\":10,\"solidity\":0.2}},\"type\":\"histogram\"}],\"scattergl\":[{\"type\":\"scattergl\",\"marker\":{\"colorbar\":{\"outlinewidth\":0,\"ticks\":\"\"}}}],\"scatter3d\":[{\"type\":\"scatter3d\",\"line\":{\"colorbar\":{\"outlinewidth\":0,\"ticks\":\"\"}},\"marker\":{\"colorbar\":{\"outlinewidth\":0,\"ticks\":\"\"}}}],\"scattermapbox\":[{\"type\":\"scattermapbox\",\"marker\":{\"colorbar\":{\"outlinewidth\":0,\"ticks\":\"\"}}}],\"scatterternary\":[{\"type\":\"scatterternary\",\"marker\":{\"colorbar\":{\"outlinewidth\":0,\"ticks\":\"\"}}}],\"scattercarpet\":[{\"type\":\"scattercarpet\",\"marker\":{\"colorbar\":{\"outlinewidth\":0,\"ticks\":\"\"}}}],\"carpet\":[{\"aaxis\":{\"endlinecolor\":\"#2a3f5f\",\"gridcolor\":\"white\",\"linecolor\":\"white\",\"minorgridcolor\":\"white\",\"startlinecolor\":\"#2a3f5f\"},\"baxis\":{\"endlinecolor\":\"#2a3f5f\",\"gridcolor\":\"white\",\"linecolor\":\"white\",\"minorgridcolor\":\"white\",\"startlinecolor\":\"#2a3f5f\"},\"type\":\"carpet\"}],\"table\":[{\"cells\":{\"fill\":{\"color\":\"#EBF0F8\"},\"line\":{\"color\":\"white\"}},\"header\":{\"fill\":{\"color\":\"#C8D4E3\"},\"line\":{\"color\":\"white\"}},\"type\":\"table\"}],\"barpolar\":[{\"marker\":{\"line\":{\"color\":\"#E5ECF6\",\"width\":0.5},\"pattern\":{\"fillmode\":\"overlay\",\"size\":10,\"solidity\":0.2}},\"type\":\"barpolar\"}],\"pie\":[{\"automargin\":true,\"type\":\"pie\"}]},\"layout\":{\"autotypenumbers\":\"strict\",\"colorway\":[\"#636efa\",\"#EF553B\",\"#00cc96\",\"#ab63fa\",\"#FFA15A\",\"#19d3f3\",\"#FF6692\",\"#B6E880\",\"#FF97FF\",\"#FECB52\"],\"font\":{\"color\":\"#2a3f5f\"},\"hovermode\":\"closest\",\"hoverlabel\":{\"align\":\"left\"},\"paper_bgcolor\":\"white\",\"plot_bgcolor\":\"#E5ECF6\",\"polar\":{\"bgcolor\":\"#E5ECF6\",\"angularaxis\":{\"gridcolor\":\"white\",\"linecolor\":\"white\",\"ticks\":\"\"},\"radialaxis\":{\"gridcolor\":\"white\",\"linecolor\":\"white\",\"ticks\":\"\"}},\"ternary\":{\"bgcolor\":\"#E5ECF6\",\"aaxis\":{\"gridcolor\":\"white\",\"linecolor\":\"white\",\"ticks\":\"\"},\"baxis\":{\"gridcolor\":\"white\",\"linecolor\":\"white\",\"ticks\":\"\"},\"caxis\":{\"gridcolor\":\"white\",\"linecolor\":\"white\",\"ticks\":\"\"}},\"coloraxis\":{\"colorbar\":{\"outlinewidth\":0,\"ticks\":\"\"}},\"colorscale\":{\"sequential\":[[0.0,\"#0d0887\"],[0.1111111111111111,\"#46039f\"],[0.2222222222222222,\"#7201a8\"],[0.3333333333333333,\"#9c179e\"],[0.4444444444444444,\"#bd3786\"],[0.5555555555555556,\"#d8576b\"],[0.6666666666666666,\"#ed7953\"],[0.7777777777777778,\"#fb9f3a\"],[0.8888888888888888,\"#fdca26\"],[1.0,\"#f0f921\"]],\"sequentialminus\":[[0.0,\"#0d0887\"],[0.1111111111111111,\"#46039f\"],[0.2222222222222222,\"#7201a8\"],[0.3333333333333333,\"#9c179e\"],[0.4444444444444444,\"#bd3786\"],[0.5555555555555556,\"#d8576b\"],[0.6666666666666666,\"#ed7953\"],[0.7777777777777778,\"#fb9f3a\"],[0.8888888888888888,\"#fdca26\"],[1.0,\"#f0f921\"]],\"diverging\":[[0,\"#8e0152\"],[0.1,\"#c51b7d\"],[0.2,\"#de77ae\"],[0.3,\"#f1b6da\"],[0.4,\"#fde0ef\"],[0.5,\"#f7f7f7\"],[0.6,\"#e6f5d0\"],[0.7,\"#b8e186\"],[0.8,\"#7fbc41\"],[0.9,\"#4d9221\"],[1,\"#276419\"]]},\"xaxis\":{\"gridcolor\":\"white\",\"linecolor\":\"white\",\"ticks\":\"\",\"title\":{\"standoff\":15},\"zerolinecolor\":\"white\",\"automargin\":true,\"zerolinewidth\":2},\"yaxis\":{\"gridcolor\":\"white\",\"linecolor\":\"white\",\"ticks\":\"\",\"title\":{\"standoff\":15},\"zerolinecolor\":\"white\",\"automargin\":true,\"zerolinewidth\":2},\"scene\":{\"xaxis\":{\"backgroundcolor\":\"#E5ECF6\",\"gridcolor\":\"white\",\"linecolor\":\"white\",\"showbackground\":true,\"ticks\":\"\",\"zerolinecolor\":\"white\",\"gridwidth\":2},\"yaxis\":{\"backgroundcolor\":\"#E5ECF6\",\"gridcolor\":\"white\",\"linecolor\":\"white\",\"showbackground\":true,\"ticks\":\"\",\"zerolinecolor\":\"white\",\"gridwidth\":2},\"zaxis\":{\"backgroundcolor\":\"#E5ECF6\",\"gridcolor\":\"white\",\"linecolor\":\"white\",\"showbackground\":true,\"ticks\":\"\",\"zerolinecolor\":\"white\",\"gridwidth\":2}},\"shapedefaults\":{\"line\":{\"color\":\"#2a3f5f\"}},\"annotationdefaults\":{\"arrowcolor\":\"#2a3f5f\",\"arrowhead\":0,\"arrowwidth\":1},\"geo\":{\"bgcolor\":\"white\",\"landcolor\":\"#E5ECF6\",\"subunitcolor\":\"white\",\"showland\":true,\"showlakes\":true,\"lakecolor\":\"white\"},\"title\":{\"x\":0.05},\"mapbox\":{\"style\":\"light\"}}},\"xaxis\":{\"anchor\":\"y\",\"domain\":[0.0,1.0],\"title\":{\"text\":\"Full OV Copying Score\"}},\"yaxis\":{\"anchor\":\"x\",\"domain\":[0.0,1.0],\"title\":{\"text\":\"OV Copying Score\"}},\"legend\":{\"tracegroupgap\":0},\"title\":{\"text\":\"OV Copying Score for each head in GPT-2 Small\"}},                        {\"responsive\": true}                    ).then(function(){\n",
              "                            \n",
              "var gd = document.getElementById('df2e2140-8dfe-4259-a9ef-ccdd4f9b62ec');\n",
              "var x = new MutationObserver(function (mutations, observer) {{\n",
              "        var display = window.getComputedStyle(gd).display;\n",
              "        if (!display || display === 'none') {{\n",
              "            console.log([gd, 'removed!']);\n",
              "            Plotly.purge(gd);\n",
              "            observer.disconnect();\n",
              "        }}\n",
              "}});\n",
              "\n",
              "// Listen for the removal of the full notebook cells\n",
              "var notebookContainer = gd.closest('#notebook-container');\n",
              "if (notebookContainer) {{\n",
              "    x.observe(notebookContainer, {childList: true});\n",
              "}}\n",
              "\n",
              "// Listen for the clearing of the current output cell\n",
              "var outputEl = gd.closest('.output');\n",
              "if (outputEl) {{\n",
              "    x.observe(outputEl, {childList: true});\n",
              "}}\n",
              "\n",
              "                        })                };                            </script>        </div>\n",
              "</body>\n",
              "</html>"
            ]
          },
          "metadata": {},
          "output_type": "display_data"
        }
      ],
      "source": [
        "scatter(x=full_OV_copying_score.flatten(), y=OV_copying_score.flatten(), hover_name=[f\"L{layer}H{head}\" for layer in range(12) for head in range(12)], title=\"OV Copying Score for each head in GPT-2 Small\", xaxis=\"Full OV Copying Score\", yaxis=\"OV Copying Score\")"
      ]
    },
    {
      "cell_type": "code",
      "execution_count": null,
      "metadata": {
        "id": "bFhsTxvRyWSM",
        "outputId": "c596198c-c342-408b-9b7e-a454f30cd0ec"
      },
      "outputs": [
        {
          "name": "stdout",
          "output_type": "stream",
          "text": [
            "Token 256 - the most common pair of ASCII characters: | t|\n",
            "De-Tokenizing the example tokens: <|endoftext|>The first thing you need to figure out is *how* things are tokenized. `model.to_str_tokens` splits a string into the tokens *as a list of substrings*, and so lets you explore what the text looks like. To demonstrate this, let's use it on this paragraph.\n"
          ]
        }
      ],
      "source": [
        "print(f\"Token 256 - the most common pair of ASCII characters: |{model.to_string(256)}|\")\n",
        "# Squeeze means to remove dimensions of length 1. \n",
        "# Here, that removes the dummy batch dimension so it's a rank 1 tensor and returns a string\n",
        "# Rank 2 tensors map to a list of strings\n",
        "print(f\"De-Tokenizing the example tokens: {model.to_string(example_text_tokens.squeeze())}\")"
      ]
    },
    {
      "cell_type": "markdown",
      "metadata": {
        "id": "D9NbaA7uyWSN"
      },
      "source": [
        "## Generating Text"
      ]
    },
    {
      "cell_type": "markdown",
      "metadata": {
        "id": "UPLGAqfQyWSN"
      },
      "source": [
        "TransformerLens also has basic text generation functionality, which can be useful for generally exploring what the model is capable of (thanks to Ansh Radhakrishnan for adding this!). This is pretty rough functionality, and where possible I recommend using more established libraries like HuggingFace for this."
      ]
    },
    {
      "cell_type": "code",
      "execution_count": null,
      "metadata": {
        "id": "vg9vfl2WyWSN",
        "outputId": "70f36616-33d0-4d33-98f8-d6960a1031b0",
        "colab": {
          "referenced_widgets": [
            "9c541056beba477db0a272faec9231b5"
          ]
        }
      },
      "outputs": [
        {
          "data": {
            "application/vnd.jupyter.widget-view+json": {
              "model_id": "9c541056beba477db0a272faec9231b5",
              "version_major": 2,
              "version_minor": 0
            },
            "text/plain": [
              "  0%|          | 0/50 [00:00<?, ?it/s]"
            ]
          },
          "metadata": {},
          "output_type": "display_data"
        },
        {
          "data": {
            "text/plain": [
              "'(CNN) President Barack Obama caught in embarrassing new scandal\\n\\nCNN reported Wednesday that the former president was charged with lying to the FBI about his relationship with a Russian employee.\\n\\nThe FBI said in a statement that it had \"conducted the investigation\" into the matter.\\n\\nObama has pleaded not'"
            ]
          },
          "execution_count": 52,
          "metadata": {},
          "output_type": "execute_result"
        }
      ],
      "source": [
        "model.generate(\"(CNN) President Barack Obama caught in embarrassing new scandal\\n\", max_new_tokens=50, temperature=0.7, prepend_bos=True)"
      ]
    },
    {
      "cell_type": "markdown",
      "metadata": {
        "id": "cQ3gE678yWSN"
      },
      "source": [
        "## Hook Points\n",
        "\n",
        "The key part of TransformerLens that lets us access and edit intermediate activations are the HookPoints around every model activation. Importantly, this technique will work for *any* model architecture, not just transformers, so long as you're able to edit the model code to add in HookPoints! This is essentially a lightweight library bundled with TransformerLens that should let you take an arbitrary model and make it easier to study. "
      ]
    },
    {
      "cell_type": "markdown",
      "metadata": {
        "id": "zm4T95HjyWSN"
      },
      "source": [
        "This is implemented by having a HookPoint layer. Each transformer component has a HookPoint for every activation, which wraps around that activation. The HookPoint acts as an identity function, but has a variety of helper functions that allows us to put PyTorch hooks in to edit and access the relevant activation. \n",
        "\n",
        "There is also a `HookedRootModule` class - this is a utility class that the root module should inherit from (root module = the model we run) - it has several utility functions for using hooks well, notably `reset_hooks`, `run_with_cache` and `run_with_hooks`. \n",
        "\n",
        "The default interface is the `run_with_hooks` function on the root module, which lets us run a forwards pass on the model, and pass on a list of hooks paired with layer names to run on that pass. \n",
        "\n",
        "The syntax for a hook is `function(activation, hook)` where `activation` is the activation the hook is wrapped around, and `hook` is the `HookPoint` class the function is attached to. If the function returns a new activation or edits the activation in-place, that replaces the old one, if it returns None then the activation remains as is.\n"
      ]
    },
    {
      "cell_type": "markdown",
      "metadata": {
        "id": "S23WhfRGyWSN"
      },
      "source": [
        "### Toy Example"
      ]
    },
    {
      "cell_type": "markdown",
      "metadata": {
        "id": "d3dtCw5LyWSN"
      },
      "source": [
        "\n",
        "Here's a simple example of defining a small network with HookPoints:\n",
        "\n",
        "We define a basic network with two layers that each take a scalar input $x$, square it, and add a constant:\n",
        "$x_0=x$, $x_1=x_0^2+3$, $x_2=x_1^2-4$.\n",
        "\n",
        "We wrap the input, each layer's output, and the intermediate value of each layer (the square) in a hook point.\n",
        "\n"
      ]
    },
    {
      "cell_type": "code",
      "execution_count": null,
      "metadata": {
        "id": "rMSWkqhayWSN"
      },
      "outputs": [],
      "source": [
        "\n",
        "from transformer_lens.hook_points import HookedRootModule, HookPoint\n",
        "\n",
        "\n",
        "class SquareThenAdd(nn.Module):\n",
        "    def __init__(self, offset):\n",
        "        super().__init__()\n",
        "        self.offset = nn.Parameter(torch.tensor(offset))\n",
        "        self.hook_square = HookPoint()\n",
        "\n",
        "    def forward(self, x):\n",
        "        # The hook_square doesn't change the value, but lets us access it\n",
        "        square = self.hook_square(x * x)\n",
        "        return self.offset + square\n",
        "\n",
        "\n",
        "class TwoLayerModel(HookedRootModule):\n",
        "    def __init__(self):\n",
        "        super().__init__()\n",
        "        self.layer1 = SquareThenAdd(3.0)\n",
        "        self.layer2 = SquareThenAdd(-4.0)\n",
        "        self.hook_in = HookPoint()\n",
        "        self.hook_mid = HookPoint()\n",
        "        self.hook_out = HookPoint()\n",
        "\n",
        "        # We need to call the setup function of HookedRootModule to build an\n",
        "        # internal dictionary of modules and hooks, and to give each hook a name\n",
        "        super().setup()\n",
        "\n",
        "    def forward(self, x):\n",
        "        # We wrap the input and each layer's output in a hook - they leave the\n",
        "        # value unchanged (unless there's a hook added to explicitly change it),\n",
        "        # but allow us to access it.\n",
        "        x_in = self.hook_in(x)\n",
        "        x_mid = self.hook_mid(self.layer1(x_in))\n",
        "        x_out = self.hook_out(self.layer2(x_mid))\n",
        "        return x_out\n",
        "\n",
        "\n",
        "model = TwoLayerModel()\n"
      ]
    },
    {
      "cell_type": "markdown",
      "metadata": {
        "id": "My8TWYocyWSO"
      },
      "source": [
        "\n",
        "We can add a cache, to save the activation at each hook point\n",
        "\n",
        "(There's a custom `run_with_cache` function on the root module as a convenience, which is a wrapper around model.forward that return model_out, cache_object - we could also manually add hooks with `run_with_hooks` that store activations in a global caching dictionary. This is often useful if we only want to store, eg, subsets or functions of some activations.)\n"
      ]
    },
    {
      "cell_type": "code",
      "execution_count": null,
      "metadata": {
        "id": "WagYDdbVyWSO",
        "outputId": "793f3d71-37ee-4e58-a366-744a561d397d"
      },
      "outputs": [
        {
          "name": "stdout",
          "output_type": "stream",
          "text": [
            "Model output: 780.0\n",
            "Value cached at hook hook_in 5.0\n",
            "Value cached at hook layer1.hook_square 25.0\n",
            "Value cached at hook hook_mid 28.0\n",
            "Value cached at hook layer2.hook_square 784.0\n",
            "Value cached at hook hook_out 780.0\n"
          ]
        }
      ],
      "source": [
        "\n",
        "out, cache = model.run_with_cache(torch.tensor(5.0))\n",
        "print(\"Model output:\", out.item())\n",
        "for key in cache:\n",
        "    print(f\"Value cached at hook {key}\", cache[key].item())\n",
        "\n"
      ]
    },
    {
      "cell_type": "markdown",
      "metadata": {
        "id": "rNltVDWOyWSO"
      },
      "source": [
        "\n",
        "We can also use hooks to intervene on activations - eg, we can set the intermediate value in layer 2 to zero to change the output to -5\n"
      ]
    },
    {
      "cell_type": "code",
      "execution_count": null,
      "metadata": {
        "id": "0eKUM76-yWSP",
        "outputId": "eeac300e-7eaf-493f-ea07-4679e5a97bef"
      },
      "outputs": [
        {
          "name": "stdout",
          "output_type": "stream",
          "text": [
            "layer2.hook_square\n",
            "Output after intervening on layer2.hook_scaled -4.0\n"
          ]
        }
      ],
      "source": [
        "\n",
        "def set_to_zero_hook(tensor, hook):\n",
        "    print(hook.name)\n",
        "    return torch.tensor(0.0)\n",
        "\n",
        "\n",
        "print(\n",
        "    \"Output after intervening on layer2.hook_scaled\",\n",
        "    model.run_with_hooks(\n",
        "        torch.tensor(5.0), fwd_hooks=[(\"layer2.hook_square\", set_to_zero_hook)]\n",
        "    ).item(),\n",
        ")"
      ]
    },
    {
      "cell_type": "markdown",
      "metadata": {
        "id": "SNdr7HOByWSQ"
      },
      "source": [
        "## Loading Pre-Trained Checkpoints\n",
        "\n",
        "There are a lot of interesting questions combining mechanistic interpretability and training dynamics - analysing model capabilities and the underlying circuits that make them possible, and how these change as we train the model. \n",
        "\n",
        "TransformerLens supports these by having several model families with checkpoints throughout training. `HookedTransformer.from_pretrained` can load a checkpoint of a model with the `checkpoint_index` (the label 0 to `num_checkpoints-1`) or `checkpoint_value` (the step or token number, depending on how the checkpoints were labelled)."
      ]
    },
    {
      "cell_type": "markdown",
      "metadata": {
        "id": "JAvPslFPyWSQ"
      },
      "source": [
        "\n",
        "Available models:\n",
        "* All of my interpretability-friendly models have checkpoints available, including:\n",
        "    * The toy models - `attn-only`, `solu`, `gelu` 1L to 4L\n",
        "        * These have ~200 checkpoints, taken on a piecewise linear schedule (more checkpoints near the start of training), up to 22B tokens. Labelled by number of tokens seen.\n",
        "    * The SoLU models trained on 80% Web Text and 20% Python Code (`solu-6l` to `solu-12l`)\n",
        "        * Same checkpoint schedule as the toy models, this time up to 30B tokens\n",
        "    * The SoLU models trained on the pile (`solu-1l-pile` to `solu-12l-pile`)\n",
        "        * These have ~100 checkpoints, taken on a linear schedule, up to 15B tokens. Labelled by number of steps.\n",
        "        * The 12L training crashed around 11B tokens, so is truncated.\n",
        "* The Stanford Centre for Research of Foundation Models trained 5 GPT-2 Small sized and 5 GPT-2 Medium sized models (`stanford-gpt2-small-a` to `e` and `stanford-gpt2-medium-a` to `e`)\n",
        "    * 600 checkpoints, taken on a piecewise linear schedule, labelled by the number of steps."
      ]
    },
    {
      "cell_type": "markdown",
      "metadata": {
        "id": "G-baQKG1yWSQ"
      },
      "source": [
        "The checkpoint structure and labels is somewhat messy and ad-hoc, so I mostly recommend using the `checkpoint_index` syntax (where you can just count from 0 to the number of checkpoints) rather than `checkpoint_value` syntax (where you need to know the checkpoint schedule, and whether it was labelled with the number of tokens or steps). The helper function `get_checkpoint_labels` tells you the checkpoint schedule for a given model - ie what point was each checkpoint taken at, and what type of label was used.\n",
        "\n",
        "Here are graphs of the schedules for several checkpointed models: (note that the first 3 use a log scale, latter 2 use a linear scale)"
      ]
    },
    {
      "cell_type": "code",
      "execution_count": null,
      "metadata": {
        "id": "MJO9E_RFyWSQ",
        "outputId": "26853bf2-fb85-4e62-c5dc-05972d4f14d8"
      },
      "outputs": [
        {
          "data": {
            "text/html": [
              "<html>\n",
              "<head><meta charset=\"utf-8\" /></head>\n",
              "<body>\n",
              "    <div>            <script src=\"https://cdnjs.cloudflare.com/ajax/libs/mathjax/2.7.5/MathJax.js?config=TeX-AMS-MML_SVG\"></script><script type=\"text/javascript\">if (window.MathJax && window.MathJax.Hub && window.MathJax.Hub.Config) {window.MathJax.Hub.Config({SVG: {font: \"STIX-Web\"}});}</script>                <script type=\"text/javascript\">window.PlotlyConfig = {MathJaxConfig: 'local'};</script>\n",
              "        <script src=\"https://cdn.plot.ly/plotly-2.16.1.min.js\"></script>                <div id=\"c7196983-521b-4ec3-a93d-e9a83d4888ad\" class=\"plotly-graph-div\" style=\"height:525px; width:100%;\"></div>            <script type=\"text/javascript\">                                    window.PLOTLYENV=window.PLOTLYENV || {};                                    if (document.getElementById(\"c7196983-521b-4ec3-a93d-e9a83d4888ad\")) {                    Plotly.newPlot(                        \"c7196983-521b-4ec3-a93d-e9a83d4888ad\",                        [{\"hovertemplate\":\"variable=0<br>index=%{x}<br>value=%{y}<extra></extra>\",\"legendgroup\":\"0\",\"line\":{\"color\":\"#636efa\",\"dash\":\"solid\"},\"marker\":{\"symbol\":\"circle\"},\"mode\":\"markers+lines\",\"name\":\"0\",\"orientation\":\"v\",\"showlegend\":true,\"x\":[0,1,2,3,4,5,6,7,8,9,10,11,12,13,14,15,16,17,18,19,20,21,22,23,24,25,26,27,28,29,30,31,32,33,34,35,36,37,38,39,40,41,42,43,44,45,46,47,48,49,50,51,52,53,54,55,56,57,58,59,60,61,62,63,64,65,66,67,68,69,70,71,72,73,74,75,76,77,78,79,80,81,82,83,84,85,86,87,88,89,90,91,92,93,94,95,96,97,98,99,100,101,102,103,104,105,106,107,108,109,110,111,112,113,114,115,116,117,118,119,120,121,122,123,124,125,126,127,128,129,130,131,132,133,134,135,136,137,138,139,140,141,142,143,144,145,146,147,148,149,150,151,152,153,154,155,156,157,158,159,160,161,162],\"xaxis\":\"x\",\"y\":[262144,2621440,4718592,7077888,9175040,11272192,13631488,15728640,18087936,20185088,22282240,33292288,44302336,55312384,66322432,77332480,88342528,99352576,110362624,121372672,132382720,143392768,154402816,165412864,176422912,187432960,198443008,209453056,220463104,264503296,308281344,352321536,396361728,440401920,484442112,528482304,572522496,616300544,660340736,704380928,748421120,792461312,836501504,880279552,924319744,968359936,1012400128,1056440320,1100480512,1144520704,1188298752,1232338944,1276379136,1320419328,1364459520,1408499712,1452277760,1496317952,1540358144,1584398336,1628438528,1672478720,1716518912,1760296960,1804337152,1848377344,1892417536,1936457728,1980497920,2024275968,2068316160,2112356352,2156396544,2200436736,2420375552,2640314368,2860515328,3080454144,3300392960,3520331776,3740270592,3960471552,4180410368,4400349184,4620288000,4840488960,5060427776,5280366592,5500305408,5720506368,5940445184,6160384000,6380322816,6600523776,6820462592,7040401408,7260340224,7480279040,7700480000,7920418816,8140357632,8360296448,8580497408,8800436224,9020375040,9240313856,9460514816,9680453632,9900392448,10120331264,10340270080,10560471040,10780409856,11000348672,11220287488,11440488448,11660427264,11880366080,12100304896,12320505856,12540444672,12760383488,12980322304,13200523264,13420462080,13640400896,13860339712,14080278528,14300479488,14520418304,14740357120,14960295936,15180496896,15400435712,15620374528,15840313344,16060514304,16280453120,16500391936,16720330752,16940269568,17160470528,17380409344,17600348160,17820286976,18040487936,18260426752,18480365568,18700304384,18920505344,19140444160,19360382976,19580321792,19800522752,20020461568,20240400384,20460339200,20680278016,20900478976,21120417792,21340356608,21560295424,21780496384],\"yaxis\":\"y\",\"type\":\"scatter\"}],                        {\"template\":{\"data\":{\"histogram2dcontour\":[{\"type\":\"histogram2dcontour\",\"colorbar\":{\"outlinewidth\":0,\"ticks\":\"\"},\"colorscale\":[[0.0,\"#0d0887\"],[0.1111111111111111,\"#46039f\"],[0.2222222222222222,\"#7201a8\"],[0.3333333333333333,\"#9c179e\"],[0.4444444444444444,\"#bd3786\"],[0.5555555555555556,\"#d8576b\"],[0.6666666666666666,\"#ed7953\"],[0.7777777777777778,\"#fb9f3a\"],[0.8888888888888888,\"#fdca26\"],[1.0,\"#f0f921\"]]}],\"choropleth\":[{\"type\":\"choropleth\",\"colorbar\":{\"outlinewidth\":0,\"ticks\":\"\"}}],\"histogram2d\":[{\"type\":\"histogram2d\",\"colorbar\":{\"outlinewidth\":0,\"ticks\":\"\"},\"colorscale\":[[0.0,\"#0d0887\"],[0.1111111111111111,\"#46039f\"],[0.2222222222222222,\"#7201a8\"],[0.3333333333333333,\"#9c179e\"],[0.4444444444444444,\"#bd3786\"],[0.5555555555555556,\"#d8576b\"],[0.6666666666666666,\"#ed7953\"],[0.7777777777777778,\"#fb9f3a\"],[0.8888888888888888,\"#fdca26\"],[1.0,\"#f0f921\"]]}],\"heatmap\":[{\"type\":\"heatmap\",\"colorbar\":{\"outlinewidth\":0,\"ticks\":\"\"},\"colorscale\":[[0.0,\"#0d0887\"],[0.1111111111111111,\"#46039f\"],[0.2222222222222222,\"#7201a8\"],[0.3333333333333333,\"#9c179e\"],[0.4444444444444444,\"#bd3786\"],[0.5555555555555556,\"#d8576b\"],[0.6666666666666666,\"#ed7953\"],[0.7777777777777778,\"#fb9f3a\"],[0.8888888888888888,\"#fdca26\"],[1.0,\"#f0f921\"]]}],\"heatmapgl\":[{\"type\":\"heatmapgl\",\"colorbar\":{\"outlinewidth\":0,\"ticks\":\"\"},\"colorscale\":[[0.0,\"#0d0887\"],[0.1111111111111111,\"#46039f\"],[0.2222222222222222,\"#7201a8\"],[0.3333333333333333,\"#9c179e\"],[0.4444444444444444,\"#bd3786\"],[0.5555555555555556,\"#d8576b\"],[0.6666666666666666,\"#ed7953\"],[0.7777777777777778,\"#fb9f3a\"],[0.8888888888888888,\"#fdca26\"],[1.0,\"#f0f921\"]]}],\"contourcarpet\":[{\"type\":\"contourcarpet\",\"colorbar\":{\"outlinewidth\":0,\"ticks\":\"\"}}],\"contour\":[{\"type\":\"contour\",\"colorbar\":{\"outlinewidth\":0,\"ticks\":\"\"},\"colorscale\":[[0.0,\"#0d0887\"],[0.1111111111111111,\"#46039f\"],[0.2222222222222222,\"#7201a8\"],[0.3333333333333333,\"#9c179e\"],[0.4444444444444444,\"#bd3786\"],[0.5555555555555556,\"#d8576b\"],[0.6666666666666666,\"#ed7953\"],[0.7777777777777778,\"#fb9f3a\"],[0.8888888888888888,\"#fdca26\"],[1.0,\"#f0f921\"]]}],\"surface\":[{\"type\":\"surface\",\"colorbar\":{\"outlinewidth\":0,\"ticks\":\"\"},\"colorscale\":[[0.0,\"#0d0887\"],[0.1111111111111111,\"#46039f\"],[0.2222222222222222,\"#7201a8\"],[0.3333333333333333,\"#9c179e\"],[0.4444444444444444,\"#bd3786\"],[0.5555555555555556,\"#d8576b\"],[0.6666666666666666,\"#ed7953\"],[0.7777777777777778,\"#fb9f3a\"],[0.8888888888888888,\"#fdca26\"],[1.0,\"#f0f921\"]]}],\"mesh3d\":[{\"type\":\"mesh3d\",\"colorbar\":{\"outlinewidth\":0,\"ticks\":\"\"}}],\"scatter\":[{\"fillpattern\":{\"fillmode\":\"overlay\",\"size\":10,\"solidity\":0.2},\"type\":\"scatter\"}],\"parcoords\":[{\"type\":\"parcoords\",\"line\":{\"colorbar\":{\"outlinewidth\":0,\"ticks\":\"\"}}}],\"scatterpolargl\":[{\"type\":\"scatterpolargl\",\"marker\":{\"colorbar\":{\"outlinewidth\":0,\"ticks\":\"\"}}}],\"bar\":[{\"error_x\":{\"color\":\"#2a3f5f\"},\"error_y\":{\"color\":\"#2a3f5f\"},\"marker\":{\"line\":{\"color\":\"#E5ECF6\",\"width\":0.5},\"pattern\":{\"fillmode\":\"overlay\",\"size\":10,\"solidity\":0.2}},\"type\":\"bar\"}],\"scattergeo\":[{\"type\":\"scattergeo\",\"marker\":{\"colorbar\":{\"outlinewidth\":0,\"ticks\":\"\"}}}],\"scatterpolar\":[{\"type\":\"scatterpolar\",\"marker\":{\"colorbar\":{\"outlinewidth\":0,\"ticks\":\"\"}}}],\"histogram\":[{\"marker\":{\"pattern\":{\"fillmode\":\"overlay\",\"size\":10,\"solidity\":0.2}},\"type\":\"histogram\"}],\"scattergl\":[{\"type\":\"scattergl\",\"marker\":{\"colorbar\":{\"outlinewidth\":0,\"ticks\":\"\"}}}],\"scatter3d\":[{\"type\":\"scatter3d\",\"line\":{\"colorbar\":{\"outlinewidth\":0,\"ticks\":\"\"}},\"marker\":{\"colorbar\":{\"outlinewidth\":0,\"ticks\":\"\"}}}],\"scattermapbox\":[{\"type\":\"scattermapbox\",\"marker\":{\"colorbar\":{\"outlinewidth\":0,\"ticks\":\"\"}}}],\"scatterternary\":[{\"type\":\"scatterternary\",\"marker\":{\"colorbar\":{\"outlinewidth\":0,\"ticks\":\"\"}}}],\"scattercarpet\":[{\"type\":\"scattercarpet\",\"marker\":{\"colorbar\":{\"outlinewidth\":0,\"ticks\":\"\"}}}],\"carpet\":[{\"aaxis\":{\"endlinecolor\":\"#2a3f5f\",\"gridcolor\":\"white\",\"linecolor\":\"white\",\"minorgridcolor\":\"white\",\"startlinecolor\":\"#2a3f5f\"},\"baxis\":{\"endlinecolor\":\"#2a3f5f\",\"gridcolor\":\"white\",\"linecolor\":\"white\",\"minorgridcolor\":\"white\",\"startlinecolor\":\"#2a3f5f\"},\"type\":\"carpet\"}],\"table\":[{\"cells\":{\"fill\":{\"color\":\"#EBF0F8\"},\"line\":{\"color\":\"white\"}},\"header\":{\"fill\":{\"color\":\"#C8D4E3\"},\"line\":{\"color\":\"white\"}},\"type\":\"table\"}],\"barpolar\":[{\"marker\":{\"line\":{\"color\":\"#E5ECF6\",\"width\":0.5},\"pattern\":{\"fillmode\":\"overlay\",\"size\":10,\"solidity\":0.2}},\"type\":\"barpolar\"}],\"pie\":[{\"automargin\":true,\"type\":\"pie\"}]},\"layout\":{\"autotypenumbers\":\"strict\",\"colorway\":[\"#636efa\",\"#EF553B\",\"#00cc96\",\"#ab63fa\",\"#FFA15A\",\"#19d3f3\",\"#FF6692\",\"#B6E880\",\"#FF97FF\",\"#FECB52\"],\"font\":{\"color\":\"#2a3f5f\"},\"hovermode\":\"closest\",\"hoverlabel\":{\"align\":\"left\"},\"paper_bgcolor\":\"white\",\"plot_bgcolor\":\"#E5ECF6\",\"polar\":{\"bgcolor\":\"#E5ECF6\",\"angularaxis\":{\"gridcolor\":\"white\",\"linecolor\":\"white\",\"ticks\":\"\"},\"radialaxis\":{\"gridcolor\":\"white\",\"linecolor\":\"white\",\"ticks\":\"\"}},\"ternary\":{\"bgcolor\":\"#E5ECF6\",\"aaxis\":{\"gridcolor\":\"white\",\"linecolor\":\"white\",\"ticks\":\"\"},\"baxis\":{\"gridcolor\":\"white\",\"linecolor\":\"white\",\"ticks\":\"\"},\"caxis\":{\"gridcolor\":\"white\",\"linecolor\":\"white\",\"ticks\":\"\"}},\"coloraxis\":{\"colorbar\":{\"outlinewidth\":0,\"ticks\":\"\"}},\"colorscale\":{\"sequential\":[[0.0,\"#0d0887\"],[0.1111111111111111,\"#46039f\"],[0.2222222222222222,\"#7201a8\"],[0.3333333333333333,\"#9c179e\"],[0.4444444444444444,\"#bd3786\"],[0.5555555555555556,\"#d8576b\"],[0.6666666666666666,\"#ed7953\"],[0.7777777777777778,\"#fb9f3a\"],[0.8888888888888888,\"#fdca26\"],[1.0,\"#f0f921\"]],\"sequentialminus\":[[0.0,\"#0d0887\"],[0.1111111111111111,\"#46039f\"],[0.2222222222222222,\"#7201a8\"],[0.3333333333333333,\"#9c179e\"],[0.4444444444444444,\"#bd3786\"],[0.5555555555555556,\"#d8576b\"],[0.6666666666666666,\"#ed7953\"],[0.7777777777777778,\"#fb9f3a\"],[0.8888888888888888,\"#fdca26\"],[1.0,\"#f0f921\"]],\"diverging\":[[0,\"#8e0152\"],[0.1,\"#c51b7d\"],[0.2,\"#de77ae\"],[0.3,\"#f1b6da\"],[0.4,\"#fde0ef\"],[0.5,\"#f7f7f7\"],[0.6,\"#e6f5d0\"],[0.7,\"#b8e186\"],[0.8,\"#7fbc41\"],[0.9,\"#4d9221\"],[1,\"#276419\"]]},\"xaxis\":{\"gridcolor\":\"white\",\"linecolor\":\"white\",\"ticks\":\"\",\"title\":{\"standoff\":15},\"zerolinecolor\":\"white\",\"automargin\":true,\"zerolinewidth\":2},\"yaxis\":{\"gridcolor\":\"white\",\"linecolor\":\"white\",\"ticks\":\"\",\"title\":{\"standoff\":15},\"zerolinecolor\":\"white\",\"automargin\":true,\"zerolinewidth\":2},\"scene\":{\"xaxis\":{\"backgroundcolor\":\"#E5ECF6\",\"gridcolor\":\"white\",\"linecolor\":\"white\",\"showbackground\":true,\"ticks\":\"\",\"zerolinecolor\":\"white\",\"gridwidth\":2},\"yaxis\":{\"backgroundcolor\":\"#E5ECF6\",\"gridcolor\":\"white\",\"linecolor\":\"white\",\"showbackground\":true,\"ticks\":\"\",\"zerolinecolor\":\"white\",\"gridwidth\":2},\"zaxis\":{\"backgroundcolor\":\"#E5ECF6\",\"gridcolor\":\"white\",\"linecolor\":\"white\",\"showbackground\":true,\"ticks\":\"\",\"zerolinecolor\":\"white\",\"gridwidth\":2}},\"shapedefaults\":{\"line\":{\"color\":\"#2a3f5f\"}},\"annotationdefaults\":{\"arrowcolor\":\"#2a3f5f\",\"arrowhead\":0,\"arrowwidth\":1},\"geo\":{\"bgcolor\":\"white\",\"landcolor\":\"#E5ECF6\",\"subunitcolor\":\"white\",\"showland\":true,\"showlakes\":true,\"lakecolor\":\"white\"},\"title\":{\"x\":0.05},\"mapbox\":{\"style\":\"light\"}}},\"xaxis\":{\"anchor\":\"y\",\"domain\":[0.0,1.0],\"title\":{\"text\":\"index\"}},\"yaxis\":{\"anchor\":\"x\",\"domain\":[0.0,1.0],\"title\":{\"text\":\"value\"},\"type\":\"log\"},\"legend\":{\"title\":{\"text\":\"variable\"},\"tracegroupgap\":0},\"title\":{\"text\":\"Checkpoint Values for attn-only-2l (Log scale)\"}},                        {\"responsive\": true}                    ).then(function(){\n",
              "                            \n",
              "var gd = document.getElementById('c7196983-521b-4ec3-a93d-e9a83d4888ad');\n",
              "var x = new MutationObserver(function (mutations, observer) {{\n",
              "        var display = window.getComputedStyle(gd).display;\n",
              "        if (!display || display === 'none') {{\n",
              "            console.log([gd, 'removed!']);\n",
              "            Plotly.purge(gd);\n",
              "            observer.disconnect();\n",
              "        }}\n",
              "}});\n",
              "\n",
              "// Listen for the removal of the full notebook cells\n",
              "var notebookContainer = gd.closest('#notebook-container');\n",
              "if (notebookContainer) {{\n",
              "    x.observe(notebookContainer, {childList: true});\n",
              "}}\n",
              "\n",
              "// Listen for the clearing of the current output cell\n",
              "var outputEl = gd.closest('.output');\n",
              "if (outputEl) {{\n",
              "    x.observe(outputEl, {childList: true});\n",
              "}}\n",
              "\n",
              "                        })                };                            </script>        </div>\n",
              "</body>\n",
              "</html>"
            ]
          },
          "metadata": {},
          "output_type": "display_data"
        },
        {
          "data": {
            "text/html": [
              "<html>\n",
              "<head><meta charset=\"utf-8\" /></head>\n",
              "<body>\n",
              "    <div>            <script src=\"https://cdnjs.cloudflare.com/ajax/libs/mathjax/2.7.5/MathJax.js?config=TeX-AMS-MML_SVG\"></script><script type=\"text/javascript\">if (window.MathJax && window.MathJax.Hub && window.MathJax.Hub.Config) {window.MathJax.Hub.Config({SVG: {font: \"STIX-Web\"}});}</script>                <script type=\"text/javascript\">window.PlotlyConfig = {MathJaxConfig: 'local'};</script>\n",
              "        <script src=\"https://cdn.plot.ly/plotly-2.16.1.min.js\"></script>                <div id=\"6ada1b24-ab2d-4a0e-b3a0-b25c42a2762e\" class=\"plotly-graph-div\" style=\"height:525px; width:100%;\"></div>            <script type=\"text/javascript\">                                    window.PLOTLYENV=window.PLOTLYENV || {};                                    if (document.getElementById(\"6ada1b24-ab2d-4a0e-b3a0-b25c42a2762e\")) {                    Plotly.newPlot(                        \"6ada1b24-ab2d-4a0e-b3a0-b25c42a2762e\",                        [{\"hovertemplate\":\"variable=0<br>index=%{x}<br>value=%{y}<extra></extra>\",\"legendgroup\":\"0\",\"line\":{\"color\":\"#636efa\",\"dash\":\"solid\"},\"marker\":{\"symbol\":\"circle\"},\"mode\":\"markers+lines\",\"name\":\"0\",\"orientation\":\"v\",\"showlegend\":true,\"x\":[0,1,2,3,4,5,6,7,8,9,10,11,12,13,14,15,16,17,18,19,20,21,22,23,24,25,26,27,28,29,30,31,32,33,34,35,36,37,38,39,40,41,42,43,44,45,46,47,48,49,50,51,52,53,54,55,56,57,58,59,60,61,62,63,64,65,66,67,68,69,70,71,72,73,74,75,76,77,78,79,80,81,82,83,84,85,86,87,88,89,90,91,92,93,94,95,96,97,98,99,100,101,102,103,104,105,106,107,108,109,110,111,112,113,114,115,116,117,118,119,120,121,122,123,124,125,126,127,128,129,130,131,132,133,134,135,136,137,138,139,140,141,142,143,144,145,146,147,148,149,150,151,152,153,154,155,156,157,158,159,160,161,162],\"xaxis\":\"x\",\"y\":[196608,3342336,6291456,9240576,12386304,15335424,18284544,21233664,24379392,27328512,30277632,45219840,60358656,75300864,90243072,105381888,120324096,135266304,150208512,165347328,180289536,195231744,210370560,225312768,240254976,255197184,270336000,285278208,300220416,360382464,420347904,480313344,540278784,600244224,660209664,720371712,780337152,840302592,900268032,960233472,1020198912,1080360960,1140326400,1200291840,1260257280,1320222720,1380384768,1440350208,1500315648,1560281088,1620246528,1680211968,1740374016,1800339456,1860304896,1920270336,1980235776,2040201216,2100363264,2160328704,2220294144,2280259584,2340225024,2400387072,2460352512,2520317952,2580283392,2640248832,2700214272,2760376320,2820341760,2880307200,2940272640,3000238080,3300261888,3600285696,3900309504,4200333312,4500357120,4800380928,5100208128,5400231936,5700255744,6000279552,6300303360,6600327168,6900350976,7200374784,7500201984,7800225792,8100249600,8400273408,8700297216,9000321024,9300344832,9600368640,9900392448,10200219648,10500243456,10800267264,11100291072,11400314880,11700338688,12000362496,12300386304,12600213504,12900237312,13200261120,13500284928,13800308736,14100332544,14400356352,14700380160,15000207360,15300231168,15600254976,15900278784,16200302592,16500326400,16800350208,17100374016,17400201216,17700225024,18000248832,18300272640,18600296448,18900320256,19200344064,19500367872,19800391680,20100218880,20400242688,20700266496,21000290304,21300314112,21600337920,21900361728,22200385536,22500212736,22800236544,23100260352,23400284160,23700307968,24000331776,24300355584,24600379392,24900206592,25200230400,25500254208,25800278016,26100301824,26400325632,26700349440,27000373248,27300200448,27600224256,27900248064,28200271872,28500295680,28800319488,29100343296,29400367104,29700390912],\"yaxis\":\"y\",\"type\":\"scatter\"}],                        {\"template\":{\"data\":{\"histogram2dcontour\":[{\"type\":\"histogram2dcontour\",\"colorbar\":{\"outlinewidth\":0,\"ticks\":\"\"},\"colorscale\":[[0.0,\"#0d0887\"],[0.1111111111111111,\"#46039f\"],[0.2222222222222222,\"#7201a8\"],[0.3333333333333333,\"#9c179e\"],[0.4444444444444444,\"#bd3786\"],[0.5555555555555556,\"#d8576b\"],[0.6666666666666666,\"#ed7953\"],[0.7777777777777778,\"#fb9f3a\"],[0.8888888888888888,\"#fdca26\"],[1.0,\"#f0f921\"]]}],\"choropleth\":[{\"type\":\"choropleth\",\"colorbar\":{\"outlinewidth\":0,\"ticks\":\"\"}}],\"histogram2d\":[{\"type\":\"histogram2d\",\"colorbar\":{\"outlinewidth\":0,\"ticks\":\"\"},\"colorscale\":[[0.0,\"#0d0887\"],[0.1111111111111111,\"#46039f\"],[0.2222222222222222,\"#7201a8\"],[0.3333333333333333,\"#9c179e\"],[0.4444444444444444,\"#bd3786\"],[0.5555555555555556,\"#d8576b\"],[0.6666666666666666,\"#ed7953\"],[0.7777777777777778,\"#fb9f3a\"],[0.8888888888888888,\"#fdca26\"],[1.0,\"#f0f921\"]]}],\"heatmap\":[{\"type\":\"heatmap\",\"colorbar\":{\"outlinewidth\":0,\"ticks\":\"\"},\"colorscale\":[[0.0,\"#0d0887\"],[0.1111111111111111,\"#46039f\"],[0.2222222222222222,\"#7201a8\"],[0.3333333333333333,\"#9c179e\"],[0.4444444444444444,\"#bd3786\"],[0.5555555555555556,\"#d8576b\"],[0.6666666666666666,\"#ed7953\"],[0.7777777777777778,\"#fb9f3a\"],[0.8888888888888888,\"#fdca26\"],[1.0,\"#f0f921\"]]}],\"heatmapgl\":[{\"type\":\"heatmapgl\",\"colorbar\":{\"outlinewidth\":0,\"ticks\":\"\"},\"colorscale\":[[0.0,\"#0d0887\"],[0.1111111111111111,\"#46039f\"],[0.2222222222222222,\"#7201a8\"],[0.3333333333333333,\"#9c179e\"],[0.4444444444444444,\"#bd3786\"],[0.5555555555555556,\"#d8576b\"],[0.6666666666666666,\"#ed7953\"],[0.7777777777777778,\"#fb9f3a\"],[0.8888888888888888,\"#fdca26\"],[1.0,\"#f0f921\"]]}],\"contourcarpet\":[{\"type\":\"contourcarpet\",\"colorbar\":{\"outlinewidth\":0,\"ticks\":\"\"}}],\"contour\":[{\"type\":\"contour\",\"colorbar\":{\"outlinewidth\":0,\"ticks\":\"\"},\"colorscale\":[[0.0,\"#0d0887\"],[0.1111111111111111,\"#46039f\"],[0.2222222222222222,\"#7201a8\"],[0.3333333333333333,\"#9c179e\"],[0.4444444444444444,\"#bd3786\"],[0.5555555555555556,\"#d8576b\"],[0.6666666666666666,\"#ed7953\"],[0.7777777777777778,\"#fb9f3a\"],[0.8888888888888888,\"#fdca26\"],[1.0,\"#f0f921\"]]}],\"surface\":[{\"type\":\"surface\",\"colorbar\":{\"outlinewidth\":0,\"ticks\":\"\"},\"colorscale\":[[0.0,\"#0d0887\"],[0.1111111111111111,\"#46039f\"],[0.2222222222222222,\"#7201a8\"],[0.3333333333333333,\"#9c179e\"],[0.4444444444444444,\"#bd3786\"],[0.5555555555555556,\"#d8576b\"],[0.6666666666666666,\"#ed7953\"],[0.7777777777777778,\"#fb9f3a\"],[0.8888888888888888,\"#fdca26\"],[1.0,\"#f0f921\"]]}],\"mesh3d\":[{\"type\":\"mesh3d\",\"colorbar\":{\"outlinewidth\":0,\"ticks\":\"\"}}],\"scatter\":[{\"fillpattern\":{\"fillmode\":\"overlay\",\"size\":10,\"solidity\":0.2},\"type\":\"scatter\"}],\"parcoords\":[{\"type\":\"parcoords\",\"line\":{\"colorbar\":{\"outlinewidth\":0,\"ticks\":\"\"}}}],\"scatterpolargl\":[{\"type\":\"scatterpolargl\",\"marker\":{\"colorbar\":{\"outlinewidth\":0,\"ticks\":\"\"}}}],\"bar\":[{\"error_x\":{\"color\":\"#2a3f5f\"},\"error_y\":{\"color\":\"#2a3f5f\"},\"marker\":{\"line\":{\"color\":\"#E5ECF6\",\"width\":0.5},\"pattern\":{\"fillmode\":\"overlay\",\"size\":10,\"solidity\":0.2}},\"type\":\"bar\"}],\"scattergeo\":[{\"type\":\"scattergeo\",\"marker\":{\"colorbar\":{\"outlinewidth\":0,\"ticks\":\"\"}}}],\"scatterpolar\":[{\"type\":\"scatterpolar\",\"marker\":{\"colorbar\":{\"outlinewidth\":0,\"ticks\":\"\"}}}],\"histogram\":[{\"marker\":{\"pattern\":{\"fillmode\":\"overlay\",\"size\":10,\"solidity\":0.2}},\"type\":\"histogram\"}],\"scattergl\":[{\"type\":\"scattergl\",\"marker\":{\"colorbar\":{\"outlinewidth\":0,\"ticks\":\"\"}}}],\"scatter3d\":[{\"type\":\"scatter3d\",\"line\":{\"colorbar\":{\"outlinewidth\":0,\"ticks\":\"\"}},\"marker\":{\"colorbar\":{\"outlinewidth\":0,\"ticks\":\"\"}}}],\"scattermapbox\":[{\"type\":\"scattermapbox\",\"marker\":{\"colorbar\":{\"outlinewidth\":0,\"ticks\":\"\"}}}],\"scatterternary\":[{\"type\":\"scatterternary\",\"marker\":{\"colorbar\":{\"outlinewidth\":0,\"ticks\":\"\"}}}],\"scattercarpet\":[{\"type\":\"scattercarpet\",\"marker\":{\"colorbar\":{\"outlinewidth\":0,\"ticks\":\"\"}}}],\"carpet\":[{\"aaxis\":{\"endlinecolor\":\"#2a3f5f\",\"gridcolor\":\"white\",\"linecolor\":\"white\",\"minorgridcolor\":\"white\",\"startlinecolor\":\"#2a3f5f\"},\"baxis\":{\"endlinecolor\":\"#2a3f5f\",\"gridcolor\":\"white\",\"linecolor\":\"white\",\"minorgridcolor\":\"white\",\"startlinecolor\":\"#2a3f5f\"},\"type\":\"carpet\"}],\"table\":[{\"cells\":{\"fill\":{\"color\":\"#EBF0F8\"},\"line\":{\"color\":\"white\"}},\"header\":{\"fill\":{\"color\":\"#C8D4E3\"},\"line\":{\"color\":\"white\"}},\"type\":\"table\"}],\"barpolar\":[{\"marker\":{\"line\":{\"color\":\"#E5ECF6\",\"width\":0.5},\"pattern\":{\"fillmode\":\"overlay\",\"size\":10,\"solidity\":0.2}},\"type\":\"barpolar\"}],\"pie\":[{\"automargin\":true,\"type\":\"pie\"}]},\"layout\":{\"autotypenumbers\":\"strict\",\"colorway\":[\"#636efa\",\"#EF553B\",\"#00cc96\",\"#ab63fa\",\"#FFA15A\",\"#19d3f3\",\"#FF6692\",\"#B6E880\",\"#FF97FF\",\"#FECB52\"],\"font\":{\"color\":\"#2a3f5f\"},\"hovermode\":\"closest\",\"hoverlabel\":{\"align\":\"left\"},\"paper_bgcolor\":\"white\",\"plot_bgcolor\":\"#E5ECF6\",\"polar\":{\"bgcolor\":\"#E5ECF6\",\"angularaxis\":{\"gridcolor\":\"white\",\"linecolor\":\"white\",\"ticks\":\"\"},\"radialaxis\":{\"gridcolor\":\"white\",\"linecolor\":\"white\",\"ticks\":\"\"}},\"ternary\":{\"bgcolor\":\"#E5ECF6\",\"aaxis\":{\"gridcolor\":\"white\",\"linecolor\":\"white\",\"ticks\":\"\"},\"baxis\":{\"gridcolor\":\"white\",\"linecolor\":\"white\",\"ticks\":\"\"},\"caxis\":{\"gridcolor\":\"white\",\"linecolor\":\"white\",\"ticks\":\"\"}},\"coloraxis\":{\"colorbar\":{\"outlinewidth\":0,\"ticks\":\"\"}},\"colorscale\":{\"sequential\":[[0.0,\"#0d0887\"],[0.1111111111111111,\"#46039f\"],[0.2222222222222222,\"#7201a8\"],[0.3333333333333333,\"#9c179e\"],[0.4444444444444444,\"#bd3786\"],[0.5555555555555556,\"#d8576b\"],[0.6666666666666666,\"#ed7953\"],[0.7777777777777778,\"#fb9f3a\"],[0.8888888888888888,\"#fdca26\"],[1.0,\"#f0f921\"]],\"sequentialminus\":[[0.0,\"#0d0887\"],[0.1111111111111111,\"#46039f\"],[0.2222222222222222,\"#7201a8\"],[0.3333333333333333,\"#9c179e\"],[0.4444444444444444,\"#bd3786\"],[0.5555555555555556,\"#d8576b\"],[0.6666666666666666,\"#ed7953\"],[0.7777777777777778,\"#fb9f3a\"],[0.8888888888888888,\"#fdca26\"],[1.0,\"#f0f921\"]],\"diverging\":[[0,\"#8e0152\"],[0.1,\"#c51b7d\"],[0.2,\"#de77ae\"],[0.3,\"#f1b6da\"],[0.4,\"#fde0ef\"],[0.5,\"#f7f7f7\"],[0.6,\"#e6f5d0\"],[0.7,\"#b8e186\"],[0.8,\"#7fbc41\"],[0.9,\"#4d9221\"],[1,\"#276419\"]]},\"xaxis\":{\"gridcolor\":\"white\",\"linecolor\":\"white\",\"ticks\":\"\",\"title\":{\"standoff\":15},\"zerolinecolor\":\"white\",\"automargin\":true,\"zerolinewidth\":2},\"yaxis\":{\"gridcolor\":\"white\",\"linecolor\":\"white\",\"ticks\":\"\",\"title\":{\"standoff\":15},\"zerolinecolor\":\"white\",\"automargin\":true,\"zerolinewidth\":2},\"scene\":{\"xaxis\":{\"backgroundcolor\":\"#E5ECF6\",\"gridcolor\":\"white\",\"linecolor\":\"white\",\"showbackground\":true,\"ticks\":\"\",\"zerolinecolor\":\"white\",\"gridwidth\":2},\"yaxis\":{\"backgroundcolor\":\"#E5ECF6\",\"gridcolor\":\"white\",\"linecolor\":\"white\",\"showbackground\":true,\"ticks\":\"\",\"zerolinecolor\":\"white\",\"gridwidth\":2},\"zaxis\":{\"backgroundcolor\":\"#E5ECF6\",\"gridcolor\":\"white\",\"linecolor\":\"white\",\"showbackground\":true,\"ticks\":\"\",\"zerolinecolor\":\"white\",\"gridwidth\":2}},\"shapedefaults\":{\"line\":{\"color\":\"#2a3f5f\"}},\"annotationdefaults\":{\"arrowcolor\":\"#2a3f5f\",\"arrowhead\":0,\"arrowwidth\":1},\"geo\":{\"bgcolor\":\"white\",\"landcolor\":\"#E5ECF6\",\"subunitcolor\":\"white\",\"showland\":true,\"showlakes\":true,\"lakecolor\":\"white\"},\"title\":{\"x\":0.05},\"mapbox\":{\"style\":\"light\"}}},\"xaxis\":{\"anchor\":\"y\",\"domain\":[0.0,1.0],\"title\":{\"text\":\"index\"}},\"yaxis\":{\"anchor\":\"x\",\"domain\":[0.0,1.0],\"title\":{\"text\":\"value\"},\"type\":\"log\"},\"legend\":{\"title\":{\"text\":\"variable\"},\"tracegroupgap\":0},\"title\":{\"text\":\"Checkpoint Values for solu-12l (Log scale)\"}},                        {\"responsive\": true}                    ).then(function(){\n",
              "                            \n",
              "var gd = document.getElementById('6ada1b24-ab2d-4a0e-b3a0-b25c42a2762e');\n",
              "var x = new MutationObserver(function (mutations, observer) {{\n",
              "        var display = window.getComputedStyle(gd).display;\n",
              "        if (!display || display === 'none') {{\n",
              "            console.log([gd, 'removed!']);\n",
              "            Plotly.purge(gd);\n",
              "            observer.disconnect();\n",
              "        }}\n",
              "}});\n",
              "\n",
              "// Listen for the removal of the full notebook cells\n",
              "var notebookContainer = gd.closest('#notebook-container');\n",
              "if (notebookContainer) {{\n",
              "    x.observe(notebookContainer, {childList: true});\n",
              "}}\n",
              "\n",
              "// Listen for the clearing of the current output cell\n",
              "var outputEl = gd.closest('.output');\n",
              "if (outputEl) {{\n",
              "    x.observe(outputEl, {childList: true});\n",
              "}}\n",
              "\n",
              "                        })                };                            </script>        </div>\n",
              "</body>\n",
              "</html>"
            ]
          },
          "metadata": {},
          "output_type": "display_data"
        },
        {
          "data": {
            "text/html": [
              "<html>\n",
              "<head><meta charset=\"utf-8\" /></head>\n",
              "<body>\n",
              "    <div>            <script src=\"https://cdnjs.cloudflare.com/ajax/libs/mathjax/2.7.5/MathJax.js?config=TeX-AMS-MML_SVG\"></script><script type=\"text/javascript\">if (window.MathJax && window.MathJax.Hub && window.MathJax.Hub.Config) {window.MathJax.Hub.Config({SVG: {font: \"STIX-Web\"}});}</script>                <script type=\"text/javascript\">window.PlotlyConfig = {MathJaxConfig: 'local'};</script>\n",
              "        <script src=\"https://cdn.plot.ly/plotly-2.16.1.min.js\"></script>                <div id=\"87c7d210-cc47-4c30-be57-2c8152b6d491\" class=\"plotly-graph-div\" style=\"height:525px; width:100%;\"></div>            <script type=\"text/javascript\">                                    window.PLOTLYENV=window.PLOTLYENV || {};                                    if (document.getElementById(\"87c7d210-cc47-4c30-be57-2c8152b6d491\")) {                    Plotly.newPlot(                        \"87c7d210-cc47-4c30-be57-2c8152b6d491\",                        [{\"hovertemplate\":\"variable=0<br>index=%{x}<br>value=%{y}<extra></extra>\",\"legendgroup\":\"0\",\"line\":{\"color\":\"#636efa\",\"dash\":\"solid\"},\"marker\":{\"symbol\":\"circle\"},\"mode\":\"markers+lines\",\"name\":\"0\",\"orientation\":\"v\",\"showlegend\":true,\"x\":[0,1,2,3,4,5,6,7,8,9,10,11,12,13,14,15,16,17,18,19,20,21,22,23,24,25,26,27,28,29,30,31,32,33,34,35,36,37,38,39,40,41,42,43,44,45,46,47,48,49,50,51,52,53,54,55,56,57,58,59,60,61,62,63,64,65,66,67,68,69,70,71,72,73,74,75,76,77,78,79,80,81,82,83,84,85,86,87,88,89,90,91,92,93,94,95,96,97,98,99,100,101,102,103,104,105,106,107,108,109,110,111,112,113,114,115,116,117,118,119,120,121,122,123,124,125,126,127,128,129,130,131,132,133,134,135,136,137,138,139,140,141,142,143,144,145,146,147,148,149,150,151,152,153,154,155,156,157,158,159,160,161,162,163,164,165,166,167,168,169,170,171,172,173,174,175,176,177,178,179,180,181,182,183,184,185,186,187,188,189,190,191,192,193,194,195,196,197,198,199,200,201,202,203,204,205,206,207,208,209,210,211,212,213,214,215,216,217,218,219,220,221,222,223,224,225,226,227,228,229,230,231,232,233,234,235,236,237,238,239,240,241,242,243,244,245,246,247,248,249,250,251,252,253,254,255,256,257,258,259,260,261,262,263,264,265,266,267,268,269,270,271,272,273,274,275,276,277,278,279,280,281,282,283,284,285,286,287,288,289,290,291,292,293,294,295,296,297,298,299,300,301,302,303,304,305,306,307,308,309,310,311,312,313,314,315,316,317,318,319,320,321,322,323,324,325,326,327,328,329,330,331,332,333,334,335,336,337,338,339,340,341,342,343,344,345,346,347,348,349,350,351,352,353,354,355,356,357,358,359,360,361,362,363,364,365,366,367,368,369,370,371,372,373,374,375,376,377,378,379,380,381,382,383,384,385,386,387,388,389,390,391,392,393,394,395,396,397,398,399,400,401,402,403,404,405,406,407,408,409,410,411,412,413,414,415,416,417,418,419,420,421,422,423,424,425,426,427,428,429,430,431,432,433,434,435,436,437,438,439,440,441,442,443,444,445,446,447,448,449,450,451,452,453,454,455,456,457,458,459,460,461,462,463,464,465,466,467,468,469,470,471,472,473,474,475,476,477,478,479,480,481,482,483,484,485,486,487,488,489,490,491,492,493,494,495,496,497,498,499,500,501,502,503,504,505,506,507,508,509,510,511,512,513,514,515,516,517,518,519,520,521,522,523,524,525,526,527,528,529,530,531,532,533,534,535,536,537,538,539,540,541,542,543,544,545,546,547,548,549,550,551,552,553,554,555,556,557,558,559,560,561,562,563,564,565,566,567,568,569,570,571,572,573,574,575,576,577,578,579,580,581,582,583,584,585,586,587,588,589,590,591,592,593,594,595,596,597,598,599,600,601,602,603,604,605,606,607,608],\"xaxis\":\"x\",\"y\":[0,10,20,30,40,50,60,70,80,90,100,150,200,250,300,350,400,450,500,550,600,650,700,750,800,850,900,950,1000,1050,1100,1150,1200,1250,1300,1350,1400,1450,1500,1550,1600,1650,1700,1750,1800,1850,1900,1950,2000,2100,2200,2300,2400,2500,2600,2700,2800,2900,3000,3100,3200,3300,3400,3500,3600,3700,3800,3900,4000,4100,4200,4300,4400,4500,4600,4700,4800,4900,5000,5100,5200,5300,5400,5500,5600,5700,5800,5900,6000,6100,6200,6300,6400,6500,6600,6700,6800,6900,7000,7100,7200,7300,7400,7500,7600,7700,7800,7900,8000,8100,8200,8300,8400,8500,8600,8700,8800,8900,9000,9100,9200,9300,9400,9500,9600,9700,9800,9900,10000,10100,10200,10300,10400,10500,10600,10700,10800,10900,11000,11100,11200,11300,11400,11500,11600,11700,11800,11900,12000,12100,12200,12300,12400,12500,12600,12700,12800,12900,13000,13100,13200,13300,13400,13500,13600,13700,13800,13900,14000,14100,14200,14300,14400,14500,14600,14700,14800,14900,15000,15100,15200,15300,15400,15500,15600,15700,15800,15900,16000,16100,16200,16300,16400,16500,16600,16700,16800,16900,17000,17100,17200,17300,17400,17500,17600,17700,17800,17900,18000,18100,18200,18300,18400,18500,18600,18700,18800,18900,19000,19100,19200,19300,19400,19500,19600,19700,19800,19900,20000,21000,22000,23000,24000,25000,26000,27000,28000,29000,30000,31000,32000,33000,34000,35000,36000,37000,38000,39000,40000,41000,42000,43000,44000,45000,46000,47000,48000,49000,50000,51000,52000,53000,54000,55000,56000,57000,58000,59000,60000,61000,62000,63000,64000,65000,66000,67000,68000,69000,70000,71000,72000,73000,74000,75000,76000,77000,78000,79000,80000,81000,82000,83000,84000,85000,86000,87000,88000,89000,90000,91000,92000,93000,94000,95000,96000,97000,98000,99000,100000,101000,102000,103000,104000,105000,106000,107000,108000,109000,110000,111000,112000,113000,114000,115000,116000,117000,118000,119000,120000,121000,122000,123000,124000,125000,126000,127000,128000,129000,130000,131000,132000,133000,134000,135000,136000,137000,138000,139000,140000,141000,142000,143000,144000,145000,146000,147000,148000,149000,150000,151000,152000,153000,154000,155000,156000,157000,158000,159000,160000,161000,162000,163000,164000,165000,166000,167000,168000,169000,170000,171000,172000,173000,174000,175000,176000,177000,178000,179000,180000,181000,182000,183000,184000,185000,186000,187000,188000,189000,190000,191000,192000,193000,194000,195000,196000,197000,198000,199000,200000,201000,202000,203000,204000,205000,206000,207000,208000,209000,210000,211000,212000,213000,214000,215000,216000,217000,218000,219000,220000,221000,222000,223000,224000,225000,226000,227000,228000,229000,230000,231000,232000,233000,234000,235000,236000,237000,238000,239000,240000,241000,242000,243000,244000,245000,246000,247000,248000,249000,250000,251000,252000,253000,254000,255000,256000,257000,258000,259000,260000,261000,262000,263000,264000,265000,266000,267000,268000,269000,270000,271000,272000,273000,274000,275000,276000,277000,278000,279000,280000,281000,282000,283000,284000,285000,286000,287000,288000,289000,290000,291000,292000,293000,294000,295000,296000,297000,298000,299000,300000,301000,302000,303000,304000,305000,306000,307000,308000,309000,310000,311000,312000,313000,314000,315000,316000,317000,318000,319000,320000,321000,322000,323000,324000,325000,326000,327000,328000,329000,330000,331000,332000,333000,334000,335000,336000,337000,338000,339000,340000,341000,342000,343000,344000,345000,346000,347000,348000,349000,350000,351000,352000,353000,354000,355000,356000,357000,358000,359000,360000,361000,362000,363000,364000,365000,366000,367000,368000,369000,370000,371000,372000,373000,374000,375000,376000,377000,378000,379000,380000,381000,382000,383000,384000,385000,386000,387000,388000,389000,390000,391000,392000,393000,394000,395000,396000,397000,398000,399000,400000],\"yaxis\":\"y\",\"type\":\"scatter\"}],                        {\"template\":{\"data\":{\"histogram2dcontour\":[{\"type\":\"histogram2dcontour\",\"colorbar\":{\"outlinewidth\":0,\"ticks\":\"\"},\"colorscale\":[[0.0,\"#0d0887\"],[0.1111111111111111,\"#46039f\"],[0.2222222222222222,\"#7201a8\"],[0.3333333333333333,\"#9c179e\"],[0.4444444444444444,\"#bd3786\"],[0.5555555555555556,\"#d8576b\"],[0.6666666666666666,\"#ed7953\"],[0.7777777777777778,\"#fb9f3a\"],[0.8888888888888888,\"#fdca26\"],[1.0,\"#f0f921\"]]}],\"choropleth\":[{\"type\":\"choropleth\",\"colorbar\":{\"outlinewidth\":0,\"ticks\":\"\"}}],\"histogram2d\":[{\"type\":\"histogram2d\",\"colorbar\":{\"outlinewidth\":0,\"ticks\":\"\"},\"colorscale\":[[0.0,\"#0d0887\"],[0.1111111111111111,\"#46039f\"],[0.2222222222222222,\"#7201a8\"],[0.3333333333333333,\"#9c179e\"],[0.4444444444444444,\"#bd3786\"],[0.5555555555555556,\"#d8576b\"],[0.6666666666666666,\"#ed7953\"],[0.7777777777777778,\"#fb9f3a\"],[0.8888888888888888,\"#fdca26\"],[1.0,\"#f0f921\"]]}],\"heatmap\":[{\"type\":\"heatmap\",\"colorbar\":{\"outlinewidth\":0,\"ticks\":\"\"},\"colorscale\":[[0.0,\"#0d0887\"],[0.1111111111111111,\"#46039f\"],[0.2222222222222222,\"#7201a8\"],[0.3333333333333333,\"#9c179e\"],[0.4444444444444444,\"#bd3786\"],[0.5555555555555556,\"#d8576b\"],[0.6666666666666666,\"#ed7953\"],[0.7777777777777778,\"#fb9f3a\"],[0.8888888888888888,\"#fdca26\"],[1.0,\"#f0f921\"]]}],\"heatmapgl\":[{\"type\":\"heatmapgl\",\"colorbar\":{\"outlinewidth\":0,\"ticks\":\"\"},\"colorscale\":[[0.0,\"#0d0887\"],[0.1111111111111111,\"#46039f\"],[0.2222222222222222,\"#7201a8\"],[0.3333333333333333,\"#9c179e\"],[0.4444444444444444,\"#bd3786\"],[0.5555555555555556,\"#d8576b\"],[0.6666666666666666,\"#ed7953\"],[0.7777777777777778,\"#fb9f3a\"],[0.8888888888888888,\"#fdca26\"],[1.0,\"#f0f921\"]]}],\"contourcarpet\":[{\"type\":\"contourcarpet\",\"colorbar\":{\"outlinewidth\":0,\"ticks\":\"\"}}],\"contour\":[{\"type\":\"contour\",\"colorbar\":{\"outlinewidth\":0,\"ticks\":\"\"},\"colorscale\":[[0.0,\"#0d0887\"],[0.1111111111111111,\"#46039f\"],[0.2222222222222222,\"#7201a8\"],[0.3333333333333333,\"#9c179e\"],[0.4444444444444444,\"#bd3786\"],[0.5555555555555556,\"#d8576b\"],[0.6666666666666666,\"#ed7953\"],[0.7777777777777778,\"#fb9f3a\"],[0.8888888888888888,\"#fdca26\"],[1.0,\"#f0f921\"]]}],\"surface\":[{\"type\":\"surface\",\"colorbar\":{\"outlinewidth\":0,\"ticks\":\"\"},\"colorscale\":[[0.0,\"#0d0887\"],[0.1111111111111111,\"#46039f\"],[0.2222222222222222,\"#7201a8\"],[0.3333333333333333,\"#9c179e\"],[0.4444444444444444,\"#bd3786\"],[0.5555555555555556,\"#d8576b\"],[0.6666666666666666,\"#ed7953\"],[0.7777777777777778,\"#fb9f3a\"],[0.8888888888888888,\"#fdca26\"],[1.0,\"#f0f921\"]]}],\"mesh3d\":[{\"type\":\"mesh3d\",\"colorbar\":{\"outlinewidth\":0,\"ticks\":\"\"}}],\"scatter\":[{\"fillpattern\":{\"fillmode\":\"overlay\",\"size\":10,\"solidity\":0.2},\"type\":\"scatter\"}],\"parcoords\":[{\"type\":\"parcoords\",\"line\":{\"colorbar\":{\"outlinewidth\":0,\"ticks\":\"\"}}}],\"scatterpolargl\":[{\"type\":\"scatterpolargl\",\"marker\":{\"colorbar\":{\"outlinewidth\":0,\"ticks\":\"\"}}}],\"bar\":[{\"error_x\":{\"color\":\"#2a3f5f\"},\"error_y\":{\"color\":\"#2a3f5f\"},\"marker\":{\"line\":{\"color\":\"#E5ECF6\",\"width\":0.5},\"pattern\":{\"fillmode\":\"overlay\",\"size\":10,\"solidity\":0.2}},\"type\":\"bar\"}],\"scattergeo\":[{\"type\":\"scattergeo\",\"marker\":{\"colorbar\":{\"outlinewidth\":0,\"ticks\":\"\"}}}],\"scatterpolar\":[{\"type\":\"scatterpolar\",\"marker\":{\"colorbar\":{\"outlinewidth\":0,\"ticks\":\"\"}}}],\"histogram\":[{\"marker\":{\"pattern\":{\"fillmode\":\"overlay\",\"size\":10,\"solidity\":0.2}},\"type\":\"histogram\"}],\"scattergl\":[{\"type\":\"scattergl\",\"marker\":{\"colorbar\":{\"outlinewidth\":0,\"ticks\":\"\"}}}],\"scatter3d\":[{\"type\":\"scatter3d\",\"line\":{\"colorbar\":{\"outlinewidth\":0,\"ticks\":\"\"}},\"marker\":{\"colorbar\":{\"outlinewidth\":0,\"ticks\":\"\"}}}],\"scattermapbox\":[{\"type\":\"scattermapbox\",\"marker\":{\"colorbar\":{\"outlinewidth\":0,\"ticks\":\"\"}}}],\"scatterternary\":[{\"type\":\"scatterternary\",\"marker\":{\"colorbar\":{\"outlinewidth\":0,\"ticks\":\"\"}}}],\"scattercarpet\":[{\"type\":\"scattercarpet\",\"marker\":{\"colorbar\":{\"outlinewidth\":0,\"ticks\":\"\"}}}],\"carpet\":[{\"aaxis\":{\"endlinecolor\":\"#2a3f5f\",\"gridcolor\":\"white\",\"linecolor\":\"white\",\"minorgridcolor\":\"white\",\"startlinecolor\":\"#2a3f5f\"},\"baxis\":{\"endlinecolor\":\"#2a3f5f\",\"gridcolor\":\"white\",\"linecolor\":\"white\",\"minorgridcolor\":\"white\",\"startlinecolor\":\"#2a3f5f\"},\"type\":\"carpet\"}],\"table\":[{\"cells\":{\"fill\":{\"color\":\"#EBF0F8\"},\"line\":{\"color\":\"white\"}},\"header\":{\"fill\":{\"color\":\"#C8D4E3\"},\"line\":{\"color\":\"white\"}},\"type\":\"table\"}],\"barpolar\":[{\"marker\":{\"line\":{\"color\":\"#E5ECF6\",\"width\":0.5},\"pattern\":{\"fillmode\":\"overlay\",\"size\":10,\"solidity\":0.2}},\"type\":\"barpolar\"}],\"pie\":[{\"automargin\":true,\"type\":\"pie\"}]},\"layout\":{\"autotypenumbers\":\"strict\",\"colorway\":[\"#636efa\",\"#EF553B\",\"#00cc96\",\"#ab63fa\",\"#FFA15A\",\"#19d3f3\",\"#FF6692\",\"#B6E880\",\"#FF97FF\",\"#FECB52\"],\"font\":{\"color\":\"#2a3f5f\"},\"hovermode\":\"closest\",\"hoverlabel\":{\"align\":\"left\"},\"paper_bgcolor\":\"white\",\"plot_bgcolor\":\"#E5ECF6\",\"polar\":{\"bgcolor\":\"#E5ECF6\",\"angularaxis\":{\"gridcolor\":\"white\",\"linecolor\":\"white\",\"ticks\":\"\"},\"radialaxis\":{\"gridcolor\":\"white\",\"linecolor\":\"white\",\"ticks\":\"\"}},\"ternary\":{\"bgcolor\":\"#E5ECF6\",\"aaxis\":{\"gridcolor\":\"white\",\"linecolor\":\"white\",\"ticks\":\"\"},\"baxis\":{\"gridcolor\":\"white\",\"linecolor\":\"white\",\"ticks\":\"\"},\"caxis\":{\"gridcolor\":\"white\",\"linecolor\":\"white\",\"ticks\":\"\"}},\"coloraxis\":{\"colorbar\":{\"outlinewidth\":0,\"ticks\":\"\"}},\"colorscale\":{\"sequential\":[[0.0,\"#0d0887\"],[0.1111111111111111,\"#46039f\"],[0.2222222222222222,\"#7201a8\"],[0.3333333333333333,\"#9c179e\"],[0.4444444444444444,\"#bd3786\"],[0.5555555555555556,\"#d8576b\"],[0.6666666666666666,\"#ed7953\"],[0.7777777777777778,\"#fb9f3a\"],[0.8888888888888888,\"#fdca26\"],[1.0,\"#f0f921\"]],\"sequentialminus\":[[0.0,\"#0d0887\"],[0.1111111111111111,\"#46039f\"],[0.2222222222222222,\"#7201a8\"],[0.3333333333333333,\"#9c179e\"],[0.4444444444444444,\"#bd3786\"],[0.5555555555555556,\"#d8576b\"],[0.6666666666666666,\"#ed7953\"],[0.7777777777777778,\"#fb9f3a\"],[0.8888888888888888,\"#fdca26\"],[1.0,\"#f0f921\"]],\"diverging\":[[0,\"#8e0152\"],[0.1,\"#c51b7d\"],[0.2,\"#de77ae\"],[0.3,\"#f1b6da\"],[0.4,\"#fde0ef\"],[0.5,\"#f7f7f7\"],[0.6,\"#e6f5d0\"],[0.7,\"#b8e186\"],[0.8,\"#7fbc41\"],[0.9,\"#4d9221\"],[1,\"#276419\"]]},\"xaxis\":{\"gridcolor\":\"white\",\"linecolor\":\"white\",\"ticks\":\"\",\"title\":{\"standoff\":15},\"zerolinecolor\":\"white\",\"automargin\":true,\"zerolinewidth\":2},\"yaxis\":{\"gridcolor\":\"white\",\"linecolor\":\"white\",\"ticks\":\"\",\"title\":{\"standoff\":15},\"zerolinecolor\":\"white\",\"automargin\":true,\"zerolinewidth\":2},\"scene\":{\"xaxis\":{\"backgroundcolor\":\"#E5ECF6\",\"gridcolor\":\"white\",\"linecolor\":\"white\",\"showbackground\":true,\"ticks\":\"\",\"zerolinecolor\":\"white\",\"gridwidth\":2},\"yaxis\":{\"backgroundcolor\":\"#E5ECF6\",\"gridcolor\":\"white\",\"linecolor\":\"white\",\"showbackground\":true,\"ticks\":\"\",\"zerolinecolor\":\"white\",\"gridwidth\":2},\"zaxis\":{\"backgroundcolor\":\"#E5ECF6\",\"gridcolor\":\"white\",\"linecolor\":\"white\",\"showbackground\":true,\"ticks\":\"\",\"zerolinecolor\":\"white\",\"gridwidth\":2}},\"shapedefaults\":{\"line\":{\"color\":\"#2a3f5f\"}},\"annotationdefaults\":{\"arrowcolor\":\"#2a3f5f\",\"arrowhead\":0,\"arrowwidth\":1},\"geo\":{\"bgcolor\":\"white\",\"landcolor\":\"#E5ECF6\",\"subunitcolor\":\"white\",\"showland\":true,\"showlakes\":true,\"lakecolor\":\"white\"},\"title\":{\"x\":0.05},\"mapbox\":{\"style\":\"light\"}}},\"xaxis\":{\"anchor\":\"y\",\"domain\":[0.0,1.0],\"title\":{\"text\":\"index\"}},\"yaxis\":{\"anchor\":\"x\",\"domain\":[0.0,1.0],\"title\":{\"text\":\"value\"},\"type\":\"log\"},\"legend\":{\"title\":{\"text\":\"variable\"},\"tracegroupgap\":0},\"title\":{\"text\":\"Checkpoint Values for stanford-gpt2-small-a (Log scale)\"}},                        {\"responsive\": true}                    ).then(function(){\n",
              "                            \n",
              "var gd = document.getElementById('87c7d210-cc47-4c30-be57-2c8152b6d491');\n",
              "var x = new MutationObserver(function (mutations, observer) {{\n",
              "        var display = window.getComputedStyle(gd).display;\n",
              "        if (!display || display === 'none') {{\n",
              "            console.log([gd, 'removed!']);\n",
              "            Plotly.purge(gd);\n",
              "            observer.disconnect();\n",
              "        }}\n",
              "}});\n",
              "\n",
              "// Listen for the removal of the full notebook cells\n",
              "var notebookContainer = gd.closest('#notebook-container');\n",
              "if (notebookContainer) {{\n",
              "    x.observe(notebookContainer, {childList: true});\n",
              "}}\n",
              "\n",
              "// Listen for the clearing of the current output cell\n",
              "var outputEl = gd.closest('.output');\n",
              "if (outputEl) {{\n",
              "    x.observe(outputEl, {childList: true});\n",
              "}}\n",
              "\n",
              "                        })                };                            </script>        </div>\n",
              "</body>\n",
              "</html>"
            ]
          },
          "metadata": {},
          "output_type": "display_data"
        },
        {
          "data": {
            "text/html": [
              "<html>\n",
              "<head><meta charset=\"utf-8\" /></head>\n",
              "<body>\n",
              "    <div>            <script src=\"https://cdnjs.cloudflare.com/ajax/libs/mathjax/2.7.5/MathJax.js?config=TeX-AMS-MML_SVG\"></script><script type=\"text/javascript\">if (window.MathJax && window.MathJax.Hub && window.MathJax.Hub.Config) {window.MathJax.Hub.Config({SVG: {font: \"STIX-Web\"}});}</script>                <script type=\"text/javascript\">window.PlotlyConfig = {MathJaxConfig: 'local'};</script>\n",
              "        <script src=\"https://cdn.plot.ly/plotly-2.16.1.min.js\"></script>                <div id=\"3614b7fd-aa3e-4b49-a7d7-215d10df33e5\" class=\"plotly-graph-div\" style=\"height:525px; width:100%;\"></div>            <script type=\"text/javascript\">                                    window.PLOTLYENV=window.PLOTLYENV || {};                                    if (document.getElementById(\"3614b7fd-aa3e-4b49-a7d7-215d10df33e5\")) {                    Plotly.newPlot(                        \"3614b7fd-aa3e-4b49-a7d7-215d10df33e5\",                        [{\"hovertemplate\":\"variable=0<br>index=%{x}<br>value=%{y}<extra></extra>\",\"legendgroup\":\"0\",\"line\":{\"color\":\"#636efa\",\"dash\":\"solid\"},\"marker\":{\"symbol\":\"circle\"},\"mode\":\"markers+lines\",\"name\":\"0\",\"orientation\":\"v\",\"showlegend\":true,\"x\":[0,1,2,3,4,5,6,7,8,9,10,11,12,13,14,15,16,17,18,19,20,21,22,23,24,25,26,27,28,29,30,31,32,33,34,35,36,37,38,39,40,41,42,43,44,45,46,47,48,49],\"xaxis\":\"x\",\"y\":[832,1664,2496,3328,4160,4992,5824,6656,7488,8320,9152,9984,10816,11648,12480,13312,14144,14976,15808,16640,17472,18304,19136,19968,20800,21632,22464,23296,24128,24960,25792,26624,27456,28288,29120,29952,30784,31616,32448,33280,34112,34944,35776,36608,37440,38272,39104,39936,40768,41600],\"yaxis\":\"y\",\"type\":\"scatter\"}],                        {\"template\":{\"data\":{\"histogram2dcontour\":[{\"type\":\"histogram2dcontour\",\"colorbar\":{\"outlinewidth\":0,\"ticks\":\"\"},\"colorscale\":[[0.0,\"#0d0887\"],[0.1111111111111111,\"#46039f\"],[0.2222222222222222,\"#7201a8\"],[0.3333333333333333,\"#9c179e\"],[0.4444444444444444,\"#bd3786\"],[0.5555555555555556,\"#d8576b\"],[0.6666666666666666,\"#ed7953\"],[0.7777777777777778,\"#fb9f3a\"],[0.8888888888888888,\"#fdca26\"],[1.0,\"#f0f921\"]]}],\"choropleth\":[{\"type\":\"choropleth\",\"colorbar\":{\"outlinewidth\":0,\"ticks\":\"\"}}],\"histogram2d\":[{\"type\":\"histogram2d\",\"colorbar\":{\"outlinewidth\":0,\"ticks\":\"\"},\"colorscale\":[[0.0,\"#0d0887\"],[0.1111111111111111,\"#46039f\"],[0.2222222222222222,\"#7201a8\"],[0.3333333333333333,\"#9c179e\"],[0.4444444444444444,\"#bd3786\"],[0.5555555555555556,\"#d8576b\"],[0.6666666666666666,\"#ed7953\"],[0.7777777777777778,\"#fb9f3a\"],[0.8888888888888888,\"#fdca26\"],[1.0,\"#f0f921\"]]}],\"heatmap\":[{\"type\":\"heatmap\",\"colorbar\":{\"outlinewidth\":0,\"ticks\":\"\"},\"colorscale\":[[0.0,\"#0d0887\"],[0.1111111111111111,\"#46039f\"],[0.2222222222222222,\"#7201a8\"],[0.3333333333333333,\"#9c179e\"],[0.4444444444444444,\"#bd3786\"],[0.5555555555555556,\"#d8576b\"],[0.6666666666666666,\"#ed7953\"],[0.7777777777777778,\"#fb9f3a\"],[0.8888888888888888,\"#fdca26\"],[1.0,\"#f0f921\"]]}],\"heatmapgl\":[{\"type\":\"heatmapgl\",\"colorbar\":{\"outlinewidth\":0,\"ticks\":\"\"},\"colorscale\":[[0.0,\"#0d0887\"],[0.1111111111111111,\"#46039f\"],[0.2222222222222222,\"#7201a8\"],[0.3333333333333333,\"#9c179e\"],[0.4444444444444444,\"#bd3786\"],[0.5555555555555556,\"#d8576b\"],[0.6666666666666666,\"#ed7953\"],[0.7777777777777778,\"#fb9f3a\"],[0.8888888888888888,\"#fdca26\"],[1.0,\"#f0f921\"]]}],\"contourcarpet\":[{\"type\":\"contourcarpet\",\"colorbar\":{\"outlinewidth\":0,\"ticks\":\"\"}}],\"contour\":[{\"type\":\"contour\",\"colorbar\":{\"outlinewidth\":0,\"ticks\":\"\"},\"colorscale\":[[0.0,\"#0d0887\"],[0.1111111111111111,\"#46039f\"],[0.2222222222222222,\"#7201a8\"],[0.3333333333333333,\"#9c179e\"],[0.4444444444444444,\"#bd3786\"],[0.5555555555555556,\"#d8576b\"],[0.6666666666666666,\"#ed7953\"],[0.7777777777777778,\"#fb9f3a\"],[0.8888888888888888,\"#fdca26\"],[1.0,\"#f0f921\"]]}],\"surface\":[{\"type\":\"surface\",\"colorbar\":{\"outlinewidth\":0,\"ticks\":\"\"},\"colorscale\":[[0.0,\"#0d0887\"],[0.1111111111111111,\"#46039f\"],[0.2222222222222222,\"#7201a8\"],[0.3333333333333333,\"#9c179e\"],[0.4444444444444444,\"#bd3786\"],[0.5555555555555556,\"#d8576b\"],[0.6666666666666666,\"#ed7953\"],[0.7777777777777778,\"#fb9f3a\"],[0.8888888888888888,\"#fdca26\"],[1.0,\"#f0f921\"]]}],\"mesh3d\":[{\"type\":\"mesh3d\",\"colorbar\":{\"outlinewidth\":0,\"ticks\":\"\"}}],\"scatter\":[{\"fillpattern\":{\"fillmode\":\"overlay\",\"size\":10,\"solidity\":0.2},\"type\":\"scatter\"}],\"parcoords\":[{\"type\":\"parcoords\",\"line\":{\"colorbar\":{\"outlinewidth\":0,\"ticks\":\"\"}}}],\"scatterpolargl\":[{\"type\":\"scatterpolargl\",\"marker\":{\"colorbar\":{\"outlinewidth\":0,\"ticks\":\"\"}}}],\"bar\":[{\"error_x\":{\"color\":\"#2a3f5f\"},\"error_y\":{\"color\":\"#2a3f5f\"},\"marker\":{\"line\":{\"color\":\"#E5ECF6\",\"width\":0.5},\"pattern\":{\"fillmode\":\"overlay\",\"size\":10,\"solidity\":0.2}},\"type\":\"bar\"}],\"scattergeo\":[{\"type\":\"scattergeo\",\"marker\":{\"colorbar\":{\"outlinewidth\":0,\"ticks\":\"\"}}}],\"scatterpolar\":[{\"type\":\"scatterpolar\",\"marker\":{\"colorbar\":{\"outlinewidth\":0,\"ticks\":\"\"}}}],\"histogram\":[{\"marker\":{\"pattern\":{\"fillmode\":\"overlay\",\"size\":10,\"solidity\":0.2}},\"type\":\"histogram\"}],\"scattergl\":[{\"type\":\"scattergl\",\"marker\":{\"colorbar\":{\"outlinewidth\":0,\"ticks\":\"\"}}}],\"scatter3d\":[{\"type\":\"scatter3d\",\"line\":{\"colorbar\":{\"outlinewidth\":0,\"ticks\":\"\"}},\"marker\":{\"colorbar\":{\"outlinewidth\":0,\"ticks\":\"\"}}}],\"scattermapbox\":[{\"type\":\"scattermapbox\",\"marker\":{\"colorbar\":{\"outlinewidth\":0,\"ticks\":\"\"}}}],\"scatterternary\":[{\"type\":\"scatterternary\",\"marker\":{\"colorbar\":{\"outlinewidth\":0,\"ticks\":\"\"}}}],\"scattercarpet\":[{\"type\":\"scattercarpet\",\"marker\":{\"colorbar\":{\"outlinewidth\":0,\"ticks\":\"\"}}}],\"carpet\":[{\"aaxis\":{\"endlinecolor\":\"#2a3f5f\",\"gridcolor\":\"white\",\"linecolor\":\"white\",\"minorgridcolor\":\"white\",\"startlinecolor\":\"#2a3f5f\"},\"baxis\":{\"endlinecolor\":\"#2a3f5f\",\"gridcolor\":\"white\",\"linecolor\":\"white\",\"minorgridcolor\":\"white\",\"startlinecolor\":\"#2a3f5f\"},\"type\":\"carpet\"}],\"table\":[{\"cells\":{\"fill\":{\"color\":\"#EBF0F8\"},\"line\":{\"color\":\"white\"}},\"header\":{\"fill\":{\"color\":\"#C8D4E3\"},\"line\":{\"color\":\"white\"}},\"type\":\"table\"}],\"barpolar\":[{\"marker\":{\"line\":{\"color\":\"#E5ECF6\",\"width\":0.5},\"pattern\":{\"fillmode\":\"overlay\",\"size\":10,\"solidity\":0.2}},\"type\":\"barpolar\"}],\"pie\":[{\"automargin\":true,\"type\":\"pie\"}]},\"layout\":{\"autotypenumbers\":\"strict\",\"colorway\":[\"#636efa\",\"#EF553B\",\"#00cc96\",\"#ab63fa\",\"#FFA15A\",\"#19d3f3\",\"#FF6692\",\"#B6E880\",\"#FF97FF\",\"#FECB52\"],\"font\":{\"color\":\"#2a3f5f\"},\"hovermode\":\"closest\",\"hoverlabel\":{\"align\":\"left\"},\"paper_bgcolor\":\"white\",\"plot_bgcolor\":\"#E5ECF6\",\"polar\":{\"bgcolor\":\"#E5ECF6\",\"angularaxis\":{\"gridcolor\":\"white\",\"linecolor\":\"white\",\"ticks\":\"\"},\"radialaxis\":{\"gridcolor\":\"white\",\"linecolor\":\"white\",\"ticks\":\"\"}},\"ternary\":{\"bgcolor\":\"#E5ECF6\",\"aaxis\":{\"gridcolor\":\"white\",\"linecolor\":\"white\",\"ticks\":\"\"},\"baxis\":{\"gridcolor\":\"white\",\"linecolor\":\"white\",\"ticks\":\"\"},\"caxis\":{\"gridcolor\":\"white\",\"linecolor\":\"white\",\"ticks\":\"\"}},\"coloraxis\":{\"colorbar\":{\"outlinewidth\":0,\"ticks\":\"\"}},\"colorscale\":{\"sequential\":[[0.0,\"#0d0887\"],[0.1111111111111111,\"#46039f\"],[0.2222222222222222,\"#7201a8\"],[0.3333333333333333,\"#9c179e\"],[0.4444444444444444,\"#bd3786\"],[0.5555555555555556,\"#d8576b\"],[0.6666666666666666,\"#ed7953\"],[0.7777777777777778,\"#fb9f3a\"],[0.8888888888888888,\"#fdca26\"],[1.0,\"#f0f921\"]],\"sequentialminus\":[[0.0,\"#0d0887\"],[0.1111111111111111,\"#46039f\"],[0.2222222222222222,\"#7201a8\"],[0.3333333333333333,\"#9c179e\"],[0.4444444444444444,\"#bd3786\"],[0.5555555555555556,\"#d8576b\"],[0.6666666666666666,\"#ed7953\"],[0.7777777777777778,\"#fb9f3a\"],[0.8888888888888888,\"#fdca26\"],[1.0,\"#f0f921\"]],\"diverging\":[[0,\"#8e0152\"],[0.1,\"#c51b7d\"],[0.2,\"#de77ae\"],[0.3,\"#f1b6da\"],[0.4,\"#fde0ef\"],[0.5,\"#f7f7f7\"],[0.6,\"#e6f5d0\"],[0.7,\"#b8e186\"],[0.8,\"#7fbc41\"],[0.9,\"#4d9221\"],[1,\"#276419\"]]},\"xaxis\":{\"gridcolor\":\"white\",\"linecolor\":\"white\",\"ticks\":\"\",\"title\":{\"standoff\":15},\"zerolinecolor\":\"white\",\"automargin\":true,\"zerolinewidth\":2},\"yaxis\":{\"gridcolor\":\"white\",\"linecolor\":\"white\",\"ticks\":\"\",\"title\":{\"standoff\":15},\"zerolinecolor\":\"white\",\"automargin\":true,\"zerolinewidth\":2},\"scene\":{\"xaxis\":{\"backgroundcolor\":\"#E5ECF6\",\"gridcolor\":\"white\",\"linecolor\":\"white\",\"showbackground\":true,\"ticks\":\"\",\"zerolinecolor\":\"white\",\"gridwidth\":2},\"yaxis\":{\"backgroundcolor\":\"#E5ECF6\",\"gridcolor\":\"white\",\"linecolor\":\"white\",\"showbackground\":true,\"ticks\":\"\",\"zerolinecolor\":\"white\",\"gridwidth\":2},\"zaxis\":{\"backgroundcolor\":\"#E5ECF6\",\"gridcolor\":\"white\",\"linecolor\":\"white\",\"showbackground\":true,\"ticks\":\"\",\"zerolinecolor\":\"white\",\"gridwidth\":2}},\"shapedefaults\":{\"line\":{\"color\":\"#2a3f5f\"}},\"annotationdefaults\":{\"arrowcolor\":\"#2a3f5f\",\"arrowhead\":0,\"arrowwidth\":1},\"geo\":{\"bgcolor\":\"white\",\"landcolor\":\"#E5ECF6\",\"subunitcolor\":\"white\",\"showland\":true,\"showlakes\":true,\"lakecolor\":\"white\"},\"title\":{\"x\":0.05},\"mapbox\":{\"style\":\"light\"}}},\"xaxis\":{\"anchor\":\"y\",\"domain\":[0.0,1.0],\"title\":{\"text\":\"index\"}},\"yaxis\":{\"anchor\":\"x\",\"domain\":[0.0,1.0],\"title\":{\"text\":\"value\"}},\"legend\":{\"title\":{\"text\":\"variable\"},\"tracegroupgap\":0},\"title\":{\"text\":\"Checkpoint Values for solu-1l-pile (Linear scale)\"}},                        {\"responsive\": true}                    ).then(function(){\n",
              "                            \n",
              "var gd = document.getElementById('3614b7fd-aa3e-4b49-a7d7-215d10df33e5');\n",
              "var x = new MutationObserver(function (mutations, observer) {{\n",
              "        var display = window.getComputedStyle(gd).display;\n",
              "        if (!display || display === 'none') {{\n",
              "            console.log([gd, 'removed!']);\n",
              "            Plotly.purge(gd);\n",
              "            observer.disconnect();\n",
              "        }}\n",
              "}});\n",
              "\n",
              "// Listen for the removal of the full notebook cells\n",
              "var notebookContainer = gd.closest('#notebook-container');\n",
              "if (notebookContainer) {{\n",
              "    x.observe(notebookContainer, {childList: true});\n",
              "}}\n",
              "\n",
              "// Listen for the clearing of the current output cell\n",
              "var outputEl = gd.closest('.output');\n",
              "if (outputEl) {{\n",
              "    x.observe(outputEl, {childList: true});\n",
              "}}\n",
              "\n",
              "                        })                };                            </script>        </div>\n",
              "</body>\n",
              "</html>"
            ]
          },
          "metadata": {},
          "output_type": "display_data"
        },
        {
          "data": {
            "text/html": [
              "<html>\n",
              "<head><meta charset=\"utf-8\" /></head>\n",
              "<body>\n",
              "    <div>            <script src=\"https://cdnjs.cloudflare.com/ajax/libs/mathjax/2.7.5/MathJax.js?config=TeX-AMS-MML_SVG\"></script><script type=\"text/javascript\">if (window.MathJax && window.MathJax.Hub && window.MathJax.Hub.Config) {window.MathJax.Hub.Config({SVG: {font: \"STIX-Web\"}});}</script>                <script type=\"text/javascript\">window.PlotlyConfig = {MathJaxConfig: 'local'};</script>\n",
              "        <script src=\"https://cdn.plot.ly/plotly-2.16.1.min.js\"></script>                <div id=\"440d9dd4-5051-445a-be32-9ad92e71921a\" class=\"plotly-graph-div\" style=\"height:525px; width:100%;\"></div>            <script type=\"text/javascript\">                                    window.PLOTLYENV=window.PLOTLYENV || {};                                    if (document.getElementById(\"440d9dd4-5051-445a-be32-9ad92e71921a\")) {                    Plotly.newPlot(                        \"440d9dd4-5051-445a-be32-9ad92e71921a\",                        [{\"hovertemplate\":\"variable=0<br>index=%{x}<br>value=%{y}<extra></extra>\",\"legendgroup\":\"0\",\"line\":{\"color\":\"#636efa\",\"dash\":\"solid\"},\"marker\":{\"symbol\":\"circle\"},\"mode\":\"markers+lines\",\"name\":\"0\",\"orientation\":\"v\",\"showlegend\":true,\"x\":[0,1,2,3,4,5,6,7,8,9,10,11,12,13,14,15,16,17,18,19,20,21,22,23,24,25,26,27,28,29,30,31,32,33,34,35,36,37,38,39,40,41,42,43,44,45,46,47,48,49,50,51,52,53,54,55,56,57,58,59,60,61,62,63,64,65,66,67,68,69,70,71,72,73,74,75,76,77,78,79,80,81,82,83,84,85,86,87,88,89,90,91,92,93,94,95,96,97,98,99],\"xaxis\":\"x\",\"y\":[326,652,978,1304,1630,1956,2282,2608,2934,3260,3586,3912,4238,4564,4890,5216,5542,5868,6194,6520,6846,7172,7498,7824,8150,8476,8802,9128,9454,9780,10106,10432,10758,11084,11410,11736,12062,12388,12714,13040,13366,13692,14018,14344,14670,14996,15322,15648,15974,16300,16626,16952,17278,17604,17930,18256,18582,18908,19234,19560,19886,20212,20538,20864,21190,21516,21842,22168,22494,22820,23146,23472,23798,24124,24450,24776,25102,25428,25754,26080,26406,26732,27058,27384,27710,28036,28362,28688,29014,29340,29666,29992,30318,30644,30970,31296,31622,31948,32274,32600],\"yaxis\":\"y\",\"type\":\"scatter\"}],                        {\"template\":{\"data\":{\"histogram2dcontour\":[{\"type\":\"histogram2dcontour\",\"colorbar\":{\"outlinewidth\":0,\"ticks\":\"\"},\"colorscale\":[[0.0,\"#0d0887\"],[0.1111111111111111,\"#46039f\"],[0.2222222222222222,\"#7201a8\"],[0.3333333333333333,\"#9c179e\"],[0.4444444444444444,\"#bd3786\"],[0.5555555555555556,\"#d8576b\"],[0.6666666666666666,\"#ed7953\"],[0.7777777777777778,\"#fb9f3a\"],[0.8888888888888888,\"#fdca26\"],[1.0,\"#f0f921\"]]}],\"choropleth\":[{\"type\":\"choropleth\",\"colorbar\":{\"outlinewidth\":0,\"ticks\":\"\"}}],\"histogram2d\":[{\"type\":\"histogram2d\",\"colorbar\":{\"outlinewidth\":0,\"ticks\":\"\"},\"colorscale\":[[0.0,\"#0d0887\"],[0.1111111111111111,\"#46039f\"],[0.2222222222222222,\"#7201a8\"],[0.3333333333333333,\"#9c179e\"],[0.4444444444444444,\"#bd3786\"],[0.5555555555555556,\"#d8576b\"],[0.6666666666666666,\"#ed7953\"],[0.7777777777777778,\"#fb9f3a\"],[0.8888888888888888,\"#fdca26\"],[1.0,\"#f0f921\"]]}],\"heatmap\":[{\"type\":\"heatmap\",\"colorbar\":{\"outlinewidth\":0,\"ticks\":\"\"},\"colorscale\":[[0.0,\"#0d0887\"],[0.1111111111111111,\"#46039f\"],[0.2222222222222222,\"#7201a8\"],[0.3333333333333333,\"#9c179e\"],[0.4444444444444444,\"#bd3786\"],[0.5555555555555556,\"#d8576b\"],[0.6666666666666666,\"#ed7953\"],[0.7777777777777778,\"#fb9f3a\"],[0.8888888888888888,\"#fdca26\"],[1.0,\"#f0f921\"]]}],\"heatmapgl\":[{\"type\":\"heatmapgl\",\"colorbar\":{\"outlinewidth\":0,\"ticks\":\"\"},\"colorscale\":[[0.0,\"#0d0887\"],[0.1111111111111111,\"#46039f\"],[0.2222222222222222,\"#7201a8\"],[0.3333333333333333,\"#9c179e\"],[0.4444444444444444,\"#bd3786\"],[0.5555555555555556,\"#d8576b\"],[0.6666666666666666,\"#ed7953\"],[0.7777777777777778,\"#fb9f3a\"],[0.8888888888888888,\"#fdca26\"],[1.0,\"#f0f921\"]]}],\"contourcarpet\":[{\"type\":\"contourcarpet\",\"colorbar\":{\"outlinewidth\":0,\"ticks\":\"\"}}],\"contour\":[{\"type\":\"contour\",\"colorbar\":{\"outlinewidth\":0,\"ticks\":\"\"},\"colorscale\":[[0.0,\"#0d0887\"],[0.1111111111111111,\"#46039f\"],[0.2222222222222222,\"#7201a8\"],[0.3333333333333333,\"#9c179e\"],[0.4444444444444444,\"#bd3786\"],[0.5555555555555556,\"#d8576b\"],[0.6666666666666666,\"#ed7953\"],[0.7777777777777778,\"#fb9f3a\"],[0.8888888888888888,\"#fdca26\"],[1.0,\"#f0f921\"]]}],\"surface\":[{\"type\":\"surface\",\"colorbar\":{\"outlinewidth\":0,\"ticks\":\"\"},\"colorscale\":[[0.0,\"#0d0887\"],[0.1111111111111111,\"#46039f\"],[0.2222222222222222,\"#7201a8\"],[0.3333333333333333,\"#9c179e\"],[0.4444444444444444,\"#bd3786\"],[0.5555555555555556,\"#d8576b\"],[0.6666666666666666,\"#ed7953\"],[0.7777777777777778,\"#fb9f3a\"],[0.8888888888888888,\"#fdca26\"],[1.0,\"#f0f921\"]]}],\"mesh3d\":[{\"type\":\"mesh3d\",\"colorbar\":{\"outlinewidth\":0,\"ticks\":\"\"}}],\"scatter\":[{\"fillpattern\":{\"fillmode\":\"overlay\",\"size\":10,\"solidity\":0.2},\"type\":\"scatter\"}],\"parcoords\":[{\"type\":\"parcoords\",\"line\":{\"colorbar\":{\"outlinewidth\":0,\"ticks\":\"\"}}}],\"scatterpolargl\":[{\"type\":\"scatterpolargl\",\"marker\":{\"colorbar\":{\"outlinewidth\":0,\"ticks\":\"\"}}}],\"bar\":[{\"error_x\":{\"color\":\"#2a3f5f\"},\"error_y\":{\"color\":\"#2a3f5f\"},\"marker\":{\"line\":{\"color\":\"#E5ECF6\",\"width\":0.5},\"pattern\":{\"fillmode\":\"overlay\",\"size\":10,\"solidity\":0.2}},\"type\":\"bar\"}],\"scattergeo\":[{\"type\":\"scattergeo\",\"marker\":{\"colorbar\":{\"outlinewidth\":0,\"ticks\":\"\"}}}],\"scatterpolar\":[{\"type\":\"scatterpolar\",\"marker\":{\"colorbar\":{\"outlinewidth\":0,\"ticks\":\"\"}}}],\"histogram\":[{\"marker\":{\"pattern\":{\"fillmode\":\"overlay\",\"size\":10,\"solidity\":0.2}},\"type\":\"histogram\"}],\"scattergl\":[{\"type\":\"scattergl\",\"marker\":{\"colorbar\":{\"outlinewidth\":0,\"ticks\":\"\"}}}],\"scatter3d\":[{\"type\":\"scatter3d\",\"line\":{\"colorbar\":{\"outlinewidth\":0,\"ticks\":\"\"}},\"marker\":{\"colorbar\":{\"outlinewidth\":0,\"ticks\":\"\"}}}],\"scattermapbox\":[{\"type\":\"scattermapbox\",\"marker\":{\"colorbar\":{\"outlinewidth\":0,\"ticks\":\"\"}}}],\"scatterternary\":[{\"type\":\"scatterternary\",\"marker\":{\"colorbar\":{\"outlinewidth\":0,\"ticks\":\"\"}}}],\"scattercarpet\":[{\"type\":\"scattercarpet\",\"marker\":{\"colorbar\":{\"outlinewidth\":0,\"ticks\":\"\"}}}],\"carpet\":[{\"aaxis\":{\"endlinecolor\":\"#2a3f5f\",\"gridcolor\":\"white\",\"linecolor\":\"white\",\"minorgridcolor\":\"white\",\"startlinecolor\":\"#2a3f5f\"},\"baxis\":{\"endlinecolor\":\"#2a3f5f\",\"gridcolor\":\"white\",\"linecolor\":\"white\",\"minorgridcolor\":\"white\",\"startlinecolor\":\"#2a3f5f\"},\"type\":\"carpet\"}],\"table\":[{\"cells\":{\"fill\":{\"color\":\"#EBF0F8\"},\"line\":{\"color\":\"white\"}},\"header\":{\"fill\":{\"color\":\"#C8D4E3\"},\"line\":{\"color\":\"white\"}},\"type\":\"table\"}],\"barpolar\":[{\"marker\":{\"line\":{\"color\":\"#E5ECF6\",\"width\":0.5},\"pattern\":{\"fillmode\":\"overlay\",\"size\":10,\"solidity\":0.2}},\"type\":\"barpolar\"}],\"pie\":[{\"automargin\":true,\"type\":\"pie\"}]},\"layout\":{\"autotypenumbers\":\"strict\",\"colorway\":[\"#636efa\",\"#EF553B\",\"#00cc96\",\"#ab63fa\",\"#FFA15A\",\"#19d3f3\",\"#FF6692\",\"#B6E880\",\"#FF97FF\",\"#FECB52\"],\"font\":{\"color\":\"#2a3f5f\"},\"hovermode\":\"closest\",\"hoverlabel\":{\"align\":\"left\"},\"paper_bgcolor\":\"white\",\"plot_bgcolor\":\"#E5ECF6\",\"polar\":{\"bgcolor\":\"#E5ECF6\",\"angularaxis\":{\"gridcolor\":\"white\",\"linecolor\":\"white\",\"ticks\":\"\"},\"radialaxis\":{\"gridcolor\":\"white\",\"linecolor\":\"white\",\"ticks\":\"\"}},\"ternary\":{\"bgcolor\":\"#E5ECF6\",\"aaxis\":{\"gridcolor\":\"white\",\"linecolor\":\"white\",\"ticks\":\"\"},\"baxis\":{\"gridcolor\":\"white\",\"linecolor\":\"white\",\"ticks\":\"\"},\"caxis\":{\"gridcolor\":\"white\",\"linecolor\":\"white\",\"ticks\":\"\"}},\"coloraxis\":{\"colorbar\":{\"outlinewidth\":0,\"ticks\":\"\"}},\"colorscale\":{\"sequential\":[[0.0,\"#0d0887\"],[0.1111111111111111,\"#46039f\"],[0.2222222222222222,\"#7201a8\"],[0.3333333333333333,\"#9c179e\"],[0.4444444444444444,\"#bd3786\"],[0.5555555555555556,\"#d8576b\"],[0.6666666666666666,\"#ed7953\"],[0.7777777777777778,\"#fb9f3a\"],[0.8888888888888888,\"#fdca26\"],[1.0,\"#f0f921\"]],\"sequentialminus\":[[0.0,\"#0d0887\"],[0.1111111111111111,\"#46039f\"],[0.2222222222222222,\"#7201a8\"],[0.3333333333333333,\"#9c179e\"],[0.4444444444444444,\"#bd3786\"],[0.5555555555555556,\"#d8576b\"],[0.6666666666666666,\"#ed7953\"],[0.7777777777777778,\"#fb9f3a\"],[0.8888888888888888,\"#fdca26\"],[1.0,\"#f0f921\"]],\"diverging\":[[0,\"#8e0152\"],[0.1,\"#c51b7d\"],[0.2,\"#de77ae\"],[0.3,\"#f1b6da\"],[0.4,\"#fde0ef\"],[0.5,\"#f7f7f7\"],[0.6,\"#e6f5d0\"],[0.7,\"#b8e186\"],[0.8,\"#7fbc41\"],[0.9,\"#4d9221\"],[1,\"#276419\"]]},\"xaxis\":{\"gridcolor\":\"white\",\"linecolor\":\"white\",\"ticks\":\"\",\"title\":{\"standoff\":15},\"zerolinecolor\":\"white\",\"automargin\":true,\"zerolinewidth\":2},\"yaxis\":{\"gridcolor\":\"white\",\"linecolor\":\"white\",\"ticks\":\"\",\"title\":{\"standoff\":15},\"zerolinecolor\":\"white\",\"automargin\":true,\"zerolinewidth\":2},\"scene\":{\"xaxis\":{\"backgroundcolor\":\"#E5ECF6\",\"gridcolor\":\"white\",\"linecolor\":\"white\",\"showbackground\":true,\"ticks\":\"\",\"zerolinecolor\":\"white\",\"gridwidth\":2},\"yaxis\":{\"backgroundcolor\":\"#E5ECF6\",\"gridcolor\":\"white\",\"linecolor\":\"white\",\"showbackground\":true,\"ticks\":\"\",\"zerolinecolor\":\"white\",\"gridwidth\":2},\"zaxis\":{\"backgroundcolor\":\"#E5ECF6\",\"gridcolor\":\"white\",\"linecolor\":\"white\",\"showbackground\":true,\"ticks\":\"\",\"zerolinecolor\":\"white\",\"gridwidth\":2}},\"shapedefaults\":{\"line\":{\"color\":\"#2a3f5f\"}},\"annotationdefaults\":{\"arrowcolor\":\"#2a3f5f\",\"arrowhead\":0,\"arrowwidth\":1},\"geo\":{\"bgcolor\":\"white\",\"landcolor\":\"#E5ECF6\",\"subunitcolor\":\"white\",\"showland\":true,\"showlakes\":true,\"lakecolor\":\"white\"},\"title\":{\"x\":0.05},\"mapbox\":{\"style\":\"light\"}}},\"xaxis\":{\"anchor\":\"y\",\"domain\":[0.0,1.0],\"title\":{\"text\":\"index\"}},\"yaxis\":{\"anchor\":\"x\",\"domain\":[0.0,1.0],\"title\":{\"text\":\"value\"}},\"legend\":{\"title\":{\"text\":\"variable\"},\"tracegroupgap\":0},\"title\":{\"text\":\"Checkpoint Values for solu-6l-pile (Linear scale)\"}},                        {\"responsive\": true}                    ).then(function(){\n",
              "                            \n",
              "var gd = document.getElementById('440d9dd4-5051-445a-be32-9ad92e71921a');\n",
              "var x = new MutationObserver(function (mutations, observer) {{\n",
              "        var display = window.getComputedStyle(gd).display;\n",
              "        if (!display || display === 'none') {{\n",
              "            console.log([gd, 'removed!']);\n",
              "            Plotly.purge(gd);\n",
              "            observer.disconnect();\n",
              "        }}\n",
              "}});\n",
              "\n",
              "// Listen for the removal of the full notebook cells\n",
              "var notebookContainer = gd.closest('#notebook-container');\n",
              "if (notebookContainer) {{\n",
              "    x.observe(notebookContainer, {childList: true});\n",
              "}}\n",
              "\n",
              "// Listen for the clearing of the current output cell\n",
              "var outputEl = gd.closest('.output');\n",
              "if (outputEl) {{\n",
              "    x.observe(outputEl, {childList: true});\n",
              "}}\n",
              "\n",
              "                        })                };                            </script>        </div>\n",
              "</body>\n",
              "</html>"
            ]
          },
          "metadata": {},
          "output_type": "display_data"
        }
      ],
      "source": [
        "from transformer_lens.loading_from_pretrained import get_checkpoint_labels\n",
        "for model_name in [\"attn-only-2l\", \"solu-12l\", \"stanford-gpt2-small-a\"]:\n",
        "    checkpoint_labels, checkpoint_label_type = get_checkpoint_labels(model_name)\n",
        "    line(checkpoint_labels, xaxis=\"Checkpoint Index\", yaxis=f\"Checkpoint Value ({checkpoint_label_type})\", title=f\"Checkpoint Values for {model_name} (Log scale)\", log_y=True, markers=True)\n",
        "for model_name in [\"solu-1l-pile\", \"solu-6l-pile\"]:\n",
        "    checkpoint_labels, checkpoint_label_type = get_checkpoint_labels(model_name)\n",
        "    line(checkpoint_labels, xaxis=\"Checkpoint Index\", yaxis=f\"Checkpoint Value ({checkpoint_label_type})\", title=f\"Checkpoint Values for {model_name} (Linear scale)\", log_y=False, markers=True)"
      ]
    },
    {
      "cell_type": "markdown",
      "metadata": {
        "id": "bZLFa-kMyWSQ"
      },
      "source": [
        "### Example: Induction Head Phase Transition"
      ]
    },
    {
      "cell_type": "markdown",
      "metadata": {
        "id": "uzmbLeq7yWSQ"
      },
      "source": [
        "One of the more interesting results analysing circuit formation during training is the [induction head phase transition](https://transformer-circuits.pub/2022/in-context-learning-and-induction-heads/index.html). They find a pretty dramatic shift in models during training - there's a brief period where models go from not having induction heads to having them, which leads to the models suddenly becoming much better at in-context learning (using far back tokens to predict the next token, eg over 500 words back). This is enough of a big deal that it leads to a visible *bump* in the loss curve, where the model's rate of improvement briefly increases. "
      ]
    },
    {
      "cell_type": "markdown",
      "metadata": {
        "id": "7fOuPl5jyWSQ"
      },
      "source": [
        "As a brief demonstration of the existence of the phase transition, let's load some checkpoints of a two layer model, and see whether they have induction heads. An easy test, as we used above, is to give the model a repeated sequence of random tokens, and to check how good its loss is on the second half. `evals.induction_loss` is a rough util that runs this test on a model.\n",
        "(Note - this is deliberately a rough, non-rigorous test for the purposes of demonstration, eg `evals.induction_loss` by default just runs it on 4 sequences of 384 tokens repeated twice. These results totally don't do the paper justice - go check it out if you want to see the full results!)"
      ]
    },
    {
      "cell_type": "markdown",
      "metadata": {
        "id": "kuApIpS8yWSQ"
      },
      "source": [
        "In the interests of time and memory, let's look at a handful of checkpoints (chosen to be around the phase change), indices `[10, 25, 35, 60, -1]`. These are roughly 22M, 200M, 500M, 1.6B and 21.8B tokens through training, respectively. (I generally recommend looking things up based on indices, rather than checkpoint value!). "
      ]
    },
    {
      "cell_type": "code",
      "execution_count": null,
      "metadata": {
        "id": "u8P3pob2yWSR"
      },
      "outputs": [],
      "source": [
        "from transformer_lens import evals\n",
        "# We use the two layer model with SoLU activations, chosen fairly arbitrarily as being both small (so fast to download and keep in memory) and pretty good at the induction task.\n",
        "model_name = \"solu-2l\"\n",
        "# We can load a model from a checkpoint by specifying the checkpoint_index, -1 means the final checkpoint\n",
        "checkpoint_indices = [10, 25, 35, 60, -1]\n",
        "checkpointed_models = []\n",
        "tokens_trained_on = []\n",
        "induction_losses = []"
      ]
    },
    {
      "cell_type": "markdown",
      "metadata": {
        "id": "L6rq-1FWyWSR"
      },
      "source": [
        "We load the models, cache them in a list, and "
      ]
    },
    {
      "cell_type": "code",
      "execution_count": null,
      "metadata": {
        "id": "hvFlRfWzyWSR",
        "outputId": "6a6b1da6-bb06-4721-f2d1-855b8b635242"
      },
      "outputs": [
        {
          "name": "stdout",
          "output_type": "stream",
          "text": [
            "Loaded pretrained model solu-2l into HookedTransformer\n",
            "Loaded pretrained model solu-2l into HookedTransformer\n",
            "Loaded pretrained model solu-2l into HookedTransformer\n",
            "Loaded pretrained model solu-2l into HookedTransformer\n",
            "Loaded pretrained model solu-2l into HookedTransformer\n"
          ]
        }
      ],
      "source": [
        "for index in checkpoint_indices:\n",
        "    # Load the model from the relevant checkpoint by index\n",
        "    model_for_this_checkpoint = HookedTransformer.from_pretrained(model_name, checkpoint_index=index)\n",
        "    checkpointed_models.append(model_for_this_checkpoint)\n",
        "\n",
        "    tokens_seen_for_this_checkpoint = model_for_this_checkpoint.cfg.checkpoint_value\n",
        "    tokens_trained_on.append(tokens_seen_for_this_checkpoint)\n",
        "\n",
        "    induction_loss_for_this_checkpoint = evals.induction_loss(model_for_this_checkpoint).item()\n",
        "    induction_losses.append(induction_loss_for_this_checkpoint)"
      ]
    },
    {
      "cell_type": "markdown",
      "metadata": {
        "id": "WDaP85KdyWSR"
      },
      "source": [
        "We can plot this, and see there's a sharp shift from ~200-500M tokens trained on (note the log scale on the x axis). Interestingly, this is notably earlier than the phase transition in the paper, I'm not sure what's up with that.\n",
        "\n",
        "(To contextualise the numbers, the tokens in the random sequence are uniformly chosen from the first 20,000 tokens (out of ~48,000 total), so random performance is at least $\\ln(20000)\\approx 10$. A naive strategy like \"randomly choose a token that's already appeared in the first half of the sequence (384 elements)\" would get $\\ln(384)\\approx 5.95$, so the model is doing pretty well here.)"
      ]
    },
    {
      "cell_type": "code",
      "execution_count": null,
      "metadata": {
        "id": "54dqM0CryWSR",
        "outputId": "40805a5d-fdb1-47b1-e059-2d0ca4010ac9"
      },
      "outputs": [
        {
          "data": {
            "text/html": [
              "<html>\n",
              "<head><meta charset=\"utf-8\" /></head>\n",
              "<body>\n",
              "    <div>            <script src=\"https://cdnjs.cloudflare.com/ajax/libs/mathjax/2.7.5/MathJax.js?config=TeX-AMS-MML_SVG\"></script><script type=\"text/javascript\">if (window.MathJax && window.MathJax.Hub && window.MathJax.Hub.Config) {window.MathJax.Hub.Config({SVG: {font: \"STIX-Web\"}});}</script>                <script type=\"text/javascript\">window.PlotlyConfig = {MathJaxConfig: 'local'};</script>\n",
              "        <script src=\"https://cdn.plot.ly/plotly-2.16.1.min.js\"></script>                <div id=\"6e70a192-5d22-459b-9b0e-f6d00be0bd1e\" class=\"plotly-graph-div\" style=\"height:525px; width:100%;\"></div>            <script type=\"text/javascript\">                                    window.PLOTLYENV=window.PLOTLYENV || {};                                    if (document.getElementById(\"6e70a192-5d22-459b-9b0e-f6d00be0bd1e\")) {                    Plotly.newPlot(                        \"6e70a192-5d22-459b-9b0e-f6d00be0bd1e\",                        [{\"hovertemplate\":\"Tokens Trained On=%{x}<br>index=%{y}<extra></extra>\",\"legendgroup\":\"\",\"line\":{\"color\":\"#636efa\",\"dash\":\"solid\"},\"marker\":{\"symbol\":\"circle\"},\"mode\":\"markers+lines\",\"name\":\"\",\"orientation\":\"h\",\"showlegend\":false,\"x\":[22282240,187432960,528482304,1628438528,21780496384],\"xaxis\":\"x\",\"y\":[0,1,2,3,4],\"yaxis\":\"y\",\"type\":\"scatter\"}],                        {\"template\":{\"data\":{\"histogram2dcontour\":[{\"type\":\"histogram2dcontour\",\"colorbar\":{\"outlinewidth\":0,\"ticks\":\"\"},\"colorscale\":[[0.0,\"#0d0887\"],[0.1111111111111111,\"#46039f\"],[0.2222222222222222,\"#7201a8\"],[0.3333333333333333,\"#9c179e\"],[0.4444444444444444,\"#bd3786\"],[0.5555555555555556,\"#d8576b\"],[0.6666666666666666,\"#ed7953\"],[0.7777777777777778,\"#fb9f3a\"],[0.8888888888888888,\"#fdca26\"],[1.0,\"#f0f921\"]]}],\"choropleth\":[{\"type\":\"choropleth\",\"colorbar\":{\"outlinewidth\":0,\"ticks\":\"\"}}],\"histogram2d\":[{\"type\":\"histogram2d\",\"colorbar\":{\"outlinewidth\":0,\"ticks\":\"\"},\"colorscale\":[[0.0,\"#0d0887\"],[0.1111111111111111,\"#46039f\"],[0.2222222222222222,\"#7201a8\"],[0.3333333333333333,\"#9c179e\"],[0.4444444444444444,\"#bd3786\"],[0.5555555555555556,\"#d8576b\"],[0.6666666666666666,\"#ed7953\"],[0.7777777777777778,\"#fb9f3a\"],[0.8888888888888888,\"#fdca26\"],[1.0,\"#f0f921\"]]}],\"heatmap\":[{\"type\":\"heatmap\",\"colorbar\":{\"outlinewidth\":0,\"ticks\":\"\"},\"colorscale\":[[0.0,\"#0d0887\"],[0.1111111111111111,\"#46039f\"],[0.2222222222222222,\"#7201a8\"],[0.3333333333333333,\"#9c179e\"],[0.4444444444444444,\"#bd3786\"],[0.5555555555555556,\"#d8576b\"],[0.6666666666666666,\"#ed7953\"],[0.7777777777777778,\"#fb9f3a\"],[0.8888888888888888,\"#fdca26\"],[1.0,\"#f0f921\"]]}],\"heatmapgl\":[{\"type\":\"heatmapgl\",\"colorbar\":{\"outlinewidth\":0,\"ticks\":\"\"},\"colorscale\":[[0.0,\"#0d0887\"],[0.1111111111111111,\"#46039f\"],[0.2222222222222222,\"#7201a8\"],[0.3333333333333333,\"#9c179e\"],[0.4444444444444444,\"#bd3786\"],[0.5555555555555556,\"#d8576b\"],[0.6666666666666666,\"#ed7953\"],[0.7777777777777778,\"#fb9f3a\"],[0.8888888888888888,\"#fdca26\"],[1.0,\"#f0f921\"]]}],\"contourcarpet\":[{\"type\":\"contourcarpet\",\"colorbar\":{\"outlinewidth\":0,\"ticks\":\"\"}}],\"contour\":[{\"type\":\"contour\",\"colorbar\":{\"outlinewidth\":0,\"ticks\":\"\"},\"colorscale\":[[0.0,\"#0d0887\"],[0.1111111111111111,\"#46039f\"],[0.2222222222222222,\"#7201a8\"],[0.3333333333333333,\"#9c179e\"],[0.4444444444444444,\"#bd3786\"],[0.5555555555555556,\"#d8576b\"],[0.6666666666666666,\"#ed7953\"],[0.7777777777777778,\"#fb9f3a\"],[0.8888888888888888,\"#fdca26\"],[1.0,\"#f0f921\"]]}],\"surface\":[{\"type\":\"surface\",\"colorbar\":{\"outlinewidth\":0,\"ticks\":\"\"},\"colorscale\":[[0.0,\"#0d0887\"],[0.1111111111111111,\"#46039f\"],[0.2222222222222222,\"#7201a8\"],[0.3333333333333333,\"#9c179e\"],[0.4444444444444444,\"#bd3786\"],[0.5555555555555556,\"#d8576b\"],[0.6666666666666666,\"#ed7953\"],[0.7777777777777778,\"#fb9f3a\"],[0.8888888888888888,\"#fdca26\"],[1.0,\"#f0f921\"]]}],\"mesh3d\":[{\"type\":\"mesh3d\",\"colorbar\":{\"outlinewidth\":0,\"ticks\":\"\"}}],\"scatter\":[{\"fillpattern\":{\"fillmode\":\"overlay\",\"size\":10,\"solidity\":0.2},\"type\":\"scatter\"}],\"parcoords\":[{\"type\":\"parcoords\",\"line\":{\"colorbar\":{\"outlinewidth\":0,\"ticks\":\"\"}}}],\"scatterpolargl\":[{\"type\":\"scatterpolargl\",\"marker\":{\"colorbar\":{\"outlinewidth\":0,\"ticks\":\"\"}}}],\"bar\":[{\"error_x\":{\"color\":\"#2a3f5f\"},\"error_y\":{\"color\":\"#2a3f5f\"},\"marker\":{\"line\":{\"color\":\"#E5ECF6\",\"width\":0.5},\"pattern\":{\"fillmode\":\"overlay\",\"size\":10,\"solidity\":0.2}},\"type\":\"bar\"}],\"scattergeo\":[{\"type\":\"scattergeo\",\"marker\":{\"colorbar\":{\"outlinewidth\":0,\"ticks\":\"\"}}}],\"scatterpolar\":[{\"type\":\"scatterpolar\",\"marker\":{\"colorbar\":{\"outlinewidth\":0,\"ticks\":\"\"}}}],\"histogram\":[{\"marker\":{\"pattern\":{\"fillmode\":\"overlay\",\"size\":10,\"solidity\":0.2}},\"type\":\"histogram\"}],\"scattergl\":[{\"type\":\"scattergl\",\"marker\":{\"colorbar\":{\"outlinewidth\":0,\"ticks\":\"\"}}}],\"scatter3d\":[{\"type\":\"scatter3d\",\"line\":{\"colorbar\":{\"outlinewidth\":0,\"ticks\":\"\"}},\"marker\":{\"colorbar\":{\"outlinewidth\":0,\"ticks\":\"\"}}}],\"scattermapbox\":[{\"type\":\"scattermapbox\",\"marker\":{\"colorbar\":{\"outlinewidth\":0,\"ticks\":\"\"}}}],\"scatterternary\":[{\"type\":\"scatterternary\",\"marker\":{\"colorbar\":{\"outlinewidth\":0,\"ticks\":\"\"}}}],\"scattercarpet\":[{\"type\":\"scattercarpet\",\"marker\":{\"colorbar\":{\"outlinewidth\":0,\"ticks\":\"\"}}}],\"carpet\":[{\"aaxis\":{\"endlinecolor\":\"#2a3f5f\",\"gridcolor\":\"white\",\"linecolor\":\"white\",\"minorgridcolor\":\"white\",\"startlinecolor\":\"#2a3f5f\"},\"baxis\":{\"endlinecolor\":\"#2a3f5f\",\"gridcolor\":\"white\",\"linecolor\":\"white\",\"minorgridcolor\":\"white\",\"startlinecolor\":\"#2a3f5f\"},\"type\":\"carpet\"}],\"table\":[{\"cells\":{\"fill\":{\"color\":\"#EBF0F8\"},\"line\":{\"color\":\"white\"}},\"header\":{\"fill\":{\"color\":\"#C8D4E3\"},\"line\":{\"color\":\"white\"}},\"type\":\"table\"}],\"barpolar\":[{\"marker\":{\"line\":{\"color\":\"#E5ECF6\",\"width\":0.5},\"pattern\":{\"fillmode\":\"overlay\",\"size\":10,\"solidity\":0.2}},\"type\":\"barpolar\"}],\"pie\":[{\"automargin\":true,\"type\":\"pie\"}]},\"layout\":{\"autotypenumbers\":\"strict\",\"colorway\":[\"#636efa\",\"#EF553B\",\"#00cc96\",\"#ab63fa\",\"#FFA15A\",\"#19d3f3\",\"#FF6692\",\"#B6E880\",\"#FF97FF\",\"#FECB52\"],\"font\":{\"color\":\"#2a3f5f\"},\"hovermode\":\"closest\",\"hoverlabel\":{\"align\":\"left\"},\"paper_bgcolor\":\"white\",\"plot_bgcolor\":\"#E5ECF6\",\"polar\":{\"bgcolor\":\"#E5ECF6\",\"angularaxis\":{\"gridcolor\":\"white\",\"linecolor\":\"white\",\"ticks\":\"\"},\"radialaxis\":{\"gridcolor\":\"white\",\"linecolor\":\"white\",\"ticks\":\"\"}},\"ternary\":{\"bgcolor\":\"#E5ECF6\",\"aaxis\":{\"gridcolor\":\"white\",\"linecolor\":\"white\",\"ticks\":\"\"},\"baxis\":{\"gridcolor\":\"white\",\"linecolor\":\"white\",\"ticks\":\"\"},\"caxis\":{\"gridcolor\":\"white\",\"linecolor\":\"white\",\"ticks\":\"\"}},\"coloraxis\":{\"colorbar\":{\"outlinewidth\":0,\"ticks\":\"\"}},\"colorscale\":{\"sequential\":[[0.0,\"#0d0887\"],[0.1111111111111111,\"#46039f\"],[0.2222222222222222,\"#7201a8\"],[0.3333333333333333,\"#9c179e\"],[0.4444444444444444,\"#bd3786\"],[0.5555555555555556,\"#d8576b\"],[0.6666666666666666,\"#ed7953\"],[0.7777777777777778,\"#fb9f3a\"],[0.8888888888888888,\"#fdca26\"],[1.0,\"#f0f921\"]],\"sequentialminus\":[[0.0,\"#0d0887\"],[0.1111111111111111,\"#46039f\"],[0.2222222222222222,\"#7201a8\"],[0.3333333333333333,\"#9c179e\"],[0.4444444444444444,\"#bd3786\"],[0.5555555555555556,\"#d8576b\"],[0.6666666666666666,\"#ed7953\"],[0.7777777777777778,\"#fb9f3a\"],[0.8888888888888888,\"#fdca26\"],[1.0,\"#f0f921\"]],\"diverging\":[[0,\"#8e0152\"],[0.1,\"#c51b7d\"],[0.2,\"#de77ae\"],[0.3,\"#f1b6da\"],[0.4,\"#fde0ef\"],[0.5,\"#f7f7f7\"],[0.6,\"#e6f5d0\"],[0.7,\"#b8e186\"],[0.8,\"#7fbc41\"],[0.9,\"#4d9221\"],[1,\"#276419\"]]},\"xaxis\":{\"gridcolor\":\"white\",\"linecolor\":\"white\",\"ticks\":\"\",\"title\":{\"standoff\":15},\"zerolinecolor\":\"white\",\"automargin\":true,\"zerolinewidth\":2},\"yaxis\":{\"gridcolor\":\"white\",\"linecolor\":\"white\",\"ticks\":\"\",\"title\":{\"standoff\":15},\"zerolinecolor\":\"white\",\"automargin\":true,\"zerolinewidth\":2},\"scene\":{\"xaxis\":{\"backgroundcolor\":\"#E5ECF6\",\"gridcolor\":\"white\",\"linecolor\":\"white\",\"showbackground\":true,\"ticks\":\"\",\"zerolinecolor\":\"white\",\"gridwidth\":2},\"yaxis\":{\"backgroundcolor\":\"#E5ECF6\",\"gridcolor\":\"white\",\"linecolor\":\"white\",\"showbackground\":true,\"ticks\":\"\",\"zerolinecolor\":\"white\",\"gridwidth\":2},\"zaxis\":{\"backgroundcolor\":\"#E5ECF6\",\"gridcolor\":\"white\",\"linecolor\":\"white\",\"showbackground\":true,\"ticks\":\"\",\"zerolinecolor\":\"white\",\"gridwidth\":2}},\"shapedefaults\":{\"line\":{\"color\":\"#2a3f5f\"}},\"annotationdefaults\":{\"arrowcolor\":\"#2a3f5f\",\"arrowhead\":0,\"arrowwidth\":1},\"geo\":{\"bgcolor\":\"white\",\"landcolor\":\"#E5ECF6\",\"subunitcolor\":\"white\",\"showland\":true,\"showlakes\":true,\"lakecolor\":\"white\"},\"title\":{\"x\":0.05},\"mapbox\":{\"style\":\"light\"}}},\"xaxis\":{\"anchor\":\"y\",\"domain\":[0.0,1.0],\"title\":{\"text\":\"Tokens Trained On\"},\"type\":\"log\"},\"yaxis\":{\"anchor\":\"x\",\"domain\":[0.0,1.0],\"title\":{\"text\":\"index\"}},\"legend\":{\"tracegroupgap\":0},\"title\":{\"text\":\"Induction Loss over training: solu-2l\"}},                        {\"responsive\": true}                    ).then(function(){\n",
              "                            \n",
              "var gd = document.getElementById('6e70a192-5d22-459b-9b0e-f6d00be0bd1e');\n",
              "var x = new MutationObserver(function (mutations, observer) {{\n",
              "        var display = window.getComputedStyle(gd).display;\n",
              "        if (!display || display === 'none') {{\n",
              "            console.log([gd, 'removed!']);\n",
              "            Plotly.purge(gd);\n",
              "            observer.disconnect();\n",
              "        }}\n",
              "}});\n",
              "\n",
              "// Listen for the removal of the full notebook cells\n",
              "var notebookContainer = gd.closest('#notebook-container');\n",
              "if (notebookContainer) {{\n",
              "    x.observe(notebookContainer, {childList: true});\n",
              "}}\n",
              "\n",
              "// Listen for the clearing of the current output cell\n",
              "var outputEl = gd.closest('.output');\n",
              "if (outputEl) {{\n",
              "    x.observe(outputEl, {childList: true});\n",
              "}}\n",
              "\n",
              "                        })                };                            </script>        </div>\n",
              "</body>\n",
              "</html>"
            ]
          },
          "metadata": {},
          "output_type": "display_data"
        }
      ],
      "source": [
        "line(induction_losses, x=tokens_trained_on, xaxis=\"Tokens Trained On\", yaxis=\"Induction Loss\", title=\"Induction Loss over training: solu-2l\", markers=True, log_x=True)"
      ]
    }
  ],
  "metadata": {
    "kernelspec": {
      "display_name": ".venv",
      "language": "python",
      "name": "python3"
    },
    "language_info": {
      "codemirror_mode": {
        "name": "ipython",
        "version": 3
      },
      "file_extension": ".py",
      "mimetype": "text/x-python",
      "name": "python",
      "nbconvert_exporter": "python",
      "pygments_lexer": "ipython3",
      "version": "3.9.14"
    },
    "orig_nbformat": 4,
    "vscode": {
      "interpreter": {
        "hash": "eb812820b5094695c8a581672e17220e30dd2c15d704c018326e3cc2e1a566f1"
      }
    },
    "colab": {
      "provenance": []
    },
    "accelerator": "GPU",
    "gpuClass": "standard",
    "widgets": {
      "application/vnd.jupyter.widget-state+json": {
        "92b9ae26383c42268cbb7e97e219ce29": {
          "model_module": "@jupyter-widgets/controls",
          "model_name": "HBoxModel",
          "model_module_version": "1.5.0",
          "state": {
            "_dom_classes": [],
            "_model_module": "@jupyter-widgets/controls",
            "_model_module_version": "1.5.0",
            "_model_name": "HBoxModel",
            "_view_count": null,
            "_view_module": "@jupyter-widgets/controls",
            "_view_module_version": "1.5.0",
            "_view_name": "HBoxView",
            "box_style": "",
            "children": [
              "IPY_MODEL_3243765efe044d0babd59e13881540e1",
              "IPY_MODEL_cd957470ff804158a56db93b1577b125",
              "IPY_MODEL_a29e6d3fb7364c46b2cee23b2d784fd3"
            ],
            "layout": "IPY_MODEL_971f10493f0446778098cbe331c91867"
          }
        },
        "3243765efe044d0babd59e13881540e1": {
          "model_module": "@jupyter-widgets/controls",
          "model_name": "HTMLModel",
          "model_module_version": "1.5.0",
          "state": {
            "_dom_classes": [],
            "_model_module": "@jupyter-widgets/controls",
            "_model_module_version": "1.5.0",
            "_model_name": "HTMLModel",
            "_view_count": null,
            "_view_module": "@jupyter-widgets/controls",
            "_view_module_version": "1.5.0",
            "_view_name": "HTMLView",
            "description": "",
            "description_tooltip": null,
            "layout": "IPY_MODEL_33d5b6acb3ae4145876430b1691154cb",
            "placeholder": "​",
            "style": "IPY_MODEL_be7ab7e586a641b9971dc73c1852dd2b",
            "value": "100%"
          }
        },
        "cd957470ff804158a56db93b1577b125": {
          "model_module": "@jupyter-widgets/controls",
          "model_name": "FloatProgressModel",
          "model_module_version": "1.5.0",
          "state": {
            "_dom_classes": [],
            "_model_module": "@jupyter-widgets/controls",
            "_model_module_version": "1.5.0",
            "_model_name": "FloatProgressModel",
            "_view_count": null,
            "_view_module": "@jupyter-widgets/controls",
            "_view_module_version": "1.5.0",
            "_view_name": "ProgressView",
            "bar_style": "success",
            "description": "",
            "description_tooltip": null,
            "layout": "IPY_MODEL_7bb18259ee4b49b6a5826575694914e1",
            "max": 12,
            "min": 0,
            "orientation": "horizontal",
            "style": "IPY_MODEL_8f3c332460d1475bab90430472013ec9",
            "value": 12
          }
        },
        "a29e6d3fb7364c46b2cee23b2d784fd3": {
          "model_module": "@jupyter-widgets/controls",
          "model_name": "HTMLModel",
          "model_module_version": "1.5.0",
          "state": {
            "_dom_classes": [],
            "_model_module": "@jupyter-widgets/controls",
            "_model_module_version": "1.5.0",
            "_model_name": "HTMLModel",
            "_view_count": null,
            "_view_module": "@jupyter-widgets/controls",
            "_view_module_version": "1.5.0",
            "_view_name": "HTMLView",
            "description": "",
            "description_tooltip": null,
            "layout": "IPY_MODEL_a6fcc0f0cd5446d488f01fbe5a09265d",
            "placeholder": "​",
            "style": "IPY_MODEL_44c9899e9dea455695021366863511ad",
            "value": " 12/12 [00:01&lt;00:00,  7.44it/s]"
          }
        },
        "971f10493f0446778098cbe331c91867": {
          "model_module": "@jupyter-widgets/base",
          "model_name": "LayoutModel",
          "model_module_version": "1.2.0",
          "state": {
            "_model_module": "@jupyter-widgets/base",
            "_model_module_version": "1.2.0",
            "_model_name": "LayoutModel",
            "_view_count": null,
            "_view_module": "@jupyter-widgets/base",
            "_view_module_version": "1.2.0",
            "_view_name": "LayoutView",
            "align_content": null,
            "align_items": null,
            "align_self": null,
            "border": null,
            "bottom": null,
            "display": null,
            "flex": null,
            "flex_flow": null,
            "grid_area": null,
            "grid_auto_columns": null,
            "grid_auto_flow": null,
            "grid_auto_rows": null,
            "grid_column": null,
            "grid_gap": null,
            "grid_row": null,
            "grid_template_areas": null,
            "grid_template_columns": null,
            "grid_template_rows": null,
            "height": null,
            "justify_content": null,
            "justify_items": null,
            "left": null,
            "margin": null,
            "max_height": null,
            "max_width": null,
            "min_height": null,
            "min_width": null,
            "object_fit": null,
            "object_position": null,
            "order": null,
            "overflow": null,
            "overflow_x": null,
            "overflow_y": null,
            "padding": null,
            "right": null,
            "top": null,
            "visibility": null,
            "width": null
          }
        },
        "33d5b6acb3ae4145876430b1691154cb": {
          "model_module": "@jupyter-widgets/base",
          "model_name": "LayoutModel",
          "model_module_version": "1.2.0",
          "state": {
            "_model_module": "@jupyter-widgets/base",
            "_model_module_version": "1.2.0",
            "_model_name": "LayoutModel",
            "_view_count": null,
            "_view_module": "@jupyter-widgets/base",
            "_view_module_version": "1.2.0",
            "_view_name": "LayoutView",
            "align_content": null,
            "align_items": null,
            "align_self": null,
            "border": null,
            "bottom": null,
            "display": null,
            "flex": null,
            "flex_flow": null,
            "grid_area": null,
            "grid_auto_columns": null,
            "grid_auto_flow": null,
            "grid_auto_rows": null,
            "grid_column": null,
            "grid_gap": null,
            "grid_row": null,
            "grid_template_areas": null,
            "grid_template_columns": null,
            "grid_template_rows": null,
            "height": null,
            "justify_content": null,
            "justify_items": null,
            "left": null,
            "margin": null,
            "max_height": null,
            "max_width": null,
            "min_height": null,
            "min_width": null,
            "object_fit": null,
            "object_position": null,
            "order": null,
            "overflow": null,
            "overflow_x": null,
            "overflow_y": null,
            "padding": null,
            "right": null,
            "top": null,
            "visibility": null,
            "width": null
          }
        },
        "be7ab7e586a641b9971dc73c1852dd2b": {
          "model_module": "@jupyter-widgets/controls",
          "model_name": "DescriptionStyleModel",
          "model_module_version": "1.5.0",
          "state": {
            "_model_module": "@jupyter-widgets/controls",
            "_model_module_version": "1.5.0",
            "_model_name": "DescriptionStyleModel",
            "_view_count": null,
            "_view_module": "@jupyter-widgets/base",
            "_view_module_version": "1.2.0",
            "_view_name": "StyleView",
            "description_width": ""
          }
        },
        "7bb18259ee4b49b6a5826575694914e1": {
          "model_module": "@jupyter-widgets/base",
          "model_name": "LayoutModel",
          "model_module_version": "1.2.0",
          "state": {
            "_model_module": "@jupyter-widgets/base",
            "_model_module_version": "1.2.0",
            "_model_name": "LayoutModel",
            "_view_count": null,
            "_view_module": "@jupyter-widgets/base",
            "_view_module_version": "1.2.0",
            "_view_name": "LayoutView",
            "align_content": null,
            "align_items": null,
            "align_self": null,
            "border": null,
            "bottom": null,
            "display": null,
            "flex": null,
            "flex_flow": null,
            "grid_area": null,
            "grid_auto_columns": null,
            "grid_auto_flow": null,
            "grid_auto_rows": null,
            "grid_column": null,
            "grid_gap": null,
            "grid_row": null,
            "grid_template_areas": null,
            "grid_template_columns": null,
            "grid_template_rows": null,
            "height": null,
            "justify_content": null,
            "justify_items": null,
            "left": null,
            "margin": null,
            "max_height": null,
            "max_width": null,
            "min_height": null,
            "min_width": null,
            "object_fit": null,
            "object_position": null,
            "order": null,
            "overflow": null,
            "overflow_x": null,
            "overflow_y": null,
            "padding": null,
            "right": null,
            "top": null,
            "visibility": null,
            "width": null
          }
        },
        "8f3c332460d1475bab90430472013ec9": {
          "model_module": "@jupyter-widgets/controls",
          "model_name": "ProgressStyleModel",
          "model_module_version": "1.5.0",
          "state": {
            "_model_module": "@jupyter-widgets/controls",
            "_model_module_version": "1.5.0",
            "_model_name": "ProgressStyleModel",
            "_view_count": null,
            "_view_module": "@jupyter-widgets/base",
            "_view_module_version": "1.2.0",
            "_view_name": "StyleView",
            "bar_color": null,
            "description_width": ""
          }
        },
        "a6fcc0f0cd5446d488f01fbe5a09265d": {
          "model_module": "@jupyter-widgets/base",
          "model_name": "LayoutModel",
          "model_module_version": "1.2.0",
          "state": {
            "_model_module": "@jupyter-widgets/base",
            "_model_module_version": "1.2.0",
            "_model_name": "LayoutModel",
            "_view_count": null,
            "_view_module": "@jupyter-widgets/base",
            "_view_module_version": "1.2.0",
            "_view_name": "LayoutView",
            "align_content": null,
            "align_items": null,
            "align_self": null,
            "border": null,
            "bottom": null,
            "display": null,
            "flex": null,
            "flex_flow": null,
            "grid_area": null,
            "grid_auto_columns": null,
            "grid_auto_flow": null,
            "grid_auto_rows": null,
            "grid_column": null,
            "grid_gap": null,
            "grid_row": null,
            "grid_template_areas": null,
            "grid_template_columns": null,
            "grid_template_rows": null,
            "height": null,
            "justify_content": null,
            "justify_items": null,
            "left": null,
            "margin": null,
            "max_height": null,
            "max_width": null,
            "min_height": null,
            "min_width": null,
            "object_fit": null,
            "object_position": null,
            "order": null,
            "overflow": null,
            "overflow_x": null,
            "overflow_y": null,
            "padding": null,
            "right": null,
            "top": null,
            "visibility": null,
            "width": null
          }
        },
        "44c9899e9dea455695021366863511ad": {
          "model_module": "@jupyter-widgets/controls",
          "model_name": "DescriptionStyleModel",
          "model_module_version": "1.5.0",
          "state": {
            "_model_module": "@jupyter-widgets/controls",
            "_model_module_version": "1.5.0",
            "_model_name": "DescriptionStyleModel",
            "_view_count": null,
            "_view_module": "@jupyter-widgets/base",
            "_view_module_version": "1.2.0",
            "_view_name": "StyleView",
            "description_width": ""
          }
        }
      }
    }
  },
  "nbformat": 4,
  "nbformat_minor": 0
}